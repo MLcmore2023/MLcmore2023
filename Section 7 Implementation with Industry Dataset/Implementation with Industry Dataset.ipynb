{
 "cells": [
  {
   "cell_type": "markdown",
   "id": "dc553bf2",
   "metadata": {
    "id": "dc553bf2"
   },
   "source": [
    "# An Implementation with Nestle's Real Industry Dataset"
   ]
  },
  {
   "cell_type": "markdown",
   "id": "1bb8f2d9",
   "metadata": {
    "id": "1bb8f2d9"
   },
   "source": [
    "## 1. Introduction"
   ]
  },
  {
   "cell_type": "markdown",
   "id": "7b1dc8e9",
   "metadata": {
    "id": "7b1dc8e9"
   },
   "source": [
    "The dataset at hand is a comprehensive sales record dataset provided by Nestle, a renowned consumer goods company. This dataset aims to facilitate the prediction of item sales quantities in each unit (EA) using various informative features. The dataset encompasses a wide range of variables that provide insights into the sales dynamics and factors influencing consumer behavior.\n",
    "\n",
    "**Please read the guideline of the dataset!**"
   ]
  },
  {
   "cell_type": "markdown",
   "id": "97255f4a",
   "metadata": {
    "id": "97255f4a"
   },
   "source": [
    "## 2. Preparation"
   ]
  },
  {
   "cell_type": "markdown",
   "id": "2558dfd9",
   "metadata": {
    "id": "2558dfd9"
   },
   "source": [
    "### 2.1 Import library"
   ]
  },
  {
   "cell_type": "code",
   "execution_count": 1,
   "id": "70ee8afa",
   "metadata": {
    "id": "70ee8afa"
   },
   "outputs": [],
   "source": [
    "import pandas as pd\n",
    "import numpy as np\n",
    "import matplotlib.pyplot as plt\n",
    "from matplotlib import pyplot\n",
    "import seaborn as sns\n",
    "import warnings\n",
    "\n",
    "# Ignore all warnings\n",
    "warnings.filterwarnings(\"ignore\")"
   ]
  },
  {
   "cell_type": "markdown",
   "id": "4475035a",
   "metadata": {
    "id": "4475035a"
   },
   "source": [
    "### 2.2 Load and explore the dataset"
   ]
  },
  {
   "cell_type": "code",
   "execution_count": 2,
   "id": "n2lIvawB2Jkh",
   "metadata": {
    "colab": {
     "base_uri": "https://localhost:8080/"
    },
    "executionInfo": {
     "elapsed": 1454,
     "status": "ok",
     "timestamp": 1689011342400,
     "user": {
      "displayName": "Bruce Li",
      "userId": "06671431910158180807"
     },
     "user_tz": 240
    },
    "id": "n2lIvawB2Jkh",
    "outputId": "4864fa56-8a5b-46d6-8082-6a4595a17aa2"
   },
   "outputs": [
    {
     "name": "stdout",
     "output_type": "stream",
     "text": [
      "Cloning into 'MLcmore2023'...\n",
      "remote: Enumerating objects: 285, done.\u001b[K\n",
      "remote: Counting objects: 100% (156/156), done.\u001b[K\n",
      "remote: Compressing objects: 100% (123/123), done.\u001b[K\n",
      "remote: Total 285 (delta 62), reused 110 (delta 29), pack-reused 129\u001b[K\n",
      "Receiving objects: 100% (285/285), 91.09 MiB | 18.25 MiB/s, done.\n",
      "Resolving deltas: 100% (103/103), done.\n",
      "Updating files: 100% (89/89), done.\n"
     ]
    }
   ],
   "source": [
    "!git clone https://github.com/MLcmore2023/MLcmore2023.git"
   ]
  },
  {
   "cell_type": "code",
   "execution_count": 3,
   "id": "uXWhKsaI6a7D",
   "metadata": {
    "colab": {
     "base_uri": "https://localhost:8080/"
    },
    "executionInfo": {
     "elapsed": 7,
     "status": "ok",
     "timestamp": 1689011342401,
     "user": {
      "displayName": "Bruce Li",
      "userId": "06671431910158180807"
     },
     "user_tz": 240
    },
    "id": "uXWhKsaI6a7D",
    "outputId": "6c50f0e8-a94e-4eee-f7fc-717b9e844f1a"
   },
   "outputs": [
    {
     "name": "stdout",
     "output_type": "stream",
     "text": [
      "zsh:1: no matches found: ./MLcmore2023/Section 7 Implementation with Industry Dataset/.*\r\n"
     ]
    }
   ],
   "source": [
    "!mv ./MLcmore2023/'Section 7 Implementation with Industry Dataset'/* ./MLcmore2023/'Section 7 Implementation with Industry Dataset'/.* ./"
   ]
  },
  {
   "cell_type": "code",
   "execution_count": 4,
   "id": "ESr_aXox6aNO",
   "metadata": {
    "executionInfo": {
     "elapsed": 2325,
     "status": "ok",
     "timestamp": 1689011345809,
     "user": {
      "displayName": "Bruce Li",
      "userId": "06671431910158180807"
     },
     "user_tz": 240
    },
    "id": "ESr_aXox6aNO"
   },
   "outputs": [],
   "source": [
    "df = pd.read_excel('Nestle_Dataset.xlsx')"
   ]
  },
  {
   "cell_type": "code",
   "execution_count": 5,
   "id": "b1a0e507",
   "metadata": {
    "colab": {
     "base_uri": "https://localhost:8080/",
     "height": 560
    },
    "executionInfo": {
     "elapsed": 8,
     "status": "ok",
     "timestamp": 1689011345809,
     "user": {
      "displayName": "Bruce Li",
      "userId": "06671431910158180807"
     },
     "user_tz": 240
    },
    "id": "b1a0e507",
    "outputId": "b3a2061b-6ee5-4c8a-e4f7-bfa0ac9a5c40"
   },
   "outputs": [
    {
     "data": {
      "text/html": [
       "<div>\n",
       "<style scoped>\n",
       "    .dataframe tbody tr th:only-of-type {\n",
       "        vertical-align: middle;\n",
       "    }\n",
       "\n",
       "    .dataframe tbody tr th {\n",
       "        vertical-align: top;\n",
       "    }\n",
       "\n",
       "    .dataframe thead th {\n",
       "        text-align: right;\n",
       "    }\n",
       "</style>\n",
       "<table border=\"1\" class=\"dataframe\">\n",
       "  <thead>\n",
       "    <tr style=\"text-align: right;\">\n",
       "      <th></th>\n",
       "      <th>MATERIAL</th>\n",
       "      <th>source</th>\n",
       "      <th>Banner</th>\n",
       "      <th>SRC_BAN_POS</th>\n",
       "      <th>Plan_Banner</th>\n",
       "      <th>Plan_Region</th>\n",
       "      <th>CL4Key</th>\n",
       "      <th>CL6Key</th>\n",
       "      <th>pos_date</th>\n",
       "      <th>Pos_Qty_EA</th>\n",
       "      <th>...</th>\n",
       "      <th>PromoId</th>\n",
       "      <th>InStoreStart</th>\n",
       "      <th>InStoreEnd</th>\n",
       "      <th>PromoDuration</th>\n",
       "      <th>MATERIALDESC</th>\n",
       "      <th>SUB_CATEGORY</th>\n",
       "      <th>SUB_CATEGORY_DESC</th>\n",
       "      <th>CATEGORY</th>\n",
       "      <th>CATEGORY_DESC</th>\n",
       "      <th>FGroup_Desc</th>\n",
       "    </tr>\n",
       "  </thead>\n",
       "  <tbody>\n",
       "    <tr>\n",
       "      <th>0</th>\n",
       "      <td>11001187</td>\n",
       "      <td>METRO</td>\n",
       "      <td>METRO ONTARIO</td>\n",
       "      <td>METRO#ALL#2022-06-10</td>\n",
       "      <td>METRO</td>\n",
       "      <td>ONTARIO</td>\n",
       "      <td>292278</td>\n",
       "      <td>292696</td>\n",
       "      <td>2022-06-10</td>\n",
       "      <td>69</td>\n",
       "      <td>...</td>\n",
       "      <td>1358399</td>\n",
       "      <td>2022-06-09</td>\n",
       "      <td>2022-07-13</td>\n",
       "      <td>35</td>\n",
       "      <td>STOUFFER'S BST Italian 5 Cheese 8x256gCA</td>\n",
       "      <td>CAKK1K112</td>\n",
       "      <td>STF BISTRO CRUSTINI</td>\n",
       "      <td>CAKK1</td>\n",
       "      <td>FROZEN MEALS</td>\n",
       "      <td>CEF - CA Bistro 8pk</td>\n",
       "    </tr>\n",
       "    <tr>\n",
       "      <th>1</th>\n",
       "      <td>11001187</td>\n",
       "      <td>METRO</td>\n",
       "      <td>METRO ONTARIO</td>\n",
       "      <td>METRO#ALL#2022-06-09</td>\n",
       "      <td>METRO</td>\n",
       "      <td>ONTARIO</td>\n",
       "      <td>292278</td>\n",
       "      <td>292696</td>\n",
       "      <td>2022-06-09</td>\n",
       "      <td>60</td>\n",
       "      <td>...</td>\n",
       "      <td>1358399</td>\n",
       "      <td>2022-06-09</td>\n",
       "      <td>2022-07-13</td>\n",
       "      <td>35</td>\n",
       "      <td>STOUFFER'S BST Italian 5 Cheese 8x256gCA</td>\n",
       "      <td>CAKK1K112</td>\n",
       "      <td>STF BISTRO CRUSTINI</td>\n",
       "      <td>CAKK1</td>\n",
       "      <td>FROZEN MEALS</td>\n",
       "      <td>CEF - CA Bistro 8pk</td>\n",
       "    </tr>\n",
       "    <tr>\n",
       "      <th>2</th>\n",
       "      <td>11001187</td>\n",
       "      <td>METRO</td>\n",
       "      <td>METRO ONTARIO</td>\n",
       "      <td>METRO#ALL#2022-06-12</td>\n",
       "      <td>METRO</td>\n",
       "      <td>ONTARIO</td>\n",
       "      <td>292278</td>\n",
       "      <td>292696</td>\n",
       "      <td>2022-06-12</td>\n",
       "      <td>101</td>\n",
       "      <td>...</td>\n",
       "      <td>1358399</td>\n",
       "      <td>2022-06-09</td>\n",
       "      <td>2022-07-13</td>\n",
       "      <td>35</td>\n",
       "      <td>STOUFFER'S BST Italian 5 Cheese 8x256gCA</td>\n",
       "      <td>CAKK1K112</td>\n",
       "      <td>STF BISTRO CRUSTINI</td>\n",
       "      <td>CAKK1</td>\n",
       "      <td>FROZEN MEALS</td>\n",
       "      <td>CEF - CA Bistro 8pk</td>\n",
       "    </tr>\n",
       "    <tr>\n",
       "      <th>3</th>\n",
       "      <td>11001187</td>\n",
       "      <td>METRO</td>\n",
       "      <td>METRO ONTARIO</td>\n",
       "      <td>METRO#ALL#2022-06-11</td>\n",
       "      <td>METRO</td>\n",
       "      <td>ONTARIO</td>\n",
       "      <td>292278</td>\n",
       "      <td>292696</td>\n",
       "      <td>2022-06-11</td>\n",
       "      <td>70</td>\n",
       "      <td>...</td>\n",
       "      <td>1358399</td>\n",
       "      <td>2022-06-09</td>\n",
       "      <td>2022-07-13</td>\n",
       "      <td>35</td>\n",
       "      <td>STOUFFER'S BST Italian 5 Cheese 8x256gCA</td>\n",
       "      <td>CAKK1K112</td>\n",
       "      <td>STF BISTRO CRUSTINI</td>\n",
       "      <td>CAKK1</td>\n",
       "      <td>FROZEN MEALS</td>\n",
       "      <td>CEF - CA Bistro 8pk</td>\n",
       "    </tr>\n",
       "    <tr>\n",
       "      <th>4</th>\n",
       "      <td>11001187</td>\n",
       "      <td>METRO</td>\n",
       "      <td>METRO ONTARIO</td>\n",
       "      <td>METRO#ALL#2022-06-16</td>\n",
       "      <td>METRO</td>\n",
       "      <td>ONTARIO</td>\n",
       "      <td>292278</td>\n",
       "      <td>292696</td>\n",
       "      <td>2022-06-16</td>\n",
       "      <td>80</td>\n",
       "      <td>...</td>\n",
       "      <td>1358399</td>\n",
       "      <td>2022-06-09</td>\n",
       "      <td>2022-07-13</td>\n",
       "      <td>35</td>\n",
       "      <td>STOUFFER'S BST Italian 5 Cheese 8x256gCA</td>\n",
       "      <td>CAKK1K112</td>\n",
       "      <td>STF BISTRO CRUSTINI</td>\n",
       "      <td>CAKK1</td>\n",
       "      <td>FROZEN MEALS</td>\n",
       "      <td>CEF - CA Bistro 8pk</td>\n",
       "    </tr>\n",
       "  </tbody>\n",
       "</table>\n",
       "<p>5 rows × 32 columns</p>\n",
       "</div>"
      ],
      "text/plain": [
       "   MATERIAL source         Banner           SRC_BAN_POS Plan_Banner  \\\n",
       "0  11001187  METRO  METRO ONTARIO  METRO#ALL#2022-06-10       METRO   \n",
       "1  11001187  METRO  METRO ONTARIO  METRO#ALL#2022-06-09       METRO   \n",
       "2  11001187  METRO  METRO ONTARIO  METRO#ALL#2022-06-12       METRO   \n",
       "3  11001187  METRO  METRO ONTARIO  METRO#ALL#2022-06-11       METRO   \n",
       "4  11001187  METRO  METRO ONTARIO  METRO#ALL#2022-06-16       METRO   \n",
       "\n",
       "  Plan_Region  CL4Key  CL6Key   pos_date  Pos_Qty_EA  ...  PromoId  \\\n",
       "0     ONTARIO  292278  292696 2022-06-10          69  ...  1358399   \n",
       "1     ONTARIO  292278  292696 2022-06-09          60  ...  1358399   \n",
       "2     ONTARIO  292278  292696 2022-06-12         101  ...  1358399   \n",
       "3     ONTARIO  292278  292696 2022-06-11          70  ...  1358399   \n",
       "4     ONTARIO  292278  292696 2022-06-16          80  ...  1358399   \n",
       "\n",
       "   InStoreStart  InStoreEnd PromoDuration  \\\n",
       "0    2022-06-09  2022-07-13            35   \n",
       "1    2022-06-09  2022-07-13            35   \n",
       "2    2022-06-09  2022-07-13            35   \n",
       "3    2022-06-09  2022-07-13            35   \n",
       "4    2022-06-09  2022-07-13            35   \n",
       "\n",
       "                               MATERIALDESC  SUB_CATEGORY  \\\n",
       "0  STOUFFER'S BST Italian 5 Cheese 8x256gCA     CAKK1K112   \n",
       "1  STOUFFER'S BST Italian 5 Cheese 8x256gCA     CAKK1K112   \n",
       "2  STOUFFER'S BST Italian 5 Cheese 8x256gCA     CAKK1K112   \n",
       "3  STOUFFER'S BST Italian 5 Cheese 8x256gCA     CAKK1K112   \n",
       "4  STOUFFER'S BST Italian 5 Cheese 8x256gCA     CAKK1K112   \n",
       "\n",
       "     SUB_CATEGORY_DESC  CATEGORY  CATEGORY_DESC          FGroup_Desc  \n",
       "0  STF BISTRO CRUSTINI     CAKK1   FROZEN MEALS  CEF - CA Bistro 8pk  \n",
       "1  STF BISTRO CRUSTINI     CAKK1   FROZEN MEALS  CEF - CA Bistro 8pk  \n",
       "2  STF BISTRO CRUSTINI     CAKK1   FROZEN MEALS  CEF - CA Bistro 8pk  \n",
       "3  STF BISTRO CRUSTINI     CAKK1   FROZEN MEALS  CEF - CA Bistro 8pk  \n",
       "4  STF BISTRO CRUSTINI     CAKK1   FROZEN MEALS  CEF - CA Bistro 8pk  \n",
       "\n",
       "[5 rows x 32 columns]"
      ]
     },
     "execution_count": 5,
     "metadata": {},
     "output_type": "execute_result"
    }
   ],
   "source": [
    "df.head()"
   ]
  },
  {
   "cell_type": "markdown",
   "id": "f10a66ef",
   "metadata": {
    "id": "f10a66ef"
   },
   "source": [
    "It contains only 5000 of rows, but you need to create a new column 'PricePoint', representing the pricepoint for each row when they are under promotions, using column POS Sales/Pow Qty EA. And I think all those 5000 samples are all\n",
    "under promotions,"
   ]
  },
  {
   "cell_type": "code",
   "execution_count": 6,
   "id": "38c42ea8",
   "metadata": {
    "executionInfo": {
     "elapsed": 2,
     "status": "ok",
     "timestamp": 1689011347096,
     "user": {
      "displayName": "Bruce Li",
      "userId": "06671431910158180807"
     },
     "user_tz": 240
    },
    "id": "38c42ea8"
   },
   "outputs": [],
   "source": [
    "df['PricePoint'] = df.Pos_Sales/df.Pos_Qty_EA"
   ]
  },
  {
   "cell_type": "code",
   "execution_count": 7,
   "id": "08d425a1",
   "metadata": {
    "colab": {
     "base_uri": "https://localhost:8080/",
     "height": 310
    },
    "executionInfo": {
     "elapsed": 7,
     "status": "ok",
     "timestamp": 1689011347693,
     "user": {
      "displayName": "Bruce Li",
      "userId": "06671431910158180807"
     },
     "user_tz": 240
    },
    "id": "08d425a1",
    "outputId": "61d37f0f-8265-4d64-abc0-bdb81cd82547"
   },
   "outputs": [
    {
     "data": {
      "text/html": [
       "<div>\n",
       "<style scoped>\n",
       "    .dataframe tbody tr th:only-of-type {\n",
       "        vertical-align: middle;\n",
       "    }\n",
       "\n",
       "    .dataframe tbody tr th {\n",
       "        vertical-align: top;\n",
       "    }\n",
       "\n",
       "    .dataframe thead th {\n",
       "        text-align: right;\n",
       "    }\n",
       "</style>\n",
       "<table border=\"1\" class=\"dataframe\">\n",
       "  <thead>\n",
       "    <tr style=\"text-align: right;\">\n",
       "      <th></th>\n",
       "      <th>MATERIAL</th>\n",
       "      <th>source</th>\n",
       "      <th>Banner</th>\n",
       "      <th>SRC_BAN_POS</th>\n",
       "      <th>Plan_Banner</th>\n",
       "      <th>Plan_Region</th>\n",
       "      <th>CL4Key</th>\n",
       "      <th>CL6Key</th>\n",
       "      <th>pos_date</th>\n",
       "      <th>Pos_Qty_EA</th>\n",
       "      <th>...</th>\n",
       "      <th>InStoreStart</th>\n",
       "      <th>InStoreEnd</th>\n",
       "      <th>PromoDuration</th>\n",
       "      <th>MATERIALDESC</th>\n",
       "      <th>SUB_CATEGORY</th>\n",
       "      <th>SUB_CATEGORY_DESC</th>\n",
       "      <th>CATEGORY</th>\n",
       "      <th>CATEGORY_DESC</th>\n",
       "      <th>FGroup_Desc</th>\n",
       "      <th>PricePoint</th>\n",
       "    </tr>\n",
       "  </thead>\n",
       "  <tbody>\n",
       "    <tr>\n",
       "      <th>0</th>\n",
       "      <td>11001187</td>\n",
       "      <td>METRO</td>\n",
       "      <td>METRO ONTARIO</td>\n",
       "      <td>METRO#ALL#2022-06-10</td>\n",
       "      <td>METRO</td>\n",
       "      <td>ONTARIO</td>\n",
       "      <td>292278</td>\n",
       "      <td>292696</td>\n",
       "      <td>2022-06-10</td>\n",
       "      <td>69</td>\n",
       "      <td>...</td>\n",
       "      <td>2022-06-09</td>\n",
       "      <td>2022-07-13</td>\n",
       "      <td>35</td>\n",
       "      <td>STOUFFER'S BST Italian 5 Cheese 8x256gCA</td>\n",
       "      <td>CAKK1K112</td>\n",
       "      <td>STF BISTRO CRUSTINI</td>\n",
       "      <td>CAKK1</td>\n",
       "      <td>FROZEN MEALS</td>\n",
       "      <td>CEF - CA Bistro 8pk</td>\n",
       "      <td>2.697826</td>\n",
       "    </tr>\n",
       "    <tr>\n",
       "      <th>1</th>\n",
       "      <td>11001187</td>\n",
       "      <td>METRO</td>\n",
       "      <td>METRO ONTARIO</td>\n",
       "      <td>METRO#ALL#2022-06-09</td>\n",
       "      <td>METRO</td>\n",
       "      <td>ONTARIO</td>\n",
       "      <td>292278</td>\n",
       "      <td>292696</td>\n",
       "      <td>2022-06-09</td>\n",
       "      <td>60</td>\n",
       "      <td>...</td>\n",
       "      <td>2022-06-09</td>\n",
       "      <td>2022-07-13</td>\n",
       "      <td>35</td>\n",
       "      <td>STOUFFER'S BST Italian 5 Cheese 8x256gCA</td>\n",
       "      <td>CAKK1K112</td>\n",
       "      <td>STF BISTRO CRUSTINI</td>\n",
       "      <td>CAKK1</td>\n",
       "      <td>FROZEN MEALS</td>\n",
       "      <td>CEF - CA Bistro 8pk</td>\n",
       "      <td>2.697667</td>\n",
       "    </tr>\n",
       "  </tbody>\n",
       "</table>\n",
       "<p>2 rows × 33 columns</p>\n",
       "</div>"
      ],
      "text/plain": [
       "   MATERIAL source         Banner           SRC_BAN_POS Plan_Banner  \\\n",
       "0  11001187  METRO  METRO ONTARIO  METRO#ALL#2022-06-10       METRO   \n",
       "1  11001187  METRO  METRO ONTARIO  METRO#ALL#2022-06-09       METRO   \n",
       "\n",
       "  Plan_Region  CL4Key  CL6Key   pos_date  Pos_Qty_EA  ...  InStoreStart  \\\n",
       "0     ONTARIO  292278  292696 2022-06-10          69  ...    2022-06-09   \n",
       "1     ONTARIO  292278  292696 2022-06-09          60  ...    2022-06-09   \n",
       "\n",
       "   InStoreEnd  PromoDuration                              MATERIALDESC  \\\n",
       "0  2022-07-13             35  STOUFFER'S BST Italian 5 Cheese 8x256gCA   \n",
       "1  2022-07-13             35  STOUFFER'S BST Italian 5 Cheese 8x256gCA   \n",
       "\n",
       "   SUB_CATEGORY    SUB_CATEGORY_DESC CATEGORY  CATEGORY_DESC  \\\n",
       "0     CAKK1K112  STF BISTRO CRUSTINI    CAKK1   FROZEN MEALS   \n",
       "1     CAKK1K112  STF BISTRO CRUSTINI    CAKK1   FROZEN MEALS   \n",
       "\n",
       "           FGroup_Desc  PricePoint  \n",
       "0  CEF - CA Bistro 8pk    2.697826  \n",
       "1  CEF - CA Bistro 8pk    2.697667  \n",
       "\n",
       "[2 rows x 33 columns]"
      ]
     },
     "execution_count": 7,
     "metadata": {},
     "output_type": "execute_result"
    }
   ],
   "source": [
    "df.head(2)"
   ]
  },
  {
   "cell_type": "code",
   "execution_count": 8,
   "id": "36fbf403",
   "metadata": {
    "colab": {
     "base_uri": "https://localhost:8080/",
     "height": 364
    },
    "executionInfo": {
     "elapsed": 393,
     "status": "ok",
     "timestamp": 1689011348537,
     "user": {
      "displayName": "Bruce Li",
      "userId": "06671431910158180807"
     },
     "user_tz": 240
    },
    "id": "36fbf403",
    "outputId": "d5f5d336-7876-48c8-dc6c-9b5cc8bcd46a"
   },
   "outputs": [
    {
     "data": {
      "text/html": [
       "<div>\n",
       "<style scoped>\n",
       "    .dataframe tbody tr th:only-of-type {\n",
       "        vertical-align: middle;\n",
       "    }\n",
       "\n",
       "    .dataframe tbody tr th {\n",
       "        vertical-align: top;\n",
       "    }\n",
       "\n",
       "    .dataframe thead th {\n",
       "        text-align: right;\n",
       "    }\n",
       "</style>\n",
       "<table border=\"1\" class=\"dataframe\">\n",
       "  <thead>\n",
       "    <tr style=\"text-align: right;\">\n",
       "      <th></th>\n",
       "      <th>MATERIAL</th>\n",
       "      <th>CL4Key</th>\n",
       "      <th>CL6Key</th>\n",
       "      <th>Pos_Qty_EA</th>\n",
       "      <th>Pos_Sales</th>\n",
       "      <th>POS_QTY_CS</th>\n",
       "      <th>UBP</th>\n",
       "      <th>FACTOR_EACH</th>\n",
       "      <th>PER_SALES_UOM_CASE</th>\n",
       "      <th>Total_Sales</th>\n",
       "      <th>Baseline_Qty</th>\n",
       "      <th>Baseline_Nps</th>\n",
       "      <th>Incr_Sales</th>\n",
       "      <th>PromoId</th>\n",
       "      <th>PromoDuration</th>\n",
       "      <th>PricePoint</th>\n",
       "    </tr>\n",
       "  </thead>\n",
       "  <tbody>\n",
       "    <tr>\n",
       "      <th>count</th>\n",
       "      <td>5.533000e+03</td>\n",
       "      <td>5533.000000</td>\n",
       "      <td>5533.000000</td>\n",
       "      <td>5533.000000</td>\n",
       "      <td>5533.000000</td>\n",
       "      <td>5533.000000</td>\n",
       "      <td>5533.000000</td>\n",
       "      <td>5533.000000</td>\n",
       "      <td>5533.000000</td>\n",
       "      <td>5533.000000</td>\n",
       "      <td>5533.000000</td>\n",
       "      <td>5533.000000</td>\n",
       "      <td>5533.000000</td>\n",
       "      <td>5.533000e+03</td>\n",
       "      <td>5533.000000</td>\n",
       "      <td>5533.000000</td>\n",
       "    </tr>\n",
       "    <tr>\n",
       "      <th>mean</th>\n",
       "      <td>1.161107e+07</td>\n",
       "      <td>292278.524489</td>\n",
       "      <td>292866.180192</td>\n",
       "      <td>127.783481</td>\n",
       "      <td>511.145648</td>\n",
       "      <td>12.123744</td>\n",
       "      <td>50.339917</td>\n",
       "      <td>1.417495</td>\n",
       "      <td>15.055847</td>\n",
       "      <td>535.643945</td>\n",
       "      <td>6.246702</td>\n",
       "      <td>251.731177</td>\n",
       "      <td>283.912767</td>\n",
       "      <td>1.156755e+06</td>\n",
       "      <td>110.433038</td>\n",
       "      <td>4.747306</td>\n",
       "    </tr>\n",
       "    <tr>\n",
       "      <th>std</th>\n",
       "      <td>1.499871e+06</td>\n",
       "      <td>0.499445</td>\n",
       "      <td>177.274711</td>\n",
       "      <td>136.441474</td>\n",
       "      <td>441.683764</td>\n",
       "      <td>13.787538</td>\n",
       "      <td>26.295688</td>\n",
       "      <td>1.383300</td>\n",
       "      <td>19.247455</td>\n",
       "      <td>586.828597</td>\n",
       "      <td>5.385941</td>\n",
       "      <td>154.745590</td>\n",
       "      <td>538.807652</td>\n",
       "      <td>5.379376e+05</td>\n",
       "      <td>119.403083</td>\n",
       "      <td>2.364091</td>\n",
       "    </tr>\n",
       "    <tr>\n",
       "      <th>min</th>\n",
       "      <td>6.200436e+06</td>\n",
       "      <td>292278.000000</td>\n",
       "      <td>292696.000000</td>\n",
       "      <td>-6.000000</td>\n",
       "      <td>-12.990000</td>\n",
       "      <td>-0.250000</td>\n",
       "      <td>10.750000</td>\n",
       "      <td>1.000000</td>\n",
       "      <td>4.000000</td>\n",
       "      <td>-10.750000</td>\n",
       "      <td>0.000000</td>\n",
       "      <td>0.000000</td>\n",
       "      <td>-557.600000</td>\n",
       "      <td>1.286940e+05</td>\n",
       "      <td>1.000000</td>\n",
       "      <td>0.876610</td>\n",
       "    </tr>\n",
       "    <tr>\n",
       "      <th>25%</th>\n",
       "      <td>1.125040e+07</td>\n",
       "      <td>292278.000000</td>\n",
       "      <td>292696.000000</td>\n",
       "      <td>44.000000</td>\n",
       "      <td>219.600000</td>\n",
       "      <td>3.750000</td>\n",
       "      <td>35.160000</td>\n",
       "      <td>1.000000</td>\n",
       "      <td>6.000000</td>\n",
       "      <td>202.540000</td>\n",
       "      <td>2.000000</td>\n",
       "      <td>129.360000</td>\n",
       "      <td>4.940000</td>\n",
       "      <td>7.613300e+05</td>\n",
       "      <td>28.000000</td>\n",
       "      <td>2.990000</td>\n",
       "    </tr>\n",
       "    <tr>\n",
       "      <th>50%</th>\n",
       "      <td>1.230503e+07</td>\n",
       "      <td>292279.000000</td>\n",
       "      <td>292698.000000</td>\n",
       "      <td>91.000000</td>\n",
       "      <td>426.240000</td>\n",
       "      <td>9.000000</td>\n",
       "      <td>42.420000</td>\n",
       "      <td>1.000000</td>\n",
       "      <td>12.000000</td>\n",
       "      <td>390.570000</td>\n",
       "      <td>5.000000</td>\n",
       "      <td>210.960000</td>\n",
       "      <td>129.360000</td>\n",
       "      <td>1.352987e+06</td>\n",
       "      <td>63.000000</td>\n",
       "      <td>4.790000</td>\n",
       "    </tr>\n",
       "    <tr>\n",
       "      <th>75%</th>\n",
       "      <td>1.240749e+07</td>\n",
       "      <td>292279.000000</td>\n",
       "      <td>293051.000000</td>\n",
       "      <td>168.000000</td>\n",
       "      <td>665.260000</td>\n",
       "      <td>15.400000</td>\n",
       "      <td>63.600000</td>\n",
       "      <td>1.000000</td>\n",
       "      <td>15.000000</td>\n",
       "      <td>651.900000</td>\n",
       "      <td>8.000000</td>\n",
       "      <td>368.400000</td>\n",
       "      <td>375.200000</td>\n",
       "      <td>1.389990e+06</td>\n",
       "      <td>150.000000</td>\n",
       "      <td>5.490000</td>\n",
       "    </tr>\n",
       "    <tr>\n",
       "      <th>max</th>\n",
       "      <td>1.248404e+07</td>\n",
       "      <td>292279.000000</td>\n",
       "      <td>293051.000000</td>\n",
       "      <td>2326.000000</td>\n",
       "      <td>4628.740000</td>\n",
       "      <td>279.250000</td>\n",
       "      <td>155.520000</td>\n",
       "      <td>6.000000</td>\n",
       "      <td>144.000000</td>\n",
       "      <td>6815.180000</td>\n",
       "      <td>35.000000</td>\n",
       "      <td>678.720000</td>\n",
       "      <td>6358.100000</td>\n",
       "      <td>2.651405e+06</td>\n",
       "      <td>365.000000</td>\n",
       "      <td>12.490000</td>\n",
       "    </tr>\n",
       "  </tbody>\n",
       "</table>\n",
       "</div>"
      ],
      "text/plain": [
       "           MATERIAL         CL4Key         CL6Key   Pos_Qty_EA    Pos_Sales  \\\n",
       "count  5.533000e+03    5533.000000    5533.000000  5533.000000  5533.000000   \n",
       "mean   1.161107e+07  292278.524489  292866.180192   127.783481   511.145648   \n",
       "std    1.499871e+06       0.499445     177.274711   136.441474   441.683764   \n",
       "min    6.200436e+06  292278.000000  292696.000000    -6.000000   -12.990000   \n",
       "25%    1.125040e+07  292278.000000  292696.000000    44.000000   219.600000   \n",
       "50%    1.230503e+07  292279.000000  292698.000000    91.000000   426.240000   \n",
       "75%    1.240749e+07  292279.000000  293051.000000   168.000000   665.260000   \n",
       "max    1.248404e+07  292279.000000  293051.000000  2326.000000  4628.740000   \n",
       "\n",
       "        POS_QTY_CS          UBP  FACTOR_EACH  PER_SALES_UOM_CASE  Total_Sales  \\\n",
       "count  5533.000000  5533.000000  5533.000000         5533.000000  5533.000000   \n",
       "mean     12.123744    50.339917     1.417495           15.055847   535.643945   \n",
       "std      13.787538    26.295688     1.383300           19.247455   586.828597   \n",
       "min      -0.250000    10.750000     1.000000            4.000000   -10.750000   \n",
       "25%       3.750000    35.160000     1.000000            6.000000   202.540000   \n",
       "50%       9.000000    42.420000     1.000000           12.000000   390.570000   \n",
       "75%      15.400000    63.600000     1.000000           15.000000   651.900000   \n",
       "max     279.250000   155.520000     6.000000          144.000000  6815.180000   \n",
       "\n",
       "       Baseline_Qty  Baseline_Nps   Incr_Sales       PromoId  PromoDuration  \\\n",
       "count   5533.000000   5533.000000  5533.000000  5.533000e+03    5533.000000   \n",
       "mean       6.246702    251.731177   283.912767  1.156755e+06     110.433038   \n",
       "std        5.385941    154.745590   538.807652  5.379376e+05     119.403083   \n",
       "min        0.000000      0.000000  -557.600000  1.286940e+05       1.000000   \n",
       "25%        2.000000    129.360000     4.940000  7.613300e+05      28.000000   \n",
       "50%        5.000000    210.960000   129.360000  1.352987e+06      63.000000   \n",
       "75%        8.000000    368.400000   375.200000  1.389990e+06     150.000000   \n",
       "max       35.000000    678.720000  6358.100000  2.651405e+06     365.000000   \n",
       "\n",
       "        PricePoint  \n",
       "count  5533.000000  \n",
       "mean      4.747306  \n",
       "std       2.364091  \n",
       "min       0.876610  \n",
       "25%       2.990000  \n",
       "50%       4.790000  \n",
       "75%       5.490000  \n",
       "max      12.490000  "
      ]
     },
     "execution_count": 8,
     "metadata": {},
     "output_type": "execute_result"
    }
   ],
   "source": [
    "df.describe()"
   ]
  },
  {
   "cell_type": "code",
   "execution_count": 9,
   "id": "a7a4b203",
   "metadata": {
    "colab": {
     "base_uri": "https://localhost:8080/"
    },
    "executionInfo": {
     "elapsed": 151,
     "status": "ok",
     "timestamp": 1689011348873,
     "user": {
      "displayName": "Bruce Li",
      "userId": "06671431910158180807"
     },
     "user_tz": 240
    },
    "id": "a7a4b203",
    "outputId": "f6ff1ba7-611c-4c9c-c76e-79702062350a"
   },
   "outputs": [
    {
     "name": "stdout",
     "output_type": "stream",
     "text": [
      "<class 'pandas.core.frame.DataFrame'>\n",
      "RangeIndex: 5533 entries, 0 to 5532\n",
      "Data columns (total 33 columns):\n",
      " #   Column              Non-Null Count  Dtype         \n",
      "---  ------              --------------  -----         \n",
      " 0   MATERIAL            5533 non-null   int64         \n",
      " 1   source              5533 non-null   object        \n",
      " 2   Banner              5533 non-null   object        \n",
      " 3   SRC_BAN_POS         5533 non-null   object        \n",
      " 4   Plan_Banner         5533 non-null   object        \n",
      " 5   Plan_Region         5533 non-null   object        \n",
      " 6   CL4Key              5533 non-null   int64         \n",
      " 7   CL6Key              5533 non-null   int64         \n",
      " 8   pos_date            5533 non-null   datetime64[ns]\n",
      " 9   Pos_Qty_EA          5533 non-null   int64         \n",
      " 10  Pos_Sales           5533 non-null   float64       \n",
      " 11  POS_QTY_CS          5533 non-null   float64       \n",
      " 12  UBP                 5533 non-null   float64       \n",
      " 13  UNIT                5533 non-null   object        \n",
      " 14  FACTOR_EACH         5533 non-null   int64         \n",
      " 15  PER_SALES_UOM_CASE  5533 non-null   int64         \n",
      " 16  Complete_PPG        5533 non-null   object        \n",
      " 17  Total_Sales         5533 non-null   float64       \n",
      " 18  Baseline_Qty        5533 non-null   int64         \n",
      " 19  Baseline_Nps        5533 non-null   float64       \n",
      " 20  ForecastDate        5533 non-null   datetime64[ns]\n",
      " 21  Incr_Sales          5533 non-null   float64       \n",
      " 22  PromoId             5533 non-null   int64         \n",
      " 23  InStoreStart        5533 non-null   datetime64[ns]\n",
      " 24  InStoreEnd          5533 non-null   datetime64[ns]\n",
      " 25  PromoDuration       5533 non-null   int64         \n",
      " 26  MATERIALDESC        5533 non-null   object        \n",
      " 27  SUB_CATEGORY        5533 non-null   object        \n",
      " 28  SUB_CATEGORY_DESC   5533 non-null   object        \n",
      " 29  CATEGORY            5533 non-null   object        \n",
      " 30  CATEGORY_DESC       5533 non-null   object        \n",
      " 31  FGroup_Desc         5533 non-null   object        \n",
      " 32  PricePoint          5533 non-null   float64       \n",
      "dtypes: datetime64[ns](4), float64(7), int64(9), object(13)\n",
      "memory usage: 1.4+ MB\n"
     ]
    }
   ],
   "source": [
    "df.info()"
   ]
  },
  {
   "cell_type": "markdown",
   "id": "8cc160bc",
   "metadata": {
    "id": "8cc160bc"
   },
   "source": [
    "### Features Explanation:\n",
    "\n",
    "\n",
    "1. MATERIAL: The unique identifier for each item in the dataset.\n",
    "2. source: The source of the sales data (e.g., point of sale systems, online sales platform, etc.).\n",
    "3. Banner: The name or identifier of the retail banner (store brand) where the item was sold.\n",
    "4. SRC_BAN_POS: The source of the sales data specific to the retail banner.\n",
    "5. Plan_Banner: The planned retail banner for the item.\n",
    "6. Plan_Region: The planned region for the item's sales.\n",
    "7. CL4Key: The identifier for a higher-level category or classification level 4 of the item.\n",
    "8. CL6Key: The identifier for a lower-level category or classification level 6 of the item.\n",
    "9. pos_date: The date of the sales record.\n",
    "10. Pos_Qty_EA: The sales quantity of the item in each unit (target variable).\n",
    "11. Pos_Sales: The sales amount or revenue generated from the item.\n",
    "12. POS_QTY_CS: The sales quantity of the item in case units (CS stands for case).\n",
    "13. UBP: The unit buying price, which represents the cost of purchasing the item.\n",
    "14. UNIT: The unit of measure for the item's sales quantity (EA or CS).\n",
    "15. FACTOR_EACH: The conversion factor between each unit (EA) and case unit (CS).\n",
    "16. PER_SALES_UOM_CASE: The sales quantity per unit of measure (case) for the item.\n",
    "17. Complete_PPG: The identifier for a complete product group, which represents a broader category or grouping of items.\n",
    "18. Total_Sales: The total sales amount or revenue for all items.\n",
    "19. Baseline_Qty: The baseline or expected sales quantity for the item.\n",
    "20. Baseline_Nps: The baseline or expected net promoter score (NPS) associated with the item.\n",
    "21. ForecastDate: The date of the sales forecast for the item.\n",
    "22. Incr_Sales: The incremental or additional sales generated by a promotional activity or event.\n",
    "23. PromoId: The identifier for a specific promotional activity or event.\n",
    "24. InStoreStart: The start date of the promotional activity or event in the store.\n",
    "25. InStoreEnd: The end date of the promotional activity or event in the store.\n",
    "26. PromoDuration: The duration of the promotional activity or event.\n",
    "27. MATERIALDESC: A description or name of the item.\n",
    "28. SUB_CATEGORY: The identifier for a sub-category of the item.\n",
    "29. SUB_CATEGORY_DESC: A description or name of the sub-category.\n",
    "30. CATEGORY: The identifier for the category of the item.\n",
    "31. CATEGORY_DESC: A description or name of the category.\n",
    "32. FGroup_Desc: A description or name of the item's functional group.\n",
    "33. PricePoint: The price point or pricing tier associated with the item."
   ]
  },
  {
   "cell_type": "markdown",
   "id": "74a2b55e",
   "metadata": {
    "id": "74a2b55e"
   },
   "source": [
    "### Objective:\n",
    "\n",
    "The primary objective of this dataset is to develop a predictive model that accurately estimates the sales quantity of each item (Pos_Qty_EA) based on the provided features. By leveraging the historical sales data, Nestle aims to forecast item sales more effectively, optimize inventory management, and make data-driven decisions to maximize sales revenue and profitability.\n",
    "\n",
    "Additionally, this dataset can be utilized to gain insights into the factors that drive or hinder sales, assess the impact of promotional activities, evaluate the performance of different store banners, and analyze the influence of pricing tiers on consumer behavior.\n",
    "\n",
    "Through detailed exploration and analysis of this dataset, Nestle can enhance its understanding of market dynamics, improve sales forecasting accuracy, and make informed business decisions that align with customer demands and preferences."
   ]
  },
  {
   "cell_type": "markdown",
   "id": "24914ffd",
   "metadata": {
    "id": "24914ffd"
   },
   "source": [
    "## 3. Data Cleaning"
   ]
  },
  {
   "cell_type": "markdown",
   "id": "16ab9452",
   "metadata": {
    "id": "16ab9452"
   },
   "source": [
    "### 3.1 Checking for Missing and Unique Values"
   ]
  },
  {
   "cell_type": "code",
   "execution_count": 10,
   "id": "cd55c8e0",
   "metadata": {
    "colab": {
     "base_uri": "https://localhost:8080/"
    },
    "executionInfo": {
     "elapsed": 187,
     "status": "ok",
     "timestamp": 1689011351477,
     "user": {
      "displayName": "Bruce Li",
      "userId": "06671431910158180807"
     },
     "user_tz": 240
    },
    "id": "cd55c8e0",
    "outputId": "9f11e0d4-583b-4d67-c44d-9dde83876239",
    "scrolled": true
   },
   "outputs": [
    {
     "name": "stdout",
     "output_type": "stream",
     "text": [
      "MATERIAL              0\n",
      "source                0\n",
      "Banner                0\n",
      "SRC_BAN_POS           0\n",
      "Plan_Banner           0\n",
      "Plan_Region           0\n",
      "CL4Key                0\n",
      "CL6Key                0\n",
      "pos_date              0\n",
      "Pos_Qty_EA            0\n",
      "Pos_Sales             0\n",
      "POS_QTY_CS            0\n",
      "UBP                   0\n",
      "UNIT                  0\n",
      "FACTOR_EACH           0\n",
      "PER_SALES_UOM_CASE    0\n",
      "Complete_PPG          0\n",
      "Total_Sales           0\n",
      "Baseline_Qty          0\n",
      "Baseline_Nps          0\n",
      "ForecastDate          0\n",
      "Incr_Sales            0\n",
      "PromoId               0\n",
      "InStoreStart          0\n",
      "InStoreEnd            0\n",
      "PromoDuration         0\n",
      "MATERIALDESC          0\n",
      "SUB_CATEGORY          0\n",
      "SUB_CATEGORY_DESC     0\n",
      "CATEGORY              0\n",
      "CATEGORY_DESC         0\n",
      "FGroup_Desc           0\n",
      "PricePoint            0\n",
      "dtype: int64\n"
     ]
    }
   ],
   "source": [
    "# Check for missing values\n",
    "print(df.isnull().sum())"
   ]
  },
  {
   "cell_type": "code",
   "execution_count": 11,
   "id": "8d65134f",
   "metadata": {
    "id": "8d65134f",
    "outputId": "30c970b0-3da0-4c92-cf51-a1c18d6de08b"
   },
   "outputs": [
    {
     "name": "stdout",
     "output_type": "stream",
     "text": [
      "MATERIAL                31\n",
      "source                   1\n",
      "Banner                   3\n",
      "SRC_BAN_POS            455\n",
      "Plan_Banner              2\n",
      "Plan_Region              2\n",
      "CL4Key                   2\n",
      "CL6Key                   3\n",
      "pos_date               455\n",
      "Pos_Qty_EA             469\n",
      "Pos_Sales             2466\n",
      "POS_QTY_CS             727\n",
      "UBP                     39\n",
      "UNIT                     2\n",
      "FACTOR_EACH              2\n",
      "PER_SALES_UOM_CASE       8\n",
      "Complete_PPG            23\n",
      "Total_Sales           2072\n",
      "Baseline_Qty            30\n",
      "Baseline_Nps           151\n",
      "ForecastDate            68\n",
      "Incr_Sales            2094\n",
      "PromoId                280\n",
      "InStoreStart            89\n",
      "InStoreEnd              81\n",
      "PromoDuration           36\n",
      "MATERIALDESC            31\n",
      "SUB_CATEGORY            21\n",
      "SUB_CATEGORY_DESC       21\n",
      "CATEGORY                11\n",
      "CATEGORY_DESC           11\n",
      "FGroup_Desc             27\n",
      "PricePoint            1091\n",
      "dtype: int64\n"
     ]
    }
   ],
   "source": [
    "# Check the number of unique values in each column\n",
    "unique_counts = df.nunique()\n",
    "print(unique_counts)"
   ]
  },
  {
   "cell_type": "markdown",
   "id": "fe3b87da",
   "metadata": {
    "id": "fe3b87da"
   },
   "source": [
    "### 3.2 Drop unimportant Columns"
   ]
  },
  {
   "cell_type": "code",
   "execution_count": 12,
   "id": "d8a76c44",
   "metadata": {
    "id": "d8a76c44"
   },
   "outputs": [],
   "source": [
    "# these columns are not necessary, so they need to be dropped\n",
    "df.drop([\n",
    "    # according to the guideline, the following features above are not related to the target item\n",
    "    'SRC_BAN_POS',\n",
    "    'Plan_Banner',\n",
    "    'Plan_Region',\n",
    "    'CL4Key',\n",
    "    'CL6Key',\n",
    "    'MATERIAL',\n",
    "    'FACTOR_EACH',\n",
    "    'PER_SALES_UOM_CASE',\n",
    "    'ForecastDate',\n",
    "    'Banner',\n",
    "\n",
    "    # there is only one unique value for the source feature, so it needs to be dropped\n",
    "    'source',\n",
    "\n",
    "    # Since we already have the \"PromoDuration\" feature,\n",
    "    # the \"InStoreStart\" and \"InStoreEnd\" features need to be dropped\n",
    "    'InStoreStart',\n",
    "    'InStoreEnd'\n",
    "], axis=1, inplace=True)\n"
   ]
  },
  {
   "cell_type": "code",
   "execution_count": 13,
   "id": "3e7937bd",
   "metadata": {
    "id": "3e7937bd",
    "outputId": "db26f868-e790-4957-89ce-29b81d021d17"
   },
   "outputs": [
    {
     "data": {
      "text/html": [
       "<div>\n",
       "<style scoped>\n",
       "    .dataframe tbody tr th:only-of-type {\n",
       "        vertical-align: middle;\n",
       "    }\n",
       "\n",
       "    .dataframe tbody tr th {\n",
       "        vertical-align: top;\n",
       "    }\n",
       "\n",
       "    .dataframe thead th {\n",
       "        text-align: right;\n",
       "    }\n",
       "</style>\n",
       "<table border=\"1\" class=\"dataframe\">\n",
       "  <thead>\n",
       "    <tr style=\"text-align: right;\">\n",
       "      <th></th>\n",
       "      <th>pos_date</th>\n",
       "      <th>Pos_Qty_EA</th>\n",
       "      <th>Pos_Sales</th>\n",
       "      <th>POS_QTY_CS</th>\n",
       "      <th>UBP</th>\n",
       "      <th>UNIT</th>\n",
       "      <th>Complete_PPG</th>\n",
       "      <th>Total_Sales</th>\n",
       "      <th>Baseline_Qty</th>\n",
       "      <th>Baseline_Nps</th>\n",
       "      <th>Incr_Sales</th>\n",
       "      <th>PromoId</th>\n",
       "      <th>PromoDuration</th>\n",
       "      <th>MATERIALDESC</th>\n",
       "      <th>SUB_CATEGORY</th>\n",
       "      <th>SUB_CATEGORY_DESC</th>\n",
       "      <th>CATEGORY</th>\n",
       "      <th>CATEGORY_DESC</th>\n",
       "      <th>FGroup_Desc</th>\n",
       "      <th>PricePoint</th>\n",
       "    </tr>\n",
       "  </thead>\n",
       "  <tbody>\n",
       "    <tr>\n",
       "      <th>0</th>\n",
       "      <td>2022-06-10</td>\n",
       "      <td>69</td>\n",
       "      <td>186.15</td>\n",
       "      <td>8.625</td>\n",
       "      <td>23.44</td>\n",
       "      <td>EA</td>\n",
       "      <td>Superbundle</td>\n",
       "      <td>202.17</td>\n",
       "      <td>14</td>\n",
       "      <td>328.16</td>\n",
       "      <td>-125.99</td>\n",
       "      <td>1358399</td>\n",
       "      <td>35</td>\n",
       "      <td>STOUFFER'S BST Italian 5 Cheese 8x256gCA</td>\n",
       "      <td>CAKK1K112</td>\n",
       "      <td>STF BISTRO CRUSTINI</td>\n",
       "      <td>CAKK1</td>\n",
       "      <td>FROZEN MEALS</td>\n",
       "      <td>CEF - CA Bistro 8pk</td>\n",
       "      <td>2.697826</td>\n",
       "    </tr>\n",
       "    <tr>\n",
       "      <th>1</th>\n",
       "      <td>2022-06-09</td>\n",
       "      <td>60</td>\n",
       "      <td>161.86</td>\n",
       "      <td>7.500</td>\n",
       "      <td>23.44</td>\n",
       "      <td>EA</td>\n",
       "      <td>Superbundle</td>\n",
       "      <td>175.80</td>\n",
       "      <td>14</td>\n",
       "      <td>328.16</td>\n",
       "      <td>-152.36</td>\n",
       "      <td>1358399</td>\n",
       "      <td>35</td>\n",
       "      <td>STOUFFER'S BST Italian 5 Cheese 8x256gCA</td>\n",
       "      <td>CAKK1K112</td>\n",
       "      <td>STF BISTRO CRUSTINI</td>\n",
       "      <td>CAKK1</td>\n",
       "      <td>FROZEN MEALS</td>\n",
       "      <td>CEF - CA Bistro 8pk</td>\n",
       "      <td>2.697667</td>\n",
       "    </tr>\n",
       "    <tr>\n",
       "      <th>2</th>\n",
       "      <td>2022-06-12</td>\n",
       "      <td>101</td>\n",
       "      <td>271.56</td>\n",
       "      <td>12.625</td>\n",
       "      <td>23.44</td>\n",
       "      <td>EA</td>\n",
       "      <td>Superbundle</td>\n",
       "      <td>295.93</td>\n",
       "      <td>14</td>\n",
       "      <td>328.16</td>\n",
       "      <td>-32.23</td>\n",
       "      <td>1358399</td>\n",
       "      <td>35</td>\n",
       "      <td>STOUFFER'S BST Italian 5 Cheese 8x256gCA</td>\n",
       "      <td>CAKK1K112</td>\n",
       "      <td>STF BISTRO CRUSTINI</td>\n",
       "      <td>CAKK1</td>\n",
       "      <td>FROZEN MEALS</td>\n",
       "      <td>CEF - CA Bistro 8pk</td>\n",
       "      <td>2.688713</td>\n",
       "    </tr>\n",
       "  </tbody>\n",
       "</table>\n",
       "</div>"
      ],
      "text/plain": [
       "    pos_date  Pos_Qty_EA  Pos_Sales  POS_QTY_CS    UBP UNIT Complete_PPG  \\\n",
       "0 2022-06-10          69     186.15       8.625  23.44   EA  Superbundle   \n",
       "1 2022-06-09          60     161.86       7.500  23.44   EA  Superbundle   \n",
       "2 2022-06-12         101     271.56      12.625  23.44   EA  Superbundle   \n",
       "\n",
       "   Total_Sales  Baseline_Qty  Baseline_Nps  Incr_Sales  PromoId  \\\n",
       "0       202.17            14        328.16     -125.99  1358399   \n",
       "1       175.80            14        328.16     -152.36  1358399   \n",
       "2       295.93            14        328.16      -32.23  1358399   \n",
       "\n",
       "   PromoDuration                              MATERIALDESC SUB_CATEGORY  \\\n",
       "0             35  STOUFFER'S BST Italian 5 Cheese 8x256gCA    CAKK1K112   \n",
       "1             35  STOUFFER'S BST Italian 5 Cheese 8x256gCA    CAKK1K112   \n",
       "2             35  STOUFFER'S BST Italian 5 Cheese 8x256gCA    CAKK1K112   \n",
       "\n",
       "     SUB_CATEGORY_DESC CATEGORY CATEGORY_DESC          FGroup_Desc  PricePoint  \n",
       "0  STF BISTRO CRUSTINI    CAKK1  FROZEN MEALS  CEF - CA Bistro 8pk    2.697826  \n",
       "1  STF BISTRO CRUSTINI    CAKK1  FROZEN MEALS  CEF - CA Bistro 8pk    2.697667  \n",
       "2  STF BISTRO CRUSTINI    CAKK1  FROZEN MEALS  CEF - CA Bistro 8pk    2.688713  "
      ]
     },
     "execution_count": 13,
     "metadata": {},
     "output_type": "execute_result"
    }
   ],
   "source": [
    "df.head(3)"
   ]
  },
  {
   "cell_type": "code",
   "execution_count": 14,
   "id": "8fd5c610",
   "metadata": {
    "id": "8fd5c610",
    "outputId": "a3eb3623-1cc3-48e8-88b4-d229456b0a42"
   },
   "outputs": [
    {
     "name": "stdout",
     "output_type": "stream",
     "text": [
      "<class 'pandas.core.frame.DataFrame'>\n",
      "RangeIndex: 5533 entries, 0 to 5532\n",
      "Data columns (total 20 columns):\n",
      " #   Column             Non-Null Count  Dtype         \n",
      "---  ------             --------------  -----         \n",
      " 0   pos_date           5533 non-null   datetime64[ns]\n",
      " 1   Pos_Qty_EA         5533 non-null   int64         \n",
      " 2   Pos_Sales          5533 non-null   float64       \n",
      " 3   POS_QTY_CS         5533 non-null   float64       \n",
      " 4   UBP                5533 non-null   float64       \n",
      " 5   UNIT               5533 non-null   object        \n",
      " 6   Complete_PPG       5533 non-null   object        \n",
      " 7   Total_Sales        5533 non-null   float64       \n",
      " 8   Baseline_Qty       5533 non-null   int64         \n",
      " 9   Baseline_Nps       5533 non-null   float64       \n",
      " 10  Incr_Sales         5533 non-null   float64       \n",
      " 11  PromoId            5533 non-null   int64         \n",
      " 12  PromoDuration      5533 non-null   int64         \n",
      " 13  MATERIALDESC       5533 non-null   object        \n",
      " 14  SUB_CATEGORY       5533 non-null   object        \n",
      " 15  SUB_CATEGORY_DESC  5533 non-null   object        \n",
      " 16  CATEGORY           5533 non-null   object        \n",
      " 17  CATEGORY_DESC      5533 non-null   object        \n",
      " 18  FGroup_Desc        5533 non-null   object        \n",
      " 19  PricePoint         5533 non-null   float64       \n",
      "dtypes: datetime64[ns](1), float64(7), int64(4), object(8)\n",
      "memory usage: 864.7+ KB\n"
     ]
    }
   ],
   "source": [
    "# show dataframe\n",
    "df.info()"
   ]
  },
  {
   "cell_type": "markdown",
   "id": "7c9c153f",
   "metadata": {
    "id": "7c9c153f"
   },
   "source": [
    "## 4. Data Encoding"
   ]
  },
  {
   "cell_type": "markdown",
   "id": "661f6f5c",
   "metadata": {
    "id": "661f6f5c"
   },
   "source": [
    "### 4.1 pos_date encoding\n",
    "\n",
    "In order to perform future data exploration and prediction, I have encoded the seasons based on the month values."
   ]
  },
  {
   "cell_type": "code",
   "execution_count": 15,
   "id": "d77691e9",
   "metadata": {
    "id": "d77691e9"
   },
   "outputs": [],
   "source": [
    "# Function to encode seasons based on month\n",
    "def encode_season(month):\n",
    "    if 3 <= month <= 5:\n",
    "        return 'Spring'\n",
    "    elif 6 <= month <= 8:\n",
    "        return 'Summer'\n",
    "    elif 9 <= month <= 11:\n",
    "        return 'Fall'\n",
    "    else:\n",
    "        return 'Winter'"
   ]
  },
  {
   "cell_type": "code",
   "execution_count": 16,
   "id": "5e544694",
   "metadata": {
    "id": "5e544694"
   },
   "outputs": [],
   "source": [
    "df['season'] = df['pos_date'].dt.month.apply(encode_season)\n"
   ]
  },
  {
   "cell_type": "code",
   "execution_count": 17,
   "id": "436a2981",
   "metadata": {
    "id": "436a2981"
   },
   "outputs": [],
   "source": [
    "# drop the encoded column, \"pos_date\"\n",
    "df = df.drop('pos_date', axis=1)"
   ]
  },
  {
   "cell_type": "code",
   "execution_count": 18,
   "id": "3874931a",
   "metadata": {
    "id": "3874931a",
    "outputId": "72dde688-54c3-4751-f3db-2c199f808667"
   },
   "outputs": [
    {
     "data": {
      "text/html": [
       "<div>\n",
       "<style scoped>\n",
       "    .dataframe tbody tr th:only-of-type {\n",
       "        vertical-align: middle;\n",
       "    }\n",
       "\n",
       "    .dataframe tbody tr th {\n",
       "        vertical-align: top;\n",
       "    }\n",
       "\n",
       "    .dataframe thead th {\n",
       "        text-align: right;\n",
       "    }\n",
       "</style>\n",
       "<table border=\"1\" class=\"dataframe\">\n",
       "  <thead>\n",
       "    <tr style=\"text-align: right;\">\n",
       "      <th></th>\n",
       "      <th>Pos_Qty_EA</th>\n",
       "      <th>Pos_Sales</th>\n",
       "      <th>POS_QTY_CS</th>\n",
       "      <th>UBP</th>\n",
       "      <th>UNIT</th>\n",
       "      <th>Complete_PPG</th>\n",
       "      <th>Total_Sales</th>\n",
       "      <th>Baseline_Qty</th>\n",
       "      <th>Baseline_Nps</th>\n",
       "      <th>Incr_Sales</th>\n",
       "      <th>PromoId</th>\n",
       "      <th>PromoDuration</th>\n",
       "      <th>MATERIALDESC</th>\n",
       "      <th>SUB_CATEGORY</th>\n",
       "      <th>SUB_CATEGORY_DESC</th>\n",
       "      <th>CATEGORY</th>\n",
       "      <th>CATEGORY_DESC</th>\n",
       "      <th>FGroup_Desc</th>\n",
       "      <th>PricePoint</th>\n",
       "      <th>season</th>\n",
       "    </tr>\n",
       "  </thead>\n",
       "  <tbody>\n",
       "    <tr>\n",
       "      <th>0</th>\n",
       "      <td>69</td>\n",
       "      <td>186.15</td>\n",
       "      <td>8.625</td>\n",
       "      <td>23.44</td>\n",
       "      <td>EA</td>\n",
       "      <td>Superbundle</td>\n",
       "      <td>202.17</td>\n",
       "      <td>14</td>\n",
       "      <td>328.16</td>\n",
       "      <td>-125.99</td>\n",
       "      <td>1358399</td>\n",
       "      <td>35</td>\n",
       "      <td>STOUFFER'S BST Italian 5 Cheese 8x256gCA</td>\n",
       "      <td>CAKK1K112</td>\n",
       "      <td>STF BISTRO CRUSTINI</td>\n",
       "      <td>CAKK1</td>\n",
       "      <td>FROZEN MEALS</td>\n",
       "      <td>CEF - CA Bistro 8pk</td>\n",
       "      <td>2.697826</td>\n",
       "      <td>Summer</td>\n",
       "    </tr>\n",
       "    <tr>\n",
       "      <th>1</th>\n",
       "      <td>60</td>\n",
       "      <td>161.86</td>\n",
       "      <td>7.500</td>\n",
       "      <td>23.44</td>\n",
       "      <td>EA</td>\n",
       "      <td>Superbundle</td>\n",
       "      <td>175.80</td>\n",
       "      <td>14</td>\n",
       "      <td>328.16</td>\n",
       "      <td>-152.36</td>\n",
       "      <td>1358399</td>\n",
       "      <td>35</td>\n",
       "      <td>STOUFFER'S BST Italian 5 Cheese 8x256gCA</td>\n",
       "      <td>CAKK1K112</td>\n",
       "      <td>STF BISTRO CRUSTINI</td>\n",
       "      <td>CAKK1</td>\n",
       "      <td>FROZEN MEALS</td>\n",
       "      <td>CEF - CA Bistro 8pk</td>\n",
       "      <td>2.697667</td>\n",
       "      <td>Summer</td>\n",
       "    </tr>\n",
       "  </tbody>\n",
       "</table>\n",
       "</div>"
      ],
      "text/plain": [
       "   Pos_Qty_EA  Pos_Sales  POS_QTY_CS    UBP UNIT Complete_PPG  Total_Sales  \\\n",
       "0          69     186.15       8.625  23.44   EA  Superbundle       202.17   \n",
       "1          60     161.86       7.500  23.44   EA  Superbundle       175.80   \n",
       "\n",
       "   Baseline_Qty  Baseline_Nps  Incr_Sales  PromoId  PromoDuration  \\\n",
       "0            14        328.16     -125.99  1358399             35   \n",
       "1            14        328.16     -152.36  1358399             35   \n",
       "\n",
       "                               MATERIALDESC SUB_CATEGORY    SUB_CATEGORY_DESC  \\\n",
       "0  STOUFFER'S BST Italian 5 Cheese 8x256gCA    CAKK1K112  STF BISTRO CRUSTINI   \n",
       "1  STOUFFER'S BST Italian 5 Cheese 8x256gCA    CAKK1K112  STF BISTRO CRUSTINI   \n",
       "\n",
       "  CATEGORY CATEGORY_DESC          FGroup_Desc  PricePoint  season  \n",
       "0    CAKK1  FROZEN MEALS  CEF - CA Bistro 8pk    2.697826  Summer  \n",
       "1    CAKK1  FROZEN MEALS  CEF - CA Bistro 8pk    2.697667  Summer  "
      ]
     },
     "execution_count": 18,
     "metadata": {},
     "output_type": "execute_result"
    }
   ],
   "source": [
    "df.head(2)"
   ]
  },
  {
   "cell_type": "markdown",
   "id": "754e1925",
   "metadata": {
    "id": "754e1925"
   },
   "source": [
    "### 4.2 Other Features Encoding"
   ]
  },
  {
   "cell_type": "code",
   "execution_count": 19,
   "id": "be0ceb53",
   "metadata": {
    "id": "be0ceb53",
    "outputId": "9eb7405e-e7be-4d7e-90e5-28d36c7bd5a1"
   },
   "outputs": [
    {
     "name": "stdout",
     "output_type": "stream",
     "text": [
      "<class 'pandas.core.frame.DataFrame'>\n",
      "RangeIndex: 5533 entries, 0 to 5532\n",
      "Data columns (total 20 columns):\n",
      " #   Column             Non-Null Count  Dtype  \n",
      "---  ------             --------------  -----  \n",
      " 0   Pos_Qty_EA         5533 non-null   int64  \n",
      " 1   Pos_Sales          5533 non-null   float64\n",
      " 2   POS_QTY_CS         5533 non-null   float64\n",
      " 3   UBP                5533 non-null   float64\n",
      " 4   UNIT               5533 non-null   object \n",
      " 5   Complete_PPG       5533 non-null   object \n",
      " 6   Total_Sales        5533 non-null   float64\n",
      " 7   Baseline_Qty       5533 non-null   int64  \n",
      " 8   Baseline_Nps       5533 non-null   float64\n",
      " 9   Incr_Sales         5533 non-null   float64\n",
      " 10  PromoId            5533 non-null   int64  \n",
      " 11  PromoDuration      5533 non-null   int64  \n",
      " 12  MATERIALDESC       5533 non-null   object \n",
      " 13  SUB_CATEGORY       5533 non-null   object \n",
      " 14  SUB_CATEGORY_DESC  5533 non-null   object \n",
      " 15  CATEGORY           5533 non-null   object \n",
      " 16  CATEGORY_DESC      5533 non-null   object \n",
      " 17  FGroup_Desc        5533 non-null   object \n",
      " 18  PricePoint         5533 non-null   float64\n",
      " 19  season             5533 non-null   object \n",
      "dtypes: float64(7), int64(4), object(9)\n",
      "memory usage: 864.7+ KB\n"
     ]
    }
   ],
   "source": [
    "df.info()"
   ]
  },
  {
   "cell_type": "code",
   "execution_count": 20,
   "id": "6945564e",
   "metadata": {
    "id": "6945564e",
    "outputId": "49e8b2f9-b27b-4192-b7d8-dffea2e59d10"
   },
   "outputs": [
    {
     "data": {
      "text/plain": [
       "Index(['UNIT', 'Complete_PPG', 'MATERIALDESC', 'SUB_CATEGORY',\n",
       "       'SUB_CATEGORY_DESC', 'CATEGORY', 'CATEGORY_DESC', 'FGroup_Desc',\n",
       "       'season'],\n",
       "      dtype='object')"
      ]
     },
     "execution_count": 20,
     "metadata": {},
     "output_type": "execute_result"
    }
   ],
   "source": [
    "categorical_features = df.select_dtypes(include=['object']).columns\n",
    "categorical_features"
   ]
  },
  {
   "cell_type": "code",
   "execution_count": 21,
   "id": "5d7ed3ff",
   "metadata": {
    "id": "5d7ed3ff"
   },
   "outputs": [],
   "source": [
    "from sklearn.preprocessing import LabelEncoder\n",
    "\n",
    "# Create a LabelEncoder object\n",
    "encoder = LabelEncoder()\n",
    "\n",
    "# Encode multiple columns\n",
    "df_encoded = df.apply(lambda x: encoder.fit_transform(x) if x.dtype == 'object' else x)"
   ]
  },
  {
   "cell_type": "code",
   "execution_count": 22,
   "id": "26f2fe46",
   "metadata": {
    "id": "26f2fe46"
   },
   "outputs": [],
   "source": [
    "df = df_encoded"
   ]
  },
  {
   "cell_type": "code",
   "execution_count": 23,
   "id": "57a88724",
   "metadata": {
    "id": "57a88724",
    "outputId": "6e1e15e3-f21e-48b6-d8af-11160e5d7f7a"
   },
   "outputs": [
    {
     "name": "stdout",
     "output_type": "stream",
     "text": [
      "<class 'pandas.core.frame.DataFrame'>\n",
      "RangeIndex: 5533 entries, 0 to 5532\n",
      "Data columns (total 20 columns):\n",
      " #   Column             Non-Null Count  Dtype  \n",
      "---  ------             --------------  -----  \n",
      " 0   Pos_Qty_EA         5533 non-null   int64  \n",
      " 1   Pos_Sales          5533 non-null   float64\n",
      " 2   POS_QTY_CS         5533 non-null   float64\n",
      " 3   UBP                5533 non-null   float64\n",
      " 4   UNIT               5533 non-null   int64  \n",
      " 5   Complete_PPG       5533 non-null   int64  \n",
      " 6   Total_Sales        5533 non-null   float64\n",
      " 7   Baseline_Qty       5533 non-null   int64  \n",
      " 8   Baseline_Nps       5533 non-null   float64\n",
      " 9   Incr_Sales         5533 non-null   float64\n",
      " 10  PromoId            5533 non-null   int64  \n",
      " 11  PromoDuration      5533 non-null   int64  \n",
      " 12  MATERIALDESC       5533 non-null   int64  \n",
      " 13  SUB_CATEGORY       5533 non-null   int64  \n",
      " 14  SUB_CATEGORY_DESC  5533 non-null   int64  \n",
      " 15  CATEGORY           5533 non-null   int64  \n",
      " 16  CATEGORY_DESC      5533 non-null   int64  \n",
      " 17  FGroup_Desc        5533 non-null   int64  \n",
      " 18  PricePoint         5533 non-null   float64\n",
      " 19  season             5533 non-null   int64  \n",
      "dtypes: float64(7), int64(13)\n",
      "memory usage: 864.7 KB\n"
     ]
    }
   ],
   "source": [
    "df.info()"
   ]
  },
  {
   "cell_type": "code",
   "execution_count": 24,
   "id": "eb2aed62",
   "metadata": {
    "id": "eb2aed62",
    "outputId": "815baf09-8ec7-463d-e367-3a8507ad3bdb"
   },
   "outputs": [
    {
     "data": {
      "text/html": [
       "<div>\n",
       "<style scoped>\n",
       "    .dataframe tbody tr th:only-of-type {\n",
       "        vertical-align: middle;\n",
       "    }\n",
       "\n",
       "    .dataframe tbody tr th {\n",
       "        vertical-align: top;\n",
       "    }\n",
       "\n",
       "    .dataframe thead th {\n",
       "        text-align: right;\n",
       "    }\n",
       "</style>\n",
       "<table border=\"1\" class=\"dataframe\">\n",
       "  <thead>\n",
       "    <tr style=\"text-align: right;\">\n",
       "      <th></th>\n",
       "      <th>Pos_Qty_EA</th>\n",
       "      <th>Pos_Sales</th>\n",
       "      <th>POS_QTY_CS</th>\n",
       "      <th>UBP</th>\n",
       "      <th>UNIT</th>\n",
       "      <th>Complete_PPG</th>\n",
       "      <th>Total_Sales</th>\n",
       "      <th>Baseline_Qty</th>\n",
       "      <th>Baseline_Nps</th>\n",
       "      <th>Incr_Sales</th>\n",
       "      <th>PromoId</th>\n",
       "      <th>PromoDuration</th>\n",
       "      <th>MATERIALDESC</th>\n",
       "      <th>SUB_CATEGORY</th>\n",
       "      <th>SUB_CATEGORY_DESC</th>\n",
       "      <th>CATEGORY</th>\n",
       "      <th>CATEGORY_DESC</th>\n",
       "      <th>FGroup_Desc</th>\n",
       "      <th>PricePoint</th>\n",
       "      <th>season</th>\n",
       "    </tr>\n",
       "  </thead>\n",
       "  <tbody>\n",
       "    <tr>\n",
       "      <th>0</th>\n",
       "      <td>69</td>\n",
       "      <td>186.15</td>\n",
       "      <td>8.625</td>\n",
       "      <td>23.44</td>\n",
       "      <td>1</td>\n",
       "      <td>19</td>\n",
       "      <td>202.17</td>\n",
       "      <td>14</td>\n",
       "      <td>328.16</td>\n",
       "      <td>-125.99</td>\n",
       "      <td>1358399</td>\n",
       "      <td>35</td>\n",
       "      <td>28</td>\n",
       "      <td>13</td>\n",
       "      <td>16</td>\n",
       "      <td>6</td>\n",
       "      <td>3</td>\n",
       "      <td>18</td>\n",
       "      <td>2.697826</td>\n",
       "      <td>2</td>\n",
       "    </tr>\n",
       "    <tr>\n",
       "      <th>1</th>\n",
       "      <td>60</td>\n",
       "      <td>161.86</td>\n",
       "      <td>7.500</td>\n",
       "      <td>23.44</td>\n",
       "      <td>1</td>\n",
       "      <td>19</td>\n",
       "      <td>175.80</td>\n",
       "      <td>14</td>\n",
       "      <td>328.16</td>\n",
       "      <td>-152.36</td>\n",
       "      <td>1358399</td>\n",
       "      <td>35</td>\n",
       "      <td>28</td>\n",
       "      <td>13</td>\n",
       "      <td>16</td>\n",
       "      <td>6</td>\n",
       "      <td>3</td>\n",
       "      <td>18</td>\n",
       "      <td>2.697667</td>\n",
       "      <td>2</td>\n",
       "    </tr>\n",
       "  </tbody>\n",
       "</table>\n",
       "</div>"
      ],
      "text/plain": [
       "   Pos_Qty_EA  Pos_Sales  POS_QTY_CS    UBP  UNIT  Complete_PPG  Total_Sales  \\\n",
       "0          69     186.15       8.625  23.44     1            19       202.17   \n",
       "1          60     161.86       7.500  23.44     1            19       175.80   \n",
       "\n",
       "   Baseline_Qty  Baseline_Nps  Incr_Sales  PromoId  PromoDuration  \\\n",
       "0            14        328.16     -125.99  1358399             35   \n",
       "1            14        328.16     -152.36  1358399             35   \n",
       "\n",
       "   MATERIALDESC  SUB_CATEGORY  SUB_CATEGORY_DESC  CATEGORY  CATEGORY_DESC  \\\n",
       "0            28            13                 16         6              3   \n",
       "1            28            13                 16         6              3   \n",
       "\n",
       "   FGroup_Desc  PricePoint  season  \n",
       "0           18    2.697826       2  \n",
       "1           18    2.697667       2  "
      ]
     },
     "execution_count": 24,
     "metadata": {},
     "output_type": "execute_result"
    }
   ],
   "source": [
    "df.head(2)"
   ]
  },
  {
   "cell_type": "markdown",
   "id": "e1805a8e",
   "metadata": {
    "id": "e1805a8e"
   },
   "source": [
    "## 5. Model Selection"
   ]
  },
  {
   "cell_type": "markdown",
   "id": "49ac2774",
   "metadata": {
    "id": "49ac2774"
   },
   "source": [
    "In this section, I will train multiple models using this dataset and select the model that achieves the highest level of accuracy"
   ]
  },
  {
   "cell_type": "markdown",
   "id": "857cabb6",
   "metadata": {
    "id": "857cabb6"
   },
   "source": [
    "### 5.1 Import Libraries"
   ]
  },
  {
   "cell_type": "code",
   "execution_count": 25,
   "id": "7988fd8d",
   "metadata": {
    "id": "7988fd8d"
   },
   "outputs": [],
   "source": [
    "from sklearn.model_selection import train_test_split\n",
    "from sklearn.linear_model import LinearRegression\n",
    "from sklearn.tree import DecisionTreeRegressor\n",
    "from sklearn.ensemble import RandomForestRegressor, GradientBoostingRegressor\n",
    "from sklearn.svm import SVR\n",
    "from sklearn.neural_network import MLPRegressor\n",
    "from sklearn.neighbors import KNeighborsRegressor\n",
    "from sklearn.naive_bayes import GaussianNB\n",
    "from sklearn.metrics import mean_squared_error, accuracy_score"
   ]
  },
  {
   "cell_type": "markdown",
   "id": "a5302f89",
   "metadata": {
    "id": "a5302f89"
   },
   "source": [
    "### 5.2 Model Comparison"
   ]
  },
  {
   "cell_type": "code",
   "execution_count": 26,
   "id": "22220fc8",
   "metadata": {
    "id": "22220fc8"
   },
   "outputs": [],
   "source": [
    "# Separate features and target\n",
    "X = df.drop('Pos_Qty_EA', axis=1)  # Features\n",
    "y = df['Pos_Qty_EA']  # Target\n",
    "\n",
    "# Split the data into train and test sets\n",
    "X_train, X_test, y_train, y_test = train_test_split(X, y, test_size=0.2, random_state=0)\n",
    "\n",
    "# Define a dictionary to store model names and instances\n",
    "models = {\n",
    "    'Linear Regression': LinearRegression(),\n",
    "    'Decision Tree': DecisionTreeRegressor(),\n",
    "    'Random Forest': RandomForestRegressor(),\n",
    "    'Gradient Boosting': GradientBoostingRegressor(),\n",
    "    'Support Vector Machine': SVR(),\n",
    "    'Neural Network': MLPRegressor(),\n",
    "    'K-Nearest Neighbors': KNeighborsRegressor(),\n",
    "    'Naive Bayes': GaussianNB()\n",
    "}\n",
    "\n",
    "# Create an empty dataframe to store accuracy scores\n",
    "accuracy_df = pd.DataFrame(columns=['Model', 'Accuracy'])\n",
    "\n",
    "# Iterate over the models, train, and evaluate\n",
    "for model_name, model in models.items():\n",
    "    model.fit(X_train, y_train)\n",
    "    y_pred = model.predict(X_test)\n",
    "    accuracy = accuracy_score(y_test, y_pred.round())  # Rounding the predictions for classification\n",
    "    accuracy_df = accuracy_df.append({'Model': model_name, 'Accuracy': accuracy}, ignore_index=True)"
   ]
  },
  {
   "cell_type": "code",
   "execution_count": 27,
   "id": "d7e6d068",
   "metadata": {
    "id": "d7e6d068",
    "outputId": "b7931f89-d98b-41ed-99c8-940f75e6f9d4"
   },
   "outputs": [
    {
     "data": {
      "text/html": [
       "<div>\n",
       "<style scoped>\n",
       "    .dataframe tbody tr th:only-of-type {\n",
       "        vertical-align: middle;\n",
       "    }\n",
       "\n",
       "    .dataframe tbody tr th {\n",
       "        vertical-align: top;\n",
       "    }\n",
       "\n",
       "    .dataframe thead th {\n",
       "        text-align: right;\n",
       "    }\n",
       "</style>\n",
       "<table border=\"1\" class=\"dataframe\">\n",
       "  <thead>\n",
       "    <tr style=\"text-align: right;\">\n",
       "      <th></th>\n",
       "      <th>Model</th>\n",
       "      <th>Accuracy</th>\n",
       "    </tr>\n",
       "  </thead>\n",
       "  <tbody>\n",
       "    <tr>\n",
       "      <th>1</th>\n",
       "      <td>Decision Tree</td>\n",
       "      <td>0.744354</td>\n",
       "    </tr>\n",
       "    <tr>\n",
       "      <th>2</th>\n",
       "      <td>Random Forest</td>\n",
       "      <td>0.660343</td>\n",
       "    </tr>\n",
       "    <tr>\n",
       "      <th>6</th>\n",
       "      <td>K-Nearest Neighbors</td>\n",
       "      <td>0.141825</td>\n",
       "    </tr>\n",
       "    <tr>\n",
       "      <th>3</th>\n",
       "      <td>Gradient Boosting</td>\n",
       "      <td>0.080397</td>\n",
       "    </tr>\n",
       "    <tr>\n",
       "      <th>7</th>\n",
       "      <td>Naive Bayes</td>\n",
       "      <td>0.03252</td>\n",
       "    </tr>\n",
       "    <tr>\n",
       "      <th>5</th>\n",
       "      <td>Neural Network</td>\n",
       "      <td>0.017164</td>\n",
       "    </tr>\n",
       "    <tr>\n",
       "      <th>0</th>\n",
       "      <td>Linear Regression</td>\n",
       "      <td>0.01084</td>\n",
       "    </tr>\n",
       "    <tr>\n",
       "      <th>4</th>\n",
       "      <td>Support Vector Machine</td>\n",
       "      <td>0.003613</td>\n",
       "    </tr>\n",
       "  </tbody>\n",
       "</table>\n",
       "</div>"
      ],
      "text/plain": [
       "                    Model  Accuracy\n",
       "1           Decision Tree  0.744354\n",
       "2           Random Forest  0.660343\n",
       "6     K-Nearest Neighbors  0.141825\n",
       "3       Gradient Boosting  0.080397\n",
       "7             Naive Bayes   0.03252\n",
       "5          Neural Network  0.017164\n",
       "0       Linear Regression   0.01084\n",
       "4  Support Vector Machine  0.003613"
      ]
     },
     "execution_count": 27,
     "metadata": {},
     "output_type": "execute_result"
    }
   ],
   "source": [
    "# rank the model based on the accuracy\n",
    "accuracy_df = accuracy_df.sort_values('Accuracy', ascending=False)\n",
    "accuracy_df"
   ]
  },
  {
   "cell_type": "markdown",
   "id": "4a3d632e",
   "metadata": {
    "id": "4a3d632e"
   },
   "source": [
    "Therefore, random forest will be chose as the model."
   ]
  },
  {
   "cell_type": "markdown",
   "id": "cce96602",
   "metadata": {
    "id": "cce96602"
   },
   "source": [
    "## 6. Feature Engineering"
   ]
  },
  {
   "cell_type": "markdown",
   "id": "1e985d48",
   "metadata": {
    "id": "1e985d48"
   },
   "source": [
    "### 6.1 Feature Extraction"
   ]
  },
  {
   "cell_type": "code",
   "execution_count": 28,
   "id": "a8ae7fd9",
   "metadata": {
    "id": "a8ae7fd9",
    "outputId": "ac7360e3-c3bc-4160-c155-c2848de56138"
   },
   "outputs": [
    {
     "data": {
      "image/png": "[encoded data removed]",
      "text/plain": [
       "<Figure size 720x576 with 2 Axes>"
      ]
     },
     "metadata": {
      "needs_background": "light"
     },
     "output_type": "display_data"
    }
   ],
   "source": [
    "# Calculate the correlation matrix\n",
    "correlation_matrix = df.corr()\n",
    "\n",
    "# Plot the correlation matrix as a heatmap\n",
    "plt.figure(figsize=(10, 8))\n",
    "sns.heatmap(correlation_matrix, annot=True, cmap='coolwarm')\n",
    "plt.title('Feature Correlation Heatmap')\n",
    "plt.show()"
   ]
  },
  {
   "cell_type": "code",
   "execution_count": 29,
   "id": "63812aee",
   "metadata": {
    "id": "63812aee"
   },
   "outputs": [],
   "source": [
    "from sklearn.feature_selection import VarianceThreshold, SelectKBest, chi2, SelectFromModel, RFE\n",
    "from sklearn.ensemble import RandomForestRegressor\n",
    "from sklearn.linear_model import Lasso\n",
    "from sklearn.model_selection import cross_val_score"
   ]
  },
  {
   "cell_type": "code",
   "execution_count": 30,
   "id": "4da01674",
   "metadata": {
    "id": "4da01674",
    "outputId": "1c7379f2-ed5d-40e2-822a-da19ad2433c0"
   },
   "outputs": [],
   "source": [
    "# Separate features and target\n",
    "X = df.drop('Pos_Qty_EA', axis=1)  # Features\n",
    "y = df['Pos_Qty_EA']  # Target"
   ]
  },
  {
   "cell_type": "markdown",
   "id": "27018461",
   "metadata": {},
   "source": [
    "#### Feature selection using L1 Regularization (Lasso)\n"
   ]
  },
  {
   "cell_type": "markdown",
   "id": "ad1383ed",
   "metadata": {},
   "source": [
    "- `lasso_selector = SelectFromModel(Lasso(alpha=0.01))`: This creates a feature selector using Lasso regression with a specified regularization parameter `alpha=0.01`.\n",
    "\n",
    "\n",
    "- `X_lasso = lasso_selector.fit_transform(X, y)`: This applies the Lasso feature selector to the feature matrix `X` and the target vector `y`, and returns the transformed feature matrix X_lasso with selected features.\n",
    "\n",
    "\n",
    "- `lasso_features = X.columns[lasso_selector.get_support()]`: This retrieves the selected features from the original feature matrix `X` based on the Lasso feature selector."
   ]
  },
  {
   "cell_type": "code",
   "execution_count": 31,
   "id": "f84eb1db",
   "metadata": {},
   "outputs": [],
   "source": [
    "lasso_selector = SelectFromModel(Lasso(alpha=0.01))\n",
    "X_lasso = lasso_selector.fit_transform(X, y)\n",
    "lasso_features = X.columns[lasso_selector.get_support()]"
   ]
  },
  {
   "cell_type": "code",
   "execution_count": 32,
   "id": "462fdc64",
   "metadata": {},
   "outputs": [
    {
     "name": "stdout",
     "output_type": "stream",
     "text": [
      "Lasso Selected Features:\n",
      "Index(['Pos_Sales', 'POS_QTY_CS', 'UBP', 'UNIT', 'Complete_PPG', 'Total_Sales',\n",
      "       'Baseline_Qty', 'Baseline_Nps', 'Incr_Sales', 'PromoDuration',\n",
      "       'MATERIALDESC', 'SUB_CATEGORY', 'SUB_CATEGORY_DESC', 'CATEGORY',\n",
      "       'CATEGORY_DESC', 'FGroup_Desc', 'PricePoint', 'season'],\n",
      "      dtype='object')\n",
      "Number of features:  18\n"
     ]
    }
   ],
   "source": [
    "print(\"Lasso Selected Features:\")\n",
    "print(lasso_features)\n",
    "print(\"Number of features: \", len(X.columns[lasso_selector.get_support()]))"
   ]
  },
  {
   "cell_type": "markdown",
   "id": "ab8bcdd5",
   "metadata": {},
   "source": [
    "#### Feature selection using Tree-based feature importance"
   ]
  },
  {
   "cell_type": "markdown",
   "id": "43ee8723",
   "metadata": {},
   "source": [
    "- `rf = RandomForestRegressor()`: This creates a Random Forest Regressor model.\n",
    "- `rf.fit(X, y)`: This trains the Random Forest Regressor on the feature matrix X and the target vector y.\n",
    "- `feature_importances = rf.feature_importances_`: This retrieves the feature importances from the trained Random Forest Regressor.\n",
    "- `feature_indices = np.argsort(feature_importances)[::-1]`: This sorts the feature importances in descending order and retrieves the corresponding indices.\n",
    "- `top_k = 5`: This sets the desired number of top features to be selected.\n",
    "- `X_tree_based = X.iloc[:, feature_indices[:top_k]]`: This selects the top `top_k` features from the original feature matrix X based on the feature importances."
   ]
  },
  {
   "cell_type": "code",
   "execution_count": 33,
   "id": "5828e63a",
   "metadata": {},
   "outputs": [],
   "source": [
    "rf = RandomForestRegressor()\n",
    "rf.fit(X, y)\n",
    "feature_importances = rf.feature_importances_\n",
    "feature_indices = np.argsort(feature_importances)[::-1]\n",
    "top_k = 5\n",
    "X_tree_based = X.iloc[:, feature_indices[:top_k]]\n",
    "tree_features = X_tree_based.columns"
   ]
  },
  {
   "cell_type": "code",
   "execution_count": 34,
   "id": "59528e65",
   "metadata": {},
   "outputs": [
    {
     "name": "stdout",
     "output_type": "stream",
     "text": [
      "\n",
      "Tree-based Selected Features:\n",
      "Index(['POS_QTY_CS', 'PricePoint', 'Total_Sales', 'Pos_Sales', 'Incr_Sales'], dtype='object')\n",
      "Number of features:  5\n"
     ]
    }
   ],
   "source": [
    "print(\"\\nTree-based Selected Features:\")\n",
    "print(tree_features)\n",
    "print(\"Number of features: \", len(X_tree_based.columns))"
   ]
  },
  {
   "cell_type": "markdown",
   "id": "49155292",
   "metadata": {},
   "source": [
    "#### Feature selection using Recursive Feature Addition (RFA)"
   ]
  },
  {
   "cell_type": "markdown",
   "id": "6d3e7ffc",
   "metadata": {},
   "source": [
    "- `estimator = RandomForestRegressor()`: This creates a Random Forest Regressor model.\n",
    "- `rfa_selector = RFE(estimator=estimator, n_features_to_select=5): This creates a feature selector using Recursive Feature Addition (RFA) with the Random Forest Regressor as the estimator and specifying the number of features to select as 5.\n",
    "- `X_rfa = rfa_selector.fit_transform(X, y)`: This applies the RFA feature selector to the feature matrix `X` and the target vector `y`, and returns the transformed feature matrix `X_rfa` with selected features.\n",
    "- `rfa_features = X.columns[rfa_selector.support_]`: This retrieves the selected features from the original feature matrix `X` based on the RFA feature selector."
   ]
  },
  {
   "cell_type": "code",
   "execution_count": 35,
   "id": "ccd16744",
   "metadata": {},
   "outputs": [],
   "source": [
    "estimator = RandomForestRegressor()\n",
    "rfa_selector = RFE(estimator=estimator, n_features_to_select=5)\n",
    "X_rfa = rfa_selector.fit_transform(X, y)\n",
    "rfa_features = X.columns[rfa_selector.support_]"
   ]
  },
  {
   "cell_type": "code",
   "execution_count": 36,
   "id": "6e3a305c",
   "metadata": {},
   "outputs": [
    {
     "name": "stdout",
     "output_type": "stream",
     "text": [
      "\n",
      "RFA Selected Features:\n",
      "Index(['Pos_Sales', 'POS_QTY_CS', 'Total_Sales', 'SUB_CATEGORY', 'PricePoint'], dtype='object')\n",
      "Number of features:  5\n"
     ]
    }
   ],
   "source": [
    "print(\"\\nRFA Selected Features:\")\n",
    "print(rfa_features)\n",
    "print(\"Number of features: \", len(X.columns[rfa_selector.support_]))"
   ]
  },
  {
   "cell_type": "markdown",
   "id": "76c2b2a0",
   "metadata": {},
   "source": [
    "#### DIsplay the datafram with Selected Features"
   ]
  },
  {
   "cell_type": "code",
   "execution_count": 37,
   "id": "4a920279",
   "metadata": {
    "id": "4a920279",
    "outputId": "9b14056c-3b1a-4212-e2c7-a97d3106ca41"
   },
   "outputs": [
    {
     "data": {
      "text/html": [
       "<div>\n",
       "<style scoped>\n",
       "    .dataframe tbody tr th:only-of-type {\n",
       "        vertical-align: middle;\n",
       "    }\n",
       "\n",
       "    .dataframe tbody tr th {\n",
       "        vertical-align: top;\n",
       "    }\n",
       "\n",
       "    .dataframe thead th {\n",
       "        text-align: right;\n",
       "    }\n",
       "</style>\n",
       "<table border=\"1\" class=\"dataframe\">\n",
       "  <thead>\n",
       "    <tr style=\"text-align: right;\">\n",
       "      <th></th>\n",
       "      <th>Pos_Sales</th>\n",
       "      <th>POS_QTY_CS</th>\n",
       "      <th>UBP</th>\n",
       "      <th>UNIT</th>\n",
       "      <th>Complete_PPG</th>\n",
       "      <th>Total_Sales</th>\n",
       "      <th>Baseline_Qty</th>\n",
       "      <th>Baseline_Nps</th>\n",
       "      <th>Incr_Sales</th>\n",
       "      <th>PromoDuration</th>\n",
       "      <th>MATERIALDESC</th>\n",
       "      <th>SUB_CATEGORY</th>\n",
       "      <th>SUB_CATEGORY_DESC</th>\n",
       "      <th>CATEGORY</th>\n",
       "      <th>CATEGORY_DESC</th>\n",
       "      <th>FGroup_Desc</th>\n",
       "      <th>PricePoint</th>\n",
       "      <th>season</th>\n",
       "      <th>Pos_Qty_EA</th>\n",
       "    </tr>\n",
       "  </thead>\n",
       "  <tbody>\n",
       "    <tr>\n",
       "      <th>0</th>\n",
       "      <td>186.15</td>\n",
       "      <td>8.625</td>\n",
       "      <td>23.44</td>\n",
       "      <td>1</td>\n",
       "      <td>19</td>\n",
       "      <td>202.17</td>\n",
       "      <td>14</td>\n",
       "      <td>328.16</td>\n",
       "      <td>-125.99</td>\n",
       "      <td>35</td>\n",
       "      <td>28</td>\n",
       "      <td>13</td>\n",
       "      <td>16</td>\n",
       "      <td>6</td>\n",
       "      <td>3</td>\n",
       "      <td>18</td>\n",
       "      <td>2.697826</td>\n",
       "      <td>2</td>\n",
       "      <td>69</td>\n",
       "    </tr>\n",
       "    <tr>\n",
       "      <th>1</th>\n",
       "      <td>161.86</td>\n",
       "      <td>7.500</td>\n",
       "      <td>23.44</td>\n",
       "      <td>1</td>\n",
       "      <td>19</td>\n",
       "      <td>175.80</td>\n",
       "      <td>14</td>\n",
       "      <td>328.16</td>\n",
       "      <td>-152.36</td>\n",
       "      <td>35</td>\n",
       "      <td>28</td>\n",
       "      <td>13</td>\n",
       "      <td>16</td>\n",
       "      <td>6</td>\n",
       "      <td>3</td>\n",
       "      <td>18</td>\n",
       "      <td>2.697667</td>\n",
       "      <td>2</td>\n",
       "      <td>60</td>\n",
       "    </tr>\n",
       "    <tr>\n",
       "      <th>2</th>\n",
       "      <td>271.56</td>\n",
       "      <td>12.625</td>\n",
       "      <td>23.44</td>\n",
       "      <td>1</td>\n",
       "      <td>19</td>\n",
       "      <td>295.93</td>\n",
       "      <td>14</td>\n",
       "      <td>328.16</td>\n",
       "      <td>-32.23</td>\n",
       "      <td>35</td>\n",
       "      <td>28</td>\n",
       "      <td>13</td>\n",
       "      <td>16</td>\n",
       "      <td>6</td>\n",
       "      <td>3</td>\n",
       "      <td>18</td>\n",
       "      <td>2.688713</td>\n",
       "      <td>2</td>\n",
       "      <td>101</td>\n",
       "    </tr>\n",
       "    <tr>\n",
       "      <th>3</th>\n",
       "      <td>188.51</td>\n",
       "      <td>8.750</td>\n",
       "      <td>23.44</td>\n",
       "      <td>1</td>\n",
       "      <td>19</td>\n",
       "      <td>205.10</td>\n",
       "      <td>14</td>\n",
       "      <td>328.16</td>\n",
       "      <td>-123.06</td>\n",
       "      <td>35</td>\n",
       "      <td>28</td>\n",
       "      <td>13</td>\n",
       "      <td>16</td>\n",
       "      <td>6</td>\n",
       "      <td>3</td>\n",
       "      <td>18</td>\n",
       "      <td>2.693000</td>\n",
       "      <td>2</td>\n",
       "      <td>70</td>\n",
       "    </tr>\n",
       "    <tr>\n",
       "      <th>4</th>\n",
       "      <td>215.82</td>\n",
       "      <td>10.000</td>\n",
       "      <td>23.44</td>\n",
       "      <td>1</td>\n",
       "      <td>19</td>\n",
       "      <td>234.40</td>\n",
       "      <td>14</td>\n",
       "      <td>328.16</td>\n",
       "      <td>-93.76</td>\n",
       "      <td>35</td>\n",
       "      <td>28</td>\n",
       "      <td>13</td>\n",
       "      <td>16</td>\n",
       "      <td>6</td>\n",
       "      <td>3</td>\n",
       "      <td>18</td>\n",
       "      <td>2.697750</td>\n",
       "      <td>2</td>\n",
       "      <td>80</td>\n",
       "    </tr>\n",
       "  </tbody>\n",
       "</table>\n",
       "</div>"
      ],
      "text/plain": [
       "   Pos_Sales  POS_QTY_CS    UBP  UNIT  Complete_PPG  Total_Sales  \\\n",
       "0     186.15       8.625  23.44     1            19       202.17   \n",
       "1     161.86       7.500  23.44     1            19       175.80   \n",
       "2     271.56      12.625  23.44     1            19       295.93   \n",
       "3     188.51       8.750  23.44     1            19       205.10   \n",
       "4     215.82      10.000  23.44     1            19       234.40   \n",
       "\n",
       "   Baseline_Qty  Baseline_Nps  Incr_Sales  PromoDuration  MATERIALDESC  \\\n",
       "0            14        328.16     -125.99             35            28   \n",
       "1            14        328.16     -152.36             35            28   \n",
       "2            14        328.16      -32.23             35            28   \n",
       "3            14        328.16     -123.06             35            28   \n",
       "4            14        328.16      -93.76             35            28   \n",
       "\n",
       "   SUB_CATEGORY  SUB_CATEGORY_DESC  CATEGORY  CATEGORY_DESC  FGroup_Desc  \\\n",
       "0            13                 16         6              3           18   \n",
       "1            13                 16         6              3           18   \n",
       "2            13                 16         6              3           18   \n",
       "3            13                 16         6              3           18   \n",
       "4            13                 16         6              3           18   \n",
       "\n",
       "   PricePoint  season  Pos_Qty_EA  \n",
       "0    2.697826       2          69  \n",
       "1    2.697667       2          60  \n",
       "2    2.688713       2         101  \n",
       "3    2.693000       2          70  \n",
       "4    2.697750       2          80  "
      ]
     },
     "execution_count": 37,
     "metadata": {},
     "output_type": "execute_result"
    }
   ],
   "source": [
    "# dataframe with features selected by L1 Regularization (Lasso)\n",
    "lasso_df = df[lasso_features]\n",
    "\n",
    "# add target column\n",
    "lasso_df['Pos_Qty_EA'] = df['Pos_Qty_EA']\n",
    "\n",
    "# show df\n",
    "lasso_df.head()"
   ]
  },
  {
   "cell_type": "code",
   "execution_count": 38,
   "id": "e882f271",
   "metadata": {
    "id": "e882f271",
    "outputId": "a3caab63-9714-4785-f193-f4a4a7fe2447"
   },
   "outputs": [
    {
     "data": {
      "text/html": [
       "<div>\n",
       "<style scoped>\n",
       "    .dataframe tbody tr th:only-of-type {\n",
       "        vertical-align: middle;\n",
       "    }\n",
       "\n",
       "    .dataframe tbody tr th {\n",
       "        vertical-align: top;\n",
       "    }\n",
       "\n",
       "    .dataframe thead th {\n",
       "        text-align: right;\n",
       "    }\n",
       "</style>\n",
       "<table border=\"1\" class=\"dataframe\">\n",
       "  <thead>\n",
       "    <tr style=\"text-align: right;\">\n",
       "      <th></th>\n",
       "      <th>POS_QTY_CS</th>\n",
       "      <th>PricePoint</th>\n",
       "      <th>Total_Sales</th>\n",
       "      <th>Pos_Sales</th>\n",
       "      <th>Incr_Sales</th>\n",
       "      <th>Pos_Qty_EA</th>\n",
       "    </tr>\n",
       "  </thead>\n",
       "  <tbody>\n",
       "    <tr>\n",
       "      <th>0</th>\n",
       "      <td>8.625</td>\n",
       "      <td>2.697826</td>\n",
       "      <td>202.17</td>\n",
       "      <td>186.15</td>\n",
       "      <td>-125.99</td>\n",
       "      <td>69</td>\n",
       "    </tr>\n",
       "    <tr>\n",
       "      <th>1</th>\n",
       "      <td>7.500</td>\n",
       "      <td>2.697667</td>\n",
       "      <td>175.80</td>\n",
       "      <td>161.86</td>\n",
       "      <td>-152.36</td>\n",
       "      <td>60</td>\n",
       "    </tr>\n",
       "    <tr>\n",
       "      <th>2</th>\n",
       "      <td>12.625</td>\n",
       "      <td>2.688713</td>\n",
       "      <td>295.93</td>\n",
       "      <td>271.56</td>\n",
       "      <td>-32.23</td>\n",
       "      <td>101</td>\n",
       "    </tr>\n",
       "    <tr>\n",
       "      <th>3</th>\n",
       "      <td>8.750</td>\n",
       "      <td>2.693000</td>\n",
       "      <td>205.10</td>\n",
       "      <td>188.51</td>\n",
       "      <td>-123.06</td>\n",
       "      <td>70</td>\n",
       "    </tr>\n",
       "    <tr>\n",
       "      <th>4</th>\n",
       "      <td>10.000</td>\n",
       "      <td>2.697750</td>\n",
       "      <td>234.40</td>\n",
       "      <td>215.82</td>\n",
       "      <td>-93.76</td>\n",
       "      <td>80</td>\n",
       "    </tr>\n",
       "  </tbody>\n",
       "</table>\n",
       "</div>"
      ],
      "text/plain": [
       "   POS_QTY_CS  PricePoint  Total_Sales  Pos_Sales  Incr_Sales  Pos_Qty_EA\n",
       "0       8.625    2.697826       202.17     186.15     -125.99          69\n",
       "1       7.500    2.697667       175.80     161.86     -152.36          60\n",
       "2      12.625    2.688713       295.93     271.56      -32.23         101\n",
       "3       8.750    2.693000       205.10     188.51     -123.06          70\n",
       "4      10.000    2.697750       234.40     215.82      -93.76          80"
      ]
     },
     "execution_count": 38,
     "metadata": {},
     "output_type": "execute_result"
    }
   ],
   "source": [
    "# dataframe with features selected by Tree-based feature importance\n",
    "tree_df = df[tree_features]\n",
    "\n",
    "# add target column\n",
    "tree_df['Pos_Qty_EA'] = df['Pos_Qty_EA']\n",
    "\n",
    "# show df\n",
    "tree_df.head()"
   ]
  },
  {
   "cell_type": "code",
   "execution_count": 39,
   "id": "96f6c6b5",
   "metadata": {
    "id": "96f6c6b5",
    "outputId": "9439e131-382b-4aac-e91b-8d98c129a1f4"
   },
   "outputs": [
    {
     "data": {
      "text/html": [
       "<div>\n",
       "<style scoped>\n",
       "    .dataframe tbody tr th:only-of-type {\n",
       "        vertical-align: middle;\n",
       "    }\n",
       "\n",
       "    .dataframe tbody tr th {\n",
       "        vertical-align: top;\n",
       "    }\n",
       "\n",
       "    .dataframe thead th {\n",
       "        text-align: right;\n",
       "    }\n",
       "</style>\n",
       "<table border=\"1\" class=\"dataframe\">\n",
       "  <thead>\n",
       "    <tr style=\"text-align: right;\">\n",
       "      <th></th>\n",
       "      <th>Pos_Sales</th>\n",
       "      <th>POS_QTY_CS</th>\n",
       "      <th>Total_Sales</th>\n",
       "      <th>SUB_CATEGORY</th>\n",
       "      <th>PricePoint</th>\n",
       "      <th>Pos_Qty_EA</th>\n",
       "    </tr>\n",
       "  </thead>\n",
       "  <tbody>\n",
       "    <tr>\n",
       "      <th>0</th>\n",
       "      <td>186.15</td>\n",
       "      <td>8.625</td>\n",
       "      <td>202.17</td>\n",
       "      <td>13</td>\n",
       "      <td>2.697826</td>\n",
       "      <td>69</td>\n",
       "    </tr>\n",
       "    <tr>\n",
       "      <th>1</th>\n",
       "      <td>161.86</td>\n",
       "      <td>7.500</td>\n",
       "      <td>175.80</td>\n",
       "      <td>13</td>\n",
       "      <td>2.697667</td>\n",
       "      <td>60</td>\n",
       "    </tr>\n",
       "    <tr>\n",
       "      <th>2</th>\n",
       "      <td>271.56</td>\n",
       "      <td>12.625</td>\n",
       "      <td>295.93</td>\n",
       "      <td>13</td>\n",
       "      <td>2.688713</td>\n",
       "      <td>101</td>\n",
       "    </tr>\n",
       "    <tr>\n",
       "      <th>3</th>\n",
       "      <td>188.51</td>\n",
       "      <td>8.750</td>\n",
       "      <td>205.10</td>\n",
       "      <td>13</td>\n",
       "      <td>2.693000</td>\n",
       "      <td>70</td>\n",
       "    </tr>\n",
       "    <tr>\n",
       "      <th>4</th>\n",
       "      <td>215.82</td>\n",
       "      <td>10.000</td>\n",
       "      <td>234.40</td>\n",
       "      <td>13</td>\n",
       "      <td>2.697750</td>\n",
       "      <td>80</td>\n",
       "    </tr>\n",
       "  </tbody>\n",
       "</table>\n",
       "</div>"
      ],
      "text/plain": [
       "   Pos_Sales  POS_QTY_CS  Total_Sales  SUB_CATEGORY  PricePoint  Pos_Qty_EA\n",
       "0     186.15       8.625       202.17            13    2.697826          69\n",
       "1     161.86       7.500       175.80            13    2.697667          60\n",
       "2     271.56      12.625       295.93            13    2.688713         101\n",
       "3     188.51       8.750       205.10            13    2.693000          70\n",
       "4     215.82      10.000       234.40            13    2.697750          80"
      ]
     },
     "execution_count": 39,
     "metadata": {},
     "output_type": "execute_result"
    }
   ],
   "source": [
    "# dataframe with features selected by Tree-based feature importance\n",
    "rfa_df = df[rfa_features]\n",
    "\n",
    "# add target column\n",
    "rfa_df['Pos_Qty_EA'] = df['Pos_Qty_EA']\n",
    "\n",
    "# show df\n",
    "rfa_df.head()"
   ]
  },
  {
   "cell_type": "markdown",
   "id": "c1ffb03e",
   "metadata": {
    "id": "c1ffb03e"
   },
   "source": [
    "### 6.2 Feature Selection"
   ]
  },
  {
   "cell_type": "markdown",
   "id": "49c7dc81",
   "metadata": {
    "id": "49c7dc81"
   },
   "source": [
    "In this case, I utilize a random forest model to evaluate three different dataframes containing selected features from distinct feature selection methods. The objective is to identify the most optimal set of features."
   ]
  },
  {
   "cell_type": "code",
   "execution_count": 40,
   "id": "ca94dbc4",
   "metadata": {
    "id": "ca94dbc4"
   },
   "outputs": [],
   "source": [
    "from sklearn.model_selection import train_test_split\n",
    "from sklearn.tree import DecisionTreeRegressor\n",
    "from sklearn.metrics import mean_squared_error, mean_absolute_error\n",
    "from sklearn.metrics import accuracy_score\n",
    "\n",
    "\n",
    "def decision_tree_func(df):\n",
    "    # Separate features and target\n",
    "    X = df.drop('Pos_Qty_EA', axis=1)  # Features\n",
    "    y = df['Pos_Qty_EA']  # Target\n",
    "\n",
    "    # Split the data into train and test sets\n",
    "    X_train, X_test, y_train, y_test = train_test_split(X, y, test_size=0.2, random_state=0)\n",
    "\n",
    "    # Create a decision tree regressor\n",
    "    tree = DecisionTreeRegressor()\n",
    "\n",
    "    # Fit the model on the training data\n",
    "    tree.fit(X_train, y_train)\n",
    "\n",
    "    # Predict on the test data\n",
    "    y_pred = tree.predict(X_test)\n",
    "\n",
    "    # Calculate the mean squared error (MSE)\n",
    "    mse = mean_squared_error(y_test, y_pred)\n",
    "\n",
    "    # Calculate the mean absolute error (MAE)\n",
    "    mae = mean_absolute_error(y_test, y_pred)\n",
    "\n",
    "    # Evaluate the accuracy of the model\n",
    "    accuracy = accuracy_score(y_test, y_pred)\n",
    "\n",
    "    # Print the predicted values, MSE, and MAE\n",
    "    print(\"Accuracy:\", accuracy)\n",
    "    print(\"Mean Squared Error:\", mse)\n",
    "    print(\"Mean Absolute Error:\", mae)\n",
    "\n",
    "    return accuracy\n"
   ]
  },
  {
   "cell_type": "code",
   "execution_count": 41,
   "id": "d0ba2cc1",
   "metadata": {
    "id": "d0ba2cc1",
    "outputId": "c305d773-c245-4cad-f0f1-dcebddbd71c9"
   },
   "outputs": [
    {
     "name": "stdout",
     "output_type": "stream",
     "text": [
      "Accuracy: 0.7615176151761518\n",
      "Mean Squared Error: 160.3839205058717\n",
      "Mean Absolute Error: 2.163504968383017\n"
     ]
    }
   ],
   "source": [
    "# lasso dataframe\n",
    "lasso_accuracy = decision_tree_func(lasso_df)"
   ]
  },
  {
   "cell_type": "code",
   "execution_count": 42,
   "id": "e219e741",
   "metadata": {
    "id": "e219e741",
    "outputId": "9feb7e62-ed14-4054-a061-b9ac09e59d4f"
   },
   "outputs": [
    {
     "name": "stdout",
     "output_type": "stream",
     "text": [
      "Accuracy: 0.7741644083107497\n",
      "Mean Squared Error: 240.85365853658536\n",
      "Mean Absolute Error: 1.990063233965673\n"
     ]
    }
   ],
   "source": [
    "# tree dataframe\n",
    "tree_accuracy = decision_tree_func(tree_df)"
   ]
  },
  {
   "cell_type": "code",
   "execution_count": 43,
   "id": "c6a3f88f",
   "metadata": {
    "id": "c6a3f88f",
    "outputId": "35a9a03c-fb2f-4041-f115-81fe18596fac"
   },
   "outputs": [
    {
     "name": "stdout",
     "output_type": "stream",
     "text": [
      "Accuracy: 0.7913279132791328\n",
      "Mean Squared Error: 120.86359530261969\n",
      "Mean Absolute Error: 1.5790424570912376\n"
     ]
    }
   ],
   "source": [
    "# rfa dataframe\n",
    "rfa_accuracy = decision_tree_func(rfa_df)"
   ]
  },
  {
   "cell_type": "code",
   "execution_count": 44,
   "id": "8b8baea8",
   "metadata": {
    "id": "8b8baea8",
    "outputId": "d5459bb0-1a8d-4407-da08-d9cf00319024",
    "scrolled": true
   },
   "outputs": [
    {
     "data": {
      "text/html": [
       "<div>\n",
       "<style scoped>\n",
       "    .dataframe tbody tr th:only-of-type {\n",
       "        vertical-align: middle;\n",
       "    }\n",
       "\n",
       "    .dataframe tbody tr th {\n",
       "        vertical-align: top;\n",
       "    }\n",
       "\n",
       "    .dataframe thead th {\n",
       "        text-align: right;\n",
       "    }\n",
       "</style>\n",
       "<table border=\"1\" class=\"dataframe\">\n",
       "  <thead>\n",
       "    <tr style=\"text-align: right;\">\n",
       "      <th></th>\n",
       "      <th>Accuracy</th>\n",
       "    </tr>\n",
       "  </thead>\n",
       "  <tbody>\n",
       "    <tr>\n",
       "      <th>RFA Dataframe</th>\n",
       "      <td>0.791328</td>\n",
       "    </tr>\n",
       "    <tr>\n",
       "      <th>Tree Dataframe</th>\n",
       "      <td>0.774164</td>\n",
       "    </tr>\n",
       "    <tr>\n",
       "      <th>Lasso Dataframe</th>\n",
       "      <td>0.761518</td>\n",
       "    </tr>\n",
       "  </tbody>\n",
       "</table>\n",
       "</div>"
      ],
      "text/plain": [
       "                 Accuracy\n",
       "RFA Dataframe    0.791328\n",
       "Tree Dataframe   0.774164\n",
       "Lasso Dataframe  0.761518"
      ]
     },
     "execution_count": 44,
     "metadata": {},
     "output_type": "execute_result"
    }
   ],
   "source": [
    "finalleaderboard = {\n",
    "    'Lasso Dataframe': lasso_accuracy,\n",
    "    'Tree Dataframe': tree_accuracy,\n",
    "    'RFA Dataframe': rfa_accuracy\n",
    "}\n",
    "\n",
    "finalleaderboard = pd.DataFrame.from_dict(finalleaderboard, orient='index', columns=['Accuracy'])\n",
    "finalleaderboard = finalleaderboard.sort_values('Accuracy', ascending=False)\n",
    "finalleaderboard"
   ]
  },
  {
   "cell_type": "code",
   "execution_count": 45,
   "id": "84498418",
   "metadata": {
    "id": "84498418",
    "outputId": "3fd1370f-cea0-42be-a7e5-4ea51e750ddb"
   },
   "outputs": [
    {
     "name": "stdout",
     "output_type": "stream",
     "text": [
      "According to the result, ['Pos_Sales', 'POS_QTY_CS', 'Total_Sales', 'SUB_CATEGORY', 'PricePoint'] \n",
      "will be chosen as features.\n"
     ]
    }
   ],
   "source": [
    "print(\"According to the result, \" + str(list(rfa_features)) + \" \\nwill be chosen as features.\")"
   ]
  },
  {
   "cell_type": "code",
   "execution_count": 46,
   "id": "6f252cd3",
   "metadata": {
    "id": "6f252cd3",
    "outputId": "5b399428-73ed-4cf7-b730-ddda851908ad"
   },
   "outputs": [
    {
     "data": {
      "text/html": [
       "<div>\n",
       "<style scoped>\n",
       "    .dataframe tbody tr th:only-of-type {\n",
       "        vertical-align: middle;\n",
       "    }\n",
       "\n",
       "    .dataframe tbody tr th {\n",
       "        vertical-align: top;\n",
       "    }\n",
       "\n",
       "    .dataframe thead th {\n",
       "        text-align: right;\n",
       "    }\n",
       "</style>\n",
       "<table border=\"1\" class=\"dataframe\">\n",
       "  <thead>\n",
       "    <tr style=\"text-align: right;\">\n",
       "      <th></th>\n",
       "      <th>Pos_Sales</th>\n",
       "      <th>POS_QTY_CS</th>\n",
       "      <th>Total_Sales</th>\n",
       "      <th>SUB_CATEGORY</th>\n",
       "      <th>PricePoint</th>\n",
       "      <th>Pos_Qty_EA</th>\n",
       "    </tr>\n",
       "  </thead>\n",
       "  <tbody>\n",
       "    <tr>\n",
       "      <th>0</th>\n",
       "      <td>186.15</td>\n",
       "      <td>8.625</td>\n",
       "      <td>202.17</td>\n",
       "      <td>13</td>\n",
       "      <td>2.697826</td>\n",
       "      <td>69</td>\n",
       "    </tr>\n",
       "    <tr>\n",
       "      <th>1</th>\n",
       "      <td>161.86</td>\n",
       "      <td>7.500</td>\n",
       "      <td>175.80</td>\n",
       "      <td>13</td>\n",
       "      <td>2.697667</td>\n",
       "      <td>60</td>\n",
       "    </tr>\n",
       "    <tr>\n",
       "      <th>2</th>\n",
       "      <td>271.56</td>\n",
       "      <td>12.625</td>\n",
       "      <td>295.93</td>\n",
       "      <td>13</td>\n",
       "      <td>2.688713</td>\n",
       "      <td>101</td>\n",
       "    </tr>\n",
       "    <tr>\n",
       "      <th>3</th>\n",
       "      <td>188.51</td>\n",
       "      <td>8.750</td>\n",
       "      <td>205.10</td>\n",
       "      <td>13</td>\n",
       "      <td>2.693000</td>\n",
       "      <td>70</td>\n",
       "    </tr>\n",
       "    <tr>\n",
       "      <th>4</th>\n",
       "      <td>215.82</td>\n",
       "      <td>10.000</td>\n",
       "      <td>234.40</td>\n",
       "      <td>13</td>\n",
       "      <td>2.697750</td>\n",
       "      <td>80</td>\n",
       "    </tr>\n",
       "  </tbody>\n",
       "</table>\n",
       "</div>"
      ],
      "text/plain": [
       "   Pos_Sales  POS_QTY_CS  Total_Sales  SUB_CATEGORY  PricePoint  Pos_Qty_EA\n",
       "0     186.15       8.625       202.17            13    2.697826          69\n",
       "1     161.86       7.500       175.80            13    2.697667          60\n",
       "2     271.56      12.625       295.93            13    2.688713         101\n",
       "3     188.51       8.750       205.10            13    2.693000          70\n",
       "4     215.82      10.000       234.40            13    2.697750          80"
      ]
     },
     "execution_count": 46,
     "metadata": {},
     "output_type": "execute_result"
    }
   ],
   "source": [
    "rfa_df.head()"
   ]
  },
  {
   "cell_type": "markdown",
   "id": "306a3e02",
   "metadata": {
    "id": "306a3e02"
   },
   "source": [
    "## 7. Model Performance Improvement"
   ]
  },
  {
   "cell_type": "markdown",
   "id": "7330ebb8",
   "metadata": {
    "id": "7330ebb8"
   },
   "source": [
    "In this section, we will employ various techniques to enhance the model's performance, including corss-validation, standarlization and hyperparameter tunning."
   ]
  },
  {
   "cell_type": "code",
   "execution_count": 47,
   "id": "332d91f4",
   "metadata": {
    "id": "332d91f4"
   },
   "outputs": [],
   "source": [
    "import pandas as pd\n",
    "from sklearn.model_selection import train_test_split, GridSearchCV\n",
    "from sklearn.preprocessing import StandardScaler\n",
    "from sklearn.tree import DecisionTreeRegressor\n",
    "from sklearn.metrics import mean_squared_error, r2_score"
   ]
  },
  {
   "cell_type": "code",
   "execution_count": 48,
   "id": "02c46353",
   "metadata": {
    "id": "02c46353",
    "outputId": "3fae914c-f3ca-4612-b792-cadf78f4e591"
   },
   "outputs": [
    {
     "data": {
      "text/html": [
       "<div>\n",
       "<style scoped>\n",
       "    .dataframe tbody tr th:only-of-type {\n",
       "        vertical-align: middle;\n",
       "    }\n",
       "\n",
       "    .dataframe tbody tr th {\n",
       "        vertical-align: top;\n",
       "    }\n",
       "\n",
       "    .dataframe thead th {\n",
       "        text-align: right;\n",
       "    }\n",
       "</style>\n",
       "<table border=\"1\" class=\"dataframe\">\n",
       "  <thead>\n",
       "    <tr style=\"text-align: right;\">\n",
       "      <th></th>\n",
       "      <th>Model</th>\n",
       "      <th>Best Hyperparameters</th>\n",
       "      <th>MSE</th>\n",
       "      <th>Accuracy</th>\n",
       "    </tr>\n",
       "  </thead>\n",
       "  <tbody>\n",
       "    <tr>\n",
       "      <th>0</th>\n",
       "      <td>Decision Tree</td>\n",
       "      <td>{'max_depth': None, 'min_samples_leaf': 3, 'mi...</td>\n",
       "      <td>63.741022</td>\n",
       "      <td>0.995232</td>\n",
       "    </tr>\n",
       "  </tbody>\n",
       "</table>\n",
       "</div>"
      ],
      "text/plain": [
       "           Model                               Best Hyperparameters  \\\n",
       "0  Decision Tree  {'max_depth': None, 'min_samples_leaf': 3, 'mi...   \n",
       "\n",
       "         MSE  Accuracy  \n",
       "0  63.741022  0.995232  "
      ]
     },
     "execution_count": 48,
     "metadata": {},
     "output_type": "execute_result"
    }
   ],
   "source": [
    "# Separate features and target\n",
    "X = df.drop('Pos_Qty_EA', axis=1)  # Features\n",
    "y = df['Pos_Qty_EA']  # Target\n",
    "\n",
    "# Split the data into train and test sets\n",
    "X_train, X_test, y_train, y_test = train_test_split(X, y, test_size=0.2, random_state=42)\n",
    "\n",
    "# Standardize the data\n",
    "scaler = StandardScaler()\n",
    "X_train_scaled = scaler.fit_transform(X_train)\n",
    "X_test_scaled = scaler.transform(X_test)\n",
    "\n",
    "# Define the decision tree model\n",
    "tree = DecisionTreeRegressor()\n",
    "\n",
    "# Define the hyperparameters to tune\n",
    "param_grid = {\n",
    "    'max_depth': [None, 3, 5, 7],\n",
    "    'min_samples_split': [2, 5, 10],\n",
    "    'min_samples_leaf': [1, 3, 5]\n",
    "}\n",
    "\n",
    "# Perform grid search cross-validation\n",
    "grid_search = GridSearchCV(tree, param_grid, cv=5, scoring='neg_mean_squared_error')\n",
    "grid_search.fit(X_train_scaled, y_train)\n",
    "\n",
    "# Get the best model and its hyperparameters\n",
    "best_model = grid_search.best_estimator_\n",
    "best_params = grid_search.best_params_\n",
    "\n",
    "# Evaluate the best model on the test set\n",
    "y_pred = best_model.predict(X_test_scaled)\n",
    "mse = mean_squared_error(y_test, y_pred)\n",
    "accuracy = r2_score(y_test, y_pred)  # Accuracy\n",
    "\n",
    "# Create a dataframe to store model performance\n",
    "performance_df = pd.DataFrame(columns=['Model', 'Best Hyperparameters', 'MSE', 'Accuracy'])\n",
    "\n",
    "# Add the performance of the best model to the dataframe\n",
    "performance_df = performance_df.append({\n",
    "    'Model': 'Decision Tree',\n",
    "    'Best Hyperparameters': best_params,\n",
    "    'MSE': mse,\n",
    "    'Accuracy': accuracy\n",
    "}, ignore_index=True)\n",
    "\n",
    "\n",
    "# Print the performance dataframe\n",
    "performance_df"
   ]
  },
  {
   "cell_type": "code",
   "execution_count": 49,
   "id": "2855f254",
   "metadata": {
    "id": "2855f254",
    "outputId": "b40433a7-9be5-4231-bdf0-5fd9163eecd7"
   },
   "outputs": [
    {
     "data": {
      "text/plain": [
       "{'max_depth': None, 'min_samples_leaf': 3, 'min_samples_split': 5}"
      ]
     },
     "execution_count": 49,
     "metadata": {},
     "output_type": "execute_result"
    }
   ],
   "source": [
    "best_params"
   ]
  },
  {
   "cell_type": "markdown",
   "id": "6b3cccb9",
   "metadata": {
    "id": "6b3cccb9"
   },
   "source": [
    "Here we find the model with best hyperparameters of {'max_depth': None, 'min_samples_leaf': 1, 'min_samples_split': 2}\n",
    "withe accuracy of 0.995435 and MSE of 61.02168."
   ]
  }
 ],
 "metadata": {
  "colab": {
   "provenance": []
  },
  "kernelspec": {
   "display_name": "Python 3 (ipykernel)",
   "language": "python",
   "name": "python3"
  },
  "language_info": {
   "codemirror_mode": {
    "name": "ipython",
    "version": 3
   },
   "file_extension": ".py",
   "mimetype": "text/x-python",
   "name": "python",
   "nbconvert_exporter": "python",
   "pygments_lexer": "ipython3",
   "version": "3.9.12"
  }
 },
 "nbformat": 4,
 "nbformat_minor": 5
}
