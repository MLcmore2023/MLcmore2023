{
 "cells": [
  {
   "cell_type": "markdown",
   "id": "d9369b9b",
   "metadata": {},
   "source": [
    "# Evaluation metrics"
   ]
  },
  {
   "cell_type": "markdown",
   "id": "4be1baea",
   "metadata": {},
   "source": [
    "## 1. Introduction"
   ]
  },
  {
   "cell_type": "markdown",
   "id": "757ed23e",
   "metadata": {},
   "source": [
    "In data science, evaluation metrics are used to measure the performance and effectiveness of various machine learning models and algorithms. The choice of evaluation metrics depends on the specific problem being solved and the nature of the data. Here are some commonly used evaluation metrics in data science:"
   ]
  },
  {
   "cell_type": "markdown",
   "id": "55477701",
   "metadata": {},
   "source": [
    "**1. Accuracy:** Measures the proportion of correctly predicted instances to the total number of instances in the dataset. It is a straightforward metric but can be misleading in imbalanced datasets.\n",
    "\n",
    "**2. Precision:** The proportion of true positive predictions (correctly predicted positive instances) to the total number of positive predictions made by the model. It is useful when the cost of false positives is high.\n",
    "\n",
    "**3. Recall (Sensitivity or True Positive Rate):** The proportion of true positive predictions to the total number of actual positive instances in the dataset. It is valuable when the cost of false negatives is high.\n",
    "\n",
    "**4. F1 Score:** The harmonic mean of precision and recall. It provides a balance between precision and recall, especially in imbalanced datasets.\n",
    "\n",
    "**5. Specificity (True Negative Rate):** The proportion of true negative predictions to the total number of actual negative instances in the dataset. It is useful when the cost of false negatives is high.\n",
    "\n",
    "**6. ROC-AUC (Receiver Operating Characteristic - Area Under the Curve):** Evaluates the area under the ROC curve, which plots the true positive rate against the false positive rate at various classification thresholds. It provides an aggregate measure of a model's performance across various thresholds.\n",
    "\n",
    "**7. Confusion Matrix:** A table that presents the true positive, true negative, false positive, and false negative counts, allowing for a more detailed evaluation of a classifier's performance.\n",
    "\n",
    "**8. Mean Absolute Error (MAE):** Measures the average absolute difference between the actual and predicted values. It is commonly used for regression tasks.\n",
    "\n",
    "**9. Mean Squared Error (MSE):** Measures the average squared difference between the actual and predicted values. It is another popular metric for regression tasks.\n",
    "\n",
    "**10. Root Mean Squared Error (RMSE):** The square root of MSE, providing a more interpretable metric for regression tasks.\n",
    "\n",
    "**11. R-squared (R2):** Measures the proportion of variance in the dependent variable that is predictable from the independent variables. It represents the goodness of fit of a regression mode"
   ]
  },
  {
   "cell_type": "markdown",
   "id": "e0a43572",
   "metadata": {},
   "source": [
    "## 2. Implementation"
   ]
  },
  {
   "cell_type": "markdown",
   "id": "f572f290",
   "metadata": {},
   "source": [
    "### 2.1 Import Libraries"
   ]
  },
  {
   "cell_type": "code",
   "execution_count": 24,
   "id": "ce583dd5",
   "metadata": {},
   "outputs": [],
   "source": [
    "import numpy as np\n",
    "import pandas as pd\n",
    "import matplotlib.pyplot as plt\n",
    "from sklearn.datasets import load_iris\n",
    "from sklearn.model_selection import train_test_split\n",
    "from sklearn.linear_model import LogisticRegression\n",
    "from sklearn.metrics import accuracy_score, confusion_matrix, classification_report, roc_curve, roc_auc_score"
   ]
  },
  {
   "cell_type": "markdown",
   "id": "8e8f1825",
   "metadata": {},
   "source": [
    "**Imports**: Here, we import the necessary libraries for our code. `numpy` and `pandas` are used for data manipulation, `matplotlib` for data visualization, `load_iris` from `sklearn.datasets` to load the Iris dataset, `train_test_split` from `sklearn.model_selection` to split the data, `LogisticRegression` from `sklearn.linear_model` for the classification model, and various evaluation metrics (`confusion_matrix`, `classification_report`, `roc_curve`, `roc_auc_score`) from sklearn.metrics."
   ]
  },
  {
   "cell_type": "markdown",
   "id": "afa82a41",
   "metadata": {},
   "source": [
    "### 2.2 Load the Iris dataset"
   ]
  },
  {
   "cell_type": "code",
   "execution_count": 10,
   "id": "173d9463",
   "metadata": {},
   "outputs": [],
   "source": [
    "iris = load_iris()\n",
    "X = iris.data\n",
    "y = iris.target"
   ]
  },
  {
   "cell_type": "markdown",
   "id": "6dc26236",
   "metadata": {},
   "source": [
    "**Load the Iris Dataset**: We load the Iris dataset using the `load_iris()` function from scikit-learn. The dataset contains features (in `X`) and target labels (in `y`). In this dataset, there are four features (sepal length, sepal width, petal length, petal width) and three classes of iris flowers (setosa, versicolor, virginica)."
   ]
  },
  {
   "cell_type": "markdown",
   "id": "4e63bb41",
   "metadata": {},
   "source": [
    "### 2.3 Data Splitting"
   ]
  },
  {
   "cell_type": "code",
   "execution_count": 11,
   "id": "a520f0b9",
   "metadata": {},
   "outputs": [],
   "source": [
    "# Split the data into training and testing sets\n",
    "X_train, X_test, y_train, y_test = train_test_split(X, y, test_size=0.3, random_state=42)\n"
   ]
  },
  {
   "cell_type": "markdown",
   "id": "c3b4736a",
   "metadata": {},
   "source": [
    "**Data Splitting**: The `train_test_split()` function is used to split the data into training and testing sets. We specify `test_size=0.3`, which means 30% of the data will be used for testing, and the remaining 70% for training. The `random_state` parameter is set to 42 to ensure reproducibility of the split.\n"
   ]
  },
  {
   "cell_type": "markdown",
   "id": "eac3c8e3",
   "metadata": {},
   "source": [
    "### 2.4 Model Training"
   ]
  },
  {
   "cell_type": "code",
   "execution_count": 12,
   "id": "96e24c25",
   "metadata": {},
   "outputs": [
    {
     "data": {
      "text/plain": [
       "LogisticRegression()"
      ]
     },
     "execution_count": 12,
     "metadata": {},
     "output_type": "execute_result"
    }
   ],
   "source": [
    "# Create and train a logistic regression model\n",
    "model = LogisticRegression()\n",
    "model.fit(X_train, y_train)\n"
   ]
  },
  {
   "cell_type": "markdown",
   "id": "1daab068",
   "metadata": {},
   "source": [
    "**Model Training**: We create an instance of the logistic regression model using `LogisticRegression()`. Then, we fit the model to the training data using `model.fit(X_train, y_train)`."
   ]
  },
  {
   "cell_type": "markdown",
   "id": "9cd11f8b",
   "metadata": {},
   "source": [
    "### 2.5 Model Prediction"
   ]
  },
  {
   "cell_type": "code",
   "execution_count": 13,
   "id": "9637e9a8",
   "metadata": {},
   "outputs": [],
   "source": [
    "# Make predictions on the test set\n",
    "y_pred = model.predict(X_test)\n"
   ]
  },
  {
   "cell_type": "markdown",
   "id": "4a8cb166",
   "metadata": {},
   "source": [
    "**Model Prediction**: We use the trained model to make predictions on the test set using `model.predict(X_test)`."
   ]
  },
  {
   "cell_type": "markdown",
   "id": "475017b2",
   "metadata": {},
   "source": [
    "### 2.6 Evaluation Metrics"
   ]
  },
  {
   "cell_type": "code",
   "execution_count": 25,
   "id": "b4849d78",
   "metadata": {},
   "outputs": [
    {
     "data": {
      "text/plain": [
       "1.0"
      ]
     },
     "execution_count": 25,
     "metadata": {},
     "output_type": "execute_result"
    }
   ],
   "source": [
    "# Calculate evaluation metrics\n",
    "\n",
    "accuracy = accuracy_score(y_test, y_pred)\n",
    "conf_matrix = confusion_matrix(y_test, y_pred)\n",
    "classification_rep = classification_report(y_test, y_pred)\n",
    "\n",
    "accuracy"
   ]
  },
  {
   "cell_type": "markdown",
   "id": "01625a4c",
   "metadata": {},
   "source": [
    "**Evaluation Metrics**: Here, we calculate the evaluation metrics for our classification model. We calculate the accuracy, which is the proportion of correct predictions. We use `np.mean(y_pred == y_test)` to calculate accuracy, where `y_pred` are the model predictions and `y_test` are the true labels. We also compute the confusion matrix using `confusion_matrix(y_test, y_pred)`, and the classification report using `classification_report(y_test, y_pred)`."
   ]
  },
  {
   "cell_type": "markdown",
   "id": "f358d11e",
   "metadata": {},
   "source": [
    "### 2.7 Predicted Probabilities"
   ]
  },
  {
   "cell_type": "code",
   "execution_count": 15,
   "id": "f2c0a342",
   "metadata": {},
   "outputs": [],
   "source": [
    "# Get predicted probabilities for each class (multi-class OvR strategy)\n",
    "y_probs = model.predict_proba(X_test)\n"
   ]
  },
  {
   "cell_type": "markdown",
   "id": "b705053e",
   "metadata": {},
   "source": [
    "**Predicted Probabilities**: The `predict_proba()` method returns the probabilities for each class. Since we have a multi-class classification problem, the `y_probs` array has a shape of `(n_samples, n_classes)` where `n_samples` is the number of samples in the test set, and `n_classes` is the number of classes in the dataset (in this case, 3 for the three iris species)."
   ]
  },
  {
   "cell_type": "markdown",
   "id": "661bc0dc",
   "metadata": {},
   "source": [
    "### 2.8 ROC-AUC Score"
   ]
  },
  {
   "cell_type": "code",
   "execution_count": 16,
   "id": "853e3b1f",
   "metadata": {},
   "outputs": [],
   "source": [
    "# Calculate ROC-AUC score for each class\n",
    "roc_auc = roc_auc_score(y_test, y_probs, multi_class='ovr')\n"
   ]
  },
  {
   "cell_type": "markdown",
   "id": "df937ca0",
   "metadata": {},
   "source": [
    "**ROC-AUC Score**: We calculate the ROC-AUC score for each class using the `roc_auc_score()` function from scikit-learn. The `multi_class='ovr'` parameter indicates the One-vs-Rest (OvR) strategy, where we treat each class as the positive class and the rest as the negative class. The function returns an array of ROC-AUC scores for each class."
   ]
  },
  {
   "cell_type": "markdown",
   "id": "018b6121",
   "metadata": {},
   "source": [
    "### 2.9 Data Visualization - Confusion Matrix"
   ]
  },
  {
   "cell_type": "code",
   "execution_count": 17,
   "id": "be063074",
   "metadata": {},
   "outputs": [
    {
     "data": {
      "text/plain": [
       "Text(0.5, 0, 'Predicted label')"
      ]
     },
     "execution_count": 17,
     "metadata": {},
     "output_type": "execute_result"
    },
    {
     "data": {
      "image/png": "[encoded data removed]",
      "text/plain": [
       "<Figure size 432x288 with 2 Axes>"
      ]
     },
     "metadata": {
      "needs_background": "light"
     },
     "output_type": "display_data"
    }
   ],
   "source": [
    "# Data Visualization\n",
    "# Confusion Matrix\n",
    "plt.figure(figsize=(6, 4))\n",
    "plt.imshow(conf_matrix, interpolation='nearest', cmap=plt.cm.Blues)\n",
    "plt.title('Confusion Matrix')\n",
    "plt.colorbar()\n",
    "classes = iris.target_names\n",
    "tick_marks = np.arange(len(classes))\n",
    "plt.xticks(tick_marks, classes, rotation=45)\n",
    "plt.yticks(tick_marks, classes)\n",
    "plt.ylabel('True label')\n",
    "plt.xlabel('Predicted label')"
   ]
  },
  {
   "cell_type": "markdown",
   "id": "beeaf640",
   "metadata": {},
   "source": [
    "**Data Visualization** - Confusion Matrix: We use matplotlib to create a heatmap to visualize the confusion matrix. The heatmap's intensity represents the number of correct and incorrect predictions for each class. The color bar indicates the scale of the values."
   ]
  },
  {
   "cell_type": "markdown",
   "id": "46618b4f",
   "metadata": {},
   "source": [
    "### 2.10 Classification Report:"
   ]
  },
  {
   "cell_type": "code",
   "execution_count": 18,
   "id": "d5cda75d",
   "metadata": {},
   "outputs": [
    {
     "name": "stdout",
     "output_type": "stream",
     "text": [
      "Classification Report:\n",
      "              precision    recall  f1-score   support\n",
      "\n",
      "           0       1.00      1.00      1.00        19\n",
      "           1       1.00      1.00      1.00        13\n",
      "           2       1.00      1.00      1.00        13\n",
      "\n",
      "    accuracy                           1.00        45\n",
      "   macro avg       1.00      1.00      1.00        45\n",
      "weighted avg       1.00      1.00      1.00        45\n",
      "\n"
     ]
    }
   ],
   "source": [
    "# Classification Report\n",
    "print(\"Classification Report:\")\n",
    "print(classification_rep)\n"
   ]
  },
  {
   "cell_type": "markdown",
   "id": "604e3d66",
   "metadata": {},
   "source": [
    "**Classification Report**: We print the classification report, which includes metrics like precision, recall, F1-score, and support for each class."
   ]
  },
  {
   "cell_type": "markdown",
   "id": "fd93e595",
   "metadata": {},
   "source": [
    "### 2.11 Data Visualization - ROC Curves"
   ]
  },
  {
   "cell_type": "code",
   "execution_count": 19,
   "id": "50bd0f23",
   "metadata": {},
   "outputs": [
    {
     "data": {
      "image/png": "[encoded data removed]",
      "text/plain": [
       "<Figure size 432x288 with 1 Axes>"
      ]
     },
     "metadata": {
      "needs_background": "light"
     },
     "output_type": "display_data"
    }
   ],
   "source": [
    "# ROC Curves for each class\n",
    "plt.figure(figsize=(6, 4))\n",
    "for i in range(len(iris.target_names)):\n",
    "    fpr, tpr, thresholds = roc_curve(y_test, y_probs[:, i], pos_label=i)\n",
    "    roc_auc = roc_auc_score(y_test == i, y_probs[:, i])\n",
    "    plt.plot(fpr, tpr, lw=2, label='ROC curve for class {} (area = {:.2f})'.format(iris.target_names[i], roc_auc))\n",
    "plt.plot([0, 1], [0, 1], color='gray', lw=1, linestyle='--')\n",
    "plt.xlim([0.0, 1.0])\n",
    "plt.ylim([0.0, 1.05])\n",
    "plt.xlabel('False Positive Rate')\n",
    "plt.ylabel('True Positive Rate')\n",
    "plt.title('Receiver Operating Characteristic (ROC) Curves')\n",
    "plt.legend(loc='lower right')\n",
    "\n",
    "plt.show()\n"
   ]
  },
  {
   "cell_type": "markdown",
   "id": "08d4099b",
   "metadata": {},
   "source": [
    "**Data Visualization - ROC Curves**: Finally, we create a line plot for the ROC curves of each class using matplotlib. The ROC curves plot the true positive rate (TPR) against the false positive rate (FPR) at different classification thresholds for each class. The area under each curve (ROC-AUC) quantifies the model's performance in distinguishing each class from the rest. We add the ROC-AUC value as a label to the curves and display the plot with a legend."
   ]
  }
 ],
 "metadata": {
  "kernelspec": {
   "display_name": "Python 3 (ipykernel)",
   "language": "python",
   "name": "python3"
  },
  "language_info": {
   "codemirror_mode": {
    "name": "ipython",
    "version": 3
   },
   "file_extension": ".py",
   "mimetype": "text/x-python",
   "name": "python",
   "nbconvert_exporter": "python",
   "pygments_lexer": "ipython3",
   "version": "3.9.12"
  }
 },
 "nbformat": 4,
 "nbformat_minor": 5
}
