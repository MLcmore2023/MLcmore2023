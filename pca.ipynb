{
  "nbformat": 4,
  "nbformat_minor": 0,
  "metadata": {
    "colab": {
      "provenance": [],
      "authorship_tag": "ABX9TyOBsVrAyTeTFBga9yPT1aLd",
      "include_colab_link": true
    },
    "kernelspec": {
      "name": "python3",
      "display_name": "Python 3"
    },
    "language_info": {
      "name": "python"
    }
  },
  "cells": [
    {
      "cell_type": "markdown",
      "metadata": {
        "id": "view-in-github",
        "colab_type": "text"
      },
      "source": [
        "<a href=\"https://colab.research.google.com/github/MLcmore2023/MLcmore2023/blob/main/pca.ipynb\" target=\"_parent\"><img src=\"https://colab.research.google.com/assets/colab-badge.svg\" alt=\"Open In Colab\"/></a>"
      ]
    },
    {
      "cell_type": "markdown",
      "source": [
        "# Principal Component Analysis (PCA)\n",
        "Principal Component Analysis is an unsupervised dimensionality reduction technique used to transform a high-dimensional dataset into a lower-dimensional space while retaining the most important patterns and variations in the data. The algorithm identifies orthogonal axes, known as principal components, that capture the maximum variance in the data. These components are ordered by their significance, with the first component explaining the most variance and subsequent components explaining the remaining variance in decreasing order. By projecting the data onto the selected principal components, PCA effectively reduces its dimensionality (number of features), making it easier to visualize and analyze while preserving essential information.\n",
        "\n",
        "\n",
        "\n",
        "\n"
      ],
      "metadata": {
        "id": "o2xIeiZ3INDa"
      }
    },
    {
      "cell_type": "markdown",
      "source": [
        "### Import libraries and initialize random generator"
      ],
      "metadata": {
        "id": "2i0FP5DFMl5M"
      }
    },
    {
      "cell_type": "code",
      "source": [
        "import numpy as np # linear algebra\n",
        "import pandas as pd # data processing\n",
        "import matplotlib.pyplot as plt # graphing\n",
        "np.random.seed(0)"
      ],
      "metadata": {
        "id": "DNRTutP1MmtP"
      },
      "execution_count": 19,
      "outputs": []
    },
    {
      "cell_type": "markdown",
      "source": [
        "### Read data from CSV\n",
        "We will use the wholesale customers dataset. The data set includes the annual spending amount on 8 product categories of 440 customers. We will try to group these customers into different clusters, which in real life may represent groups such as individual buyers, business owners, tourists ... (these are just examples)\n",
        "\n",
        "https://archive.ics.uci.edu/dataset/292/wholesale+customers"
      ],
      "metadata": {
        "id": "7hGcWlvhMsvY"
      }
    },
    {
      "cell_type": "code",
      "source": [
        "dataset = pd.read_csv(\"https://raw.githubusercontent.com/TrainingByPackt/Data-Science-with-Python/master/Chapter01/Data/Wholesale%20customers%20data.csv\")\n",
        "display(dataset)"
      ],
      "metadata": {
        "colab": {
          "base_uri": "https://localhost:8080/",
          "height": 423
        },
        "id": "Oi-NNJbwMybJ",
        "outputId": "dc7ea68a-4a6a-4347-a5ac-cd2c138337fb"
      },
      "execution_count": 2,
      "outputs": [
        {
          "output_type": "display_data",
          "data": {
            "text/plain": [
              "     Channel  Region  Fresh   Milk  Grocery  Frozen  Detergents_Paper  \\\n",
              "0          2       3  12669   9656     7561     214              2674   \n",
              "1          2       3   7057   9810     9568    1762              3293   \n",
              "2          2       3   6353   8808     7684    2405              3516   \n",
              "3          1       3  13265   1196     4221    6404               507   \n",
              "4          2       3  22615   5410     7198    3915              1777   \n",
              "..       ...     ...    ...    ...      ...     ...               ...   \n",
              "435        1       3  29703  12051    16027   13135               182   \n",
              "436        1       3  39228   1431      764    4510                93   \n",
              "437        2       3  14531  15488    30243     437             14841   \n",
              "438        1       3  10290   1981     2232    1038               168   \n",
              "439        1       3   2787   1698     2510      65               477   \n",
              "\n",
              "     Delicassen  \n",
              "0          1338  \n",
              "1          1776  \n",
              "2          7844  \n",
              "3          1788  \n",
              "4          5185  \n",
              "..          ...  \n",
              "435        2204  \n",
              "436        2346  \n",
              "437        1867  \n",
              "438        2125  \n",
              "439          52  \n",
              "\n",
              "[440 rows x 8 columns]"
            ],
            "text/html": [
              "\n",
              "\n",
              "  <div id=\"df-8d8ece88-6338-4dca-ba17-95c3953ad094\">\n",
              "    <div class=\"colab-df-container\">\n",
              "      <div>\n",
              "<style scoped>\n",
              "    .dataframe tbody tr th:only-of-type {\n",
              "        vertical-align: middle;\n",
              "    }\n",
              "\n",
              "    .dataframe tbody tr th {\n",
              "        vertical-align: top;\n",
              "    }\n",
              "\n",
              "    .dataframe thead th {\n",
              "        text-align: right;\n",
              "    }\n",
              "</style>\n",
              "<table border=\"1\" class=\"dataframe\">\n",
              "  <thead>\n",
              "    <tr style=\"text-align: right;\">\n",
              "      <th></th>\n",
              "      <th>Channel</th>\n",
              "      <th>Region</th>\n",
              "      <th>Fresh</th>\n",
              "      <th>Milk</th>\n",
              "      <th>Grocery</th>\n",
              "      <th>Frozen</th>\n",
              "      <th>Detergents_Paper</th>\n",
              "      <th>Delicassen</th>\n",
              "    </tr>\n",
              "  </thead>\n",
              "  <tbody>\n",
              "    <tr>\n",
              "      <th>0</th>\n",
              "      <td>2</td>\n",
              "      <td>3</td>\n",
              "      <td>12669</td>\n",
              "      <td>9656</td>\n",
              "      <td>7561</td>\n",
              "      <td>214</td>\n",
              "      <td>2674</td>\n",
              "      <td>1338</td>\n",
              "    </tr>\n",
              "    <tr>\n",
              "      <th>1</th>\n",
              "      <td>2</td>\n",
              "      <td>3</td>\n",
              "      <td>7057</td>\n",
              "      <td>9810</td>\n",
              "      <td>9568</td>\n",
              "      <td>1762</td>\n",
              "      <td>3293</td>\n",
              "      <td>1776</td>\n",
              "    </tr>\n",
              "    <tr>\n",
              "      <th>2</th>\n",
              "      <td>2</td>\n",
              "      <td>3</td>\n",
              "      <td>6353</td>\n",
              "      <td>8808</td>\n",
              "      <td>7684</td>\n",
              "      <td>2405</td>\n",
              "      <td>3516</td>\n",
              "      <td>7844</td>\n",
              "    </tr>\n",
              "    <tr>\n",
              "      <th>3</th>\n",
              "      <td>1</td>\n",
              "      <td>3</td>\n",
              "      <td>13265</td>\n",
              "      <td>1196</td>\n",
              "      <td>4221</td>\n",
              "      <td>6404</td>\n",
              "      <td>507</td>\n",
              "      <td>1788</td>\n",
              "    </tr>\n",
              "    <tr>\n",
              "      <th>4</th>\n",
              "      <td>2</td>\n",
              "      <td>3</td>\n",
              "      <td>22615</td>\n",
              "      <td>5410</td>\n",
              "      <td>7198</td>\n",
              "      <td>3915</td>\n",
              "      <td>1777</td>\n",
              "      <td>5185</td>\n",
              "    </tr>\n",
              "    <tr>\n",
              "      <th>...</th>\n",
              "      <td>...</td>\n",
              "      <td>...</td>\n",
              "      <td>...</td>\n",
              "      <td>...</td>\n",
              "      <td>...</td>\n",
              "      <td>...</td>\n",
              "      <td>...</td>\n",
              "      <td>...</td>\n",
              "    </tr>\n",
              "    <tr>\n",
              "      <th>435</th>\n",
              "      <td>1</td>\n",
              "      <td>3</td>\n",
              "      <td>29703</td>\n",
              "      <td>12051</td>\n",
              "      <td>16027</td>\n",
              "      <td>13135</td>\n",
              "      <td>182</td>\n",
              "      <td>2204</td>\n",
              "    </tr>\n",
              "    <tr>\n",
              "      <th>436</th>\n",
              "      <td>1</td>\n",
              "      <td>3</td>\n",
              "      <td>39228</td>\n",
              "      <td>1431</td>\n",
              "      <td>764</td>\n",
              "      <td>4510</td>\n",
              "      <td>93</td>\n",
              "      <td>2346</td>\n",
              "    </tr>\n",
              "    <tr>\n",
              "      <th>437</th>\n",
              "      <td>2</td>\n",
              "      <td>3</td>\n",
              "      <td>14531</td>\n",
              "      <td>15488</td>\n",
              "      <td>30243</td>\n",
              "      <td>437</td>\n",
              "      <td>14841</td>\n",
              "      <td>1867</td>\n",
              "    </tr>\n",
              "    <tr>\n",
              "      <th>438</th>\n",
              "      <td>1</td>\n",
              "      <td>3</td>\n",
              "      <td>10290</td>\n",
              "      <td>1981</td>\n",
              "      <td>2232</td>\n",
              "      <td>1038</td>\n",
              "      <td>168</td>\n",
              "      <td>2125</td>\n",
              "    </tr>\n",
              "    <tr>\n",
              "      <th>439</th>\n",
              "      <td>1</td>\n",
              "      <td>3</td>\n",
              "      <td>2787</td>\n",
              "      <td>1698</td>\n",
              "      <td>2510</td>\n",
              "      <td>65</td>\n",
              "      <td>477</td>\n",
              "      <td>52</td>\n",
              "    </tr>\n",
              "  </tbody>\n",
              "</table>\n",
              "<p>440 rows × 8 columns</p>\n",
              "</div>\n",
              "      <button class=\"colab-df-convert\" onclick=\"convertToInteractive('df-8d8ece88-6338-4dca-ba17-95c3953ad094')\"\n",
              "              title=\"Convert this dataframe to an interactive table.\"\n",
              "              style=\"display:none;\">\n",
              "\n",
              "  <svg xmlns=\"http://www.w3.org/2000/svg\" height=\"24px\"viewBox=\"0 0 24 24\"\n",
              "       width=\"24px\">\n",
              "    <path d=\"M0 0h24v24H0V0z\" fill=\"none\"/>\n",
              "    <path d=\"M18.56 5.44l.94 2.06.94-2.06 2.06-.94-2.06-.94-.94-2.06-.94 2.06-2.06.94zm-11 1L8.5 8.5l.94-2.06 2.06-.94-2.06-.94L8.5 2.5l-.94 2.06-2.06.94zm10 10l.94 2.06.94-2.06 2.06-.94-2.06-.94-.94-2.06-.94 2.06-2.06.94z\"/><path d=\"M17.41 7.96l-1.37-1.37c-.4-.4-.92-.59-1.43-.59-.52 0-1.04.2-1.43.59L10.3 9.45l-7.72 7.72c-.78.78-.78 2.05 0 2.83L4 21.41c.39.39.9.59 1.41.59.51 0 1.02-.2 1.41-.59l7.78-7.78 2.81-2.81c.8-.78.8-2.07 0-2.86zM5.41 20L4 18.59l7.72-7.72 1.47 1.35L5.41 20z\"/>\n",
              "  </svg>\n",
              "      </button>\n",
              "\n",
              "\n",
              "\n",
              "    <div id=\"df-0eb42875-6287-41a4-9591-ac382dbfc7e2\">\n",
              "      <button class=\"colab-df-quickchart\" onclick=\"quickchart('df-0eb42875-6287-41a4-9591-ac382dbfc7e2')\"\n",
              "              title=\"Suggest charts.\"\n",
              "              style=\"display:none;\">\n",
              "\n",
              "<svg xmlns=\"http://www.w3.org/2000/svg\" height=\"24px\"viewBox=\"0 0 24 24\"\n",
              "     width=\"24px\">\n",
              "    <g>\n",
              "        <path d=\"M19 3H5c-1.1 0-2 .9-2 2v14c0 1.1.9 2 2 2h14c1.1 0 2-.9 2-2V5c0-1.1-.9-2-2-2zM9 17H7v-7h2v7zm4 0h-2V7h2v10zm4 0h-2v-4h2v4z\"/>\n",
              "    </g>\n",
              "</svg>\n",
              "      </button>\n",
              "    </div>\n",
              "\n",
              "<style>\n",
              "  .colab-df-quickchart {\n",
              "    background-color: #E8F0FE;\n",
              "    border: none;\n",
              "    border-radius: 50%;\n",
              "    cursor: pointer;\n",
              "    display: none;\n",
              "    fill: #1967D2;\n",
              "    height: 32px;\n",
              "    padding: 0 0 0 0;\n",
              "    width: 32px;\n",
              "  }\n",
              "\n",
              "  .colab-df-quickchart:hover {\n",
              "    background-color: #E2EBFA;\n",
              "    box-shadow: 0px 1px 2px rgba(60, 64, 67, 0.3), 0px 1px 3px 1px rgba(60, 64, 67, 0.15);\n",
              "    fill: #174EA6;\n",
              "  }\n",
              "\n",
              "  [theme=dark] .colab-df-quickchart {\n",
              "    background-color: #3B4455;\n",
              "    fill: #D2E3FC;\n",
              "  }\n",
              "\n",
              "  [theme=dark] .colab-df-quickchart:hover {\n",
              "    background-color: #434B5C;\n",
              "    box-shadow: 0px 1px 3px 1px rgba(0, 0, 0, 0.15);\n",
              "    filter: drop-shadow(0px 1px 2px rgba(0, 0, 0, 0.3));\n",
              "    fill: #FFFFFF;\n",
              "  }\n",
              "</style>\n",
              "\n",
              "    <script>\n",
              "      async function quickchart(key) {\n",
              "        const containerElement = document.querySelector('#' + key);\n",
              "        const charts = await google.colab.kernel.invokeFunction(\n",
              "            'suggestCharts', [key], {});\n",
              "      }\n",
              "    </script>\n",
              "\n",
              "      <script>\n",
              "\n",
              "function displayQuickchartButton(domScope) {\n",
              "  let quickchartButtonEl =\n",
              "    domScope.querySelector('#df-0eb42875-6287-41a4-9591-ac382dbfc7e2 button.colab-df-quickchart');\n",
              "  quickchartButtonEl.style.display =\n",
              "    google.colab.kernel.accessAllowed ? 'block' : 'none';\n",
              "}\n",
              "\n",
              "        displayQuickchartButton(document);\n",
              "      </script>\n",
              "      <style>\n",
              "    .colab-df-container {\n",
              "      display:flex;\n",
              "      flex-wrap:wrap;\n",
              "      gap: 12px;\n",
              "    }\n",
              "\n",
              "    .colab-df-convert {\n",
              "      background-color: #E8F0FE;\n",
              "      border: none;\n",
              "      border-radius: 50%;\n",
              "      cursor: pointer;\n",
              "      display: none;\n",
              "      fill: #1967D2;\n",
              "      height: 32px;\n",
              "      padding: 0 0 0 0;\n",
              "      width: 32px;\n",
              "    }\n",
              "\n",
              "    .colab-df-convert:hover {\n",
              "      background-color: #E2EBFA;\n",
              "      box-shadow: 0px 1px 2px rgba(60, 64, 67, 0.3), 0px 1px 3px 1px rgba(60, 64, 67, 0.15);\n",
              "      fill: #174EA6;\n",
              "    }\n",
              "\n",
              "    [theme=dark] .colab-df-convert {\n",
              "      background-color: #3B4455;\n",
              "      fill: #D2E3FC;\n",
              "    }\n",
              "\n",
              "    [theme=dark] .colab-df-convert:hover {\n",
              "      background-color: #434B5C;\n",
              "      box-shadow: 0px 1px 3px 1px rgba(0, 0, 0, 0.15);\n",
              "      filter: drop-shadow(0px 1px 2px rgba(0, 0, 0, 0.3));\n",
              "      fill: #FFFFFF;\n",
              "    }\n",
              "  </style>\n",
              "\n",
              "      <script>\n",
              "        const buttonEl =\n",
              "          document.querySelector('#df-8d8ece88-6338-4dca-ba17-95c3953ad094 button.colab-df-convert');\n",
              "        buttonEl.style.display =\n",
              "          google.colab.kernel.accessAllowed ? 'block' : 'none';\n",
              "\n",
              "        async function convertToInteractive(key) {\n",
              "          const element = document.querySelector('#df-8d8ece88-6338-4dca-ba17-95c3953ad094');\n",
              "          const dataTable =\n",
              "            await google.colab.kernel.invokeFunction('convertToInteractive',\n",
              "                                                     [key], {});\n",
              "          if (!dataTable) return;\n",
              "\n",
              "          const docLinkHtml = 'Like what you see? Visit the ' +\n",
              "            '<a target=\"_blank\" href=https://colab.research.google.com/notebooks/data_table.ipynb>data table notebook</a>'\n",
              "            + ' to learn more about interactive tables.';\n",
              "          element.innerHTML = '';\n",
              "          dataTable['output_type'] = 'display_data';\n",
              "          await google.colab.output.renderOutput(dataTable, element);\n",
              "          const docLink = document.createElement('div');\n",
              "          docLink.innerHTML = docLinkHtml;\n",
              "          element.appendChild(docLink);\n",
              "        }\n",
              "      </script>\n",
              "    </div>\n",
              "  </div>\n"
            ]
          },
          "metadata": {}
        }
      ]
    },
    {
      "cell_type": "code",
      "source": [
        "print(dataset.shape)\n",
        "n_samples = dataset.shape[0]\n",
        "n_features = dataset.shape[1]"
      ],
      "metadata": {
        "colab": {
          "base_uri": "https://localhost:8080/"
        },
        "id": "ZzQsDeOuXDtl",
        "outputId": "79303d6a-2868-4248-a6b4-bd2fcbdd04a6"
      },
      "execution_count": 21,
      "outputs": [
        {
          "output_type": "stream",
          "name": "stdout",
          "text": [
            "(440, 8)\n"
          ]
        }
      ]
    },
    {
      "cell_type": "code",
      "source": [
        "# Convert the dataset into a numpy matrix\n",
        "X = dataset.to_numpy()\n",
        "display(X)"
      ],
      "metadata": {
        "colab": {
          "base_uri": "https://localhost:8080/",
          "height": 143
        },
        "id": "O-GhNAnrN70u",
        "outputId": "59ac0686-dfe7-430f-e70f-4f081544b793"
      },
      "execution_count": 8,
      "outputs": [
        {
          "output_type": "display_data",
          "data": {
            "text/plain": [
              "array([[    2,     3, 12669, ...,   214,  2674,  1338],\n",
              "       [    2,     3,  7057, ...,  1762,  3293,  1776],\n",
              "       [    2,     3,  6353, ...,  2405,  3516,  7844],\n",
              "       ...,\n",
              "       [    2,     3, 14531, ...,   437, 14841,  1867],\n",
              "       [    1,     3, 10290, ...,  1038,   168,  2125],\n",
              "       [    1,     3,  2787, ...,    65,   477,    52]])"
            ]
          },
          "metadata": {}
        }
      ]
    },
    {
      "cell_type": "markdown",
      "source": [
        "### Standardizing dataset values\n",
        "We can standardize features by removing the mean and scaling to unit variance, so all features are treated equally."
      ],
      "metadata": {
        "id": "joabQNDYNC8C"
      }
    },
    {
      "cell_type": "code",
      "source": [
        "def mean(x):\n",
        "    return sum(x)/len(x)\n",
        "\n",
        "def std(x):\n",
        "    return (sum((i - mean(x))**2 for i in x)/len(x))**0.5\n",
        "\n",
        "dataset_standardized = ( X - mean(X) )  /  std(X)\n",
        "display(dataset_standardized)"
      ],
      "metadata": {
        "colab": {
          "base_uri": "https://localhost:8080/",
          "height": 251
        },
        "id": "NETezHxaNPHA",
        "outputId": "eeb104bf-5e03-4d8c-9b5f-04a2175f63dc"
      },
      "execution_count": 10,
      "outputs": [
        {
          "output_type": "display_data",
          "data": {
            "text/plain": [
              "array([[ 1.44865163,  0.59066829,  0.05293319, ..., -0.58936716,\n",
              "        -0.04356873, -0.06633906],\n",
              "       [ 1.44865163,  0.59066829, -0.39130197, ..., -0.27013618,\n",
              "         0.08640684,  0.08915105],\n",
              "       [ 1.44865163,  0.59066829, -0.44702926, ..., -0.13753572,\n",
              "         0.13323164,  2.24329255],\n",
              "       ...,\n",
              "       [ 1.44865163,  0.59066829,  0.20032554, ..., -0.54337975,\n",
              "         2.51121768,  0.12145607],\n",
              "       [-0.69029709,  0.59066829, -0.13538389, ..., -0.41944059,\n",
              "        -0.56977032,  0.21304614],\n",
              "       [-0.69029709,  0.59066829, -0.72930698, ..., -0.62009417,\n",
              "        -0.50488752, -0.52286938]])"
            ]
          },
          "metadata": {}
        }
      ]
    },
    {
      "cell_type": "markdown",
      "source": [
        "### Covariance matrix\n",
        "\n",
        "In statistics, the covariance matrix is a fundamental concept used to understand the relationships between multiple variables in a dataset. It provides a measure of how two variables vary together. The covariance matrix is a square matrix where each element represents the covariance between two variables.\n",
        "\n",
        "Let's assume we have a dataset with 'n' observations and 'm' variables. The covariance matrix, denoted as $\\mathbf{C}$, is an $m \\times m$ matrix, where the $(i,j)$th element represents the covariance between variables $X_i$ and $X_j$:\n",
        "\n",
        "$$\n",
        "\\mathbf{C} = \\begin{bmatrix}\n",
        "\\text{cov}(X_1, X_1) & \\text{cov}(X_1, X_2) & \\dots & \\text{cov}(X_1, X_m) \\\\\n",
        "\\text{cov}(X_2, X_1) & \\text{cov}(X_2, X_2) & \\dots & \\text{cov}(X_2, X_m) \\\\\n",
        "\\vdots & \\vdots & \\ddots & \\vdots \\\\\n",
        "\\text{cov}(X_m, X_1) & \\text{cov}(X_m, X_2) & \\dots & \\text{cov}(X_m, X_m) \\\\\n",
        "\\end{bmatrix}\n",
        "$$\n",
        "\n",
        "The diagonal elements of the covariance matrix ($C_{ii}$) represent the variance of each variable, and the off-diagonal elements ($C_{ij}$ where $i \\neq j$) represent the covariances between different pairs of variables.\n",
        "\n",
        "The covariance between two variables, $X_i$ and $X_j$, is given by the following formula:\n",
        "\n",
        "$$\n",
        "\\text{cov}(X_i, X_j) = \\frac{1}{n-1} \\sum_{k=1}^{n} (X_{ki} - \\bar{X}_i) \\cdot (X_{kj} - \\bar{X}_j)\n",
        "$$\n",
        "\n",
        "Where:\n",
        "- $X_{ki}$ and $X_{kj}$ are the values of variable $X_i$ and $X_j$ for the $k$th observation, respectively.\n",
        "- $\\bar{X}_i$ and $\\bar{X}_j$ are the means of variables $X_i$ and $X_j$ across all observations.\n",
        "\n",
        "The matrix can be computed using the following:\n",
        "$$\\mathbf{C} = \\frac{X^T \\cdot X}{n-1}$$\n"
      ],
      "metadata": {
        "id": "mu2DFvnUOU-r"
      }
    },
    {
      "cell_type": "code",
      "source": [
        "def covariance(x):\n",
        "    n = x.shape[0]\n",
        "    return (x.T @ x)/(n-1)\n",
        "\n",
        "cov_mat = covariance(dataset_standardized)"
      ],
      "metadata": {
        "id": "m9qhjzhtOmHb"
      },
      "execution_count": 12,
      "outputs": []
    },
    {
      "cell_type": "markdown",
      "source": [
        "### Finding eigenvectors and eigenvalues of the covariance matrix (eigendecomposition of covariance matrix)\n"
      ],
      "metadata": {
        "id": "uVP4kLedT19x"
      }
    },
    {
      "cell_type": "code",
      "source": [
        "eig_vals, eig_vecs = np.linalg.eig(cov_mat)\n",
        "print('Eigenvalues \\n', eig_vals)\n",
        "print('Eigenvectors \\n', eig_vecs)"
      ],
      "metadata": {
        "colab": {
          "base_uri": "https://localhost:8080/"
        },
        "id": "4ayUm6U8UFhe",
        "outputId": "34743c1f-39a2-43a9-88cc-8a69cb8d2bf1"
      },
      "execution_count": 14,
      "outputs": [
        {
          "output_type": "stream",
          "name": "stdout",
          "text": [
            "Eigenvalues \n",
            " [3.10707136 1.79404441 1.0140786  0.06293318 0.28176643 0.74007428\n",
            " 0.46035462 0.55790035]\n",
            "Eigenvectors \n",
            " [[-4.28291564e-01 -2.04698855e-01 -8.29798863e-02  1.93353734e-02\n",
            "   1.39899044e-01  2.96441646e-02 -8.63506696e-01  3.62058452e-02]\n",
            " [-2.47260253e-02  4.31296430e-02 -9.82500889e-01 -1.54504484e-03\n",
            "  -2.32799384e-02  7.78446249e-02  8.97647905e-02 -1.32508923e-01]\n",
            " [ 2.53194580e-02  5.13444679e-01 -8.89509074e-02 -3.38511136e-02\n",
            "  -2.71736934e-02 -7.98475924e-01 -1.47474736e-01  2.58116864e-01]\n",
            " [-4.74409947e-01  2.05540611e-01  2.57510842e-02 -3.92913471e-02\n",
            "   7.89020414e-01  5.40220237e-02  3.15932560e-01  7.20857633e-02]\n",
            " [-5.36329145e-01 -8.71761988e-03  4.53143572e-02  7.15984124e-01\n",
            "  -3.53064294e-01 -1.21586244e-01  2.13698887e-01 -1.11729898e-01]\n",
            " [ 2.99745579e-02  5.92745252e-01  1.22156522e-01 -1.29832249e-02\n",
            "  -5.33679297e-03  1.61316883e-01 -1.94359931e-01 -7.54212444e-01]\n",
            " [-5.23906297e-01 -1.21083091e-01  4.74814388e-02 -6.91672189e-01\n",
            "  -3.71374310e-01 -1.51012112e-01  1.95753557e-01 -1.76502639e-01]\n",
            " [-1.64996527e-01  5.33180819e-01 -9.30199386e-04 -7.56425871e-02\n",
            "  -3.06582655e-01  5.37557669e-01 -5.45328898e-02  5.44827208e-01]]\n"
          ]
        }
      ]
    },
    {
      "cell_type": "code",
      "source": [
        "# Adjusting the eigenvectors (loadings) that are largest in absolute value to be positive\n",
        "max_abs_idx = np.argmax(np.abs(eig_vecs), axis=0)\n",
        "signs = np.sign(eig_vecs[max_abs_idx, range(eig_vecs.shape[0])])\n",
        "eig_vecs = eig_vecs*signs[np.newaxis,:]\n",
        "eig_vecs = eig_vecs.T\n",
        "\n",
        "print('Eigenvalues \\n', eig_vals)\n",
        "print('Eigenvectors \\n', eig_vecs)"
      ],
      "metadata": {
        "colab": {
          "base_uri": "https://localhost:8080/"
        },
        "id": "reJWypv0UE9E",
        "outputId": "c132986a-bbc8-4675-8335-5c3ca5a0b43b"
      },
      "execution_count": 15,
      "outputs": [
        {
          "output_type": "stream",
          "name": "stdout",
          "text": [
            "Eigenvalues \n",
            " [3.10707136 1.79404441 1.0140786  0.06293318 0.28176643 0.74007428\n",
            " 0.46035462 0.55790035]\n",
            "Eigenvectors \n",
            " [[ 4.28291564e-01  2.47260253e-02 -2.53194580e-02  4.74409947e-01\n",
            "   5.36329145e-01 -2.99745579e-02  5.23906297e-01  1.64996527e-01]\n",
            " [-2.04698855e-01  4.31296430e-02  5.13444679e-01  2.05540611e-01\n",
            "  -8.71761988e-03  5.92745252e-01 -1.21083091e-01  5.33180819e-01]\n",
            " [ 8.29798863e-02  9.82500889e-01  8.89509074e-02 -2.57510842e-02\n",
            "  -4.53143572e-02 -1.22156522e-01 -4.74814388e-02  9.30199386e-04]\n",
            " [ 1.93353734e-02 -1.54504484e-03 -3.38511136e-02 -3.92913471e-02\n",
            "   7.15984124e-01 -1.29832249e-02 -6.91672189e-01 -7.56425871e-02]\n",
            " [ 1.39899044e-01 -2.32799384e-02 -2.71736934e-02  7.89020414e-01\n",
            "  -3.53064294e-01 -5.33679297e-03 -3.71374310e-01 -3.06582655e-01]\n",
            " [-2.96441646e-02 -7.78446249e-02  7.98475924e-01 -5.40220237e-02\n",
            "   1.21586244e-01 -1.61316883e-01  1.51012112e-01 -5.37557669e-01]\n",
            " [ 8.63506696e-01 -8.97647905e-02  1.47474736e-01 -3.15932560e-01\n",
            "  -2.13698887e-01  1.94359931e-01 -1.95753557e-01  5.45328898e-02]\n",
            " [-3.62058452e-02  1.32508923e-01 -2.58116864e-01 -7.20857633e-02\n",
            "   1.11729898e-01  7.54212444e-01  1.76502639e-01 -5.44827208e-01]]\n"
          ]
        }
      ]
    },
    {
      "cell_type": "markdown",
      "source": [
        "### Sorting the eigenvectors and eigenvalues\n",
        "Here, we sort eigenvalues in descending order."
      ],
      "metadata": {
        "id": "DdjvEH6UWhdI"
      }
    },
    {
      "cell_type": "code",
      "source": [
        "# We first make a list of (eigenvalue, eigenvector) tuples\n",
        "eig_pairs = [(np.abs(eig_vals[i]), eig_vecs[i,:]) for i in range(len(eig_vals))]\n",
        "\n",
        "# Then, we sort the tuples from the highest to the lowest based on eigenvalues magnitude\n",
        "eig_pairs.sort(key=lambda x: x[0], reverse=True)\n",
        "\n",
        "# For further usage\n",
        "eig_vals_sorted = np.array([x[0] for x in eig_pairs])\n",
        "eig_vecs_sorted = np.array([x[1] for x in eig_pairs])\n",
        "\n",
        "for e in eig_pairs:\n",
        "  print(e)\n"
      ],
      "metadata": {
        "colab": {
          "base_uri": "https://localhost:8080/"
        },
        "id": "dzwkzxeiWeU5",
        "outputId": "3dd4baa9-73f2-45f7-9f55-408772dbd577"
      },
      "execution_count": 17,
      "outputs": [
        {
          "output_type": "stream",
          "name": "stdout",
          "text": [
            "(3.107071358742731, array([ 0.42829156,  0.02472603, -0.02531946,  0.47440995,  0.53632914,\n",
            "       -0.02997456,  0.5239063 ,  0.16499653]))\n",
            "(1.7940444097416113, array([-0.20469886,  0.04312964,  0.51344468,  0.20554061, -0.00871762,\n",
            "        0.59274525, -0.12108309,  0.53318082]))\n",
            "(1.0140786002760043, array([ 8.29798863e-02,  9.82500889e-01,  8.89509074e-02, -2.57510842e-02,\n",
            "       -4.53143572e-02, -1.22156522e-01, -4.74814388e-02,  9.30199386e-04]))\n",
            "(0.740074284503021, array([-0.02964416, -0.07784462,  0.79847592, -0.05402202,  0.12158624,\n",
            "       -0.16131688,  0.15101211, -0.53755767]))\n",
            "(0.5579003530181726, array([-0.03620585,  0.13250892, -0.25811686, -0.07208576,  0.1117299 ,\n",
            "        0.75421244,  0.17650264, -0.54482721]))\n",
            "(0.46035461531450866, array([ 0.8635067 , -0.08976479,  0.14747474, -0.31593256, -0.21369889,\n",
            "        0.19435993, -0.19575356,  0.05453289]))\n",
            "(0.28176643281654057, array([ 0.13989904, -0.02327994, -0.02717369,  0.78902041, -0.35306429,\n",
            "       -0.00533679, -0.37137431, -0.30658265]))\n",
            "(0.06293318021155465, array([ 0.01933537, -0.00154504, -0.03385111, -0.03929135,  0.71598412,\n",
            "       -0.01298322, -0.69167219, -0.07564259]))\n"
          ]
        }
      ]
    },
    {
      "cell_type": "markdown",
      "source": [
        "### Explained variance\n",
        "We can graph out the explained variance of each principle component."
      ],
      "metadata": {
        "id": "ClEEIXsRWy0w"
      }
    },
    {
      "cell_type": "code",
      "source": [
        "eig_vals_total = sum(eig_vals)\n",
        "# convert the eigenvalues to percentage of the total sum of all eigenvalues\n",
        "explained_variance = eig_vals_sorted/eig_vals_total * 100\n",
        "\n",
        "print('Explained variance:',explained_variance)\n",
        "\n",
        "plt.bar(['PC1','PC2','PC3','PC4','PC5','PC6','PC7','PC8'],explained_variance)\n",
        "plt.ylabel('Explained variance');"
      ],
      "metadata": {
        "colab": {
          "base_uri": "https://localhost:8080/",
          "height": 466
        },
        "id": "rngoN40pWyev",
        "outputId": "b80c0282-2d0f-4c7e-825e-99ddf882a7a8"
      },
      "execution_count": 31,
      "outputs": [
        {
          "output_type": "stream",
          "name": "stdout",
          "text": [
            "Explained variance: [38.75012291 22.37458795 12.64717345  9.22990372  6.95790497  5.74135444\n",
            "  3.51407568  0.78487688]\n"
          ]
        },
        {
          "output_type": "display_data",
          "data": {
            "text/plain": [
              "<Figure size 640x480 with 1 Axes>"
            ],
            "image/png": "[encoded data removed]"
          },
          "metadata": {}
        }
      ]
    },
    {
      "cell_type": "markdown",
      "source": [
        "we now graph out the cumulative explained variance of the 8 principal components. From the graph, we can see that just 3 principal components accounts for 73% of the explained variance."
      ],
      "metadata": {
        "id": "lrF_ir0TZLtX"
      }
    },
    {
      "cell_type": "code",
      "source": [
        "cumulative_explained_variance = np.cumsum(explained_variance)\n",
        "print('Cumulative explained variance:',cumulative_explained_variance)\n",
        "\n",
        "plt.plot([1,2,3,4,5,6,7,8], cumulative_explained_variance, '-o')\n",
        "plt.xlabel('Number of components')\n",
        "plt.ylabel('Cumulative explained variance')"
      ],
      "metadata": {
        "colab": {
          "base_uri": "https://localhost:8080/",
          "height": 503
        },
        "id": "TDcN6drJYENK",
        "outputId": "f6a56749-a900-4239-a3d6-df016aedef03"
      },
      "execution_count": 34,
      "outputs": [
        {
          "output_type": "stream",
          "name": "stdout",
          "text": [
            "Cumulative explained variance: [ 38.75012291  61.12471086  73.77188431  83.00178803  89.959693\n",
            "  95.70104744  99.21512312 100.        ]\n"
          ]
        },
        {
          "output_type": "execute_result",
          "data": {
            "text/plain": [
              "Text(0, 0.5, 'Cumulative explained variance')"
            ]
          },
          "metadata": {},
          "execution_count": 34
        },
        {
          "output_type": "display_data",
          "data": {
            "text/plain": [
              "<Figure size 640x480 with 1 Axes>"
            ],
            "image/png": "[encoded data removed]"
          },
          "metadata": {}
        }
      ]
    },
    {
      "cell_type": "markdown",
      "source": [
        "### Dimension reduction\n",
        "we choose the top k eigenvectors where  k is the number of dimensions of the new feature subspace to reduce the dimension (number of features) in our dataset."
      ],
      "metadata": {
        "id": "8dFO3lLbZcPj"
      }
    },
    {
      "cell_type": "code",
      "source": [
        "# Select top k eigenvectors\n",
        "k = 2\n",
        "W = eig_vecs_sorted[:k, :] # Projection matrix\n",
        "\n",
        "print(W)"
      ],
      "metadata": {
        "colab": {
          "base_uri": "https://localhost:8080/"
        },
        "id": "ZacSWtbMZcwH",
        "outputId": "84d69fba-1388-4101-ee42-6ed2a2acae59"
      },
      "execution_count": 39,
      "outputs": [
        {
          "output_type": "stream",
          "name": "stdout",
          "text": [
            "[[ 0.42829156  0.02472603 -0.02531946  0.47440995  0.53632914 -0.02997456\n",
            "   0.5239063   0.16499653]\n",
            " [-0.20469886  0.04312964  0.51344468  0.20554061 -0.00871762  0.59274525\n",
            "  -0.12108309  0.53318082]]\n"
          ]
        }
      ]
    },
    {
      "cell_type": "markdown",
      "source": [
        "### Project the dataset\n",
        "With the transformation matrix, we can now transform the dataset using the projection matrix  W to obtain a k-dimensional feature subspace."
      ],
      "metadata": {
        "id": "QezhMsNgh8jv"
      }
    },
    {
      "cell_type": "code",
      "source": [
        "X_proj = dataset_standardized.dot(W.T)\n",
        "print(X_proj.shape)"
      ],
      "metadata": {
        "id": "eOmm29F9hwyG"
      },
      "execution_count": null,
      "outputs": []
    },
    {
      "cell_type": "markdown",
      "source": [
        "### Visualization of the projection"
      ],
      "metadata": {
        "id": "UZAGx8vydgNq"
      }
    },
    {
      "cell_type": "code",
      "source": [
        "plt.scatter(X_proj[:, 0], X_proj[:, 1])\n",
        "plt.xlabel('PC1'); plt.xticks([])\n",
        "plt.ylabel('PC2'); plt.yticks([])\n",
        "plt.title('2 components, captures {} of total variation'.format(cumulative_explained_variance[1]))\n",
        "plt.show()"
      ],
      "metadata": {
        "colab": {
          "base_uri": "https://localhost:8080/",
          "height": 448
        },
        "id": "LpCsELvRZ8Aa",
        "outputId": "15cc39dc-a2df-4fc9-a424-ec7de090aea4"
      },
      "execution_count": 43,
      "outputs": [
        {
          "output_type": "display_data",
          "data": {
            "text/plain": [
              "<Figure size 640x480 with 1 Axes>"
            ],
            "image/png": "[encoded data removed]"
          },
          "metadata": {}
        }
      ]
    },
    {
      "cell_type": "markdown",
      "source": [
        "### Comparison of cluster (before vs. after PCA)"
      ],
      "metadata": {
        "id": "FwaD3jnEd8sd"
      }
    },
    {
      "cell_type": "code",
      "source": [
        "from sklearn.cluster import KMeans\n",
        "from sklearn.preprocessing import StandardScaler\n",
        "kmeans = KMeans(n_clusters=5, random_state=42)\n",
        "cluster_labels = kmeans.fit_predict(dataset_standardized)\n",
        "\n",
        "# Get the cluster centers (centroids)\n",
        "cluster_centers = kmeans.cluster_centers_\n",
        "\n",
        "# Calculate the WCSS (Within-Cluster Sum of Squares)\n",
        "wcss = np.sum((dataset_standardized - cluster_centers[cluster_labels]) ** 2)\n",
        "print(\"WCSS:\", wcss)"
      ],
      "metadata": {
        "colab": {
          "base_uri": "https://localhost:8080/"
        },
        "id": "oLQ6K922d-cL",
        "outputId": "fcfb3a48-e4b9-4aa2-ac0b-436b4e1fe0c4"
      },
      "execution_count": 49,
      "outputs": [
        {
          "output_type": "stream",
          "name": "stderr",
          "text": [
            "/usr/local/lib/python3.10/dist-packages/sklearn/cluster/_kmeans.py:870: FutureWarning: The default value of `n_init` will change from 10 to 'auto' in 1.4. Set the value of `n_init` explicitly to suppress the warning\n",
            "  warnings.warn(\n"
          ]
        },
        {
          "output_type": "stream",
          "name": "stdout",
          "text": [
            "WCSS: 1548.8659343652666\n"
          ]
        }
      ]
    },
    {
      "cell_type": "code",
      "source": [
        "k = 5\n",
        "W = eig_vecs_sorted[:k, :] # Projection matrix\n",
        "dataset_proj = dataset_standardized.dot(W.T)\n",
        "\n",
        "\n",
        "kmeans = KMeans(n_clusters=5, random_state=42)\n",
        "cluster_labels = kmeans.fit_predict(dataset_proj)\n",
        "\n",
        "# Get the cluster centers (centroids)\n",
        "cluster_centers = kmeans.cluster_centers_\n",
        "\n",
        "# Calculate the WCSS (Within-Cluster Sum of Squares)\n",
        "wcss = np.sum((dataset_proj - cluster_centers[cluster_labels]) ** 2)\n",
        "print(\"WCSS:\", wcss)"
      ],
      "metadata": {
        "colab": {
          "base_uri": "https://localhost:8080/"
        },
        "id": "hdh8mbhhfi5u",
        "outputId": "d550b9cc-2116-45b8-d6e7-713ffc34cff1"
      },
      "execution_count": 54,
      "outputs": [
        {
          "output_type": "stream",
          "name": "stderr",
          "text": [
            "/usr/local/lib/python3.10/dist-packages/sklearn/cluster/_kmeans.py:870: FutureWarning: The default value of `n_init` will change from 10 to 'auto' in 1.4. Set the value of `n_init` explicitly to suppress the warning\n",
            "  warnings.warn(\n"
          ]
        },
        {
          "output_type": "stream",
          "name": "stdout",
          "text": [
            "WCSS: 1314.6987546155838\n"
          ]
        }
      ]
    },
    {
      "cell_type": "markdown",
      "source": [
        "## References\n",
        "- https://bagheri365.github.io/blog/Principal-Component-Analysis-from-Scratch/\n",
        "- https://towardsdatascience.com/principal-component-analysis-pca-from-scratch-in-python-7f3e2a540c51\n",
        "- https://www.youtube.com/watch?v=FgakZw6K1QQ\n",
        "- https://www.kaggle.com/code/kashnitsky/topic-7-unsupervised-learning-pca-and-clustering\n",
        "- https://www.kaggle.com/code/kashnitsky/a7-demo-unsupervised-learning/notebook"
      ],
      "metadata": {
        "id": "ogrXJZAjIoi3"
      }
    }
  ]
}