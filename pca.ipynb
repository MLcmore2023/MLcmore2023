{
  "nbformat": 4,
  "nbformat_minor": 0,
  "metadata": {
    "colab": {
      "provenance": [],
      "authorship_tag": "ABX9TyOx9EzmJ9d8UYdJ6JofvDg7",
      "include_colab_link": true
    },
    "kernelspec": {
      "name": "python3",
      "display_name": "Python 3"
    },
    "language_info": {
      "name": "python"
    }
  },
  "cells": [
    {
      "cell_type": "markdown",
      "metadata": {
        "id": "view-in-github",
        "colab_type": "text"
      },
      "source": [
        "<a href=\"https://colab.research.google.com/github/MLcmore2023/MLcmore2023/blob/main/pca.ipynb\" target=\"_parent\"><img src=\"https://colab.research.google.com/assets/colab-badge.svg\" alt=\"Open In Colab\"/></a>"
      ]
    },
    {
      "cell_type": "markdown",
      "source": [
        "# Principal Component Analysis (PCA)\n",
        "Principal Component Analysis is an unsupervised dimensionality reduction technique used to transform a high-dimensional dataset into a lower-dimensional space while retaining the most important patterns and variations in the data. The algorithm identifies orthogonal axes, known as principal components, that capture the maximum variance in the data. These components are ordered by their significance, with the first component explaining the most variance and subsequent components explaining the remaining variance in decreasing order. By projecting the data onto the selected principal components, PCA effectively reduces its dimensionality (number of features), making it easier to visualize and analyze while preserving essential information.\n",
        "\n",
        "\n",
        "\n",
        "\n"
      ],
      "metadata": {
        "id": "o2xIeiZ3INDa"
      }
    },
    {
      "cell_type": "markdown",
      "source": [
        "### Import libraries and initialize random generator"
      ],
      "metadata": {
        "id": "2i0FP5DFMl5M"
      }
    },
    {
      "cell_type": "code",
      "source": [
        "import numpy as np # linear algebra\n",
        "import pandas as pd # data processing\n",
        "import matplotlib.pyplot as plt # graphing\n",
        "np.random.seed(0)"
      ],
      "metadata": {
        "id": "DNRTutP1MmtP"
      },
      "execution_count": 113,
      "outputs": []
    },
    {
      "cell_type": "markdown",
      "source": [
        "### Read data from CSV\n",
        "We will use the wholesale customers dataset. The data set includes the annual spending amount on 8 product categories of 440 customers. We will try to group these customers into different clusters, which in real life may represent groups such as individual buyers, business owners, tourists ... (these are just examples)\n",
        "\n",
        "https://archive.ics.uci.edu/dataset/292/wholesale+customers"
      ],
      "metadata": {
        "id": "7hGcWlvhMsvY"
      }
    },
    {
      "cell_type": "code",
      "source": [
        "dataset = pd.read_csv(\"https://raw.githubusercontent.com/TrainingByPackt/Data-Science-with-Python/master/Chapter01/Data/Wholesale%20customers%20data.csv\")\n",
        "display(dataset)"
      ],
      "metadata": {
        "colab": {
          "base_uri": "https://localhost:8080/",
          "height": 423
        },
        "id": "Oi-NNJbwMybJ",
        "outputId": "3843db9a-2bd5-49a1-8997-b2fc6e87a835"
      },
      "execution_count": 114,
      "outputs": [
        {
          "output_type": "display_data",
          "data": {
            "text/plain": [
              "     Channel  Region  Fresh   Milk  Grocery  Frozen  Detergents_Paper  \\\n",
              "0          2       3  12669   9656     7561     214              2674   \n",
              "1          2       3   7057   9810     9568    1762              3293   \n",
              "2          2       3   6353   8808     7684    2405              3516   \n",
              "3          1       3  13265   1196     4221    6404               507   \n",
              "4          2       3  22615   5410     7198    3915              1777   \n",
              "..       ...     ...    ...    ...      ...     ...               ...   \n",
              "435        1       3  29703  12051    16027   13135               182   \n",
              "436        1       3  39228   1431      764    4510                93   \n",
              "437        2       3  14531  15488    30243     437             14841   \n",
              "438        1       3  10290   1981     2232    1038               168   \n",
              "439        1       3   2787   1698     2510      65               477   \n",
              "\n",
              "     Delicassen  \n",
              "0          1338  \n",
              "1          1776  \n",
              "2          7844  \n",
              "3          1788  \n",
              "4          5185  \n",
              "..          ...  \n",
              "435        2204  \n",
              "436        2346  \n",
              "437        1867  \n",
              "438        2125  \n",
              "439          52  \n",
              "\n",
              "[440 rows x 8 columns]"
            ],
            "text/html": [
              "\n",
              "\n",
              "  <div id=\"df-6db41fda-12ce-488b-a136-81dff7f3def8\">\n",
              "    <div class=\"colab-df-container\">\n",
              "      <div>\n",
              "<style scoped>\n",
              "    .dataframe tbody tr th:only-of-type {\n",
              "        vertical-align: middle;\n",
              "    }\n",
              "\n",
              "    .dataframe tbody tr th {\n",
              "        vertical-align: top;\n",
              "    }\n",
              "\n",
              "    .dataframe thead th {\n",
              "        text-align: right;\n",
              "    }\n",
              "</style>\n",
              "<table border=\"1\" class=\"dataframe\">\n",
              "  <thead>\n",
              "    <tr style=\"text-align: right;\">\n",
              "      <th></th>\n",
              "      <th>Channel</th>\n",
              "      <th>Region</th>\n",
              "      <th>Fresh</th>\n",
              "      <th>Milk</th>\n",
              "      <th>Grocery</th>\n",
              "      <th>Frozen</th>\n",
              "      <th>Detergents_Paper</th>\n",
              "      <th>Delicassen</th>\n",
              "    </tr>\n",
              "  </thead>\n",
              "  <tbody>\n",
              "    <tr>\n",
              "      <th>0</th>\n",
              "      <td>2</td>\n",
              "      <td>3</td>\n",
              "      <td>12669</td>\n",
              "      <td>9656</td>\n",
              "      <td>7561</td>\n",
              "      <td>214</td>\n",
              "      <td>2674</td>\n",
              "      <td>1338</td>\n",
              "    </tr>\n",
              "    <tr>\n",
              "      <th>1</th>\n",
              "      <td>2</td>\n",
              "      <td>3</td>\n",
              "      <td>7057</td>\n",
              "      <td>9810</td>\n",
              "      <td>9568</td>\n",
              "      <td>1762</td>\n",
              "      <td>3293</td>\n",
              "      <td>1776</td>\n",
              "    </tr>\n",
              "    <tr>\n",
              "      <th>2</th>\n",
              "      <td>2</td>\n",
              "      <td>3</td>\n",
              "      <td>6353</td>\n",
              "      <td>8808</td>\n",
              "      <td>7684</td>\n",
              "      <td>2405</td>\n",
              "      <td>3516</td>\n",
              "      <td>7844</td>\n",
              "    </tr>\n",
              "    <tr>\n",
              "      <th>3</th>\n",
              "      <td>1</td>\n",
              "      <td>3</td>\n",
              "      <td>13265</td>\n",
              "      <td>1196</td>\n",
              "      <td>4221</td>\n",
              "      <td>6404</td>\n",
              "      <td>507</td>\n",
              "      <td>1788</td>\n",
              "    </tr>\n",
              "    <tr>\n",
              "      <th>4</th>\n",
              "      <td>2</td>\n",
              "      <td>3</td>\n",
              "      <td>22615</td>\n",
              "      <td>5410</td>\n",
              "      <td>7198</td>\n",
              "      <td>3915</td>\n",
              "      <td>1777</td>\n",
              "      <td>5185</td>\n",
              "    </tr>\n",
              "    <tr>\n",
              "      <th>...</th>\n",
              "      <td>...</td>\n",
              "      <td>...</td>\n",
              "      <td>...</td>\n",
              "      <td>...</td>\n",
              "      <td>...</td>\n",
              "      <td>...</td>\n",
              "      <td>...</td>\n",
              "      <td>...</td>\n",
              "    </tr>\n",
              "    <tr>\n",
              "      <th>435</th>\n",
              "      <td>1</td>\n",
              "      <td>3</td>\n",
              "      <td>29703</td>\n",
              "      <td>12051</td>\n",
              "      <td>16027</td>\n",
              "      <td>13135</td>\n",
              "      <td>182</td>\n",
              "      <td>2204</td>\n",
              "    </tr>\n",
              "    <tr>\n",
              "      <th>436</th>\n",
              "      <td>1</td>\n",
              "      <td>3</td>\n",
              "      <td>39228</td>\n",
              "      <td>1431</td>\n",
              "      <td>764</td>\n",
              "      <td>4510</td>\n",
              "      <td>93</td>\n",
              "      <td>2346</td>\n",
              "    </tr>\n",
              "    <tr>\n",
              "      <th>437</th>\n",
              "      <td>2</td>\n",
              "      <td>3</td>\n",
              "      <td>14531</td>\n",
              "      <td>15488</td>\n",
              "      <td>30243</td>\n",
              "      <td>437</td>\n",
              "      <td>14841</td>\n",
              "      <td>1867</td>\n",
              "    </tr>\n",
              "    <tr>\n",
              "      <th>438</th>\n",
              "      <td>1</td>\n",
              "      <td>3</td>\n",
              "      <td>10290</td>\n",
              "      <td>1981</td>\n",
              "      <td>2232</td>\n",
              "      <td>1038</td>\n",
              "      <td>168</td>\n",
              "      <td>2125</td>\n",
              "    </tr>\n",
              "    <tr>\n",
              "      <th>439</th>\n",
              "      <td>1</td>\n",
              "      <td>3</td>\n",
              "      <td>2787</td>\n",
              "      <td>1698</td>\n",
              "      <td>2510</td>\n",
              "      <td>65</td>\n",
              "      <td>477</td>\n",
              "      <td>52</td>\n",
              "    </tr>\n",
              "  </tbody>\n",
              "</table>\n",
              "<p>440 rows × 8 columns</p>\n",
              "</div>\n",
              "      <button class=\"colab-df-convert\" onclick=\"convertToInteractive('df-6db41fda-12ce-488b-a136-81dff7f3def8')\"\n",
              "              title=\"Convert this dataframe to an interactive table.\"\n",
              "              style=\"display:none;\">\n",
              "\n",
              "  <svg xmlns=\"http://www.w3.org/2000/svg\" height=\"24px\"viewBox=\"0 0 24 24\"\n",
              "       width=\"24px\">\n",
              "    <path d=\"M0 0h24v24H0V0z\" fill=\"none\"/>\n",
              "    <path d=\"M18.56 5.44l.94 2.06.94-2.06 2.06-.94-2.06-.94-.94-2.06-.94 2.06-2.06.94zm-11 1L8.5 8.5l.94-2.06 2.06-.94-2.06-.94L8.5 2.5l-.94 2.06-2.06.94zm10 10l.94 2.06.94-2.06 2.06-.94-2.06-.94-.94-2.06-.94 2.06-2.06.94z\"/><path d=\"M17.41 7.96l-1.37-1.37c-.4-.4-.92-.59-1.43-.59-.52 0-1.04.2-1.43.59L10.3 9.45l-7.72 7.72c-.78.78-.78 2.05 0 2.83L4 21.41c.39.39.9.59 1.41.59.51 0 1.02-.2 1.41-.59l7.78-7.78 2.81-2.81c.8-.78.8-2.07 0-2.86zM5.41 20L4 18.59l7.72-7.72 1.47 1.35L5.41 20z\"/>\n",
              "  </svg>\n",
              "      </button>\n",
              "\n",
              "\n",
              "\n",
              "    <div id=\"df-3d251805-220c-4b2e-a7bf-e2ac3d81c6f4\">\n",
              "      <button class=\"colab-df-quickchart\" onclick=\"quickchart('df-3d251805-220c-4b2e-a7bf-e2ac3d81c6f4')\"\n",
              "              title=\"Suggest charts.\"\n",
              "              style=\"display:none;\">\n",
              "\n",
              "<svg xmlns=\"http://www.w3.org/2000/svg\" height=\"24px\"viewBox=\"0 0 24 24\"\n",
              "     width=\"24px\">\n",
              "    <g>\n",
              "        <path d=\"M19 3H5c-1.1 0-2 .9-2 2v14c0 1.1.9 2 2 2h14c1.1 0 2-.9 2-2V5c0-1.1-.9-2-2-2zM9 17H7v-7h2v7zm4 0h-2V7h2v10zm4 0h-2v-4h2v4z\"/>\n",
              "    </g>\n",
              "</svg>\n",
              "      </button>\n",
              "    </div>\n",
              "\n",
              "<style>\n",
              "  .colab-df-quickchart {\n",
              "    background-color: #E8F0FE;\n",
              "    border: none;\n",
              "    border-radius: 50%;\n",
              "    cursor: pointer;\n",
              "    display: none;\n",
              "    fill: #1967D2;\n",
              "    height: 32px;\n",
              "    padding: 0 0 0 0;\n",
              "    width: 32px;\n",
              "  }\n",
              "\n",
              "  .colab-df-quickchart:hover {\n",
              "    background-color: #E2EBFA;\n",
              "    box-shadow: 0px 1px 2px rgba(60, 64, 67, 0.3), 0px 1px 3px 1px rgba(60, 64, 67, 0.15);\n",
              "    fill: #174EA6;\n",
              "  }\n",
              "\n",
              "  [theme=dark] .colab-df-quickchart {\n",
              "    background-color: #3B4455;\n",
              "    fill: #D2E3FC;\n",
              "  }\n",
              "\n",
              "  [theme=dark] .colab-df-quickchart:hover {\n",
              "    background-color: #434B5C;\n",
              "    box-shadow: 0px 1px 3px 1px rgba(0, 0, 0, 0.15);\n",
              "    filter: drop-shadow(0px 1px 2px rgba(0, 0, 0, 0.3));\n",
              "    fill: #FFFFFF;\n",
              "  }\n",
              "</style>\n",
              "\n",
              "    <script>\n",
              "      async function quickchart(key) {\n",
              "        const containerElement = document.querySelector('#' + key);\n",
              "        const charts = await google.colab.kernel.invokeFunction(\n",
              "            'suggestCharts', [key], {});\n",
              "      }\n",
              "    </script>\n",
              "\n",
              "      <script>\n",
              "\n",
              "function displayQuickchartButton(domScope) {\n",
              "  let quickchartButtonEl =\n",
              "    domScope.querySelector('#df-3d251805-220c-4b2e-a7bf-e2ac3d81c6f4 button.colab-df-quickchart');\n",
              "  quickchartButtonEl.style.display =\n",
              "    google.colab.kernel.accessAllowed ? 'block' : 'none';\n",
              "}\n",
              "\n",
              "        displayQuickchartButton(document);\n",
              "      </script>\n",
              "      <style>\n",
              "    .colab-df-container {\n",
              "      display:flex;\n",
              "      flex-wrap:wrap;\n",
              "      gap: 12px;\n",
              "    }\n",
              "\n",
              "    .colab-df-convert {\n",
              "      background-color: #E8F0FE;\n",
              "      border: none;\n",
              "      border-radius: 50%;\n",
              "      cursor: pointer;\n",
              "      display: none;\n",
              "      fill: #1967D2;\n",
              "      height: 32px;\n",
              "      padding: 0 0 0 0;\n",
              "      width: 32px;\n",
              "    }\n",
              "\n",
              "    .colab-df-convert:hover {\n",
              "      background-color: #E2EBFA;\n",
              "      box-shadow: 0px 1px 2px rgba(60, 64, 67, 0.3), 0px 1px 3px 1px rgba(60, 64, 67, 0.15);\n",
              "      fill: #174EA6;\n",
              "    }\n",
              "\n",
              "    [theme=dark] .colab-df-convert {\n",
              "      background-color: #3B4455;\n",
              "      fill: #D2E3FC;\n",
              "    }\n",
              "\n",
              "    [theme=dark] .colab-df-convert:hover {\n",
              "      background-color: #434B5C;\n",
              "      box-shadow: 0px 1px 3px 1px rgba(0, 0, 0, 0.15);\n",
              "      filter: drop-shadow(0px 1px 2px rgba(0, 0, 0, 0.3));\n",
              "      fill: #FFFFFF;\n",
              "    }\n",
              "  </style>\n",
              "\n",
              "      <script>\n",
              "        const buttonEl =\n",
              "          document.querySelector('#df-6db41fda-12ce-488b-a136-81dff7f3def8 button.colab-df-convert');\n",
              "        buttonEl.style.display =\n",
              "          google.colab.kernel.accessAllowed ? 'block' : 'none';\n",
              "\n",
              "        async function convertToInteractive(key) {\n",
              "          const element = document.querySelector('#df-6db41fda-12ce-488b-a136-81dff7f3def8');\n",
              "          const dataTable =\n",
              "            await google.colab.kernel.invokeFunction('convertToInteractive',\n",
              "                                                     [key], {});\n",
              "          if (!dataTable) return;\n",
              "\n",
              "          const docLinkHtml = 'Like what you see? Visit the ' +\n",
              "            '<a target=\"_blank\" href=https://colab.research.google.com/notebooks/data_table.ipynb>data table notebook</a>'\n",
              "            + ' to learn more about interactive tables.';\n",
              "          element.innerHTML = '';\n",
              "          dataTable['output_type'] = 'display_data';\n",
              "          await google.colab.output.renderOutput(dataTable, element);\n",
              "          const docLink = document.createElement('div');\n",
              "          docLink.innerHTML = docLinkHtml;\n",
              "          element.appendChild(docLink);\n",
              "        }\n",
              "      </script>\n",
              "    </div>\n",
              "  </div>\n"
            ]
          },
          "metadata": {}
        }
      ]
    },
    {
      "cell_type": "markdown",
      "source": [
        "Channel and Region are categorical variables, so these feature are not suitable for PCA. We will therefore remove them"
      ],
      "metadata": {
        "id": "v_sAeRXRkXfy"
      }
    },
    {
      "cell_type": "code",
      "source": [
        "dataset = dataset.drop(['Channel', 'Region'], axis=1)"
      ],
      "metadata": {
        "id": "VCopsrASjpZE"
      },
      "execution_count": 115,
      "outputs": []
    },
    {
      "cell_type": "markdown",
      "source": [
        "We have a total of 440 data samples, and 6 features"
      ],
      "metadata": {
        "id": "ptJxXlEFjS1H"
      }
    },
    {
      "cell_type": "code",
      "source": [
        "print(dataset.shape)\n",
        "n_samples = dataset.shape[0]\n",
        "n_features = dataset.shape[1]"
      ],
      "metadata": {
        "colab": {
          "base_uri": "https://localhost:8080/"
        },
        "id": "ZzQsDeOuXDtl",
        "outputId": "b4437d91-9642-4aae-fc71-079b14be9634"
      },
      "execution_count": 116,
      "outputs": [
        {
          "output_type": "stream",
          "name": "stdout",
          "text": [
            "(440, 6)\n"
          ]
        }
      ]
    },
    {
      "cell_type": "code",
      "source": [
        "# Convert the dataset into a numpy matrix\n",
        "X = dataset.to_numpy()\n",
        "display(X)"
      ],
      "metadata": {
        "colab": {
          "base_uri": "https://localhost:8080/",
          "height": 143
        },
        "id": "O-GhNAnrN70u",
        "outputId": "ccb68b71-e7af-4c43-cfe5-e93fda4d5fbc"
      },
      "execution_count": 117,
      "outputs": [
        {
          "output_type": "display_data",
          "data": {
            "text/plain": [
              "array([[12669,  9656,  7561,   214,  2674,  1338],\n",
              "       [ 7057,  9810,  9568,  1762,  3293,  1776],\n",
              "       [ 6353,  8808,  7684,  2405,  3516,  7844],\n",
              "       ...,\n",
              "       [14531, 15488, 30243,   437, 14841,  1867],\n",
              "       [10290,  1981,  2232,  1038,   168,  2125],\n",
              "       [ 2787,  1698,  2510,    65,   477,    52]])"
            ]
          },
          "metadata": {}
        }
      ]
    },
    {
      "cell_type": "markdown",
      "source": [
        "### Standardizing dataset values\n",
        "We can standardize features by removing the mean and scaling to unit variance, so all features are treated equally."
      ],
      "metadata": {
        "id": "joabQNDYNC8C"
      }
    },
    {
      "cell_type": "code",
      "source": [
        "def mean(x):\n",
        "    return sum(x)/len(x)\n",
        "\n",
        "def std(x):\n",
        "    return (sum((i - mean(x))**2 for i in x)/len(x))**0.5\n",
        "\n",
        "dataset_standardized = ( X - mean(X) )  /  std(X)\n",
        "display(dataset_standardized)"
      ],
      "metadata": {
        "colab": {
          "base_uri": "https://localhost:8080/",
          "height": 251
        },
        "id": "NETezHxaNPHA",
        "outputId": "5dbd2199-39af-4a12-d51f-e0c9735599f8"
      },
      "execution_count": 118,
      "outputs": [
        {
          "output_type": "display_data",
          "data": {
            "text/plain": [
              "array([[ 0.05293319,  0.52356777, -0.04111489, -0.58936716, -0.04356873,\n",
              "        -0.06633906],\n",
              "       [-0.39130197,  0.54445767,  0.17031835, -0.27013618,  0.08640684,\n",
              "         0.08915105],\n",
              "       [-0.44702926,  0.40853771, -0.0281571 , -0.13753572,  0.13323164,\n",
              "         2.24329255],\n",
              "       ...,\n",
              "       [ 0.20032554,  1.31467078,  2.34838631, -0.54337975,  2.51121768,\n",
              "         0.12145607],\n",
              "       [-0.13538389, -0.51753572, -0.60251388, -0.41944059, -0.56977032,\n",
              "         0.21304614],\n",
              "       [-0.72930698, -0.5559243 , -0.57322717, -0.62009417, -0.50488752,\n",
              "        -0.52286938]])"
            ]
          },
          "metadata": {}
        }
      ]
    },
    {
      "cell_type": "markdown",
      "source": [
        "### Covariance matrix\n",
        "\n",
        "The covariance matrix shows the relationships between variables in a dataset by measuring how two variables vary together. It is a square matrix where each element represents the covariance between two variables.\n",
        "\n",
        "Let's assume we have a dataset with $n$ observations and $m$ variables. The covariance matrix, denoted as $\\mathbf{C}$, is an $m \\times m$ matrix, where the $(i,j)$th element represents the covariance between variables $X_i$ and $X_j$:\n",
        "\n",
        "$$\n",
        "\\mathbf{C} = \\begin{bmatrix}\n",
        "\\text{cov}(X_1, X_1) & \\text{cov}(X_1, X_2) & \\dots & \\text{cov}(X_1, X_m) \\\\\n",
        "\\text{cov}(X_2, X_1) & \\text{cov}(X_2, X_2) & \\dots & \\text{cov}(X_2, X_m) \\\\\n",
        "\\vdots & \\vdots & \\ddots & \\vdots \\\\\n",
        "\\text{cov}(X_m, X_1) & \\text{cov}(X_m, X_2) & \\dots & \\text{cov}(X_m, X_m) \\\\\n",
        "\\end{bmatrix}\n",
        "$$\n",
        "\n",
        "The diagonal elements of the covariance matrix ($C_{ii}$) represent the variance of each variable, and the off-diagonal elements ($C_{ij}$ where $i \\neq j$) represent the covariances between different pairs of variables.\n",
        "\n",
        "The covariance between two variables, $X_i$ and $X_j$, is given by the following formula:\n",
        "\n",
        "$$\n",
        "\\text{cov}(X_i, X_j) = \\frac{1}{n-1} \\sum_{k=1}^{n} (X_{ki} - \\bar{X}_i) \\cdot (X_{kj} - \\bar{X}_j)\n",
        "$$\n",
        "\n",
        "Where:\n",
        "- $X_{ki}$ and $X_{kj}$ are the values of variable $X_i$ and $X_j$ for the $k$th observation, respectively.\n",
        "- $\\bar{X}_i$ and $\\bar{X}_j$ are the means of variables $X_i$ and $X_j$ across all observations.\n",
        "\n",
        "The matrix can be computed using the following:\n",
        "$$\\mathbf{C} = \\frac{X^T \\cdot X}{n-1}$$"
      ],
      "metadata": {
        "id": "mu2DFvnUOU-r"
      }
    },
    {
      "cell_type": "code",
      "source": [
        "def covariance(x):\n",
        "    n = x.shape[0]\n",
        "    return (x.T @ x)/(n-1)\n",
        "\n",
        "cov_mat = covariance(dataset_standardized)"
      ],
      "metadata": {
        "id": "m9qhjzhtOmHb"
      },
      "execution_count": 119,
      "outputs": []
    },
    {
      "cell_type": "markdown",
      "source": [
        "### Finding eigenvectors and eigenvalues of the covariance matrix (eigendecomposition of covariance matrix)\n",
        "Eigendecomposition of the covariance matrix involves finding the eigenvectors and eigenvalues of the covariance matrix. By decomposing the covariance matrix, we can identify the principal components of the data, which are the directions of maximum variance. Eigenvectors are the directions along which the data varies the most, and eigenvalues indicate the variance along those directions.\n",
        "\n",
        "For example:\n",
        "\n",
        "<img src=\"https://programmathically.com/wp-content/uploads/2021/08/pca-2-dimensions.png\" width=50%>\n",
        "\n",
        "By computing the eigenvectors and eigenvalues of the covariance matrix, we can later reduce its dimensionality and simplify subsequent analyses"
      ],
      "metadata": {
        "id": "uVP4kLedT19x"
      }
    },
    {
      "cell_type": "code",
      "source": [
        "eig_vals, eig_vecs = np.linalg.eig(cov_mat)\n",
        "print('Eigenvalues \\n', eig_vals)\n",
        "print('Eigenvectors \\n', eig_vecs)"
      ],
      "metadata": {
        "colab": {
          "base_uri": "https://localhost:8080/"
        },
        "id": "4ayUm6U8UFhe",
        "outputId": "db82d7f1-852a-4f60-a01f-98c39b2fb670"
      },
      "execution_count": 120,
      "outputs": [
        {
          "output_type": "stream",
          "name": "stdout",
          "text": [
            "Eigenvalues \n",
            " [2.65099857 1.70646229 0.74175057 0.56501435 0.06311455 0.28632709]\n",
            "Eigenvectors \n",
            " [[-0.04288396 -0.52793212 -0.81225657 -0.23668559  0.03602539  0.04868278]\n",
            " [-0.54511832 -0.08316765  0.06038798 -0.08718991  0.03804019 -0.82657929]\n",
            " [-0.57925635  0.14608818 -0.10838401  0.10598745 -0.72174458  0.31499943]\n",
            " [-0.05118859 -0.61127764  0.17838615  0.76868266  0.01563715  0.02793224]\n",
            " [-0.5486402   0.25523316 -0.13619225  0.17174406  0.68589373  0.33964012]\n",
            " [-0.24868198 -0.50420705  0.52390412 -0.55206472  0.07513412  0.31470051]]\n"
          ]
        }
      ]
    },
    {
      "cell_type": "markdown",
      "source": [
        "### Sorting the eigenvectors and eigenvalues\n",
        "Here, we sort eigenvalues in descending order, from highest variance to lowest variance."
      ],
      "metadata": {
        "id": "DdjvEH6UWhdI"
      }
    },
    {
      "cell_type": "code",
      "source": [
        "eig_pairs = [] # Create an empty list to store the eigenvalue-eigenvector pairs\n",
        "\n",
        "# Loop through the eigenvalues and eigenvectors\n",
        "for i in range(len(eig_vals)):\n",
        "    eigenvalue_magnitude = np.abs(eig_vals[i])     # Get the absolute value of the eigenvalue\n",
        "    eigenvector = eig_vecs[i, :]     # Get the corresponding eigenvector\n",
        "    eig_pairs.append(  [eigenvalue_magnitude, eigenvector]  )\n",
        "\n",
        "eig_pairs.sort(reverse=True)\n",
        "\n",
        "for e in eig_pairs:\n",
        "  print(e)"
      ],
      "metadata": {
        "colab": {
          "base_uri": "https://localhost:8080/"
        },
        "id": "dzwkzxeiWeU5",
        "outputId": "82cffc5a-f88a-4805-b8b7-345b6b5bab1c"
      },
      "execution_count": 121,
      "outputs": [
        {
          "output_type": "stream",
          "name": "stdout",
          "text": [
            "[2.6509985696168084, array([-0.04288396, -0.52793212, -0.81225657, -0.23668559,  0.03602539,\n",
            "        0.04868278])]\n",
            "[1.7064622949947312, array([-0.54511832, -0.08316765,  0.06038798, -0.08718991,  0.03804019,\n",
            "       -0.82657929])]\n",
            "[0.7417505705584576, array([-0.57925635,  0.14608818, -0.10838401,  0.10598745, -0.72174458,\n",
            "        0.31499943])]\n",
            "[0.5650143486980587, array([-0.05118859, -0.61127764,  0.17838615,  0.76868266,  0.01563715,\n",
            "        0.02793224])]\n",
            "[0.2863270874218252, array([-0.24868198, -0.50420705,  0.52390412, -0.55206472,  0.07513412,\n",
            "        0.31470051])]\n",
            "[0.06311455467822623, array([-0.5486402 ,  0.25523316, -0.13619225,  0.17174406,  0.68589373,\n",
            "        0.33964012])]\n"
          ]
        }
      ]
    },
    {
      "cell_type": "code",
      "source": [
        "# Create separate lists for eigenvalues and eigenvectors\n",
        "eig_vals_sorted = []\n",
        "eig_vecs_sorted = []\n",
        "\n",
        "# Extract eigenvalues and eigenvectors from the sorted pairs\n",
        "for pair in eig_pairs:\n",
        "    eig_vals_sorted.append(pair[0])\n",
        "    eig_vecs_sorted.append(pair[1])\n",
        "\n",
        "# Convert the lists back to numpy arrays\n",
        "eig_vals_sorted = np.array(eig_vals_sorted)\n",
        "eig_vecs_sorted = np.array(eig_vecs_sorted)"
      ],
      "metadata": {
        "id": "mLBg5MCatuVn"
      },
      "execution_count": 122,
      "outputs": []
    },
    {
      "cell_type": "markdown",
      "source": [
        "### Explained variance\n",
        "We can graph out the explained variance of each principle component."
      ],
      "metadata": {
        "id": "ClEEIXsRWy0w"
      }
    },
    {
      "cell_type": "code",
      "source": [
        "eig_vals_total = sum(eig_vals)\n",
        "# convert the eigenvalues to percentage of the total sum of all eigenvalues\n",
        "explained_variance = eig_vals_sorted/eig_vals_total * 100\n",
        "\n",
        "print('Explained variance:',explained_variance)\n",
        "\n",
        "plt.bar(['PC1','PC2','PC3','PC4','PC5','PC6'],explained_variance)\n",
        "plt.ylabel('Explained variance');"
      ],
      "metadata": {
        "colab": {
          "base_uri": "https://localhost:8080/",
          "height": 448
        },
        "id": "rngoN40pWyev",
        "outputId": "3a4ede5e-7cc9-40fb-b73a-a45e488167ad"
      },
      "execution_count": 123,
      "outputs": [
        {
          "output_type": "stream",
          "name": "stdout",
          "text": [
            "Explained variance: [44.08289288 28.37639953 12.3344129   9.39550375  4.7612724   1.04951854]\n"
          ]
        },
        {
          "output_type": "display_data",
          "data": {
            "text/plain": [
              "<Figure size 640x480 with 1 Axes>"
            ],
            "image/png": "[encoded data removed]"
          },
          "metadata": {}
        }
      ]
    },
    {
      "cell_type": "markdown",
      "source": [
        "we now graph out the cumulative explained variance of the 8 principal components. From the graph, we can see that just 3 principal components accounts for 72% of the explained variance."
      ],
      "metadata": {
        "id": "lrF_ir0TZLtX"
      }
    },
    {
      "cell_type": "code",
      "source": [
        "cumulative_explained_variance = np.cumsum(explained_variance)\n",
        "print('Cumulative explained variance:',cumulative_explained_variance)\n",
        "\n",
        "plt.plot([1,2,3,4,5,6], cumulative_explained_variance, '-o')\n",
        "plt.xlabel('Number of components')\n",
        "plt.ylabel('Cumulative explained variance')"
      ],
      "metadata": {
        "colab": {
          "base_uri": "https://localhost:8080/",
          "height": 503
        },
        "id": "TDcN6drJYENK",
        "outputId": "3d46edd6-d88c-44b0-b01c-23c7e37ddf65"
      },
      "execution_count": 124,
      "outputs": [
        {
          "output_type": "stream",
          "name": "stdout",
          "text": [
            "Cumulative explained variance: [ 44.08289288  72.45929241  84.7937053   94.18920906  98.95048146\n",
            " 100.        ]\n"
          ]
        },
        {
          "output_type": "execute_result",
          "data": {
            "text/plain": [
              "Text(0, 0.5, 'Cumulative explained variance')"
            ]
          },
          "metadata": {},
          "execution_count": 124
        },
        {
          "output_type": "display_data",
          "data": {
            "text/plain": [
              "<Figure size 640x480 with 1 Axes>"
            ],
            "image/png": "[encoded data removed]"
          },
          "metadata": {}
        }
      ]
    },
    {
      "cell_type": "markdown",
      "source": [
        "### Dimension reduction\n",
        "we choose the top k eigenvectors where  k is the number of dimensions of the new feature subspace to reduce the dimension (number of features) in our dataset."
      ],
      "metadata": {
        "id": "8dFO3lLbZcPj"
      }
    },
    {
      "cell_type": "code",
      "source": [
        "# Select top k eigenvectors\n",
        "k = 2\n",
        "W = eig_vecs_sorted[:k, :] # Projection matrix\n",
        "\n",
        "print(W)"
      ],
      "metadata": {
        "colab": {
          "base_uri": "https://localhost:8080/"
        },
        "id": "ZacSWtbMZcwH",
        "outputId": "ddc2f509-2110-43d4-fdc3-eeac198e029b"
      },
      "execution_count": 125,
      "outputs": [
        {
          "output_type": "stream",
          "name": "stdout",
          "text": [
            "[[-0.04288396 -0.52793212 -0.81225657 -0.23668559  0.03602539  0.04868278]\n",
            " [-0.54511832 -0.08316765  0.06038798 -0.08718991  0.03804019 -0.82657929]]\n"
          ]
        }
      ]
    },
    {
      "cell_type": "markdown",
      "source": [
        "### Project the dataset\n",
        "With the transformation matrix, we can now transform the dataset using the projection matrix  W to obtain a k-dimensional feature subspace."
      ],
      "metadata": {
        "id": "QezhMsNgh8jv"
      }
    },
    {
      "cell_type": "code",
      "source": [
        "X_proj = dataset_standardized.dot(W.T)\n",
        "print(X_proj.shape)"
      ],
      "metadata": {
        "colab": {
          "base_uri": "https://localhost:8080/"
        },
        "id": "eOmm29F9hwyG",
        "outputId": "a442f19a-b489-4d46-d866-19fd225637be"
      },
      "execution_count": 126,
      "outputs": [
        {
          "output_type": "stream",
          "name": "stdout",
          "text": [
            "(440, 2)\n"
          ]
        }
      ]
    },
    {
      "cell_type": "markdown",
      "source": [
        "### Visualization of the projection"
      ],
      "metadata": {
        "id": "UZAGx8vydgNq"
      }
    },
    {
      "cell_type": "code",
      "source": [
        "plt.scatter(X_proj[:, 0], X_proj[:, 1])\n",
        "plt.xlabel('PC1'); plt.xticks([])\n",
        "plt.ylabel('PC2'); plt.yticks([])\n",
        "plt.title('2 components, captures {} of total variation'.format(cumulative_explained_variance[1]))"
      ],
      "metadata": {
        "colab": {
          "base_uri": "https://localhost:8080/",
          "height": 466
        },
        "id": "LpCsELvRZ8Aa",
        "outputId": "06bf41fc-62b6-4456-aa60-73086eeb75d7"
      },
      "execution_count": 127,
      "outputs": [
        {
          "output_type": "execute_result",
          "data": {
            "text/plain": [
              "Text(0.5, 1.0, '2 components, captures 72.45929240774494 of total variation')"
            ]
          },
          "metadata": {},
          "execution_count": 127
        },
        {
          "output_type": "display_data",
          "data": {
            "text/plain": [
              "<Figure size 640x480 with 1 Axes>"
            ],
            "image/png": "[encoded data removed]"
          },
          "metadata": {}
        }
      ]
    },
    {
      "cell_type": "markdown",
      "source": [
        "### Silhouette Score\n",
        "The silhouette score is a measure of how well-defined the clusters are in a clustering algorithm. It quantifies how similar an object is to its own cluster compared to other clusters. The silhouette score ranges from -1 to +1, where a higher value indicates better-defined clusters.\n",
        "\n",
        "$$ \\text{Silhouette Score} = \\frac{{\\sum_{i=1}^{N} (b_i - a_i)}}{{\\max(a_i, b_i)}}\n",
        "$$\n",
        "\n",
        "- $N$ is the number of data points,\n",
        "- $a_i$ is the average distance of data point $i$ to other points within the same cluster,\n",
        "- $b_i$ is the average distance of data point $i$ to the points in the nearest neighboring cluster.\n",
        "\n",
        " Higher scores indicate better clustering results, while negative scores imply that data points may have been assigned to the wrong clusters."
      ],
      "metadata": {
        "id": "okypfDlWmspw"
      }
    },
    {
      "cell_type": "code",
      "source": [
        "from sklearn.metrics import silhouette_score\n",
        "\n",
        "import numpy as np\n",
        "\n",
        "def euclidean_distance(point1, point2):\n",
        "    return np.sqrt(np.sum((point1 - point2)**2))\n",
        "\n",
        "def pairwise_distances(dataset):\n",
        "    num_points = len(dataset)\n",
        "    distances = np.zeros((num_points, num_points))\n",
        "    for i in range(num_points):\n",
        "        for j in range(i + 1, num_points):\n",
        "            distances[i, j] = euclidean_distance(dataset[i], dataset[j])\n",
        "            distances[j, i] = distances[i, j]\n",
        "    return distances\n",
        "\n",
        "def silhouette_score(dataset, cluster_labels):\n",
        "    distances = pairwise_distances(dataset)\n",
        "    num_points = len(dataset)\n",
        "    silhouette_scores = np.zeros(num_points)\n",
        "\n",
        "    for i in range(num_points):\n",
        "        a_i = np.mean([distances[i, j] for j in range(num_points) if cluster_labels[j] == cluster_labels[i]])\n",
        "\n",
        "        b_i = float('inf')\n",
        "        for cluster in set(cluster_labels):\n",
        "            if cluster != cluster_labels[i]:\n",
        "                b_i_temp = np.mean([distances[i, j] for j in range(num_points) if cluster_labels[j] == cluster])\n",
        "                b_i = min(b_i, b_i_temp)\n",
        "\n",
        "        silhouette_scores[i] = (b_i - a_i) / max(a_i, b_i) if max(a_i, b_i) != 0 else 0\n",
        "\n",
        "    return np.mean(silhouette_scores)"
      ],
      "metadata": {
        "id": "5A1ldcYVnEr1"
      },
      "execution_count": 128,
      "outputs": []
    },
    {
      "cell_type": "markdown",
      "source": [
        "### Comparison of clustering (before vs. after PCA)\n",
        "We will run K-means clustering on the dataset before and after the PCA pre-processing. We can see that the Silhouette Score increased after using PCA, so PCA has improved the result."
      ],
      "metadata": {
        "id": "FwaD3jnEd8sd"
      }
    },
    {
      "cell_type": "code",
      "source": [
        "from sklearn.cluster import KMeans\n",
        "kmeans = KMeans(n_clusters=3, random_state=42)\n",
        "cluster_labels = kmeans.fit_predict(dataset_standardized)\n",
        "\n",
        "# Get the cluster centers (centroids)\n",
        "cluster_centers = kmeans.cluster_centers_\n",
        "\n",
        "# Get the Silhouette Score\n",
        "silhouette_avg = silhouette_score(dataset_standardized, cluster_labels)\n",
        "print(\"Silhouette Score:\", silhouette_avg)"
      ],
      "metadata": {
        "colab": {
          "base_uri": "https://localhost:8080/"
        },
        "id": "oLQ6K922d-cL",
        "outputId": "63ff1df5-95bd-4d32-8fd0-e0e977a9d5b7"
      },
      "execution_count": 129,
      "outputs": [
        {
          "output_type": "stream",
          "name": "stderr",
          "text": [
            "/usr/local/lib/python3.10/dist-packages/sklearn/cluster/_kmeans.py:870: FutureWarning: The default value of `n_init` will change from 10 to 'auto' in 1.4. Set the value of `n_init` explicitly to suppress the warning\n",
            "  warnings.warn(\n"
          ]
        },
        {
          "output_type": "stream",
          "name": "stdout",
          "text": [
            "Silhouette Score: 0.5432017726264434\n"
          ]
        }
      ]
    },
    {
      "cell_type": "code",
      "source": [
        "k = 3\n",
        "W = eig_vecs_sorted[:k, :] # Projection matrix\n",
        "dataset_proj = dataset_standardized.dot(W.T)\n",
        "\n",
        "\n",
        "kmeans = KMeans(n_clusters=3, random_state=42)\n",
        "cluster_labels = kmeans.fit_predict(dataset_proj)\n",
        "\n",
        "# Get the cluster centers (centroids)\n",
        "cluster_centers = kmeans.cluster_centers_\n",
        "\n",
        "# Get the Silhouette Score\n",
        "silhouette_avg = silhouette_score(dataset_proj, cluster_labels)\n",
        "print(\"Silhouette Score:\", silhouette_avg)"
      ],
      "metadata": {
        "colab": {
          "base_uri": "https://localhost:8080/"
        },
        "id": "MgQrOvW7nBc0",
        "outputId": "43a2664c-86b9-4ad1-94a7-962720f441ab"
      },
      "execution_count": 130,
      "outputs": [
        {
          "output_type": "stream",
          "name": "stderr",
          "text": [
            "/usr/local/lib/python3.10/dist-packages/sklearn/cluster/_kmeans.py:870: FutureWarning: The default value of `n_init` will change from 10 to 'auto' in 1.4. Set the value of `n_init` explicitly to suppress the warning\n",
            "  warnings.warn(\n"
          ]
        },
        {
          "output_type": "stream",
          "name": "stdout",
          "text": [
            "Silhouette Score: 0.6210407161799368\n"
          ]
        }
      ]
    },
    {
      "cell_type": "markdown",
      "source": [
        "## References\n",
        "- https://bagheri365.github.io/blog/Principal-Component-Analysis-from-Scratch/\n",
        "- https://towardsdatascience.com/principal-component-analysis-pca-from-scratch-in-python-7f3e2a540c51\n",
        "- https://www.youtube.com/watch?v=FgakZw6K1QQ\n",
        "- https://www.kaggle.com/code/kashnitsky/topic-7-unsupervised-learning-pca-and-clustering\n",
        "- https://www.kaggle.com/code/kashnitsky/a7-demo-unsupervised-learning/notebook"
      ],
      "metadata": {
        "id": "ogrXJZAjIoi3"
      }
    }
  ]
}