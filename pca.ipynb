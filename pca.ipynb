{
  "nbformat": 4,
  "nbformat_minor": 0,
  "metadata": {
    "colab": {
      "provenance": [],
      "authorship_tag": "ABX9TyP6QIYnRjMKDqUZxQEjZwwZ",
      "include_colab_link": true
    },
    "kernelspec": {
      "name": "python3",
      "display_name": "Python 3"
    },
    "language_info": {
      "name": "python"
    }
  },
  "cells": [
    {
      "cell_type": "markdown",
      "metadata": {
        "id": "view-in-github",
        "colab_type": "text"
      },
      "source": [
        "<a href=\"https://colab.research.google.com/github/MLcmore2023/MLcmore2023/blob/main/pca.ipynb\" target=\"_parent\"><img src=\"https://colab.research.google.com/assets/colab-badge.svg\" alt=\"Open In Colab\"/></a>"
      ]
    },
    {
      "cell_type": "markdown",
      "source": [
        "# Principal Component Analysis (PCA)\n",
        "Principal Component Analysis is an unsupervised dimensionality reduction technique used to transform a high-dimensional dataset into a lower-dimensional space while retaining the most important patterns and variations in the data. The algorithm identifies orthogonal axes, known as principal components, that capture the maximum variance in the data. These components are ordered by their significance, with the first component explaining the most variance and subsequent components explaining the remaining variance in decreasing order. By projecting the data onto the selected principal components, PCA effectively reduces its dimensionality (number of features), making it easier to visualize and analyze while preserving essential information.\n",
        "\n",
        "\n",
        "\n",
        "\n"
      ],
      "metadata": {
        "id": "o2xIeiZ3INDa"
      }
    },
    {
      "cell_type": "code",
      "execution_count": null,
      "metadata": {
        "id": "7pNSjvGfILz7"
      },
      "outputs": [],
      "source": []
    },
    {
      "cell_type": "markdown",
      "source": [
        "## References\n",
        "- https://bagheri365.github.io/blog/Principal-Component-Analysis-from-Scratch/\n",
        "- https://towardsdatascience.com/principal-component-analysis-pca-from-scratch-in-python-7f3e2a540c51\n",
        "- https://www.youtube.com/watch?v=FgakZw6K1QQ\n",
        "- https://www.kaggle.com/code/kashnitsky/topic-7-unsupervised-learning-pca-and-clustering"
      ],
      "metadata": {
        "id": "ogrXJZAjIoi3"
      }
    }
  ]
}