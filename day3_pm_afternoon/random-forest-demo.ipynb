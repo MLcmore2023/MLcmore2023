{
  "metadata": {
    "kernelspec": {
      "language": "python",
      "display_name": "Python 3",
      "name": "python3"
    },
    "language_info": {
      "name": "python",
      "version": "3.10.10",
      "mimetype": "text/x-python",
      "codemirror_mode": {
        "name": "ipython",
        "version": 3
      },
      "pygments_lexer": "ipython3",
      "nbconvert_exporter": "python",
      "file_extension": ".py"
    },
    "colab": {
      "provenance": [],
      "include_colab_link": true
    }
  },
  "nbformat_minor": 0,
  "nbformat": 4,
  "cells": [
    {
      "cell_type": "markdown",
      "metadata": {
        "id": "view-in-github",
        "colab_type": "text"
      },
      "source": [
        "<a href=\"https://colab.research.google.com/github/MLcmore2023/MLcmore2023/blob/main/day3_pm_afternoon/random-forest-demo.ipynb\" target=\"_parent\"><img src=\"https://colab.research.google.com/assets/colab-badge.svg\" alt=\"Open In Colab\"/></a>"
      ]
    },
    {
      "cell_type": "markdown",
      "source": [
        "# Random Forest\n",
        "Random forest is an ensemble machine learning algorithm that combines multiple decision trees to make accurate predictions or classifications. It works by training numerous decision trees on different subsets of the dataset using bootstrapping (random sampling with replacement) and feature randomization. These trees collectively form a \"forest,\" and their predictions are averaged or voted upon to provide a more robust and accurate outcome, reducing overfitting and improving generalization to new data. This approach enhances predictive performance by leveraging the diversity and collective intelligence of the individual trees.\n",
        "\n",
        "<img src=\"https://www.tibco.com/sites/tibco/files/media_entity/2021-05/random-forest-diagram.svg\">\n"
      ],
      "metadata": {
        "id": "3Kt3W-oIPrK2"
      }
    },
    {
      "cell_type": "code",
      "source": [
        "import random\n",
        "import pandas as pd\n",
        "import numpy as np"
      ],
      "metadata": {
        "_uuid": "16421085-e0bb-4cbf-be3f-37de51a80142",
        "_cell_guid": "2ebd377c-8af0-4866-974c-37f9062f38ff",
        "jupyter": {
          "outputs_hidden": false
        },
        "execution": {
          "iopub.status.busy": "2023-06-09T13:53:39.110085Z",
          "iopub.execute_input": "2023-06-09T13:53:39.111314Z",
          "iopub.status.idle": "2023-06-09T13:53:39.150165Z",
          "shell.execute_reply.started": "2023-06-09T13:53:39.111256Z",
          "shell.execute_reply": "2023-06-09T13:53:39.149088Z"
        },
        "trusted": true,
        "id": "vuZmgedKPqI9"
      },
      "execution_count": null,
      "outputs": []
    },
    {
      "cell_type": "code",
      "source": [
        "df = pd.read_csv('/kaggle/input/titanic/train.csv')"
      ],
      "metadata": {
        "_uuid": "9b91f347-fb17-4f84-988a-edefd30dab3b",
        "_cell_guid": "b38dd69c-39e0-4dac-98a7-367a386bf9d7",
        "jupyter": {
          "outputs_hidden": false
        },
        "execution": {
          "iopub.status.busy": "2023-06-09T13:53:39.152941Z",
          "iopub.execute_input": "2023-06-09T13:53:39.153830Z",
          "iopub.status.idle": "2023-06-09T13:53:39.185182Z",
          "shell.execute_reply.started": "2023-06-09T13:53:39.153782Z",
          "shell.execute_reply": "2023-06-09T13:53:39.184020Z"
        },
        "trusted": true,
        "id": "Lg0lEItfPqJD"
      },
      "execution_count": null,
      "outputs": []
    },
    {
      "cell_type": "code",
      "source": [
        "df.loc[df['Age'].isnull(),'Age'] = np.round(df['Age'].mean())\n",
        "df.loc[df['Embarked'].isnull(),'Embarked'] = df['Embarked'].value_counts().index[0]"
      ],
      "metadata": {
        "_uuid": "95dc270f-544b-4672-822c-982fd5f35ac5",
        "_cell_guid": "f6f0c585-5039-4307-8689-d587ff657e88",
        "jupyter": {
          "outputs_hidden": false
        },
        "execution": {
          "iopub.status.busy": "2023-06-09T13:53:39.187048Z",
          "iopub.execute_input": "2023-06-09T13:53:39.189463Z",
          "iopub.status.idle": "2023-06-09T13:53:39.210775Z",
          "shell.execute_reply.started": "2023-06-09T13:53:39.189404Z",
          "shell.execute_reply": "2023-06-09T13:53:39.209088Z"
        },
        "trusted": true,
        "id": "_OxM98eJPqJE"
      },
      "execution_count": null,
      "outputs": []
    },
    {
      "cell_type": "code",
      "source": [
        "features = ['Pclass','Sex','Age','SibSp','Parch', 'Fare', 'Embarked']\n",
        "nb_train = int(np.floor(0.9 * len(df)))\n",
        "df = df.sample(frac=1, random_state=217)\n",
        "X_train = df[features][:nb_train]\n",
        "y_train = df['Survived'][:nb_train].values\n",
        "X_test = df[features][nb_train:]\n",
        "y_test = df['Survived'][nb_train:].values"
      ],
      "metadata": {
        "_uuid": "a06a62e0-9255-49c4-ad00-d89948530d00",
        "_cell_guid": "5d525d52-7530-4415-abf1-0eeba1bdcd06",
        "jupyter": {
          "outputs_hidden": false
        },
        "execution": {
          "iopub.status.busy": "2023-06-09T13:53:39.214252Z",
          "iopub.execute_input": "2023-06-09T13:53:39.214733Z",
          "iopub.status.idle": "2023-06-09T13:53:39.236244Z",
          "shell.execute_reply.started": "2023-06-09T13:53:39.214697Z",
          "shell.execute_reply": "2023-06-09T13:53:39.234656Z"
        },
        "trusted": true,
        "id": "yHgTMnmXPqJF"
      },
      "execution_count": null,
      "outputs": []
    },
    {
      "cell_type": "code",
      "source": [
        "def entropy(p):\n",
        "    \"\"\"\n",
        "    Calculate the entropy for a given probability.\n",
        "\n",
        "    Parameters:\n",
        "    - p (float): Probability\n",
        "\n",
        "    Returns:\n",
        "    - float: Entropy value\n",
        "    \"\"\"\n",
        "    if p == 0:\n",
        "        return 0\n",
        "    elif p == 1:\n",
        "        return 0\n",
        "    else:\n",
        "        return - (p * np.log2(p) + (1 - p) * np.log2(1-p))\n",
        "\n",
        "def information_gain(left_child, right_child):\n",
        "    \"\"\"\n",
        "    Calculate the information gain based on the left and right child nodes.\n",
        "\n",
        "    Parameters:\n",
        "    - left_child (list): Labels of the left child node\n",
        "    - right_child (list): Labels of the right child node\n",
        "\n",
        "    Returns:\n",
        "    - float: Information gain value\n",
        "    \"\"\"\n",
        "\n",
        "    parent = left_child + right_child\n",
        "    p_parent = parent.count(1) / len(parent) if len(parent) > 0 else 0\n",
        "    p_left = left_child.count(1) / len(left_child) if len(left_child) > 0 else 0\n",
        "    p_right = right_child.count(1) / len(right_child) if len(right_child) > 0 else 0\n",
        "    IG_p = entropy(p_parent)\n",
        "    IG_l = entropy(p_left)\n",
        "    IG_r = entropy(p_right)\n",
        "    return IG_p - len(left_child) / len(parent) * IG_l - len(right_child) / len(parent) * IG_r"
      ],
      "metadata": {
        "_uuid": "a1668d09-1d42-4b8f-95b3-032fb6acdfba",
        "_cell_guid": "d8879d0c-920e-49c5-93da-2194e869e3af",
        "jupyter": {
          "outputs_hidden": false
        },
        "execution": {
          "iopub.status.busy": "2023-06-09T13:53:39.239379Z",
          "iopub.execute_input": "2023-06-09T13:53:39.240640Z",
          "iopub.status.idle": "2023-06-09T13:53:39.254901Z",
          "shell.execute_reply.started": "2023-06-09T13:53:39.240582Z",
          "shell.execute_reply": "2023-06-09T13:53:39.253375Z"
        },
        "trusted": true,
        "id": "b5YvwH5lPqJG"
      },
      "execution_count": null,
      "outputs": []
    },
    {
      "cell_type": "code",
      "source": [
        "def draw_bootstrap(X_train, y_train):\n",
        "    \"\"\"\n",
        "    Create a bootstrap sample from the training data.\n",
        "\n",
        "    Parameters:\n",
        "    - X_train (DataFrame): Features of the training data\n",
        "    - y_train (array): Labels of the training data\n",
        "\n",
        "    Returns:\n",
        "    - tuple: Bootstrap sample of features and labels, Out-of-Bag sample of features and labels\n",
        "    \"\"\"\n",
        "\n",
        "    bootstrap_indices = list(np.random.choice(range(len(X_train)), len(X_train), replace = True))\n",
        "    oob_indices = [i for i in range(len(X_train)) if i not in bootstrap_indices]\n",
        "    X_bootstrap = X_train.iloc[bootstrap_indices].values\n",
        "    y_bootstrap = y_train[bootstrap_indices]\n",
        "    X_oob = X_train.iloc[oob_indices].values\n",
        "    y_oob = y_train[oob_indices]\n",
        "    return X_bootstrap, y_bootstrap, X_oob, y_oob\n",
        "\n",
        "def oob_score(tree, X_test, y_test):\n",
        "    \"\"\"\n",
        "    Calculate the out-of-bag (OOB) score for a given decision tree.\n",
        "\n",
        "    Parameters:\n",
        "    - tree (dict): Decision tree\n",
        "    - X_test (DataFrame): Features of the test data\n",
        "    - y_test (array): Labels of the test data\n",
        "\n",
        "    Returns:\n",
        "    - float: OOB score\n",
        "    \"\"\"\n",
        "    mis_label = 0\n",
        "    for i in range(len(X_test)):\n",
        "        pred = predict_tree(tree, X_test[i])\n",
        "        if pred != y_test[i]:\n",
        "            mis_label += 1\n",
        "    return mis_label / len(X_test)"
      ],
      "metadata": {
        "_uuid": "21ffff47-0af6-453e-b123-dda24e03f472",
        "_cell_guid": "a43bc40d-bb82-4efb-b9ab-bd36df8088d8",
        "jupyter": {
          "outputs_hidden": false
        },
        "execution": {
          "iopub.status.busy": "2023-06-09T13:53:39.257344Z",
          "iopub.execute_input": "2023-06-09T13:53:39.257844Z",
          "iopub.status.idle": "2023-06-09T13:53:39.268864Z",
          "shell.execute_reply.started": "2023-06-09T13:53:39.257807Z",
          "shell.execute_reply": "2023-06-09T13:53:39.267466Z"
        },
        "trusted": true,
        "id": "jlPTlw5rPqJH"
      },
      "execution_count": null,
      "outputs": []
    },
    {
      "cell_type": "code",
      "source": [
        "def find_split_point(X_bootstrap, y_bootstrap, max_features):\n",
        "    \"\"\"\n",
        "    Find the best split point for a given bootstrap sample.\n",
        "\n",
        "    Parameters:\n",
        "    - X_bootstrap (array): Features of the bootstrap sample\n",
        "    - y_bootstrap (array): Labels of the bootstrap sample\n",
        "    - max_features (int): Maximum number of features to consider\n",
        "\n",
        "    Returns:\n",
        "    - dict: Split node information\n",
        "    \"\"\"\n",
        "    feature_ls = list()\n",
        "    num_features = len(X_bootstrap[0])\n",
        "\n",
        "    while len(feature_ls) <= max_features:\n",
        "        feature_idx = random.sample(range(num_features), 1)\n",
        "        if feature_idx not in feature_ls:\n",
        "            feature_ls.extend(feature_idx)\n",
        "\n",
        "    best_info_gain = -999\n",
        "    node = None\n",
        "    for feature_idx in feature_ls:\n",
        "        for split_point in X_bootstrap[:,feature_idx]:\n",
        "            left_child = {'X_bootstrap': [], 'y_bootstrap': []}\n",
        "            right_child = {'X_bootstrap': [], 'y_bootstrap': []}\n",
        "\n",
        "            # split children for continuous variables\n",
        "            if type(split_point) in [int, float]:\n",
        "                for i, value in enumerate(X_bootstrap[:,feature_idx]):\n",
        "                    if value <= split_point:\n",
        "                        left_child['X_bootstrap'].append(X_bootstrap[i])\n",
        "                        left_child['y_bootstrap'].append(y_bootstrap[i])\n",
        "                    else:\n",
        "                        right_child['X_bootstrap'].append(X_bootstrap[i])\n",
        "                        right_child['y_bootstrap'].append(y_bootstrap[i])\n",
        "            # split children for categoric variables\n",
        "            else:\n",
        "                for i, value in enumerate(X_bootstrap[:,feature_idx]):\n",
        "                    if value == split_point:\n",
        "                        left_child['X_bootstrap'].append(X_bootstrap[i])\n",
        "                        left_child['y_bootstrap'].append(y_bootstrap[i])\n",
        "                    else:\n",
        "                        right_child['X_bootstrap'].append(X_bootstrap[i])\n",
        "                        right_child['y_bootstrap'].append(y_bootstrap[i])\n",
        "\n",
        "            split_info_gain = information_gain(left_child['y_bootstrap'], right_child['y_bootstrap'])\n",
        "            if split_info_gain > best_info_gain:\n",
        "                best_info_gain = split_info_gain\n",
        "                left_child['X_bootstrap'] = np.array(left_child['X_bootstrap'])\n",
        "                right_child['X_bootstrap'] = np.array(right_child['X_bootstrap'])\n",
        "                node = {'information_gain': split_info_gain,\n",
        "                        'left_child': left_child,\n",
        "                        'right_child': right_child,\n",
        "                        'split_point': split_point,\n",
        "                        'feature_idx': feature_idx}\n",
        "\n",
        "\n",
        "    return node"
      ],
      "metadata": {
        "_uuid": "58b450d5-c7a2-4112-8d37-0b5c51385667",
        "_cell_guid": "49da004b-24e1-4ad9-bdb7-fb62e5c3009a",
        "jupyter": {
          "outputs_hidden": false
        },
        "execution": {
          "iopub.status.busy": "2023-06-09T13:53:39.270994Z",
          "iopub.execute_input": "2023-06-09T13:53:39.272029Z",
          "iopub.status.idle": "2023-06-09T13:53:39.290317Z",
          "shell.execute_reply.started": "2023-06-09T13:53:39.271972Z",
          "shell.execute_reply": "2023-06-09T13:53:39.288924Z"
        },
        "trusted": true,
        "id": "fZxe12eNPqJI"
      },
      "execution_count": null,
      "outputs": []
    },
    {
      "cell_type": "code",
      "source": [
        "def terminal_node(node):\n",
        "    \"\"\"\n",
        "    Create a terminal node for the decision tree.\n",
        "\n",
        "    Parameters:\n",
        "    - node (dict): Node information\n",
        "\n",
        "    Returns:\n",
        "    - int: Predicted label for the terminal node\n",
        "    \"\"\"\n",
        "    y_bootstrap = node['y_bootstrap']\n",
        "    pred = max(y_bootstrap, key = y_bootstrap.count)\n",
        "    return pred\n",
        "\n",
        "\n",
        "def split_node(node, max_features, min_samples_split, max_depth, depth):\n",
        "    \"\"\"\n",
        "    Split a node into left and right child nodes.\n",
        "\n",
        "    Parameters:\n",
        "    - node (dict): Node to split\n",
        "    - max_features (int): Maximum number of features to consider\n",
        "    - min_samples_split (int): Minimum number of samples required to split a node\n",
        "    - max_depth (int): Maximum depth of the decision tree\n",
        "    - depth (int): Current depth of the node\n",
        "\n",
        "    Returns:\n",
        "    - None\n",
        "    \"\"\"\n",
        "\n",
        "    left_child = node['left_child']\n",
        "    right_child = node['right_child']\n",
        "\n",
        "    del(node['left_child'])\n",
        "    del(node['right_child'])\n",
        "\n",
        "    if len(left_child['y_bootstrap']) == 0 or len(right_child['y_bootstrap']) == 0:\n",
        "        empty_child = {'y_bootstrap': left_child['y_bootstrap'] + right_child['y_bootstrap']}\n",
        "        node['left_split'] = terminal_node(empty_child)\n",
        "        node['right_split'] = terminal_node(empty_child)\n",
        "        return\n",
        "\n",
        "    if depth >= max_depth:\n",
        "        node['left_split'] = terminal_node(left_child)\n",
        "        node['right_split'] = terminal_node(right_child)\n",
        "        return node\n",
        "\n",
        "    if len(left_child['X_bootstrap']) <= min_samples_split:\n",
        "        node['left_split'] = node['right_split'] = terminal_node(left_child)\n",
        "    else:\n",
        "        node['left_split'] = find_split_point(left_child['X_bootstrap'], left_child['y_bootstrap'], max_features)\n",
        "        split_node(node['left_split'], max_depth, min_samples_split, max_depth, depth + 1)\n",
        "    if len(right_child['X_bootstrap']) <= min_samples_split:\n",
        "        node['right_split'] = node['left_split'] = terminal_node(right_child)\n",
        "    else:\n",
        "        node['right_split'] = find_split_point(right_child['X_bootstrap'], right_child['y_bootstrap'], max_features)\n",
        "        split_node(node['right_split'], max_features, min_samples_split, max_depth, depth + 1)"
      ],
      "metadata": {
        "_uuid": "04c4e5b6-8243-41e9-ac31-695786a80d69",
        "_cell_guid": "1c15bf77-9ee8-4746-8afe-6de22f340993",
        "jupyter": {
          "outputs_hidden": false
        },
        "execution": {
          "iopub.status.busy": "2023-06-09T13:53:39.292517Z",
          "iopub.execute_input": "2023-06-09T13:53:39.293953Z",
          "iopub.status.idle": "2023-06-09T13:53:39.318895Z",
          "shell.execute_reply.started": "2023-06-09T13:53:39.293915Z",
          "shell.execute_reply": "2023-06-09T13:53:39.316100Z"
        },
        "trusted": true,
        "id": "Hb7cvIJaPqJK"
      },
      "execution_count": null,
      "outputs": []
    },
    {
      "cell_type": "code",
      "source": [
        "def build_tree(X_bootstrap, y_bootstrap, max_depth, min_samples_split, max_features):\n",
        "    \"\"\"\n",
        "    Build a decision tree using the bootstrap sample.\n",
        "\n",
        "    Parameters:\n",
        "    - X_bootstrap (array): Features of the bootstrap sample\n",
        "    - y_bootstrap (array): Labels of the bootstrap sample\n",
        "    - max_depth (int): Maximum depth of the decision tree\n",
        "    - min_samples_split (int): Minimum number of samples required to split a node\n",
        "    - max_features (int): Maximum number of features to consider\n",
        "\n",
        "    Returns:\n",
        "    - dict: Root node of the decision tree\n",
        "    \"\"\"\n",
        "\n",
        "    root_node = find_split_point(X_bootstrap, y_bootstrap, max_features)\n",
        "    split_node(root_node, max_features, min_samples_split, max_depth, 1)\n",
        "    return root_node\n",
        "\n",
        "def random_forest(X_train, y_train, n_estimators, max_features, max_depth, min_samples_split):\n",
        "    \"\"\"\n",
        "    Build a random forest model.\n",
        "\n",
        "    Parameters:\n",
        "    - X_train (DataFrame): Features of the training data\n",
        "    - y_train (array): Labels of the training data\n",
        "    - n_estimators (int): Number of decision trees in the random forest\n",
        "    - max_features (int): Maximum number of features to consider\n",
        "    - max_depth (int): Maximum depth of the decision trees\n",
        "    - min_samples_split (int): Minimum number of samples required to split a node\n",
        "\n",
        "    Returns:\n",
        "    - list: List of decision trees in the random forest\n",
        "    \"\"\"\n",
        "\n",
        "    tree_ls = list()\n",
        "    oob_ls = list()\n",
        "    for i in range(n_estimators):\n",
        "        X_bootstrap, y_bootstrap, X_oob, y_oob = draw_bootstrap(X_train, y_train)\n",
        "        tree = build_tree(X_bootstrap, y_bootstrap, max_features, max_depth, min_samples_split)\n",
        "        tree_ls.append(tree)\n",
        "        oob_error = oob_score(tree, X_oob, y_oob)\n",
        "        oob_ls.append(oob_error)\n",
        "    print(\"OOB estimate: {:.2f}\".format(np.mean(oob_ls)))\n",
        "    return tree_ls"
      ],
      "metadata": {
        "_uuid": "42cc71da-0cbb-4b4d-9761-02d02ab78a15",
        "_cell_guid": "89ffe606-27e5-4d19-b29e-511d038bb5bb",
        "jupyter": {
          "outputs_hidden": false
        },
        "execution": {
          "iopub.status.busy": "2023-06-09T13:53:39.321731Z",
          "iopub.execute_input": "2023-06-09T13:53:39.322889Z",
          "iopub.status.idle": "2023-06-09T13:53:39.339097Z",
          "shell.execute_reply.started": "2023-06-09T13:53:39.322823Z",
          "shell.execute_reply": "2023-06-09T13:53:39.336985Z"
        },
        "trusted": true,
        "id": "AzDzvBszPqJL"
      },
      "execution_count": null,
      "outputs": []
    },
    {
      "cell_type": "code",
      "source": [
        "def predict_tree(tree, X_test):\n",
        "    \"\"\"\n",
        "    Predict the label for a given instance using a decision tree.\n",
        "\n",
        "    Parameters:\n",
        "    - tree (dict): Decision tree\n",
        "    - instance (array): Instance to predict\n",
        "\n",
        "    Returns:\n",
        "    - int: Predicted label\n",
        "    \"\"\"\n",
        "\n",
        "    feature_idx = tree['feature_idx']\n",
        "\n",
        "    if X_test[feature_idx] <= tree['split_point']:\n",
        "        if type(tree['left_split']) == dict:\n",
        "            return predict_tree(tree['left_split'], X_test)\n",
        "        else:\n",
        "            value = tree['left_split']\n",
        "            return value\n",
        "    else:\n",
        "        if type(tree['right_split']) == dict:\n",
        "            return predict_tree(tree['right_split'], X_test)\n",
        "        else:\n",
        "            return tree['right_split']"
      ],
      "metadata": {
        "_uuid": "08117bc9-11f5-46db-bf86-d02cb1d28d87",
        "_cell_guid": "2beae1cb-a1bc-402c-b010-beb123908ba8",
        "jupyter": {
          "outputs_hidden": false
        },
        "execution": {
          "iopub.status.busy": "2023-06-09T13:53:39.345628Z",
          "iopub.execute_input": "2023-06-09T13:53:39.346505Z",
          "iopub.status.idle": "2023-06-09T13:53:39.359081Z",
          "shell.execute_reply.started": "2023-06-09T13:53:39.346445Z",
          "shell.execute_reply": "2023-06-09T13:53:39.357329Z"
        },
        "trusted": true,
        "id": "_aCdHwpSPqJM"
      },
      "execution_count": null,
      "outputs": []
    },
    {
      "cell_type": "code",
      "source": [
        "def predict_rf(tree_ls, X_test):\n",
        "    \"\"\"\n",
        "    Predict the labels for a set of instances using a random forest.\n",
        "\n",
        "    Parameters:\n",
        "    - forest (list): List of decision trees in the random forest\n",
        "    - X_test (DataFrame): Features of the test data\n",
        "\n",
        "    Returns:\n",
        "    - array: Predicted labels\n",
        "    \"\"\"\n",
        "\n",
        "\n",
        "\n",
        "\n",
        "    pred_ls = list()\n",
        "    for i in range(len(X_test)):\n",
        "        ensemble_preds = [predict_tree(tree, X_test.values[i]) for tree in tree_ls]\n",
        "        final_pred = max(ensemble_preds, key = ensemble_preds.count)\n",
        "        pred_ls.append(final_pred)\n",
        "    return np.array(pred_ls)"
      ],
      "metadata": {
        "_uuid": "b0a194c4-ab4c-4039-9cb4-a5819a282afa",
        "_cell_guid": "b93e0d3d-e8f6-40b3-b0bc-0d0f2a46c87f",
        "jupyter": {
          "outputs_hidden": false
        },
        "execution": {
          "iopub.status.busy": "2023-06-09T13:53:39.361521Z",
          "iopub.execute_input": "2023-06-09T13:53:39.362165Z",
          "iopub.status.idle": "2023-06-09T13:53:39.382268Z",
          "shell.execute_reply.started": "2023-06-09T13:53:39.362118Z",
          "shell.execute_reply": "2023-06-09T13:53:39.380753Z"
        },
        "trusted": true,
        "id": "qXhbwZTUPqJM"
      },
      "execution_count": null,
      "outputs": []
    },
    {
      "cell_type": "code",
      "source": [
        "n_estimators = 100\n",
        "max_features = 3\n",
        "max_depth = 10\n",
        "min_samples_split = 2\n",
        "\n",
        "model = random_forest(X_train, y_train, n_estimators=100, max_features=3, max_depth=10, min_samples_split=2)"
      ],
      "metadata": {
        "_uuid": "68e83218-d933-40b1-a92a-4c519d87e6bf",
        "_cell_guid": "dce9a0e6-ef38-43d1-940b-52eb7a1aacd3",
        "jupyter": {
          "outputs_hidden": false
        },
        "execution": {
          "iopub.status.busy": "2023-06-09T13:53:39.385712Z",
          "iopub.execute_input": "2023-06-09T13:53:39.386708Z",
          "iopub.status.idle": "2023-06-09T14:01:41.094468Z",
          "shell.execute_reply.started": "2023-06-09T13:53:39.386622Z",
          "shell.execute_reply": "2023-06-09T14:01:41.093362Z"
        },
        "trusted": true,
        "id": "5IbfJWC7PqJN",
        "outputId": "78db85d6-574a-4774-bdc0-cf376f6d94df"
      },
      "execution_count": null,
      "outputs": [
        {
          "name": "stdout",
          "text": "OOB estimate: 0.31\n",
          "output_type": "stream"
        }
      ]
    },
    {
      "cell_type": "code",
      "source": [
        "preds = predict_rf(model, X_test)"
      ],
      "metadata": {
        "_uuid": "c388fa29-ee4a-4543-8a0d-236c63ecd449",
        "_cell_guid": "ccfbfa85-9968-41de-88f1-83623539deb4",
        "jupyter": {
          "outputs_hidden": false
        },
        "execution": {
          "iopub.status.busy": "2023-06-09T14:01:41.096232Z",
          "iopub.execute_input": "2023-06-09T14:01:41.096924Z",
          "iopub.status.idle": "2023-06-09T14:01:42.125928Z",
          "shell.execute_reply.started": "2023-06-09T14:01:41.096886Z",
          "shell.execute_reply": "2023-06-09T14:01:42.124835Z"
        },
        "trusted": true,
        "id": "XSHKw1Q0PqJO"
      },
      "execution_count": null,
      "outputs": []
    },
    {
      "cell_type": "code",
      "source": [
        "acc = sum(preds == y_test) / len(y_test)\n",
        "print(\"Testing accuracy: {}\".format(np.round(acc,3)))"
      ],
      "metadata": {
        "_uuid": "adae0a26-6515-4cb0-bd11-70c91d046e79",
        "_cell_guid": "61387699-6445-426c-8c4d-eff32a02d359",
        "jupyter": {
          "outputs_hidden": false
        },
        "execution": {
          "iopub.status.busy": "2023-06-09T14:01:42.127342Z",
          "iopub.execute_input": "2023-06-09T14:01:42.127670Z",
          "iopub.status.idle": "2023-06-09T14:01:42.135125Z",
          "shell.execute_reply.started": "2023-06-09T14:01:42.127643Z",
          "shell.execute_reply": "2023-06-09T14:01:42.133619Z"
        },
        "trusted": true,
        "id": "4qAeBINPPqJO",
        "outputId": "59d1b227-b7ec-4cf5-b6e6-6e01dcfd1857"
      },
      "execution_count": null,
      "outputs": [
        {
          "name": "stdout",
          "text": "Testing accuracy: 0.689\n",
          "output_type": "stream"
        }
      ]
    },
    {
      "cell_type": "markdown",
      "source": [
        "## References\n",
        "- L. Breiman. Random forests. Maching Learning, 45(1):5–32, Oct. 2001. [[pdf]](https://link.springer.com/content/pdf/10.1023%2FA%3A1010933404324.pdf)\n",
        "- https://carbonati.github.io/posts/random-forests-from-scratch/\n",
        "- https://www.tibco.com/reference-center/what-is-a-random-forest"
      ],
      "metadata": {
        "_uuid": "e2b0fb51-dcb5-43bb-a15e-415a28891a19",
        "_cell_guid": "86b72524-a190-4b9a-80ea-81fb96f60843",
        "trusted": true,
        "id": "z9CYqMR0PqJP"
      }
    }
  ]
}