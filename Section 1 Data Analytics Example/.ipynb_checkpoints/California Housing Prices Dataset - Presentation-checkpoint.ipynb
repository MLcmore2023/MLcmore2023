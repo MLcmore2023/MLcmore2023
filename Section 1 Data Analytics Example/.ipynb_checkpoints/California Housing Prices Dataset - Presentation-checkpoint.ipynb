{
 "cells": [
  {
   "cell_type": "markdown",
   "id": "fb479025",
   "metadata": {},
   "source": [
    "# California Housing Prices Dataset"
   ]
  },
  {
   "cell_type": "markdown",
   "id": "ecd7e6b2",
   "metadata": {},
   "source": [
    "## 1. Introduction"
   ]
  },
  {
   "cell_type": "markdown",
   "id": "68b73113",
   "metadata": {},
   "source": [
    "The California housing price dataset is a widely used dataset in the field of machine learning and data analysis. It contains information about housing prices and various socioeconomic factors for different districts in California, USA. The dataset is often used for regression analysis tasks, aiming to predict the median house value based on the provided features.\n",
    "\n",
    "The dataset consists of approximately 20,000 instances, each representing a district in California. It was derived from the 1990 U.S. Census, and the features were **preprocessed and scaled for easier use.**|"
   ]
  },
  {
   "cell_type": "markdown",
   "id": "036100d3",
   "metadata": {},
   "source": [
    "## 2. Load the dataset"
   ]
  },
  {
   "cell_type": "markdown",
   "id": "82508390",
   "metadata": {},
   "source": [
    "The first step of any data analytics project is to load and explore the dataset. This initial stage sets the foundation for further analysis and helps you understand the data at hand. By loading the dataset, you make it accessible for investigation and manipulation. "
   ]
  },
  {
   "cell_type": "markdown",
   "id": "fa078e39",
   "metadata": {},
   "source": [
    "### 2.1 Import library"
   ]
  },
  {
   "cell_type": "code",
   "execution_count": 2,
   "id": "76773da4",
   "metadata": {},
   "outputs": [],
   "source": [
    "import pandas as pd\n",
    "import numpy as np\n",
    "import matplotlib.pyplot as plt\n",
    "from matplotlib import pyplot\n",
    "import seaborn as sns"
   ]
  },
  {
   "cell_type": "markdown",
   "id": "0e708551",
   "metadata": {},
   "source": [
    "### 2.2 Dataframe Display"
   ]
  },
  {
   "cell_type": "markdown",
   "id": "4baf5b10",
   "metadata": {},
   "source": [
    "The **df.describe()** and **df.info()** methods in pandas are used to gain insights into the structure, summary statistics, and basic information about a DataFrame. "
   ]
  },
  {
   "cell_type": "code",
   "execution_count": 3,
   "id": "a8ae326b",
   "metadata": {},
   "outputs": [
    {
     "data": {
      "text/html": [
       "<div>\n",
       "<style scoped>\n",
       "    .dataframe tbody tr th:only-of-type {\n",
       "        vertical-align: middle;\n",
       "    }\n",
       "\n",
       "    .dataframe tbody tr th {\n",
       "        vertical-align: top;\n",
       "    }\n",
       "\n",
       "    .dataframe thead th {\n",
       "        text-align: right;\n",
       "    }\n",
       "</style>\n",
       "<table border=\"1\" class=\"dataframe\">\n",
       "  <thead>\n",
       "    <tr style=\"text-align: right;\">\n",
       "      <th></th>\n",
       "      <th>MedInc</th>\n",
       "      <th>HouseAge</th>\n",
       "      <th>AveRooms</th>\n",
       "      <th>AveBedrms</th>\n",
       "      <th>Population</th>\n",
       "      <th>AveOccup</th>\n",
       "      <th>Latitude</th>\n",
       "      <th>Longitude</th>\n",
       "      <th>Price</th>\n",
       "    </tr>\n",
       "  </thead>\n",
       "  <tbody>\n",
       "    <tr>\n",
       "      <th>0</th>\n",
       "      <td>8.3252</td>\n",
       "      <td>41.0</td>\n",
       "      <td>6.984127</td>\n",
       "      <td>1.023810</td>\n",
       "      <td>322.0</td>\n",
       "      <td>2.555556</td>\n",
       "      <td>37.88</td>\n",
       "      <td>-122.23</td>\n",
       "      <td>4.526</td>\n",
       "    </tr>\n",
       "    <tr>\n",
       "      <th>1</th>\n",
       "      <td>8.3014</td>\n",
       "      <td>21.0</td>\n",
       "      <td>6.238137</td>\n",
       "      <td>0.971880</td>\n",
       "      <td>2401.0</td>\n",
       "      <td>2.109842</td>\n",
       "      <td>37.86</td>\n",
       "      <td>-122.22</td>\n",
       "      <td>3.585</td>\n",
       "    </tr>\n",
       "    <tr>\n",
       "      <th>2</th>\n",
       "      <td>7.2574</td>\n",
       "      <td>52.0</td>\n",
       "      <td>8.288136</td>\n",
       "      <td>1.073446</td>\n",
       "      <td>496.0</td>\n",
       "      <td>2.802260</td>\n",
       "      <td>37.85</td>\n",
       "      <td>-122.24</td>\n",
       "      <td>3.521</td>\n",
       "    </tr>\n",
       "    <tr>\n",
       "      <th>3</th>\n",
       "      <td>5.6431</td>\n",
       "      <td>52.0</td>\n",
       "      <td>5.817352</td>\n",
       "      <td>1.073059</td>\n",
       "      <td>558.0</td>\n",
       "      <td>2.547945</td>\n",
       "      <td>37.85</td>\n",
       "      <td>-122.25</td>\n",
       "      <td>3.413</td>\n",
       "    </tr>\n",
       "    <tr>\n",
       "      <th>4</th>\n",
       "      <td>3.8462</td>\n",
       "      <td>52.0</td>\n",
       "      <td>6.281853</td>\n",
       "      <td>1.081081</td>\n",
       "      <td>565.0</td>\n",
       "      <td>2.181467</td>\n",
       "      <td>37.85</td>\n",
       "      <td>-122.25</td>\n",
       "      <td>3.422</td>\n",
       "    </tr>\n",
       "  </tbody>\n",
       "</table>\n",
       "</div>"
      ],
      "text/plain": [
       "   MedInc  HouseAge  AveRooms  AveBedrms  Population  AveOccup  Latitude  \\\n",
       "0  8.3252      41.0  6.984127   1.023810       322.0  2.555556     37.88   \n",
       "1  8.3014      21.0  6.238137   0.971880      2401.0  2.109842     37.86   \n",
       "2  7.2574      52.0  8.288136   1.073446       496.0  2.802260     37.85   \n",
       "3  5.6431      52.0  5.817352   1.073059       558.0  2.547945     37.85   \n",
       "4  3.8462      52.0  6.281853   1.081081       565.0  2.181467     37.85   \n",
       "\n",
       "   Longitude  Price  \n",
       "0    -122.23  4.526  \n",
       "1    -122.22  3.585  \n",
       "2    -122.24  3.521  \n",
       "3    -122.25  3.413  \n",
       "4    -122.25  3.422  "
      ]
     },
     "execution_count": 3,
     "metadata": {},
     "output_type": "execute_result"
    }
   ],
   "source": [
    "import pandas as pd\n",
    "from sklearn.datasets import fetch_california_housing\n",
    "\n",
    "# Load the California housing dataset\n",
    "data = fetch_california_housing()\n",
    "\n",
    "# Create a DataFrame\n",
    "df = pd.DataFrame(data.data, columns=data.feature_names)\n",
    "\n",
    "# Add the target variable (housing prices) to the DataFrame\n",
    "df['Price'] = data.target\n",
    "\n",
    "# Print the DataFrame\n",
    "df.head()"
   ]
  },
  {
   "cell_type": "code",
   "execution_count": 4,
   "id": "fc4d3037",
   "metadata": {},
   "outputs": [
    {
     "data": {
      "text/html": [
       "<div>\n",
       "<style scoped>\n",
       "    .dataframe tbody tr th:only-of-type {\n",
       "        vertical-align: middle;\n",
       "    }\n",
       "\n",
       "    .dataframe tbody tr th {\n",
       "        vertical-align: top;\n",
       "    }\n",
       "\n",
       "    .dataframe thead th {\n",
       "        text-align: right;\n",
       "    }\n",
       "</style>\n",
       "<table border=\"1\" class=\"dataframe\">\n",
       "  <thead>\n",
       "    <tr style=\"text-align: right;\">\n",
       "      <th></th>\n",
       "      <th>MedInc</th>\n",
       "      <th>HouseAge</th>\n",
       "      <th>AveRooms</th>\n",
       "      <th>AveBedrms</th>\n",
       "      <th>Population</th>\n",
       "      <th>AveOccup</th>\n",
       "      <th>Latitude</th>\n",
       "      <th>Longitude</th>\n",
       "      <th>Price</th>\n",
       "    </tr>\n",
       "  </thead>\n",
       "  <tbody>\n",
       "    <tr>\n",
       "      <th>count</th>\n",
       "      <td>20640.000000</td>\n",
       "      <td>20640.000000</td>\n",
       "      <td>20640.000000</td>\n",
       "      <td>20640.000000</td>\n",
       "      <td>20640.000000</td>\n",
       "      <td>20640.000000</td>\n",
       "      <td>20640.000000</td>\n",
       "      <td>20640.000000</td>\n",
       "      <td>20640.000000</td>\n",
       "    </tr>\n",
       "    <tr>\n",
       "      <th>mean</th>\n",
       "      <td>3.870671</td>\n",
       "      <td>28.639486</td>\n",
       "      <td>5.429000</td>\n",
       "      <td>1.096675</td>\n",
       "      <td>1425.476744</td>\n",
       "      <td>3.070655</td>\n",
       "      <td>35.631861</td>\n",
       "      <td>-119.569704</td>\n",
       "      <td>2.068558</td>\n",
       "    </tr>\n",
       "    <tr>\n",
       "      <th>std</th>\n",
       "      <td>1.899822</td>\n",
       "      <td>12.585558</td>\n",
       "      <td>2.474173</td>\n",
       "      <td>0.473911</td>\n",
       "      <td>1132.462122</td>\n",
       "      <td>10.386050</td>\n",
       "      <td>2.135952</td>\n",
       "      <td>2.003532</td>\n",
       "      <td>1.153956</td>\n",
       "    </tr>\n",
       "    <tr>\n",
       "      <th>min</th>\n",
       "      <td>0.499900</td>\n",
       "      <td>1.000000</td>\n",
       "      <td>0.846154</td>\n",
       "      <td>0.333333</td>\n",
       "      <td>3.000000</td>\n",
       "      <td>0.692308</td>\n",
       "      <td>32.540000</td>\n",
       "      <td>-124.350000</td>\n",
       "      <td>0.149990</td>\n",
       "    </tr>\n",
       "    <tr>\n",
       "      <th>25%</th>\n",
       "      <td>2.563400</td>\n",
       "      <td>18.000000</td>\n",
       "      <td>4.440716</td>\n",
       "      <td>1.006079</td>\n",
       "      <td>787.000000</td>\n",
       "      <td>2.429741</td>\n",
       "      <td>33.930000</td>\n",
       "      <td>-121.800000</td>\n",
       "      <td>1.196000</td>\n",
       "    </tr>\n",
       "    <tr>\n",
       "      <th>50%</th>\n",
       "      <td>3.534800</td>\n",
       "      <td>29.000000</td>\n",
       "      <td>5.229129</td>\n",
       "      <td>1.048780</td>\n",
       "      <td>1166.000000</td>\n",
       "      <td>2.818116</td>\n",
       "      <td>34.260000</td>\n",
       "      <td>-118.490000</td>\n",
       "      <td>1.797000</td>\n",
       "    </tr>\n",
       "    <tr>\n",
       "      <th>75%</th>\n",
       "      <td>4.743250</td>\n",
       "      <td>37.000000</td>\n",
       "      <td>6.052381</td>\n",
       "      <td>1.099526</td>\n",
       "      <td>1725.000000</td>\n",
       "      <td>3.282261</td>\n",
       "      <td>37.710000</td>\n",
       "      <td>-118.010000</td>\n",
       "      <td>2.647250</td>\n",
       "    </tr>\n",
       "    <tr>\n",
       "      <th>max</th>\n",
       "      <td>15.000100</td>\n",
       "      <td>52.000000</td>\n",
       "      <td>141.909091</td>\n",
       "      <td>34.066667</td>\n",
       "      <td>35682.000000</td>\n",
       "      <td>1243.333333</td>\n",
       "      <td>41.950000</td>\n",
       "      <td>-114.310000</td>\n",
       "      <td>5.000010</td>\n",
       "    </tr>\n",
       "  </tbody>\n",
       "</table>\n",
       "</div>"
      ],
      "text/plain": [
       "             MedInc      HouseAge      AveRooms     AveBedrms    Population  \\\n",
       "count  20640.000000  20640.000000  20640.000000  20640.000000  20640.000000   \n",
       "mean       3.870671     28.639486      5.429000      1.096675   1425.476744   \n",
       "std        1.899822     12.585558      2.474173      0.473911   1132.462122   \n",
       "min        0.499900      1.000000      0.846154      0.333333      3.000000   \n",
       "25%        2.563400     18.000000      4.440716      1.006079    787.000000   \n",
       "50%        3.534800     29.000000      5.229129      1.048780   1166.000000   \n",
       "75%        4.743250     37.000000      6.052381      1.099526   1725.000000   \n",
       "max       15.000100     52.000000    141.909091     34.066667  35682.000000   \n",
       "\n",
       "           AveOccup      Latitude     Longitude         Price  \n",
       "count  20640.000000  20640.000000  20640.000000  20640.000000  \n",
       "mean       3.070655     35.631861   -119.569704      2.068558  \n",
       "std       10.386050      2.135952      2.003532      1.153956  \n",
       "min        0.692308     32.540000   -124.350000      0.149990  \n",
       "25%        2.429741     33.930000   -121.800000      1.196000  \n",
       "50%        2.818116     34.260000   -118.490000      1.797000  \n",
       "75%        3.282261     37.710000   -118.010000      2.647250  \n",
       "max     1243.333333     41.950000   -114.310000      5.000010  "
      ]
     },
     "execution_count": 4,
     "metadata": {},
     "output_type": "execute_result"
    }
   ],
   "source": [
    "df.describe()"
   ]
  },
  {
   "cell_type": "code",
   "execution_count": 5,
   "id": "e8a9d8c0",
   "metadata": {},
   "outputs": [
    {
     "name": "stdout",
     "output_type": "stream",
     "text": [
      "<class 'pandas.core.frame.DataFrame'>\n",
      "RangeIndex: 20640 entries, 0 to 20639\n",
      "Data columns (total 9 columns):\n",
      " #   Column      Non-Null Count  Dtype  \n",
      "---  ------      --------------  -----  \n",
      " 0   MedInc      20640 non-null  float64\n",
      " 1   HouseAge    20640 non-null  float64\n",
      " 2   AveRooms    20640 non-null  float64\n",
      " 3   AveBedrms   20640 non-null  float64\n",
      " 4   Population  20640 non-null  float64\n",
      " 5   AveOccup    20640 non-null  float64\n",
      " 6   Latitude    20640 non-null  float64\n",
      " 7   Longitude   20640 non-null  float64\n",
      " 8   Price       20640 non-null  float64\n",
      "dtypes: float64(9)\n",
      "memory usage: 1.4 MB\n"
     ]
    }
   ],
   "source": [
    "df.info()"
   ]
  },
  {
   "cell_type": "markdown",
   "id": "540da9b3",
   "metadata": {},
   "source": [
    "This dataset includes the following features:\n",
    "\n",
    "1. MedInc: Median income of the households in the district.\n",
    "2. HouseAge: Median age of the houses in the district.\n",
    "3. AveRooms: Average number of rooms per dwelling.\n",
    "4. AveBedrms: Average number of bedrooms per dwelling.\n",
    "5. Population: Total population in the district.\n",
    "6. AveOccup: Average household occupancy (number of people living in a dwelling) in the district.\n",
    "7. Latitude: Latitude coordinate of the district's location.\n",
    "8. Longitude: Longitude coordinate of the district's location.\n",
    "\n",
    "These features provide different aspects related to housing characteristics and the socioeconomic profile of the districts. They can be used to analyze and understand the factors that influence housing prices in California.\n",
    "\n",
    "9. The target variable, which is not included in the original features but is available in the dataset, is:\n",
    "\n",
    "Price: Median value of owner-occupied homes in the district (the target variable you would like to predict)."
   ]
  },
  {
   "cell_type": "markdown",
   "id": "c0238703",
   "metadata": {},
   "source": [
    "## 3. Data Exploration (Visualization)"
   ]
  },
  {
   "cell_type": "markdown",
   "id": "bffd2c4e",
   "metadata": {},
   "source": [
    "#### What is the purpose of data exploration (Visualization)?\n",
    "\n",
    "Data exploration and visualization in data science help to:\n",
    "\n",
    "1. Understand the data's characteristics, patterns, and distributions.\n",
    "2. Identify outliers and anomalies.\n",
    "3. Select relevant features and inspire feature engineering.\n",
    "4. Communicate insights effectively to stakeholders.\n",
    "5. Validate and evaluate machine learning models.\n",
    "6. Generate hypotheses for further investigation.\n",
    "\n",
    "In summary, data exploration and visualization are essential for gaining insights, understanding the data's properties, and making informed decisions in data science."
   ]
  },
  {
   "cell_type": "markdown",
   "id": "6fa14d08",
   "metadata": {},
   "source": [
    "Data visualization plays a crucial role in data analysis as it allows us to visually represent and explore the data. It helps in uncovering patterns, trends, and relationships within the dataset that may not be easily discernible from raw numbers alone. There are various methods and types of visualizations available, each serving different purposes and providing unique insights into the data.\n"
   ]
  },
  {
   "cell_type": "markdown",
   "id": "8950ec12",
   "metadata": {},
   "source": [
    "\n",
    "In this demonstration, several methods are showcased to provide a concise understanding of data visualization and present examples of code implementation."
   ]
  },
  {
   "cell_type": "markdown",
   "id": "2b194cd4",
   "metadata": {},
   "source": [
    "### 3.1 Distribution of the Housing Price"
   ]
  },
  {
   "cell_type": "code",
   "execution_count": 6,
   "id": "b5dad883",
   "metadata": {},
   "outputs": [
    {
     "data": {
      "image/png": "[encoded data removed]",
      "text/plain": [
       "<Figure size 432x288 with 1 Axes>"
      ]
     },
     "metadata": {
      "needs_background": "light"
     },
     "output_type": "display_data"
    }
   ],
   "source": [
    "# Visualize the distribution of the target variable (Price)\n",
    "plt.hist(df['Price'], bins=30)\n",
    "plt.xlabel('Price')\n",
    "plt.ylabel('Frequency')\n",
    "plt.title('Distribution of Housing Prices')\n",
    "plt.show()"
   ]
  },
  {
   "cell_type": "markdown",
   "id": "cd9c461b",
   "metadata": {},
   "source": [
    "### 3.2 Median Income vs. Housing Prices"
   ]
  },
  {
   "cell_type": "code",
   "execution_count": 7,
   "id": "09cae9ab",
   "metadata": {},
   "outputs": [
    {
     "data": {
      "image/png": "[encoded data removed]",
      "text/plain": [
       "<Figure size 432x288 with 1 Axes>"
      ]
     },
     "metadata": {
      "needs_background": "light"
     },
     "output_type": "display_data"
    }
   ],
   "source": [
    "# Create a scatter plot of Median Income vs. Housing Prices\n",
    "plt.scatter(df['MedInc'], df['Price'])\n",
    "plt.xlabel('Median Income')\n",
    "plt.ylabel('Housing Prices')\n",
    "plt.title('Median Income vs. Housing Prices')\n",
    "plt.show()"
   ]
  },
  {
   "cell_type": "markdown",
   "id": "915decf2",
   "metadata": {},
   "source": [
    "## 4. Data Cleaning"
   ]
  },
  {
   "cell_type": "markdown",
   "id": "b6e7e82f",
   "metadata": {},
   "source": [
    "Undoubtedly, data cleaning is one of the most critical and foundational steps in any data analysis project. It involves identifying and rectifying or removing errors, inconsistencies, and inaccuracies present in the dataset. This process ensures that the data is reliable, accurate, and suitable for analysis, setting the stage for meaningful insights and informed decision-making."
   ]
  },
  {
   "cell_type": "markdown",
   "id": "b6f36781",
   "metadata": {},
   "source": [
    "### 4.1 Checking for Missing Values"
   ]
  },
  {
   "cell_type": "markdown",
   "id": "091c41ce",
   "metadata": {},
   "source": [
    "Checking for missing values is indeed one of the crucial initial steps in data analysis."
   ]
  },
  {
   "cell_type": "code",
   "execution_count": 8,
   "id": "83702f40",
   "metadata": {},
   "outputs": [
    {
     "name": "stdout",
     "output_type": "stream",
     "text": [
      "MedInc        0\n",
      "HouseAge      0\n",
      "AveRooms      0\n",
      "AveBedrms     0\n",
      "Population    0\n",
      "AveOccup      0\n",
      "Latitude      0\n",
      "Longitude     0\n",
      "Price         0\n",
      "dtype: int64\n"
     ]
    }
   ],
   "source": [
    "# Check for missing values\n",
    "print(df.isnull().sum())"
   ]
  },
  {
   "cell_type": "markdown",
   "id": "6f0ca90e",
   "metadata": {},
   "source": [
    "That's great news! When there are no missing values in the dataset, it simplifies the data analysis process and reduces the need for additional preprocessing steps. Having a complete dataset without missing values allows for more straightforward and reliable analyses, as all the available information is ready for exploration and modeling."
   ]
  },
  {
   "cell_type": "markdown",
   "id": "eccb22d5",
   "metadata": {},
   "source": [
    "### 4.2 Checking for outliers in our datase"
   ]
  },
  {
   "cell_type": "markdown",
   "id": "34a34cd3",
   "metadata": {},
   "source": [
    "Handling outliers refers to the process of identifying and addressing data points that deviate significantly from the overall pattern or distribution of the dataset. Outliers are observations that lie far away from the majority of the data points and may distort statistical analyses or modeling results if left untreated."
   ]
  },
  {
   "cell_type": "code",
   "execution_count": 9,
   "id": "cb979590",
   "metadata": {},
   "outputs": [
    {
     "data": {
      "image/png": "[encoded data removed]",
      "text/plain": [
       "<Figure size 432x288 with 1 Axes>"
      ]
     },
     "metadata": {
      "needs_background": "light"
     },
     "output_type": "display_data"
    }
   ],
   "source": [
    "# Create a box plot of the Price column\n",
    "plt.boxplot(df['Price'])\n",
    "plt.xlabel('Price')\n",
    "plt.title('Box Plot of Housing Prices')\n",
    "plt.show()"
   ]
  },
  {
   "cell_type": "markdown",
   "id": "f9257151",
   "metadata": {},
   "source": [
    "Outliers have been detected in the dataset and their presence is determined to exert a substantial influence on the analysis or modeling results. The option of removing outliers can be considered."
   ]
  },
  {
   "cell_type": "code",
   "execution_count": 10,
   "id": "3ba1af99",
   "metadata": {},
   "outputs": [],
   "source": [
    "# Handling outliers \n",
    "df['Price'] = df['Price'].clip(upper=df['Price'].quantile(0.95))"
   ]
  },
  {
   "cell_type": "markdown",
   "id": "ad6815f1",
   "metadata": {},
   "source": [
    "## 5. Feature Extraction¶"
   ]
  },
  {
   "cell_type": "code",
   "execution_count": 11,
   "id": "e1bd3009",
   "metadata": {},
   "outputs": [
    {
     "data": {
      "image/png": "[encoded data removed]",
      "text/plain": [
       "<Figure size 720x576 with 2 Axes>"
      ]
     },
     "metadata": {
      "needs_background": "light"
     },
     "output_type": "display_data"
    }
   ],
   "source": [
    "# Calculate the correlation matrix\n",
    "correlation_matrix = df.corr()\n",
    "\n",
    "# Plot the correlation matrix as a heatmap\n",
    "plt.figure(figsize=(10, 8))\n",
    "sns.heatmap(correlation_matrix, annot=True, cmap='coolwarm')\n",
    "plt.title('Feature Correlation Heatmap')\n",
    "plt.show()"
   ]
  },
  {
   "cell_type": "markdown",
   "id": "63faa808",
   "metadata": {},
   "source": [
    "1. Median income (MedInc) has a positive correlation with housing prices, indicating that areas with higher incomes tend to have higher-priced housing options.\n",
    "2. Median age of houses (HouseAge) shows a positive correlation with housing prices, suggesting that newer houses generally command higher prices.\n",
    "3. Average number of rooms per dwelling (AveRooms) is positively correlated with housing prices, indicating that houses with more rooms tend to have higher prices.\n",
    "4. Other features, such as population (Population), average household occupancy (AveOccup), average number of bedrooms per dwelling (AveBedrms), latitude (Latitude), and longitude (Longitude), exhibit slight negative correlations with housing prices. This suggests that higher population density, household occupancy, number of bedrooms, and certain geographic locations might be associated with relatively lower housing prices, although these effects are relatively small."
   ]
  },
  {
   "cell_type": "markdown",
   "id": "37a5e94b",
   "metadata": {},
   "source": [
    "## 6. Data Encoding"
   ]
  },
  {
   "cell_type": "markdown",
   "id": "1b3fb149",
   "metadata": {},
   "source": [
    "In the California housing dataset, the features are primarily numerical, and there is no categorical feature that requires explicit encoding."
   ]
  },
  {
   "cell_type": "markdown",
   "id": "a71decf1",
   "metadata": {},
   "source": [
    "### 6.1 Convert 'Price' Column to binary labels"
   ]
  },
  {
   "cell_type": "markdown",
   "id": "5933cb14",
   "metadata": {},
   "source": [
    "Converting the Price column in the California housing dataset to binary labels, where 1 represents high prices and 0 represents low prices, simplifies the analysis, allows for focused price-level comparisons, aids decision-making or classification tasks, enhances interpretability and communication, and can address class imbalance issues. The transformation streamlines the interpretation of price data and facilitates tasks that involve distinguishing between high and low price levels."
   ]
  },
  {
   "cell_type": "code",
   "execution_count": 12,
   "id": "07770578",
   "metadata": {},
   "outputs": [
    {
     "data": {
      "text/html": [
       "<div>\n",
       "<style scoped>\n",
       "    .dataframe tbody tr th:only-of-type {\n",
       "        vertical-align: middle;\n",
       "    }\n",
       "\n",
       "    .dataframe tbody tr th {\n",
       "        vertical-align: top;\n",
       "    }\n",
       "\n",
       "    .dataframe thead th {\n",
       "        text-align: right;\n",
       "    }\n",
       "</style>\n",
       "<table border=\"1\" class=\"dataframe\">\n",
       "  <thead>\n",
       "    <tr style=\"text-align: right;\">\n",
       "      <th></th>\n",
       "      <th>MedInc</th>\n",
       "      <th>HouseAge</th>\n",
       "      <th>AveRooms</th>\n",
       "      <th>AveBedrms</th>\n",
       "      <th>Population</th>\n",
       "      <th>AveOccup</th>\n",
       "      <th>Latitude</th>\n",
       "      <th>Longitude</th>\n",
       "      <th>Price</th>\n",
       "    </tr>\n",
       "  </thead>\n",
       "  <tbody>\n",
       "    <tr>\n",
       "      <th>0</th>\n",
       "      <td>8.3252</td>\n",
       "      <td>41.0</td>\n",
       "      <td>6.984127</td>\n",
       "      <td>1.023810</td>\n",
       "      <td>322.0</td>\n",
       "      <td>2.555556</td>\n",
       "      <td>37.88</td>\n",
       "      <td>-122.23</td>\n",
       "      <td>1</td>\n",
       "    </tr>\n",
       "    <tr>\n",
       "      <th>1</th>\n",
       "      <td>8.3014</td>\n",
       "      <td>21.0</td>\n",
       "      <td>6.238137</td>\n",
       "      <td>0.971880</td>\n",
       "      <td>2401.0</td>\n",
       "      <td>2.109842</td>\n",
       "      <td>37.86</td>\n",
       "      <td>-122.22</td>\n",
       "      <td>1</td>\n",
       "    </tr>\n",
       "    <tr>\n",
       "      <th>2</th>\n",
       "      <td>7.2574</td>\n",
       "      <td>52.0</td>\n",
       "      <td>8.288136</td>\n",
       "      <td>1.073446</td>\n",
       "      <td>496.0</td>\n",
       "      <td>2.802260</td>\n",
       "      <td>37.85</td>\n",
       "      <td>-122.24</td>\n",
       "      <td>1</td>\n",
       "    </tr>\n",
       "    <tr>\n",
       "      <th>3</th>\n",
       "      <td>5.6431</td>\n",
       "      <td>52.0</td>\n",
       "      <td>5.817352</td>\n",
       "      <td>1.073059</td>\n",
       "      <td>558.0</td>\n",
       "      <td>2.547945</td>\n",
       "      <td>37.85</td>\n",
       "      <td>-122.25</td>\n",
       "      <td>1</td>\n",
       "    </tr>\n",
       "    <tr>\n",
       "      <th>4</th>\n",
       "      <td>3.8462</td>\n",
       "      <td>52.0</td>\n",
       "      <td>6.281853</td>\n",
       "      <td>1.081081</td>\n",
       "      <td>565.0</td>\n",
       "      <td>2.181467</td>\n",
       "      <td>37.85</td>\n",
       "      <td>-122.25</td>\n",
       "      <td>1</td>\n",
       "    </tr>\n",
       "  </tbody>\n",
       "</table>\n",
       "</div>"
      ],
      "text/plain": [
       "   MedInc  HouseAge  AveRooms  AveBedrms  Population  AveOccup  Latitude  \\\n",
       "0  8.3252      41.0  6.984127   1.023810       322.0  2.555556     37.88   \n",
       "1  8.3014      21.0  6.238137   0.971880      2401.0  2.109842     37.86   \n",
       "2  7.2574      52.0  8.288136   1.073446       496.0  2.802260     37.85   \n",
       "3  5.6431      52.0  5.817352   1.073059       558.0  2.547945     37.85   \n",
       "4  3.8462      52.0  6.281853   1.081081       565.0  2.181467     37.85   \n",
       "\n",
       "   Longitude  Price  \n",
       "0    -122.23      1  \n",
       "1    -122.22      1  \n",
       "2    -122.24      1  \n",
       "3    -122.25      1  \n",
       "4    -122.25      1  "
      ]
     },
     "execution_count": 12,
     "metadata": {},
     "output_type": "execute_result"
    }
   ],
   "source": [
    "# Define the threshold for binary labeling\n",
    "threshold = df['Price'].median()\n",
    "\n",
    "# Apply binary labeling\n",
    "df['Price'] = (df['Price'] > threshold).astype(int)\n",
    "\n",
    "# Print the updated DataFrame\n",
    "df.head()"
   ]
  },
  {
   "cell_type": "code",
   "execution_count": 13,
   "id": "a337c18d",
   "metadata": {},
   "outputs": [
    {
     "data": {
      "image/png": "[encoded data removed]",
      "text/plain": [
       "<Figure size 576x432 with 1 Axes>"
      ]
     },
     "metadata": {},
     "output_type": "display_data"
    },
    {
     "data": {
      "image/png": "[encoded data removed]",
      "text/plain": [
       "<Figure size 576x432 with 1 Axes>"
      ]
     },
     "metadata": {
      "needs_background": "light"
     },
     "output_type": "display_data"
    }
   ],
   "source": [
    "# Count the number of occurrences for each price category\n",
    "price_counts = df['Price'].value_counts()\n",
    "\n",
    "# Create a pie chart\n",
    "plt.figure(figsize=(8, 6))\n",
    "plt.pie(price_counts, labels=['Low Price', 'High Price'], autopct='%1.1f%%', startangle=90)\n",
    "plt.title('Distribution of Price')\n",
    "plt.show()\n",
    "\n",
    "# Create a bar graph with different colors\n",
    "plt.figure(figsize=(8, 6))\n",
    "bars = plt.bar(price_counts.index, price_counts.values)\n",
    "\n",
    "# Set different colors for the bars\n",
    "bars[0].set_color('blue')  # Low Price bar color\n",
    "bars[1].set_color('orange')  # High Price bar color\n",
    "\n",
    "plt.xlabel('Price')\n",
    "plt.ylabel('Count')\n",
    "plt.title('Count of Price Categories')\n",
    "plt.show()"
   ]
  },
  {
   "cell_type": "markdown",
   "id": "b92aa666",
   "metadata": {},
   "source": [
    "## 7. Model Performance Comparison - Preparation"
   ]
  },
  {
   "cell_type": "markdown",
   "id": "c8f311bc",
   "metadata": {},
   "source": [
    "### 7.1 Division of Dataset into Target and Training Data"
   ]
  },
  {
   "cell_type": "code",
   "execution_count": 14,
   "id": "a40b4b3e",
   "metadata": {},
   "outputs": [],
   "source": [
    "X = df.drop('Price', axis=1)  # Features (training data)\n",
    "y = df['Price']  # Target variable"
   ]
  },
  {
   "cell_type": "code",
   "execution_count": 15,
   "id": "8fc7d6d2",
   "metadata": {},
   "outputs": [
    {
     "data": {
      "text/html": [
       "<div>\n",
       "<style scoped>\n",
       "    .dataframe tbody tr th:only-of-type {\n",
       "        vertical-align: middle;\n",
       "    }\n",
       "\n",
       "    .dataframe tbody tr th {\n",
       "        vertical-align: top;\n",
       "    }\n",
       "\n",
       "    .dataframe thead th {\n",
       "        text-align: right;\n",
       "    }\n",
       "</style>\n",
       "<table border=\"1\" class=\"dataframe\">\n",
       "  <thead>\n",
       "    <tr style=\"text-align: right;\">\n",
       "      <th></th>\n",
       "      <th>MedInc</th>\n",
       "      <th>HouseAge</th>\n",
       "      <th>AveRooms</th>\n",
       "      <th>AveBedrms</th>\n",
       "      <th>Population</th>\n",
       "      <th>AveOccup</th>\n",
       "      <th>Latitude</th>\n",
       "      <th>Longitude</th>\n",
       "    </tr>\n",
       "  </thead>\n",
       "  <tbody>\n",
       "    <tr>\n",
       "      <th>0</th>\n",
       "      <td>8.3252</td>\n",
       "      <td>41.0</td>\n",
       "      <td>6.984127</td>\n",
       "      <td>1.023810</td>\n",
       "      <td>322.0</td>\n",
       "      <td>2.555556</td>\n",
       "      <td>37.88</td>\n",
       "      <td>-122.23</td>\n",
       "    </tr>\n",
       "    <tr>\n",
       "      <th>1</th>\n",
       "      <td>8.3014</td>\n",
       "      <td>21.0</td>\n",
       "      <td>6.238137</td>\n",
       "      <td>0.971880</td>\n",
       "      <td>2401.0</td>\n",
       "      <td>2.109842</td>\n",
       "      <td>37.86</td>\n",
       "      <td>-122.22</td>\n",
       "    </tr>\n",
       "    <tr>\n",
       "      <th>2</th>\n",
       "      <td>7.2574</td>\n",
       "      <td>52.0</td>\n",
       "      <td>8.288136</td>\n",
       "      <td>1.073446</td>\n",
       "      <td>496.0</td>\n",
       "      <td>2.802260</td>\n",
       "      <td>37.85</td>\n",
       "      <td>-122.24</td>\n",
       "    </tr>\n",
       "    <tr>\n",
       "      <th>3</th>\n",
       "      <td>5.6431</td>\n",
       "      <td>52.0</td>\n",
       "      <td>5.817352</td>\n",
       "      <td>1.073059</td>\n",
       "      <td>558.0</td>\n",
       "      <td>2.547945</td>\n",
       "      <td>37.85</td>\n",
       "      <td>-122.25</td>\n",
       "    </tr>\n",
       "    <tr>\n",
       "      <th>4</th>\n",
       "      <td>3.8462</td>\n",
       "      <td>52.0</td>\n",
       "      <td>6.281853</td>\n",
       "      <td>1.081081</td>\n",
       "      <td>565.0</td>\n",
       "      <td>2.181467</td>\n",
       "      <td>37.85</td>\n",
       "      <td>-122.25</td>\n",
       "    </tr>\n",
       "    <tr>\n",
       "      <th>...</th>\n",
       "      <td>...</td>\n",
       "      <td>...</td>\n",
       "      <td>...</td>\n",
       "      <td>...</td>\n",
       "      <td>...</td>\n",
       "      <td>...</td>\n",
       "      <td>...</td>\n",
       "      <td>...</td>\n",
       "    </tr>\n",
       "    <tr>\n",
       "      <th>20635</th>\n",
       "      <td>1.5603</td>\n",
       "      <td>25.0</td>\n",
       "      <td>5.045455</td>\n",
       "      <td>1.133333</td>\n",
       "      <td>845.0</td>\n",
       "      <td>2.560606</td>\n",
       "      <td>39.48</td>\n",
       "      <td>-121.09</td>\n",
       "    </tr>\n",
       "    <tr>\n",
       "      <th>20636</th>\n",
       "      <td>2.5568</td>\n",
       "      <td>18.0</td>\n",
       "      <td>6.114035</td>\n",
       "      <td>1.315789</td>\n",
       "      <td>356.0</td>\n",
       "      <td>3.122807</td>\n",
       "      <td>39.49</td>\n",
       "      <td>-121.21</td>\n",
       "    </tr>\n",
       "    <tr>\n",
       "      <th>20637</th>\n",
       "      <td>1.7000</td>\n",
       "      <td>17.0</td>\n",
       "      <td>5.205543</td>\n",
       "      <td>1.120092</td>\n",
       "      <td>1007.0</td>\n",
       "      <td>2.325635</td>\n",
       "      <td>39.43</td>\n",
       "      <td>-121.22</td>\n",
       "    </tr>\n",
       "    <tr>\n",
       "      <th>20638</th>\n",
       "      <td>1.8672</td>\n",
       "      <td>18.0</td>\n",
       "      <td>5.329513</td>\n",
       "      <td>1.171920</td>\n",
       "      <td>741.0</td>\n",
       "      <td>2.123209</td>\n",
       "      <td>39.43</td>\n",
       "      <td>-121.32</td>\n",
       "    </tr>\n",
       "    <tr>\n",
       "      <th>20639</th>\n",
       "      <td>2.3886</td>\n",
       "      <td>16.0</td>\n",
       "      <td>5.254717</td>\n",
       "      <td>1.162264</td>\n",
       "      <td>1387.0</td>\n",
       "      <td>2.616981</td>\n",
       "      <td>39.37</td>\n",
       "      <td>-121.24</td>\n",
       "    </tr>\n",
       "  </tbody>\n",
       "</table>\n",
       "<p>20640 rows × 8 columns</p>\n",
       "</div>"
      ],
      "text/plain": [
       "       MedInc  HouseAge  AveRooms  AveBedrms  Population  AveOccup  Latitude  \\\n",
       "0      8.3252      41.0  6.984127   1.023810       322.0  2.555556     37.88   \n",
       "1      8.3014      21.0  6.238137   0.971880      2401.0  2.109842     37.86   \n",
       "2      7.2574      52.0  8.288136   1.073446       496.0  2.802260     37.85   \n",
       "3      5.6431      52.0  5.817352   1.073059       558.0  2.547945     37.85   \n",
       "4      3.8462      52.0  6.281853   1.081081       565.0  2.181467     37.85   \n",
       "...       ...       ...       ...        ...         ...       ...       ...   \n",
       "20635  1.5603      25.0  5.045455   1.133333       845.0  2.560606     39.48   \n",
       "20636  2.5568      18.0  6.114035   1.315789       356.0  3.122807     39.49   \n",
       "20637  1.7000      17.0  5.205543   1.120092      1007.0  2.325635     39.43   \n",
       "20638  1.8672      18.0  5.329513   1.171920       741.0  2.123209     39.43   \n",
       "20639  2.3886      16.0  5.254717   1.162264      1387.0  2.616981     39.37   \n",
       "\n",
       "       Longitude  \n",
       "0        -122.23  \n",
       "1        -122.22  \n",
       "2        -122.24  \n",
       "3        -122.25  \n",
       "4        -122.25  \n",
       "...          ...  \n",
       "20635    -121.09  \n",
       "20636    -121.21  \n",
       "20637    -121.22  \n",
       "20638    -121.32  \n",
       "20639    -121.24  \n",
       "\n",
       "[20640 rows x 8 columns]"
      ]
     },
     "execution_count": 15,
     "metadata": {},
     "output_type": "execute_result"
    }
   ],
   "source": [
    "X"
   ]
  },
  {
   "cell_type": "code",
   "execution_count": 16,
   "id": "9af3653c",
   "metadata": {},
   "outputs": [
    {
     "data": {
      "text/plain": [
       "0        1\n",
       "1        1\n",
       "2        1\n",
       "3        1\n",
       "4        1\n",
       "        ..\n",
       "20635    0\n",
       "20636    0\n",
       "20637    0\n",
       "20638    0\n",
       "20639    0\n",
       "Name: Price, Length: 20640, dtype: int64"
      ]
     },
     "execution_count": 16,
     "metadata": {},
     "output_type": "execute_result"
    }
   ],
   "source": [
    "y"
   ]
  },
  {
   "cell_type": "markdown",
   "id": "6fa59786",
   "metadata": {},
   "source": [
    "### 7.2 Train-Test-Split"
   ]
  },
  {
   "cell_type": "code",
   "execution_count": 17,
   "id": "50d4d380",
   "metadata": {},
   "outputs": [],
   "source": [
    "from sklearn.model_selection import train_test_split\n",
    "\n",
    "# Split the data into training and testing datasets\n",
    "X_train, X_test, y_train, y_test = train_test_split(X, y, test_size=0.2, random_state=42)"
   ]
  },
  {
   "cell_type": "markdown",
   "id": "4c61aff9",
   "metadata": {},
   "source": [
    "### 7.3 Standardisation of the Data"
   ]
  },
  {
   "cell_type": "code",
   "execution_count": 18,
   "id": "ab420450",
   "metadata": {},
   "outputs": [
    {
     "name": "stdout",
     "output_type": "stream",
     "text": [
      "X_train_scaled shape: (16512, 8)\n",
      "X_test_scaled shape: (4128, 8)\n",
      "y_train shape: (16512,)\n",
      "y_test shape: (4128,)\n"
     ]
    }
   ],
   "source": [
    "from sklearn.preprocessing import StandardScaler\n",
    "\n",
    "# Standardize the training and testing datasets\n",
    "scaler = StandardScaler()\n",
    "X_train_scaled = scaler.fit_transform(X_train)\n",
    "X_test_scaled = scaler.transform(X_test)\n",
    "\n",
    "# Print the shapes of the scaled datasets\n",
    "print(\"X_train_scaled shape:\", X_train_scaled.shape)\n",
    "print(\"X_test_scaled shape:\", X_test_scaled.shape)\n",
    "print(\"y_train shape:\", y_train.shape)\n",
    "print(\"y_test shape:\", y_test.shape)"
   ]
  },
  {
   "cell_type": "markdown",
   "id": "abff2fa8",
   "metadata": {},
   "source": [
    "## 8. Model Performance Comparison"
   ]
  },
  {
   "cell_type": "code",
   "execution_count": 31,
   "id": "4894c398",
   "metadata": {},
   "outputs": [],
   "source": [
    "from sklearn.datasets import fetch_california_housing\n",
    "from sklearn.model_selection import train_test_split\n",
    "from sklearn.tree import DecisionTreeRegressor\n",
    "from sklearn.ensemble import RandomForestClassifier\n",
    "from sklearn.svm import SVC\n",
    "from sklearn.neighbors import KNeighborsClassifier\n",
    "from sklearn.linear_model import LinearRegression\n",
    "from sklearn.neural_network import MLPRegressor\n",
    "from sklearn.metrics import accuracy_score\n"
   ]
  },
  {
   "cell_type": "markdown",
   "id": "8d0beb4a",
   "metadata": {},
   "source": [
    "Accuracy is typically used as an evaluation metric for classification tasks, rather than regression tasks. Since the target variable in the California housing dataset represents continuous values for housing prices, calculating accuracy for regression models wouldn't be meaningful. However, we can use a different metric, such as the coefficient of determination (R^2 score), to assess the performance of the regression models."
   ]
  },
  {
   "cell_type": "markdown",
   "id": "cc32eb14",
   "metadata": {},
   "source": [
    "### 8.1 Decision Tree"
   ]
  },
  {
   "cell_type": "code",
   "execution_count": 32,
   "id": "37e29944",
   "metadata": {},
   "outputs": [
    {
     "name": "stdout",
     "output_type": "stream",
     "text": [
      "Accuracy: 0.8420542635658915\n"
     ]
    }
   ],
   "source": [
    "from sklearn.tree import DecisionTreeClassifier\n",
    "\n",
    "# Creating the Decision Tree classifier\n",
    "clf = DecisionTreeClassifier()\n",
    "\n",
    "# Fitting the model on the training data\n",
    "clf.fit(X_train, y_train)\n",
    "\n",
    "# Predicting the target variable for the test data\n",
    "y_pred = clf.predict(X_test)\n",
    "\n",
    "# Evaluating the model's accuracy\n",
    "dt_accuracy = accuracy_score(y_test, y_pred)\n",
    "print(\"Accuracy:\", dt_accuracy)"
   ]
  },
  {
   "cell_type": "markdown",
   "id": "fbaf8f89",
   "metadata": {},
   "source": [
    "### 8.2 Random Forest"
   ]
  },
  {
   "cell_type": "code",
   "execution_count": 33,
   "id": "f18e037e",
   "metadata": {},
   "outputs": [
    {
     "name": "stdout",
     "output_type": "stream",
     "text": [
      "Accuracy: 0.8946220930232558\n"
     ]
    }
   ],
   "source": [
    "# Create a Random Forest classifier object\n",
    "rf_classifier = RandomForestClassifier()\n",
    "\n",
    "# Train the classifier using the training data\n",
    "rf_classifier.fit(X_train, y_train)\n",
    "\n",
    "# Make predictions on the testing/validation set\n",
    "y_pred = rf_classifier.predict(X_test)\n",
    "\n",
    "# Evaluate the accuracy of the model\n",
    "rf_accuracy = accuracy_score(y_test, y_pred)\n",
    "print(\"Accuracy:\", rf_accuracy)"
   ]
  },
  {
   "cell_type": "markdown",
   "id": "f8e4d20b",
   "metadata": {},
   "source": [
    "### 8.3 Support Vector Machine (SVM)"
   ]
  },
  {
   "cell_type": "code",
   "execution_count": 34,
   "id": "46c060a4",
   "metadata": {},
   "outputs": [
    {
     "name": "stdout",
     "output_type": "stream",
     "text": [
      "SVM Accuracy: 0.5179263565891473\n"
     ]
    }
   ],
   "source": [
    "# Create an SVM classifier object\n",
    "svm_classifier = SVC()\n",
    "\n",
    "# Train the classifier using the training data\n",
    "svm_classifier.fit(X_train, y_train)\n",
    "\n",
    "# Make predictions on the testing/validation set\n",
    "y_pred = svm_classifier.predict(X_test)\n",
    "\n",
    "# Evaluate the accuracy of the model\n",
    "svm_accuracy = accuracy_score(y_test, y_pred)\n",
    "print(\"SVM Accuracy:\", svm_accuracy)"
   ]
  },
  {
   "cell_type": "markdown",
   "id": "196d7cdf",
   "metadata": {},
   "source": [
    "### 8.4 K-Nearest Neighbours (KNN)"
   ]
  },
  {
   "cell_type": "code",
   "execution_count": 35,
   "id": "2fed66bc",
   "metadata": {},
   "outputs": [
    {
     "name": "stdout",
     "output_type": "stream",
     "text": [
      "KNN Accuracy: 0.6022286821705426\n"
     ]
    }
   ],
   "source": [
    "# Create a K-Nearest Neighbors classifier object\n",
    "knn_classifier = KNeighborsClassifier()\n",
    "\n",
    "# Train the classifier using the training data\n",
    "knn_classifier.fit(X_train, y_train)\n",
    "\n",
    "# Make predictions on the testing/validation set\n",
    "y_pred = knn_classifier.predict(X_test)\n",
    "\n",
    "# Evaluate the accuracy of the model\n",
    "knn_accuracy = accuracy_score(y_test, y_pred)\n",
    "print(\"KNN Accuracy:\", knn_accuracy)"
   ]
  },
  {
   "cell_type": "markdown",
   "id": "9a107237",
   "metadata": {},
   "source": [
    "## 9. Result Dataframe"
   ]
  },
  {
   "cell_type": "markdown",
   "id": "c878bc3f",
   "metadata": {},
   "source": [
    "### 9.1 Accuracy Comparison\n"
   ]
  },
  {
   "cell_type": "code",
   "execution_count": 36,
   "id": "31b683a0",
   "metadata": {},
   "outputs": [
    {
     "data": {
      "text/html": [
       "<div>\n",
       "<style scoped>\n",
       "    .dataframe tbody tr th:only-of-type {\n",
       "        vertical-align: middle;\n",
       "    }\n",
       "\n",
       "    .dataframe tbody tr th {\n",
       "        vertical-align: top;\n",
       "    }\n",
       "\n",
       "    .dataframe thead th {\n",
       "        text-align: right;\n",
       "    }\n",
       "</style>\n",
       "<table border=\"1\" class=\"dataframe\">\n",
       "  <thead>\n",
       "    <tr style=\"text-align: right;\">\n",
       "      <th></th>\n",
       "      <th>Accuracy</th>\n",
       "    </tr>\n",
       "  </thead>\n",
       "  <tbody>\n",
       "    <tr>\n",
       "      <th>Random Forest</th>\n",
       "      <td>0.894622</td>\n",
       "    </tr>\n",
       "    <tr>\n",
       "      <th>Decision Tree</th>\n",
       "      <td>0.842054</td>\n",
       "    </tr>\n",
       "    <tr>\n",
       "      <th>K-Nearest Neighbors</th>\n",
       "      <td>0.602229</td>\n",
       "    </tr>\n",
       "    <tr>\n",
       "      <th>Support Vector Machine</th>\n",
       "      <td>0.517926</td>\n",
       "    </tr>\n",
       "  </tbody>\n",
       "</table>\n",
       "</div>"
      ],
      "text/plain": [
       "                        Accuracy\n",
       "Random Forest           0.894622\n",
       "Decision Tree           0.842054\n",
       "K-Nearest Neighbors     0.602229\n",
       "Support Vector Machine  0.517926"
      ]
     },
     "execution_count": 36,
     "metadata": {},
     "output_type": "execute_result"
    }
   ],
   "source": [
    "finalleaderboard = {\n",
    "    'Decision Tree': dt_accuracy,\n",
    "    'Random Forest': rf_accuracy,\n",
    "    'Support Vector Machine': svm_accuracy,\n",
    "    'K-Nearest Neighbors': knn_accuracy\n",
    "}\n",
    "\n",
    "finalleaderboard = pd.DataFrame.from_dict(finalleaderboard, orient='index', columns=['Accuracy'])\n",
    "finalleaderboard = finalleaderboard.sort_values('Accuracy', ascending=False)\n",
    "finalleaderboard"
   ]
  }
 ],
 "metadata": {
  "kernelspec": {
   "display_name": "Python 3 (ipykernel)",
   "language": "python",
   "name": "python3"
  },
  "language_info": {
   "codemirror_mode": {
    "name": "ipython",
    "version": 3
   },
   "file_extension": ".py",
   "mimetype": "text/x-python",
   "name": "python",
   "nbconvert_exporter": "python",
   "pygments_lexer": "ipython3",
   "version": "3.9.12"
  }
 },
 "nbformat": 4,
 "nbformat_minor": 5
}
