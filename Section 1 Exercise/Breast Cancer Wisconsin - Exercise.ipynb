{
 "cells": [
  {
   "cell_type": "markdown",
   "id": "fb479025",
   "metadata": {},
   "source": [
    "# Breast Cancer Diagnosis using Machine Learning"
   ]
  },
  {
   "cell_type": "markdown",
   "id": "067afa28",
   "metadata": {},
   "source": [
    "## 1. Background"
   ]
  },
  {
   "cell_type": "markdown",
   "id": "97150d78",
   "metadata": {},
   "source": [
    "### 1.1 Dataset"
   ]
  },
  {
   "cell_type": "markdown",
   "id": "f20e8dc7",
   "metadata": {},
   "source": [
    "The breast cancer dataset is a widely recognized and frequently used dataset in the field of machine learning and medical research. It is included in the scikit-learn library, a popular Python library for machine learning tasks. The dataset provides valuable information extracted from digitized images of fine needle aspirates (FNA) of breast masses, aiding in the diagnosis and classification of breast cancer tumors.\n",
    "\n",
    "Comprising a total of 569 instances, this dataset offers a rich collection of features that describe various characteristics of cell nuclei present in the breast images. These features have been carefully computed from the images and encompass essential attributes such as radius, texture, perimeter, area, smoothness, compactness, concavity, concave points, symmetry, and fractal dimension.\n",
    "\n",
    "For each instance, 30 numeric features are available, providing insights into the nature and composition of the breast mass. These features are further categorized into three groups: mean, standard error, and worst, representing the mean value, standard error value, and the worst (mean of the three largest values) value of each attribute, respectively.\n",
    "\n",
    "Accompanying the comprehensive feature set, the breast cancer dataset also includes a binary target variable. This target variable serves as the ground truth for classification tasks, with a value of 0 indicating a benign tumor and a value of 1 indicating a malignant tumor.\n",
    "\n",
    "The breast cancer dataset serves as a valuable resource for researchers, data scientists, and medical professionals aiming to develop robust machine learning models for breast cancer diagnosis. It enables the exploration of various classification algorithms, feature selection techniques, and model evaluation strategies, fostering advancements in the field of medical diagnostics and contributing to the early detection and treatment of breast cancer."
   ]
  },
  {
   "cell_type": "markdown",
   "id": "15e808a3",
   "metadata": {},
   "source": [
    "### 1.2 Introduction"
   ]
  },
  {
   "cell_type": "markdown",
   "id": "1e120e75",
   "metadata": {},
   "source": [
    "Objective: The objective of this project is to develop a machine learning model that can accurately classify breast tumors as benign or malignant based on the provided dataset. By leveraging the breast cancer dataset from the sklearn.datasets module, we aim to create a predictive model that can assist in the early detection and diagnosis of breast cancer."
   ]
  },
  {
   "cell_type": "markdown",
   "id": "068f7e0e",
   "metadata": {},
   "source": [
    "## 2. Preparation"
   ]
  },
  {
   "cell_type": "markdown",
   "id": "37b967ea",
   "metadata": {},
   "source": [
    "In this section, you will be doing:\n",
    "1. Load the breast cancer dataset using the sklearn.datasets module.\n",
    "2. Understand the structure and characteristics of the dataset.\n",
    "3. Explore the features and their distributions."
   ]
  },
  {
   "cell_type": "markdown",
   "id": "dfc3dcbb",
   "metadata": {},
   "source": [
    "### 1.1 Import library"
   ]
  },
  {
   "cell_type": "code",
   "execution_count": null,
   "id": "1b8bd918",
   "metadata": {},
   "outputs": [],
   "source": [
    "import numpy as np\n",
    "import pandas as pd\n",
    "import matplotlib.pyplot as plt\n",
    "from sklearn.datasets import load_breast_cancer\n",
    "import seaborn as sns\n",
    "\n",
    "plt.style.use('ggplot')"
   ]
  },
  {
   "cell_type": "markdown",
   "id": "110578d7",
   "metadata": {},
   "source": [
    "### 1.2 Load Dataset"
   ]
  },
  {
   "cell_type": "code",
   "execution_count": null,
   "id": "311f72d1",
   "metadata": {},
   "outputs": [],
   "source": [
    "# Load the breast cancer dataset\n",
    "data = \n",
    "\n",
    "# Access the features (X) and target variable (y)\n",
    "X = \n",
    "y = "
   ]
  },
  {
   "cell_type": "code",
   "execution_count": null,
   "id": "68092831",
   "metadata": {},
   "outputs": [],
   "source": [
    "# Print the shape of the dataset\n",
    "print(\"Shape of X:\",)\n",
    "print(\"Shape of y:\",)"
   ]
  },
  {
   "cell_type": "code",
   "execution_count": null,
   "id": "70d6d172",
   "metadata": {},
   "outputs": [],
   "source": [
    "print(data.feature_names)\n",
    "print()\n",
    "print(data.target_names)"
   ]
  },
  {
   "cell_type": "markdown",
   "id": "59fb7718",
   "metadata": {},
   "source": [
    "### 1.3 Dataframe Creation"
   ]
  },
  {
   "cell_type": "code",
   "execution_count": null,
   "id": "fb826e4b",
   "metadata": {},
   "outputs": [],
   "source": [
    "# Create a dataframe\n",
    "df =\n",
    "\n",
    "# Add the target variable to the dataframe\n",
    "df['target'] = \n",
    "\n",
    "# Print the first few rows of the dataframe\n",
    "df.head()"
   ]
  },
  {
   "cell_type": "code",
   "execution_count": null,
   "id": "587ad703",
   "metadata": {},
   "outputs": [],
   "source": [
    "df.info()"
   ]
  },
  {
   "cell_type": "code",
   "execution_count": null,
   "id": "e5b1573e",
   "metadata": {},
   "outputs": [],
   "source": [
    "df.describe()"
   ]
  },
  {
   "cell_type": "markdown",
   "id": "2386e71a",
   "metadata": {},
   "source": [
    "The breast cancer dataset from scikit-learn contains information about various features computed from digitized images of breast mass aspirates. Here's some information about the dataset:\n",
    "\n",
    "1. Number of Instances: 569\n",
    "2. Number of Features: 30 (including the target variable)\n",
    "The features in the dataset are computed from a digitized image of a fine needle aspirate (FNA) of a breast mass. These features are computed from the images and describe various characteristics of the cell nuclei present in the image. The features include:\n",
    "\n",
    "1. Mean radius\n",
    "2. Mean texture\n",
    "3. Mean perimeter\n",
    "4. Mean area\n",
    "5. Mean smoothness\n",
    "6. Mean compactness\n",
    "7. Mean concavity\n",
    "8. Mean concave points\n",
    "9. Mean symmetry\n",
    "10. Mean fractal dimension\n",
    "For each of these ten features, three measures are available: mean, standard error, and \"worst\" or largest (mean of the three largest values). This results in a total of 30 features.\n",
    "\n",
    "The target variable in the dataset represents the class label and indicates whether the breast mass is classified as malignant (cancerous) or benign (non-cancerous). The target variable has two classes:\n",
    "\n",
    "0: Benign\n",
    "1: Malignant"
   ]
  },
  {
   "cell_type": "markdown",
   "id": "d5b66112",
   "metadata": {},
   "source": [
    "## 2. Data Visualization"
   ]
  },
  {
   "cell_type": "markdown",
   "id": "5205dd0b",
   "metadata": {},
   "source": [
    "### 2.1 Distribution of Benign and Malignant Breast Cancer Cases."
   ]
  },
  {
   "cell_type": "code",
   "execution_count": null,
   "id": "e064ee1c",
   "metadata": {},
   "outputs": [],
   "source": [
    "# Count the occurrences of each target value\n",
    "target_counts = \n",
    "\n",
    "# Define the colors for the bars\n",
    "colors = \n",
    "\n",
    "# Create a bar plot with custom colors\n",
    "\n",
    "plt.show()"
   ]
  },
  {
   "cell_type": "markdown",
   "id": "1a43ca44",
   "metadata": {},
   "source": [
    "### 2.2 Relationship Between Selected Features and Target Variable (Benign vs. Malignant)."
   ]
  },
  {
   "cell_type": "code",
   "execution_count": null,
   "id": "43a83d9e",
   "metadata": {},
   "outputs": [],
   "source": [
    "# Select a subset of features for visualization\n",
    "subset_features = \n",
    "\n",
    "# Create a pairwise scatter plot\n",
    "\n",
    "plt.show()"
   ]
  },
  {
   "cell_type": "markdown",
   "id": "b1e636dc",
   "metadata": {},
   "source": [
    "## 3. Data Cleaning"
   ]
  },
  {
   "cell_type": "markdown",
   "id": "a06ae292",
   "metadata": {},
   "source": [
    "### 3.1 Checking for Missing Values"
   ]
  },
  {
   "cell_type": "code",
   "execution_count": null,
   "id": "bd58e3bf",
   "metadata": {},
   "outputs": [],
   "source": []
  },
  {
   "cell_type": "markdown",
   "id": "6e2914b5",
   "metadata": {},
   "source": [
    "### 3.2 Checking for outliers in our dataset"
   ]
  },
  {
   "cell_type": "code",
   "execution_count": null,
   "id": "894553b0",
   "metadata": {},
   "outputs": [],
   "source": [
    "# Select a subset of features for visualization\n",
    "subset_features = \n",
    "\n",
    "# Create box plots for each feature\n",
    "\n",
    "plt.show()"
   ]
  },
  {
   "cell_type": "markdown",
   "id": "bddfcf9b",
   "metadata": {},
   "source": [
    "The dataset does not contain any missing values, eliminating the need for imputation or handling of missing data. As outliers can provide valuable insights into the data, we have decided not to remove them. Retaining outliers allows us to capture extreme or unique observations that may contribute to a comprehensive analysis, providing a more accurate representation of the breast cancer dataset."
   ]
  },
  {
   "cell_type": "markdown",
   "id": "d943a120",
   "metadata": {},
   "source": [
    "## 4. Feature Correlation"
   ]
  },
  {
   "cell_type": "markdown",
   "id": "7afe10b4",
   "metadata": {},
   "source": [
    "### 4.1 Finding the correlation between features"
   ]
  },
  {
   "cell_type": "code",
   "execution_count": null,
   "id": "0c9d3e99",
   "metadata": {},
   "outputs": [],
   "source": [
    "featureMeans = "
   ]
  },
  {
   "cell_type": "code",
   "execution_count": null,
   "id": "f88a4ddf",
   "metadata": {},
   "outputs": [],
   "source": [
    "import seaborn as sns\n"
   ]
  },
  {
   "cell_type": "markdown",
   "id": "41c7444c",
   "metadata": {},
   "source": [
    "### 4.2 Heatmap"
   ]
  },
  {
   "cell_type": "code",
   "execution_count": null,
   "id": "d561953a",
   "metadata": {},
   "outputs": [],
   "source": []
  },
  {
   "cell_type": "markdown",
   "id": "43a397a9",
   "metadata": {},
   "source": [
    "## 5. Data Encoding"
   ]
  },
  {
   "cell_type": "markdown",
   "id": "f98ba53b",
   "metadata": {},
   "source": [
    "No data encoding is required for the breast cancer dataset as it already contains numeric features and the target variable is represented by integers."
   ]
  },
  {
   "cell_type": "markdown",
   "id": "7cac641b",
   "metadata": {},
   "source": [
    "## 6. Model Performance Comparison - Preparation"
   ]
  },
  {
   "cell_type": "markdown",
   "id": "14dd64c3",
   "metadata": {},
   "source": [
    "### 6.1 Division of Dataset into Target and Training Data"
   ]
  },
  {
   "cell_type": "code",
   "execution_count": null,
   "id": "182bda22",
   "metadata": {},
   "outputs": [],
   "source": [
    "# Split the data into features (X) and target variable (y)\n",
    "X = \n",
    "y = "
   ]
  },
  {
   "cell_type": "markdown",
   "id": "03f7ee37",
   "metadata": {},
   "source": [
    "### 6.2 Standardisation of the Data"
   ]
  },
  {
   "cell_type": "code",
   "execution_count": null,
   "id": "84dfb8a6",
   "metadata": {},
   "outputs": [],
   "source": [
    "# Standardize the feature variables\n",
    "scaler = \n",
    "X_scaled = "
   ]
  },
  {
   "cell_type": "markdown",
   "id": "582c908f",
   "metadata": {},
   "source": [
    "### 6.3 Train-Test-Split"
   ]
  },
  {
   "cell_type": "code",
   "execution_count": null,
   "id": "8b9384a0",
   "metadata": {},
   "outputs": [],
   "source": [
    "# Split the data into training and test sets\n",
    "from sklearn.model_selection import train_test_split\n"
   ]
  },
  {
   "cell_type": "markdown",
   "id": "38f29de7",
   "metadata": {},
   "source": [
    "## 7. Model Performance Comparison"
   ]
  },
  {
   "cell_type": "markdown",
   "id": "3cd0c094",
   "metadata": {},
   "source": [
    "### 7.1 Decision Tree"
   ]
  },
  {
   "cell_type": "code",
   "execution_count": null,
   "id": "36e81b97",
   "metadata": {},
   "outputs": [],
   "source": [
    "from sklearn.metrics import accuracy_score\n",
    "from sklearn.tree import DecisionTreeClassifier\n",
    "\n",
    "# Create a decision tree classifier\n",
    "\n",
    "# Fit the model to the training data\n",
    "\n",
    "# Make predictions on the test set\n",
    "\n",
    "# Calculate the accuracy of the model\n",
    "print(\"Accuracy:\", dt_accuracy)"
   ]
  },
  {
   "cell_type": "markdown",
   "id": "e0959c5c",
   "metadata": {},
   "source": [
    "### 7.2 Random Forest"
   ]
  },
  {
   "cell_type": "code",
   "execution_count": null,
   "id": "6577702d",
   "metadata": {},
   "outputs": [],
   "source": [
    "from sklearn.ensemble import RandomForestClassifier\n",
    "\n",
    "# Create a random forest classifier\n",
    "\n",
    "# Fit the model to the standardized training data\n",
    "\n",
    "# Make predictions on the standardized test set\n",
    "\n",
    "# Calculate the accuracy of the model\n"
   ]
  },
  {
   "cell_type": "markdown",
   "id": "92b9814f",
   "metadata": {},
   "source": [
    "### 7.3 Support Vector Machine (SVM)"
   ]
  },
  {
   "cell_type": "code",
   "execution_count": null,
   "id": "f3b0cc6a",
   "metadata": {},
   "outputs": [],
   "source": [
    "from sklearn.svm import SVC\n",
    "\n",
    "# Create an SVM classifier\n",
    "\n",
    "# Fit the model to the standardized training data\n",
    "\n",
    "# Make predictions on the standardized test set\n",
    "\n",
    "# Calculate the accuracy of the model\n"
   ]
  },
  {
   "cell_type": "markdown",
   "id": "1571416f",
   "metadata": {},
   "source": [
    "### 7.4 K-Nearest Neighbours (KNN)"
   ]
  },
  {
   "cell_type": "code",
   "execution_count": null,
   "id": "5ebfecd9",
   "metadata": {},
   "outputs": [],
   "source": [
    "from sklearn.neighbors import KNeighborsClassifier\n",
    "\n",
    "# Create a KNN classifier\n",
    "\n",
    "# Fit the model to the standardized training data\n",
    "\n",
    "# Make predictions on the standardized test set\n",
    "\n",
    "# Calculate the accuracy of the model\n"
   ]
  },
  {
   "cell_type": "markdown",
   "id": "204ecade",
   "metadata": {},
   "source": [
    "### 7.5 Naive Bayes"
   ]
  },
  {
   "cell_type": "code",
   "execution_count": null,
   "id": "b6c8313b",
   "metadata": {},
   "outputs": [],
   "source": [
    "from sklearn.naive_bayes import GaussianNB\n",
    "\n",
    "# Create a Naive Bayes classifier\n",
    "\n",
    "# Fit the model to the standardized training data\n",
    "\n",
    "# Make predictions on the standardized test set\n",
    "\n",
    "# Calculate the accuracy of the model\n"
   ]
  },
  {
   "cell_type": "markdown",
   "id": "863cab10",
   "metadata": {},
   "source": [
    "## 8. Result Dataframe"
   ]
  },
  {
   "cell_type": "markdown",
   "id": "25e81943",
   "metadata": {},
   "source": [
    "### 8.1 Accuracy Comparison\n"
   ]
  },
  {
   "cell_type": "code",
   "execution_count": null,
   "id": "e70f5b66",
   "metadata": {},
   "outputs": [],
   "source": [
    "finalleaderboard = {\n",
    "    'Decision Tree': dt_accuracy,\n",
    "    'Random Forest': rf_accuracy,\n",
    "    'Support Vector Machine': svm_accuracy,\n",
    "    'K-Nearest Neighbors': knn_accuracy,\n",
    "    'Naive Bayes': nb_accuracy,\n",
    "}\n",
    "\n",
    "finalleaderboard = pd.DataFrame.from_dict(finalleaderboard, orient='index', columns=['Accuracy'])\n",
    "finalleaderboard = finalleaderboard.sort_values('Accuracy', ascending=False)\n",
    "finalleaderboard"
   ]
  }
 ],
 "metadata": {
  "kernelspec": {
   "display_name": "Python 3 (ipykernel)",
   "language": "python",
   "name": "python3"
  },
  "language_info": {
   "codemirror_mode": {
    "name": "ipython",
    "version": 3
   },
   "file_extension": ".py",
   "mimetype": "text/x-python",
   "name": "python",
   "nbconvert_exporter": "python",
   "pygments_lexer": "ipython3",
   "version": "3.9.12"
  }
 },
 "nbformat": 4,
 "nbformat_minor": 5
}
