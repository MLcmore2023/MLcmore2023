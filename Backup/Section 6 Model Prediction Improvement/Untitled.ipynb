{
 "cells": [
  {
   "cell_type": "code",
   "execution_count": 2,
   "id": "3a64c9ef",
   "metadata": {},
   "outputs": [
    {
     "data": {
      "image/png": "[encoded data removed]",
      "text/plain": [
       "<Figure size 720x720 with 5 Axes>"
      ]
     },
     "metadata": {
      "needs_background": "light"
     },
     "output_type": "display_data"
    },
    {
     "data": {
      "image/png": "[encoded data removed]",
      "text/plain": [
       "<Figure size 720x720 with 5 Axes>"
      ]
     },
     "metadata": {
      "needs_background": "light"
     },
     "output_type": "display_data"
    },
    {
     "name": "stdout",
     "output_type": "stream",
     "text": [
      "Cross-Validation Scores: [0.98347826 0.98347826 0.97304348 0.97913043 0.97826087]\n",
      "Test Accuracy (Best Model): 0.980528511821975\n",
      "Test Accuracy (Bagging Model): 0.9756606397774688\n",
      "Test Accuracy (Voting Model): 0.9735744089012517\n"
     ]
    }
   ],
   "source": [
    "import numpy as np\n",
    "import matplotlib.pyplot as plt\n",
    "from sklearn.datasets import load_digits\n",
    "from sklearn.model_selection import GridSearchCV, train_test_split, cross_val_score\n",
    "from sklearn.ensemble import RandomForestClassifier, BaggingClassifier, VotingClassifier\n",
    "from sklearn.metrics import accuracy_score\n",
    "\n",
    "# Load the digit dataset\n",
    "digits = load_digits()\n",
    "images = digits.images\n",
    "labels = digits.target\n",
    "\n",
    "# Data augmentation (optional)\n",
    "def augment_data(images, labels):\n",
    "    augmented_images = []\n",
    "    augmented_labels = []\n",
    "    for image, label in zip(images, labels):\n",
    "        augmented_images.append(image)\n",
    "        augmented_labels.append(label)\n",
    "\n",
    "        augmented_images.append(np.fliplr(image))\n",
    "        augmented_labels.append(label)\n",
    "\n",
    "        augmented_images.append(np.rot90(image, k=1))\n",
    "        augmented_labels.append(label)\n",
    "\n",
    "    return np.array(augmented_images), np.array(augmented_labels)\n",
    "\n",
    "augmented_images, augmented_labels = augment_data(images, labels)\n",
    "\n",
    "# Combine original and augmented data\n",
    "all_images = np.concatenate([images, augmented_images])\n",
    "all_labels = np.concatenate([labels, augmented_labels])\n",
    "\n",
    "# Visualize the original images and their augmented counterparts\n",
    "def plot_images(images, labels, rows, cols):\n",
    "    fig, axes = plt.subplots(rows, cols, figsize=(10, 10))\n",
    "    for i, ax in enumerate(axes.flat):\n",
    "        ax.imshow(images[i], cmap='gray')\n",
    "        ax.set_title(f\"Label: {labels[i]}\")\n",
    "        ax.axis('off')\n",
    "    plt.show()\n",
    "\n",
    "num_samples = 5  # Number of samples to visualize for each category\n",
    "original_images_sample = images[:num_samples]\n",
    "augmented_images_sample = augmented_images[:num_samples]\n",
    "\n",
    "plot_images(original_images_sample, labels[:num_samples], 1, num_samples)\n",
    "plot_images(augmented_images_sample, labels[:num_samples], 1, num_samples)\n",
    "\n",
    "# Split the data into training and test sets\n",
    "X_train, X_test, y_train, y_test = train_test_split(all_images, all_labels, test_size=0.2, random_state=42)\n",
    "\n",
    "# Model Selection and Hyperparameter Tuning\n",
    "param_grid = {\n",
    "    'n_estimators': [50, 100, 200],\n",
    "    'max_depth': [None, 10, 20],\n",
    "}\n",
    "\n",
    "rf_model = RandomForestClassifier()\n",
    "grid_search = GridSearchCV(rf_model, param_grid, cv=5)\n",
    "grid_search.fit(X_train.reshape(len(X_train), -1), y_train)\n",
    "best_model = grid_search.best_estimator_\n",
    "\n",
    "# Cross-Validation\n",
    "cross_val_scores = cross_val_score(best_model, X_train.reshape(len(X_train), -1), y_train, cv=5)\n",
    "\n",
    "# Regularization (adjusting max_depth)\n",
    "regularized_model = RandomForestClassifier(max_depth=10)  # You can adjust max_depth here\n",
    "regularized_model.fit(X_train.reshape(len(X_train), -1), y_train)\n",
    "\n",
    "# Ensemble Techniques (Bagging and Voting)\n",
    "bagging_model = BaggingClassifier(base_estimator=regularized_model, n_estimators=10, random_state=42)\n",
    "voting_model = VotingClassifier([('rf', regularized_model), ('bagging', bagging_model)])\n",
    "\n",
    "# Train the Bagging and Voting models on the entire training data\n",
    "bagging_model.fit(X_train.reshape(len(X_train), -1), y_train)\n",
    "voting_model.fit(X_train.reshape(len(X_train), -1), y_train)\n",
    "\n",
    "# Evaluate the Bagging and Voting models on the test set\n",
    "y_pred_bagging = bagging_model.predict(X_test.reshape(len(X_test), -1))\n",
    "y_pred_voting = voting_model.predict(X_test.reshape(len(X_test), -1))\n",
    "\n",
    "test_accuracy_bagging = accuracy_score(y_test, y_pred_bagging)\n",
    "test_accuracy_voting = accuracy_score(y_test, y_pred_voting)\n",
    "\n",
    "# Print results\n",
    "print(\"Cross-Validation Scores:\", cross_val_scores)\n",
    "print(\"Test Accuracy (Best Model):\", best_model.score(X_test.reshape(len(X_test), -1), y_test))\n",
    "print(\"Test Accuracy (Bagging Model):\", test_accuracy_bagging)\n",
    "print(\"Test Accuracy (Voting Model):\", test_accuracy_voting)\n"
   ]
  },
  {
   "cell_type": "code",
   "execution_count": null,
   "id": "90a3b697",
   "metadata": {},
   "outputs": [],
   "source": []
  }
 ],
 "metadata": {
  "kernelspec": {
   "display_name": "Python 3 (ipykernel)",
   "language": "python",
   "name": "python3"
  },
  "language_info": {
   "codemirror_mode": {
    "name": "ipython",
    "version": 3
   },
   "file_extension": ".py",
   "mimetype": "text/x-python",
   "name": "python",
   "nbconvert_exporter": "python",
   "pygments_lexer": "ipython3",
   "version": "3.9.12"
  }
 },
 "nbformat": 4,
 "nbformat_minor": 5
}
