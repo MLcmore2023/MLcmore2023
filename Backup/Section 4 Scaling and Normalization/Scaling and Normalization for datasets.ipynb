{
 "cells": [
  {
   "cell_type": "markdown",
   "id": "3f0738eb",
   "metadata": {},
   "source": [
    "# Scaling and Normalization for Datasets"
   ]
  },
  {
   "cell_type": "markdown",
   "id": "ffa1042f",
   "metadata": {},
   "source": [
    "# 1. Introduction"
   ]
  },
  {
   "cell_type": "markdown",
   "id": "25b50fe7",
   "metadata": {},
   "source": [
    "Scaling and normalization are two common techniques used to preprocess datasets in machine learning. They aim to transform the data into a more suitable range or distribution to improve the performance of certain algorithms. Let's explore each technique:"
   ]
  },
  {
   "cell_type": "markdown",
   "id": "6ed124db",
   "metadata": {},
   "source": [
    "### 1. Scaling:\n",
    "\n",
    "Scaling refers to the process of transforming the values of numerical features to a specific range, typically between 0 and 1 or -1 and 1. It helps to ensure that all features have a similar scale and prevents certain features from dominating others in the learning algorithm. Common scaling techniques include:\n",
    "\n",
    "- Min-max scaling (also known as normalization): It scales the data to a fixed range, usually between 0 and 1. The formula for min-max scaling is:\n",
    "\n",
    "**X_scaled = (X - X_min) / (X_max - X_min)**\n",
    "\n",
    "Where X is the original value, X_scaled is the scaled value, X_min is the minimum value in the dataset, and X_max is the maximum value in the dataset.\n",
    "\n",
    "- Standardization: It transforms the data to have zero mean and unit variance. The formula for standardization is:\n",
    "\n",
    "**X_scaled = (X - mean) / standard_deviation**\n",
    "\n",
    "Where X is the original value, X_scaled is the scaled value, mean is the mean of the dataset, and standard_deviation is the standard deviation of the dataset.\n",
    "\n",
    "- Robust scaling: It scales the data based on percentiles, making it robust to outliers. The formula for robust scaling is similar to standardization, but it uses the median and the interquartile range (IQR) instead of the mean and standard deviation."
   ]
  },
  {
   "cell_type": "markdown",
   "id": "d4c12aa0",
   "metadata": {},
   "source": [
    "### 2. Normalization:\n",
    "\n",
    "Normalization aims to transform the distribution of the data to a standard distribution, such as a Gaussian distribution (bell curve). It can be useful for algorithms that assume normally distributed data. Common normalization techniques include:\n",
    "\n",
    "- Z-score normalization (standardization): It transforms the data to have zero mean and unit variance, similar to the standardization technique mentioned in scaling.\n",
    "\n",
    "- Log transformation: It applies the logarithm function to the data, which can help to normalize skewed distributions.\n",
    "\n",
    "- Box-Cox transformation: It is a more general transformation that can handle different types of distributions. It applies a power transformation to the data, which can normalize skewed distributions and make them more Gaussian-like.\n",
    "\n",
    "Both scaling and normalization techniques can be applied to the entire dataset or specific features depending on the requirements of the problem. It's important to note that these preprocessing techniques should be applied to the training set and then applied consistently to the test or validation sets using the parameters (e.g., mean and standard deviation) calculated from the training set."
   ]
  },
  {
   "cell_type": "markdown",
   "id": "0f86bd62",
   "metadata": {},
   "source": [
    "# 2. Scaling Examples"
   ]
  },
  {
   "cell_type": "code",
   "execution_count": 2,
   "id": "b492fdc9",
   "metadata": {},
   "outputs": [],
   "source": [
    "import pandas as pd"
   ]
  },
  {
   "cell_type": "code",
   "execution_count": 4,
   "id": "62570060",
   "metadata": {},
   "outputs": [
    {
     "data": {
      "text/html": [
       "<div>\n",
       "<style scoped>\n",
       "    .dataframe tbody tr th:only-of-type {\n",
       "        vertical-align: middle;\n",
       "    }\n",
       "\n",
       "    .dataframe tbody tr th {\n",
       "        vertical-align: top;\n",
       "    }\n",
       "\n",
       "    .dataframe thead th {\n",
       "        text-align: right;\n",
       "    }\n",
       "</style>\n",
       "<table border=\"1\" class=\"dataframe\">\n",
       "  <thead>\n",
       "    <tr style=\"text-align: right;\">\n",
       "      <th></th>\n",
       "      <th>price</th>\n",
       "      <th>area</th>\n",
       "      <th>bedrooms</th>\n",
       "      <th>bathrooms</th>\n",
       "      <th>stories</th>\n",
       "      <th>mainroad</th>\n",
       "      <th>guestroom</th>\n",
       "      <th>basement</th>\n",
       "      <th>hotwaterheating</th>\n",
       "      <th>airconditioning</th>\n",
       "      <th>parking</th>\n",
       "      <th>prefarea</th>\n",
       "      <th>furnishingstatus</th>\n",
       "    </tr>\n",
       "  </thead>\n",
       "  <tbody>\n",
       "    <tr>\n",
       "      <th>0</th>\n",
       "      <td>13300000</td>\n",
       "      <td>7420</td>\n",
       "      <td>4</td>\n",
       "      <td>2</td>\n",
       "      <td>3</td>\n",
       "      <td>yes</td>\n",
       "      <td>no</td>\n",
       "      <td>no</td>\n",
       "      <td>no</td>\n",
       "      <td>yes</td>\n",
       "      <td>2</td>\n",
       "      <td>yes</td>\n",
       "      <td>furnished</td>\n",
       "    </tr>\n",
       "    <tr>\n",
       "      <th>1</th>\n",
       "      <td>12250000</td>\n",
       "      <td>8960</td>\n",
       "      <td>4</td>\n",
       "      <td>4</td>\n",
       "      <td>4</td>\n",
       "      <td>yes</td>\n",
       "      <td>no</td>\n",
       "      <td>no</td>\n",
       "      <td>no</td>\n",
       "      <td>yes</td>\n",
       "      <td>3</td>\n",
       "      <td>no</td>\n",
       "      <td>furnished</td>\n",
       "    </tr>\n",
       "    <tr>\n",
       "      <th>2</th>\n",
       "      <td>12250000</td>\n",
       "      <td>9960</td>\n",
       "      <td>3</td>\n",
       "      <td>2</td>\n",
       "      <td>2</td>\n",
       "      <td>yes</td>\n",
       "      <td>no</td>\n",
       "      <td>yes</td>\n",
       "      <td>no</td>\n",
       "      <td>no</td>\n",
       "      <td>2</td>\n",
       "      <td>yes</td>\n",
       "      <td>semi-furnished</td>\n",
       "    </tr>\n",
       "    <tr>\n",
       "      <th>3</th>\n",
       "      <td>12215000</td>\n",
       "      <td>7500</td>\n",
       "      <td>4</td>\n",
       "      <td>2</td>\n",
       "      <td>2</td>\n",
       "      <td>yes</td>\n",
       "      <td>no</td>\n",
       "      <td>yes</td>\n",
       "      <td>no</td>\n",
       "      <td>yes</td>\n",
       "      <td>3</td>\n",
       "      <td>yes</td>\n",
       "      <td>furnished</td>\n",
       "    </tr>\n",
       "    <tr>\n",
       "      <th>4</th>\n",
       "      <td>11410000</td>\n",
       "      <td>7420</td>\n",
       "      <td>4</td>\n",
       "      <td>1</td>\n",
       "      <td>2</td>\n",
       "      <td>yes</td>\n",
       "      <td>yes</td>\n",
       "      <td>yes</td>\n",
       "      <td>no</td>\n",
       "      <td>yes</td>\n",
       "      <td>2</td>\n",
       "      <td>no</td>\n",
       "      <td>furnished</td>\n",
       "    </tr>\n",
       "  </tbody>\n",
       "</table>\n",
       "</div>"
      ],
      "text/plain": [
       "      price  area  bedrooms  bathrooms  stories mainroad guestroom basement  \\\n",
       "0  13300000  7420         4          2        3      yes        no       no   \n",
       "1  12250000  8960         4          4        4      yes        no       no   \n",
       "2  12250000  9960         3          2        2      yes        no      yes   \n",
       "3  12215000  7500         4          2        2      yes        no      yes   \n",
       "4  11410000  7420         4          1        2      yes       yes      yes   \n",
       "\n",
       "  hotwaterheating airconditioning  parking prefarea furnishingstatus  \n",
       "0              no             yes        2      yes        furnished  \n",
       "1              no             yes        3       no        furnished  \n",
       "2              no              no        2      yes   semi-furnished  \n",
       "3              no             yes        3      yes        furnished  \n",
       "4              no             yes        2       no        furnished  "
      ]
     },
     "execution_count": 4,
     "metadata": {},
     "output_type": "execute_result"
    }
   ],
   "source": [
    "housing = pd.read_csv('Housing.csv')\n",
    "housing.head()"
   ]
  },
  {
   "cell_type": "markdown",
   "id": "d0946d04",
   "metadata": {},
   "source": [
    "This dataset of house prices has two features: \"area\" (in square feet) and \"number of bedrooms. In order to do Min-max scaling, we need to find the minimum and maximum values of the \"area\"."
   ]
  },
  {
   "cell_type": "code",
   "execution_count": 5,
   "id": "8abf76a9",
   "metadata": {},
   "outputs": [
    {
     "name": "stdout",
     "output_type": "stream",
     "text": [
      "Maximum value: 16200\n",
      "Minimum value: 1650\n"
     ]
    }
   ],
   "source": [
    "max_value = housing['area'].max()\n",
    "min_value = housing['area'].min()\n",
    "\n",
    "print(\"Maximum value:\", max_value)\n",
    "print(\"Minimum value:\", min_value)"
   ]
  },
  {
   "cell_type": "markdown",
   "id": "c174b514",
   "metadata": {},
   "source": [
    "In Pandas, you can apply a function to an entire column using the **apply()** method. The **apply()** method allows you to apply a function along either the rows or columns of a DataFrame or Series. Here's an example of how to map a function to an entire column in Pandas:"
   ]
  },
  {
   "cell_type": "code",
   "execution_count": 7,
   "id": "001bc3fb",
   "metadata": {},
   "outputs": [],
   "source": [
    "def min_max_scaling(x):\n",
    "    X_scaled = (x - 500) / (3000 - 500) = 0.5\n"
   ]
  },
  {
   "cell_type": "markdown",
   "id": "d285895c",
   "metadata": {},
   "source": [
    "# 3. Normalization Examples"
   ]
  },
  {
   "cell_type": "code",
   "execution_count": null,
   "id": "2bf0ddff",
   "metadata": {},
   "outputs": [],
   "source": []
  }
 ],
 "metadata": {
  "kernelspec": {
   "display_name": "Python 3 (ipykernel)",
   "language": "python",
   "name": "python3"
  },
  "language_info": {
   "codemirror_mode": {
    "name": "ipython",
    "version": 3
   },
   "file_extension": ".py",
   "mimetype": "text/x-python",
   "name": "python",
   "nbconvert_exporter": "python",
   "pygments_lexer": "ipython3",
   "version": "3.9.12"
  }
 },
 "nbformat": 4,
 "nbformat_minor": 5
}
