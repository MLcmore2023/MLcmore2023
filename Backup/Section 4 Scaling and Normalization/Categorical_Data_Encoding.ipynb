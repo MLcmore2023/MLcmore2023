{
 "cells": [
  {
   "cell_type": "markdown",
   "id": "f4a11939",
   "metadata": {},
   "source": [
    "# Categorical Data Encoding"
   ]
  },
  {
   "cell_type": "markdown",
   "id": "10c47c8f",
   "metadata": {},
   "source": [
    "## 1. Introduction and Preparation\n",
    "Encoding categorical data involves converting categorical variables into numerical representations to be used in machine learning or statistical models. This process assigns numerical values to categories, allowing the data to be processed effectively by algorithms that work with numerical inputs. Common encoding techniques include one-hot encoding, label encoding, ordinal encoding, target encoding, binary encoding, frequency encoding, and hash encoding. By encoding categorical data, we enable the incorporation of these variables into models and leverage the information they provide for analysis and predictions."
   ]
  },
  {
   "cell_type": "markdown",
   "id": "8f0b3622",
   "metadata": {},
   "source": [
    "There are several ways to encode categorical data, depending on the specific requirements and characteristics of the data. Here are some common methods for categorical data encoding:\n",
    "\n",
    "1. **One-Hot Encoding (Dummy Coding)**: This method creates binary columns for each category in the original variable. Each category is represented by a separate column, where a value of 1 indicates the presence of that category, and 0 indicates its absence. This approach is suitable when the categories are not ordinal.\n",
    "Example: Using **pd.get_dummies()** function in pandas or **OneHotEncoder** class in scikit-learn.\n",
    "Label Encoding:\n",
    "\n",
    "2. **Label encoding** assigns a unique numerical label to each category in the variable. Each category is replaced with an integer value. This method is useful for ordinal categorical variables where the order matters.\n",
    "Example: Using **LabelEncoder** class in scikit-learn.\n",
    "Ordinal Encoding:\n",
    "\n",
    "3. **Ordinal encoding** maps the categories to ordered numerical values based on a predefined order or mapping. It assigns integers to categories based on their relative order or specified mapping. This encoding is suitable for ordinal categorical variables.\n",
    "Example: Using a mapping dictionary or the OrdinalEncoder class in scikit-learn.\n",
    "Binary Encoding:\n",
    "\n",
    "4. **Binary encoding** represents each category with binary digits. It converts the categories into binary representations and uses a combination of 0s and 1s to encode the variables. This approach is suitable for variables with a large number of categories.\n",
    "Example: Using libraries like category_encoders or feature-engine.\n",
    "Frequency Encoding:\n",
    "\n",
    "5. **Frequency encoding** replaces each category with its frequency or proportion in the dataset. It assigns a numerical value based on the occurrence frequency of each category. This approach is useful when the frequency of categories is informative.\n",
    "Example: Manually calculating frequencies or using libraries like category_encoders.\n",
    "Hash Encoding:\n",
    "\n",
    "6. **Hash encoding** applies a hash function to the categories and assigns a fixed number of binary digits (hashes) to each category. It is useful for large categorical variables with high cardinality.\n",
    "Example: Using libraries like category_encoders or feature-engine.\n",
    "\n",
    "These are some common methods for encoding categorical data. The choice of encoding technique depends on the specific characteristics of the data, the nature of the categories, and the requirements of the analysis or modeling task."
   ]
  },
  {
   "cell_type": "code",
   "execution_count": 12,
   "id": "6f627870",
   "metadata": {},
   "outputs": [
    {
     "name": "stdout",
     "output_type": "stream",
     "text": [
      "Collecting category_encoders\n",
      "  Downloading category_encoders-2.6.1-py2.py3-none-any.whl (81 kB)\n",
      "\u001b[2K     \u001b[90m━━━━━━━━━━━━━━━━━━━━━━━━━━━━━━━━━━━━━━━━\u001b[0m \u001b[32m81.9/81.9 kB\u001b[0m \u001b[31m1.8 MB/s\u001b[0m eta \u001b[36m0:00:00\u001b[0m00:01\u001b[0m\n",
      "\u001b[?25hRequirement already satisfied: scipy>=1.0.0 in /Users/brucehaoyuli/opt/anaconda3/lib/python3.9/site-packages (from category_encoders) (1.7.3)\n",
      "Requirement already satisfied: numpy>=1.14.0 in /Users/brucehaoyuli/opt/anaconda3/lib/python3.9/site-packages (from category_encoders) (1.21.5)\n",
      "Requirement already satisfied: patsy>=0.5.1 in /Users/brucehaoyuli/opt/anaconda3/lib/python3.9/site-packages (from category_encoders) (0.5.2)\n",
      "Requirement already satisfied: scikit-learn>=0.20.0 in /Users/brucehaoyuli/opt/anaconda3/lib/python3.9/site-packages (from category_encoders) (1.0.2)\n",
      "Requirement already satisfied: statsmodels>=0.9.0 in /Users/brucehaoyuli/opt/anaconda3/lib/python3.9/site-packages (from category_encoders) (0.13.2)\n",
      "Requirement already satisfied: pandas>=1.0.5 in /Users/brucehaoyuli/opt/anaconda3/lib/python3.9/site-packages (from category_encoders) (1.4.2)\n",
      "Requirement already satisfied: python-dateutil>=2.8.1 in /Users/brucehaoyuli/opt/anaconda3/lib/python3.9/site-packages (from pandas>=1.0.5->category_encoders) (2.8.2)\n",
      "Requirement already satisfied: pytz>=2020.1 in /Users/brucehaoyuli/opt/anaconda3/lib/python3.9/site-packages (from pandas>=1.0.5->category_encoders) (2021.3)\n",
      "Requirement already satisfied: six in /Users/brucehaoyuli/opt/anaconda3/lib/python3.9/site-packages (from patsy>=0.5.1->category_encoders) (1.16.0)\n",
      "Requirement already satisfied: joblib>=0.11 in /Users/brucehaoyuli/opt/anaconda3/lib/python3.9/site-packages (from scikit-learn>=0.20.0->category_encoders) (1.1.0)\n",
      "Requirement already satisfied: threadpoolctl>=2.0.0 in /Users/brucehaoyuli/opt/anaconda3/lib/python3.9/site-packages (from scikit-learn>=0.20.0->category_encoders) (2.2.0)\n",
      "Requirement already satisfied: packaging>=21.3 in /Users/brucehaoyuli/opt/anaconda3/lib/python3.9/site-packages (from statsmodels>=0.9.0->category_encoders) (21.3)\n",
      "Requirement already satisfied: pyparsing!=3.0.5,>=2.0.2 in /Users/brucehaoyuli/opt/anaconda3/lib/python3.9/site-packages (from packaging>=21.3->statsmodels>=0.9.0->category_encoders) (3.0.4)\n",
      "Installing collected packages: category_encoders\n",
      "Successfully installed category_encoders-2.6.1\n",
      "\n",
      "\u001b[1m[\u001b[0m\u001b[34;49mnotice\u001b[0m\u001b[1;39;49m]\u001b[0m\u001b[39;49m A new release of pip available: \u001b[0m\u001b[31;49m22.3\u001b[0m\u001b[39;49m -> \u001b[0m\u001b[32;49m23.1.2\u001b[0m\n",
      "\u001b[1m[\u001b[0m\u001b[34;49mnotice\u001b[0m\u001b[1;39;49m]\u001b[0m\u001b[39;49m To update, run: \u001b[0m\u001b[32;49mpip install --upgrade pip\u001b[0m\n"
     ]
    }
   ],
   "source": [
    "import pandas as pd\n",
    "!pip install category_encoders\n"
   ]
  },
  {
   "cell_type": "markdown",
   "id": "f18aadc0",
   "metadata": {},
   "source": [
    "## 2. One-Hot Encoding (Dummy Coding)"
   ]
  },
  {
   "cell_type": "code",
   "execution_count": 2,
   "id": "616b904c",
   "metadata": {},
   "outputs": [],
   "source": [
    "# Create a DataFrame with the \"color\" column\n",
    "df = pd.DataFrame({'color': ['red', 'green', 'blue', 'red']})\n",
    "\n",
    "# Apply one-hot encoding\n",
    "one_hot_encoded = pd.get_dummies(df['color'])"
   ]
  },
  {
   "cell_type": "code",
   "execution_count": 3,
   "id": "a356bd96",
   "metadata": {},
   "outputs": [
    {
     "data": {
      "text/html": [
       "<div>\n",
       "<style scoped>\n",
       "    .dataframe tbody tr th:only-of-type {\n",
       "        vertical-align: middle;\n",
       "    }\n",
       "\n",
       "    .dataframe tbody tr th {\n",
       "        vertical-align: top;\n",
       "    }\n",
       "\n",
       "    .dataframe thead th {\n",
       "        text-align: right;\n",
       "    }\n",
       "</style>\n",
       "<table border=\"1\" class=\"dataframe\">\n",
       "  <thead>\n",
       "    <tr style=\"text-align: right;\">\n",
       "      <th></th>\n",
       "      <th>blue</th>\n",
       "      <th>green</th>\n",
       "      <th>red</th>\n",
       "    </tr>\n",
       "  </thead>\n",
       "  <tbody>\n",
       "    <tr>\n",
       "      <th>0</th>\n",
       "      <td>0</td>\n",
       "      <td>0</td>\n",
       "      <td>1</td>\n",
       "    </tr>\n",
       "    <tr>\n",
       "      <th>1</th>\n",
       "      <td>0</td>\n",
       "      <td>1</td>\n",
       "      <td>0</td>\n",
       "    </tr>\n",
       "    <tr>\n",
       "      <th>2</th>\n",
       "      <td>1</td>\n",
       "      <td>0</td>\n",
       "      <td>0</td>\n",
       "    </tr>\n",
       "    <tr>\n",
       "      <th>3</th>\n",
       "      <td>0</td>\n",
       "      <td>0</td>\n",
       "      <td>1</td>\n",
       "    </tr>\n",
       "  </tbody>\n",
       "</table>\n",
       "</div>"
      ],
      "text/plain": [
       "   blue  green  red\n",
       "0     0      0    1\n",
       "1     0      1    0\n",
       "2     1      0    0\n",
       "3     0      0    1"
      ]
     },
     "execution_count": 3,
     "metadata": {},
     "output_type": "execute_result"
    }
   ],
   "source": [
    "one_hot_encoded"
   ]
  },
  {
   "cell_type": "markdown",
   "id": "559d2e11",
   "metadata": {},
   "source": [
    "The resulting **one_hot_encoded** DataFrame will have three binary columns: \"color_red,\" \"color_green,\" and \"color_blue,\" where 1 indicates the presence of that color and 0 indicates its absence."
   ]
  },
  {
   "cell_type": "markdown",
   "id": "6cc68a0a",
   "metadata": {},
   "source": [
    "## 3. Label encoding"
   ]
  },
  {
   "cell_type": "code",
   "execution_count": 18,
   "id": "ffbfda53",
   "metadata": {},
   "outputs": [],
   "source": [
    "# Create a DataFrame with the \"color\" column\n",
    "df = pd.DataFrame({'color': ['red', 'green', 'blue', 'red']})\n",
    "\n",
    "# Apply label encoding\n",
    "from sklearn.preprocessing import LabelEncoder\n",
    "label_encoder = LabelEncoder()\n",
    "df['color_encoded'] = label_encoder.fit_transform(df['color'])"
   ]
  },
  {
   "cell_type": "code",
   "execution_count": 19,
   "id": "97a6d20e",
   "metadata": {},
   "outputs": [
    {
     "data": {
      "text/html": [
       "<div>\n",
       "<style scoped>\n",
       "    .dataframe tbody tr th:only-of-type {\n",
       "        vertical-align: middle;\n",
       "    }\n",
       "\n",
       "    .dataframe tbody tr th {\n",
       "        vertical-align: top;\n",
       "    }\n",
       "\n",
       "    .dataframe thead th {\n",
       "        text-align: right;\n",
       "    }\n",
       "</style>\n",
       "<table border=\"1\" class=\"dataframe\">\n",
       "  <thead>\n",
       "    <tr style=\"text-align: right;\">\n",
       "      <th></th>\n",
       "      <th>color</th>\n",
       "      <th>color_encoded</th>\n",
       "    </tr>\n",
       "  </thead>\n",
       "  <tbody>\n",
       "    <tr>\n",
       "      <th>0</th>\n",
       "      <td>red</td>\n",
       "      <td>2</td>\n",
       "    </tr>\n",
       "    <tr>\n",
       "      <th>1</th>\n",
       "      <td>green</td>\n",
       "      <td>1</td>\n",
       "    </tr>\n",
       "    <tr>\n",
       "      <th>2</th>\n",
       "      <td>blue</td>\n",
       "      <td>0</td>\n",
       "    </tr>\n",
       "    <tr>\n",
       "      <th>3</th>\n",
       "      <td>red</td>\n",
       "      <td>2</td>\n",
       "    </tr>\n",
       "  </tbody>\n",
       "</table>\n",
       "</div>"
      ],
      "text/plain": [
       "   color  color_encoded\n",
       "0    red              2\n",
       "1  green              1\n",
       "2   blue              0\n",
       "3    red              2"
      ]
     },
     "execution_count": 19,
     "metadata": {},
     "output_type": "execute_result"
    }
   ],
   "source": [
    "df"
   ]
  },
  {
   "cell_type": "markdown",
   "id": "81c5cec0",
   "metadata": {},
   "source": [
    "The resulting DataFrame will have an additional column named \"color_encoded\" that contains the encoded numerical values for each category: 2 for \"red,\" 1 for \"green,\" and 0 for \"blue.\""
   ]
  },
  {
   "cell_type": "markdown",
   "id": "537aba65",
   "metadata": {},
   "source": [
    "## 4. Ordinal encoding"
   ]
  },
  {
   "cell_type": "code",
   "execution_count": 6,
   "id": "f8bcf6a9",
   "metadata": {},
   "outputs": [],
   "source": [
    "# Create a DataFrame with the \"color\" column\n",
    "df = pd.DataFrame({'color': ['red', 'green', 'blue', 'red']})\n",
    "\n",
    "# Define the order of categories\n",
    "category_order = ['blue', 'green', 'red']\n",
    "\n",
    "# Apply ordinal encoding\n",
    "df['color_encoded'] = df['color'].apply(lambda x: category_order.index(x))"
   ]
  },
  {
   "cell_type": "code",
   "execution_count": 7,
   "id": "f9684401",
   "metadata": {},
   "outputs": [
    {
     "data": {
      "text/html": [
       "<div>\n",
       "<style scoped>\n",
       "    .dataframe tbody tr th:only-of-type {\n",
       "        vertical-align: middle;\n",
       "    }\n",
       "\n",
       "    .dataframe tbody tr th {\n",
       "        vertical-align: top;\n",
       "    }\n",
       "\n",
       "    .dataframe thead th {\n",
       "        text-align: right;\n",
       "    }\n",
       "</style>\n",
       "<table border=\"1\" class=\"dataframe\">\n",
       "  <thead>\n",
       "    <tr style=\"text-align: right;\">\n",
       "      <th></th>\n",
       "      <th>color</th>\n",
       "      <th>color_encoded</th>\n",
       "    </tr>\n",
       "  </thead>\n",
       "  <tbody>\n",
       "    <tr>\n",
       "      <th>0</th>\n",
       "      <td>red</td>\n",
       "      <td>2</td>\n",
       "    </tr>\n",
       "    <tr>\n",
       "      <th>1</th>\n",
       "      <td>green</td>\n",
       "      <td>1</td>\n",
       "    </tr>\n",
       "    <tr>\n",
       "      <th>2</th>\n",
       "      <td>blue</td>\n",
       "      <td>0</td>\n",
       "    </tr>\n",
       "    <tr>\n",
       "      <th>3</th>\n",
       "      <td>red</td>\n",
       "      <td>2</td>\n",
       "    </tr>\n",
       "  </tbody>\n",
       "</table>\n",
       "</div>"
      ],
      "text/plain": [
       "   color  color_encoded\n",
       "0    red              2\n",
       "1  green              1\n",
       "2   blue              0\n",
       "3    red              2"
      ]
     },
     "execution_count": 7,
     "metadata": {},
     "output_type": "execute_result"
    }
   ],
   "source": [
    "df"
   ]
  },
  {
   "cell_type": "markdown",
   "id": "e2a6cc28",
   "metadata": {},
   "source": [
    "The resulting DataFrame will have an additional column named \"color_encoded\" that contains the encoded numerical values based on the order of the categories: 2 for \"red,\" 1 for \"green,\" and 0 for \"blue.\""
   ]
  },
  {
   "cell_type": "markdown",
   "id": "eb2a655b",
   "metadata": {},
   "source": [
    "## 5. Target Encoding (Mean Encoding)"
   ]
  },
  {
   "cell_type": "code",
   "execution_count": 8,
   "id": "e1fa64e8",
   "metadata": {},
   "outputs": [],
   "source": [
    "# Create a DataFrame with the \"color\" and \"target\" columns\n",
    "df = pd.DataFrame({'color': ['red', 'green', 'blue', 'red'],\n",
    "                   'target': [1, 0, 1, 1]})\n",
    "\n",
    "# Calculate the mean target for each category\n",
    "mean_target = df.groupby('color')['target'].mean()\n",
    "\n",
    "# Apply target encoding\n",
    "df['color_encoded'] = df['color'].map(mean_target)"
   ]
  },
  {
   "cell_type": "code",
   "execution_count": 9,
   "id": "4b5b55d6",
   "metadata": {},
   "outputs": [
    {
     "data": {
      "text/html": [
       "<div>\n",
       "<style scoped>\n",
       "    .dataframe tbody tr th:only-of-type {\n",
       "        vertical-align: middle;\n",
       "    }\n",
       "\n",
       "    .dataframe tbody tr th {\n",
       "        vertical-align: top;\n",
       "    }\n",
       "\n",
       "    .dataframe thead th {\n",
       "        text-align: right;\n",
       "    }\n",
       "</style>\n",
       "<table border=\"1\" class=\"dataframe\">\n",
       "  <thead>\n",
       "    <tr style=\"text-align: right;\">\n",
       "      <th></th>\n",
       "      <th>color</th>\n",
       "      <th>target</th>\n",
       "      <th>color_encoded</th>\n",
       "    </tr>\n",
       "  </thead>\n",
       "  <tbody>\n",
       "    <tr>\n",
       "      <th>0</th>\n",
       "      <td>red</td>\n",
       "      <td>1</td>\n",
       "      <td>1.0</td>\n",
       "    </tr>\n",
       "    <tr>\n",
       "      <th>1</th>\n",
       "      <td>green</td>\n",
       "      <td>0</td>\n",
       "      <td>0.0</td>\n",
       "    </tr>\n",
       "    <tr>\n",
       "      <th>2</th>\n",
       "      <td>blue</td>\n",
       "      <td>1</td>\n",
       "      <td>1.0</td>\n",
       "    </tr>\n",
       "    <tr>\n",
       "      <th>3</th>\n",
       "      <td>red</td>\n",
       "      <td>1</td>\n",
       "      <td>1.0</td>\n",
       "    </tr>\n",
       "  </tbody>\n",
       "</table>\n",
       "</div>"
      ],
      "text/plain": [
       "   color  target  color_encoded\n",
       "0    red       1            1.0\n",
       "1  green       0            0.0\n",
       "2   blue       1            1.0\n",
       "3    red       1            1.0"
      ]
     },
     "execution_count": 9,
     "metadata": {},
     "output_type": "execute_result"
    }
   ],
   "source": [
    "df"
   ]
  },
  {
   "cell_type": "markdown",
   "id": "68cb674e",
   "metadata": {},
   "source": [
    "The resulting DataFrame will have an additional column named \"color_encoded\" that contains the mean target values for each category."
   ]
  },
  {
   "cell_type": "markdown",
   "id": "556592e9",
   "metadata": {},
   "source": [
    "## 6. Binary encoding"
   ]
  },
  {
   "cell_type": "code",
   "execution_count": 13,
   "id": "cfeb0649",
   "metadata": {},
   "outputs": [],
   "source": [
    "import category_encoders as ce\n",
    "\n",
    "# Create a DataFrame with the \"color\" column\n",
    "df = pd.DataFrame({'color': ['red', 'green', 'blue', 'red']})\n",
    "\n",
    "# Apply binary encoding\n",
    "binary_encoder = ce.BinaryEncoder(cols=['color'])\n",
    "df_encoded = binary_encoder.fit_transform(df)"
   ]
  },
  {
   "cell_type": "code",
   "execution_count": 14,
   "id": "e69f06ab",
   "metadata": {},
   "outputs": [
    {
     "data": {
      "text/html": [
       "<div>\n",
       "<style scoped>\n",
       "    .dataframe tbody tr th:only-of-type {\n",
       "        vertical-align: middle;\n",
       "    }\n",
       "\n",
       "    .dataframe tbody tr th {\n",
       "        vertical-align: top;\n",
       "    }\n",
       "\n",
       "    .dataframe thead th {\n",
       "        text-align: right;\n",
       "    }\n",
       "</style>\n",
       "<table border=\"1\" class=\"dataframe\">\n",
       "  <thead>\n",
       "    <tr style=\"text-align: right;\">\n",
       "      <th></th>\n",
       "      <th>color_0</th>\n",
       "      <th>color_1</th>\n",
       "    </tr>\n",
       "  </thead>\n",
       "  <tbody>\n",
       "    <tr>\n",
       "      <th>0</th>\n",
       "      <td>0</td>\n",
       "      <td>1</td>\n",
       "    </tr>\n",
       "    <tr>\n",
       "      <th>1</th>\n",
       "      <td>1</td>\n",
       "      <td>0</td>\n",
       "    </tr>\n",
       "    <tr>\n",
       "      <th>2</th>\n",
       "      <td>1</td>\n",
       "      <td>1</td>\n",
       "    </tr>\n",
       "    <tr>\n",
       "      <th>3</th>\n",
       "      <td>0</td>\n",
       "      <td>1</td>\n",
       "    </tr>\n",
       "  </tbody>\n",
       "</table>\n",
       "</div>"
      ],
      "text/plain": [
       "   color_0  color_1\n",
       "0        0        1\n",
       "1        1        0\n",
       "2        1        1\n",
       "3        0        1"
      ]
     },
     "execution_count": 14,
     "metadata": {},
     "output_type": "execute_result"
    }
   ],
   "source": [
    "df_encoded"
   ]
  },
  {
   "cell_type": "markdown",
   "id": "82a62dad",
   "metadata": {},
   "source": [
    "The resulting **df_encoded** DataFrame will have binary-encoded columns for the \"color\" variable."
   ]
  },
  {
   "cell_type": "markdown",
   "id": "b7f379d1",
   "metadata": {},
   "source": [
    "## 7. Frequency encoding"
   ]
  },
  {
   "cell_type": "code",
   "execution_count": 15,
   "id": "9b0d7ae6",
   "metadata": {},
   "outputs": [],
   "source": [
    "# Create a DataFrame with the \"color\" column\n",
    "df = pd.DataFrame({'color': ['red', 'green', 'blue', 'red']})\n",
    "\n",
    "# Calculate the frequency of each category\n",
    "frequency = df['color'].value_counts(normalize=True)\n",
    "\n",
    "# Apply frequency encoding\n",
    "df['color_encoded'] = df['color'].map(frequency)"
   ]
  },
  {
   "cell_type": "code",
   "execution_count": 16,
   "id": "5d515edd",
   "metadata": {},
   "outputs": [
    {
     "data": {
      "text/html": [
       "<div>\n",
       "<style scoped>\n",
       "    .dataframe tbody tr th:only-of-type {\n",
       "        vertical-align: middle;\n",
       "    }\n",
       "\n",
       "    .dataframe tbody tr th {\n",
       "        vertical-align: top;\n",
       "    }\n",
       "\n",
       "    .dataframe thead th {\n",
       "        text-align: right;\n",
       "    }\n",
       "</style>\n",
       "<table border=\"1\" class=\"dataframe\">\n",
       "  <thead>\n",
       "    <tr style=\"text-align: right;\">\n",
       "      <th></th>\n",
       "      <th>color</th>\n",
       "      <th>color_encoded</th>\n",
       "    </tr>\n",
       "  </thead>\n",
       "  <tbody>\n",
       "    <tr>\n",
       "      <th>0</th>\n",
       "      <td>red</td>\n",
       "      <td>0.50</td>\n",
       "    </tr>\n",
       "    <tr>\n",
       "      <th>1</th>\n",
       "      <td>green</td>\n",
       "      <td>0.25</td>\n",
       "    </tr>\n",
       "    <tr>\n",
       "      <th>2</th>\n",
       "      <td>blue</td>\n",
       "      <td>0.25</td>\n",
       "    </tr>\n",
       "    <tr>\n",
       "      <th>3</th>\n",
       "      <td>red</td>\n",
       "      <td>0.50</td>\n",
       "    </tr>\n",
       "  </tbody>\n",
       "</table>\n",
       "</div>"
      ],
      "text/plain": [
       "   color  color_encoded\n",
       "0    red           0.50\n",
       "1  green           0.25\n",
       "2   blue           0.25\n",
       "3    red           0.50"
      ]
     },
     "execution_count": 16,
     "metadata": {},
     "output_type": "execute_result"
    }
   ],
   "source": [
    "df"
   ]
  },
  {
   "cell_type": "markdown",
   "id": "d59e124f",
   "metadata": {},
   "source": [
    "The resulting DataFrame will have an additional column named \"color_encoded\" that contains the frequency (proportion) of each category.\n",
    "\n",
    "These examples demonstrate how each encoding method can be applied to a categorical variable. It's important to adapt the code to your specific dataset and encoding requirements."
   ]
  }
 ],
 "metadata": {
  "kernelspec": {
   "display_name": "Python 3 (ipykernel)",
   "language": "python",
   "name": "python3"
  },
  "language_info": {
   "codemirror_mode": {
    "name": "ipython",
    "version": 3
   },
   "file_extension": ".py",
   "mimetype": "text/x-python",
   "name": "python",
   "nbconvert_exporter": "python",
   "pygments_lexer": "ipython3",
   "version": "3.9.12"
  }
 },
 "nbformat": 4,
 "nbformat_minor": 5
}
