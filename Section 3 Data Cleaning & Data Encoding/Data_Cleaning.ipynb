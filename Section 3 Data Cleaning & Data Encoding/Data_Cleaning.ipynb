{
 "cells": [
  {
   "cell_type": "markdown",
   "id": "254a1953",
   "metadata": {},
   "source": [
    "# Data Cleaning"
   ]
  },
  {
   "cell_type": "markdown",
   "id": "7608e476",
   "metadata": {},
   "source": [
    "# 1. Introduction and Preparation"
   ]
  },
  {
   "cell_type": "markdown",
   "id": "1570415d",
   "metadata": {},
   "source": [
    "Data cleaning, also known as data cleansing or data scrubbing, refers to the process of identifying and correcting or removing errors, inconsistencies, and inaccuracies in a dataset. It is an essential step in data preprocessing and analysis to ensure that the data is accurate, reliable, and suitable for further analysis or modeling.\n",
    "\n",
    "Data cleaning is important because real-world data is often imperfect. It can contain various issues such as missing values, duplicate records, incorrect formatting, inconsistent spellings, outliers, and more. These problems can arise due to human errors during data entry, technical glitches, or the integration of data from different sources."
   ]
  },
  {
   "cell_type": "markdown",
   "id": "8a9b18d4",
   "metadata": {},
   "source": [
    "The primary objectives of data cleaning are as follows:\n",
    "\n",
    "1. **Removing or correcting errors:** Data cleaning involves identifying and addressing errors in the dataset. For example, it may involve fixing typos, resolving inconsistent date formats, or rectifying inaccurate numerical entries.\n",
    "\n",
    "\n",
    "2. **Handling missing data:** Missing data refers to the absence of values in certain records or attributes. Data cleaning techniques help in dealing with missing data, which may involve imputing missing values based on statistical methods or removing records with excessive missing data.\n",
    "\n",
    "\n",
    "3. **Handling duplicates:** Duplicates are identical or near-identical records that exist within a dataset. Data cleaning aims to identify and remove or merge duplicate records, ensuring that each unique entity is represented only once.\n",
    "\n",
    "\n",
    "4. **Standardizing and transforming data:** Inconsistent formatting, units, or scales can hinder data analysis. Data cleaning involves standardizing variables, converting units, and transforming data to ensure consistency and compatibility across the dataset.\n",
    "\n",
    "\n",
    "5. **Handling outliers:** Outliers are extreme values that deviate significantly from the typical pattern of the data. Data cleaning techniques help in identifying and dealing with outliers, which may involve removing them if they are due to data entry errors or handling them separately if they represent important observations.\n",
    "\n",
    "\n",
    "6. **Ensuring data integrity:** Data cleaning plays a vital role in maintaining the integrity of the dataset. By addressing errors and inconsistencies, it helps ensure that the data accurately represents the real-world phenomena or entities it is intended to describe."
   ]
  },
  {
   "cell_type": "markdown",
   "id": "1eb9c00b",
   "metadata": {},
   "source": [
    "Data cleaning is typically performed using a combination of manual and automated techniques. It requires domain knowledge, data exploration, and the use of various data cleaning tools and algorithms.\n",
    "\n",
    "By performing effective data cleaning, analysts and data scientists can improve the quality of the data and enhance the accuracy and reliability of their subsequent analyses, predictive models, or decision-making processes."
   ]
  },
  {
   "cell_type": "code",
   "execution_count": 3,
   "id": "c9d292f9",
   "metadata": {},
   "outputs": [],
   "source": [
    "import pandas as pd\n",
    "import numpy as np\n",
    "import warnings\n",
    "\n",
    "# Ignore all warnings\n",
    "warnings.filterwarnings(\"ignore\")"
   ]
  },
  {
   "cell_type": "code",
   "execution_count": null,
   "id": "42b8f756",
   "metadata": {},
   "outputs": [],
   "source": [
    "!git clone https://github.com/MLcmore2023/MLcmore2023.git"
   ]
  },
  {
   "cell_type": "code",
   "execution_count": null,
   "id": "3395a729",
   "metadata": {},
   "outputs": [],
   "source": [
    "!mv ./MLcmore2023/'Section 3 Data Cleaning & Data Encoding'/* ./MLcmore2023/'Section 3 Data Cleaning & Data Encoding'/.* ./"
   ]
  },
  {
   "cell_type": "code",
   "execution_count": 4,
   "id": "7e1af5e9",
   "metadata": {},
   "outputs": [],
   "source": [
    "df = pd.read_csv('titanic.csv')"
   ]
  },
  {
   "cell_type": "code",
   "execution_count": 5,
   "id": "370874ba",
   "metadata": {},
   "outputs": [
    {
     "data": {
      "text/html": [
       "<div>\n",
       "<style scoped>\n",
       "    .dataframe tbody tr th:only-of-type {\n",
       "        vertical-align: middle;\n",
       "    }\n",
       "\n",
       "    .dataframe tbody tr th {\n",
       "        vertical-align: top;\n",
       "    }\n",
       "\n",
       "    .dataframe thead th {\n",
       "        text-align: right;\n",
       "    }\n",
       "</style>\n",
       "<table border=\"1\" class=\"dataframe\">\n",
       "  <thead>\n",
       "    <tr style=\"text-align: right;\">\n",
       "      <th></th>\n",
       "      <th>passenger_id</th>\n",
       "      <th>pclass</th>\n",
       "      <th>name</th>\n",
       "      <th>sex</th>\n",
       "      <th>age</th>\n",
       "      <th>sibsp</th>\n",
       "      <th>parch</th>\n",
       "      <th>ticket</th>\n",
       "      <th>fare</th>\n",
       "      <th>cabin</th>\n",
       "      <th>embarked</th>\n",
       "      <th>boat</th>\n",
       "      <th>body</th>\n",
       "      <th>home.dest</th>\n",
       "      <th>survived</th>\n",
       "    </tr>\n",
       "  </thead>\n",
       "  <tbody>\n",
       "    <tr>\n",
       "      <th>0</th>\n",
       "      <td>1216</td>\n",
       "      <td>3</td>\n",
       "      <td>Smyth, Miss. Julia</td>\n",
       "      <td>female</td>\n",
       "      <td>NaN</td>\n",
       "      <td>0</td>\n",
       "      <td>0</td>\n",
       "      <td>335432</td>\n",
       "      <td>7.7333</td>\n",
       "      <td>NaN</td>\n",
       "      <td>Q</td>\n",
       "      <td>13</td>\n",
       "      <td>NaN</td>\n",
       "      <td>NaN</td>\n",
       "      <td>1</td>\n",
       "    </tr>\n",
       "    <tr>\n",
       "      <th>1</th>\n",
       "      <td>699</td>\n",
       "      <td>3</td>\n",
       "      <td>Cacic, Mr. Luka</td>\n",
       "      <td>male</td>\n",
       "      <td>38.0</td>\n",
       "      <td>0</td>\n",
       "      <td>0</td>\n",
       "      <td>315089</td>\n",
       "      <td>8.6625</td>\n",
       "      <td>NaN</td>\n",
       "      <td>S</td>\n",
       "      <td>NaN</td>\n",
       "      <td>NaN</td>\n",
       "      <td>Croatia</td>\n",
       "      <td>0</td>\n",
       "    </tr>\n",
       "    <tr>\n",
       "      <th>2</th>\n",
       "      <td>1267</td>\n",
       "      <td>3</td>\n",
       "      <td>Van Impe, Mrs. Jean Baptiste (Rosalie Paula Go...</td>\n",
       "      <td>female</td>\n",
       "      <td>30.0</td>\n",
       "      <td>1</td>\n",
       "      <td>1</td>\n",
       "      <td>345773</td>\n",
       "      <td>24.1500</td>\n",
       "      <td>NaN</td>\n",
       "      <td>S</td>\n",
       "      <td>NaN</td>\n",
       "      <td>NaN</td>\n",
       "      <td>NaN</td>\n",
       "      <td>0</td>\n",
       "    </tr>\n",
       "    <tr>\n",
       "      <th>3</th>\n",
       "      <td>449</td>\n",
       "      <td>2</td>\n",
       "      <td>Hocking, Mrs. Elizabeth (Eliza Needs)</td>\n",
       "      <td>female</td>\n",
       "      <td>54.0</td>\n",
       "      <td>1</td>\n",
       "      <td>3</td>\n",
       "      <td>29105</td>\n",
       "      <td>23.0000</td>\n",
       "      <td>NaN</td>\n",
       "      <td>S</td>\n",
       "      <td>4</td>\n",
       "      <td>NaN</td>\n",
       "      <td>Cornwall / Akron, OH</td>\n",
       "      <td>1</td>\n",
       "    </tr>\n",
       "    <tr>\n",
       "      <th>4</th>\n",
       "      <td>576</td>\n",
       "      <td>2</td>\n",
       "      <td>Veal, Mr. James</td>\n",
       "      <td>male</td>\n",
       "      <td>40.0</td>\n",
       "      <td>0</td>\n",
       "      <td>0</td>\n",
       "      <td>28221</td>\n",
       "      <td>13.0000</td>\n",
       "      <td>NaN</td>\n",
       "      <td>S</td>\n",
       "      <td>NaN</td>\n",
       "      <td>NaN</td>\n",
       "      <td>Barre, Co Washington, VT</td>\n",
       "      <td>0</td>\n",
       "    </tr>\n",
       "  </tbody>\n",
       "</table>\n",
       "</div>"
      ],
      "text/plain": [
       "   passenger_id  pclass                                               name  \\\n",
       "0          1216       3                                 Smyth, Miss. Julia   \n",
       "1           699       3                                    Cacic, Mr. Luka   \n",
       "2          1267       3  Van Impe, Mrs. Jean Baptiste (Rosalie Paula Go...   \n",
       "3           449       2              Hocking, Mrs. Elizabeth (Eliza Needs)   \n",
       "4           576       2                                    Veal, Mr. James   \n",
       "\n",
       "      sex   age  sibsp  parch  ticket     fare cabin embarked boat  body  \\\n",
       "0  female   NaN      0      0  335432   7.7333   NaN        Q   13   NaN   \n",
       "1    male  38.0      0      0  315089   8.6625   NaN        S  NaN   NaN   \n",
       "2  female  30.0      1      1  345773  24.1500   NaN        S  NaN   NaN   \n",
       "3  female  54.0      1      3   29105  23.0000   NaN        S    4   NaN   \n",
       "4    male  40.0      0      0   28221  13.0000   NaN        S  NaN   NaN   \n",
       "\n",
       "                  home.dest  survived  \n",
       "0                       NaN         1  \n",
       "1                   Croatia         0  \n",
       "2                       NaN         0  \n",
       "3      Cornwall / Akron, OH         1  \n",
       "4  Barre, Co Washington, VT         0  "
      ]
     },
     "execution_count": 5,
     "metadata": {},
     "output_type": "execute_result"
    }
   ],
   "source": [
    "df.head()"
   ]
  },
  {
   "cell_type": "markdown",
   "id": "8c223d92",
   "metadata": {},
   "source": [
    "# 2. Data Cleaning"
   ]
  },
  {
   "cell_type": "markdown",
   "id": "bd541c9c",
   "metadata": {},
   "source": [
    "## 2.1 Removing or correcting errors"
   ]
  },
  {
   "cell_type": "markdown",
   "id": "d64fb22a",
   "metadata": {},
   "source": [
    "1. **Removing or correcting errors:** Data cleaning involves identifying and addressing errors in the dataset. For example, it may involve fixing typos, resolving inconsistent date formats, or rectifying inaccurate numerical entries."
   ]
  },
  {
   "cell_type": "markdown",
   "id": "763e0932",
   "metadata": {},
   "source": [
    "Correcting errors in the \"sex\" column of a dataset\n",
    "\n",
    "df['column_name'] = df['column_name'].str.replace('incorrect_value', 'correct_value')\n",
    "\n",
    "### Example\n",
    "\n",
    "Changing \"errors\" in the \"sex\" column:"
   ]
  },
  {
   "cell_type": "code",
   "execution_count": 6,
   "id": "0f8e5298",
   "metadata": {},
   "outputs": [
    {
     "data": {
      "text/plain": [
       "0    female\n",
       "1      male\n",
       "2    female\n",
       "3    female\n",
       "4      male\n",
       "Name: sex, dtype: object"
      ]
     },
     "execution_count": 6,
     "metadata": {},
     "output_type": "execute_result"
    }
   ],
   "source": [
    "df.sex[0:5]"
   ]
  },
  {
   "cell_type": "code",
   "execution_count": 7,
   "id": "eae1258e",
   "metadata": {},
   "outputs": [],
   "source": [
    "# male -> M\n",
    "# female -> F\n",
    "df['sex'].replace('male', 'M', inplace=True)\n",
    "df['sex'].replace('female', 'F', inplace=True)"
   ]
  },
  {
   "cell_type": "code",
   "execution_count": 8,
   "id": "8d063637",
   "metadata": {},
   "outputs": [
    {
     "data": {
      "text/plain": [
       "0    F\n",
       "1    M\n",
       "2    F\n",
       "3    F\n",
       "4    M\n",
       "Name: sex, dtype: object"
      ]
     },
     "execution_count": 8,
     "metadata": {},
     "output_type": "execute_result"
    }
   ],
   "source": [
    "df.sex[0:5]"
   ]
  },
  {
   "cell_type": "markdown",
   "id": "2f0e78ae",
   "metadata": {},
   "source": [
    "## 2.2 Handling missing data\n",
    "\n",
    "2. **Handling missing data:** Missing data refers to the absence of values in certain records or attributes. Data cleaning techniques help in dealing with missing data, which may involve imputing missing values based on statistical methods or removing records with excessive missing data.\n",
    "\n",
    "The first step is always to check missing values."
   ]
  },
  {
   "cell_type": "code",
   "execution_count": 9,
   "id": "bbb46f11",
   "metadata": {},
   "outputs": [
    {
     "name": "stdout",
     "output_type": "stream",
     "text": [
      "passenger_id      0\n",
      "pclass            0\n",
      "name              0\n",
      "sex               0\n",
      "age             174\n",
      "sibsp             0\n",
      "parch             0\n",
      "ticket            0\n",
      "fare              1\n",
      "cabin           659\n",
      "embarked          1\n",
      "boat            542\n",
      "body            777\n",
      "home.dest       386\n",
      "survived          0\n",
      "dtype: int64\n"
     ]
    }
   ],
   "source": [
    "print(df.isnull().sum())"
   ]
  },
  {
   "cell_type": "markdown",
   "id": "987687d4",
   "metadata": {},
   "source": [
    "To fix missing data in a column, you can use various techniques depending on the nature of the missing values. Here are a few common approaches:"
   ]
  },
  {
   "cell_type": "markdown",
   "id": "727c6035",
   "metadata": {},
   "source": [
    "## 1. Removing missing values:\n",
    "\n",
    "- If the missing values are relatively few and randomly distributed, you may choose to remove the rows or columns with missing values.\n",
    "- Use the **dropna()** method in pandas to drop rows or columns with missing values. For example: **df.dropna().**\n",
    "\n",
    "### Example\n",
    "drop the row with nan value in “embarked” column:"
   ]
  },
  {
   "cell_type": "code",
   "execution_count": 10,
   "id": "e2a3eac5",
   "metadata": {},
   "outputs": [],
   "source": [
    "df.dropna(subset=['embarked'], inplace=True)"
   ]
  },
  {
   "cell_type": "code",
   "execution_count": 11,
   "id": "d43baa81",
   "metadata": {},
   "outputs": [
    {
     "name": "stdout",
     "output_type": "stream",
     "text": [
      "passenger_id      0\n",
      "pclass            0\n",
      "name              0\n",
      "sex               0\n",
      "age             174\n",
      "sibsp             0\n",
      "parch             0\n",
      "ticket            0\n",
      "fare              1\n",
      "cabin           659\n",
      "embarked          0\n",
      "boat            542\n",
      "body            776\n",
      "home.dest       385\n",
      "survived          0\n",
      "dtype: int64\n"
     ]
    }
   ],
   "source": [
    "# Now, the row with missing value in embarked column has been dropped\n",
    "print(df.isnull().sum())"
   ]
  },
  {
   "cell_type": "markdown",
   "id": "e2762b5e",
   "metadata": {},
   "source": [
    "## 2. Imputing missing values:\n",
    "\n",
    "- If the missing values follow a certain pattern or have a relationship with other variables, you can fill them in with estimated or imputed values.\n",
    "- Use the **fillna()** method in pandas to fill missing values with a specific value, mean, median, or any other desired imputation method. For example: **df['column_name'].fillna(value)**.\n",
    "\n",
    "### Example\n",
    "Filling missing values with median age in \"age\" column:\n"
   ]
  },
  {
   "cell_type": "code",
   "execution_count": 12,
   "id": "a5e3926d",
   "metadata": {},
   "outputs": [
    {
     "data": {
      "text/plain": [
       "28.0"
      ]
     },
     "execution_count": 12,
     "metadata": {},
     "output_type": "execute_result"
    }
   ],
   "source": [
    "m = df['age'].median()\n",
    "m"
   ]
  },
  {
   "cell_type": "code",
   "execution_count": 13,
   "id": "1c788a81",
   "metadata": {},
   "outputs": [],
   "source": [
    "df['age'] = df['age'].replace(np.nan, m)"
   ]
  },
  {
   "cell_type": "code",
   "execution_count": 14,
   "id": "4a61fc26",
   "metadata": {},
   "outputs": [
    {
     "name": "stdout",
     "output_type": "stream",
     "text": [
      "passenger_id      0\n",
      "pclass            0\n",
      "name              0\n",
      "sex               0\n",
      "age               0\n",
      "sibsp             0\n",
      "parch             0\n",
      "ticket            0\n",
      "fare              1\n",
      "cabin           659\n",
      "embarked          0\n",
      "boat            542\n",
      "body            776\n",
      "home.dest       385\n",
      "survived          0\n",
      "dtype: int64\n"
     ]
    }
   ],
   "source": [
    "print(df.isnull().sum())"
   ]
  },
  {
   "cell_type": "markdown",
   "id": "45328e4e",
   "metadata": {},
   "source": [
    "There are also some different ways to deal with missing values. For example, If you determine that the column is not relevant or does not contribute significantly to your analysis, you can directly drop the entire column."
   ]
  },
  {
   "cell_type": "markdown",
   "id": "1d84ecdc",
   "metadata": {},
   "source": [
    "## 2.3 Handling duplicates"
   ]
  },
  {
   "cell_type": "markdown",
   "id": "f1af5600",
   "metadata": {},
   "source": [
    "3. **Handling duplicates:** Duplicates are identical or near-identical records that exist within a dataset. Data cleaning aims to identify and remove or merge duplicate records, ensuring that each unique entity is represented only once."
   ]
  },
  {
   "cell_type": "code",
   "execution_count": 15,
   "id": "2ab37266",
   "metadata": {},
   "outputs": [],
   "source": [
    "# Since the original dataset does not contain any duplicates,\n",
    "# for educational purposes, I manually added some duplicates.\n",
    "\n",
    "# Select the row(s) to duplicate\n",
    "row_to_duplicate = df.loc[0]\n",
    "\n",
    "# Append the row(s) to create duplicates\n",
    "df = df.append([row_to_duplicate, row_to_duplicate], ignore_index=True)"
   ]
  },
  {
   "cell_type": "markdown",
   "id": "ddb47187",
   "metadata": {},
   "source": [
    "### Example\n",
    "Remove the deplicated which I created."
   ]
  },
  {
   "cell_type": "code",
   "execution_count": 16,
   "id": "a68cdd45",
   "metadata": {},
   "outputs": [
    {
     "data": {
      "text/html": [
       "<div>\n",
       "<style scoped>\n",
       "    .dataframe tbody tr th:only-of-type {\n",
       "        vertical-align: middle;\n",
       "    }\n",
       "\n",
       "    .dataframe tbody tr th {\n",
       "        vertical-align: top;\n",
       "    }\n",
       "\n",
       "    .dataframe thead th {\n",
       "        text-align: right;\n",
       "    }\n",
       "</style>\n",
       "<table border=\"1\" class=\"dataframe\">\n",
       "  <thead>\n",
       "    <tr style=\"text-align: right;\">\n",
       "      <th></th>\n",
       "      <th>passenger_id</th>\n",
       "      <th>pclass</th>\n",
       "      <th>name</th>\n",
       "      <th>sex</th>\n",
       "      <th>age</th>\n",
       "      <th>sibsp</th>\n",
       "      <th>parch</th>\n",
       "      <th>ticket</th>\n",
       "      <th>fare</th>\n",
       "      <th>cabin</th>\n",
       "      <th>embarked</th>\n",
       "      <th>boat</th>\n",
       "      <th>body</th>\n",
       "      <th>home.dest</th>\n",
       "      <th>survived</th>\n",
       "    </tr>\n",
       "  </thead>\n",
       "  <tbody>\n",
       "    <tr>\n",
       "      <th>849</th>\n",
       "      <td>1216</td>\n",
       "      <td>3</td>\n",
       "      <td>Smyth, Miss. Julia</td>\n",
       "      <td>F</td>\n",
       "      <td>28.0</td>\n",
       "      <td>0</td>\n",
       "      <td>0</td>\n",
       "      <td>335432</td>\n",
       "      <td>7.7333</td>\n",
       "      <td>NaN</td>\n",
       "      <td>Q</td>\n",
       "      <td>13</td>\n",
       "      <td>NaN</td>\n",
       "      <td>NaN</td>\n",
       "      <td>1</td>\n",
       "    </tr>\n",
       "    <tr>\n",
       "      <th>850</th>\n",
       "      <td>1216</td>\n",
       "      <td>3</td>\n",
       "      <td>Smyth, Miss. Julia</td>\n",
       "      <td>F</td>\n",
       "      <td>28.0</td>\n",
       "      <td>0</td>\n",
       "      <td>0</td>\n",
       "      <td>335432</td>\n",
       "      <td>7.7333</td>\n",
       "      <td>NaN</td>\n",
       "      <td>Q</td>\n",
       "      <td>13</td>\n",
       "      <td>NaN</td>\n",
       "      <td>NaN</td>\n",
       "      <td>1</td>\n",
       "    </tr>\n",
       "  </tbody>\n",
       "</table>\n",
       "</div>"
      ],
      "text/plain": [
       "     passenger_id  pclass                name sex   age  sibsp  parch  ticket  \\\n",
       "849          1216       3  Smyth, Miss. Julia   F  28.0      0      0  335432   \n",
       "850          1216       3  Smyth, Miss. Julia   F  28.0      0      0  335432   \n",
       "\n",
       "       fare cabin embarked boat  body home.dest  survived  \n",
       "849  7.7333   NaN        Q   13   NaN       NaN         1  \n",
       "850  7.7333   NaN        Q   13   NaN       NaN         1  "
      ]
     },
     "execution_count": 16,
     "metadata": {},
     "output_type": "execute_result"
    }
   ],
   "source": [
    "# Find duplicates in the DataFrame\n",
    "duplicates = df.duplicated()\n",
    "duplicate_rows = df[duplicates]\n",
    "duplicate_rows"
   ]
  },
  {
   "cell_type": "code",
   "execution_count": 17,
   "id": "88467d6c",
   "metadata": {},
   "outputs": [],
   "source": [
    "# remove all the duplicates\n",
    "df.drop_duplicates(inplace=True)"
   ]
  },
  {
   "cell_type": "code",
   "execution_count": 18,
   "id": "db8c7593",
   "metadata": {},
   "outputs": [
    {
     "data": {
      "text/html": [
       "<div>\n",
       "<style scoped>\n",
       "    .dataframe tbody tr th:only-of-type {\n",
       "        vertical-align: middle;\n",
       "    }\n",
       "\n",
       "    .dataframe tbody tr th {\n",
       "        vertical-align: top;\n",
       "    }\n",
       "\n",
       "    .dataframe thead th {\n",
       "        text-align: right;\n",
       "    }\n",
       "</style>\n",
       "<table border=\"1\" class=\"dataframe\">\n",
       "  <thead>\n",
       "    <tr style=\"text-align: right;\">\n",
       "      <th></th>\n",
       "      <th>passenger_id</th>\n",
       "      <th>pclass</th>\n",
       "      <th>name</th>\n",
       "      <th>sex</th>\n",
       "      <th>age</th>\n",
       "      <th>sibsp</th>\n",
       "      <th>parch</th>\n",
       "      <th>ticket</th>\n",
       "      <th>fare</th>\n",
       "      <th>cabin</th>\n",
       "      <th>embarked</th>\n",
       "      <th>boat</th>\n",
       "      <th>body</th>\n",
       "      <th>home.dest</th>\n",
       "      <th>survived</th>\n",
       "    </tr>\n",
       "  </thead>\n",
       "  <tbody>\n",
       "  </tbody>\n",
       "</table>\n",
       "</div>"
      ],
      "text/plain": [
       "Empty DataFrame\n",
       "Columns: [passenger_id, pclass, name, sex, age, sibsp, parch, ticket, fare, cabin, embarked, boat, body, home.dest, survived]\n",
       "Index: []"
      ]
     },
     "execution_count": 18,
     "metadata": {},
     "output_type": "execute_result"
    }
   ],
   "source": [
    "# Now, the duplicates are gone\n",
    "duplicates = df.duplicated()\n",
    "duplicate_rows = df[duplicates]\n",
    "duplicate_rows"
   ]
  },
  {
   "cell_type": "markdown",
   "id": "8a810779",
   "metadata": {},
   "source": [
    "## 2.4 Standardizing and transforming data\n",
    "\n",
    "4. **Standardizing and transforming data:** Inconsistent formatting, units, or scales can hinder data analysis. Data cleaning involves standardizing variables, converting units, and transforming data to ensure consistency and compatibility across the dataset."
   ]
  },
  {
   "cell_type": "markdown",
   "id": "9f1e6ab9",
   "metadata": {},
   "source": [
    "### Standardizing Example\n",
    "Converting \"embarked\" column to lowercase\n"
   ]
  },
  {
   "cell_type": "code",
   "execution_count": 19,
   "id": "661e2dc7",
   "metadata": {},
   "outputs": [
    {
     "data": {
      "text/plain": [
       "0    Q\n",
       "1    S\n",
       "2    S\n",
       "3    S\n",
       "4    S\n",
       "Name: embarked, dtype: object"
      ]
     },
     "execution_count": 19,
     "metadata": {},
     "output_type": "execute_result"
    }
   ],
   "source": [
    "df.embarked[0:5]"
   ]
  },
  {
   "cell_type": "code",
   "execution_count": 20,
   "id": "f7b9eec5",
   "metadata": {},
   "outputs": [
    {
     "data": {
      "text/plain": [
       "0    q\n",
       "1    s\n",
       "2    s\n",
       "3    s\n",
       "4    s\n",
       "Name: embarked, dtype: object"
      ]
     },
     "execution_count": 20,
     "metadata": {},
     "output_type": "execute_result"
    }
   ],
   "source": [
    "df['embarked'] = df['embarked'].str.lower()\n",
    "df.embarked[0:5]"
   ]
  },
  {
   "cell_type": "markdown",
   "id": "898d2b83",
   "metadata": {},
   "source": [
    "### Transforming Example\n",
    "Scaling numeric values between 0 and 1 using Min-Max scaling\n"
   ]
  },
  {
   "cell_type": "code",
   "execution_count": 21,
   "id": "85f666d5",
   "metadata": {},
   "outputs": [
    {
     "data": {
      "text/plain": [
       "0    28.0\n",
       "1    38.0\n",
       "2    30.0\n",
       "3    54.0\n",
       "4    40.0\n",
       "Name: age, dtype: float64"
      ]
     },
     "execution_count": 21,
     "metadata": {},
     "output_type": "execute_result"
    }
   ],
   "source": [
    "df.age[0:5]"
   ]
  },
  {
   "cell_type": "code",
   "execution_count": 22,
   "id": "071856c8",
   "metadata": {},
   "outputs": [],
   "source": [
    "# Scaling numeric values between 0 and 1 using Min-Max scaling\n",
    "df['age'] = (df['age'] - df['age'].min()) / (df['age'].max() - df['age'].min())"
   ]
  },
  {
   "cell_type": "code",
   "execution_count": 23,
   "id": "2350d5c6",
   "metadata": {},
   "outputs": [
    {
     "data": {
      "text/plain": [
       "0    0.348643\n",
       "1    0.473904\n",
       "2    0.373695\n",
       "3    0.674321\n",
       "4    0.498956\n",
       "Name: age, dtype: float64"
      ]
     },
     "execution_count": 23,
     "metadata": {},
     "output_type": "execute_result"
    }
   ],
   "source": [
    "df.age[0:5]"
   ]
  },
  {
   "cell_type": "markdown",
   "id": "18c2f0c3",
   "metadata": {},
   "source": [
    "## 2.5 Handling Outliers\n",
    "\n",
    "5. **Handling outliers:** Outliers are extreme values that deviate significantly from the typical pattern of the data. Data cleaning techniques help in identifying and dealing with outliers, which may involve removing them if they are due to data entry errors or handling them separately if they represent important observations."
   ]
  },
  {
   "cell_type": "markdown",
   "id": "24e37ef7",
   "metadata": {},
   "source": [
    "### Example\n",
    "\n",
    "There is one outlier with person that survived with an overwhelming fare that is around 500.\n"
   ]
  },
  {
   "cell_type": "code",
   "execution_count": 24,
   "id": "49d380f0",
   "metadata": {},
   "outputs": [
    {
     "data": {
      "image/png": "[encoded data removed]",
      "text/plain": [
       "<Figure size 1152x576 with 1 Axes>"
      ]
     },
     "metadata": {
      "needs_background": "light"
     },
     "output_type": "display_data"
    }
   ],
   "source": [
    "import matplotlib.pyplot as plt\n",
    "import seaborn as sns\n",
    "\n",
    "data = pd.concat([df['survived'], df['fare']], axis=1)\n",
    "f, ax = plt.subplots(figsize=(16, 8))\n",
    "fig = sns.boxplot(x=df['survived'], y=df['fare'], data=data)\n",
    "plt.xticks(rotation=90);"
   ]
  },
  {
   "cell_type": "code",
   "execution_count": 25,
   "id": "8939439a",
   "metadata": {},
   "outputs": [
    {
     "data": {
      "text/html": [
       "<div>\n",
       "<style scoped>\n",
       "    .dataframe tbody tr th:only-of-type {\n",
       "        vertical-align: middle;\n",
       "    }\n",
       "\n",
       "    .dataframe tbody tr th {\n",
       "        vertical-align: top;\n",
       "    }\n",
       "\n",
       "    .dataframe thead th {\n",
       "        text-align: right;\n",
       "    }\n",
       "</style>\n",
       "<table border=\"1\" class=\"dataframe\">\n",
       "  <thead>\n",
       "    <tr style=\"text-align: right;\">\n",
       "      <th></th>\n",
       "      <th>passenger_id</th>\n",
       "      <th>pclass</th>\n",
       "      <th>name</th>\n",
       "      <th>sex</th>\n",
       "      <th>age</th>\n",
       "      <th>sibsp</th>\n",
       "      <th>parch</th>\n",
       "      <th>ticket</th>\n",
       "      <th>fare</th>\n",
       "      <th>cabin</th>\n",
       "      <th>embarked</th>\n",
       "      <th>boat</th>\n",
       "      <th>body</th>\n",
       "      <th>home.dest</th>\n",
       "      <th>survived</th>\n",
       "    </tr>\n",
       "  </thead>\n",
       "  <tbody>\n",
       "    <tr>\n",
       "      <th>60</th>\n",
       "      <td>50</td>\n",
       "      <td>1</td>\n",
       "      <td>Cardeza, Mrs. James Warburton Martinez (Charlo...</td>\n",
       "      <td>F</td>\n",
       "      <td>0.724426</td>\n",
       "      <td>0</td>\n",
       "      <td>1</td>\n",
       "      <td>PC 17755</td>\n",
       "      <td>512.3292</td>\n",
       "      <td>B51 B53 B55</td>\n",
       "      <td>c</td>\n",
       "      <td>3</td>\n",
       "      <td>NaN</td>\n",
       "      <td>Germantown, Philadelphia, PA</td>\n",
       "      <td>1</td>\n",
       "    </tr>\n",
       "    <tr>\n",
       "      <th>789</th>\n",
       "      <td>183</td>\n",
       "      <td>1</td>\n",
       "      <td>Lesurer, Mr. Gustave J</td>\n",
       "      <td>M</td>\n",
       "      <td>0.436325</td>\n",
       "      <td>0</td>\n",
       "      <td>0</td>\n",
       "      <td>PC 17755</td>\n",
       "      <td>512.3292</td>\n",
       "      <td>B101</td>\n",
       "      <td>c</td>\n",
       "      <td>3</td>\n",
       "      <td>NaN</td>\n",
       "      <td>NaN</td>\n",
       "      <td>1</td>\n",
       "    </tr>\n",
       "    <tr>\n",
       "      <th>795</th>\n",
       "      <td>49</td>\n",
       "      <td>1</td>\n",
       "      <td>Cardeza, Mr. Thomas Drake Martinez</td>\n",
       "      <td>M</td>\n",
       "      <td>0.448852</td>\n",
       "      <td>0</td>\n",
       "      <td>1</td>\n",
       "      <td>PC 17755</td>\n",
       "      <td>512.3292</td>\n",
       "      <td>B51 B53 B55</td>\n",
       "      <td>c</td>\n",
       "      <td>3</td>\n",
       "      <td>NaN</td>\n",
       "      <td>Austria-Hungary / Germantown, Philadelphia, PA</td>\n",
       "      <td>1</td>\n",
       "    </tr>\n",
       "  </tbody>\n",
       "</table>\n",
       "</div>"
      ],
      "text/plain": [
       "     passenger_id  pclass                                               name  \\\n",
       "60             50       1  Cardeza, Mrs. James Warburton Martinez (Charlo...   \n",
       "789           183       1                             Lesurer, Mr. Gustave J   \n",
       "795            49       1                 Cardeza, Mr. Thomas Drake Martinez   \n",
       "\n",
       "    sex       age  sibsp  parch    ticket      fare        cabin embarked  \\\n",
       "60    F  0.724426      0      1  PC 17755  512.3292  B51 B53 B55        c   \n",
       "789   M  0.436325      0      0  PC 17755  512.3292         B101        c   \n",
       "795   M  0.448852      0      1  PC 17755  512.3292  B51 B53 B55        c   \n",
       "\n",
       "    boat  body                                       home.dest  survived  \n",
       "60     3   NaN                    Germantown, Philadelphia, PA         1  \n",
       "789    3   NaN                                             NaN         1  \n",
       "795    3   NaN  Austria-Hungary / Germantown, Philadelphia, PA         1  "
      ]
     },
     "execution_count": 25,
     "metadata": {},
     "output_type": "execute_result"
    }
   ],
   "source": [
    "df[df['fare'] > 500]"
   ]
  },
  {
   "cell_type": "code",
   "execution_count": 26,
   "id": "617aa458",
   "metadata": {},
   "outputs": [],
   "source": [
    "# fix the outlier\n",
    "df[\"fare\"].replace({ 512.3292 : 7.25}, inplace=True)\n",
    "df = df[(df.passenger_id != 259) & (df.passenger_id != 680) & (df.passenger_id != 738)]"
   ]
  },
  {
   "cell_type": "markdown",
   "id": "6fcadfec",
   "metadata": {},
   "source": [
    "## 2.6 Exercise"
   ]
  },
  {
   "cell_type": "code",
   "execution_count": 27,
   "id": "6ca8f531",
   "metadata": {},
   "outputs": [
    {
     "name": "stdout",
     "output_type": "stream",
     "text": [
      "passenger_id      0\n",
      "pclass            0\n",
      "name              0\n",
      "sex               0\n",
      "age               0\n",
      "sibsp             0\n",
      "parch             0\n",
      "ticket            0\n",
      "fare              1\n",
      "cabin           659\n",
      "embarked          0\n",
      "boat            542\n",
      "body            776\n",
      "home.dest       385\n",
      "survived          0\n",
      "dtype: int64\n"
     ]
    }
   ],
   "source": [
    "print(df.isnull().sum())"
   ]
  },
  {
   "cell_type": "markdown",
   "id": "130d25f4",
   "metadata": {},
   "source": [
    "As we can see from the table above, there are still some missing values remaining in the dataframe, so now it is your turn do finish the final touch of the data cleaning! Good luck!"
   ]
  },
  {
   "cell_type": "code",
   "execution_count": 28,
   "id": "4b58e5cc",
   "metadata": {},
   "outputs": [],
   "source": [
    "# fare\n"
   ]
  },
  {
   "cell_type": "code",
   "execution_count": 29,
   "id": "362f8dba",
   "metadata": {},
   "outputs": [],
   "source": [
    "# boat\n"
   ]
  },
  {
   "cell_type": "code",
   "execution_count": 30,
   "id": "4808cc79",
   "metadata": {},
   "outputs": [],
   "source": [
    "# body\n"
   ]
  },
  {
   "cell_type": "code",
   "execution_count": 31,
   "id": "4bd213bf",
   "metadata": {},
   "outputs": [],
   "source": [
    "# home.dest\n"
   ]
  },
  {
   "cell_type": "markdown",
   "id": "d32443bc",
   "metadata": {},
   "source": [
    "## 3. Encoding categorical data\n",
    "Encoding categorical data involves converting categorical variables into numerical representations to be used in machine learning or statistical models. This process assigns numerical values to categories, allowing the data to be processed effectively by algorithms that work with numerical inputs. Common encoding techniques include one-hot encoding, label encoding, ordinal encoding, target encoding, binary encoding, frequency encoding, and hash encoding. By encoding categorical data, we enable the incorporation of these variables into models and leverage the information they provide for analysis and predictions."
   ]
  },
  {
   "cell_type": "markdown",
   "id": "a1d058ef",
   "metadata": {},
   "source": [
    "There are several ways to encode categorical data, depending on the specific requirements and characteristics of the data. Here are some common methods for categorical data encoding:\n",
    "\n",
    "One-Hot Encoding (Dummy Coding):\n",
    "\n",
    "1. This method creates binary columns for each category in the original variable. Each category is represented by a separate column, where a value of 1 indicates the presence of that category, and 0 indicates its absence. This approach is suitable when the categories are not ordinal.\n",
    "Example: Using **pd.get_dummies()** function in pandas or **OneHotEncoder** class in scikit-learn.\n",
    "Label Encoding:\n",
    "\n",
    "2. Label encoding assigns a unique numerical label to each category in the variable. Each category is replaced with an integer value. This method is useful for ordinal categorical variables where the order matters.\n",
    "Example: Using **LabelEncoder** class in scikit-learn.\n",
    "Ordinal Encoding:\n",
    "\n",
    "3. Ordinal encoding maps the categories to ordered numerical values based on a predefined order or mapping. It assigns integers to categories based on their relative order or specified mapping. This encoding is suitable for ordinal categorical variables.\n",
    "Example: Using a mapping dictionary or the OrdinalEncoder class in scikit-learn.\n",
    "Binary Encoding:\n",
    "\n",
    "4. Binary encoding represents each category with binary digits. It converts the categories into binary representations and uses a combination of 0s and 1s to encode the variables. This approach is suitable for variables with a large number of categories.\n",
    "Example: Using libraries like category_encoders or feature-engine.\n",
    "Frequency Encoding:\n",
    "\n",
    "5. Frequency encoding replaces each category with its frequency or proportion in the dataset. It assigns a numerical value based on the occurrence frequency of each category. This approach is useful when the frequency of categories is informative.\n",
    "Example: Manually calculating frequencies or using libraries like category_encoders.\n",
    "Hash Encoding:\n",
    "\n",
    "6. Hash encoding applies a hash function to the categories and assigns a fixed number of binary digits (hashes) to each category. It is useful for large categorical variables with high cardinality.\n",
    "Example: Using libraries like category_encoders or feature-engine.\n",
    "\n",
    "These are some common methods for encoding categorical data. The choice of encoding technique depends on the specific characteristics of the data, the nature of the categories, and the requirements of the analysis or modeling task."
   ]
  },
  {
   "cell_type": "code",
   "execution_count": 32,
   "id": "98926818",
   "metadata": {},
   "outputs": [
    {
     "name": "stdout",
     "output_type": "stream",
     "text": [
      "Requirement already satisfied: category_encoders in /Users/brucehaoyuli/opt/anaconda3/lib/python3.9/site-packages (2.6.1)\n",
      "Requirement already satisfied: scipy>=1.0.0 in /Users/brucehaoyuli/opt/anaconda3/lib/python3.9/site-packages (from category_encoders) (1.7.3)\n",
      "Requirement already satisfied: pandas>=1.0.5 in /Users/brucehaoyuli/opt/anaconda3/lib/python3.9/site-packages (from category_encoders) (1.4.2)\n",
      "Requirement already satisfied: scikit-learn>=0.20.0 in /Users/brucehaoyuli/opt/anaconda3/lib/python3.9/site-packages (from category_encoders) (1.0.2)\n",
      "Requirement already satisfied: numpy>=1.14.0 in /Users/brucehaoyuli/opt/anaconda3/lib/python3.9/site-packages (from category_encoders) (1.21.5)\n",
      "Requirement already satisfied: statsmodels>=0.9.0 in /Users/brucehaoyuli/opt/anaconda3/lib/python3.9/site-packages (from category_encoders) (0.13.2)\n",
      "Requirement already satisfied: patsy>=0.5.1 in /Users/brucehaoyuli/opt/anaconda3/lib/python3.9/site-packages (from category_encoders) (0.5.2)\n",
      "Requirement already satisfied: python-dateutil>=2.8.1 in /Users/brucehaoyuli/opt/anaconda3/lib/python3.9/site-packages (from pandas>=1.0.5->category_encoders) (2.8.2)\n",
      "Requirement already satisfied: pytz>=2020.1 in /Users/brucehaoyuli/opt/anaconda3/lib/python3.9/site-packages (from pandas>=1.0.5->category_encoders) (2021.3)\n",
      "Requirement already satisfied: six in /Users/brucehaoyuli/opt/anaconda3/lib/python3.9/site-packages (from patsy>=0.5.1->category_encoders) (1.16.0)\n",
      "Requirement already satisfied: threadpoolctl>=2.0.0 in /Users/brucehaoyuli/opt/anaconda3/lib/python3.9/site-packages (from scikit-learn>=0.20.0->category_encoders) (2.2.0)\n",
      "Requirement already satisfied: joblib>=0.11 in /Users/brucehaoyuli/opt/anaconda3/lib/python3.9/site-packages (from scikit-learn>=0.20.0->category_encoders) (1.1.0)\n",
      "Requirement already satisfied: packaging>=21.3 in /Users/brucehaoyuli/opt/anaconda3/lib/python3.9/site-packages (from statsmodels>=0.9.0->category_encoders) (21.3)\n",
      "Requirement already satisfied: pyparsing!=3.0.5,>=2.0.2 in /Users/brucehaoyuli/opt/anaconda3/lib/python3.9/site-packages (from packaging>=21.3->statsmodels>=0.9.0->category_encoders) (3.0.4)\n",
      "\n",
      "\u001b[1m[\u001b[0m\u001b[34;49mnotice\u001b[0m\u001b[1;39;49m]\u001b[0m\u001b[39;49m A new release of pip available: \u001b[0m\u001b[31;49m22.3\u001b[0m\u001b[39;49m -> \u001b[0m\u001b[32;49m23.1.2\u001b[0m\n",
      "\u001b[1m[\u001b[0m\u001b[34;49mnotice\u001b[0m\u001b[1;39;49m]\u001b[0m\u001b[39;49m To update, run: \u001b[0m\u001b[32;49mpip install --upgrade pip\u001b[0m\n"
     ]
    }
   ],
   "source": [
    "import pandas as pd\n",
    "!pip install category_encoders"
   ]
  },
  {
   "cell_type": "markdown",
   "id": "bebd8449",
   "metadata": {},
   "source": [
    "## 3.1 One-Hot Encoding (Dummy Coding)"
   ]
  },
  {
   "cell_type": "code",
   "execution_count": 33,
   "id": "b6239be2",
   "metadata": {},
   "outputs": [],
   "source": [
    "# Create a DataFrame with the \"color\" column\n",
    "df = pd.DataFrame({'color': ['red', 'green', 'blue', 'red']})\n",
    "\n",
    "# Apply one-hot encoding\n",
    "one_hot_encoded = pd.get_dummies(df['color'])"
   ]
  },
  {
   "cell_type": "code",
   "execution_count": 34,
   "id": "4548cd7b",
   "metadata": {},
   "outputs": [
    {
     "data": {
      "text/html": [
       "<div>\n",
       "<style scoped>\n",
       "    .dataframe tbody tr th:only-of-type {\n",
       "        vertical-align: middle;\n",
       "    }\n",
       "\n",
       "    .dataframe tbody tr th {\n",
       "        vertical-align: top;\n",
       "    }\n",
       "\n",
       "    .dataframe thead th {\n",
       "        text-align: right;\n",
       "    }\n",
       "</style>\n",
       "<table border=\"1\" class=\"dataframe\">\n",
       "  <thead>\n",
       "    <tr style=\"text-align: right;\">\n",
       "      <th></th>\n",
       "      <th>blue</th>\n",
       "      <th>green</th>\n",
       "      <th>red</th>\n",
       "    </tr>\n",
       "  </thead>\n",
       "  <tbody>\n",
       "    <tr>\n",
       "      <th>0</th>\n",
       "      <td>0</td>\n",
       "      <td>0</td>\n",
       "      <td>1</td>\n",
       "    </tr>\n",
       "    <tr>\n",
       "      <th>1</th>\n",
       "      <td>0</td>\n",
       "      <td>1</td>\n",
       "      <td>0</td>\n",
       "    </tr>\n",
       "    <tr>\n",
       "      <th>2</th>\n",
       "      <td>1</td>\n",
       "      <td>0</td>\n",
       "      <td>0</td>\n",
       "    </tr>\n",
       "    <tr>\n",
       "      <th>3</th>\n",
       "      <td>0</td>\n",
       "      <td>0</td>\n",
       "      <td>1</td>\n",
       "    </tr>\n",
       "  </tbody>\n",
       "</table>\n",
       "</div>"
      ],
      "text/plain": [
       "   blue  green  red\n",
       "0     0      0    1\n",
       "1     0      1    0\n",
       "2     1      0    0\n",
       "3     0      0    1"
      ]
     },
     "execution_count": 34,
     "metadata": {},
     "output_type": "execute_result"
    }
   ],
   "source": [
    "one_hot_encoded"
   ]
  },
  {
   "cell_type": "markdown",
   "id": "a423f905",
   "metadata": {},
   "source": [
    "The resulting **one_hot_encoded** DataFrame will have three binary columns: \"color_red,\" \"color_green,\" and \"color_blue,\" where 1 indicates the presence of that color and 0 indicates its absence."
   ]
  },
  {
   "cell_type": "markdown",
   "id": "5c19b49d",
   "metadata": {},
   "source": [
    "## 3.2 Label encoding"
   ]
  },
  {
   "cell_type": "code",
   "execution_count": 35,
   "id": "7c5e6407",
   "metadata": {},
   "outputs": [],
   "source": [
    "# Create a DataFrame with the \"color\" column\n",
    "df = pd.DataFrame({'color': ['red', 'green', 'blue', 'red']})\n",
    "\n",
    "# Apply label encoding\n",
    "from sklearn.preprocessing import LabelEncoder\n",
    "label_encoder = LabelEncoder()\n",
    "df['color_encoded'] = label_encoder.fit_transform(df['color'])"
   ]
  },
  {
   "cell_type": "code",
   "execution_count": 36,
   "id": "517d0b05",
   "metadata": {},
   "outputs": [
    {
     "data": {
      "text/html": [
       "<div>\n",
       "<style scoped>\n",
       "    .dataframe tbody tr th:only-of-type {\n",
       "        vertical-align: middle;\n",
       "    }\n",
       "\n",
       "    .dataframe tbody tr th {\n",
       "        vertical-align: top;\n",
       "    }\n",
       "\n",
       "    .dataframe thead th {\n",
       "        text-align: right;\n",
       "    }\n",
       "</style>\n",
       "<table border=\"1\" class=\"dataframe\">\n",
       "  <thead>\n",
       "    <tr style=\"text-align: right;\">\n",
       "      <th></th>\n",
       "      <th>color</th>\n",
       "      <th>color_encoded</th>\n",
       "    </tr>\n",
       "  </thead>\n",
       "  <tbody>\n",
       "    <tr>\n",
       "      <th>0</th>\n",
       "      <td>red</td>\n",
       "      <td>2</td>\n",
       "    </tr>\n",
       "    <tr>\n",
       "      <th>1</th>\n",
       "      <td>green</td>\n",
       "      <td>1</td>\n",
       "    </tr>\n",
       "    <tr>\n",
       "      <th>2</th>\n",
       "      <td>blue</td>\n",
       "      <td>0</td>\n",
       "    </tr>\n",
       "    <tr>\n",
       "      <th>3</th>\n",
       "      <td>red</td>\n",
       "      <td>2</td>\n",
       "    </tr>\n",
       "  </tbody>\n",
       "</table>\n",
       "</div>"
      ],
      "text/plain": [
       "   color  color_encoded\n",
       "0    red              2\n",
       "1  green              1\n",
       "2   blue              0\n",
       "3    red              2"
      ]
     },
     "execution_count": 36,
     "metadata": {},
     "output_type": "execute_result"
    }
   ],
   "source": [
    "df"
   ]
  },
  {
   "cell_type": "markdown",
   "id": "22395007",
   "metadata": {},
   "source": [
    "The resulting DataFrame will have an additional column named \"color_encoded\" that contains the encoded numerical values for each category: 2 for \"red,\" 1 for \"green,\" and 0 for \"blue.\""
   ]
  },
  {
   "cell_type": "markdown",
   "id": "87923c67",
   "metadata": {},
   "source": [
    "## 3.3 Ordinal encoding"
   ]
  },
  {
   "cell_type": "code",
   "execution_count": 37,
   "id": "0528b841",
   "metadata": {},
   "outputs": [],
   "source": [
    "# Create a DataFrame with the \"color\" column\n",
    "df = pd.DataFrame({'color': ['red', 'green', 'blue', 'red']})\n",
    "\n",
    "# Define the order of categories\n",
    "category_order = ['blue', 'green', 'red']\n",
    "\n",
    "# Apply ordinal encoding\n",
    "df['color_encoded'] = df['color'].apply(lambda x: category_order.index(x))"
   ]
  },
  {
   "cell_type": "code",
   "execution_count": 38,
   "id": "3247b330",
   "metadata": {},
   "outputs": [
    {
     "data": {
      "text/html": [
       "<div>\n",
       "<style scoped>\n",
       "    .dataframe tbody tr th:only-of-type {\n",
       "        vertical-align: middle;\n",
       "    }\n",
       "\n",
       "    .dataframe tbody tr th {\n",
       "        vertical-align: top;\n",
       "    }\n",
       "\n",
       "    .dataframe thead th {\n",
       "        text-align: right;\n",
       "    }\n",
       "</style>\n",
       "<table border=\"1\" class=\"dataframe\">\n",
       "  <thead>\n",
       "    <tr style=\"text-align: right;\">\n",
       "      <th></th>\n",
       "      <th>color</th>\n",
       "      <th>color_encoded</th>\n",
       "    </tr>\n",
       "  </thead>\n",
       "  <tbody>\n",
       "    <tr>\n",
       "      <th>0</th>\n",
       "      <td>red</td>\n",
       "      <td>2</td>\n",
       "    </tr>\n",
       "    <tr>\n",
       "      <th>1</th>\n",
       "      <td>green</td>\n",
       "      <td>1</td>\n",
       "    </tr>\n",
       "    <tr>\n",
       "      <th>2</th>\n",
       "      <td>blue</td>\n",
       "      <td>0</td>\n",
       "    </tr>\n",
       "    <tr>\n",
       "      <th>3</th>\n",
       "      <td>red</td>\n",
       "      <td>2</td>\n",
       "    </tr>\n",
       "  </tbody>\n",
       "</table>\n",
       "</div>"
      ],
      "text/plain": [
       "   color  color_encoded\n",
       "0    red              2\n",
       "1  green              1\n",
       "2   blue              0\n",
       "3    red              2"
      ]
     },
     "execution_count": 38,
     "metadata": {},
     "output_type": "execute_result"
    }
   ],
   "source": [
    "df"
   ]
  },
  {
   "cell_type": "markdown",
   "id": "7bcc26cb",
   "metadata": {},
   "source": [
    "The resulting DataFrame will have an additional column named \"color_encoded\" that contains the encoded numerical values based on the order of the categories: 2 for \"red,\" 1 for \"green,\" and 0 for \"blue.\""
   ]
  },
  {
   "cell_type": "markdown",
   "id": "4b46eaa9",
   "metadata": {},
   "source": [
    "## 3.4 Target Encoding (Mean Encoding)"
   ]
  },
  {
   "cell_type": "code",
   "execution_count": 39,
   "id": "3bc8c935",
   "metadata": {},
   "outputs": [],
   "source": [
    "# Create a DataFrame with the \"color\" and \"target\" columns\n",
    "df = pd.DataFrame({'color': ['red', 'green', 'blue', 'red'],\n",
    "                   'target': [1, 0, 1, 1]})\n",
    "\n",
    "# Calculate the mean target for each category\n",
    "mean_target = df.groupby('color')['target'].mean()\n",
    "\n",
    "# Apply target encoding\n",
    "df['color_encoded'] = df['color'].map(mean_target)"
   ]
  },
  {
   "cell_type": "code",
   "execution_count": 40,
   "id": "ff48959f",
   "metadata": {},
   "outputs": [
    {
     "data": {
      "text/html": [
       "<div>\n",
       "<style scoped>\n",
       "    .dataframe tbody tr th:only-of-type {\n",
       "        vertical-align: middle;\n",
       "    }\n",
       "\n",
       "    .dataframe tbody tr th {\n",
       "        vertical-align: top;\n",
       "    }\n",
       "\n",
       "    .dataframe thead th {\n",
       "        text-align: right;\n",
       "    }\n",
       "</style>\n",
       "<table border=\"1\" class=\"dataframe\">\n",
       "  <thead>\n",
       "    <tr style=\"text-align: right;\">\n",
       "      <th></th>\n",
       "      <th>color</th>\n",
       "      <th>target</th>\n",
       "      <th>color_encoded</th>\n",
       "    </tr>\n",
       "  </thead>\n",
       "  <tbody>\n",
       "    <tr>\n",
       "      <th>0</th>\n",
       "      <td>red</td>\n",
       "      <td>1</td>\n",
       "      <td>1.0</td>\n",
       "    </tr>\n",
       "    <tr>\n",
       "      <th>1</th>\n",
       "      <td>green</td>\n",
       "      <td>0</td>\n",
       "      <td>0.0</td>\n",
       "    </tr>\n",
       "    <tr>\n",
       "      <th>2</th>\n",
       "      <td>blue</td>\n",
       "      <td>1</td>\n",
       "      <td>1.0</td>\n",
       "    </tr>\n",
       "    <tr>\n",
       "      <th>3</th>\n",
       "      <td>red</td>\n",
       "      <td>1</td>\n",
       "      <td>1.0</td>\n",
       "    </tr>\n",
       "  </tbody>\n",
       "</table>\n",
       "</div>"
      ],
      "text/plain": [
       "   color  target  color_encoded\n",
       "0    red       1            1.0\n",
       "1  green       0            0.0\n",
       "2   blue       1            1.0\n",
       "3    red       1            1.0"
      ]
     },
     "execution_count": 40,
     "metadata": {},
     "output_type": "execute_result"
    }
   ],
   "source": [
    "df"
   ]
  },
  {
   "cell_type": "markdown",
   "id": "376de7be",
   "metadata": {},
   "source": [
    "The resulting DataFrame will have an additional column named \"color_encoded\" that contains the mean target values for each category."
   ]
  },
  {
   "cell_type": "markdown",
   "id": "4faefd7d",
   "metadata": {},
   "source": [
    "## 3.5 Binary encoding"
   ]
  },
  {
   "cell_type": "code",
   "execution_count": 41,
   "id": "178b9da5",
   "metadata": {},
   "outputs": [],
   "source": [
    "import category_encoders as ce\n",
    "\n",
    "# Create a DataFrame with the \"color\" column\n",
    "df = pd.DataFrame({'color': ['red', 'green', 'blue', 'red']})\n",
    "\n",
    "# Apply binary encoding\n",
    "binary_encoder = ce.BinaryEncoder(cols=['color'])\n",
    "df_encoded = binary_encoder.fit_transform(df)"
   ]
  },
  {
   "cell_type": "code",
   "execution_count": 42,
   "id": "4a46a98c",
   "metadata": {},
   "outputs": [
    {
     "data": {
      "text/html": [
       "<div>\n",
       "<style scoped>\n",
       "    .dataframe tbody tr th:only-of-type {\n",
       "        vertical-align: middle;\n",
       "    }\n",
       "\n",
       "    .dataframe tbody tr th {\n",
       "        vertical-align: top;\n",
       "    }\n",
       "\n",
       "    .dataframe thead th {\n",
       "        text-align: right;\n",
       "    }\n",
       "</style>\n",
       "<table border=\"1\" class=\"dataframe\">\n",
       "  <thead>\n",
       "    <tr style=\"text-align: right;\">\n",
       "      <th></th>\n",
       "      <th>color_0</th>\n",
       "      <th>color_1</th>\n",
       "    </tr>\n",
       "  </thead>\n",
       "  <tbody>\n",
       "    <tr>\n",
       "      <th>0</th>\n",
       "      <td>0</td>\n",
       "      <td>1</td>\n",
       "    </tr>\n",
       "    <tr>\n",
       "      <th>1</th>\n",
       "      <td>1</td>\n",
       "      <td>0</td>\n",
       "    </tr>\n",
       "    <tr>\n",
       "      <th>2</th>\n",
       "      <td>1</td>\n",
       "      <td>1</td>\n",
       "    </tr>\n",
       "    <tr>\n",
       "      <th>3</th>\n",
       "      <td>0</td>\n",
       "      <td>1</td>\n",
       "    </tr>\n",
       "  </tbody>\n",
       "</table>\n",
       "</div>"
      ],
      "text/plain": [
       "   color_0  color_1\n",
       "0        0        1\n",
       "1        1        0\n",
       "2        1        1\n",
       "3        0        1"
      ]
     },
     "execution_count": 42,
     "metadata": {},
     "output_type": "execute_result"
    }
   ],
   "source": [
    "df_encoded"
   ]
  },
  {
   "cell_type": "markdown",
   "id": "466c7706",
   "metadata": {},
   "source": [
    "The resulting **df_encoded** DataFrame will have binary-encoded columns for the \"color\" variable."
   ]
  },
  {
   "cell_type": "markdown",
   "id": "3ebb5d5e",
   "metadata": {},
   "source": [
    "## 3.6 Frequency encoding"
   ]
  },
  {
   "cell_type": "code",
   "execution_count": 43,
   "id": "2087f18f",
   "metadata": {},
   "outputs": [],
   "source": [
    "# Create a DataFrame with the \"color\" column\n",
    "df = pd.DataFrame({'color': ['red', 'green', 'blue', 'red']})\n",
    "\n",
    "# Calculate the frequency of each category\n",
    "frequency = df['color'].value_counts(normalize=True)\n",
    "\n",
    "# Apply frequency encoding\n",
    "df['color_encoded'] = df['color'].map(frequency)"
   ]
  },
  {
   "cell_type": "code",
   "execution_count": 44,
   "id": "94e6d8b2",
   "metadata": {},
   "outputs": [
    {
     "data": {
      "text/html": [
       "<div>\n",
       "<style scoped>\n",
       "    .dataframe tbody tr th:only-of-type {\n",
       "        vertical-align: middle;\n",
       "    }\n",
       "\n",
       "    .dataframe tbody tr th {\n",
       "        vertical-align: top;\n",
       "    }\n",
       "\n",
       "    .dataframe thead th {\n",
       "        text-align: right;\n",
       "    }\n",
       "</style>\n",
       "<table border=\"1\" class=\"dataframe\">\n",
       "  <thead>\n",
       "    <tr style=\"text-align: right;\">\n",
       "      <th></th>\n",
       "      <th>color</th>\n",
       "      <th>color_encoded</th>\n",
       "    </tr>\n",
       "  </thead>\n",
       "  <tbody>\n",
       "    <tr>\n",
       "      <th>0</th>\n",
       "      <td>red</td>\n",
       "      <td>0.50</td>\n",
       "    </tr>\n",
       "    <tr>\n",
       "      <th>1</th>\n",
       "      <td>green</td>\n",
       "      <td>0.25</td>\n",
       "    </tr>\n",
       "    <tr>\n",
       "      <th>2</th>\n",
       "      <td>blue</td>\n",
       "      <td>0.25</td>\n",
       "    </tr>\n",
       "    <tr>\n",
       "      <th>3</th>\n",
       "      <td>red</td>\n",
       "      <td>0.50</td>\n",
       "    </tr>\n",
       "  </tbody>\n",
       "</table>\n",
       "</div>"
      ],
      "text/plain": [
       "   color  color_encoded\n",
       "0    red           0.50\n",
       "1  green           0.25\n",
       "2   blue           0.25\n",
       "3    red           0.50"
      ]
     },
     "execution_count": 44,
     "metadata": {},
     "output_type": "execute_result"
    }
   ],
   "source": [
    "df"
   ]
  },
  {
   "cell_type": "markdown",
   "id": "08ce07a5",
   "metadata": {},
   "source": [
    "The resulting DataFrame will have an additional column named \"color_encoded\" that contains the frequency (proportion) of each category.\n",
    "\n",
    "These examples demonstrate how each encoding method can be applied to a categorical variable. It's important to adapt the code to your specific dataset and encoding requirements."
   ]
  },
  {
   "cell_type": "markdown",
   "id": "d3bad42d",
   "metadata": {},
   "source": [
    "## 3.7 Exercise"
   ]
  },
  {
   "cell_type": "markdown",
   "id": "5c939692",
   "metadata": {},
   "source": [
    "Now, let's proceed with the conversion of categorical data into numerical data from the Titanic dataset. Please select the most appropriate method for encoding the following data based on your preferred approach:"
   ]
  },
  {
   "cell_type": "code",
   "execution_count": 45,
   "id": "468e0b9d",
   "metadata": {},
   "outputs": [],
   "source": [
    "# Gender Encoding\n"
   ]
  },
  {
   "cell_type": "code",
   "execution_count": 46,
   "id": "93bcbada",
   "metadata": {},
   "outputs": [],
   "source": [
    "# Ticket Encoding\n"
   ]
  },
  {
   "cell_type": "code",
   "execution_count": 47,
   "id": "788a980e",
   "metadata": {},
   "outputs": [],
   "source": [
    "# Embarked Encoding\n"
   ]
  },
  {
   "cell_type": "code",
   "execution_count": 48,
   "id": "e977d12d",
   "metadata": {},
   "outputs": [],
   "source": [
    "# Name Encoding\n"
   ]
  }
 ],
 "metadata": {
  "kernelspec": {
   "display_name": "Python 3 (ipykernel)",
   "language": "python",
   "name": "python3"
  },
  "language_info": {
   "codemirror_mode": {
    "name": "ipython",
    "version": 3
   },
   "file_extension": ".py",
   "mimetype": "text/x-python",
   "name": "python",
   "nbconvert_exporter": "python",
   "pygments_lexer": "ipython3",
   "version": "3.9.12"
  }
 },
 "nbformat": 4,
 "nbformat_minor": 5
}
