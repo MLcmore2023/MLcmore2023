{
  "metadata": {
    "kernelspec": {
      "language": "python",
      "display_name": "Python 3",
      "name": "python3"
    },
    "language_info": {
      "name": "python",
      "version": "3.10.10",
      "mimetype": "text/x-python",
      "codemirror_mode": {
        "name": "ipython",
        "version": 3
      },
      "pygments_lexer": "ipython3",
      "nbconvert_exporter": "python",
      "file_extension": ".py"
    },
    "colab": {
      "provenance": [],
      "include_colab_link": true
    }
  },
  "nbformat_minor": 0,
  "nbformat": 4,
  "cells": [
    {
      "cell_type": "markdown",
      "metadata": {
        "id": "view-in-github",
        "colab_type": "text"
      },
      "source": [
        "<a href=\"https://colab.research.google.com/github/MLcmore2023/MLcmore2023/blob/main/day3_am_morning/logistic-regression-demo.ipynb\" target=\"_parent\"><img src=\"https://colab.research.google.com/assets/colab-badge.svg\" alt=\"Open In Colab\"/></a>"
      ]
    },
    {
      "cell_type": "markdown",
      "source": [
        "# Logistic Regression\n",
        "Logistic regression is a statistical model used for binary classification tasks. It predicts the probability of an event belonging to one of two classes. The model uses the sigmoid (logistic) function to transform the linear combination of features into a probability value between 0 and 1. The coefficients associated with each feature are learned during training, and predictions are made by applying these coefficients to new data. Logistic regression is widely used in various domains and offers interpretability, but assumes a linear relationship between features and the log-odds of the target variable."
      ],
      "metadata": {
        "id": "dDrBY5SPQEYw"
      }
    },
    {
      "cell_type": "markdown",
      "source": [
        "### Import libraries and initialize random generator"
      ],
      "metadata": {
        "id": "55Hr50jfQEY1"
      }
    },
    {
      "cell_type": "code",
      "source": [
        "import numpy as np\n",
        "np.random.seed(0)"
      ],
      "metadata": {
        "execution": {
          "iopub.status.busy": "2023-07-10T18:42:26.545186Z",
          "iopub.execute_input": "2023-07-10T18:42:26.545577Z",
          "iopub.status.idle": "2023-07-10T18:42:26.550972Z",
          "shell.execute_reply.started": "2023-07-10T18:42:26.545546Z",
          "shell.execute_reply": "2023-07-10T18:42:26.549616Z"
        },
        "trusted": true,
        "id": "nE05KQShQEY2"
      },
      "execution_count": 1,
      "outputs": []
    },
    {
      "cell_type": "markdown",
      "source": [
        "### Example 1: Linearly Separable Data\n",
        "We will use the sklearn library to generate two clusters of random data."
      ],
      "metadata": {
        "id": "JVEbX-fVQEY4"
      }
    },
    {
      "cell_type": "code",
      "source": [
        "from sklearn.datasets import make_classification\n",
        "\n",
        "# Generate the dataset\n",
        "X, y = make_classification(n_features=2, n_redundant=0,\n",
        "                           n_informative=2, random_state=1,\n",
        "                           n_clusters_per_class=1)\n",
        "\n",
        "# Plot the data points\n",
        "import matplotlib.pyplot as plt\n",
        "plt.xlim([-3, 3]); plt.ylim([-3, 3])\n",
        "plt.scatter(X[:, 0], X[:, 1], c=y, cmap='bwr')\n",
        "plt.xlabel('Feature 1')\n",
        "plt.ylabel('Feature 2')\n",
        "plt.title('Classification Dataset')"
      ],
      "metadata": {
        "execution": {
          "iopub.status.busy": "2023-07-10T18:42:26.561524Z",
          "iopub.execute_input": "2023-07-10T18:42:26.561959Z",
          "iopub.status.idle": "2023-07-10T18:42:26.905524Z",
          "shell.execute_reply.started": "2023-07-10T18:42:26.561927Z",
          "shell.execute_reply": "2023-07-10T18:42:26.903963Z"
        },
        "trusted": true,
        "id": "KA_ryPDJQEY4",
        "outputId": "9fb99b84-864e-4e62-cd52-84bb3a0c95f6",
        "colab": {
          "base_uri": "https://localhost:8080/",
          "height": 489
        }
      },
      "execution_count": 19,
      "outputs": [
        {
          "output_type": "execute_result",
          "data": {
            "text/plain": [
              "Text(0.5, 1.0, 'Classification Dataset')"
            ]
          },
          "metadata": {},
          "execution_count": 19
        },
        {
          "output_type": "display_data",
          "data": {
            "text/plain": [
              "<Figure size 640x480 with 1 Axes>"
            ],
            "image/png": "[encoded data removed]"
          },
          "metadata": {}
        }
      ]
    },
    {
      "cell_type": "markdown",
      "source": [
        "## Logistics Regression Classifier"
      ],
      "metadata": {
        "id": "rYCLBdR-QEY6"
      }
    },
    {
      "cell_type": "markdown",
      "source": [
        "### sigmoid function\n",
        "In binary classification, it is desirable for the hypothesis function ($\\hat{y}$) to produce output values between 0 and 1. To achieve this, we can employ the sigmoid function, which effectively compresses the input values within the desired range.\n",
        "\n",
        "<img src=\"https://raw.githubusercontent.com/MLcmore2023/MLcmore2023/main/.images/logistic_regression1.png\" alt=\"Image Description\" width=\"78%\">"
      ],
      "metadata": {
        "id": "BlJdtgFKQEY6"
      }
    },
    {
      "cell_type": "code",
      "source": [
        "def sigmoid(z):\n",
        "    return 1.0/(1 + np.exp(-z))"
      ],
      "metadata": {
        "execution": {
          "iopub.status.busy": "2023-07-10T18:42:26.908012Z",
          "iopub.execute_input": "2023-07-10T18:42:26.908515Z",
          "iopub.status.idle": "2023-07-10T18:42:26.914376Z",
          "shell.execute_reply.started": "2023-07-10T18:42:26.908464Z",
          "shell.execute_reply": "2023-07-10T18:42:26.913243Z"
        },
        "trusted": true,
        "id": "8gaXghLZQEY6"
      },
      "execution_count": 3,
      "outputs": []
    },
    {
      "cell_type": "markdown",
      "source": [
        "### Initializing weights and bias to zeros\n",
        "In logistic regression, the prediction is $$\\hat{y} = \\sigma(w \\cdot X + b)$$\n",
        "where sigma is the sigmoid function, and w is the weights vector"
      ],
      "metadata": {
        "id": "gLMI8L4tQEY7"
      }
    },
    {
      "cell_type": "code",
      "source": [
        "def initialize_weights_and_biases(X):\n",
        "    global num_of_training_examples, num_of_features\n",
        "    num_of_training_examples, num_of_features = X.shape\n",
        "    w = np.zeros((num_of_features,1))\n",
        "    b = 0\n",
        "    return w, b"
      ],
      "metadata": {
        "execution": {
          "iopub.status.busy": "2023-07-10T18:42:26.915850Z",
          "iopub.execute_input": "2023-07-10T18:42:26.916166Z",
          "iopub.status.idle": "2023-07-10T18:42:26.928148Z",
          "shell.execute_reply.started": "2023-07-10T18:42:26.916137Z",
          "shell.execute_reply": "2023-07-10T18:42:26.927096Z"
        },
        "trusted": true,
        "id": "zx_UPUL1QEY7"
      },
      "execution_count": 4,
      "outputs": []
    },
    {
      "cell_type": "markdown",
      "source": [
        "\n",
        "The loss function is: $$\n",
        "\\text{Loss}(y, \\hat{y}) = -\\frac{1}{N}\\sum_{i=1}^{N} \\left( y_i \\log(\\hat{y}_i) + (1-y_i) \\log(1-\\hat{y}_i) \\right)$$\n"
      ],
      "metadata": {
        "id": "hwr-GPWUQEY8"
      }
    },
    {
      "cell_type": "code",
      "source": [
        "#this code is optional, and only used for visualization or progress monitoring during training\n",
        "def loss(y, y_hat):\n",
        "    loss = -np.mean(y*(np.log(y_hat)) - (1-y)*np.log(1-y_hat))\n",
        "    return loss"
      ],
      "metadata": {
        "execution": {
          "iopub.status.busy": "2023-07-10T18:42:26.931763Z",
          "iopub.execute_input": "2023-07-10T18:42:26.932256Z",
          "iopub.status.idle": "2023-07-10T18:42:26.941780Z",
          "shell.execute_reply.started": "2023-07-10T18:42:26.932219Z",
          "shell.execute_reply": "2023-07-10T18:42:26.940469Z"
        },
        "trusted": true,
        "id": "FIbT9PdgQEY8"
      },
      "execution_count": 5,
      "outputs": []
    },
    {
      "cell_type": "markdown",
      "source": [
        "### Calculating Gradient\n",
        "dw is the partial derivative of the Loss function with respect to w and db is the partial derivative of the Loss function with respect to b\n",
        "\n",
        "$$\n",
        "\\frac{\\partial \\text{Loss}}{\\partial w_j} = \\frac{1}{N}\\sum_{i=1}^{N} (\\hat{y}_i - y_i) x_{ij} $$\n",
        "\n",
        "$$\n",
        "\\frac{\\partial \\text{Loss}}{\\partial b} = \\frac{1}{N}\\sum_{i=1}^{N} (\\hat{y}_i - y_i)\n",
        "$$"
      ],
      "metadata": {
        "id": "kooAcQ0gQEY8"
      }
    },
    {
      "cell_type": "code",
      "source": [
        "def gradients(X, y, y_hat):\n",
        "    # number of training examples.\n",
        "    n = X.shape[0]\n",
        "\n",
        "    # Gradient of loss with respect to weights.\n",
        "    dw = (1/n)*np.dot(X.T, (y_hat - y))\n",
        "\n",
        "    # Gradient of loss with respect to bias.\n",
        "    db = (1/n)*np.sum((y_hat - y))\n",
        "\n",
        "    return dw, db"
      ],
      "metadata": {
        "execution": {
          "iopub.status.busy": "2023-07-10T18:42:26.943516Z",
          "iopub.execute_input": "2023-07-10T18:42:26.943958Z",
          "iopub.status.idle": "2023-07-10T18:42:26.956786Z",
          "shell.execute_reply.started": "2023-07-10T18:42:26.943924Z",
          "shell.execute_reply": "2023-07-10T18:42:26.955570Z"
        },
        "trusted": true,
        "id": "YICbY5kdQEY-"
      },
      "execution_count": 6,
      "outputs": []
    },
    {
      "cell_type": "markdown",
      "source": [
        "### Gradient Descent\n",
        "1. Initialize the weights and biases with zeros\n",
        "2. Compute the gradient of the cost function in respect to the weights and biases for all training examples. (i.e. computing how we should change the weights and biases so that the network is less wrong in all training examples)\n",
        "3. Now we know how we should change the weights and biases so that the network is less wrong, we use this gradient to update the weights and biases (minus the weights and biases by the gradients times a tiny number called learning rate)\n",
        "4. Repeat for as many times as time and computation resource permits\n"
      ],
      "metadata": {
        "id": "WCHZgKHrQEY-"
      }
    },
    {
      "cell_type": "code",
      "source": [
        "def gradient_descent(X, y):\n",
        "    w,b =initialize_weights_and_biases(X)\n",
        "\n",
        "    # Standardize input\n",
        "    X = (X - X.mean(axis=0))/X.std(axis=0)\n",
        "\n",
        "    # Reshaping y to allow matrix multiplication\n",
        "    y = y.reshape(num_of_training_examples,1)\n",
        "\n",
        "    losses = [] #optional. This is just for visualization / monitoring\n",
        "    num_of_epochs=1000\n",
        "    learning_rate=0.01\n",
        "    for epoch in range(num_of_epochs):\n",
        "\n",
        "        # Calculating hypothesis/prediction.\n",
        "        y_hat = sigmoid(np.dot(X, w) + b)\n",
        "\n",
        "        # Getting the gradients of loss with respect to parameters.\n",
        "        dw, db = gradients(X, y, y_hat)\n",
        "\n",
        "        # Updating the parameters.\n",
        "        w -= learning_rate*dw\n",
        "        b -= learning_rate*db\n",
        "\n",
        "        #optional. This is just for visualization / monitoring\n",
        "        # Calculating loss and appending it in the list.\n",
        "        l = loss(y, sigmoid(np.dot(X, w) + b))\n",
        "        losses.append(l)\n",
        "    return w, b"
      ],
      "metadata": {
        "execution": {
          "iopub.status.busy": "2023-07-10T18:42:26.958008Z",
          "iopub.execute_input": "2023-07-10T18:42:26.958382Z",
          "iopub.status.idle": "2023-07-10T18:42:26.968472Z",
          "shell.execute_reply.started": "2023-07-10T18:42:26.958351Z",
          "shell.execute_reply": "2023-07-10T18:42:26.967368Z"
        },
        "trusted": true,
        "id": "TyJ8WmwpQEY_"
      },
      "execution_count": 7,
      "outputs": []
    },
    {
      "cell_type": "markdown",
      "source": [
        "### Prediction function\n",
        "The way we defined hypothesis is the probability of y being 1 given X and parameterized by w and b. So, we will say that it will make a prediction of y=1 when y_hat ≥ 0.5, and  y=0 when y_hat < 0.5"
      ],
      "metadata": {
        "id": "wtXMpP37QEZs"
      }
    },
    {
      "cell_type": "code",
      "source": [
        "def predict(X, w, b):\n",
        "    # Normalizing the inputs.\n",
        "    X = (X - X.mean(axis=0))/X.std(axis=0)\n",
        "\n",
        "    # Calculating presictions/y_hat.\n",
        "    predictions = sigmoid(np.dot(X, w) + b)\n",
        "\n",
        "    y_pred = []\n",
        "    # if y_hat >= 0.5 --> round up to 1.  if y_hat < 0.5 --> round up to 1\n",
        "    for prediction in predictions:\n",
        "        if prediction > 0.5:\n",
        "            y_pred.append(1)\n",
        "        else:\n",
        "            y_pred.append(0)\n",
        "\n",
        "    return np.array(y_pred)"
      ],
      "metadata": {
        "execution": {
          "iopub.status.busy": "2023-07-10T18:42:26.970019Z",
          "iopub.execute_input": "2023-07-10T18:42:26.970356Z",
          "iopub.status.idle": "2023-07-10T18:42:26.980684Z",
          "shell.execute_reply.started": "2023-07-10T18:42:26.970328Z",
          "shell.execute_reply": "2023-07-10T18:42:26.979449Z"
        },
        "trusted": true,
        "id": "QmYFedvPQEZt"
      },
      "execution_count": 8,
      "outputs": []
    },
    {
      "cell_type": "markdown",
      "source": [
        "### Evaluation accuracy\n",
        "We get an accuracy of 100%. We can see from the above decision boundary graph that we are able to separate the green and blue classes perfectly."
      ],
      "metadata": {
        "id": "abMmUH2fQEZt"
      }
    },
    {
      "cell_type": "code",
      "source": [
        "weights, biases = gradient_descent(X,y)\n",
        "y_hat = predict(X, weights, biases)\n",
        "\n",
        "total_elements = len(y.flatten())\n",
        "correct_predictions = 0\n",
        "\n",
        "for i in range(total_elements):\n",
        "    if y.flatten()[i] == y_hat[i]:\n",
        "        correct_predictions += 1\n",
        "\n",
        "accuracy = correct_predictions / total_elements\n",
        "print(accuracy)"
      ],
      "metadata": {
        "execution": {
          "iopub.status.busy": "2023-07-10T18:42:26.983166Z",
          "iopub.execute_input": "2023-07-10T18:42:26.983632Z",
          "iopub.status.idle": "2023-07-10T18:42:27.092569Z",
          "shell.execute_reply.started": "2023-07-10T18:42:26.983591Z",
          "shell.execute_reply": "2023-07-10T18:42:27.091048Z"
        },
        "trusted": true,
        "id": "W1aere3dQEZu",
        "outputId": "34a77c26-0148-453f-9bd6-471a6788d2d7",
        "colab": {
          "base_uri": "https://localhost:8080/"
        }
      },
      "execution_count": 9,
      "outputs": [
        {
          "output_type": "stream",
          "name": "stdout",
          "text": [
            "1.0\n"
          ]
        }
      ]
    },
    {
      "cell_type": "markdown",
      "source": [
        "### Visualize result"
      ],
      "metadata": {
        "id": "VO8FpzWZQEZw"
      }
    },
    {
      "cell_type": "code",
      "source": [
        "def plot_decision_boundary(X, y,w, b):\n",
        "    #graph the boundary line\n",
        "    x1 = [min(X[:,0]), max(X[:,0])]\n",
        "    m = -w[0]/w[1]\n",
        "    c = -b/w[1]\n",
        "    x2 = m*x1 + c\n",
        "    plt.plot(x1, x2, '-') # - means line style is straight line\n",
        "\n",
        "    # Plot the points\n",
        "    feature1 = X[:, 0]\n",
        "    feature2 = X[:, 1]\n",
        "    plt.xlim([-3, 3]); plt.ylim([-3, 3])\n",
        "    plt.plot(feature1[y==0], feature2[y==0], \"bo\") # b means blue, o means round points\n",
        "    plt.plot(feature1[y==1], feature2[y==1], \"r*\") # r means red, * means star points\n",
        "    plt.xlabel(\"feature 1\")\n",
        "    plt.ylabel(\"feature 2\")\n",
        "    plt.title('Decision Boundary')\n",
        "\n",
        "plot_decision_boundary(X, y_hat, weights, biases)"
      ],
      "metadata": {
        "execution": {
          "iopub.status.busy": "2023-07-10T18:42:27.111021Z",
          "iopub.execute_input": "2023-07-10T18:42:27.111448Z",
          "iopub.status.idle": "2023-07-10T18:42:27.445794Z",
          "shell.execute_reply.started": "2023-07-10T18:42:27.111410Z",
          "shell.execute_reply": "2023-07-10T18:42:27.444521Z"
        },
        "trusted": true,
        "id": "9vmWtrAgQEZx",
        "outputId": "1031c6d7-d346-4719-b9fe-1f9acc8e238a",
        "colab": {
          "base_uri": "https://localhost:8080/",
          "height": 472
        }
      },
      "execution_count": 11,
      "outputs": [
        {
          "output_type": "display_data",
          "data": {
            "text/plain": [
              "<Figure size 640x480 with 1 Axes>"
            ],
            "image/png": "[encoded data removed]"
          },
          "metadata": {}
        }
      ]
    },
    {
      "cell_type": "markdown",
      "source": [
        "### Example 2: Non-linearly Separable Data"
      ],
      "metadata": {
        "id": "1D8R_HmLQEZy"
      }
    },
    {
      "cell_type": "code",
      "source": [
        "from sklearn.datasets import make_moons\n",
        "X, y = make_moons(n_samples=100, noise=0.24)"
      ],
      "metadata": {
        "execution": {
          "iopub.status.busy": "2023-07-10T18:42:55.616514Z",
          "iopub.execute_input": "2023-07-10T18:42:55.616991Z",
          "iopub.status.idle": "2023-07-10T18:42:55.624016Z",
          "shell.execute_reply.started": "2023-07-10T18:42:55.616958Z",
          "shell.execute_reply": "2023-07-10T18:42:55.622764Z"
        },
        "trusted": true,
        "id": "hsjX1ai-QEZy"
      },
      "execution_count": 12,
      "outputs": []
    },
    {
      "cell_type": "code",
      "source": [
        "#visualize the dataset\n",
        "plt.scatter(X[:, 0], X[:, 1], c=y, cmap='bwr')\n",
        "plt.xlabel('Feature 1')\n",
        "plt.ylabel('Feature 2')\n",
        "plt.title('Classification Dataset')\n",
        "plt.show()"
      ],
      "metadata": {
        "execution": {
          "iopub.status.busy": "2023-07-10T18:42:59.043037Z",
          "iopub.execute_input": "2023-07-10T18:42:59.043451Z",
          "iopub.status.idle": "2023-07-10T18:42:59.344272Z",
          "shell.execute_reply.started": "2023-07-10T18:42:59.043419Z",
          "shell.execute_reply": "2023-07-10T18:42:59.343071Z"
        },
        "trusted": true,
        "id": "QfT5uGVIQEZz",
        "outputId": "13a606f1-b8ed-48f7-cded-16f9103904aa",
        "colab": {
          "base_uri": "https://localhost:8080/",
          "height": 472
        }
      },
      "execution_count": 13,
      "outputs": [
        {
          "output_type": "display_data",
          "data": {
            "text/plain": [
              "<Figure size 640x480 with 1 Axes>"
            ],
            "image/png": "[encoded data removed]"
          },
          "metadata": {}
        }
      ]
    },
    {
      "cell_type": "code",
      "source": [
        "weights, biases = gradient_descent(X,y)\n",
        "y_hat = predict(X, weights, biases)\n",
        "\n",
        "\n",
        "total_elements = len(y.flatten())\n",
        "correct_predictions = 0\n",
        "\n",
        "for i in range(total_elements):\n",
        "    if y.flatten()[i] == y_hat[i]:\n",
        "        correct_predictions += 1\n",
        "\n",
        "accuracy = correct_predictions / total_elements\n",
        "\n",
        "print(accuracy)\n",
        "plot_decision_boundary(X, y_hat, weights, biases)"
      ],
      "metadata": {
        "execution": {
          "iopub.status.busy": "2023-07-10T18:43:23.742146Z",
          "iopub.execute_input": "2023-07-10T18:43:23.742534Z",
          "iopub.status.idle": "2023-07-10T18:43:24.183045Z",
          "shell.execute_reply.started": "2023-07-10T18:43:23.742506Z",
          "shell.execute_reply": "2023-07-10T18:43:24.181741Z"
        },
        "trusted": true,
        "id": "ln3n8hMGQEZz",
        "outputId": "76becf75-b52b-494a-cf72-bebdc3fb5e3b",
        "colab": {
          "base_uri": "https://localhost:8080/",
          "height": 489
        }
      },
      "execution_count": 14,
      "outputs": [
        {
          "output_type": "stream",
          "name": "stdout",
          "text": [
            "0.89\n"
          ]
        },
        {
          "output_type": "display_data",
          "data": {
            "text/plain": [
              "<Figure size 640x480 with 1 Axes>"
            ],
            "image/png": "[encoded data removed]"
          },
          "metadata": {}
        }
      ]
    },
    {
      "cell_type": "markdown",
      "source": [
        "## Exercise\n",
        "1. Explain the main differences between logistic regression and linear regression. (their underlying assumption and the types of applicable problems)\n",
        "2. apply logistic regression to the following dataset, to bank notes as real or fake."
      ],
      "metadata": {
        "id": "dDELhFKOQEZ0"
      }
    },
    {
      "cell_type": "markdown",
      "source": [
        "The Banknote Authentication Dataset is a collection of data used for binary classification. It contains features extracted from images of genuine and counterfeit banknotes, captured using various sensors."
      ],
      "metadata": {
        "id": "IHPsXOwGXHva"
      }
    },
    {
      "cell_type": "code",
      "source": [
        "import pandas as pd\n",
        "dataset = pd.read_csv(\"https://raw.githubusercontent.com/Dataweekends/zero_to_deep_learning_video/master/data/banknotes.csv\")\n",
        "display(dataset)\n",
        "\n",
        "X = dataset.drop(columns=['class'])  # Replace 'target_column_name' with the actual target column name\n",
        "y = dataset['class']\n",
        "from sklearn.model_selection import train_test_split\n",
        "X_train, X_test, y_train, y_test = train_test_split(X, y, test_size=0.2)\n",
        "X_train, X_test, y_train, y_test = X_train.to_numpy(), X_test.to_numpy(), y_train.to_numpy(), y_test.to_numpy()"
      ],
      "metadata": {
        "execution": {
          "iopub.status.busy": "2023-07-10T18:44:49.860538Z",
          "iopub.execute_input": "2023-07-10T18:44:49.860991Z",
          "iopub.status.idle": "2023-07-10T18:44:49.957959Z",
          "shell.execute_reply.started": "2023-07-10T18:44:49.860960Z",
          "shell.execute_reply": "2023-07-10T18:44:49.957065Z"
        },
        "trusted": true,
        "id": "9RyBaebPQEZ1",
        "outputId": "d820fae2-c890-43d2-a811-7c9ed761ce64",
        "colab": {
          "base_uri": "https://localhost:8080/",
          "height": 423
        }
      },
      "execution_count": 34,
      "outputs": [
        {
          "output_type": "display_data",
          "data": {
            "text/plain": [
              "      variace  skewness  curtosis  entropy  class\n",
              "0     3.62160   8.66610   -2.8073 -0.44699      0\n",
              "1     4.54590   8.16740   -2.4586 -1.46210      0\n",
              "2     3.86600  -2.63830    1.9242  0.10645      0\n",
              "3     3.45660   9.52280   -4.0112 -3.59440      0\n",
              "4     0.32924  -4.45520    4.5718 -0.98880      0\n",
              "...       ...       ...       ...      ...    ...\n",
              "1367  0.40614   1.34920   -1.4501 -0.55949      1\n",
              "1368 -1.38870  -4.87730    6.4774  0.34179      1\n",
              "1369 -3.75030 -13.45860   17.5932 -2.77710      1\n",
              "1370 -3.56370  -8.38270   12.3930 -1.28230      1\n",
              "1371 -2.54190  -0.65804    2.6842  1.19520      1\n",
              "\n",
              "[1372 rows x 5 columns]"
            ],
            "text/html": [
              "\n",
              "\n",
              "  <div id=\"df-63c184e7-70c8-4d17-a649-45ba7cc3e0fc\">\n",
              "    <div class=\"colab-df-container\">\n",
              "      <div>\n",
              "<style scoped>\n",
              "    .dataframe tbody tr th:only-of-type {\n",
              "        vertical-align: middle;\n",
              "    }\n",
              "\n",
              "    .dataframe tbody tr th {\n",
              "        vertical-align: top;\n",
              "    }\n",
              "\n",
              "    .dataframe thead th {\n",
              "        text-align: right;\n",
              "    }\n",
              "</style>\n",
              "<table border=\"1\" class=\"dataframe\">\n",
              "  <thead>\n",
              "    <tr style=\"text-align: right;\">\n",
              "      <th></th>\n",
              "      <th>variace</th>\n",
              "      <th>skewness</th>\n",
              "      <th>curtosis</th>\n",
              "      <th>entropy</th>\n",
              "      <th>class</th>\n",
              "    </tr>\n",
              "  </thead>\n",
              "  <tbody>\n",
              "    <tr>\n",
              "      <th>0</th>\n",
              "      <td>3.62160</td>\n",
              "      <td>8.66610</td>\n",
              "      <td>-2.8073</td>\n",
              "      <td>-0.44699</td>\n",
              "      <td>0</td>\n",
              "    </tr>\n",
              "    <tr>\n",
              "      <th>1</th>\n",
              "      <td>4.54590</td>\n",
              "      <td>8.16740</td>\n",
              "      <td>-2.4586</td>\n",
              "      <td>-1.46210</td>\n",
              "      <td>0</td>\n",
              "    </tr>\n",
              "    <tr>\n",
              "      <th>2</th>\n",
              "      <td>3.86600</td>\n",
              "      <td>-2.63830</td>\n",
              "      <td>1.9242</td>\n",
              "      <td>0.10645</td>\n",
              "      <td>0</td>\n",
              "    </tr>\n",
              "    <tr>\n",
              "      <th>3</th>\n",
              "      <td>3.45660</td>\n",
              "      <td>9.52280</td>\n",
              "      <td>-4.0112</td>\n",
              "      <td>-3.59440</td>\n",
              "      <td>0</td>\n",
              "    </tr>\n",
              "    <tr>\n",
              "      <th>4</th>\n",
              "      <td>0.32924</td>\n",
              "      <td>-4.45520</td>\n",
              "      <td>4.5718</td>\n",
              "      <td>-0.98880</td>\n",
              "      <td>0</td>\n",
              "    </tr>\n",
              "    <tr>\n",
              "      <th>...</th>\n",
              "      <td>...</td>\n",
              "      <td>...</td>\n",
              "      <td>...</td>\n",
              "      <td>...</td>\n",
              "      <td>...</td>\n",
              "    </tr>\n",
              "    <tr>\n",
              "      <th>1367</th>\n",
              "      <td>0.40614</td>\n",
              "      <td>1.34920</td>\n",
              "      <td>-1.4501</td>\n",
              "      <td>-0.55949</td>\n",
              "      <td>1</td>\n",
              "    </tr>\n",
              "    <tr>\n",
              "      <th>1368</th>\n",
              "      <td>-1.38870</td>\n",
              "      <td>-4.87730</td>\n",
              "      <td>6.4774</td>\n",
              "      <td>0.34179</td>\n",
              "      <td>1</td>\n",
              "    </tr>\n",
              "    <tr>\n",
              "      <th>1369</th>\n",
              "      <td>-3.75030</td>\n",
              "      <td>-13.45860</td>\n",
              "      <td>17.5932</td>\n",
              "      <td>-2.77710</td>\n",
              "      <td>1</td>\n",
              "    </tr>\n",
              "    <tr>\n",
              "      <th>1370</th>\n",
              "      <td>-3.56370</td>\n",
              "      <td>-8.38270</td>\n",
              "      <td>12.3930</td>\n",
              "      <td>-1.28230</td>\n",
              "      <td>1</td>\n",
              "    </tr>\n",
              "    <tr>\n",
              "      <th>1371</th>\n",
              "      <td>-2.54190</td>\n",
              "      <td>-0.65804</td>\n",
              "      <td>2.6842</td>\n",
              "      <td>1.19520</td>\n",
              "      <td>1</td>\n",
              "    </tr>\n",
              "  </tbody>\n",
              "</table>\n",
              "<p>1372 rows × 5 columns</p>\n",
              "</div>\n",
              "      <button class=\"colab-df-convert\" onclick=\"convertToInteractive('df-63c184e7-70c8-4d17-a649-45ba7cc3e0fc')\"\n",
              "              title=\"Convert this dataframe to an interactive table.\"\n",
              "              style=\"display:none;\">\n",
              "\n",
              "  <svg xmlns=\"http://www.w3.org/2000/svg\" height=\"24px\"viewBox=\"0 0 24 24\"\n",
              "       width=\"24px\">\n",
              "    <path d=\"M0 0h24v24H0V0z\" fill=\"none\"/>\n",
              "    <path d=\"M18.56 5.44l.94 2.06.94-2.06 2.06-.94-2.06-.94-.94-2.06-.94 2.06-2.06.94zm-11 1L8.5 8.5l.94-2.06 2.06-.94-2.06-.94L8.5 2.5l-.94 2.06-2.06.94zm10 10l.94 2.06.94-2.06 2.06-.94-2.06-.94-.94-2.06-.94 2.06-2.06.94z\"/><path d=\"M17.41 7.96l-1.37-1.37c-.4-.4-.92-.59-1.43-.59-.52 0-1.04.2-1.43.59L10.3 9.45l-7.72 7.72c-.78.78-.78 2.05 0 2.83L4 21.41c.39.39.9.59 1.41.59.51 0 1.02-.2 1.41-.59l7.78-7.78 2.81-2.81c.8-.78.8-2.07 0-2.86zM5.41 20L4 18.59l7.72-7.72 1.47 1.35L5.41 20z\"/>\n",
              "  </svg>\n",
              "      </button>\n",
              "\n",
              "\n",
              "\n",
              "    <div id=\"df-9f83af52-dab2-494c-8dd1-bad978a499ae\">\n",
              "      <button class=\"colab-df-quickchart\" onclick=\"quickchart('df-9f83af52-dab2-494c-8dd1-bad978a499ae')\"\n",
              "              title=\"Suggest charts.\"\n",
              "              style=\"display:none;\">\n",
              "\n",
              "<svg xmlns=\"http://www.w3.org/2000/svg\" height=\"24px\"viewBox=\"0 0 24 24\"\n",
              "     width=\"24px\">\n",
              "    <g>\n",
              "        <path d=\"M19 3H5c-1.1 0-2 .9-2 2v14c0 1.1.9 2 2 2h14c1.1 0 2-.9 2-2V5c0-1.1-.9-2-2-2zM9 17H7v-7h2v7zm4 0h-2V7h2v10zm4 0h-2v-4h2v4z\"/>\n",
              "    </g>\n",
              "</svg>\n",
              "      </button>\n",
              "    </div>\n",
              "\n",
              "<style>\n",
              "  .colab-df-quickchart {\n",
              "    background-color: #E8F0FE;\n",
              "    border: none;\n",
              "    border-radius: 50%;\n",
              "    cursor: pointer;\n",
              "    display: none;\n",
              "    fill: #1967D2;\n",
              "    height: 32px;\n",
              "    padding: 0 0 0 0;\n",
              "    width: 32px;\n",
              "  }\n",
              "\n",
              "  .colab-df-quickchart:hover {\n",
              "    background-color: #E2EBFA;\n",
              "    box-shadow: 0px 1px 2px rgba(60, 64, 67, 0.3), 0px 1px 3px 1px rgba(60, 64, 67, 0.15);\n",
              "    fill: #174EA6;\n",
              "  }\n",
              "\n",
              "  [theme=dark] .colab-df-quickchart {\n",
              "    background-color: #3B4455;\n",
              "    fill: #D2E3FC;\n",
              "  }\n",
              "\n",
              "  [theme=dark] .colab-df-quickchart:hover {\n",
              "    background-color: #434B5C;\n",
              "    box-shadow: 0px 1px 3px 1px rgba(0, 0, 0, 0.15);\n",
              "    filter: drop-shadow(0px 1px 2px rgba(0, 0, 0, 0.3));\n",
              "    fill: #FFFFFF;\n",
              "  }\n",
              "</style>\n",
              "\n",
              "    <script>\n",
              "      async function quickchart(key) {\n",
              "        const containerElement = document.querySelector('#' + key);\n",
              "        const charts = await google.colab.kernel.invokeFunction(\n",
              "            'suggestCharts', [key], {});\n",
              "      }\n",
              "    </script>\n",
              "\n",
              "      <script>\n",
              "\n",
              "function displayQuickchartButton(domScope) {\n",
              "  let quickchartButtonEl =\n",
              "    domScope.querySelector('#df-9f83af52-dab2-494c-8dd1-bad978a499ae button.colab-df-quickchart');\n",
              "  quickchartButtonEl.style.display =\n",
              "    google.colab.kernel.accessAllowed ? 'block' : 'none';\n",
              "}\n",
              "\n",
              "        displayQuickchartButton(document);\n",
              "      </script>\n",
              "      <style>\n",
              "    .colab-df-container {\n",
              "      display:flex;\n",
              "      flex-wrap:wrap;\n",
              "      gap: 12px;\n",
              "    }\n",
              "\n",
              "    .colab-df-convert {\n",
              "      background-color: #E8F0FE;\n",
              "      border: none;\n",
              "      border-radius: 50%;\n",
              "      cursor: pointer;\n",
              "      display: none;\n",
              "      fill: #1967D2;\n",
              "      height: 32px;\n",
              "      padding: 0 0 0 0;\n",
              "      width: 32px;\n",
              "    }\n",
              "\n",
              "    .colab-df-convert:hover {\n",
              "      background-color: #E2EBFA;\n",
              "      box-shadow: 0px 1px 2px rgba(60, 64, 67, 0.3), 0px 1px 3px 1px rgba(60, 64, 67, 0.15);\n",
              "      fill: #174EA6;\n",
              "    }\n",
              "\n",
              "    [theme=dark] .colab-df-convert {\n",
              "      background-color: #3B4455;\n",
              "      fill: #D2E3FC;\n",
              "    }\n",
              "\n",
              "    [theme=dark] .colab-df-convert:hover {\n",
              "      background-color: #434B5C;\n",
              "      box-shadow: 0px 1px 3px 1px rgba(0, 0, 0, 0.15);\n",
              "      filter: drop-shadow(0px 1px 2px rgba(0, 0, 0, 0.3));\n",
              "      fill: #FFFFFF;\n",
              "    }\n",
              "  </style>\n",
              "\n",
              "      <script>\n",
              "        const buttonEl =\n",
              "          document.querySelector('#df-63c184e7-70c8-4d17-a649-45ba7cc3e0fc button.colab-df-convert');\n",
              "        buttonEl.style.display =\n",
              "          google.colab.kernel.accessAllowed ? 'block' : 'none';\n",
              "\n",
              "        async function convertToInteractive(key) {\n",
              "          const element = document.querySelector('#df-63c184e7-70c8-4d17-a649-45ba7cc3e0fc');\n",
              "          const dataTable =\n",
              "            await google.colab.kernel.invokeFunction('convertToInteractive',\n",
              "                                                     [key], {});\n",
              "          if (!dataTable) return;\n",
              "\n",
              "          const docLinkHtml = 'Like what you see? Visit the ' +\n",
              "            '<a target=\"_blank\" href=https://colab.research.google.com/notebooks/data_table.ipynb>data table notebook</a>'\n",
              "            + ' to learn more about interactive tables.';\n",
              "          element.innerHTML = '';\n",
              "          dataTable['output_type'] = 'display_data';\n",
              "          await google.colab.output.renderOutput(dataTable, element);\n",
              "          const docLink = document.createElement('div');\n",
              "          docLink.innerHTML = docLinkHtml;\n",
              "          element.appendChild(docLink);\n",
              "        }\n",
              "      </script>\n",
              "    </div>\n",
              "  </div>\n"
            ]
          },
          "metadata": {}
        }
      ]
    },
    {
      "cell_type": "code",
      "source": [
        "#exercise question 2: code here\n"
      ],
      "metadata": {
        "id": "VNbtN2l8WvFy",
        "outputId": "b57cec14-4469-4953-b39a-094fa068c339",
        "colab": {
          "base_uri": "https://localhost:8080/"
        }
      },
      "execution_count": 36,
      "outputs": [
        {
          "output_type": "stream",
          "name": "stdout",
          "text": [
            "0.9018181818181819\n"
          ]
        }
      ]
    },
    {
      "cell_type": "markdown",
      "source": [
        "### References\n",
        "- https://statquest.org/video-index\n",
        "- https://github.com/marvinlanhenke/DataScience/tree/main/MachineLearningFromScratch/LogisticRegression\n",
        "- https://towardsdatascience.com/logistic-regression-from-scratch-in-python-ec66603592e2"
      ],
      "metadata": {
        "id": "-nk-CvNwQEZ1"
      }
    }
  ]
}