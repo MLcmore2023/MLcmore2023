{
  "metadata": {
    "kernelspec": {
      "language": "python",
      "display_name": "Python 3",
      "name": "python3"
    },
    "language_info": {
      "name": "python",
      "version": "3.10.10",
      "mimetype": "text/x-python",
      "codemirror_mode": {
        "name": "ipython",
        "version": 3
      },
      "pygments_lexer": "ipython3",
      "nbconvert_exporter": "python",
      "file_extension": ".py"
    },
    "colab": {
      "provenance": [],
      "include_colab_link": true
    }
  },
  "nbformat_minor": 0,
  "nbformat": 4,
  "cells": [
    {
      "cell_type": "markdown",
      "metadata": {
        "id": "view-in-github",
        "colab_type": "text"
      },
      "source": [
        "<a href=\"https://colab.research.google.com/github/MLcmore2023/MLcmore2023/blob/main/day2_pm_afternoon/decision-tree-demo.ipynb\" target=\"_parent\"><img src=\"https://colab.research.google.com/assets/colab-badge.svg\" alt=\"Open In Colab\"/></a>"
      ]
    },
    {
      "cell_type": "markdown",
      "source": [
        "# Decision Tree\n",
        "Decision tree is a supervised machine learning algorithm used for classification and regression. A binary tree is constructed, where each internal node represents a feature, and each leaf node represents a prediction or outcome. The tree segment the predictor space (see image below). The tree is built by recursively splitting the dataset based on the best attribute that maximizes information gain or minimizes impurity. When a prediction is needed, the input record traverses the tree from the root to a leaf, following the path determined by the attribute values, and the corresponding prediction is made based on the outcome associated with that leaf node.\n",
        "\n",
        "The classical decision tree algorithms have been around for decades, and they are the basis of more powerful techniques such as random forest.\n",
        "\n",
        "\n",
        "<img src=\"https://miro.medium.com/v2/resize:fit:640/format:webp/1*AqgTZMxAavMAXnDiJtZbBQ.png\">\n",
        "\n",
        "<img src=\"https://miro.medium.com/v2/resize:fit:640/format:webp/1*FrktyoWBlqyh8-J0DtBexA.png\">\n"
      ],
      "metadata": {
        "id": "b0Ar4cHADlHU"
      }
    },
    {
      "cell_type": "markdown",
      "source": [
        "### Import libraries"
      ],
      "metadata": {
        "id": "5sBngR8GDlHc"
      }
    },
    {
      "cell_type": "code",
      "source": [
        "import pandas as pd\n",
        "import numpy as np"
      ],
      "metadata": {
        "execution": {
          "iopub.status.busy": "2023-07-12T21:15:07.235324Z",
          "iopub.execute_input": "2023-07-12T21:15:07.235674Z",
          "iopub.status.idle": "2023-07-12T21:15:07.240504Z",
          "shell.execute_reply.started": "2023-07-12T21:15:07.235648Z",
          "shell.execute_reply": "2023-07-12T21:15:07.239455Z"
        },
        "trusted": true,
        "id": "OrUqlHjGDlHd"
      },
      "execution_count": 4,
      "outputs": []
    },
    {
      "cell_type": "markdown",
      "source": [
        "### Read data from CSV"
      ],
      "metadata": {
        "id": "eCzeOb-5DlHg"
      }
    },
    {
      "cell_type": "code",
      "source": [
        "data = pd.read_csv(\"https://raw.githubusercontent.com/chriswmann/datasets/master/500_Person_Gender_Height_Weight_Index.csv\")\n",
        "display(data)"
      ],
      "metadata": {
        "execution": {
          "iopub.status.busy": "2023-07-12T21:15:07.245204Z",
          "iopub.execute_input": "2023-07-12T21:15:07.245909Z",
          "iopub.status.idle": "2023-07-12T21:15:07.298019Z",
          "shell.execute_reply.started": "2023-07-12T21:15:07.245881Z",
          "shell.execute_reply": "2023-07-12T21:15:07.296961Z"
        },
        "trusted": true,
        "colab": {
          "base_uri": "https://localhost:8080/",
          "height": 423
        },
        "id": "JGhijgEXDlHg",
        "outputId": "500f479a-a3d0-4127-9407-14df5b798388"
      },
      "execution_count": 5,
      "outputs": [
        {
          "output_type": "display_data",
          "data": {
            "text/plain": [
              "     Gender  Height  Weight  Index\n",
              "0      Male     174      96      4\n",
              "1      Male     189      87      2\n",
              "2    Female     185     110      4\n",
              "3    Female     195     104      3\n",
              "4      Male     149      61      3\n",
              "..      ...     ...     ...    ...\n",
              "495  Female     150     153      5\n",
              "496  Female     184     121      4\n",
              "497  Female     141     136      5\n",
              "498    Male     150      95      5\n",
              "499    Male     173     131      5\n",
              "\n",
              "[500 rows x 4 columns]"
            ],
            "text/html": [
              "\n",
              "\n",
              "  <div id=\"df-f41929e6-0e3d-4f93-89d7-7d2fafa6720a\">\n",
              "    <div class=\"colab-df-container\">\n",
              "      <div>\n",
              "<style scoped>\n",
              "    .dataframe tbody tr th:only-of-type {\n",
              "        vertical-align: middle;\n",
              "    }\n",
              "\n",
              "    .dataframe tbody tr th {\n",
              "        vertical-align: top;\n",
              "    }\n",
              "\n",
              "    .dataframe thead th {\n",
              "        text-align: right;\n",
              "    }\n",
              "</style>\n",
              "<table border=\"1\" class=\"dataframe\">\n",
              "  <thead>\n",
              "    <tr style=\"text-align: right;\">\n",
              "      <th></th>\n",
              "      <th>Gender</th>\n",
              "      <th>Height</th>\n",
              "      <th>Weight</th>\n",
              "      <th>Index</th>\n",
              "    </tr>\n",
              "  </thead>\n",
              "  <tbody>\n",
              "    <tr>\n",
              "      <th>0</th>\n",
              "      <td>Male</td>\n",
              "      <td>174</td>\n",
              "      <td>96</td>\n",
              "      <td>4</td>\n",
              "    </tr>\n",
              "    <tr>\n",
              "      <th>1</th>\n",
              "      <td>Male</td>\n",
              "      <td>189</td>\n",
              "      <td>87</td>\n",
              "      <td>2</td>\n",
              "    </tr>\n",
              "    <tr>\n",
              "      <th>2</th>\n",
              "      <td>Female</td>\n",
              "      <td>185</td>\n",
              "      <td>110</td>\n",
              "      <td>4</td>\n",
              "    </tr>\n",
              "    <tr>\n",
              "      <th>3</th>\n",
              "      <td>Female</td>\n",
              "      <td>195</td>\n",
              "      <td>104</td>\n",
              "      <td>3</td>\n",
              "    </tr>\n",
              "    <tr>\n",
              "      <th>4</th>\n",
              "      <td>Male</td>\n",
              "      <td>149</td>\n",
              "      <td>61</td>\n",
              "      <td>3</td>\n",
              "    </tr>\n",
              "    <tr>\n",
              "      <th>...</th>\n",
              "      <td>...</td>\n",
              "      <td>...</td>\n",
              "      <td>...</td>\n",
              "      <td>...</td>\n",
              "    </tr>\n",
              "    <tr>\n",
              "      <th>495</th>\n",
              "      <td>Female</td>\n",
              "      <td>150</td>\n",
              "      <td>153</td>\n",
              "      <td>5</td>\n",
              "    </tr>\n",
              "    <tr>\n",
              "      <th>496</th>\n",
              "      <td>Female</td>\n",
              "      <td>184</td>\n",
              "      <td>121</td>\n",
              "      <td>4</td>\n",
              "    </tr>\n",
              "    <tr>\n",
              "      <th>497</th>\n",
              "      <td>Female</td>\n",
              "      <td>141</td>\n",
              "      <td>136</td>\n",
              "      <td>5</td>\n",
              "    </tr>\n",
              "    <tr>\n",
              "      <th>498</th>\n",
              "      <td>Male</td>\n",
              "      <td>150</td>\n",
              "      <td>95</td>\n",
              "      <td>5</td>\n",
              "    </tr>\n",
              "    <tr>\n",
              "      <th>499</th>\n",
              "      <td>Male</td>\n",
              "      <td>173</td>\n",
              "      <td>131</td>\n",
              "      <td>5</td>\n",
              "    </tr>\n",
              "  </tbody>\n",
              "</table>\n",
              "<p>500 rows × 4 columns</p>\n",
              "</div>\n",
              "      <button class=\"colab-df-convert\" onclick=\"convertToInteractive('df-f41929e6-0e3d-4f93-89d7-7d2fafa6720a')\"\n",
              "              title=\"Convert this dataframe to an interactive table.\"\n",
              "              style=\"display:none;\">\n",
              "\n",
              "  <svg xmlns=\"http://www.w3.org/2000/svg\" height=\"24px\"viewBox=\"0 0 24 24\"\n",
              "       width=\"24px\">\n",
              "    <path d=\"M0 0h24v24H0V0z\" fill=\"none\"/>\n",
              "    <path d=\"M18.56 5.44l.94 2.06.94-2.06 2.06-.94-2.06-.94-.94-2.06-.94 2.06-2.06.94zm-11 1L8.5 8.5l.94-2.06 2.06-.94-2.06-.94L8.5 2.5l-.94 2.06-2.06.94zm10 10l.94 2.06.94-2.06 2.06-.94-2.06-.94-.94-2.06-.94 2.06-2.06.94z\"/><path d=\"M17.41 7.96l-1.37-1.37c-.4-.4-.92-.59-1.43-.59-.52 0-1.04.2-1.43.59L10.3 9.45l-7.72 7.72c-.78.78-.78 2.05 0 2.83L4 21.41c.39.39.9.59 1.41.59.51 0 1.02-.2 1.41-.59l7.78-7.78 2.81-2.81c.8-.78.8-2.07 0-2.86zM5.41 20L4 18.59l7.72-7.72 1.47 1.35L5.41 20z\"/>\n",
              "  </svg>\n",
              "      </button>\n",
              "\n",
              "\n",
              "\n",
              "    <div id=\"df-3b78f7c1-9a53-4e91-9120-826f6a898515\">\n",
              "      <button class=\"colab-df-quickchart\" onclick=\"quickchart('df-3b78f7c1-9a53-4e91-9120-826f6a898515')\"\n",
              "              title=\"Suggest charts.\"\n",
              "              style=\"display:none;\">\n",
              "\n",
              "<svg xmlns=\"http://www.w3.org/2000/svg\" height=\"24px\"viewBox=\"0 0 24 24\"\n",
              "     width=\"24px\">\n",
              "    <g>\n",
              "        <path d=\"M19 3H5c-1.1 0-2 .9-2 2v14c0 1.1.9 2 2 2h14c1.1 0 2-.9 2-2V5c0-1.1-.9-2-2-2zM9 17H7v-7h2v7zm4 0h-2V7h2v10zm4 0h-2v-4h2v4z\"/>\n",
              "    </g>\n",
              "</svg>\n",
              "      </button>\n",
              "    </div>\n",
              "\n",
              "<style>\n",
              "  .colab-df-quickchart {\n",
              "    background-color: #E8F0FE;\n",
              "    border: none;\n",
              "    border-radius: 50%;\n",
              "    cursor: pointer;\n",
              "    display: none;\n",
              "    fill: #1967D2;\n",
              "    height: 32px;\n",
              "    padding: 0 0 0 0;\n",
              "    width: 32px;\n",
              "  }\n",
              "\n",
              "  .colab-df-quickchart:hover {\n",
              "    background-color: #E2EBFA;\n",
              "    box-shadow: 0px 1px 2px rgba(60, 64, 67, 0.3), 0px 1px 3px 1px rgba(60, 64, 67, 0.15);\n",
              "    fill: #174EA6;\n",
              "  }\n",
              "\n",
              "  [theme=dark] .colab-df-quickchart {\n",
              "    background-color: #3B4455;\n",
              "    fill: #D2E3FC;\n",
              "  }\n",
              "\n",
              "  [theme=dark] .colab-df-quickchart:hover {\n",
              "    background-color: #434B5C;\n",
              "    box-shadow: 0px 1px 3px 1px rgba(0, 0, 0, 0.15);\n",
              "    filter: drop-shadow(0px 1px 2px rgba(0, 0, 0, 0.3));\n",
              "    fill: #FFFFFF;\n",
              "  }\n",
              "</style>\n",
              "\n",
              "    <script>\n",
              "      async function quickchart(key) {\n",
              "        const containerElement = document.querySelector('#' + key);\n",
              "        const charts = await google.colab.kernel.invokeFunction(\n",
              "            'suggestCharts', [key], {});\n",
              "      }\n",
              "    </script>\n",
              "\n",
              "      <script>\n",
              "\n",
              "function displayQuickchartButton(domScope) {\n",
              "  let quickchartButtonEl =\n",
              "    domScope.querySelector('#df-3b78f7c1-9a53-4e91-9120-826f6a898515 button.colab-df-quickchart');\n",
              "  quickchartButtonEl.style.display =\n",
              "    google.colab.kernel.accessAllowed ? 'block' : 'none';\n",
              "}\n",
              "\n",
              "        displayQuickchartButton(document);\n",
              "      </script>\n",
              "      <style>\n",
              "    .colab-df-container {\n",
              "      display:flex;\n",
              "      flex-wrap:wrap;\n",
              "      gap: 12px;\n",
              "    }\n",
              "\n",
              "    .colab-df-convert {\n",
              "      background-color: #E8F0FE;\n",
              "      border: none;\n",
              "      border-radius: 50%;\n",
              "      cursor: pointer;\n",
              "      display: none;\n",
              "      fill: #1967D2;\n",
              "      height: 32px;\n",
              "      padding: 0 0 0 0;\n",
              "      width: 32px;\n",
              "    }\n",
              "\n",
              "    .colab-df-convert:hover {\n",
              "      background-color: #E2EBFA;\n",
              "      box-shadow: 0px 1px 2px rgba(60, 64, 67, 0.3), 0px 1px 3px 1px rgba(60, 64, 67, 0.15);\n",
              "      fill: #174EA6;\n",
              "    }\n",
              "\n",
              "    [theme=dark] .colab-df-convert {\n",
              "      background-color: #3B4455;\n",
              "      fill: #D2E3FC;\n",
              "    }\n",
              "\n",
              "    [theme=dark] .colab-df-convert:hover {\n",
              "      background-color: #434B5C;\n",
              "      box-shadow: 0px 1px 3px 1px rgba(0, 0, 0, 0.15);\n",
              "      filter: drop-shadow(0px 1px 2px rgba(0, 0, 0, 0.3));\n",
              "      fill: #FFFFFF;\n",
              "    }\n",
              "  </style>\n",
              "\n",
              "      <script>\n",
              "        const buttonEl =\n",
              "          document.querySelector('#df-f41929e6-0e3d-4f93-89d7-7d2fafa6720a button.colab-df-convert');\n",
              "        buttonEl.style.display =\n",
              "          google.colab.kernel.accessAllowed ? 'block' : 'none';\n",
              "\n",
              "        async function convertToInteractive(key) {\n",
              "          const element = document.querySelector('#df-f41929e6-0e3d-4f93-89d7-7d2fafa6720a');\n",
              "          const dataTable =\n",
              "            await google.colab.kernel.invokeFunction('convertToInteractive',\n",
              "                                                     [key], {});\n",
              "          if (!dataTable) return;\n",
              "\n",
              "          const docLinkHtml = 'Like what you see? Visit the ' +\n",
              "            '<a target=\"_blank\" href=https://colab.research.google.com/notebooks/data_table.ipynb>data table notebook</a>'\n",
              "            + ' to learn more about interactive tables.';\n",
              "          element.innerHTML = '';\n",
              "          dataTable['output_type'] = 'display_data';\n",
              "          await google.colab.output.renderOutput(dataTable, element);\n",
              "          const docLink = document.createElement('div');\n",
              "          docLink.innerHTML = docLinkHtml;\n",
              "          element.appendChild(docLink);\n",
              "        }\n",
              "      </script>\n",
              "    </div>\n",
              "  </div>\n"
            ]
          },
          "metadata": {}
        }
      ]
    },
    {
      "cell_type": "code",
      "source": [
        "data['obese'] = (data.Index >= 4).astype('int')\n",
        "data.drop('Index', axis = 1, inplace = True)\n",
        "display(data)"
      ],
      "metadata": {
        "execution": {
          "iopub.status.busy": "2023-07-12T21:15:07.299508Z",
          "iopub.execute_input": "2023-07-12T21:15:07.299819Z",
          "iopub.status.idle": "2023-07-12T21:15:07.320394Z",
          "shell.execute_reply.started": "2023-07-12T21:15:07.299792Z",
          "shell.execute_reply": "2023-07-12T21:15:07.319736Z"
        },
        "trusted": true,
        "colab": {
          "base_uri": "https://localhost:8080/",
          "height": 423
        },
        "id": "GdMC3jGtDlHi",
        "outputId": "dd148d7b-8bec-427a-f08c-ce938345095e"
      },
      "execution_count": 6,
      "outputs": [
        {
          "output_type": "display_data",
          "data": {
            "text/plain": [
              "     Gender  Height  Weight  obese\n",
              "0      Male     174      96      1\n",
              "1      Male     189      87      0\n",
              "2    Female     185     110      1\n",
              "3    Female     195     104      0\n",
              "4      Male     149      61      0\n",
              "..      ...     ...     ...    ...\n",
              "495  Female     150     153      1\n",
              "496  Female     184     121      1\n",
              "497  Female     141     136      1\n",
              "498    Male     150      95      1\n",
              "499    Male     173     131      1\n",
              "\n",
              "[500 rows x 4 columns]"
            ],
            "text/html": [
              "\n",
              "\n",
              "  <div id=\"df-7db5decf-184e-4752-a8ab-1038719126d0\">\n",
              "    <div class=\"colab-df-container\">\n",
              "      <div>\n",
              "<style scoped>\n",
              "    .dataframe tbody tr th:only-of-type {\n",
              "        vertical-align: middle;\n",
              "    }\n",
              "\n",
              "    .dataframe tbody tr th {\n",
              "        vertical-align: top;\n",
              "    }\n",
              "\n",
              "    .dataframe thead th {\n",
              "        text-align: right;\n",
              "    }\n",
              "</style>\n",
              "<table border=\"1\" class=\"dataframe\">\n",
              "  <thead>\n",
              "    <tr style=\"text-align: right;\">\n",
              "      <th></th>\n",
              "      <th>Gender</th>\n",
              "      <th>Height</th>\n",
              "      <th>Weight</th>\n",
              "      <th>obese</th>\n",
              "    </tr>\n",
              "  </thead>\n",
              "  <tbody>\n",
              "    <tr>\n",
              "      <th>0</th>\n",
              "      <td>Male</td>\n",
              "      <td>174</td>\n",
              "      <td>96</td>\n",
              "      <td>1</td>\n",
              "    </tr>\n",
              "    <tr>\n",
              "      <th>1</th>\n",
              "      <td>Male</td>\n",
              "      <td>189</td>\n",
              "      <td>87</td>\n",
              "      <td>0</td>\n",
              "    </tr>\n",
              "    <tr>\n",
              "      <th>2</th>\n",
              "      <td>Female</td>\n",
              "      <td>185</td>\n",
              "      <td>110</td>\n",
              "      <td>1</td>\n",
              "    </tr>\n",
              "    <tr>\n",
              "      <th>3</th>\n",
              "      <td>Female</td>\n",
              "      <td>195</td>\n",
              "      <td>104</td>\n",
              "      <td>0</td>\n",
              "    </tr>\n",
              "    <tr>\n",
              "      <th>4</th>\n",
              "      <td>Male</td>\n",
              "      <td>149</td>\n",
              "      <td>61</td>\n",
              "      <td>0</td>\n",
              "    </tr>\n",
              "    <tr>\n",
              "      <th>...</th>\n",
              "      <td>...</td>\n",
              "      <td>...</td>\n",
              "      <td>...</td>\n",
              "      <td>...</td>\n",
              "    </tr>\n",
              "    <tr>\n",
              "      <th>495</th>\n",
              "      <td>Female</td>\n",
              "      <td>150</td>\n",
              "      <td>153</td>\n",
              "      <td>1</td>\n",
              "    </tr>\n",
              "    <tr>\n",
              "      <th>496</th>\n",
              "      <td>Female</td>\n",
              "      <td>184</td>\n",
              "      <td>121</td>\n",
              "      <td>1</td>\n",
              "    </tr>\n",
              "    <tr>\n",
              "      <th>497</th>\n",
              "      <td>Female</td>\n",
              "      <td>141</td>\n",
              "      <td>136</td>\n",
              "      <td>1</td>\n",
              "    </tr>\n",
              "    <tr>\n",
              "      <th>498</th>\n",
              "      <td>Male</td>\n",
              "      <td>150</td>\n",
              "      <td>95</td>\n",
              "      <td>1</td>\n",
              "    </tr>\n",
              "    <tr>\n",
              "      <th>499</th>\n",
              "      <td>Male</td>\n",
              "      <td>173</td>\n",
              "      <td>131</td>\n",
              "      <td>1</td>\n",
              "    </tr>\n",
              "  </tbody>\n",
              "</table>\n",
              "<p>500 rows × 4 columns</p>\n",
              "</div>\n",
              "      <button class=\"colab-df-convert\" onclick=\"convertToInteractive('df-7db5decf-184e-4752-a8ab-1038719126d0')\"\n",
              "              title=\"Convert this dataframe to an interactive table.\"\n",
              "              style=\"display:none;\">\n",
              "\n",
              "  <svg xmlns=\"http://www.w3.org/2000/svg\" height=\"24px\"viewBox=\"0 0 24 24\"\n",
              "       width=\"24px\">\n",
              "    <path d=\"M0 0h24v24H0V0z\" fill=\"none\"/>\n",
              "    <path d=\"M18.56 5.44l.94 2.06.94-2.06 2.06-.94-2.06-.94-.94-2.06-.94 2.06-2.06.94zm-11 1L8.5 8.5l.94-2.06 2.06-.94-2.06-.94L8.5 2.5l-.94 2.06-2.06.94zm10 10l.94 2.06.94-2.06 2.06-.94-2.06-.94-.94-2.06-.94 2.06-2.06.94z\"/><path d=\"M17.41 7.96l-1.37-1.37c-.4-.4-.92-.59-1.43-.59-.52 0-1.04.2-1.43.59L10.3 9.45l-7.72 7.72c-.78.78-.78 2.05 0 2.83L4 21.41c.39.39.9.59 1.41.59.51 0 1.02-.2 1.41-.59l7.78-7.78 2.81-2.81c.8-.78.8-2.07 0-2.86zM5.41 20L4 18.59l7.72-7.72 1.47 1.35L5.41 20z\"/>\n",
              "  </svg>\n",
              "      </button>\n",
              "\n",
              "\n",
              "\n",
              "    <div id=\"df-3a3d0d42-dfb9-42c9-84e1-32a3c4c355c7\">\n",
              "      <button class=\"colab-df-quickchart\" onclick=\"quickchart('df-3a3d0d42-dfb9-42c9-84e1-32a3c4c355c7')\"\n",
              "              title=\"Suggest charts.\"\n",
              "              style=\"display:none;\">\n",
              "\n",
              "<svg xmlns=\"http://www.w3.org/2000/svg\" height=\"24px\"viewBox=\"0 0 24 24\"\n",
              "     width=\"24px\">\n",
              "    <g>\n",
              "        <path d=\"M19 3H5c-1.1 0-2 .9-2 2v14c0 1.1.9 2 2 2h14c1.1 0 2-.9 2-2V5c0-1.1-.9-2-2-2zM9 17H7v-7h2v7zm4 0h-2V7h2v10zm4 0h-2v-4h2v4z\"/>\n",
              "    </g>\n",
              "</svg>\n",
              "      </button>\n",
              "    </div>\n",
              "\n",
              "<style>\n",
              "  .colab-df-quickchart {\n",
              "    background-color: #E8F0FE;\n",
              "    border: none;\n",
              "    border-radius: 50%;\n",
              "    cursor: pointer;\n",
              "    display: none;\n",
              "    fill: #1967D2;\n",
              "    height: 32px;\n",
              "    padding: 0 0 0 0;\n",
              "    width: 32px;\n",
              "  }\n",
              "\n",
              "  .colab-df-quickchart:hover {\n",
              "    background-color: #E2EBFA;\n",
              "    box-shadow: 0px 1px 2px rgba(60, 64, 67, 0.3), 0px 1px 3px 1px rgba(60, 64, 67, 0.15);\n",
              "    fill: #174EA6;\n",
              "  }\n",
              "\n",
              "  [theme=dark] .colab-df-quickchart {\n",
              "    background-color: #3B4455;\n",
              "    fill: #D2E3FC;\n",
              "  }\n",
              "\n",
              "  [theme=dark] .colab-df-quickchart:hover {\n",
              "    background-color: #434B5C;\n",
              "    box-shadow: 0px 1px 3px 1px rgba(0, 0, 0, 0.15);\n",
              "    filter: drop-shadow(0px 1px 2px rgba(0, 0, 0, 0.3));\n",
              "    fill: #FFFFFF;\n",
              "  }\n",
              "</style>\n",
              "\n",
              "    <script>\n",
              "      async function quickchart(key) {\n",
              "        const containerElement = document.querySelector('#' + key);\n",
              "        const charts = await google.colab.kernel.invokeFunction(\n",
              "            'suggestCharts', [key], {});\n",
              "      }\n",
              "    </script>\n",
              "\n",
              "      <script>\n",
              "\n",
              "function displayQuickchartButton(domScope) {\n",
              "  let quickchartButtonEl =\n",
              "    domScope.querySelector('#df-3a3d0d42-dfb9-42c9-84e1-32a3c4c355c7 button.colab-df-quickchart');\n",
              "  quickchartButtonEl.style.display =\n",
              "    google.colab.kernel.accessAllowed ? 'block' : 'none';\n",
              "}\n",
              "\n",
              "        displayQuickchartButton(document);\n",
              "      </script>\n",
              "      <style>\n",
              "    .colab-df-container {\n",
              "      display:flex;\n",
              "      flex-wrap:wrap;\n",
              "      gap: 12px;\n",
              "    }\n",
              "\n",
              "    .colab-df-convert {\n",
              "      background-color: #E8F0FE;\n",
              "      border: none;\n",
              "      border-radius: 50%;\n",
              "      cursor: pointer;\n",
              "      display: none;\n",
              "      fill: #1967D2;\n",
              "      height: 32px;\n",
              "      padding: 0 0 0 0;\n",
              "      width: 32px;\n",
              "    }\n",
              "\n",
              "    .colab-df-convert:hover {\n",
              "      background-color: #E2EBFA;\n",
              "      box-shadow: 0px 1px 2px rgba(60, 64, 67, 0.3), 0px 1px 3px 1px rgba(60, 64, 67, 0.15);\n",
              "      fill: #174EA6;\n",
              "    }\n",
              "\n",
              "    [theme=dark] .colab-df-convert {\n",
              "      background-color: #3B4455;\n",
              "      fill: #D2E3FC;\n",
              "    }\n",
              "\n",
              "    [theme=dark] .colab-df-convert:hover {\n",
              "      background-color: #434B5C;\n",
              "      box-shadow: 0px 1px 3px 1px rgba(0, 0, 0, 0.15);\n",
              "      filter: drop-shadow(0px 1px 2px rgba(0, 0, 0, 0.3));\n",
              "      fill: #FFFFFF;\n",
              "    }\n",
              "  </style>\n",
              "\n",
              "      <script>\n",
              "        const buttonEl =\n",
              "          document.querySelector('#df-7db5decf-184e-4752-a8ab-1038719126d0 button.colab-df-convert');\n",
              "        buttonEl.style.display =\n",
              "          google.colab.kernel.accessAllowed ? 'block' : 'none';\n",
              "\n",
              "        async function convertToInteractive(key) {\n",
              "          const element = document.querySelector('#df-7db5decf-184e-4752-a8ab-1038719126d0');\n",
              "          const dataTable =\n",
              "            await google.colab.kernel.invokeFunction('convertToInteractive',\n",
              "                                                     [key], {});\n",
              "          if (!dataTable) return;\n",
              "\n",
              "          const docLinkHtml = 'Like what you see? Visit the ' +\n",
              "            '<a target=\"_blank\" href=https://colab.research.google.com/notebooks/data_table.ipynb>data table notebook</a>'\n",
              "            + ' to learn more about interactive tables.';\n",
              "          element.innerHTML = '';\n",
              "          dataTable['output_type'] = 'display_data';\n",
              "          await google.colab.output.renderOutput(dataTable, element);\n",
              "          const docLink = document.createElement('div');\n",
              "          docLink.innerHTML = docLinkHtml;\n",
              "          element.appendChild(docLink);\n",
              "        }\n",
              "      </script>\n",
              "    </div>\n",
              "  </div>\n"
            ]
          },
          "metadata": {}
        }
      ]
    },
    {
      "cell_type": "markdown",
      "source": [
        "## Decision tree algorithm\n",
        "A decision trees have many sub-trees, each enhacing the prediction of the previous node. This goes until we get to a node that does not split. This last node is known as a leaf node.\n",
        "\n",
        "For example:\n",
        "\n",
        "<img src=\"https://raw.githubusercontent.com/MLcmore2023/MLcmore2023/main/.images/decisiontree1.png\">\n",
        "\n",
        "The decision tree algorithm's goal is to find the best variables and cutoff values for each decision node"
      ],
      "metadata": {
        "id": "KkL-h14UDlHj"
      }
    },
    {
      "cell_type": "markdown",
      "source": [
        "### Cost function\n",
        "\"Impurty\" means the likelyhood of an incorrect classification when a division is performed. The purpose of cost functions in this algorithm is to evaluate impurity.\n",
        "\n",
        "For example, lets make a random cut at weight=100kg. If we do so, there will be 82 miss classifications"
      ],
      "metadata": {
        "id": "cGkzi4xFDlHk"
      }
    },
    {
      "cell_type": "code",
      "source": [
        "#Count of misclassifications when cutting at 100kg:\n",
        "print(data.loc[(data['Weight']>=100) & (data['obese']==0),:].shape[0])\n",
        "print(data.loc[(data['Weight']<100) & (data['obese']==1),:].shape[0])\n",
        "print(\"Count of misclassifications:\",18+64)"
      ],
      "metadata": {
        "execution": {
          "iopub.status.busy": "2023-07-12T21:15:07.321511Z",
          "iopub.execute_input": "2023-07-12T21:15:07.322148Z",
          "iopub.status.idle": "2023-07-12T21:15:07.332098Z",
          "shell.execute_reply.started": "2023-07-12T21:15:07.322111Z",
          "shell.execute_reply": "2023-07-12T21:15:07.331135Z"
        },
        "trusted": true,
        "colab": {
          "base_uri": "https://localhost:8080/"
        },
        "id": "AZZiJLYWDlHk",
        "outputId": "57a3a0b1-d8d3-49f0-a665-8394c010216e"
      },
      "execution_count": 7,
      "outputs": [
        {
          "output_type": "stream",
          "name": "stdout",
          "text": [
            "18\n",
            "64\n",
            "Count of misclassifications: 82\n"
          ]
        }
      ]
    },
    {
      "cell_type": "markdown",
      "source": [
        "If we cut at weight=80kg, there will be only 78 misclassifications. Therefore, this cut is better."
      ],
      "metadata": {
        "id": "6GmV3D6KDlHl"
      }
    },
    {
      "cell_type": "code",
      "source": [
        "#Count of misclassifications when cutting at 80kg:\n",
        "print(data.loc[(data['Weight']>=80) & (data['obese']==0),:].shape[0])\n",
        "print(data.loc[(data['Weight']<80) & (data['obese']==1),:].shape[0])\n",
        "print(\"Count of misclassifications:\",63+15)"
      ],
      "metadata": {
        "execution": {
          "iopub.status.busy": "2023-07-12T21:15:07.334395Z",
          "iopub.execute_input": "2023-07-12T21:15:07.334672Z",
          "iopub.status.idle": "2023-07-12T21:15:07.342093Z",
          "shell.execute_reply.started": "2023-07-12T21:15:07.334648Z",
          "shell.execute_reply": "2023-07-12T21:15:07.341160Z"
        },
        "trusted": true,
        "colab": {
          "base_uri": "https://localhost:8080/"
        },
        "id": "KfBgHU0BDlHm",
        "outputId": "2a55f25b-d937-4feb-d876-fc96a232ac8a"
      },
      "execution_count": 8,
      "outputs": [
        {
          "output_type": "stream",
          "name": "stdout",
          "text": [
            "63\n",
            "15\n",
            "Count of misclassifications: 78\n"
          ]
        }
      ]
    },
    {
      "cell_type": "markdown",
      "source": [
        "### Gini index\n",
        "The Gini index (also known as Gini impurity) is a popular cost function in decision trees. It is a measure that quantifies the impurity or disorder of a dataset with respect to the class labels.\n",
        "The Gini index ranges from 0 to 0.5, where 0 indicates perfect purity (all data points belong to a single class) and 0.5 indicates maximum impurity (data points are evenly distributed across all classes). The Gini index is calculated as follows:\n",
        "\n",
        "$$\n",
        "Gini = 1 - \\sum_{i=1}^{n} (P_i)^2\n",
        " $$\n",
        "\n",
        "Where P<sub>i</sub> is the probability of having that class or value."
      ],
      "metadata": {
        "id": "p1CgN1mbDlHm"
      }
    },
    {
      "cell_type": "code",
      "source": [
        "def gini_index(y_list, print_demo=False):\n",
        "  # find the list of categories in the list (which is the list of unique elements in the list)\n",
        "  category_list = np.unique(y_list)\n",
        "\n",
        "  # number of total elements in the list\n",
        "  N = len(y_list)\n",
        "\n",
        "  gini = 1\n",
        "  for category in category_list: # go through all categories\n",
        "    count = np.sum(y_list==category)\n",
        "    P_i = count / N\n",
        "    if print_demo:\n",
        "      print(f\"Category: {category}, Count: {count}, P_i: {P_i}\")\n",
        "\n",
        "    gini = gini - P_i**2\n",
        "  return gini\n",
        "\n",
        "# we can see that the result is very close to 0.5 because the list is very impure\n",
        "print( gini_index(data.Gender.values,   print_demo=True) )"
      ],
      "metadata": {
        "colab": {
          "base_uri": "https://localhost:8080/"
        },
        "id": "5GAURl5q1gyR",
        "outputId": "ae5399a1-1d18-4773-bd4f-8be262eae241"
      },
      "execution_count": 46,
      "outputs": [
        {
          "output_type": "stream",
          "name": "stdout",
          "text": [
            "Category: Female, Count: 255, P_i: 0.51\n",
            "Category: Male, Count: 245, P_i: 0.49\n",
            "0.4998\n"
          ]
        }
      ]
    },
    {
      "cell_type": "markdown",
      "source": [
        "### Entropy\n",
        "Another way to measure impurity is entropy. In information theory, entropy describes the average level of information or uncertainty and can be defined as the following.\n",
        "$$ S = -\\sum P_i \\log_2 P_i$$\n",
        "Unlike the Gini index, whose range goes from 0 to 0.5, the entropy range is different, since it goes from 0 to 1. Values close to zero are less impure than those that approach 1.\n",
        "\n",
        "Later, when making a decision tree split, entropy is used to evaluate the potential splits based on different features. The split that results in the lowest entropy (i.e., the greatest reduction in impurity) is chosen."
      ],
      "metadata": {
        "id": "qFWG2FxaDlHn"
      }
    },
    {
      "cell_type": "code",
      "source": [
        "def entropy(y_list, print_demo=False):\n",
        "    # find the list of categories in the list (which is the list of unique elements in the list)\n",
        "    category_list = np.unique(y_list)\n",
        "\n",
        "    # number of total elements in the list\n",
        "    N = len(y_list)\n",
        "\n",
        "    entropy_val = 0\n",
        "    for category in category_list: # go through all categories\n",
        "        count = np.sum(y_list == category)\n",
        "        P_i = count / N\n",
        "\n",
        "        if print_demo:\n",
        "            print(f\"Category: {category}, Count: {count}, P_i: {P_i}\")\n",
        "\n",
        "        entropy_val = entropy_val - P_i * np.log2(P_i)\n",
        "\n",
        "    return entropy_val\n",
        "\n",
        "# we can see that the result is very close to 1 because the list is very impure\n",
        "print( entropy(data.Gender.values)  )"
      ],
      "metadata": {
        "execution": {
          "iopub.status.busy": "2023-07-12T21:15:07.357345Z",
          "iopub.execute_input": "2023-07-12T21:15:07.357751Z",
          "iopub.status.idle": "2023-07-12T21:15:07.367530Z",
          "shell.execute_reply.started": "2023-07-12T21:15:07.357679Z",
          "shell.execute_reply": "2023-07-12T21:15:07.366590Z"
        },
        "trusted": true,
        "colab": {
          "base_uri": "https://localhost:8080/"
        },
        "id": "mFN46YAoDlHn",
        "outputId": "0768e889-3400-4de0-adc6-5f57daf98d12"
      },
      "execution_count": 47,
      "outputs": [
        {
          "output_type": "stream",
          "name": "stdout",
          "text": [
            "0.9997114417528099\n"
          ]
        }
      ]
    },
    {
      "cell_type": "markdown",
      "source": [
        "### Information Gain\n",
        "\n",
        "As we have seen, cuts are compared by impurity. Therefore, we are interested in comparing those cuts that generate less impurity. We use information gain for this. It indicates the improvement when making different partitions and is usually used with entropy (it could also be used with the Gini index, although in that case the name would not be called information gain).\n",
        "\n",
        "Information gain is calculated by measuring the reduction in entropy (or increase in purity) achieved after splitting the data based on a specific feature. It is calculated as the difference between the entropy of the parent node before the split and the weighted average of the entropies of the child nodes after the split.\n",
        "\n",
        "$$ \\text{Information Gain}(D, A) = \\text{Entropy}(D) - \\sum_{v \\in \\text{Values}(A)} \\frac{|D_v|}{|D|} \\times \\text{Entropy}(D_v)\n",
        "$$\n",
        "\n",
        "$\n",
        "\\begin{align*}\n",
        "D &: \\text{dataset at the current node.} \\\\\n",
        "A &: \\text{feature being considered for splitting.} \\\\\n",
        "\\text{Values}(A) &: \\text{possible values that feature } A \\text{ can take.} \\\\\n",
        "D_v &: \\text{subset of data where feature } A \\text{ takes the value } v.\n",
        "\\end{align*}\n",
        "$\n",
        "\n",
        "The higher the Information Gain for a feature, the more it helps in reducing uncertainty in the target variable. Later, our algorithm will select the feature that offers the highest Information Gain as the splitting criterion at each node.\n"
      ],
      "metadata": {
        "id": "A4cJR9i-DlHn"
      }
    },
    {
      "cell_type": "code",
      "source": [
        "def variance(y):\n",
        "    if(len(y) == 1):\n",
        "        return 0\n",
        "    else:\n",
        "        return y.var()\n",
        "\n",
        "def information_gain(y, mask, impurity_function=entropy):\n",
        "    a = sum(mask)\n",
        "    b = mask.shape[0] - a\n",
        "\n",
        "    if(a == 0 or b ==0):\n",
        "        ig = 0\n",
        "\n",
        "    else:\n",
        "        if y.dtypes != 'O':\n",
        "            ig = variance(y) - (a/(a+b)* variance(y[mask])) - (b/(a+b)*variance(y[-mask]))\n",
        "        else:\n",
        "              ig = impurity_function(y)-a/(a+b)*impurity_function(y[mask])-b/(a+b)*impurity_function(y[-mask])\n",
        "    return ig\n"
      ],
      "metadata": {
        "execution": {
          "iopub.status.busy": "2023-07-12T21:15:07.368634Z",
          "iopub.execute_input": "2023-07-12T21:15:07.369381Z",
          "iopub.status.idle": "2023-07-12T21:15:07.377171Z",
          "shell.execute_reply.started": "2023-07-12T21:15:07.369354Z",
          "shell.execute_reply": "2023-07-12T21:15:07.376236Z"
        },
        "trusted": true,
        "id": "bhwO4XVoDlHo"
      },
      "execution_count": 11,
      "outputs": []
    },
    {
      "cell_type": "markdown",
      "source": [
        "An information gain of 1 would be the best possible result."
      ],
      "metadata": {
        "id": "wjEhBI7G8FUV"
      }
    },
    {
      "cell_type": "code",
      "source": [
        "information_gain(data['obese'], data['Gender'] == 'Male')"
      ],
      "metadata": {
        "execution": {
          "iopub.status.busy": "2023-07-12T21:15:07.378328Z",
          "iopub.execute_input": "2023-07-12T21:15:07.378607Z",
          "iopub.status.idle": "2023-07-12T21:15:07.390904Z",
          "shell.execute_reply.started": "2023-07-12T21:15:07.378582Z",
          "shell.execute_reply": "2023-07-12T21:15:07.390022Z"
        },
        "trusted": true,
        "colab": {
          "base_uri": "https://localhost:8080/"
        },
        "id": "hFcVM_QcDlHo",
        "outputId": "dc4a9878-56cc-4ae5-a730-8bdd59a82c1b"
      },
      "execution_count": 12,
      "outputs": [
        {
          "output_type": "execute_result",
          "data": {
            "text/plain": [
              "-0.0002808244603315635"
            ]
          },
          "metadata": {},
          "execution_count": 12
        }
      ]
    },
    {
      "cell_type": "code",
      "source": [
        "information_gain(data['obese'], data['Weight'] <100)"
      ],
      "metadata": {
        "execution": {
          "iopub.status.busy": "2023-07-12T21:21:52.927197Z",
          "iopub.execute_input": "2023-07-12T21:21:52.927586Z",
          "iopub.status.idle": "2023-07-12T21:21:52.935802Z",
          "shell.execute_reply.started": "2023-07-12T21:21:52.927557Z",
          "shell.execute_reply": "2023-07-12T21:21:52.934689Z"
        },
        "trusted": true,
        "colab": {
          "base_uri": "https://localhost:8080/"
        },
        "id": "NLmCcsRSDlHo",
        "outputId": "64899830-4e06-45d2-aa44-85f4f294ae0e"
      },
      "execution_count": 13,
      "outputs": [
        {
          "output_type": "execute_result",
          "data": {
            "text/plain": [
              "0.10145545873057096"
            ]
          },
          "metadata": {},
          "execution_count": 13
        }
      ]
    },
    {
      "cell_type": "markdown",
      "source": [
        "### Making splits"
      ],
      "metadata": {
        "id": "EM_lcDV6DlHp"
      }
    },
    {
      "cell_type": "markdown",
      "source": [
        "1. Calculate the information gain for all variables.\n",
        "2. Choose the split that generates the highest information gain as a split.\n",
        "3. Repeat step 1 and 2"
      ],
      "metadata": {
        "id": "RGHSt0ScDlHp"
      }
    },
    {
      "cell_type": "code",
      "source": [
        "import itertools\n",
        "\n",
        "def categorical_options(a):\n",
        "  '''\n",
        "  Creates all possible combinations from a Pandas Series.\n",
        "  a: Pandas Series from where to get all possible combinations.\n",
        "  '''\n",
        "  a = a.unique()\n",
        "\n",
        "  opciones = []\n",
        "  for L in range(0, len(a)+1):\n",
        "      for subset in itertools.combinations(a, L):\n",
        "          subset = list(subset)\n",
        "          opciones.append(subset)\n",
        "\n",
        "  return opciones[1:-1]\n",
        "\n",
        "def max_information_gain_split(x, y, func=entropy):\n",
        "  '''\n",
        "  Given a predictor & target variable, returns the best split, the error and the type of variable based on a selected cost function.\n",
        "  x: predictor variable as Pandas Series.\n",
        "  y: target variable as Pandas Series.\n",
        "  func: function to be used to calculate the best split.\n",
        "  '''\n",
        "\n",
        "  split_value = []\n",
        "  ig = []\n",
        "\n",
        "  numeric_variable = True if x.dtypes != 'O' else False\n",
        "\n",
        "  # Create options according to variable type\n",
        "  if numeric_variable:\n",
        "    options = x.sort_values().unique()[1:]\n",
        "  else:\n",
        "    options = categorical_options(x)\n",
        "\n",
        "  # Calculate ig for all values\n",
        "  for val in options:\n",
        "    mask =   x < val if numeric_variable else x.isin(val)\n",
        "    val_ig = information_gain(y, mask, func)\n",
        "    # Append results\n",
        "    ig.append(val_ig)\n",
        "    split_value.append(val)\n",
        "\n",
        "  # Check if there are more than 1 results if not, return False\n",
        "  if len(ig) == 0:\n",
        "    return(None,None,None, False)\n",
        "\n",
        "  else:\n",
        "  # Get results with highest IG\n",
        "    best_ig = max(ig)\n",
        "    best_ig_index = ig.index(best_ig)\n",
        "    best_split = split_value[best_ig_index]\n",
        "    return(best_ig,best_split,numeric_variable, True)\n",
        "\n",
        "\n",
        "weight_ig, weight_slpit, _, _ = max_information_gain_split(data['Weight'], data['obese'],)\n",
        "\n",
        "\n",
        "print(\n",
        "  \"The best split for Weight is when the variable is less than \",\n",
        "  weight_slpit,\"\\nInformation Gain for that split is:\", weight_ig\n",
        ")\n"
      ],
      "metadata": {
        "execution": {
          "iopub.status.busy": "2023-07-12T21:15:07.392856Z",
          "iopub.execute_input": "2023-07-12T21:15:07.393176Z",
          "iopub.status.idle": "2023-07-12T21:15:07.494662Z",
          "shell.execute_reply.started": "2023-07-12T21:15:07.393147Z",
          "shell.execute_reply": "2023-07-12T21:15:07.493686Z"
        },
        "trusted": true,
        "colab": {
          "base_uri": "https://localhost:8080/"
        },
        "id": "0JepNKpmDlHp",
        "outputId": "e54fc5f4-7be4-4e4e-a5e7-33b10b99df44"
      },
      "execution_count": 14,
      "outputs": [
        {
          "output_type": "stream",
          "name": "stdout",
          "text": [
            "The best split for Weight is when the variable is less than  103 \n",
            "Information Gain for that split is: 0.10625190497954967\n"
          ]
        }
      ]
    },
    {
      "cell_type": "code",
      "source": [
        "data.drop('obese', axis= 1).apply(max_information_gain_split, y = data['obese'])\n"
      ],
      "metadata": {
        "execution": {
          "iopub.status.busy": "2023-07-12T21:15:07.495918Z",
          "iopub.execute_input": "2023-07-12T21:15:07.496288Z",
          "iopub.status.idle": "2023-07-12T21:15:07.644618Z",
          "shell.execute_reply.started": "2023-07-12T21:15:07.496260Z",
          "shell.execute_reply": "2023-07-12T21:15:07.643593Z"
        },
        "trusted": true,
        "colab": {
          "base_uri": "https://localhost:8080/",
          "height": 174
        },
        "id": "xve03mypDlHq",
        "outputId": "94c3fc28-1206-47fb-d49a-4320d3c55b81"
      },
      "execution_count": 15,
      "outputs": [
        {
          "output_type": "execute_result",
          "data": {
            "text/plain": [
              "     Gender    Height    Weight\n",
              "0 -0.000281  0.019684  0.106252\n",
              "1    [Male]       174       103\n",
              "2     False      True      True\n",
              "3      True      True      True"
            ],
            "text/html": [
              "\n",
              "\n",
              "  <div id=\"df-c113d443-238b-4313-98e3-96c24502e934\">\n",
              "    <div class=\"colab-df-container\">\n",
              "      <div>\n",
              "<style scoped>\n",
              "    .dataframe tbody tr th:only-of-type {\n",
              "        vertical-align: middle;\n",
              "    }\n",
              "\n",
              "    .dataframe tbody tr th {\n",
              "        vertical-align: top;\n",
              "    }\n",
              "\n",
              "    .dataframe thead th {\n",
              "        text-align: right;\n",
              "    }\n",
              "</style>\n",
              "<table border=\"1\" class=\"dataframe\">\n",
              "  <thead>\n",
              "    <tr style=\"text-align: right;\">\n",
              "      <th></th>\n",
              "      <th>Gender</th>\n",
              "      <th>Height</th>\n",
              "      <th>Weight</th>\n",
              "    </tr>\n",
              "  </thead>\n",
              "  <tbody>\n",
              "    <tr>\n",
              "      <th>0</th>\n",
              "      <td>-0.000281</td>\n",
              "      <td>0.019684</td>\n",
              "      <td>0.106252</td>\n",
              "    </tr>\n",
              "    <tr>\n",
              "      <th>1</th>\n",
              "      <td>[Male]</td>\n",
              "      <td>174</td>\n",
              "      <td>103</td>\n",
              "    </tr>\n",
              "    <tr>\n",
              "      <th>2</th>\n",
              "      <td>False</td>\n",
              "      <td>True</td>\n",
              "      <td>True</td>\n",
              "    </tr>\n",
              "    <tr>\n",
              "      <th>3</th>\n",
              "      <td>True</td>\n",
              "      <td>True</td>\n",
              "      <td>True</td>\n",
              "    </tr>\n",
              "  </tbody>\n",
              "</table>\n",
              "</div>\n",
              "      <button class=\"colab-df-convert\" onclick=\"convertToInteractive('df-c113d443-238b-4313-98e3-96c24502e934')\"\n",
              "              title=\"Convert this dataframe to an interactive table.\"\n",
              "              style=\"display:none;\">\n",
              "\n",
              "  <svg xmlns=\"http://www.w3.org/2000/svg\" height=\"24px\"viewBox=\"0 0 24 24\"\n",
              "       width=\"24px\">\n",
              "    <path d=\"M0 0h24v24H0V0z\" fill=\"none\"/>\n",
              "    <path d=\"M18.56 5.44l.94 2.06.94-2.06 2.06-.94-2.06-.94-.94-2.06-.94 2.06-2.06.94zm-11 1L8.5 8.5l.94-2.06 2.06-.94-2.06-.94L8.5 2.5l-.94 2.06-2.06.94zm10 10l.94 2.06.94-2.06 2.06-.94-2.06-.94-.94-2.06-.94 2.06-2.06.94z\"/><path d=\"M17.41 7.96l-1.37-1.37c-.4-.4-.92-.59-1.43-.59-.52 0-1.04.2-1.43.59L10.3 9.45l-7.72 7.72c-.78.78-.78 2.05 0 2.83L4 21.41c.39.39.9.59 1.41.59.51 0 1.02-.2 1.41-.59l7.78-7.78 2.81-2.81c.8-.78.8-2.07 0-2.86zM5.41 20L4 18.59l7.72-7.72 1.47 1.35L5.41 20z\"/>\n",
              "  </svg>\n",
              "      </button>\n",
              "\n",
              "\n",
              "\n",
              "    <div id=\"df-73ecd0f1-c210-4d3e-98d7-3973f750121d\">\n",
              "      <button class=\"colab-df-quickchart\" onclick=\"quickchart('df-73ecd0f1-c210-4d3e-98d7-3973f750121d')\"\n",
              "              title=\"Suggest charts.\"\n",
              "              style=\"display:none;\">\n",
              "\n",
              "<svg xmlns=\"http://www.w3.org/2000/svg\" height=\"24px\"viewBox=\"0 0 24 24\"\n",
              "     width=\"24px\">\n",
              "    <g>\n",
              "        <path d=\"M19 3H5c-1.1 0-2 .9-2 2v14c0 1.1.9 2 2 2h14c1.1 0 2-.9 2-2V5c0-1.1-.9-2-2-2zM9 17H7v-7h2v7zm4 0h-2V7h2v10zm4 0h-2v-4h2v4z\"/>\n",
              "    </g>\n",
              "</svg>\n",
              "      </button>\n",
              "    </div>\n",
              "\n",
              "<style>\n",
              "  .colab-df-quickchart {\n",
              "    background-color: #E8F0FE;\n",
              "    border: none;\n",
              "    border-radius: 50%;\n",
              "    cursor: pointer;\n",
              "    display: none;\n",
              "    fill: #1967D2;\n",
              "    height: 32px;\n",
              "    padding: 0 0 0 0;\n",
              "    width: 32px;\n",
              "  }\n",
              "\n",
              "  .colab-df-quickchart:hover {\n",
              "    background-color: #E2EBFA;\n",
              "    box-shadow: 0px 1px 2px rgba(60, 64, 67, 0.3), 0px 1px 3px 1px rgba(60, 64, 67, 0.15);\n",
              "    fill: #174EA6;\n",
              "  }\n",
              "\n",
              "  [theme=dark] .colab-df-quickchart {\n",
              "    background-color: #3B4455;\n",
              "    fill: #D2E3FC;\n",
              "  }\n",
              "\n",
              "  [theme=dark] .colab-df-quickchart:hover {\n",
              "    background-color: #434B5C;\n",
              "    box-shadow: 0px 1px 3px 1px rgba(0, 0, 0, 0.15);\n",
              "    filter: drop-shadow(0px 1px 2px rgba(0, 0, 0, 0.3));\n",
              "    fill: #FFFFFF;\n",
              "  }\n",
              "</style>\n",
              "\n",
              "    <script>\n",
              "      async function quickchart(key) {\n",
              "        const containerElement = document.querySelector('#' + key);\n",
              "        const charts = await google.colab.kernel.invokeFunction(\n",
              "            'suggestCharts', [key], {});\n",
              "      }\n",
              "    </script>\n",
              "\n",
              "      <script>\n",
              "\n",
              "function displayQuickchartButton(domScope) {\n",
              "  let quickchartButtonEl =\n",
              "    domScope.querySelector('#df-73ecd0f1-c210-4d3e-98d7-3973f750121d button.colab-df-quickchart');\n",
              "  quickchartButtonEl.style.display =\n",
              "    google.colab.kernel.accessAllowed ? 'block' : 'none';\n",
              "}\n",
              "\n",
              "        displayQuickchartButton(document);\n",
              "      </script>\n",
              "      <style>\n",
              "    .colab-df-container {\n",
              "      display:flex;\n",
              "      flex-wrap:wrap;\n",
              "      gap: 12px;\n",
              "    }\n",
              "\n",
              "    .colab-df-convert {\n",
              "      background-color: #E8F0FE;\n",
              "      border: none;\n",
              "      border-radius: 50%;\n",
              "      cursor: pointer;\n",
              "      display: none;\n",
              "      fill: #1967D2;\n",
              "      height: 32px;\n",
              "      padding: 0 0 0 0;\n",
              "      width: 32px;\n",
              "    }\n",
              "\n",
              "    .colab-df-convert:hover {\n",
              "      background-color: #E2EBFA;\n",
              "      box-shadow: 0px 1px 2px rgba(60, 64, 67, 0.3), 0px 1px 3px 1px rgba(60, 64, 67, 0.15);\n",
              "      fill: #174EA6;\n",
              "    }\n",
              "\n",
              "    [theme=dark] .colab-df-convert {\n",
              "      background-color: #3B4455;\n",
              "      fill: #D2E3FC;\n",
              "    }\n",
              "\n",
              "    [theme=dark] .colab-df-convert:hover {\n",
              "      background-color: #434B5C;\n",
              "      box-shadow: 0px 1px 3px 1px rgba(0, 0, 0, 0.15);\n",
              "      filter: drop-shadow(0px 1px 2px rgba(0, 0, 0, 0.3));\n",
              "      fill: #FFFFFF;\n",
              "    }\n",
              "  </style>\n",
              "\n",
              "      <script>\n",
              "        const buttonEl =\n",
              "          document.querySelector('#df-c113d443-238b-4313-98e3-96c24502e934 button.colab-df-convert');\n",
              "        buttonEl.style.display =\n",
              "          google.colab.kernel.accessAllowed ? 'block' : 'none';\n",
              "\n",
              "        async function convertToInteractive(key) {\n",
              "          const element = document.querySelector('#df-c113d443-238b-4313-98e3-96c24502e934');\n",
              "          const dataTable =\n",
              "            await google.colab.kernel.invokeFunction('convertToInteractive',\n",
              "                                                     [key], {});\n",
              "          if (!dataTable) return;\n",
              "\n",
              "          const docLinkHtml = 'Like what you see? Visit the ' +\n",
              "            '<a target=\"_blank\" href=https://colab.research.google.com/notebooks/data_table.ipynb>data table notebook</a>'\n",
              "            + ' to learn more about interactive tables.';\n",
              "          element.innerHTML = '';\n",
              "          dataTable['output_type'] = 'display_data';\n",
              "          await google.colab.output.renderOutput(dataTable, element);\n",
              "          const docLink = document.createElement('div');\n",
              "          docLink.innerHTML = docLinkHtml;\n",
              "          element.appendChild(docLink);\n",
              "        }\n",
              "      </script>\n",
              "    </div>\n",
              "  </div>\n"
            ]
          },
          "metadata": {},
          "execution_count": 15
        }
      ]
    },
    {
      "cell_type": "markdown",
      "source": [
        "As we can see, the variable with the highest Information Gain is Weight. Therefore, it will be the variable that we use first to do the split. In addition, we also have the value on which the split must be performed: 103."
      ],
      "metadata": {
        "id": "b-6a-yEWDlHq"
      }
    },
    {
      "cell_type": "markdown",
      "source": [
        "### Determining the depth of the tree\n",
        "\n",
        "To avoiding overfitting, we will use three ways to limit the tree depth:\n",
        "\n",
        "- max_depth: maximum depth of the tree.\n",
        "- min_samples_split: indicates the minimum number of observations a sheet must have to continue creating new nodes.\n",
        "- min_information_gain: the minimum amount the information gain must increase for the tree to continue growing.\n",
        "\n",
        "\n",
        "The three functions below are one that, given some data, returns the best split with its corresponding information, another that, given some data and a split, makes the split and returns the prediction and finally, a function that given some data, makes a prediction.\n",
        "\n"
      ],
      "metadata": {
        "id": "Q7D3YeYeDlHr"
      }
    },
    {
      "cell_type": "code",
      "source": [
        "def get_best_split(y, data):\n",
        "  '''\n",
        "  Given a data, select the best split and return the variable, the value, the variable type and the information gain.\n",
        "  y: name of the target variable\n",
        "  data: dataframe where to find the best split.\n",
        "  '''\n",
        "  masks = data.drop(y, axis= 1).apply(max_information_gain_split, y = data[y])\n",
        "  if sum(masks.loc[3,:]) == 0:\n",
        "    return(None, None, None, None)\n",
        "  else:\n",
        "    # Get only masks that can be splitted\n",
        "    masks = masks.loc[:,masks.loc[3,:]]\n",
        "\n",
        "    # Get the results for split with highest IG\n",
        "    split_variable = masks.iloc[0].astype(np.float32).idxmax()\n",
        "    #split_valid = masks[split_variable][]\n",
        "    split_value = masks[split_variable][1]\n",
        "    split_ig = masks[split_variable][0]\n",
        "    split_numeric = masks[split_variable][2]\n",
        "\n",
        "    return(split_variable, split_value, split_ig, split_numeric)\n",
        "\n",
        "\n",
        "def make_split(variable, value, data, is_numeric):\n",
        "  '''\n",
        "  Given a data and a split conditions, do the split.\n",
        "  variable: variable with which make the split.\n",
        "  value: value of the variable to make the split.\n",
        "  data: data to be splitted.\n",
        "  is_numeric: boolean considering if the variable to be splitted is numeric or not.\n",
        "  '''\n",
        "  if is_numeric:\n",
        "    data_1 = data[data[variable] < value]\n",
        "    data_2 = data[(data[variable] < value) == False]\n",
        "\n",
        "  else:\n",
        "    data_1 = data[data[variable].isin(value)]\n",
        "    data_2 = data[(data[variable].isin(value)) == False]\n",
        "\n",
        "  return(data_1,data_2)\n",
        "\n",
        "def make_prediction(data, target_factor):\n",
        "  '''\n",
        "  Given the target variable, make a prediction.\n",
        "  data: pandas series for target variable\n",
        "  target_factor: boolean considering if the variable is a factor or not\n",
        "  '''\n",
        "\n",
        "  # Make predictions\n",
        "  if target_factor:\n",
        "    pred = data.value_counts().idxmax()\n",
        "  else:\n",
        "    pred = data.mean()\n",
        "\n",
        "  return pred\n"
      ],
      "metadata": {
        "execution": {
          "iopub.status.busy": "2023-07-12T21:15:07.646421Z",
          "iopub.execute_input": "2023-07-12T21:15:07.646959Z",
          "iopub.status.idle": "2023-07-12T21:15:07.655791Z",
          "shell.execute_reply.started": "2023-07-12T21:15:07.646931Z",
          "shell.execute_reply": "2023-07-12T21:15:07.655102Z"
        },
        "trusted": true,
        "id": "alEnDPR6DlHr"
      },
      "execution_count": 16,
      "outputs": []
    },
    {
      "cell_type": "code",
      "source": [
        "def train_tree(data, y, target_factor, max_depth=None, min_samples_split=None, min_information_gain=1e-20, counter=0, max_categories=20):\n",
        "    '''\n",
        "    Trains a Decision Tree\n",
        "    data: Data to be used to train the Decision Tree\n",
        "    y: target variable column name\n",
        "    target_factor: boolean to consider if target variable is factor or numeric.\n",
        "    max_depth: maximum depth to stop splitting.\n",
        "    min_samples_split: minimum number of observations to make a split.\n",
        "    min_information_gain: minimum ig gain to consider a split to be valid.\n",
        "    max_categories: maximum number of different values accepted for categorical values. High number of values will slow down learning process. R\n",
        "    '''\n",
        "\n",
        "    # Check that max_categories is fulfilled\n",
        "    if counter == 0:\n",
        "        types = data.dtypes\n",
        "        check_columns = types[types == \"object\"].index\n",
        "        for column in check_columns:\n",
        "            var_length = len(data[column].value_counts())\n",
        "            if var_length > max_categories:\n",
        "                raise ValueError('The variable ' + column + ' has ' + str(var_length) + ' unique values, which is more than the accepted ones: ' + str(max_categories))\n",
        "\n",
        "    # Check for depth conditions\n",
        "    if max_depth is None:\n",
        "        depth_cond = True\n",
        "    else:\n",
        "        if counter < max_depth:\n",
        "            depth_cond = True\n",
        "        else:\n",
        "            depth_cond = False\n",
        "\n",
        "    # Check for sample conditions\n",
        "    if min_samples_split is None:\n",
        "        sample_cond = True\n",
        "    else:\n",
        "        if data.shape[0] > min_samples_split:\n",
        "            sample_cond = True\n",
        "        else:\n",
        "            sample_cond = False\n",
        "\n",
        "    # Check for ig condition\n",
        "    if depth_cond and sample_cond:\n",
        "        var, val, ig, var_type = get_best_split(y, data)\n",
        "\n",
        "        # If ig condition is fulfilled, make split\n",
        "        if ig is not None and ig >= min_information_gain:\n",
        "            counter += 1\n",
        "            left, right = make_split(var, val, data, var_type)\n",
        "\n",
        "            # Instantiate sub-tree\n",
        "            split_type = \"<=\" if var_type else \"in\"\n",
        "            question = \"{} {} {}\".format(var, split_type, val)\n",
        "            subtree = {question: []}\n",
        "\n",
        "            # Find answers (recursion)\n",
        "            yes_answer = train_tree(left, y, target_factor, max_depth, min_samples_split, min_information_gain, counter)\n",
        "            no_answer = train_tree(right, y, target_factor, max_depth, min_samples_split, min_information_gain, counter)\n",
        "\n",
        "            if yes_answer == no_answer:\n",
        "                subtree = yes_answer\n",
        "            else:\n",
        "                subtree[question].append(yes_answer)\n",
        "                subtree[question].append(no_answer)\n",
        "\n",
        "        # If it doesn't match IG condition, make prediction\n",
        "        else:\n",
        "            pred = make_prediction(data[y], target_factor)\n",
        "            return pred\n",
        "\n",
        "    # Drop dataset if it doesn't match depth or sample conditions\n",
        "    else:\n",
        "        pred = make_prediction(data[y], target_factor)\n",
        "        return pred\n",
        "\n",
        "    return subtree\n",
        "\n",
        "\n",
        "max_depth = 5\n",
        "min_samples_split = 20\n",
        "min_information_gain = 1e-5\n",
        "\n",
        "decisions = train_tree(data, 'obese', True, max_depth, min_samples_split, min_information_gain)\n",
        "\n",
        "print(decisions)\n"
      ],
      "metadata": {
        "execution": {
          "iopub.status.busy": "2023-07-12T21:15:07.656891Z",
          "iopub.execute_input": "2023-07-12T21:15:07.657194Z",
          "iopub.status.idle": "2023-07-12T21:15:08.520991Z",
          "shell.execute_reply.started": "2023-07-12T21:15:07.657170Z",
          "shell.execute_reply": "2023-07-12T21:15:08.519926Z"
        },
        "trusted": true,
        "colab": {
          "base_uri": "https://localhost:8080/"
        },
        "id": "RI4TBoFgDlHr",
        "outputId": "b4da3025-90d0-41b8-9a1a-2a3ef892d3ec"
      },
      "execution_count": 17,
      "outputs": [
        {
          "output_type": "stream",
          "name": "stdout",
          "text": [
            "{'Weight <= 103': [{'Height <= 175': [{'Weight <= 74': [{'Height <= 148': [1, 0]}, {'Height <= 162': [1, {'Weight <= 82': [0, 1]}]}]}, 0]}, {'Height <= 189': [{'Weight <= 116': [{'Height <= 168': [1, {'Height <= 169': [0, 1]}]}, 1]}, {'Weight <= 115': [0, 1]}]}]}\n"
          ]
        }
      ]
    },
    {
      "cell_type": "markdown",
      "source": [
        "### Making predictions"
      ],
      "metadata": {
        "id": "FPdZVQSYDlHr"
      }
    },
    {
      "cell_type": "code",
      "source": [
        "def classify_data(observation, tree):\n",
        "    question = list(tree.keys())[0]\n",
        "\n",
        "    if question.split()[1] == '<=':\n",
        "        if observation[question.split()[0]] <= float(question.split()[2]):\n",
        "            answer = tree[question][0]\n",
        "        else:\n",
        "            answer = tree[question][1]\n",
        "    else:\n",
        "        if observation[question.split()[0]] in (question.split()[2]):\n",
        "            answer = tree[question][0]\n",
        "        else:\n",
        "            answer = tree[question][1]\n",
        "\n",
        "    # If the answer is not a dictionary\n",
        "    if not isinstance(answer, dict):\n",
        "        return answer\n",
        "    else:\n",
        "        residual_tree = answer\n",
        "        return classify_data(observation, answer)"
      ],
      "metadata": {
        "execution": {
          "iopub.status.busy": "2023-07-12T21:15:08.523322Z",
          "iopub.execute_input": "2023-07-12T21:15:08.523730Z",
          "iopub.status.idle": "2023-07-12T21:15:08.537060Z",
          "shell.execute_reply.started": "2023-07-12T21:15:08.523674Z",
          "shell.execute_reply": "2023-07-12T21:15:08.534428Z"
        },
        "trusted": true,
        "id": "9yQ21HlpDlHs"
      },
      "execution_count": 18,
      "outputs": []
    },
    {
      "cell_type": "markdown",
      "source": [
        "### Evaluate accuracy"
      ],
      "metadata": {
        "id": "qHG6EhmjDlHs"
      }
    },
    {
      "cell_type": "code",
      "source": [
        "correct_predictions = 0\n",
        "total_predictions = len(data)\n",
        "\n",
        "for _, observation in data.iterrows():\n",
        "    predicted_class = classify_data(observation, decisions)\n",
        "    actual_class = observation['obese']  # Replace 'target_column' with your actual column name\n",
        "\n",
        "    if predicted_class == actual_class:\n",
        "        correct_predictions += 1\n",
        "accuracy = correct_predictions / total_predictions\n",
        "print(f\"Accuracy: {accuracy}\")\n"
      ],
      "metadata": {
        "execution": {
          "iopub.status.busy": "2023-07-12T21:15:08.537943Z",
          "iopub.execute_input": "2023-07-12T21:15:08.538238Z",
          "iopub.status.idle": "2023-07-12T21:15:08.587668Z",
          "shell.execute_reply.started": "2023-07-12T21:15:08.538213Z",
          "shell.execute_reply": "2023-07-12T21:15:08.586693Z"
        },
        "trusted": true,
        "colab": {
          "base_uri": "https://localhost:8080/"
        },
        "id": "nra5qm15DlHs",
        "outputId": "b0b81e3d-6317-4a73-ea08-637ec1188b5d"
      },
      "execution_count": 19,
      "outputs": [
        {
          "output_type": "stream",
          "name": "stdout",
          "text": [
            "Accuracy: 0.958\n"
          ]
        }
      ]
    },
    {
      "cell_type": "markdown",
      "source": [
        "### Exercise:\n",
        "1. Modify code so it uses the Gini index in cost function instead of the entropy function"
      ],
      "metadata": {
        "id": "NgsoCMo5DlHs"
      }
    },
    {
      "cell_type": "markdown",
      "source": [
        "## References\n",
        "- https://anderfernandez.com/en/blog/code-decision-tree-python-from-scratch/\n",
        "- https://towardsai.net/p/programming/decision-trees-explained-with-a-practical-example-fe47872d3b53\n",
        "- https://www.datacamp.com/tutorial/decision-tree-classification-python\n",
        "- https://towardsdatascience.com/decision-tree-algorithm-in-python-from-scratch-8c43f0e40173"
      ],
      "metadata": {
        "id": "wse6z4lmDlHs"
      }
    }
  ]
}