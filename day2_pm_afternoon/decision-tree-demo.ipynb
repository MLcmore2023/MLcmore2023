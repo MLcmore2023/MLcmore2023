{
  "metadata": {
    "kernelspec": {
      "language": "python",
      "display_name": "Python 3",
      "name": "python3"
    },
    "language_info": {
      "name": "python",
      "version": "3.10.10",
      "mimetype": "text/x-python",
      "codemirror_mode": {
        "name": "ipython",
        "version": 3
      },
      "pygments_lexer": "ipython3",
      "nbconvert_exporter": "python",
      "file_extension": ".py"
    },
    "colab": {
      "provenance": [],
      "include_colab_link": true
    }
  },
  "nbformat_minor": 0,
  "nbformat": 4,
  "cells": [
    {
      "cell_type": "markdown",
      "metadata": {
        "id": "view-in-github",
        "colab_type": "text"
      },
      "source": [
        "<a href=\"https://colab.research.google.com/github/MLcmore2023/MLcmore2023/blob/main/day2_pm_afternoon/decision-tree-demo.ipynb\" target=\"_parent\"><img src=\"https://colab.research.google.com/assets/colab-badge.svg\" alt=\"Open In Colab\"/></a>"
      ]
    },
    {
      "cell_type": "markdown",
      "source": [
        "#### Intro to Pandas syntax"
      ],
      "metadata": {
        "id": "gBXbgIuaYEgK"
      }
    },
    {
      "cell_type": "code",
      "source": [
        "import pandas as pd\n",
        "dataset = pd.DataFrame({'Name': ['Alice', 'Bob', 'Charlie', 'David', 'Eva'],\n",
        "        'Age': [25, 30, 22, 28, 35],\n",
        "        'City': ['New York', 'Los Angeles', 'Chicago', 'Houston', 'Miami']})\n",
        "display(dataset)"
      ],
      "metadata": {
        "colab": {
          "base_uri": "https://localhost:8080/",
          "height": 206
        },
        "id": "fEqChelXYH3W",
        "outputId": "831dfb8f-9cb8-4194-b8ac-4d0b01190a72"
      },
      "execution_count": 407,
      "outputs": [
        {
          "output_type": "display_data",
          "data": {
            "text/plain": [
              "      Name  Age         City\n",
              "0    Alice   25     New York\n",
              "1      Bob   30  Los Angeles\n",
              "2  Charlie   22      Chicago\n",
              "3    David   28      Houston\n",
              "4      Eva   35        Miami"
            ],
            "text/html": [
              "\n",
              "\n",
              "  <div id=\"df-76ca6c3a-7bc9-4ffc-8151-2790708141fc\">\n",
              "    <div class=\"colab-df-container\">\n",
              "      <div>\n",
              "<style scoped>\n",
              "    .dataframe tbody tr th:only-of-type {\n",
              "        vertical-align: middle;\n",
              "    }\n",
              "\n",
              "    .dataframe tbody tr th {\n",
              "        vertical-align: top;\n",
              "    }\n",
              "\n",
              "    .dataframe thead th {\n",
              "        text-align: right;\n",
              "    }\n",
              "</style>\n",
              "<table border=\"1\" class=\"dataframe\">\n",
              "  <thead>\n",
              "    <tr style=\"text-align: right;\">\n",
              "      <th></th>\n",
              "      <th>Name</th>\n",
              "      <th>Age</th>\n",
              "      <th>City</th>\n",
              "    </tr>\n",
              "  </thead>\n",
              "  <tbody>\n",
              "    <tr>\n",
              "      <th>0</th>\n",
              "      <td>Alice</td>\n",
              "      <td>25</td>\n",
              "      <td>New York</td>\n",
              "    </tr>\n",
              "    <tr>\n",
              "      <th>1</th>\n",
              "      <td>Bob</td>\n",
              "      <td>30</td>\n",
              "      <td>Los Angeles</td>\n",
              "    </tr>\n",
              "    <tr>\n",
              "      <th>2</th>\n",
              "      <td>Charlie</td>\n",
              "      <td>22</td>\n",
              "      <td>Chicago</td>\n",
              "    </tr>\n",
              "    <tr>\n",
              "      <th>3</th>\n",
              "      <td>David</td>\n",
              "      <td>28</td>\n",
              "      <td>Houston</td>\n",
              "    </tr>\n",
              "    <tr>\n",
              "      <th>4</th>\n",
              "      <td>Eva</td>\n",
              "      <td>35</td>\n",
              "      <td>Miami</td>\n",
              "    </tr>\n",
              "  </tbody>\n",
              "</table>\n",
              "</div>\n",
              "      <button class=\"colab-df-convert\" onclick=\"convertToInteractive('df-76ca6c3a-7bc9-4ffc-8151-2790708141fc')\"\n",
              "              title=\"Convert this dataframe to an interactive table.\"\n",
              "              style=\"display:none;\">\n",
              "\n",
              "  <svg xmlns=\"http://www.w3.org/2000/svg\" height=\"24px\"viewBox=\"0 0 24 24\"\n",
              "       width=\"24px\">\n",
              "    <path d=\"M0 0h24v24H0V0z\" fill=\"none\"/>\n",
              "    <path d=\"M18.56 5.44l.94 2.06.94-2.06 2.06-.94-2.06-.94-.94-2.06-.94 2.06-2.06.94zm-11 1L8.5 8.5l.94-2.06 2.06-.94-2.06-.94L8.5 2.5l-.94 2.06-2.06.94zm10 10l.94 2.06.94-2.06 2.06-.94-2.06-.94-.94-2.06-.94 2.06-2.06.94z\"/><path d=\"M17.41 7.96l-1.37-1.37c-.4-.4-.92-.59-1.43-.59-.52 0-1.04.2-1.43.59L10.3 9.45l-7.72 7.72c-.78.78-.78 2.05 0 2.83L4 21.41c.39.39.9.59 1.41.59.51 0 1.02-.2 1.41-.59l7.78-7.78 2.81-2.81c.8-.78.8-2.07 0-2.86zM5.41 20L4 18.59l7.72-7.72 1.47 1.35L5.41 20z\"/>\n",
              "  </svg>\n",
              "      </button>\n",
              "\n",
              "\n",
              "\n",
              "    <div id=\"df-230af143-de4b-40cc-adda-9e77ecd73733\">\n",
              "      <button class=\"colab-df-quickchart\" onclick=\"quickchart('df-230af143-de4b-40cc-adda-9e77ecd73733')\"\n",
              "              title=\"Suggest charts.\"\n",
              "              style=\"display:none;\">\n",
              "\n",
              "<svg xmlns=\"http://www.w3.org/2000/svg\" height=\"24px\"viewBox=\"0 0 24 24\"\n",
              "     width=\"24px\">\n",
              "    <g>\n",
              "        <path d=\"M19 3H5c-1.1 0-2 .9-2 2v14c0 1.1.9 2 2 2h14c1.1 0 2-.9 2-2V5c0-1.1-.9-2-2-2zM9 17H7v-7h2v7zm4 0h-2V7h2v10zm4 0h-2v-4h2v4z\"/>\n",
              "    </g>\n",
              "</svg>\n",
              "      </button>\n",
              "    </div>\n",
              "\n",
              "<style>\n",
              "  .colab-df-quickchart {\n",
              "    background-color: #E8F0FE;\n",
              "    border: none;\n",
              "    border-radius: 50%;\n",
              "    cursor: pointer;\n",
              "    display: none;\n",
              "    fill: #1967D2;\n",
              "    height: 32px;\n",
              "    padding: 0 0 0 0;\n",
              "    width: 32px;\n",
              "  }\n",
              "\n",
              "  .colab-df-quickchart:hover {\n",
              "    background-color: #E2EBFA;\n",
              "    box-shadow: 0px 1px 2px rgba(60, 64, 67, 0.3), 0px 1px 3px 1px rgba(60, 64, 67, 0.15);\n",
              "    fill: #174EA6;\n",
              "  }\n",
              "\n",
              "  [theme=dark] .colab-df-quickchart {\n",
              "    background-color: #3B4455;\n",
              "    fill: #D2E3FC;\n",
              "  }\n",
              "\n",
              "  [theme=dark] .colab-df-quickchart:hover {\n",
              "    background-color: #434B5C;\n",
              "    box-shadow: 0px 1px 3px 1px rgba(0, 0, 0, 0.15);\n",
              "    filter: drop-shadow(0px 1px 2px rgba(0, 0, 0, 0.3));\n",
              "    fill: #FFFFFF;\n",
              "  }\n",
              "</style>\n",
              "\n",
              "    <script>\n",
              "      async function quickchart(key) {\n",
              "        const containerElement = document.querySelector('#' + key);\n",
              "        const charts = await google.colab.kernel.invokeFunction(\n",
              "            'suggestCharts', [key], {});\n",
              "      }\n",
              "    </script>\n",
              "\n",
              "      <script>\n",
              "\n",
              "function displayQuickchartButton(domScope) {\n",
              "  let quickchartButtonEl =\n",
              "    domScope.querySelector('#df-230af143-de4b-40cc-adda-9e77ecd73733 button.colab-df-quickchart');\n",
              "  quickchartButtonEl.style.display =\n",
              "    google.colab.kernel.accessAllowed ? 'block' : 'none';\n",
              "}\n",
              "\n",
              "        displayQuickchartButton(document);\n",
              "      </script>\n",
              "      <style>\n",
              "    .colab-df-container {\n",
              "      display:flex;\n",
              "      flex-wrap:wrap;\n",
              "      gap: 12px;\n",
              "    }\n",
              "\n",
              "    .colab-df-convert {\n",
              "      background-color: #E8F0FE;\n",
              "      border: none;\n",
              "      border-radius: 50%;\n",
              "      cursor: pointer;\n",
              "      display: none;\n",
              "      fill: #1967D2;\n",
              "      height: 32px;\n",
              "      padding: 0 0 0 0;\n",
              "      width: 32px;\n",
              "    }\n",
              "\n",
              "    .colab-df-convert:hover {\n",
              "      background-color: #E2EBFA;\n",
              "      box-shadow: 0px 1px 2px rgba(60, 64, 67, 0.3), 0px 1px 3px 1px rgba(60, 64, 67, 0.15);\n",
              "      fill: #174EA6;\n",
              "    }\n",
              "\n",
              "    [theme=dark] .colab-df-convert {\n",
              "      background-color: #3B4455;\n",
              "      fill: #D2E3FC;\n",
              "    }\n",
              "\n",
              "    [theme=dark] .colab-df-convert:hover {\n",
              "      background-color: #434B5C;\n",
              "      box-shadow: 0px 1px 3px 1px rgba(0, 0, 0, 0.15);\n",
              "      filter: drop-shadow(0px 1px 2px rgba(0, 0, 0, 0.3));\n",
              "      fill: #FFFFFF;\n",
              "    }\n",
              "  </style>\n",
              "\n",
              "      <script>\n",
              "        const buttonEl =\n",
              "          document.querySelector('#df-76ca6c3a-7bc9-4ffc-8151-2790708141fc button.colab-df-convert');\n",
              "        buttonEl.style.display =\n",
              "          google.colab.kernel.accessAllowed ? 'block' : 'none';\n",
              "\n",
              "        async function convertToInteractive(key) {\n",
              "          const element = document.querySelector('#df-76ca6c3a-7bc9-4ffc-8151-2790708141fc');\n",
              "          const dataTable =\n",
              "            await google.colab.kernel.invokeFunction('convertToInteractive',\n",
              "                                                     [key], {});\n",
              "          if (!dataTable) return;\n",
              "\n",
              "          const docLinkHtml = 'Like what you see? Visit the ' +\n",
              "            '<a target=\"_blank\" href=https://colab.research.google.com/notebooks/data_table.ipynb>data table notebook</a>'\n",
              "            + ' to learn more about interactive tables.';\n",
              "          element.innerHTML = '';\n",
              "          dataTable['output_type'] = 'display_data';\n",
              "          await google.colab.output.renderOutput(dataTable, element);\n",
              "          const docLink = document.createElement('div');\n",
              "          docLink.innerHTML = docLinkHtml;\n",
              "          element.appendChild(docLink);\n",
              "        }\n",
              "      </script>\n",
              "    </div>\n",
              "  </div>\n"
            ]
          },
          "metadata": {}
        }
      ]
    },
    {
      "cell_type": "markdown",
      "source": [
        "`iloc` lets us select specific row or rows from the dataset"
      ],
      "metadata": {
        "id": "dapzAQEOYZpp"
      }
    },
    {
      "cell_type": "code",
      "source": [
        "# get row 2\n",
        "row_2 = dataset.iloc[2]\n",
        "print(row_2)"
      ],
      "metadata": {
        "colab": {
          "base_uri": "https://localhost:8080/"
        },
        "id": "xTjxbt4nYVBk",
        "outputId": "5c2af166-c534-4eb1-929e-a5380c0a19cd"
      },
      "execution_count": 408,
      "outputs": [
        {
          "output_type": "stream",
          "name": "stdout",
          "text": [
            "Name    Charlie\n",
            "Age          22\n",
            "City    Chicago\n",
            "Name: 2, dtype: object\n"
          ]
        }
      ]
    },
    {
      "cell_type": "code",
      "source": [
        "# get row 1, 3, and 4\n",
        "row_1_3_4 = dataset.iloc[ [1,3,4] ]\n",
        "print(row_1_3_4)"
      ],
      "metadata": {
        "colab": {
          "base_uri": "https://localhost:8080/"
        },
        "id": "yGJY-hQHYm0p",
        "outputId": "b0d9cb52-2b03-4265-a130-6b600dd37fb0"
      },
      "execution_count": 409,
      "outputs": [
        {
          "output_type": "stream",
          "name": "stdout",
          "text": [
            "    Name  Age         City\n",
            "1    Bob   30  Los Angeles\n",
            "3  David   28      Houston\n",
            "4    Eva   35        Miami\n"
          ]
        }
      ]
    },
    {
      "cell_type": "markdown",
      "source": [
        "To get a column, we use the column name"
      ],
      "metadata": {
        "id": "B_Synhx5Yzk7"
      }
    },
    {
      "cell_type": "code",
      "source": [
        "column_2 = dataset[\"Age\"]\n",
        "print(column_2)"
      ],
      "metadata": {
        "colab": {
          "base_uri": "https://localhost:8080/"
        },
        "id": "jrpgBO-TYu_F",
        "outputId": "0ccc6475-5294-410e-e780-b5181e804d6a"
      },
      "execution_count": 410,
      "outputs": [
        {
          "output_type": "stream",
          "name": "stdout",
          "text": [
            "0    25\n",
            "1    30\n",
            "2    22\n",
            "3    28\n",
            "4    35\n",
            "Name: Age, dtype: int64\n"
          ]
        }
      ]
    },
    {
      "cell_type": "markdown",
      "source": [
        "we can perform element-wise comparisons on pandas column like this:"
      ],
      "metadata": {
        "id": "ZF4wChD7aSZ4"
      }
    },
    {
      "cell_type": "code",
      "source": [
        "older_than_25 = dataset[\"Age\"] > 25\n",
        "print(older_than_25)"
      ],
      "metadata": {
        "colab": {
          "base_uri": "https://localhost:8080/"
        },
        "id": "EgI98lMaaAA1",
        "outputId": "1fa73d70-efac-463f-ff66-dbbc2a14123b"
      },
      "execution_count": 411,
      "outputs": [
        {
          "output_type": "stream",
          "name": "stdout",
          "text": [
            "0    False\n",
            "1     True\n",
            "2    False\n",
            "3     True\n",
            "4     True\n",
            "Name: Age, dtype: bool\n"
          ]
        }
      ]
    },
    {
      "cell_type": "code",
      "source": [
        "# we can use the column of True/False to easily filter a table to get only people older than 25\n",
        "filtered_dataset = dataset[older_than_25]\n",
        "display(filtered_dataset )"
      ],
      "metadata": {
        "colab": {
          "base_uri": "https://localhost:8080/",
          "height": 143
        },
        "id": "d3Gf-f2iadSi",
        "outputId": "feb1c819-e0c9-4204-cc42-dce0bbc82563"
      },
      "execution_count": 412,
      "outputs": [
        {
          "output_type": "display_data",
          "data": {
            "text/plain": [
              "    Name  Age         City\n",
              "1    Bob   30  Los Angeles\n",
              "3  David   28      Houston\n",
              "4    Eva   35        Miami"
            ],
            "text/html": [
              "\n",
              "\n",
              "  <div id=\"df-afaee86f-cac9-4910-bf2c-0d355de813a0\">\n",
              "    <div class=\"colab-df-container\">\n",
              "      <div>\n",
              "<style scoped>\n",
              "    .dataframe tbody tr th:only-of-type {\n",
              "        vertical-align: middle;\n",
              "    }\n",
              "\n",
              "    .dataframe tbody tr th {\n",
              "        vertical-align: top;\n",
              "    }\n",
              "\n",
              "    .dataframe thead th {\n",
              "        text-align: right;\n",
              "    }\n",
              "</style>\n",
              "<table border=\"1\" class=\"dataframe\">\n",
              "  <thead>\n",
              "    <tr style=\"text-align: right;\">\n",
              "      <th></th>\n",
              "      <th>Name</th>\n",
              "      <th>Age</th>\n",
              "      <th>City</th>\n",
              "    </tr>\n",
              "  </thead>\n",
              "  <tbody>\n",
              "    <tr>\n",
              "      <th>1</th>\n",
              "      <td>Bob</td>\n",
              "      <td>30</td>\n",
              "      <td>Los Angeles</td>\n",
              "    </tr>\n",
              "    <tr>\n",
              "      <th>3</th>\n",
              "      <td>David</td>\n",
              "      <td>28</td>\n",
              "      <td>Houston</td>\n",
              "    </tr>\n",
              "    <tr>\n",
              "      <th>4</th>\n",
              "      <td>Eva</td>\n",
              "      <td>35</td>\n",
              "      <td>Miami</td>\n",
              "    </tr>\n",
              "  </tbody>\n",
              "</table>\n",
              "</div>\n",
              "      <button class=\"colab-df-convert\" onclick=\"convertToInteractive('df-afaee86f-cac9-4910-bf2c-0d355de813a0')\"\n",
              "              title=\"Convert this dataframe to an interactive table.\"\n",
              "              style=\"display:none;\">\n",
              "\n",
              "  <svg xmlns=\"http://www.w3.org/2000/svg\" height=\"24px\"viewBox=\"0 0 24 24\"\n",
              "       width=\"24px\">\n",
              "    <path d=\"M0 0h24v24H0V0z\" fill=\"none\"/>\n",
              "    <path d=\"M18.56 5.44l.94 2.06.94-2.06 2.06-.94-2.06-.94-.94-2.06-.94 2.06-2.06.94zm-11 1L8.5 8.5l.94-2.06 2.06-.94-2.06-.94L8.5 2.5l-.94 2.06-2.06.94zm10 10l.94 2.06.94-2.06 2.06-.94-2.06-.94-.94-2.06-.94 2.06-2.06.94z\"/><path d=\"M17.41 7.96l-1.37-1.37c-.4-.4-.92-.59-1.43-.59-.52 0-1.04.2-1.43.59L10.3 9.45l-7.72 7.72c-.78.78-.78 2.05 0 2.83L4 21.41c.39.39.9.59 1.41.59.51 0 1.02-.2 1.41-.59l7.78-7.78 2.81-2.81c.8-.78.8-2.07 0-2.86zM5.41 20L4 18.59l7.72-7.72 1.47 1.35L5.41 20z\"/>\n",
              "  </svg>\n",
              "      </button>\n",
              "\n",
              "\n",
              "\n",
              "    <div id=\"df-71616318-b71e-47f2-b9a9-56325f623089\">\n",
              "      <button class=\"colab-df-quickchart\" onclick=\"quickchart('df-71616318-b71e-47f2-b9a9-56325f623089')\"\n",
              "              title=\"Suggest charts.\"\n",
              "              style=\"display:none;\">\n",
              "\n",
              "<svg xmlns=\"http://www.w3.org/2000/svg\" height=\"24px\"viewBox=\"0 0 24 24\"\n",
              "     width=\"24px\">\n",
              "    <g>\n",
              "        <path d=\"M19 3H5c-1.1 0-2 .9-2 2v14c0 1.1.9 2 2 2h14c1.1 0 2-.9 2-2V5c0-1.1-.9-2-2-2zM9 17H7v-7h2v7zm4 0h-2V7h2v10zm4 0h-2v-4h2v4z\"/>\n",
              "    </g>\n",
              "</svg>\n",
              "      </button>\n",
              "    </div>\n",
              "\n",
              "<style>\n",
              "  .colab-df-quickchart {\n",
              "    background-color: #E8F0FE;\n",
              "    border: none;\n",
              "    border-radius: 50%;\n",
              "    cursor: pointer;\n",
              "    display: none;\n",
              "    fill: #1967D2;\n",
              "    height: 32px;\n",
              "    padding: 0 0 0 0;\n",
              "    width: 32px;\n",
              "  }\n",
              "\n",
              "  .colab-df-quickchart:hover {\n",
              "    background-color: #E2EBFA;\n",
              "    box-shadow: 0px 1px 2px rgba(60, 64, 67, 0.3), 0px 1px 3px 1px rgba(60, 64, 67, 0.15);\n",
              "    fill: #174EA6;\n",
              "  }\n",
              "\n",
              "  [theme=dark] .colab-df-quickchart {\n",
              "    background-color: #3B4455;\n",
              "    fill: #D2E3FC;\n",
              "  }\n",
              "\n",
              "  [theme=dark] .colab-df-quickchart:hover {\n",
              "    background-color: #434B5C;\n",
              "    box-shadow: 0px 1px 3px 1px rgba(0, 0, 0, 0.15);\n",
              "    filter: drop-shadow(0px 1px 2px rgba(0, 0, 0, 0.3));\n",
              "    fill: #FFFFFF;\n",
              "  }\n",
              "</style>\n",
              "\n",
              "    <script>\n",
              "      async function quickchart(key) {\n",
              "        const containerElement = document.querySelector('#' + key);\n",
              "        const charts = await google.colab.kernel.invokeFunction(\n",
              "            'suggestCharts', [key], {});\n",
              "      }\n",
              "    </script>\n",
              "\n",
              "      <script>\n",
              "\n",
              "function displayQuickchartButton(domScope) {\n",
              "  let quickchartButtonEl =\n",
              "    domScope.querySelector('#df-71616318-b71e-47f2-b9a9-56325f623089 button.colab-df-quickchart');\n",
              "  quickchartButtonEl.style.display =\n",
              "    google.colab.kernel.accessAllowed ? 'block' : 'none';\n",
              "}\n",
              "\n",
              "        displayQuickchartButton(document);\n",
              "      </script>\n",
              "      <style>\n",
              "    .colab-df-container {\n",
              "      display:flex;\n",
              "      flex-wrap:wrap;\n",
              "      gap: 12px;\n",
              "    }\n",
              "\n",
              "    .colab-df-convert {\n",
              "      background-color: #E8F0FE;\n",
              "      border: none;\n",
              "      border-radius: 50%;\n",
              "      cursor: pointer;\n",
              "      display: none;\n",
              "      fill: #1967D2;\n",
              "      height: 32px;\n",
              "      padding: 0 0 0 0;\n",
              "      width: 32px;\n",
              "    }\n",
              "\n",
              "    .colab-df-convert:hover {\n",
              "      background-color: #E2EBFA;\n",
              "      box-shadow: 0px 1px 2px rgba(60, 64, 67, 0.3), 0px 1px 3px 1px rgba(60, 64, 67, 0.15);\n",
              "      fill: #174EA6;\n",
              "    }\n",
              "\n",
              "    [theme=dark] .colab-df-convert {\n",
              "      background-color: #3B4455;\n",
              "      fill: #D2E3FC;\n",
              "    }\n",
              "\n",
              "    [theme=dark] .colab-df-convert:hover {\n",
              "      background-color: #434B5C;\n",
              "      box-shadow: 0px 1px 3px 1px rgba(0, 0, 0, 0.15);\n",
              "      filter: drop-shadow(0px 1px 2px rgba(0, 0, 0, 0.3));\n",
              "      fill: #FFFFFF;\n",
              "    }\n",
              "  </style>\n",
              "\n",
              "      <script>\n",
              "        const buttonEl =\n",
              "          document.querySelector('#df-afaee86f-cac9-4910-bf2c-0d355de813a0 button.colab-df-convert');\n",
              "        buttonEl.style.display =\n",
              "          google.colab.kernel.accessAllowed ? 'block' : 'none';\n",
              "\n",
              "        async function convertToInteractive(key) {\n",
              "          const element = document.querySelector('#df-afaee86f-cac9-4910-bf2c-0d355de813a0');\n",
              "          const dataTable =\n",
              "            await google.colab.kernel.invokeFunction('convertToInteractive',\n",
              "                                                     [key], {});\n",
              "          if (!dataTable) return;\n",
              "\n",
              "          const docLinkHtml = 'Like what you see? Visit the ' +\n",
              "            '<a target=\"_blank\" href=https://colab.research.google.com/notebooks/data_table.ipynb>data table notebook</a>'\n",
              "            + ' to learn more about interactive tables.';\n",
              "          element.innerHTML = '';\n",
              "          dataTable['output_type'] = 'display_data';\n",
              "          await google.colab.output.renderOutput(dataTable, element);\n",
              "          const docLink = document.createElement('div');\n",
              "          docLink.innerHTML = docLinkHtml;\n",
              "          element.appendChild(docLink);\n",
              "        }\n",
              "      </script>\n",
              "    </div>\n",
              "  </div>\n"
            ]
          },
          "metadata": {}
        }
      ]
    },
    {
      "cell_type": "markdown",
      "source": [
        "#### Numpy syntax quick recap\n"
      ],
      "metadata": {
        "id": "ar8n-1cvI_qM"
      }
    },
    {
      "cell_type": "code",
      "source": [
        "import numpy as np"
      ],
      "metadata": {
        "id": "GNKtpnZwI73n"
      },
      "execution_count": 413,
      "outputs": []
    },
    {
      "cell_type": "code",
      "source": [
        "number_array = np.array( [1, 1, 0, 1, 0])\n",
        "print( np.sum(number_array) )\n",
        "\n",
        "# in numpy, we can add up True/False. True's are 1, False's are 0\n",
        "boolean_array = np.array( [True, True, False, True, False])\n",
        "print( np.sum(boolean_array) )"
      ],
      "metadata": {
        "colab": {
          "base_uri": "https://localhost:8080/"
        },
        "id": "9-0N3bswKBa0",
        "outputId": "285f505a-47da-43bb-a918-67270dd825be"
      },
      "execution_count": 414,
      "outputs": [
        {
          "output_type": "stream",
          "name": "stdout",
          "text": [
            "3\n",
            "3\n"
          ]
        }
      ]
    },
    {
      "cell_type": "markdown",
      "source": [
        "we can perform element-wise comparisons on numpy array like this:"
      ],
      "metadata": {
        "id": "6o30msXdJZzp"
      }
    },
    {
      "cell_type": "code",
      "source": [
        "array1 = np.array([1,2,3,4,5,6,7,8,9,10])\n",
        "\n",
        "indices_of_elements_larger_than_3 = ( array1>3 )\n",
        "print(indices_of_elements_larger_than_3 )"
      ],
      "metadata": {
        "colab": {
          "base_uri": "https://localhost:8080/"
        },
        "id": "N4-zOutPJWEV",
        "outputId": "ca7ca5ff-b81a-4af3-ace3-139437be03ff"
      },
      "execution_count": 415,
      "outputs": [
        {
          "output_type": "stream",
          "name": "stdout",
          "text": [
            "[False False False  True  True  True  True  True  True  True]\n"
          ]
        }
      ]
    },
    {
      "cell_type": "code",
      "source": [
        "indices_of_even_elments = ( array1 % 2 == 0 )\n",
        "print(indices_of_even_elments  )"
      ],
      "metadata": {
        "colab": {
          "base_uri": "https://localhost:8080/"
        },
        "id": "LtNUIumwJWA8",
        "outputId": "717b720e-71f7-4184-d8e9-1eb083dc985c"
      },
      "execution_count": 416,
      "outputs": [
        {
          "output_type": "stream",
          "name": "stdout",
          "text": [
            "[False  True False  True False  True False  True False  True]\n"
          ]
        }
      ]
    },
    {
      "cell_type": "markdown",
      "source": [
        "adding `~` in front means NOT, which flips the True and False"
      ],
      "metadata": {
        "id": "-_bO-udUES-N"
      }
    },
    {
      "cell_type": "code",
      "source": [
        "print(~indices_of_even_elments  )"
      ],
      "metadata": {
        "colab": {
          "base_uri": "https://localhost:8080/"
        },
        "id": "PkbdXSygEQgg",
        "outputId": "8a81fcfd-5a26-4cf6-851a-47dce7752935"
      },
      "execution_count": 417,
      "outputs": [
        {
          "output_type": "stream",
          "name": "stdout",
          "text": [
            "[ True False  True False  True False  True False  True False]\n"
          ]
        }
      ]
    },
    {
      "cell_type": "markdown",
      "source": [
        "We can also use the `argwhere` method to find all indices which some condition is true"
      ],
      "metadata": {
        "id": "vKzr-ff5TwD-"
      }
    },
    {
      "cell_type": "code",
      "source": [
        "indices_of_elements_larger_than_3 = np.argwhere( array1 > 3).flatten()\n",
        "print(indices_of_elements_larger_than_3)"
      ],
      "metadata": {
        "colab": {
          "base_uri": "https://localhost:8080/"
        },
        "id": "jutskVoHTq69",
        "outputId": "40d6e364-582a-4da5-d6f6-ef6011f4071a"
      },
      "execution_count": 418,
      "outputs": [
        {
          "output_type": "stream",
          "name": "stdout",
          "text": [
            "[3 4 5 6 7 8 9]\n"
          ]
        }
      ]
    },
    {
      "cell_type": "markdown",
      "source": [
        "this allows us to quickly count how many items mets certain condition"
      ],
      "metadata": {
        "id": "7P_hZCXwJn6K"
      }
    },
    {
      "cell_type": "code",
      "source": [
        "count_of_elements_larger_than_3 = sum(indices_of_elements_larger_than_3)\n",
        "print(count_of_elements_larger_than_3)"
      ],
      "metadata": {
        "colab": {
          "base_uri": "https://localhost:8080/"
        },
        "id": "vdgbd7a3Jub2",
        "outputId": "4df2c7ad-c81b-4a40-b4d5-54ff661535a2"
      },
      "execution_count": 419,
      "outputs": [
        {
          "output_type": "stream",
          "name": "stdout",
          "text": [
            "42\n"
          ]
        }
      ]
    },
    {
      "cell_type": "code",
      "source": [
        "count_of_even_elments = sum(indices_of_even_elments)\n",
        "print(count_of_even_elments)"
      ],
      "metadata": {
        "colab": {
          "base_uri": "https://localhost:8080/"
        },
        "id": "GrakfXmcJ2E3",
        "outputId": "b81e63b2-e4d0-4e4a-85eb-cf4600d149c3"
      },
      "execution_count": 420,
      "outputs": [
        {
          "output_type": "stream",
          "name": "stdout",
          "text": [
            "5\n"
          ]
        }
      ]
    },
    {
      "cell_type": "markdown",
      "source": [
        "We can also lookup a list of indices in an array"
      ],
      "metadata": {
        "id": "lQDuYGENKh4Q"
      }
    },
    {
      "cell_type": "code",
      "source": [
        "array2 = np.array(['a','b','c','d','e','f','g'])\n",
        "indices = np.array([0,1,5,6])\n",
        "\n",
        "print(array2[indices]) # the 0th, 1th, 5th, and 6th item"
      ],
      "metadata": {
        "colab": {
          "base_uri": "https://localhost:8080/"
        },
        "id": "5F5FZIwKKhSe",
        "outputId": "31c6ed83-96f5-46d1-89d3-bb39e19ff740"
      },
      "execution_count": 421,
      "outputs": [
        {
          "output_type": "stream",
          "name": "stdout",
          "text": [
            "['a' 'b' 'f' 'g']\n"
          ]
        }
      ]
    },
    {
      "cell_type": "markdown",
      "source": [
        "# Decision Tree\n",
        "Decision tree is a supervised machine learning algorithm used for classification and regression. A binary tree is constructed, where each internal node represents a feature, and each leaf node represents a prediction or outcome. The tree segment the predictor space (see image below). The tree is built by recursively splitting the dataset based on the best attribute that maximizes information gain or minimizes impurity. When a prediction is needed, the input record traverses the tree from the root to a leaf, following the path determined by the attribute values, and the corresponding prediction is made based on the outcome associated with that leaf node.\n",
        "\n",
        "The classical decision tree algorithms have been around for decades, and they are the basis of more powerful techniques such as random forest.\n",
        "\n",
        "\n",
        "<img src=\"https://miro.medium.com/v2/resize:fit:640/format:webp/1*AqgTZMxAavMAXnDiJtZbBQ.png\">\n",
        "\n",
        "<img src=\"https://miro.medium.com/v2/resize:fit:640/format:webp/1*FrktyoWBlqyh8-J0DtBexA.png\">\n"
      ],
      "metadata": {
        "id": "b0Ar4cHADlHU"
      }
    },
    {
      "cell_type": "markdown",
      "source": [
        "### Import libraries"
      ],
      "metadata": {
        "id": "5sBngR8GDlHc"
      }
    },
    {
      "cell_type": "code",
      "source": [
        "import numpy as np\n",
        "import pandas as pd"
      ],
      "metadata": {
        "execution": {
          "iopub.status.busy": "2023-07-12T21:15:07.235324Z",
          "iopub.execute_input": "2023-07-12T21:15:07.235674Z",
          "iopub.status.idle": "2023-07-12T21:15:07.240504Z",
          "shell.execute_reply.started": "2023-07-12T21:15:07.235648Z",
          "shell.execute_reply": "2023-07-12T21:15:07.239455Z"
        },
        "trusted": true,
        "id": "OrUqlHjGDlHd"
      },
      "execution_count": 422,
      "outputs": []
    },
    {
      "cell_type": "markdown",
      "source": [
        "### Read data from CSV\n",
        "We will use the Height-Weight dataset in this tutorial. Gender, height, and weight will be used to predict body mass `Index` or whether a person is `medically_obese`.  "
      ],
      "metadata": {
        "id": "eCzeOb-5DlHg"
      }
    },
    {
      "cell_type": "code",
      "source": [
        "data = pd.read_csv(\"https://raw.githubusercontent.com/chriswmann/datasets/master/500_Person_Gender_Height_Weight_Index.csv\")\n",
        "data['medically_obese'] = (data.Index >= 4).astype('int') # anyone with index >= 4 will be considered as medically_obese\n",
        "display(data)"
      ],
      "metadata": {
        "execution": {
          "iopub.status.busy": "2023-07-12T21:15:07.245204Z",
          "iopub.execute_input": "2023-07-12T21:15:07.245909Z",
          "iopub.status.idle": "2023-07-12T21:15:07.298019Z",
          "shell.execute_reply.started": "2023-07-12T21:15:07.245881Z",
          "shell.execute_reply": "2023-07-12T21:15:07.296961Z"
        },
        "trusted": true,
        "colab": {
          "base_uri": "https://localhost:8080/",
          "height": 423
        },
        "id": "JGhijgEXDlHg",
        "outputId": "3dff6aac-ad1d-4a26-95ba-2e058a051edf"
      },
      "execution_count": 423,
      "outputs": [
        {
          "output_type": "display_data",
          "data": {
            "text/plain": [
              "     Gender  Height  Weight  Index  medically_obese\n",
              "0      Male     174      96      4                1\n",
              "1      Male     189      87      2                0\n",
              "2    Female     185     110      4                1\n",
              "3    Female     195     104      3                0\n",
              "4      Male     149      61      3                0\n",
              "..      ...     ...     ...    ...              ...\n",
              "495  Female     150     153      5                1\n",
              "496  Female     184     121      4                1\n",
              "497  Female     141     136      5                1\n",
              "498    Male     150      95      5                1\n",
              "499    Male     173     131      5                1\n",
              "\n",
              "[500 rows x 5 columns]"
            ],
            "text/html": [
              "\n",
              "\n",
              "  <div id=\"df-2ebefca9-a219-4856-a6fa-af6119d80e88\">\n",
              "    <div class=\"colab-df-container\">\n",
              "      <div>\n",
              "<style scoped>\n",
              "    .dataframe tbody tr th:only-of-type {\n",
              "        vertical-align: middle;\n",
              "    }\n",
              "\n",
              "    .dataframe tbody tr th {\n",
              "        vertical-align: top;\n",
              "    }\n",
              "\n",
              "    .dataframe thead th {\n",
              "        text-align: right;\n",
              "    }\n",
              "</style>\n",
              "<table border=\"1\" class=\"dataframe\">\n",
              "  <thead>\n",
              "    <tr style=\"text-align: right;\">\n",
              "      <th></th>\n",
              "      <th>Gender</th>\n",
              "      <th>Height</th>\n",
              "      <th>Weight</th>\n",
              "      <th>Index</th>\n",
              "      <th>medically_obese</th>\n",
              "    </tr>\n",
              "  </thead>\n",
              "  <tbody>\n",
              "    <tr>\n",
              "      <th>0</th>\n",
              "      <td>Male</td>\n",
              "      <td>174</td>\n",
              "      <td>96</td>\n",
              "      <td>4</td>\n",
              "      <td>1</td>\n",
              "    </tr>\n",
              "    <tr>\n",
              "      <th>1</th>\n",
              "      <td>Male</td>\n",
              "      <td>189</td>\n",
              "      <td>87</td>\n",
              "      <td>2</td>\n",
              "      <td>0</td>\n",
              "    </tr>\n",
              "    <tr>\n",
              "      <th>2</th>\n",
              "      <td>Female</td>\n",
              "      <td>185</td>\n",
              "      <td>110</td>\n",
              "      <td>4</td>\n",
              "      <td>1</td>\n",
              "    </tr>\n",
              "    <tr>\n",
              "      <th>3</th>\n",
              "      <td>Female</td>\n",
              "      <td>195</td>\n",
              "      <td>104</td>\n",
              "      <td>3</td>\n",
              "      <td>0</td>\n",
              "    </tr>\n",
              "    <tr>\n",
              "      <th>4</th>\n",
              "      <td>Male</td>\n",
              "      <td>149</td>\n",
              "      <td>61</td>\n",
              "      <td>3</td>\n",
              "      <td>0</td>\n",
              "    </tr>\n",
              "    <tr>\n",
              "      <th>...</th>\n",
              "      <td>...</td>\n",
              "      <td>...</td>\n",
              "      <td>...</td>\n",
              "      <td>...</td>\n",
              "      <td>...</td>\n",
              "    </tr>\n",
              "    <tr>\n",
              "      <th>495</th>\n",
              "      <td>Female</td>\n",
              "      <td>150</td>\n",
              "      <td>153</td>\n",
              "      <td>5</td>\n",
              "      <td>1</td>\n",
              "    </tr>\n",
              "    <tr>\n",
              "      <th>496</th>\n",
              "      <td>Female</td>\n",
              "      <td>184</td>\n",
              "      <td>121</td>\n",
              "      <td>4</td>\n",
              "      <td>1</td>\n",
              "    </tr>\n",
              "    <tr>\n",
              "      <th>497</th>\n",
              "      <td>Female</td>\n",
              "      <td>141</td>\n",
              "      <td>136</td>\n",
              "      <td>5</td>\n",
              "      <td>1</td>\n",
              "    </tr>\n",
              "    <tr>\n",
              "      <th>498</th>\n",
              "      <td>Male</td>\n",
              "      <td>150</td>\n",
              "      <td>95</td>\n",
              "      <td>5</td>\n",
              "      <td>1</td>\n",
              "    </tr>\n",
              "    <tr>\n",
              "      <th>499</th>\n",
              "      <td>Male</td>\n",
              "      <td>173</td>\n",
              "      <td>131</td>\n",
              "      <td>5</td>\n",
              "      <td>1</td>\n",
              "    </tr>\n",
              "  </tbody>\n",
              "</table>\n",
              "<p>500 rows × 5 columns</p>\n",
              "</div>\n",
              "      <button class=\"colab-df-convert\" onclick=\"convertToInteractive('df-2ebefca9-a219-4856-a6fa-af6119d80e88')\"\n",
              "              title=\"Convert this dataframe to an interactive table.\"\n",
              "              style=\"display:none;\">\n",
              "\n",
              "  <svg xmlns=\"http://www.w3.org/2000/svg\" height=\"24px\"viewBox=\"0 0 24 24\"\n",
              "       width=\"24px\">\n",
              "    <path d=\"M0 0h24v24H0V0z\" fill=\"none\"/>\n",
              "    <path d=\"M18.56 5.44l.94 2.06.94-2.06 2.06-.94-2.06-.94-.94-2.06-.94 2.06-2.06.94zm-11 1L8.5 8.5l.94-2.06 2.06-.94-2.06-.94L8.5 2.5l-.94 2.06-2.06.94zm10 10l.94 2.06.94-2.06 2.06-.94-2.06-.94-.94-2.06-.94 2.06-2.06.94z\"/><path d=\"M17.41 7.96l-1.37-1.37c-.4-.4-.92-.59-1.43-.59-.52 0-1.04.2-1.43.59L10.3 9.45l-7.72 7.72c-.78.78-.78 2.05 0 2.83L4 21.41c.39.39.9.59 1.41.59.51 0 1.02-.2 1.41-.59l7.78-7.78 2.81-2.81c.8-.78.8-2.07 0-2.86zM5.41 20L4 18.59l7.72-7.72 1.47 1.35L5.41 20z\"/>\n",
              "  </svg>\n",
              "      </button>\n",
              "\n",
              "\n",
              "\n",
              "    <div id=\"df-6137ad69-cb48-43dc-b789-509b62e118ef\">\n",
              "      <button class=\"colab-df-quickchart\" onclick=\"quickchart('df-6137ad69-cb48-43dc-b789-509b62e118ef')\"\n",
              "              title=\"Suggest charts.\"\n",
              "              style=\"display:none;\">\n",
              "\n",
              "<svg xmlns=\"http://www.w3.org/2000/svg\" height=\"24px\"viewBox=\"0 0 24 24\"\n",
              "     width=\"24px\">\n",
              "    <g>\n",
              "        <path d=\"M19 3H5c-1.1 0-2 .9-2 2v14c0 1.1.9 2 2 2h14c1.1 0 2-.9 2-2V5c0-1.1-.9-2-2-2zM9 17H7v-7h2v7zm4 0h-2V7h2v10zm4 0h-2v-4h2v4z\"/>\n",
              "    </g>\n",
              "</svg>\n",
              "      </button>\n",
              "    </div>\n",
              "\n",
              "<style>\n",
              "  .colab-df-quickchart {\n",
              "    background-color: #E8F0FE;\n",
              "    border: none;\n",
              "    border-radius: 50%;\n",
              "    cursor: pointer;\n",
              "    display: none;\n",
              "    fill: #1967D2;\n",
              "    height: 32px;\n",
              "    padding: 0 0 0 0;\n",
              "    width: 32px;\n",
              "  }\n",
              "\n",
              "  .colab-df-quickchart:hover {\n",
              "    background-color: #E2EBFA;\n",
              "    box-shadow: 0px 1px 2px rgba(60, 64, 67, 0.3), 0px 1px 3px 1px rgba(60, 64, 67, 0.15);\n",
              "    fill: #174EA6;\n",
              "  }\n",
              "\n",
              "  [theme=dark] .colab-df-quickchart {\n",
              "    background-color: #3B4455;\n",
              "    fill: #D2E3FC;\n",
              "  }\n",
              "\n",
              "  [theme=dark] .colab-df-quickchart:hover {\n",
              "    background-color: #434B5C;\n",
              "    box-shadow: 0px 1px 3px 1px rgba(0, 0, 0, 0.15);\n",
              "    filter: drop-shadow(0px 1px 2px rgba(0, 0, 0, 0.3));\n",
              "    fill: #FFFFFF;\n",
              "  }\n",
              "</style>\n",
              "\n",
              "    <script>\n",
              "      async function quickchart(key) {\n",
              "        const containerElement = document.querySelector('#' + key);\n",
              "        const charts = await google.colab.kernel.invokeFunction(\n",
              "            'suggestCharts', [key], {});\n",
              "      }\n",
              "    </script>\n",
              "\n",
              "      <script>\n",
              "\n",
              "function displayQuickchartButton(domScope) {\n",
              "  let quickchartButtonEl =\n",
              "    domScope.querySelector('#df-6137ad69-cb48-43dc-b789-509b62e118ef button.colab-df-quickchart');\n",
              "  quickchartButtonEl.style.display =\n",
              "    google.colab.kernel.accessAllowed ? 'block' : 'none';\n",
              "}\n",
              "\n",
              "        displayQuickchartButton(document);\n",
              "      </script>\n",
              "      <style>\n",
              "    .colab-df-container {\n",
              "      display:flex;\n",
              "      flex-wrap:wrap;\n",
              "      gap: 12px;\n",
              "    }\n",
              "\n",
              "    .colab-df-convert {\n",
              "      background-color: #E8F0FE;\n",
              "      border: none;\n",
              "      border-radius: 50%;\n",
              "      cursor: pointer;\n",
              "      display: none;\n",
              "      fill: #1967D2;\n",
              "      height: 32px;\n",
              "      padding: 0 0 0 0;\n",
              "      width: 32px;\n",
              "    }\n",
              "\n",
              "    .colab-df-convert:hover {\n",
              "      background-color: #E2EBFA;\n",
              "      box-shadow: 0px 1px 2px rgba(60, 64, 67, 0.3), 0px 1px 3px 1px rgba(60, 64, 67, 0.15);\n",
              "      fill: #174EA6;\n",
              "    }\n",
              "\n",
              "    [theme=dark] .colab-df-convert {\n",
              "      background-color: #3B4455;\n",
              "      fill: #D2E3FC;\n",
              "    }\n",
              "\n",
              "    [theme=dark] .colab-df-convert:hover {\n",
              "      background-color: #434B5C;\n",
              "      box-shadow: 0px 1px 3px 1px rgba(0, 0, 0, 0.15);\n",
              "      filter: drop-shadow(0px 1px 2px rgba(0, 0, 0, 0.3));\n",
              "      fill: #FFFFFF;\n",
              "    }\n",
              "  </style>\n",
              "\n",
              "      <script>\n",
              "        const buttonEl =\n",
              "          document.querySelector('#df-2ebefca9-a219-4856-a6fa-af6119d80e88 button.colab-df-convert');\n",
              "        buttonEl.style.display =\n",
              "          google.colab.kernel.accessAllowed ? 'block' : 'none';\n",
              "\n",
              "        async function convertToInteractive(key) {\n",
              "          const element = document.querySelector('#df-2ebefca9-a219-4856-a6fa-af6119d80e88');\n",
              "          const dataTable =\n",
              "            await google.colab.kernel.invokeFunction('convertToInteractive',\n",
              "                                                     [key], {});\n",
              "          if (!dataTable) return;\n",
              "\n",
              "          const docLinkHtml = 'Like what you see? Visit the ' +\n",
              "            '<a target=\"_blank\" href=https://colab.research.google.com/notebooks/data_table.ipynb>data table notebook</a>'\n",
              "            + ' to learn more about interactive tables.';\n",
              "          element.innerHTML = '';\n",
              "          dataTable['output_type'] = 'display_data';\n",
              "          await google.colab.output.renderOutput(dataTable, element);\n",
              "          const docLink = document.createElement('div');\n",
              "          docLink.innerHTML = docLinkHtml;\n",
              "          element.appendChild(docLink);\n",
              "        }\n",
              "      </script>\n",
              "    </div>\n",
              "  </div>\n"
            ]
          },
          "metadata": {}
        }
      ]
    },
    {
      "cell_type": "markdown",
      "source": [
        "here we split the data into input variable (y) and output variables (X).\n",
        "\n"
      ],
      "metadata": {
        "id": "4qwS4f1rPsU9"
      }
    },
    {
      "cell_type": "code",
      "source": [
        "#Split the dataset into X (input features) and y (output labels)\n",
        "feature_list = ['Gender', 'Height', 'Weight']\n",
        "X = data[ ['Gender', 'Height', 'Weight'] ]\n",
        "y = data['medically_obese']"
      ],
      "metadata": {
        "id": "WS4cj36dN-PS"
      },
      "execution_count": 424,
      "outputs": []
    },
    {
      "cell_type": "code",
      "source": [
        "X"
      ],
      "metadata": {
        "colab": {
          "base_uri": "https://localhost:8080/",
          "height": 423
        },
        "id": "e-SCaCI7PzWr",
        "outputId": "d68cebd3-fdaf-48f1-b405-37f789abe170"
      },
      "execution_count": 425,
      "outputs": [
        {
          "output_type": "execute_result",
          "data": {
            "text/plain": [
              "     Gender  Height  Weight\n",
              "0      Male     174      96\n",
              "1      Male     189      87\n",
              "2    Female     185     110\n",
              "3    Female     195     104\n",
              "4      Male     149      61\n",
              "..      ...     ...     ...\n",
              "495  Female     150     153\n",
              "496  Female     184     121\n",
              "497  Female     141     136\n",
              "498    Male     150      95\n",
              "499    Male     173     131\n",
              "\n",
              "[500 rows x 3 columns]"
            ],
            "text/html": [
              "\n",
              "\n",
              "  <div id=\"df-8a188994-3654-485c-aae2-bcf9b70af915\">\n",
              "    <div class=\"colab-df-container\">\n",
              "      <div>\n",
              "<style scoped>\n",
              "    .dataframe tbody tr th:only-of-type {\n",
              "        vertical-align: middle;\n",
              "    }\n",
              "\n",
              "    .dataframe tbody tr th {\n",
              "        vertical-align: top;\n",
              "    }\n",
              "\n",
              "    .dataframe thead th {\n",
              "        text-align: right;\n",
              "    }\n",
              "</style>\n",
              "<table border=\"1\" class=\"dataframe\">\n",
              "  <thead>\n",
              "    <tr style=\"text-align: right;\">\n",
              "      <th></th>\n",
              "      <th>Gender</th>\n",
              "      <th>Height</th>\n",
              "      <th>Weight</th>\n",
              "    </tr>\n",
              "  </thead>\n",
              "  <tbody>\n",
              "    <tr>\n",
              "      <th>0</th>\n",
              "      <td>Male</td>\n",
              "      <td>174</td>\n",
              "      <td>96</td>\n",
              "    </tr>\n",
              "    <tr>\n",
              "      <th>1</th>\n",
              "      <td>Male</td>\n",
              "      <td>189</td>\n",
              "      <td>87</td>\n",
              "    </tr>\n",
              "    <tr>\n",
              "      <th>2</th>\n",
              "      <td>Female</td>\n",
              "      <td>185</td>\n",
              "      <td>110</td>\n",
              "    </tr>\n",
              "    <tr>\n",
              "      <th>3</th>\n",
              "      <td>Female</td>\n",
              "      <td>195</td>\n",
              "      <td>104</td>\n",
              "    </tr>\n",
              "    <tr>\n",
              "      <th>4</th>\n",
              "      <td>Male</td>\n",
              "      <td>149</td>\n",
              "      <td>61</td>\n",
              "    </tr>\n",
              "    <tr>\n",
              "      <th>...</th>\n",
              "      <td>...</td>\n",
              "      <td>...</td>\n",
              "      <td>...</td>\n",
              "    </tr>\n",
              "    <tr>\n",
              "      <th>495</th>\n",
              "      <td>Female</td>\n",
              "      <td>150</td>\n",
              "      <td>153</td>\n",
              "    </tr>\n",
              "    <tr>\n",
              "      <th>496</th>\n",
              "      <td>Female</td>\n",
              "      <td>184</td>\n",
              "      <td>121</td>\n",
              "    </tr>\n",
              "    <tr>\n",
              "      <th>497</th>\n",
              "      <td>Female</td>\n",
              "      <td>141</td>\n",
              "      <td>136</td>\n",
              "    </tr>\n",
              "    <tr>\n",
              "      <th>498</th>\n",
              "      <td>Male</td>\n",
              "      <td>150</td>\n",
              "      <td>95</td>\n",
              "    </tr>\n",
              "    <tr>\n",
              "      <th>499</th>\n",
              "      <td>Male</td>\n",
              "      <td>173</td>\n",
              "      <td>131</td>\n",
              "    </tr>\n",
              "  </tbody>\n",
              "</table>\n",
              "<p>500 rows × 3 columns</p>\n",
              "</div>\n",
              "      <button class=\"colab-df-convert\" onclick=\"convertToInteractive('df-8a188994-3654-485c-aae2-bcf9b70af915')\"\n",
              "              title=\"Convert this dataframe to an interactive table.\"\n",
              "              style=\"display:none;\">\n",
              "\n",
              "  <svg xmlns=\"http://www.w3.org/2000/svg\" height=\"24px\"viewBox=\"0 0 24 24\"\n",
              "       width=\"24px\">\n",
              "    <path d=\"M0 0h24v24H0V0z\" fill=\"none\"/>\n",
              "    <path d=\"M18.56 5.44l.94 2.06.94-2.06 2.06-.94-2.06-.94-.94-2.06-.94 2.06-2.06.94zm-11 1L8.5 8.5l.94-2.06 2.06-.94-2.06-.94L8.5 2.5l-.94 2.06-2.06.94zm10 10l.94 2.06.94-2.06 2.06-.94-2.06-.94-.94-2.06-.94 2.06-2.06.94z\"/><path d=\"M17.41 7.96l-1.37-1.37c-.4-.4-.92-.59-1.43-.59-.52 0-1.04.2-1.43.59L10.3 9.45l-7.72 7.72c-.78.78-.78 2.05 0 2.83L4 21.41c.39.39.9.59 1.41.59.51 0 1.02-.2 1.41-.59l7.78-7.78 2.81-2.81c.8-.78.8-2.07 0-2.86zM5.41 20L4 18.59l7.72-7.72 1.47 1.35L5.41 20z\"/>\n",
              "  </svg>\n",
              "      </button>\n",
              "\n",
              "\n",
              "\n",
              "    <div id=\"df-f942ce9d-4ae0-4b2b-b8d0-599abab74881\">\n",
              "      <button class=\"colab-df-quickchart\" onclick=\"quickchart('df-f942ce9d-4ae0-4b2b-b8d0-599abab74881')\"\n",
              "              title=\"Suggest charts.\"\n",
              "              style=\"display:none;\">\n",
              "\n",
              "<svg xmlns=\"http://www.w3.org/2000/svg\" height=\"24px\"viewBox=\"0 0 24 24\"\n",
              "     width=\"24px\">\n",
              "    <g>\n",
              "        <path d=\"M19 3H5c-1.1 0-2 .9-2 2v14c0 1.1.9 2 2 2h14c1.1 0 2-.9 2-2V5c0-1.1-.9-2-2-2zM9 17H7v-7h2v7zm4 0h-2V7h2v10zm4 0h-2v-4h2v4z\"/>\n",
              "    </g>\n",
              "</svg>\n",
              "      </button>\n",
              "    </div>\n",
              "\n",
              "<style>\n",
              "  .colab-df-quickchart {\n",
              "    background-color: #E8F0FE;\n",
              "    border: none;\n",
              "    border-radius: 50%;\n",
              "    cursor: pointer;\n",
              "    display: none;\n",
              "    fill: #1967D2;\n",
              "    height: 32px;\n",
              "    padding: 0 0 0 0;\n",
              "    width: 32px;\n",
              "  }\n",
              "\n",
              "  .colab-df-quickchart:hover {\n",
              "    background-color: #E2EBFA;\n",
              "    box-shadow: 0px 1px 2px rgba(60, 64, 67, 0.3), 0px 1px 3px 1px rgba(60, 64, 67, 0.15);\n",
              "    fill: #174EA6;\n",
              "  }\n",
              "\n",
              "  [theme=dark] .colab-df-quickchart {\n",
              "    background-color: #3B4455;\n",
              "    fill: #D2E3FC;\n",
              "  }\n",
              "\n",
              "  [theme=dark] .colab-df-quickchart:hover {\n",
              "    background-color: #434B5C;\n",
              "    box-shadow: 0px 1px 3px 1px rgba(0, 0, 0, 0.15);\n",
              "    filter: drop-shadow(0px 1px 2px rgba(0, 0, 0, 0.3));\n",
              "    fill: #FFFFFF;\n",
              "  }\n",
              "</style>\n",
              "\n",
              "    <script>\n",
              "      async function quickchart(key) {\n",
              "        const containerElement = document.querySelector('#' + key);\n",
              "        const charts = await google.colab.kernel.invokeFunction(\n",
              "            'suggestCharts', [key], {});\n",
              "      }\n",
              "    </script>\n",
              "\n",
              "      <script>\n",
              "\n",
              "function displayQuickchartButton(domScope) {\n",
              "  let quickchartButtonEl =\n",
              "    domScope.querySelector('#df-f942ce9d-4ae0-4b2b-b8d0-599abab74881 button.colab-df-quickchart');\n",
              "  quickchartButtonEl.style.display =\n",
              "    google.colab.kernel.accessAllowed ? 'block' : 'none';\n",
              "}\n",
              "\n",
              "        displayQuickchartButton(document);\n",
              "      </script>\n",
              "      <style>\n",
              "    .colab-df-container {\n",
              "      display:flex;\n",
              "      flex-wrap:wrap;\n",
              "      gap: 12px;\n",
              "    }\n",
              "\n",
              "    .colab-df-convert {\n",
              "      background-color: #E8F0FE;\n",
              "      border: none;\n",
              "      border-radius: 50%;\n",
              "      cursor: pointer;\n",
              "      display: none;\n",
              "      fill: #1967D2;\n",
              "      height: 32px;\n",
              "      padding: 0 0 0 0;\n",
              "      width: 32px;\n",
              "    }\n",
              "\n",
              "    .colab-df-convert:hover {\n",
              "      background-color: #E2EBFA;\n",
              "      box-shadow: 0px 1px 2px rgba(60, 64, 67, 0.3), 0px 1px 3px 1px rgba(60, 64, 67, 0.15);\n",
              "      fill: #174EA6;\n",
              "    }\n",
              "\n",
              "    [theme=dark] .colab-df-convert {\n",
              "      background-color: #3B4455;\n",
              "      fill: #D2E3FC;\n",
              "    }\n",
              "\n",
              "    [theme=dark] .colab-df-convert:hover {\n",
              "      background-color: #434B5C;\n",
              "      box-shadow: 0px 1px 3px 1px rgba(0, 0, 0, 0.15);\n",
              "      filter: drop-shadow(0px 1px 2px rgba(0, 0, 0, 0.3));\n",
              "      fill: #FFFFFF;\n",
              "    }\n",
              "  </style>\n",
              "\n",
              "      <script>\n",
              "        const buttonEl =\n",
              "          document.querySelector('#df-8a188994-3654-485c-aae2-bcf9b70af915 button.colab-df-convert');\n",
              "        buttonEl.style.display =\n",
              "          google.colab.kernel.accessAllowed ? 'block' : 'none';\n",
              "\n",
              "        async function convertToInteractive(key) {\n",
              "          const element = document.querySelector('#df-8a188994-3654-485c-aae2-bcf9b70af915');\n",
              "          const dataTable =\n",
              "            await google.colab.kernel.invokeFunction('convertToInteractive',\n",
              "                                                     [key], {});\n",
              "          if (!dataTable) return;\n",
              "\n",
              "          const docLinkHtml = 'Like what you see? Visit the ' +\n",
              "            '<a target=\"_blank\" href=https://colab.research.google.com/notebooks/data_table.ipynb>data table notebook</a>'\n",
              "            + ' to learn more about interactive tables.';\n",
              "          element.innerHTML = '';\n",
              "          dataTable['output_type'] = 'display_data';\n",
              "          await google.colab.output.renderOutput(dataTable, element);\n",
              "          const docLink = document.createElement('div');\n",
              "          docLink.innerHTML = docLinkHtml;\n",
              "          element.appendChild(docLink);\n",
              "        }\n",
              "      </script>\n",
              "    </div>\n",
              "  </div>\n"
            ]
          },
          "metadata": {},
          "execution_count": 425
        }
      ]
    },
    {
      "cell_type": "code",
      "source": [
        "y"
      ],
      "metadata": {
        "colab": {
          "base_uri": "https://localhost:8080/"
        },
        "id": "cjIUwPRNP0WN",
        "outputId": "e36f396b-9399-47ef-deb7-523c9beeab8c"
      },
      "execution_count": 426,
      "outputs": [
        {
          "output_type": "execute_result",
          "data": {
            "text/plain": [
              "0      1\n",
              "1      0\n",
              "2      1\n",
              "3      0\n",
              "4      0\n",
              "      ..\n",
              "495    1\n",
              "496    1\n",
              "497    1\n",
              "498    1\n",
              "499    1\n",
              "Name: medically_obese, Length: 500, dtype: int64"
            ]
          },
          "metadata": {},
          "execution_count": 426
        }
      ]
    },
    {
      "cell_type": "markdown",
      "source": [
        "we now split the dataset into training and testing sets, using the sklearn library's `train_test_split` function"
      ],
      "metadata": {
        "id": "q7pTGFSKbxTX"
      }
    },
    {
      "cell_type": "code",
      "source": [
        "from sklearn.model_selection import train_test_split\n",
        "X_train, X_test, y_train, y_test = train_test_split(X, y, test_size=0.2)\n",
        "\n",
        "# convert y_train and y_test to numpy arrays, since they are just list of numbers\n",
        "y_train = y_train.to_numpy()\n",
        "y_test = y_test.to_numpy()"
      ],
      "metadata": {
        "id": "fqROyQfDbp4d"
      },
      "execution_count": 427,
      "outputs": []
    },
    {
      "cell_type": "markdown",
      "source": [
        "## Decision tree concept\n",
        "\n",
        "The process of building a decision tree mainly involves two steps:\n",
        "1. Dividing the predictor space into several distinct, non-overlapping regions\n",
        "2. Using the most-common class label for the region of new observation as the prediction of the new observation\n",
        "\n",
        "<img src=\"https://miro.medium.com/v2/resize:fit:640/format:webp/1*FrktyoWBlqyh8-J0DtBexA.png\">\n",
        "\n",
        "In order to split the predictor space into distinct regions, we use binary recursive splitting, which grows our decision tree until we reach a stopping criterion.\n",
        "\n",
        "<img src=\"https://miro.medium.com/v2/resize:fit:640/format:webp/1*AqgTZMxAavMAXnDiJtZbBQ.png\">\n",
        "\n",
        "In a decision tree, every node will have two children. The children can be leaf nodes or sub-trees, which enhances the prediction of the previous node. This goes until we get to a node that does not split. This last node is known as a leaf node.\n",
        "\n",
        "For example:\n",
        "\n",
        "<img src=\"https://raw.githubusercontent.com/MLcmore2023/MLcmore2023/main/.images/decisiontree1.png\">\n",
        "\n",
        "Our algorithm's goal is to find the best variables (features) and cutoff values for each decision node"
      ],
      "metadata": {
        "id": "KkL-h14UDlHj"
      }
    },
    {
      "cell_type": "markdown",
      "source": [
        "### Cost function\n",
        "\"Impurty\" means the likelyhood of an incorrect classification when a division is performed. The purpose of cost functions in this algorithm is to evaluate impurity.\n",
        "\n",
        "For example, lets make a cut at weight=100kg. This classifies anyone above 100kg as medically obese. If we do so, there will be 82 miss classifications"
      ],
      "metadata": {
        "id": "cGkzi4xFDlHk"
      }
    },
    {
      "cell_type": "code",
      "source": [
        "# prediction by using 100kg as cutting point\n",
        "prediction_using_100kg = data['Weight'] >= 100\n",
        "print(prediction_using_100kg)"
      ],
      "metadata": {
        "colab": {
          "base_uri": "https://localhost:8080/"
        },
        "id": "79ajqbiaRuq3",
        "outputId": "7dbd5b1a-d078-4e7b-bcd6-229f8be6b665"
      },
      "execution_count": 428,
      "outputs": [
        {
          "output_type": "stream",
          "name": "stdout",
          "text": [
            "0      False\n",
            "1      False\n",
            "2       True\n",
            "3       True\n",
            "4      False\n",
            "       ...  \n",
            "495     True\n",
            "496     True\n",
            "497     True\n",
            "498    False\n",
            "499     True\n",
            "Name: Weight, Length: 500, dtype: bool\n"
          ]
        }
      ]
    },
    {
      "cell_type": "code",
      "source": [
        "true_label = (data['medically_obese']==1)"
      ],
      "metadata": {
        "id": "Y7b3mYPsSlV-"
      },
      "execution_count": 429,
      "outputs": []
    },
    {
      "cell_type": "code",
      "source": [
        "#Count of misclassifications when cutting at 100kg:\n",
        "\n",
        "# counts of entries where our prediction gives True, but the true label is False\n",
        "false_positives = sum(  prediction_using_100kg & ~true_label  )\n",
        "\n",
        "# counts of entries where our prediction gives False, but the true label is True\n",
        "false_negatives = sum(  ~prediction_using_100kg & true_label )\n",
        "\n",
        "print(false_positives, false_negatives)\n",
        "print(\"Count of misclassifications:\",false_positives + false_negatives)"
      ],
      "metadata": {
        "execution": {
          "iopub.status.busy": "2023-07-12T21:15:07.321511Z",
          "iopub.execute_input": "2023-07-12T21:15:07.322148Z",
          "iopub.status.idle": "2023-07-12T21:15:07.332098Z",
          "shell.execute_reply.started": "2023-07-12T21:15:07.322111Z",
          "shell.execute_reply": "2023-07-12T21:15:07.331135Z"
        },
        "trusted": true,
        "colab": {
          "base_uri": "https://localhost:8080/"
        },
        "id": "AZZiJLYWDlHk",
        "outputId": "00bb4063-e961-4a73-e9fc-467f4b22f6ce"
      },
      "execution_count": 430,
      "outputs": [
        {
          "output_type": "stream",
          "name": "stdout",
          "text": [
            "18 64\n",
            "Count of misclassifications: 82\n"
          ]
        }
      ]
    },
    {
      "cell_type": "markdown",
      "source": [
        "If we cut at weight=80kg, there will be only 78 misclassifications. Therefore, this cut is better, albeit still a really bad prediction."
      ],
      "metadata": {
        "id": "6GmV3D6KDlHl"
      }
    },
    {
      "cell_type": "code",
      "source": [
        "#Count of misclassifications when cutting at 80kg:\n",
        "prediction_using_80kg = data['Weight'] >= 80\n",
        "\n",
        "false_positives = sum(  prediction_using_80kg & ~true_label  )\n",
        "false_negatives = sum(  ~prediction_using_80kg & true_label )\n",
        "print(false_positives, false_negatives)\n",
        "print(\"Count of misclassifications:\",false_positives + false_negatives)"
      ],
      "metadata": {
        "execution": {
          "iopub.status.busy": "2023-07-12T21:15:07.334395Z",
          "iopub.execute_input": "2023-07-12T21:15:07.334672Z",
          "iopub.status.idle": "2023-07-12T21:15:07.342093Z",
          "shell.execute_reply.started": "2023-07-12T21:15:07.334648Z",
          "shell.execute_reply": "2023-07-12T21:15:07.341160Z"
        },
        "trusted": true,
        "colab": {
          "base_uri": "https://localhost:8080/"
        },
        "id": "KfBgHU0BDlHm",
        "outputId": "88984473-cab7-4459-f49d-bdde2aab4ccb"
      },
      "execution_count": 431,
      "outputs": [
        {
          "output_type": "stream",
          "name": "stdout",
          "text": [
            "63 15\n",
            "Count of misclassifications: 78\n"
          ]
        }
      ]
    },
    {
      "cell_type": "markdown",
      "source": [
        "### Gini index\n",
        "The Gini index (also known as Gini impurity) is a popular cost function in decision trees. It is a measure that quantifies the impurity or disorder of a dataset with respect to the class labels.\n",
        "The Gini index ranges from 0 to 0.5, where 0 indicates perfect purity (all data points belong to a single class) and 0.5 indicates maximum impurity (data points are evenly distributed across all classes). The Gini index is calculated as follows:\n",
        "\n",
        "$$\n",
        "Gini = 1 - \\sum_{i=1}^{n} (P_i)^2\n",
        " $$\n",
        "\n",
        "Where P<sub>i</sub> is the probability of having that class or value."
      ],
      "metadata": {
        "id": "p1CgN1mbDlHm"
      }
    },
    {
      "cell_type": "code",
      "source": [
        "def gini_index(y_list, print_demo=False):\n",
        "  # find the list of categories in the list (which is the list of unique elements in the list)\n",
        "  category_list = np.unique(y_list)\n",
        "\n",
        "  # number of total elements in the list\n",
        "  N = len(y_list)\n",
        "\n",
        "  gini = 1\n",
        "  for category in category_list: # go through all categories\n",
        "    count = np.sum(y_list==category)\n",
        "    P_i = count / N\n",
        "    if print_demo:\n",
        "      print(f\"Category: {category}, Count: {count}, P_i: {P_i}\")\n",
        "\n",
        "    gini = gini - P_i**2\n",
        "  return gini\n",
        "\n",
        "# we can see that the result is very close to 0.5 because the list is very impure\n",
        "print( gini_index(data.Gender.values,   print_demo=True) )"
      ],
      "metadata": {
        "colab": {
          "base_uri": "https://localhost:8080/"
        },
        "id": "5GAURl5q1gyR",
        "outputId": "79bd3f6f-73a3-442c-ef11-400095f7fd6b"
      },
      "execution_count": 432,
      "outputs": [
        {
          "output_type": "stream",
          "name": "stdout",
          "text": [
            "Category: Female, Count: 255, P_i: 0.51\n",
            "Category: Male, Count: 245, P_i: 0.49\n",
            "0.4998\n"
          ]
        }
      ]
    },
    {
      "cell_type": "markdown",
      "source": [
        "### Entropy\n",
        "Another way to measure impurity is entropy. In information theory, entropy describes the average level of information or uncertainty and can be defined as the following.\n",
        "$$ S = -\\sum P_i \\log_2 P_i$$\n",
        "Unlike the Gini index, whose range goes from 0 to 0.5, the entropy range is different, since it goes from 0 to 1. Values close to zero are less impure than those that approach 1.\n",
        "\n",
        "Later, when making a decision tree split, entropy is used to evaluate the potential splits based on different features. The split that results in the lowest entropy (i.e., the greatest reduction in impurity) is chosen."
      ],
      "metadata": {
        "id": "qFWG2FxaDlHn"
      }
    },
    {
      "cell_type": "code",
      "source": [
        "def entropy(y_list, print_demo=False):\n",
        "    # find the list of categories in the list (which is the list of unique elements in the list)\n",
        "    category_list = np.unique(y_list)\n",
        "\n",
        "    # number of total elements in the list\n",
        "    N = len(y_list)\n",
        "\n",
        "    entropy_val = 0\n",
        "    for category in category_list: # go through all categories\n",
        "        count = np.sum(y_list == category)\n",
        "        P_i = count / N\n",
        "\n",
        "        if print_demo:\n",
        "            print(f\"Category: {category}, Count: {count}, P_i: {P_i}\")\n",
        "\n",
        "        entropy_val = entropy_val - P_i * np.log2(P_i)\n",
        "\n",
        "    return entropy_val\n",
        "\n",
        "# we can see that the result is very close to 1 because the list is very impure\n",
        "print( entropy(data.Gender.values)  )"
      ],
      "metadata": {
        "execution": {
          "iopub.status.busy": "2023-07-12T21:15:07.357345Z",
          "iopub.execute_input": "2023-07-12T21:15:07.357751Z",
          "iopub.status.idle": "2023-07-12T21:15:07.367530Z",
          "shell.execute_reply.started": "2023-07-12T21:15:07.357679Z",
          "shell.execute_reply": "2023-07-12T21:15:07.366590Z"
        },
        "trusted": true,
        "colab": {
          "base_uri": "https://localhost:8080/"
        },
        "id": "mFN46YAoDlHn",
        "outputId": "4b7b9873-71c8-4b33-8645-b320f391b2a7"
      },
      "execution_count": 433,
      "outputs": [
        {
          "output_type": "stream",
          "name": "stdout",
          "text": [
            "0.9997114417528099\n"
          ]
        }
      ]
    },
    {
      "cell_type": "code",
      "source": [
        "def create_split(array, threshold):\n",
        "\n",
        "    # Find all indices of elements in array that are below the threshold\n",
        "    left_indices = np.argwhere(array <= threshold).flatten()\n",
        "\n",
        "    # Find all indices of elements in array that are above the threshold\n",
        "    right_indices = np.argwhere(array > threshold).flatten()\n",
        "\n",
        "    return left_indices, right_indices\n",
        "\n",
        "example_list = np.array([14, 58, 84, 23, 99, 73])\n",
        "create_split(example_list, threshold=50)"
      ],
      "metadata": {
        "colab": {
          "base_uri": "https://localhost:8080/"
        },
        "id": "M8b6cE46IA6F",
        "outputId": "0206960a-19dc-4207-dca1-3d7c2d8fbace"
      },
      "execution_count": 434,
      "outputs": [
        {
          "output_type": "execute_result",
          "data": {
            "text/plain": [
              "(array([0, 3]), array([1, 2, 4, 5]))"
            ]
          },
          "metadata": {},
          "execution_count": 434
        }
      ]
    },
    {
      "cell_type": "markdown",
      "source": [
        "### Information Gain\n",
        "\n",
        "As we have seen, cuts are compared by impurity. Therefore, we are interested in comparing those cuts that generate less impurity. We use information gain for this. It indicates the improvement when making different partitions and is usually used with entropy (it could also be used with the Gini index, although in that case the name would not be called information gain).\n",
        "\n",
        "Information gain is calculated by measuring the reduction in entropy (or increase in purity) achieved after splitting the data based on a specific feature. It is calculated as the difference between the entropy of the parent node before the split and the weighted average of the entropies of the child nodes after the split.\n",
        "\n",
        "$$ \\text{Information Gain}(D, A) = \\text{Entropy}(D) - \\sum_{v \\in \\text{Values}(A)} \\frac{|D_v|}{|D|} \\times \\text{Entropy}(D_v)\n",
        "$$\n",
        "\n",
        "$\n",
        "\\begin{align*}\n",
        "D &: \\text{dataset at the current node.} \\\\\n",
        "A &: \\text{feature being considered for splitting.} \\\\\n",
        "\\text{Values}(A) &: \\text{possible values that feature } A \\text{ can take.} \\\\\n",
        "D_v &: \\text{subset of data where feature } A \\text{ takes the value } v.\n",
        "\\end{align*}\n",
        "$\n",
        "\n",
        "The higher the Information Gain for a feature, the more it helps in reducing uncertainty in the target variable. Later, our algorithm will select the feature that offers the highest Information Gain as the splitting criterion at each node.\n"
      ],
      "metadata": {
        "id": "A4cJR9i-DlHn"
      }
    },
    {
      "cell_type": "code",
      "source": [
        "def information_gain(X_one_feature_only, y, threshold):\n",
        "    # calculate the entropy before the split\n",
        "    parent_entropy = entropy(y)\n",
        "\n",
        "    # find the indices of elements above and below the threshold so we can make the split\n",
        "    left_indices, right_indices = create_split(X_one_feature_only, threshold)\n",
        "\n",
        "    left_elements = y[left_indices]\n",
        "    right_elements = y[right_indices]\n",
        "\n",
        "    # find how many elements are there before and after the split\n",
        "    n = len(y)\n",
        "    n_left = len(left_indices)\n",
        "    n_right = len(right_indices)\n",
        "\n",
        "    # if the split resulted in 0 item in either side (meaning all elements went into one side and the other side is empty)\n",
        "    # then the information gain is zero because the split is useless (not a split at all)\n",
        "    if n_left == 0 or n_right == 0:\n",
        "        return 0\n",
        "\n",
        "    # calculate the entropy of two sides\n",
        "    left_child_entropy = entropy(left_elements)\n",
        "    right_child_entropy = entropy(right_elements)\n",
        "\n",
        "    # take the weighted average\n",
        "    child_entropy = (n_left/n)*left_child_entropy + (n_right/n)*right_child_entropy\n",
        "\n",
        "    return parent_entropy - child_entropy\n",
        "\n",
        "# example of a perfect cut:\n",
        "X_example = np.array([1,2,3,4,5,  6,7,8,9,10]) # example feature\n",
        "y_example = np.array([0,0,0,0,0,  1,1,1,1,1]) # two classes\n",
        "information_gain(X_example, y_example, 5)"
      ],
      "metadata": {
        "execution": {
          "iopub.status.busy": "2023-07-12T21:15:07.368634Z",
          "iopub.execute_input": "2023-07-12T21:15:07.369381Z",
          "iopub.status.idle": "2023-07-12T21:15:07.377171Z",
          "shell.execute_reply.started": "2023-07-12T21:15:07.369354Z",
          "shell.execute_reply": "2023-07-12T21:15:07.376236Z"
        },
        "trusted": true,
        "colab": {
          "base_uri": "https://localhost:8080/"
        },
        "id": "bhwO4XVoDlHo",
        "outputId": "62e977d1-a6cc-4f74-a4e8-981a26cdbdb4"
      },
      "execution_count": 435,
      "outputs": [
        {
          "output_type": "execute_result",
          "data": {
            "text/plain": [
              "1.0"
            ]
          },
          "metadata": {},
          "execution_count": 435
        }
      ]
    },
    {
      "cell_type": "markdown",
      "source": [
        "An information gain of 1 would be the best possible result, meaning there is a perfect separation of the target variable into its classes. This means that after the split, each subset contains only instances of a single class, completely reducing the uncertainty. In practical scenarios, achieving an information gain of 1 is uncommon, because real-world data that have noise, overlapping classes, or other complexities.\n",
        "\n",
        "Here we calculate the information gain of splitting the dataset by threshold of `weight=100kg`"
      ],
      "metadata": {
        "id": "wjEhBI7G8FUV"
      }
    },
    {
      "cell_type": "code",
      "source": [
        "X_weight = data['Weight'].to_numpy()\n",
        "y = data['medically_obese'].to_numpy()\n",
        "information_gain(X_weight,y , 100)"
      ],
      "metadata": {
        "execution": {
          "iopub.status.busy": "2023-07-12T21:21:52.927197Z",
          "iopub.execute_input": "2023-07-12T21:21:52.927586Z",
          "iopub.status.idle": "2023-07-12T21:21:52.935802Z",
          "shell.execute_reply.started": "2023-07-12T21:21:52.927557Z",
          "shell.execute_reply": "2023-07-12T21:21:52.934689Z"
        },
        "trusted": true,
        "colab": {
          "base_uri": "https://localhost:8080/"
        },
        "id": "NLmCcsRSDlHo",
        "outputId": "5dc0c378-2cfb-4147-b7d1-291c9bc57ab6"
      },
      "execution_count": 436,
      "outputs": [
        {
          "output_type": "execute_result",
          "data": {
            "text/plain": [
              "0.3621623817673466"
            ]
          },
          "metadata": {},
          "execution_count": 436
        }
      ]
    },
    {
      "cell_type": "markdown",
      "source": [
        "### Finding the best variable and threshold for making splits"
      ],
      "metadata": {
        "id": "EM_lcDV6DlHp"
      }
    },
    {
      "cell_type": "markdown",
      "source": [
        "To make a split, we have 2 steps:\n",
        "1. Calculate the information gain for possible threshold values of all features (variables).\n",
        "2. Choose the split that generates the highest information gain as a split.\n"
      ],
      "metadata": {
        "id": "RGHSt0ScDlHp"
      }
    },
    {
      "cell_type": "code",
      "source": [
        "def max_information_gain_split(X, y, feature_list):\n",
        "    # initialize the max info gain, feature, and threshold as void values\n",
        "    best_info_gain = -1\n",
        "    best_feature =  None\n",
        "    best_threshold = None\n",
        "\n",
        "    # go over all features\n",
        "    for feature in feature_list:\n",
        "        # X_of_feature will be an array of all values of the selected feature\n",
        "        X_of_feature = X[feature]\n",
        "        # convert the pandas dataset column to numpy array since the information_gain function takes in arrays\n",
        "        X_of_feature = X_of_feature.to_numpy()\n",
        "\n",
        "        # we use `np.unique` to find all possible values which we can use as the threshold, and go over each one\n",
        "        possible_threshold_options = np.unique(X_of_feature)\n",
        "        for threshold in possible_threshold_options:\n",
        "            # calculate the information gain of this specific threshold for this specific feature\n",
        "            info_gain = information_gain(X_of_feature, y, threshold)\n",
        "\n",
        "            # keep this as the `best` one if it have info_gain higher than the existing best_info_gain\n",
        "            if  info_gain > best_info_gain:\n",
        "                best_info_gain = info_gain\n",
        "                best_feature =  feature\n",
        "                best_threshold = threshold\n",
        "\n",
        "    return best_feature, best_threshold, best_info_gain\n",
        "\n",
        "best_feature, best_threshold, best_info_gain = max_information_gain_split(X,y,feature_list)\n",
        "\n",
        "print(f\"The best split for {best_feature} = {best_threshold}. The info gain is {best_info_gain}\")"
      ],
      "metadata": {
        "execution": {
          "iopub.status.busy": "2023-07-12T21:15:07.392856Z",
          "iopub.execute_input": "2023-07-12T21:15:07.393176Z",
          "iopub.status.idle": "2023-07-12T21:15:07.494662Z",
          "shell.execute_reply.started": "2023-07-12T21:15:07.393147Z",
          "shell.execute_reply": "2023-07-12T21:15:07.493686Z"
        },
        "trusted": true,
        "colab": {
          "base_uri": "https://localhost:8080/"
        },
        "id": "0JepNKpmDlHp",
        "outputId": "11fa11db-a4be-4d82-936d-8037cbd2c085"
      },
      "execution_count": 437,
      "outputs": [
        {
          "output_type": "stream",
          "name": "stdout",
          "text": [
            "The best split for Weight = 102. The info gain is 0.3824541370911896\n"
          ]
        }
      ]
    },
    {
      "cell_type": "markdown",
      "source": [
        "As we can see, the variable with the highest Information Gain is Weight. Therefore, it will be the variable that we first use to do the split. In addition, we also have the value on which the split must be performed: 102."
      ],
      "metadata": {
        "id": "b-6a-yEWDlHq"
      }
    },
    {
      "cell_type": "markdown",
      "source": [
        "### Decision tree algorithm\n",
        "The main algorithm can be divided into three steps:\n",
        "1. Initialization of parameters (e.g. maximum depth, minimum samples per split)\n",
        "2. Building the decision tree, involving binary recursive splitting, evaluating each possible split at the current stage, and continuing to grow the tree until a stopping criterion is satisfied\n",
        "3. Making a prediction, which can be described as traversing the tree recursively and returning the most-common class label as a response value.\n",
        "\n",
        "In our tree, there are two kinds of nodes: leaf nodes and subtrees. We will store them as python dictionaries."
      ],
      "metadata": {
        "id": "CvjyGTcRc0Ec"
      }
    },
    {
      "cell_type": "code",
      "source": [
        "example_leaf_node = {\n",
        "    \"is_leaf\":True,\n",
        "    \"value\": 0 # the most_common_Label here\n",
        "}\n",
        "\n",
        "example_subtree = {\n",
        "    \"is_leaf\":False,\n",
        "    \"feature\": 'Weight',\n",
        "    \"threshold\": 103,\n",
        "    \"left\": example_leaf_node, # can be any leaf node or subtree\n",
        "    \"right\": {} # can be any leaf node or subtree\n",
        "}\n"
      ],
      "metadata": {
        "id": "n_9841LkhXFN"
      },
      "execution_count": null,
      "outputs": []
    },
    {
      "cell_type": "markdown",
      "source": [
        "### Building a tree and determining the depth of the tree\n",
        "We use binary recursive splitting to build a tree. We first evaluate every possible split for every feature to select the best place to split, and make the split. Then, we use recursion to repeat, continuing to grow the tree until we meet a stopping criterion.\n",
        "\n",
        "Without a stopping mechanism in place, we would have created an endless loop which the program keeps on splitting forever. We will use three ways to limit the tree depth:\n",
        "\n",
        "- `max_depth`: maximum depth of the tree.\n",
        "- `min_samples_split`: indicates the minimum number of observations a sheet must have to continue creating new nodes.\n",
        "- `min_information_gain`: the minimum amount the information gain must increase for the tree to continue growing.\n",
        "\n",
        "Once we satisfy the stopping criteria the method will recursively return all nodes, allowing us to build a full-grown decision tree.\n"
      ],
      "metadata": {
        "id": "Q7D3YeYeDlHr"
      }
    },
    {
      "cell_type": "code",
      "source": [
        "def build_tree(X, y, max_depth=100, min_samples_split=2, min_info_gain=0.00001,recursion_depth_counter=0):\n",
        "    n_samples, n_features = X.shape\n",
        "    n_class_labels = len(np.unique(y))\n",
        "\n",
        "    # stopping criteria (max depth and min sample split conditions, or if all elements in dataset belongs to the same class)\n",
        "    if ( (recursion_depth_counter > max_depth)\n",
        "        or (X.shape[0] < min_samples_split)\n",
        "        or (n_class_labels<=1) ):\n",
        "\n",
        "        most_common_Label = np.argmax(np.bincount(y))\n",
        "        return {\"is_leaf\":True, \"value\":most_common_Label}\n",
        "\n",
        "    # get best split\n",
        "    best_feat, best_thresh, best_info_gain = max_information_gain_split(X, y, feature_list)\n",
        "\n",
        "    # stopping criteria (the best info gain is too small)\n",
        "    \"\"\" NOT IMPLEMENTED. Left as an exercise for student \"\"\"\n",
        "\n",
        "    # make split\n",
        "    left_idx, right_idx = create_split(X[best_feat].to_numpy(), best_thresh)\n",
        "\n",
        "    # grow children recursively, by calling the build_tree function again\n",
        "    left_child = build_tree(X.iloc[left_idx], y[left_idx], max_depth, min_samples_split, min_info_gain,recursion_depth_counter + 1)\n",
        "    right_child = build_tree(X.iloc[right_idx], y[right_idx], max_depth, min_samples_split, min_info_gain, recursion_depth_counter + 1)\n",
        "    return {\"is_leaf\":False, \"feature\": best_feat, \"threshold\":best_thresh, \"left\":left_child, \"right\":right_child }\n",
        "\n",
        "\n",
        "\n",
        "max_depth = 5\n",
        "min_samples_split = 20\n",
        "min_information_gain = 0.0001\n",
        "\n",
        "trained_tree = build_tree(X_train,y_train, max_depth, min_samples_split,min_information_gain)\n",
        "display(trained_tree)"
      ],
      "metadata": {
        "colab": {
          "base_uri": "https://localhost:8080/",
          "height": 989
        },
        "id": "H97uRAhZU5hD",
        "outputId": "0dd88805-8048-4a52-b0fc-aee7daf020af"
      },
      "execution_count": 438,
      "outputs": [
        {
          "output_type": "stream",
          "name": "stdout",
          "text": [
            "400\n",
            "201\n",
            "104\n",
            "49\n",
            "20\n",
            "55\n",
            "97\n",
            "22\n",
            "199\n",
            "37\n",
            "31\n"
          ]
        },
        {
          "output_type": "display_data",
          "data": {
            "text/plain": [
              "{'is_leaf': False,\n",
              " 'feature': 'Weight',\n",
              " 'threshold': 106,\n",
              " 'left': {'is_leaf': False,\n",
              "  'feature': 'Height',\n",
              "  'threshold': 172,\n",
              "  'left': {'is_leaf': False,\n",
              "   'feature': 'Weight',\n",
              "   'threshold': 75,\n",
              "   'left': {'is_leaf': False,\n",
              "    'feature': 'Weight',\n",
              "    'threshold': 64,\n",
              "    'left': {'is_leaf': True, 'value': 0},\n",
              "    'right': {'is_leaf': False,\n",
              "     'feature': 'Height',\n",
              "     'threshold': 157,\n",
              "     'left': {'is_leaf': True, 'value': 1},\n",
              "     'right': {'is_leaf': True, 'value': 0}}},\n",
              "   'right': {'is_leaf': False,\n",
              "    'feature': 'Weight',\n",
              "    'threshold': 80,\n",
              "    'left': {'is_leaf': True, 'value': 1},\n",
              "    'right': {'is_leaf': True, 'value': 1}}},\n",
              "  'right': {'is_leaf': False,\n",
              "   'feature': 'Weight',\n",
              "   'threshold': 94,\n",
              "   'left': {'is_leaf': True, 'value': 0},\n",
              "   'right': {'is_leaf': False,\n",
              "    'feature': 'Height',\n",
              "    'threshold': 182,\n",
              "    'left': {'is_leaf': True, 'value': 1},\n",
              "    'right': {'is_leaf': True, 'value': 0}}}},\n",
              " 'right': {'is_leaf': False,\n",
              "  'feature': 'Weight',\n",
              "  'threshold': 115,\n",
              "  'left': {'is_leaf': False,\n",
              "   'feature': 'Height',\n",
              "   'threshold': 188,\n",
              "   'left': {'is_leaf': False,\n",
              "    'feature': 'Weight',\n",
              "    'threshold': 114,\n",
              "    'left': {'is_leaf': True, 'value': 1},\n",
              "    'right': {'is_leaf': True, 'value': 1}},\n",
              "   'right': {'is_leaf': True, 'value': 0}},\n",
              "  'right': {'is_leaf': True, 'value': 1}}}"
            ]
          },
          "metadata": {}
        }
      ]
    },
    {
      "cell_type": "markdown",
      "source": [
        "### Making Prediction using the tree\n",
        "Making a prediction can be implemented by recursively traversing the tree. For every sample in our dataset, we compare the node feature and threshold values to the current sample's values and decide if we have to take a left or a right turn.\n",
        "\n",
        "Once we reach a leaf node we simply return the most common class label as our prediction."
      ],
      "metadata": {
        "id": "3SQbinD8Y_Se"
      }
    },
    {
      "cell_type": "code",
      "source": [
        "def traverse_tree(x, node):\n",
        "    if node[\"is_leaf\"]:\n",
        "        return node[\"value\"]\n",
        "\n",
        "    feature = node[\"feature\"]\n",
        "    threshold =  node[\"threshold\"]\n",
        "    if x[feature] <= threshold:\n",
        "        return traverse_tree(x, node[\"left\"])\n",
        "    else:\n",
        "        return traverse_tree(x, node[\"right\"])\n",
        "\n",
        "def predict(x, decision_tree):\n",
        "    return traverse_tree(x, decision_tree)\n",
        "\n",
        "# predict the class for person #20\n",
        "print(predict(X_test.iloc[20], trained_tree))\n",
        "\n",
        "# the actual class for person #20\n",
        "print(y_test[20])"
      ],
      "metadata": {
        "colab": {
          "base_uri": "https://localhost:8080/"
        },
        "id": "nsvQoZqGWu5C",
        "outputId": "b069602d-3f50-4aa2-9541-d65d3d5ca068"
      },
      "execution_count": 439,
      "outputs": [
        {
          "output_type": "stream",
          "name": "stdout",
          "text": [
            "1\n",
            "1\n"
          ]
        }
      ]
    },
    {
      "cell_type": "markdown",
      "source": [
        "### Evaluate accuracy"
      ],
      "metadata": {
        "id": "qHG6EhmjDlHs"
      }
    },
    {
      "cell_type": "markdown",
      "source": [
        "Finally, we run the `predict` function on all of the samples in the test dataset, and compare it againsst the actual class label."
      ],
      "metadata": {
        "id": "_gJ0DfhIemjw"
      }
    },
    {
      "cell_type": "code",
      "source": [
        "correct_predictions = 0\n",
        "total_predictions = len(y_test)\n",
        "\n",
        "for i in range(len(y_test)):\n",
        "    predicted_class = predict(X_test.iloc[i], trained_tree)\n",
        "    actual_class = y_test[i]\n",
        "\n",
        "    if predicted_class == actual_class:\n",
        "        correct_predictions += 1\n",
        "\n",
        "accuracy = correct_predictions / total_predictions\n",
        "print(f\"Accuracy: {accuracy}\")"
      ],
      "metadata": {
        "execution": {
          "iopub.status.busy": "2023-07-12T21:15:08.537943Z",
          "iopub.execute_input": "2023-07-12T21:15:08.538238Z",
          "iopub.status.idle": "2023-07-12T21:15:08.587668Z",
          "shell.execute_reply.started": "2023-07-12T21:15:08.538213Z",
          "shell.execute_reply": "2023-07-12T21:15:08.586693Z"
        },
        "trusted": true,
        "colab": {
          "base_uri": "https://localhost:8080/"
        },
        "id": "nra5qm15DlHs",
        "outputId": "1f3e234f-2507-441d-b6f1-24c008729ee2"
      },
      "execution_count": 440,
      "outputs": [
        {
          "output_type": "stream",
          "name": "stdout",
          "text": [
            "Accuracy: 0.95\n"
          ]
        }
      ]
    },
    {
      "cell_type": "markdown",
      "source": [
        "### Exercise:\n",
        "1. Modify code so it uses the Gini index in cost function instead of the entropy function\n",
        "2. Is it possible for information gain of a split to be 0? if so, what does it mean?\n",
        "3. In our code, the `min_information_gain` stopping criterion is not implemented. Implement this by replacing `\"\"\" NOT IMPLEMENTED. Left as an exercise for student \"\"\"` with code. When the minimum amount the information gain is too small, the tree should stop growing. (Hint: you may find the code for other stopping criterions useful)"
      ],
      "metadata": {
        "id": "NgsoCMo5DlHs"
      }
    },
    {
      "cell_type": "markdown",
      "source": [
        "## References\n",
        "- https://towardsdatascience.com/implementing-a-decision-tree-from-scratch-f5358ff9c4bb\n",
        "- https://anderfernandez.com/en/blog/code-decision-tree-python-from-scratch/\n",
        "- https://towardsai.net/p/programming/decision-trees-explained-with-a-practical-example-fe47872d3b53\n",
        "- https://www.datacamp.com/tutorial/decision-tree-classification-python\n",
        "- https://towardsdatascience.com/decision-tree-algorithm-in-python-from-scratch-8c43f0e40173"
      ],
      "metadata": {
        "id": "wse6z4lmDlHs"
      }
    }
  ]
}