{
  "metadata": {
    "kernelspec": {
      "language": "python",
      "display_name": "Python 3",
      "name": "python3"
    },
    "language_info": {
      "pygments_lexer": "ipython3",
      "nbconvert_exporter": "python",
      "version": "3.6.4",
      "file_extension": ".py",
      "codemirror_mode": {
        "name": "ipython",
        "version": 3
      },
      "name": "python",
      "mimetype": "text/x-python"
    },
    "colab": {
      "provenance": [],
      "include_colab_link": true
    }
  },
  "nbformat_minor": 0,
  "nbformat": 4,
  "cells": [
    {
      "cell_type": "markdown",
      "metadata": {
        "id": "view-in-github",
        "colab_type": "text"
      },
      "source": [
        "<a href=\"https://colab.research.google.com/github/MLcmore2023/MLcmore2023/blob/main/day2_pm_afternoon/knn-demo.ipynb\" target=\"_parent\"><img src=\"https://colab.research.google.com/assets/colab-badge.svg\" alt=\"Open In Colab\"/></a>"
      ]
    },
    {
      "cell_type": "markdown",
      "source": [
        "# KNN demo\n",
        "K-Nearest Neighbor is a supervised ML algorithm with a target variable (y) depending on independent variables (X) used for prediction.\n",
        "In this algorithm, the entire training dataset is stored. When a prediction is required, the k-most similar records to a new record from the training dataset are then located. From these neighbors, a summarized prediction is made."
      ],
      "metadata": {
        "_uuid": "0b9d6374-9cfd-418e-a6de-1c0771536505",
        "_cell_guid": "e2283f08-d5aa-415c-ab49-b54923d4290f",
        "trusted": true,
        "id": "QW-IIo-VIcAz"
      }
    },
    {
      "cell_type": "markdown",
      "source": [
        "**accompanying slides:**\n",
        "https://docs.google.com/presentation/d/1jNR_1fJYOuR8qoLcwh7M07zZB2ObDOufiHQtOVJKuNU/edit?usp=sharing"
      ],
      "metadata": {
        "_uuid": "645bc33b-1858-4dc1-b65b-d32b56620ab7",
        "_cell_guid": "1bf6e261-2549-4a15-860e-11a3a81937d5",
        "trusted": true,
        "id": "YWrrJElHIcA7"
      }
    },
    {
      "cell_type": "markdown",
      "source": [
        "### Import libraries and initialize random generator"
      ],
      "metadata": {
        "_uuid": "cd5598b3-2f3a-406f-a219-75571566f547",
        "_cell_guid": "39a80bc9-1b07-40f4-9982-111b68bf8c2c",
        "trusted": true,
        "id": "H5eCTA4JIcA8"
      }
    },
    {
      "cell_type": "code",
      "source": [
        "import pandas as pd\n",
        "import numpy as np\n",
        "# Set the seed value to make the random number reproducible\n",
        "np.random.seed(0)"
      ],
      "metadata": {
        "_uuid": "034777a5-89cc-4a98-9a6e-12e80c10fa98",
        "_cell_guid": "7c410a16-a298-41c3-b027-d629d7c14cba",
        "jupyter": {
          "outputs_hidden": false
        },
        "execution": {
          "iopub.status.busy": "2023-07-10T17:43:51.120294Z",
          "iopub.execute_input": "2023-07-10T17:43:51.120724Z",
          "iopub.status.idle": "2023-07-10T17:43:51.126377Z",
          "shell.execute_reply.started": "2023-07-10T17:43:51.120691Z",
          "shell.execute_reply": "2023-07-10T17:43:51.125199Z"
        },
        "trusted": true,
        "id": "ykbPkc3BIcA8"
      },
      "execution_count": 1,
      "outputs": []
    },
    {
      "cell_type": "markdown",
      "source": [
        "### Read data from CSV\n",
        "we will use the flower iris dataset. This data sets consists of 3 different types of irises’ (Setosa, Versicolour, and Virginica) petal and sepal length"
      ],
      "metadata": {
        "_uuid": "1f567e5b-9495-4fa9-a74f-a2bd63238714",
        "_cell_guid": "ec5c50bb-e85d-4874-b1d4-ea8da42b7e7e",
        "trusted": true,
        "id": "GotroaRIIcA-"
      }
    },
    {
      "cell_type": "code",
      "source": [
        "#read in dataset\n",
        "dataset = pd.read_csv(\"https://raw.githubusercontent.com/MLcmore2023/MLcmore2023/main/day2_pm_afternoon/Iris.csv\")\n",
        "display(dataset)"
      ],
      "metadata": {
        "_uuid": "55d06a08-8101-4c73-b20e-1109d2d46d59",
        "_cell_guid": "90a6d3df-c4b0-4bba-b762-e0e2ac056dbf",
        "jupyter": {
          "outputs_hidden": false
        },
        "execution": {
          "iopub.status.busy": "2023-07-10T17:43:51.128717Z",
          "iopub.execute_input": "2023-07-10T17:43:51.129370Z",
          "iopub.status.idle": "2023-07-10T17:43:51.171558Z",
          "shell.execute_reply.started": "2023-07-10T17:43:51.129325Z",
          "shell.execute_reply": "2023-07-10T17:43:51.170332Z"
        },
        "trusted": true,
        "id": "duunw9aQIcA_",
        "outputId": "5e6e8733-7276-4f8a-a51a-573349f48bdf",
        "colab": {
          "base_uri": "https://localhost:8080/",
          "height": 423
        }
      },
      "execution_count": 2,
      "outputs": [
        {
          "output_type": "display_data",
          "data": {
            "text/plain": [
              "      Id  SepalLengthCm  SepalWidthCm  PetalLengthCm  PetalWidthCm  \\\n",
              "0      1            5.1           3.5            1.4           0.2   \n",
              "1      2            4.9           3.0            1.4           0.2   \n",
              "2      3            4.7           3.2            1.3           0.2   \n",
              "3      4            4.6           3.1            1.5           0.2   \n",
              "4      5            5.0           3.6            1.4           0.2   \n",
              "..   ...            ...           ...            ...           ...   \n",
              "145  146            6.7           3.0            5.2           2.3   \n",
              "146  147            6.3           2.5            5.0           1.9   \n",
              "147  148            6.5           3.0            5.2           2.0   \n",
              "148  149            6.2           3.4            5.4           2.3   \n",
              "149  150            5.9           3.0            5.1           1.8   \n",
              "\n",
              "            Species  \n",
              "0       Iris-setosa  \n",
              "1       Iris-setosa  \n",
              "2       Iris-setosa  \n",
              "3       Iris-setosa  \n",
              "4       Iris-setosa  \n",
              "..              ...  \n",
              "145  Iris-virginica  \n",
              "146  Iris-virginica  \n",
              "147  Iris-virginica  \n",
              "148  Iris-virginica  \n",
              "149  Iris-virginica  \n",
              "\n",
              "[150 rows x 6 columns]"
            ],
            "text/html": [
              "\n",
              "\n",
              "  <div id=\"df-2d24e365-1b81-4814-b1b3-e314fa0fe61d\">\n",
              "    <div class=\"colab-df-container\">\n",
              "      <div>\n",
              "<style scoped>\n",
              "    .dataframe tbody tr th:only-of-type {\n",
              "        vertical-align: middle;\n",
              "    }\n",
              "\n",
              "    .dataframe tbody tr th {\n",
              "        vertical-align: top;\n",
              "    }\n",
              "\n",
              "    .dataframe thead th {\n",
              "        text-align: right;\n",
              "    }\n",
              "</style>\n",
              "<table border=\"1\" class=\"dataframe\">\n",
              "  <thead>\n",
              "    <tr style=\"text-align: right;\">\n",
              "      <th></th>\n",
              "      <th>Id</th>\n",
              "      <th>SepalLengthCm</th>\n",
              "      <th>SepalWidthCm</th>\n",
              "      <th>PetalLengthCm</th>\n",
              "      <th>PetalWidthCm</th>\n",
              "      <th>Species</th>\n",
              "    </tr>\n",
              "  </thead>\n",
              "  <tbody>\n",
              "    <tr>\n",
              "      <th>0</th>\n",
              "      <td>1</td>\n",
              "      <td>5.1</td>\n",
              "      <td>3.5</td>\n",
              "      <td>1.4</td>\n",
              "      <td>0.2</td>\n",
              "      <td>Iris-setosa</td>\n",
              "    </tr>\n",
              "    <tr>\n",
              "      <th>1</th>\n",
              "      <td>2</td>\n",
              "      <td>4.9</td>\n",
              "      <td>3.0</td>\n",
              "      <td>1.4</td>\n",
              "      <td>0.2</td>\n",
              "      <td>Iris-setosa</td>\n",
              "    </tr>\n",
              "    <tr>\n",
              "      <th>2</th>\n",
              "      <td>3</td>\n",
              "      <td>4.7</td>\n",
              "      <td>3.2</td>\n",
              "      <td>1.3</td>\n",
              "      <td>0.2</td>\n",
              "      <td>Iris-setosa</td>\n",
              "    </tr>\n",
              "    <tr>\n",
              "      <th>3</th>\n",
              "      <td>4</td>\n",
              "      <td>4.6</td>\n",
              "      <td>3.1</td>\n",
              "      <td>1.5</td>\n",
              "      <td>0.2</td>\n",
              "      <td>Iris-setosa</td>\n",
              "    </tr>\n",
              "    <tr>\n",
              "      <th>4</th>\n",
              "      <td>5</td>\n",
              "      <td>5.0</td>\n",
              "      <td>3.6</td>\n",
              "      <td>1.4</td>\n",
              "      <td>0.2</td>\n",
              "      <td>Iris-setosa</td>\n",
              "    </tr>\n",
              "    <tr>\n",
              "      <th>...</th>\n",
              "      <td>...</td>\n",
              "      <td>...</td>\n",
              "      <td>...</td>\n",
              "      <td>...</td>\n",
              "      <td>...</td>\n",
              "      <td>...</td>\n",
              "    </tr>\n",
              "    <tr>\n",
              "      <th>145</th>\n",
              "      <td>146</td>\n",
              "      <td>6.7</td>\n",
              "      <td>3.0</td>\n",
              "      <td>5.2</td>\n",
              "      <td>2.3</td>\n",
              "      <td>Iris-virginica</td>\n",
              "    </tr>\n",
              "    <tr>\n",
              "      <th>146</th>\n",
              "      <td>147</td>\n",
              "      <td>6.3</td>\n",
              "      <td>2.5</td>\n",
              "      <td>5.0</td>\n",
              "      <td>1.9</td>\n",
              "      <td>Iris-virginica</td>\n",
              "    </tr>\n",
              "    <tr>\n",
              "      <th>147</th>\n",
              "      <td>148</td>\n",
              "      <td>6.5</td>\n",
              "      <td>3.0</td>\n",
              "      <td>5.2</td>\n",
              "      <td>2.0</td>\n",
              "      <td>Iris-virginica</td>\n",
              "    </tr>\n",
              "    <tr>\n",
              "      <th>148</th>\n",
              "      <td>149</td>\n",
              "      <td>6.2</td>\n",
              "      <td>3.4</td>\n",
              "      <td>5.4</td>\n",
              "      <td>2.3</td>\n",
              "      <td>Iris-virginica</td>\n",
              "    </tr>\n",
              "    <tr>\n",
              "      <th>149</th>\n",
              "      <td>150</td>\n",
              "      <td>5.9</td>\n",
              "      <td>3.0</td>\n",
              "      <td>5.1</td>\n",
              "      <td>1.8</td>\n",
              "      <td>Iris-virginica</td>\n",
              "    </tr>\n",
              "  </tbody>\n",
              "</table>\n",
              "<p>150 rows × 6 columns</p>\n",
              "</div>\n",
              "      <button class=\"colab-df-convert\" onclick=\"convertToInteractive('df-2d24e365-1b81-4814-b1b3-e314fa0fe61d')\"\n",
              "              title=\"Convert this dataframe to an interactive table.\"\n",
              "              style=\"display:none;\">\n",
              "\n",
              "  <svg xmlns=\"http://www.w3.org/2000/svg\" height=\"24px\"viewBox=\"0 0 24 24\"\n",
              "       width=\"24px\">\n",
              "    <path d=\"M0 0h24v24H0V0z\" fill=\"none\"/>\n",
              "    <path d=\"M18.56 5.44l.94 2.06.94-2.06 2.06-.94-2.06-.94-.94-2.06-.94 2.06-2.06.94zm-11 1L8.5 8.5l.94-2.06 2.06-.94-2.06-.94L8.5 2.5l-.94 2.06-2.06.94zm10 10l.94 2.06.94-2.06 2.06-.94-2.06-.94-.94-2.06-.94 2.06-2.06.94z\"/><path d=\"M17.41 7.96l-1.37-1.37c-.4-.4-.92-.59-1.43-.59-.52 0-1.04.2-1.43.59L10.3 9.45l-7.72 7.72c-.78.78-.78 2.05 0 2.83L4 21.41c.39.39.9.59 1.41.59.51 0 1.02-.2 1.41-.59l7.78-7.78 2.81-2.81c.8-.78.8-2.07 0-2.86zM5.41 20L4 18.59l7.72-7.72 1.47 1.35L5.41 20z\"/>\n",
              "  </svg>\n",
              "      </button>\n",
              "\n",
              "\n",
              "\n",
              "    <div id=\"df-3166c69c-1c6c-4271-bdc5-aff3e44089a2\">\n",
              "      <button class=\"colab-df-quickchart\" onclick=\"quickchart('df-3166c69c-1c6c-4271-bdc5-aff3e44089a2')\"\n",
              "              title=\"Suggest charts.\"\n",
              "              style=\"display:none;\">\n",
              "\n",
              "<svg xmlns=\"http://www.w3.org/2000/svg\" height=\"24px\"viewBox=\"0 0 24 24\"\n",
              "     width=\"24px\">\n",
              "    <g>\n",
              "        <path d=\"M19 3H5c-1.1 0-2 .9-2 2v14c0 1.1.9 2 2 2h14c1.1 0 2-.9 2-2V5c0-1.1-.9-2-2-2zM9 17H7v-7h2v7zm4 0h-2V7h2v10zm4 0h-2v-4h2v4z\"/>\n",
              "    </g>\n",
              "</svg>\n",
              "      </button>\n",
              "    </div>\n",
              "\n",
              "<style>\n",
              "  .colab-df-quickchart {\n",
              "    background-color: #E8F0FE;\n",
              "    border: none;\n",
              "    border-radius: 50%;\n",
              "    cursor: pointer;\n",
              "    display: none;\n",
              "    fill: #1967D2;\n",
              "    height: 32px;\n",
              "    padding: 0 0 0 0;\n",
              "    width: 32px;\n",
              "  }\n",
              "\n",
              "  .colab-df-quickchart:hover {\n",
              "    background-color: #E2EBFA;\n",
              "    box-shadow: 0px 1px 2px rgba(60, 64, 67, 0.3), 0px 1px 3px 1px rgba(60, 64, 67, 0.15);\n",
              "    fill: #174EA6;\n",
              "  }\n",
              "\n",
              "  [theme=dark] .colab-df-quickchart {\n",
              "    background-color: #3B4455;\n",
              "    fill: #D2E3FC;\n",
              "  }\n",
              "\n",
              "  [theme=dark] .colab-df-quickchart:hover {\n",
              "    background-color: #434B5C;\n",
              "    box-shadow: 0px 1px 3px 1px rgba(0, 0, 0, 0.15);\n",
              "    filter: drop-shadow(0px 1px 2px rgba(0, 0, 0, 0.3));\n",
              "    fill: #FFFFFF;\n",
              "  }\n",
              "</style>\n",
              "\n",
              "    <script>\n",
              "      async function quickchart(key) {\n",
              "        const containerElement = document.querySelector('#' + key);\n",
              "        const charts = await google.colab.kernel.invokeFunction(\n",
              "            'suggestCharts', [key], {});\n",
              "      }\n",
              "    </script>\n",
              "\n",
              "      <script>\n",
              "\n",
              "function displayQuickchartButton(domScope) {\n",
              "  let quickchartButtonEl =\n",
              "    domScope.querySelector('#df-3166c69c-1c6c-4271-bdc5-aff3e44089a2 button.colab-df-quickchart');\n",
              "  quickchartButtonEl.style.display =\n",
              "    google.colab.kernel.accessAllowed ? 'block' : 'none';\n",
              "}\n",
              "\n",
              "        displayQuickchartButton(document);\n",
              "      </script>\n",
              "      <style>\n",
              "    .colab-df-container {\n",
              "      display:flex;\n",
              "      flex-wrap:wrap;\n",
              "      gap: 12px;\n",
              "    }\n",
              "\n",
              "    .colab-df-convert {\n",
              "      background-color: #E8F0FE;\n",
              "      border: none;\n",
              "      border-radius: 50%;\n",
              "      cursor: pointer;\n",
              "      display: none;\n",
              "      fill: #1967D2;\n",
              "      height: 32px;\n",
              "      padding: 0 0 0 0;\n",
              "      width: 32px;\n",
              "    }\n",
              "\n",
              "    .colab-df-convert:hover {\n",
              "      background-color: #E2EBFA;\n",
              "      box-shadow: 0px 1px 2px rgba(60, 64, 67, 0.3), 0px 1px 3px 1px rgba(60, 64, 67, 0.15);\n",
              "      fill: #174EA6;\n",
              "    }\n",
              "\n",
              "    [theme=dark] .colab-df-convert {\n",
              "      background-color: #3B4455;\n",
              "      fill: #D2E3FC;\n",
              "    }\n",
              "\n",
              "    [theme=dark] .colab-df-convert:hover {\n",
              "      background-color: #434B5C;\n",
              "      box-shadow: 0px 1px 3px 1px rgba(0, 0, 0, 0.15);\n",
              "      filter: drop-shadow(0px 1px 2px rgba(0, 0, 0, 0.3));\n",
              "      fill: #FFFFFF;\n",
              "    }\n",
              "  </style>\n",
              "\n",
              "      <script>\n",
              "        const buttonEl =\n",
              "          document.querySelector('#df-2d24e365-1b81-4814-b1b3-e314fa0fe61d button.colab-df-convert');\n",
              "        buttonEl.style.display =\n",
              "          google.colab.kernel.accessAllowed ? 'block' : 'none';\n",
              "\n",
              "        async function convertToInteractive(key) {\n",
              "          const element = document.querySelector('#df-2d24e365-1b81-4814-b1b3-e314fa0fe61d');\n",
              "          const dataTable =\n",
              "            await google.colab.kernel.invokeFunction('convertToInteractive',\n",
              "                                                     [key], {});\n",
              "          if (!dataTable) return;\n",
              "\n",
              "          const docLinkHtml = 'Like what you see? Visit the ' +\n",
              "            '<a target=\"_blank\" href=https://colab.research.google.com/notebooks/data_table.ipynb>data table notebook</a>'\n",
              "            + ' to learn more about interactive tables.';\n",
              "          element.innerHTML = '';\n",
              "          dataTable['output_type'] = 'display_data';\n",
              "          await google.colab.output.renderOutput(dataTable, element);\n",
              "          const docLink = document.createElement('div');\n",
              "          docLink.innerHTML = docLinkHtml;\n",
              "          element.appendChild(docLink);\n",
              "        }\n",
              "      </script>\n",
              "    </div>\n",
              "  </div>\n"
            ]
          },
          "metadata": {}
        }
      ]
    },
    {
      "cell_type": "markdown",
      "source": [
        "here we split the data into input variable (y) and output variables (X)."
      ],
      "metadata": {
        "_uuid": "6ce3083b-ce8b-4b31-96b8-dcc07b7ff8b5",
        "_cell_guid": "0aae65f9-aa48-4c73-9b31-f8931bf5cbbb",
        "trusted": true,
        "id": "hHACofUaIcBA"
      }
    },
    {
      "cell_type": "code",
      "source": [
        "#Split the dataset into X (input features) and y (output labels)\n",
        "X = dataset[ ['SepalLengthCm', 'SepalWidthCm', 'PetalLengthCm', 'PetalWidthCm'] ].values\n",
        "y = dataset['Species'].values"
      ],
      "metadata": {
        "_uuid": "cc6ed58c-3ba7-4a54-b989-6973f3528748",
        "_cell_guid": "f06610a2-8725-49b1-887e-feec35d72212",
        "jupyter": {
          "outputs_hidden": false
        },
        "execution": {
          "iopub.status.busy": "2023-07-10T17:43:51.174056Z",
          "iopub.execute_input": "2023-07-10T17:43:51.174515Z",
          "iopub.status.idle": "2023-07-10T17:43:51.182085Z",
          "shell.execute_reply.started": "2023-07-10T17:43:51.174471Z",
          "shell.execute_reply": "2023-07-10T17:43:51.180813Z"
        },
        "trusted": true,
        "id": "g2U8O351IcBB"
      },
      "execution_count": 3,
      "outputs": []
    },
    {
      "cell_type": "code",
      "source": [
        "# first 5 rows of X:\n",
        "display(X[0:5])"
      ],
      "metadata": {
        "_uuid": "d75d02f2-1599-4701-b4d1-16aa6efebfe4",
        "_cell_guid": "1ce6dfd9-e3e3-437e-aeae-1b5c31bfb56e",
        "jupyter": {
          "outputs_hidden": false
        },
        "execution": {
          "iopub.status.busy": "2023-07-10T17:43:51.184204Z",
          "iopub.execute_input": "2023-07-10T17:43:51.184828Z",
          "iopub.status.idle": "2023-07-10T17:43:51.198704Z",
          "shell.execute_reply.started": "2023-07-10T17:43:51.184792Z",
          "shell.execute_reply": "2023-07-10T17:43:51.197674Z"
        },
        "trusted": true,
        "id": "oSV3R0mgIcBC",
        "outputId": "07e36efd-f99a-4dfc-9b55-a01ae50ab3ce",
        "colab": {
          "base_uri": "https://localhost:8080/",
          "height": 104
        }
      },
      "execution_count": 4,
      "outputs": [
        {
          "output_type": "display_data",
          "data": {
            "text/plain": [
              "array([[5.1, 3.5, 1.4, 0.2],\n",
              "       [4.9, 3. , 1.4, 0.2],\n",
              "       [4.7, 3.2, 1.3, 0.2],\n",
              "       [4.6, 3.1, 1.5, 0.2],\n",
              "       [5. , 3.6, 1.4, 0.2]])"
            ]
          },
          "metadata": {}
        }
      ]
    },
    {
      "cell_type": "code",
      "source": [
        "# first 5 rows of y:\n",
        "display(y[0:5])"
      ],
      "metadata": {
        "_uuid": "2c400679-bffc-4782-ab39-f2f5491bb3f0",
        "_cell_guid": "9d0a0a81-fbc4-4423-ad4c-c4c922e65f20",
        "jupyter": {
          "outputs_hidden": false
        },
        "execution": {
          "iopub.status.busy": "2023-07-10T17:43:51.201006Z",
          "iopub.execute_input": "2023-07-10T17:43:51.202071Z",
          "iopub.status.idle": "2023-07-10T17:43:51.214609Z",
          "shell.execute_reply.started": "2023-07-10T17:43:51.202033Z",
          "shell.execute_reply": "2023-07-10T17:43:51.213380Z"
        },
        "trusted": true,
        "id": "egPSQyFYIcBC",
        "outputId": "c6f1e964-ebe1-49b5-cd19-59b86f8d5d9f",
        "colab": {
          "base_uri": "https://localhost:8080/",
          "height": 52
        }
      },
      "execution_count": 5,
      "outputs": [
        {
          "output_type": "display_data",
          "data": {
            "text/plain": [
              "array(['Iris-setosa', 'Iris-setosa', 'Iris-setosa', 'Iris-setosa',\n",
              "       'Iris-setosa'], dtype=object)"
            ]
          },
          "metadata": {}
        }
      ]
    },
    {
      "cell_type": "markdown",
      "source": [
        "The labels are in strings, so we will convert them into integers\n",
        "By converting strings to numbers, the models can process the data more efficiently, and perform comparisons on the labels"
      ],
      "metadata": {
        "_uuid": "2934297d-c09b-487c-805c-d7ce7e2e07f6",
        "_cell_guid": "d7b3f4b0-7153-4cc2-a82a-d717167cde07",
        "trusted": true,
        "id": "bxHummN0IcBD"
      }
    },
    {
      "cell_type": "code",
      "source": [
        "#converting text labels to integers\n",
        "print(\"Before:\",y)\n",
        "unique_label_text, y_labels_integer = np.unique(y, return_inverse=True)\n",
        "print(\"After:\",y_labels_integer)"
      ],
      "metadata": {
        "_uuid": "4cd7b94c-5d9a-4c79-97a5-c2bc90d79901",
        "_cell_guid": "97d57e13-7529-40e1-b8fa-a04110f31b83",
        "jupyter": {
          "outputs_hidden": false
        },
        "execution": {
          "iopub.status.busy": "2023-07-10T17:43:51.216086Z",
          "iopub.execute_input": "2023-07-10T17:43:51.216833Z",
          "iopub.status.idle": "2023-07-10T17:43:51.231883Z",
          "shell.execute_reply.started": "2023-07-10T17:43:51.216787Z",
          "shell.execute_reply": "2023-07-10T17:43:51.230744Z"
        },
        "trusted": true,
        "id": "zU-1zG4PIcBD",
        "outputId": "d9c13d92-e096-4758-f162-8f0a2ff15deb",
        "colab": {
          "base_uri": "https://localhost:8080/"
        }
      },
      "execution_count": 6,
      "outputs": [
        {
          "output_type": "stream",
          "name": "stdout",
          "text": [
            "Before: ['Iris-setosa' 'Iris-setosa' 'Iris-setosa' 'Iris-setosa' 'Iris-setosa'\n",
            " 'Iris-setosa' 'Iris-setosa' 'Iris-setosa' 'Iris-setosa' 'Iris-setosa'\n",
            " 'Iris-setosa' 'Iris-setosa' 'Iris-setosa' 'Iris-setosa' 'Iris-setosa'\n",
            " 'Iris-setosa' 'Iris-setosa' 'Iris-setosa' 'Iris-setosa' 'Iris-setosa'\n",
            " 'Iris-setosa' 'Iris-setosa' 'Iris-setosa' 'Iris-setosa' 'Iris-setosa'\n",
            " 'Iris-setosa' 'Iris-setosa' 'Iris-setosa' 'Iris-setosa' 'Iris-setosa'\n",
            " 'Iris-setosa' 'Iris-setosa' 'Iris-setosa' 'Iris-setosa' 'Iris-setosa'\n",
            " 'Iris-setosa' 'Iris-setosa' 'Iris-setosa' 'Iris-setosa' 'Iris-setosa'\n",
            " 'Iris-setosa' 'Iris-setosa' 'Iris-setosa' 'Iris-setosa' 'Iris-setosa'\n",
            " 'Iris-setosa' 'Iris-setosa' 'Iris-setosa' 'Iris-setosa' 'Iris-setosa'\n",
            " 'Iris-versicolor' 'Iris-versicolor' 'Iris-versicolor' 'Iris-versicolor'\n",
            " 'Iris-versicolor' 'Iris-versicolor' 'Iris-versicolor' 'Iris-versicolor'\n",
            " 'Iris-versicolor' 'Iris-versicolor' 'Iris-versicolor' 'Iris-versicolor'\n",
            " 'Iris-versicolor' 'Iris-versicolor' 'Iris-versicolor' 'Iris-versicolor'\n",
            " 'Iris-versicolor' 'Iris-versicolor' 'Iris-versicolor' 'Iris-versicolor'\n",
            " 'Iris-versicolor' 'Iris-versicolor' 'Iris-versicolor' 'Iris-versicolor'\n",
            " 'Iris-versicolor' 'Iris-versicolor' 'Iris-versicolor' 'Iris-versicolor'\n",
            " 'Iris-versicolor' 'Iris-versicolor' 'Iris-versicolor' 'Iris-versicolor'\n",
            " 'Iris-versicolor' 'Iris-versicolor' 'Iris-versicolor' 'Iris-versicolor'\n",
            " 'Iris-versicolor' 'Iris-versicolor' 'Iris-versicolor' 'Iris-versicolor'\n",
            " 'Iris-versicolor' 'Iris-versicolor' 'Iris-versicolor' 'Iris-versicolor'\n",
            " 'Iris-versicolor' 'Iris-versicolor' 'Iris-versicolor' 'Iris-versicolor'\n",
            " 'Iris-versicolor' 'Iris-versicolor' 'Iris-virginica' 'Iris-virginica'\n",
            " 'Iris-virginica' 'Iris-virginica' 'Iris-virginica' 'Iris-virginica'\n",
            " 'Iris-virginica' 'Iris-virginica' 'Iris-virginica' 'Iris-virginica'\n",
            " 'Iris-virginica' 'Iris-virginica' 'Iris-virginica' 'Iris-virginica'\n",
            " 'Iris-virginica' 'Iris-virginica' 'Iris-virginica' 'Iris-virginica'\n",
            " 'Iris-virginica' 'Iris-virginica' 'Iris-virginica' 'Iris-virginica'\n",
            " 'Iris-virginica' 'Iris-virginica' 'Iris-virginica' 'Iris-virginica'\n",
            " 'Iris-virginica' 'Iris-virginica' 'Iris-virginica' 'Iris-virginica'\n",
            " 'Iris-virginica' 'Iris-virginica' 'Iris-virginica' 'Iris-virginica'\n",
            " 'Iris-virginica' 'Iris-virginica' 'Iris-virginica' 'Iris-virginica'\n",
            " 'Iris-virginica' 'Iris-virginica' 'Iris-virginica' 'Iris-virginica'\n",
            " 'Iris-virginica' 'Iris-virginica' 'Iris-virginica' 'Iris-virginica'\n",
            " 'Iris-virginica' 'Iris-virginica' 'Iris-virginica' 'Iris-virginica']\n",
            "After: [0 0 0 0 0 0 0 0 0 0 0 0 0 0 0 0 0 0 0 0 0 0 0 0 0 0 0 0 0 0 0 0 0 0 0 0 0\n",
            " 0 0 0 0 0 0 0 0 0 0 0 0 0 1 1 1 1 1 1 1 1 1 1 1 1 1 1 1 1 1 1 1 1 1 1 1 1\n",
            " 1 1 1 1 1 1 1 1 1 1 1 1 1 1 1 1 1 1 1 1 1 1 1 1 1 1 2 2 2 2 2 2 2 2 2 2 2\n",
            " 2 2 2 2 2 2 2 2 2 2 2 2 2 2 2 2 2 2 2 2 2 2 2 2 2 2 2 2 2 2 2 2 2 2 2 2 2\n",
            " 2 2]\n"
          ]
        }
      ]
    },
    {
      "cell_type": "markdown",
      "source": [
        "### Split the dataset into training sets and testing sets\n",
        "this is usually done using `scipy` library's `train_test_split` function:\n",
        "`X_train, X_test, y_train, y_test = train_test_split(X, y, test_size=0.2, random_state=42)`\n",
        "\n",
        "However, this tutorial will explicitly show the processes of splitting datasets."
      ],
      "metadata": {
        "_uuid": "9ed853a4-54ee-4568-b96c-a99d1de47702",
        "_cell_guid": "91a03a11-5ce6-4c9a-9d95-5dab5bbad6c1",
        "trusted": true,
        "id": "8fqLEeKTIcBE"
      }
    },
    {
      "cell_type": "markdown",
      "source": [
        "This code segment splits a dataset into training and testing sets for machine learning purposes.\n",
        "This splitting process is commonly used in machine learning to assess model performance on unseen data, allowing for effective training and evaluation."
      ],
      "metadata": {
        "_uuid": "4ec7b5e7-8eff-4adb-8f5a-949fb330819c",
        "_cell_guid": "08ae6054-8d82-4320-8b3b-96df5f2f2eb9",
        "trusted": true,
        "id": "qqWHroguIcBE"
      }
    },
    {
      "cell_type": "markdown",
      "source": [
        "- An array of indices, `indices`, which is integers from 0 to 149, is created.\n",
        "- The `np.random.shuffle(indices)` line shuffles the indices to randomize the data order. If we do not randomize and just take the first thirty samples as testing set, they will all be the same type of iris."
      ],
      "metadata": {
        "_uuid": "4ba13280-2c54-4308-aa0b-290d8e2f97f0",
        "_cell_guid": "7f3ef138-8292-4d82-abc1-441fb348d631",
        "trusted": true,
        "id": "kv3zOdh7IcBE"
      }
    },
    {
      "cell_type": "code",
      "source": [
        "indices = np.arange(len(X))  # Create an array of indices for shuffling\n",
        "print(indices)"
      ],
      "metadata": {
        "_uuid": "163a6c37-01e1-4d9b-94a3-09713f80f53d",
        "_cell_guid": "d3efb7a8-c0e5-42bc-abae-8d7265aca1df",
        "jupyter": {
          "outputs_hidden": false
        },
        "execution": {
          "iopub.status.busy": "2023-07-10T17:43:51.233692Z",
          "iopub.execute_input": "2023-07-10T17:43:51.234662Z",
          "iopub.status.idle": "2023-07-10T17:43:51.244687Z",
          "shell.execute_reply.started": "2023-07-10T17:43:51.234618Z",
          "shell.execute_reply": "2023-07-10T17:43:51.243483Z"
        },
        "trusted": true,
        "id": "-QWNcCkgIcBE",
        "outputId": "ab10e88a-589e-4906-efd4-270043d10ee0",
        "colab": {
          "base_uri": "https://localhost:8080/"
        }
      },
      "execution_count": 7,
      "outputs": [
        {
          "output_type": "stream",
          "name": "stdout",
          "text": [
            "[  0   1   2   3   4   5   6   7   8   9  10  11  12  13  14  15  16  17\n",
            "  18  19  20  21  22  23  24  25  26  27  28  29  30  31  32  33  34  35\n",
            "  36  37  38  39  40  41  42  43  44  45  46  47  48  49  50  51  52  53\n",
            "  54  55  56  57  58  59  60  61  62  63  64  65  66  67  68  69  70  71\n",
            "  72  73  74  75  76  77  78  79  80  81  82  83  84  85  86  87  88  89\n",
            "  90  91  92  93  94  95  96  97  98  99 100 101 102 103 104 105 106 107\n",
            " 108 109 110 111 112 113 114 115 116 117 118 119 120 121 122 123 124 125\n",
            " 126 127 128 129 130 131 132 133 134 135 136 137 138 139 140 141 142 143\n",
            " 144 145 146 147 148 149]\n"
          ]
        }
      ]
    },
    {
      "cell_type": "code",
      "source": [
        "np.random.shuffle(indices)  # Shuffle the indices to randomize the data\n",
        "print(indices)"
      ],
      "metadata": {
        "_uuid": "d1c81976-973b-4c05-a954-31b9dd669bf6",
        "_cell_guid": "d9c68577-43bc-4a57-abe6-9e265d0628eb",
        "jupyter": {
          "outputs_hidden": false
        },
        "execution": {
          "iopub.status.busy": "2023-07-10T17:43:51.246687Z",
          "iopub.execute_input": "2023-07-10T17:43:51.247480Z",
          "iopub.status.idle": "2023-07-10T17:43:51.261601Z",
          "shell.execute_reply.started": "2023-07-10T17:43:51.247422Z",
          "shell.execute_reply": "2023-07-10T17:43:51.260382Z"
        },
        "trusted": true,
        "id": "85928la5IcBF",
        "outputId": "1ab33413-678f-4bd1-8f51-e08cc16e2498",
        "colab": {
          "base_uri": "https://localhost:8080/"
        }
      },
      "execution_count": 8,
      "outputs": [
        {
          "output_type": "stream",
          "name": "stdout",
          "text": [
            "[114  62  33 107   7 100  40  86  76  71 134  51  73  54  63  37  78  90\n",
            "  45  16 121  66  24   8 126  22  44  97  93  26 137  84  27 127 132  59\n",
            "  18  83  61  92 112   2 141  43  10  60 116 144 119 108  69 135  56  80\n",
            " 123 133 106 146  50 147  85  30 101  94  64  89  91 125  48  13 111  95\n",
            "  20  15  52   3 149  98   6  68 109  96  12 102 120 104 128  46  11 110\n",
            " 124  41 148   1 113 139  42   4 129  17  38   5  53 143 105   0  34  28\n",
            "  55  75  35  23  74  31 118  57 131  65  32 138  14 122  19  29 130  49\n",
            " 136  99  82  79 115 145  72  77  25  81 140 142  39  58  88  70  87  36\n",
            "  21   9 103  67 117  47]\n"
          ]
        }
      ]
    },
    {
      "cell_type": "markdown",
      "source": [
        "- The `split_ratio` variable determines the ratio of the training set to the entire dataset.\n",
        "- The `index_to_split` variable calculates the index at which the dataset will be split based on the ratio."
      ],
      "metadata": {
        "_uuid": "b6bb03b5-3aa3-406a-bc03-888581cbebf8",
        "_cell_guid": "2eafc96a-2009-4d6b-9e1c-13e2a169fdda",
        "trusted": true,
        "id": "-EjQwsT-IcBF"
      }
    },
    {
      "cell_type": "code",
      "source": [
        "split_ratio = 0.8  # Ratio of training set vs. whole dataset\n",
        "index_to_split = int(len(X) * split_ratio)  # Determine the index to split the dataset\n",
        "print(index_to_split)"
      ],
      "metadata": {
        "_uuid": "a5c43e13-1770-4daa-a0ed-c54abe360dcb",
        "_cell_guid": "0a26efd6-fcf4-4437-b597-29f6a57bda3d",
        "jupyter": {
          "outputs_hidden": false
        },
        "execution": {
          "iopub.status.busy": "2023-07-10T17:43:51.263255Z",
          "iopub.execute_input": "2023-07-10T17:43:51.263675Z",
          "iopub.status.idle": "2023-07-10T17:43:51.275947Z",
          "shell.execute_reply.started": "2023-07-10T17:43:51.263644Z",
          "shell.execute_reply": "2023-07-10T17:43:51.274633Z"
        },
        "trusted": true,
        "id": "5FnkcmHUIcBF",
        "outputId": "877a237e-9522-47bc-c858-e540c7ea4609",
        "colab": {
          "base_uri": "https://localhost:8080/"
        }
      },
      "execution_count": 9,
      "outputs": [
        {
          "output_type": "stream",
          "name": "stdout",
          "text": [
            "120\n"
          ]
        }
      ]
    },
    {
      "cell_type": "markdown",
      "source": [
        "- The subsequent commented code block demonstrates an explicit way of splitting the dataset using slicing.\n",
        "- The lists `X_train`, `X_test`, `y_train`, and `y_test` are initialized to store the training and testing data and labels.\n",
        "- A loop fill the `X_train` and `y_train` lists with the corresponding data and labels for the training set."
      ],
      "metadata": {
        "_uuid": "997cfd73-a018-452b-a804-7e208b788ab9",
        "_cell_guid": "c9c8361a-2c11-4d8e-88aa-23384abc9916",
        "trusted": true,
        "id": "XdncUuKoIcBG"
      }
    },
    {
      "cell_type": "code",
      "source": [
        "#initialize the lists which the dataset will be split into\n",
        "X_train = []\n",
        "X_test = []\n",
        "y_train = []\n",
        "y_test = []\n",
        "\n",
        "# Populate the training data and labels\n",
        "for i in range(index_to_split):\n",
        "    X_train.append( X[indices[i]] )\n",
        "    y_train.append( y_labels_integer[indices[i]] )\n",
        "\n",
        "# Populate the testing data and labels\n",
        "for i in range(index_to_split, len(indices)):\n",
        "    X_test.append( X[indices[i]] )\n",
        "    y_test.append( y_labels_integer[indices[i]] )"
      ],
      "metadata": {
        "_uuid": "c37dd4db-b005-4c78-add8-dc3618fa388a",
        "_cell_guid": "1f9cacd0-306c-4245-aa38-002664f17747",
        "jupyter": {
          "outputs_hidden": false
        },
        "execution": {
          "iopub.status.busy": "2023-07-10T17:43:51.277800Z",
          "iopub.execute_input": "2023-07-10T17:43:51.278172Z",
          "iopub.status.idle": "2023-07-10T17:43:51.294062Z",
          "shell.execute_reply.started": "2023-07-10T17:43:51.278139Z",
          "shell.execute_reply": "2023-07-10T17:43:51.292474Z"
        },
        "trusted": true,
        "id": "YduoWAm9IcBG"
      },
      "execution_count": 10,
      "outputs": []
    },
    {
      "cell_type": "code",
      "source": [
        "X_train"
      ],
      "metadata": {
        "execution": {
          "iopub.status.busy": "2023-07-10T17:43:51.297605Z",
          "iopub.execute_input": "2023-07-10T17:43:51.298266Z",
          "iopub.status.idle": "2023-07-10T17:43:51.325126Z",
          "shell.execute_reply.started": "2023-07-10T17:43:51.298217Z",
          "shell.execute_reply": "2023-07-10T17:43:51.324218Z"
        },
        "trusted": true,
        "id": "bKkxHCL-IcBG",
        "outputId": "50127bb3-d362-41ec-eec1-d116bdd9b79a",
        "colab": {
          "base_uri": "https://localhost:8080/"
        }
      },
      "execution_count": 11,
      "outputs": [
        {
          "output_type": "execute_result",
          "data": {
            "text/plain": [
              "[array([5.8, 2.8, 5.1, 2.4]),\n",
              " array([6. , 2.2, 4. , 1. ]),\n",
              " array([5.5, 4.2, 1.4, 0.2]),\n",
              " array([7.3, 2.9, 6.3, 1.8]),\n",
              " array([5. , 3.4, 1.5, 0.2]),\n",
              " array([6.3, 3.3, 6. , 2.5]),\n",
              " array([5. , 3.5, 1.3, 0.3]),\n",
              " array([6.7, 3.1, 4.7, 1.5]),\n",
              " array([6.8, 2.8, 4.8, 1.4]),\n",
              " array([6.1, 2.8, 4. , 1.3]),\n",
              " array([6.1, 2.6, 5.6, 1.4]),\n",
              " array([6.4, 3.2, 4.5, 1.5]),\n",
              " array([6.1, 2.8, 4.7, 1.2]),\n",
              " array([6.5, 2.8, 4.6, 1.5]),\n",
              " array([6.1, 2.9, 4.7, 1.4]),\n",
              " array([4.9, 3.1, 1.5, 0.1]),\n",
              " array([6. , 2.9, 4.5, 1.5]),\n",
              " array([5.5, 2.6, 4.4, 1.2]),\n",
              " array([4.8, 3. , 1.4, 0.3]),\n",
              " array([5.4, 3.9, 1.3, 0.4]),\n",
              " array([5.6, 2.8, 4.9, 2. ]),\n",
              " array([5.6, 3. , 4.5, 1.5]),\n",
              " array([4.8, 3.4, 1.9, 0.2]),\n",
              " array([4.4, 2.9, 1.4, 0.2]),\n",
              " array([6.2, 2.8, 4.8, 1.8]),\n",
              " array([4.6, 3.6, 1. , 0.2]),\n",
              " array([5.1, 3.8, 1.9, 0.4]),\n",
              " array([6.2, 2.9, 4.3, 1.3]),\n",
              " array([5. , 2.3, 3.3, 1. ]),\n",
              " array([5. , 3.4, 1.6, 0.4]),\n",
              " array([6.4, 3.1, 5.5, 1.8]),\n",
              " array([5.4, 3. , 4.5, 1.5]),\n",
              " array([5.2, 3.5, 1.5, 0.2]),\n",
              " array([6.1, 3. , 4.9, 1.8]),\n",
              " array([6.4, 2.8, 5.6, 2.2]),\n",
              " array([5.2, 2.7, 3.9, 1.4]),\n",
              " array([5.7, 3.8, 1.7, 0.3]),\n",
              " array([6. , 2.7, 5.1, 1.6]),\n",
              " array([5.9, 3. , 4.2, 1.5]),\n",
              " array([5.8, 2.6, 4. , 1.2]),\n",
              " array([6.8, 3. , 5.5, 2.1]),\n",
              " array([4.7, 3.2, 1.3, 0.2]),\n",
              " array([6.9, 3.1, 5.1, 2.3]),\n",
              " array([5. , 3.5, 1.6, 0.6]),\n",
              " array([5.4, 3.7, 1.5, 0.2]),\n",
              " array([5. , 2. , 3.5, 1. ]),\n",
              " array([6.5, 3. , 5.5, 1.8]),\n",
              " array([6.7, 3.3, 5.7, 2.5]),\n",
              " array([6. , 2.2, 5. , 1.5]),\n",
              " array([6.7, 2.5, 5.8, 1.8]),\n",
              " array([5.6, 2.5, 3.9, 1.1]),\n",
              " array([7.7, 3. , 6.1, 2.3]),\n",
              " array([6.3, 3.3, 4.7, 1.6]),\n",
              " array([5.5, 2.4, 3.8, 1.1]),\n",
              " array([6.3, 2.7, 4.9, 1.8]),\n",
              " array([6.3, 2.8, 5.1, 1.5]),\n",
              " array([4.9, 2.5, 4.5, 1.7]),\n",
              " array([6.3, 2.5, 5. , 1.9]),\n",
              " array([7. , 3.2, 4.7, 1.4]),\n",
              " array([6.5, 3. , 5.2, 2. ]),\n",
              " array([6. , 3.4, 4.5, 1.6]),\n",
              " array([4.8, 3.1, 1.6, 0.2]),\n",
              " array([5.8, 2.7, 5.1, 1.9]),\n",
              " array([5.6, 2.7, 4.2, 1.3]),\n",
              " array([5.6, 2.9, 3.6, 1.3]),\n",
              " array([5.5, 2.5, 4. , 1.3]),\n",
              " array([6.1, 3. , 4.6, 1.4]),\n",
              " array([7.2, 3.2, 6. , 1.8]),\n",
              " array([5.3, 3.7, 1.5, 0.2]),\n",
              " array([4.3, 3. , 1.1, 0.1]),\n",
              " array([6.4, 2.7, 5.3, 1.9]),\n",
              " array([5.7, 3. , 4.2, 1.2]),\n",
              " array([5.4, 3.4, 1.7, 0.2]),\n",
              " array([5.7, 4.4, 1.5, 0.4]),\n",
              " array([6.9, 3.1, 4.9, 1.5]),\n",
              " array([4.6, 3.1, 1.5, 0.2]),\n",
              " array([5.9, 3. , 5.1, 1.8]),\n",
              " array([5.1, 2.5, 3. , 1.1]),\n",
              " array([4.6, 3.4, 1.4, 0.3]),\n",
              " array([6.2, 2.2, 4.5, 1.5]),\n",
              " array([7.2, 3.6, 6.1, 2.5]),\n",
              " array([5.7, 2.9, 4.2, 1.3]),\n",
              " array([4.8, 3. , 1.4, 0.1]),\n",
              " array([7.1, 3. , 5.9, 2.1]),\n",
              " array([6.9, 3.2, 5.7, 2.3]),\n",
              " array([6.5, 3. , 5.8, 2.2]),\n",
              " array([6.4, 2.8, 5.6, 2.1]),\n",
              " array([5.1, 3.8, 1.6, 0.2]),\n",
              " array([4.8, 3.4, 1.6, 0.2]),\n",
              " array([6.5, 3.2, 5.1, 2. ]),\n",
              " array([6.7, 3.3, 5.7, 2.1]),\n",
              " array([4.5, 2.3, 1.3, 0.3]),\n",
              " array([6.2, 3.4, 5.4, 2.3]),\n",
              " array([4.9, 3. , 1.4, 0.2]),\n",
              " array([5.7, 2.5, 5. , 2. ]),\n",
              " array([6.9, 3.1, 5.4, 2.1]),\n",
              " array([4.4, 3.2, 1.3, 0.2]),\n",
              " array([5. , 3.6, 1.4, 0.2]),\n",
              " array([7.2, 3. , 5.8, 1.6]),\n",
              " array([5.1, 3.5, 1.4, 0.3]),\n",
              " array([4.4, 3. , 1.3, 0.2]),\n",
              " array([5.4, 3.9, 1.7, 0.4]),\n",
              " array([5.5, 2.3, 4. , 1.3]),\n",
              " array([6.8, 3.2, 5.9, 2.3]),\n",
              " array([7.6, 3. , 6.6, 2.1]),\n",
              " array([5.1, 3.5, 1.4, 0.2]),\n",
              " array([4.9, 3.1, 1.5, 0.1]),\n",
              " array([5.2, 3.4, 1.4, 0.2]),\n",
              " array([5.7, 2.8, 4.5, 1.3]),\n",
              " array([6.6, 3. , 4.4, 1.4]),\n",
              " array([5. , 3.2, 1.2, 0.2]),\n",
              " array([5.1, 3.3, 1.7, 0.5]),\n",
              " array([6.4, 2.9, 4.3, 1.3]),\n",
              " array([5.4, 3.4, 1.5, 0.4]),\n",
              " array([7.7, 2.6, 6.9, 2.3]),\n",
              " array([4.9, 2.4, 3.3, 1. ]),\n",
              " array([7.9, 3.8, 6.4, 2. ]),\n",
              " array([6.7, 3.1, 4.4, 1.4]),\n",
              " array([5.2, 4.1, 1.5, 0.1]),\n",
              " array([6. , 3. , 4.8, 1.8])]"
            ]
          },
          "metadata": {},
          "execution_count": 11
        }
      ]
    },
    {
      "cell_type": "markdown",
      "source": [
        "- Finally, the lists are converted to 2D numpy arrays for compatibility with machine learning algorithms."
      ],
      "metadata": {
        "_uuid": "31e81c9f-d83c-4bee-9a21-8c31ed925256",
        "_cell_guid": "e4022994-35a4-4d8f-8ce7-6354331ed35c",
        "trusted": true,
        "id": "47YmQW30IcBH"
      }
    },
    {
      "cell_type": "code",
      "source": [
        "# Convert the lists to 2d numpy arrays\n",
        "X_train = np.array(X_train)\n",
        "X_test = np.array(X_test)\n",
        "y_train = np.array(y_train)\n",
        "y_test = np.array(y_test)\n",
        "print(\"X_test\",X_test)\n",
        "print(\"y_test\",y_test)"
      ],
      "metadata": {
        "_uuid": "f2ee694b-ff8d-4f30-a3b7-9534a0267d3d",
        "_cell_guid": "a091397e-973d-457d-b7b7-a886586104f6",
        "jupyter": {
          "outputs_hidden": false
        },
        "execution": {
          "iopub.status.busy": "2023-07-10T17:43:51.326545Z",
          "iopub.execute_input": "2023-07-10T17:43:51.326948Z",
          "iopub.status.idle": "2023-07-10T17:43:51.344488Z",
          "shell.execute_reply.started": "2023-07-10T17:43:51.326914Z",
          "shell.execute_reply": "2023-07-10T17:43:51.343356Z"
        },
        "trusted": true,
        "id": "yDBlUOzTIcBH",
        "outputId": "fd72399d-4b15-47bc-e907-b3fc2f1aeed9",
        "colab": {
          "base_uri": "https://localhost:8080/"
        }
      },
      "execution_count": 12,
      "outputs": [
        {
          "output_type": "stream",
          "name": "stdout",
          "text": [
            "X_test [[5.8 4.  1.2 0.2]\n",
            " [7.7 2.8 6.7 2. ]\n",
            " [5.1 3.8 1.5 0.3]\n",
            " [4.7 3.2 1.6 0.2]\n",
            " [7.4 2.8 6.1 1.9]\n",
            " [5.  3.3 1.4 0.2]\n",
            " [6.3 3.4 5.6 2.4]\n",
            " [5.7 2.8 4.1 1.3]\n",
            " [5.8 2.7 3.9 1.2]\n",
            " [5.7 2.6 3.5 1. ]\n",
            " [6.4 3.2 5.3 2.3]\n",
            " [6.7 3.  5.2 2.3]\n",
            " [6.3 2.5 4.9 1.5]\n",
            " [6.7 3.  5.  1.7]\n",
            " [5.  3.  1.6 0.2]\n",
            " [5.5 2.4 3.7 1. ]\n",
            " [6.7 3.1 5.6 2.4]\n",
            " [5.8 2.7 5.1 1.9]\n",
            " [5.1 3.4 1.5 0.2]\n",
            " [6.6 2.9 4.6 1.3]\n",
            " [5.6 3.  4.1 1.3]\n",
            " [5.9 3.2 4.8 1.8]\n",
            " [6.3 2.3 4.4 1.3]\n",
            " [5.5 3.5 1.3 0.2]\n",
            " [5.1 3.7 1.5 0.4]\n",
            " [4.9 3.1 1.5 0.1]\n",
            " [6.3 2.9 5.6 1.8]\n",
            " [5.8 2.7 4.1 1. ]\n",
            " [7.7 3.8 6.7 2.2]\n",
            " [4.6 3.2 1.4 0.2]]\n",
            "y_test [0 2 0 0 2 0 2 1 1 1 2 2 1 1 0 1 2 2 0 1 1 1 1 0 0 0 2 1 2 0]\n"
          ]
        }
      ]
    },
    {
      "cell_type": "markdown",
      "source": [
        "### KNN classifier function\n",
        "This k-Nearest Neighbors tutorial is broken down into 3 parts:\n",
        "\n",
        "<img src=\"https://miro.medium.com/v2/resize:fit:1400/format:webp/1*CVcFTGsIZ-sj_Z_CY5X0Ew.png\" width=50%>\n",
        "\n",
        "#### Step 1: Calculate Euclidean Distance.\n",
        "- We can calculate the straight line distance between two vectors using the Euclidean distance measure. It is calculated as the square root of the sum of the squared differences between the two vectors.\n",
        "- To locate the neighbors for a new piece of data within a dataset we must first calculate the distance between each record in the dataset to the new piece of data (note in the image not all arrows are shown)\n",
        "\n",
        "<img src=\"https://miro.medium.com/v2/resize:fit:1400/format:webp/1*0ObiRFulLMuXQ5aj6dO7BQ.png\" width=50%>\n",
        "\n",
        "#### Step 2: Get Nearest Neighbors.\n",
        "- Neighbors for a new piece of data in the dataset are the k closest instances, as defined by our distance measure.\n",
        "- Once distances are calculated, we must sort all of the records in the training dataset by their distance to the new data. We can then select the top k to return as the most similar neighbors.\n",
        "\n",
        "<img src=\"https://miro.medium.com/v2/resize:fit:1400/format:webp/1*El2DdaYNYaBficIL7EXwxg.png\" width=50%>\n",
        "\n",
        "#### Step 3: Make Predictions.\n",
        "- The most similar neighbors collected from the training dataset is used to make predictions.\n",
        "- `np.unique` is used to find the corresponding counts of each unique label type\n",
        "- `np.argmax` is used to find the indices of the maximum values\n",
        "\n",
        "<img src=\"https://miro.medium.com/v2/resize:fit:1400/format:webp/1*TyqUebB-B9MN-XhcKmVGWA.png\" width=50%>\n"
      ],
      "metadata": {
        "_uuid": "25c62f53-cad4-4991-b81b-b99018b2a224",
        "_cell_guid": "19db631e-71e9-42cc-acba-223ae44dc9b4",
        "trusted": true,
        "id": "AgY3Jd-MIcBH"
      }
    },
    {
      "cell_type": "code",
      "source": [
        "def KNNClassify(X_test, Y_train = y_train,X_train = X_train, k = 8): #set default k as 8\n",
        "    # X_test is the data of 1 flower\n",
        "    # X_train is the data of 120 flowers\n",
        "\n",
        "    ## Step 1:\n",
        "    distance_list = []\n",
        "\n",
        "    #for every example in the training set, calculate euclidean distance against the test example\n",
        "    for i in range(len(X_train)):\n",
        "        point = X_train[i]\n",
        "        d1 = (point[0]-X_test[0])**2 # 5**2 means 5^2\n",
        "        d2 = (point[1]-X_test[1])**2\n",
        "        d3 = (point[2]-X_test[2])**2\n",
        "        d4 = (point[3]-X_test[3])**2\n",
        "        distance = np.sqrt(d1+d2+d3+d4)\n",
        "\n",
        "        #place this calculated distance into the list\n",
        "        distance_list.append( (distance,i) )\n",
        "\n",
        "    ## Step 2:\n",
        "    #sort distances in ascending order by distance\n",
        "    sorted_distance_list = sorted(distance_list)\n",
        "\n",
        "    #the k nearest neighbours are the top k points in the sorted distance list\n",
        "    neighbours = sorted_distance_list[0:k]\n",
        "    # for example, neighbours = [(352.1, 51),(371.2, 9),(373.5, 2),(376.0, 110),]\n",
        "\n",
        "    #get index of the minimum distances\n",
        "    neighbours_index = []\n",
        "    for distance,idx in neighbours:\n",
        "        neighbours_index.append(idx)\n",
        "    # for example, neighbours_index = [51, 9, 2, 110]\n",
        "\n",
        "    ## Step 3:\n",
        "    #check which label has majority\n",
        "    output = Y_train[neighbours_index]\n",
        "    # for example, neighbours_index = [1, 0, 0, 2] because #51 is iris_type1, #9 and #2 is iris_type0, #110 is iris_type2\n",
        "    values, counts = np.unique(output, return_counts=True)\n",
        "\n",
        "    #return label with majority occurence\n",
        "    max_idx = np.argmax(counts)\n",
        "    return values[max_idx]"
      ],
      "metadata": {
        "_uuid": "23d9af13-ec57-4f9f-b066-287b3321bac5",
        "_cell_guid": "838acfe4-68e5-4358-8798-372b026cb3b5",
        "jupyter": {
          "outputs_hidden": false
        },
        "execution": {
          "iopub.status.busy": "2023-07-10T17:43:51.346285Z",
          "iopub.execute_input": "2023-07-10T17:43:51.346862Z",
          "iopub.status.idle": "2023-07-10T17:43:51.359537Z",
          "shell.execute_reply.started": "2023-07-10T17:43:51.346823Z",
          "shell.execute_reply": "2023-07-10T17:43:51.358154Z"
        },
        "trusted": true,
        "id": "QsMjaZCbIcBH"
      },
      "execution_count": 13,
      "outputs": []
    },
    {
      "cell_type": "markdown",
      "source": [
        "### Running the classifier to predict the labels for the testing set"
      ],
      "metadata": {
        "_uuid": "8127098b-2abd-40cb-b3e4-c87873d2da8b",
        "_cell_guid": "78854f2a-15f1-4d95-a206-bb5af081d912",
        "trusted": true,
        "id": "CsYUtrk4IcBI"
      }
    },
    {
      "cell_type": "code",
      "source": [
        "#getting predicted values using our algorithm\n",
        "predicted_y = []\n",
        "for point in X_test:\n",
        "    predicted_y.append(KNNClassify(point))\n",
        "\n",
        "print(predicted_y)"
      ],
      "metadata": {
        "_uuid": "be17db9a-9e1f-4854-9958-3efd56204729",
        "_cell_guid": "1344daa0-ace1-4586-95b0-fbf17bcc8578",
        "jupyter": {
          "outputs_hidden": false
        },
        "execution": {
          "iopub.status.busy": "2023-07-10T17:43:51.360859Z",
          "iopub.execute_input": "2023-07-10T17:43:51.361206Z",
          "iopub.status.idle": "2023-07-10T17:43:51.405856Z",
          "shell.execute_reply.started": "2023-07-10T17:43:51.361177Z",
          "shell.execute_reply": "2023-07-10T17:43:51.404655Z"
        },
        "trusted": true,
        "id": "03eLBPKAIcBI",
        "outputId": "4febfb4e-d2fb-41e2-f661-bf4c7b834269",
        "colab": {
          "base_uri": "https://localhost:8080/"
        }
      },
      "execution_count": 14,
      "outputs": [
        {
          "output_type": "stream",
          "name": "stdout",
          "text": [
            "[0, 2, 0, 0, 2, 0, 2, 1, 1, 1, 2, 2, 2, 1, 0, 1, 2, 2, 0, 1, 1, 1, 1, 0, 0, 0, 2, 1, 2, 0]\n"
          ]
        }
      ]
    },
    {
      "cell_type": "code",
      "source": [
        "def accuracy(predictions , y_test):\n",
        "    count = 0\n",
        "    for i in range(len(predictions)):\n",
        "        if predictions[i] == y_test[i]:\n",
        "            count +=1\n",
        "    return count/len(predictions)\n",
        "\n",
        "\n",
        "#compare the predictions against the y_tests (true labels）\n",
        "acc = accuracy(predicted_y, y_test)\n",
        "print(\"Accuracy =\", acc*100, \"%\")"
      ],
      "metadata": {
        "_uuid": "a766e53a-6abf-4f55-8a95-3ec08b315d14",
        "_cell_guid": "7d7f8a3c-ff90-41cf-b066-7a2d3e672b3d",
        "jupyter": {
          "outputs_hidden": false
        },
        "execution": {
          "iopub.status.busy": "2023-07-10T17:43:51.407226Z",
          "iopub.execute_input": "2023-07-10T17:43:51.407679Z",
          "iopub.status.idle": "2023-07-10T17:43:51.418786Z",
          "shell.execute_reply.started": "2023-07-10T17:43:51.407648Z",
          "shell.execute_reply": "2023-07-10T17:43:51.417465Z"
        },
        "trusted": true,
        "id": "oSlyo7hRIcBJ",
        "outputId": "1d1ce783-0501-4712-e56f-42ffdae9e07a",
        "colab": {
          "base_uri": "https://localhost:8080/"
        }
      },
      "execution_count": 15,
      "outputs": [
        {
          "output_type": "stream",
          "name": "stdout",
          "text": [
            "Accuracy = 96.66666666666667 %\n"
          ]
        }
      ]
    },
    {
      "cell_type": "markdown",
      "source": [
        "### Exercise\n",
        "1. Alice wants to use KNN to classify cat and dog images, which have millions of training images. She wants to distribute this model on the internet. Is this feasible? Why or why not? (hint: think about the size of the trained model)  \n",
        "2. Explain why there are 4 variables added together in `distance = np.sqrt(d1+d2+d3+d4)`\n",
        "3. Write the code below so that the KNN classifier can handle 28x28 pixels hand-written greyscale digit image classification. The inputs are vectors of 784 numbers, and the ouput is the label (10 categories)"
      ],
      "metadata": {
        "_uuid": "d92b1ce9-b63e-48b4-a946-37ec71ba30f2",
        "_cell_guid": "c6bd7805-1589-4814-8f80-2f6d4c230b48",
        "trusted": true,
        "id": "zh4PfJIVIcBJ"
      }
    },
    {
      "cell_type": "code",
      "source": [
        "def KNNClassify(X_test, Y_train,X_train, k = 8):\n",
        "    distance_list = []\n",
        "    for idx,point in enumerate(X_train):\n",
        "        #exercise: code here\n",
        "\n",
        "        distance_list.append( (distance,idx) )\n",
        "\n",
        "    sorted_distance_list = sorted(distance_list)\n",
        "\n",
        "    neighbours = sorted_distance_list[:k]\n",
        "    neighbours_index = []\n",
        "    for distance,idx in neighbours:\n",
        "        neighbours_index.append(idx)\n",
        "\n",
        "    output = Y_train[neighbours_index]\n",
        "    values, counts = np.unique(output, return_counts=True)\n",
        "\n",
        "    max_idx = np.argmax(counts)\n",
        "    return values[max_idx]"
      ],
      "metadata": {
        "_uuid": "ab5a409e-71f7-43b3-8900-3f0a9476b0bc",
        "_cell_guid": "aedf471a-5196-4add-a8e5-af6ee8d69b44",
        "jupyter": {
          "outputs_hidden": false
        },
        "execution": {
          "iopub.status.busy": "2023-07-10T17:43:51.421004Z",
          "iopub.execute_input": "2023-07-10T17:43:51.421481Z",
          "iopub.status.idle": "2023-07-10T17:43:51.438427Z",
          "shell.execute_reply.started": "2023-07-10T17:43:51.421428Z",
          "shell.execute_reply": "2023-07-10T17:43:51.436788Z"
        },
        "trusted": true,
        "id": "NLWO2zl8IcBK"
      },
      "execution_count": 48,
      "outputs": []
    },
    {
      "cell_type": "markdown",
      "source": [
        "4. Now we apply the KNN classifier on the hand written digit dataset. Complete the code in the 2 blocks below (This will take 2 to 3 minutes to run)"
      ],
      "metadata": {
        "id": "Wlh7pz2psUKq"
      }
    },
    {
      "cell_type": "code",
      "source": [
        "# this block is completed for you\n",
        "from sklearn.datasets import fetch_openml\n",
        "from sklearn.model_selection import train_test_split\n",
        "from sklearn.metrics import accuracy_score\n",
        "mnist = fetch_openml('mnist_784')\n",
        "X = mnist.data / 255.0  # Scale pixel values to [0, 1]\n",
        "y = mnist.target.astype(int)\n",
        "X_train, X_test, y_train, y_test = train_test_split(X, y, test_size=0.5)\n",
        "display(X_train)\n",
        "X_train = X_train.to_numpy()\n",
        "X_test = X_test.to_numpy()\n",
        "y_train = y_train.to_numpy()\n",
        "y_test = y_test.to_numpy()\n"
      ],
      "metadata": {
        "id": "YoUJjSB-oDdI",
        "outputId": "ae4d488a-10f7-4121-afff-36c034408fe5",
        "colab": {
          "base_uri": "https://localhost:8080/",
          "height": 522
        }
      },
      "execution_count": 40,
      "outputs": [
        {
          "output_type": "stream",
          "name": "stderr",
          "text": [
            "/usr/local/lib/python3.10/dist-packages/sklearn/datasets/_openml.py:968: FutureWarning: The default value of `parser` will change from `'liac-arff'` to `'auto'` in 1.4. You can set `parser='auto'` to silence this warning. Therefore, an `ImportError` will be raised from 1.4 if the dataset is dense and pandas is not installed. Note that the pandas parser may return different data types. See the Notes Section in fetch_openml's API doc for details.\n",
            "  warn(\n"
          ]
        },
        {
          "output_type": "display_data",
          "data": {
            "text/plain": [
              "       pixel1  pixel2  pixel3  pixel4  pixel5  pixel6  pixel7  pixel8  pixel9  \\\n",
              "56331     0.0     0.0     0.0     0.0     0.0     0.0     0.0     0.0     0.0   \n",
              "56778     0.0     0.0     0.0     0.0     0.0     0.0     0.0     0.0     0.0   \n",
              "37721     0.0     0.0     0.0     0.0     0.0     0.0     0.0     0.0     0.0   \n",
              "41538     0.0     0.0     0.0     0.0     0.0     0.0     0.0     0.0     0.0   \n",
              "24892     0.0     0.0     0.0     0.0     0.0     0.0     0.0     0.0     0.0   \n",
              "...       ...     ...     ...     ...     ...     ...     ...     ...     ...   \n",
              "25192     0.0     0.0     0.0     0.0     0.0     0.0     0.0     0.0     0.0   \n",
              "55278     0.0     0.0     0.0     0.0     0.0     0.0     0.0     0.0     0.0   \n",
              "31923     0.0     0.0     0.0     0.0     0.0     0.0     0.0     0.0     0.0   \n",
              "25074     0.0     0.0     0.0     0.0     0.0     0.0     0.0     0.0     0.0   \n",
              "15361     0.0     0.0     0.0     0.0     0.0     0.0     0.0     0.0     0.0   \n",
              "\n",
              "       pixel10  ...  pixel775  pixel776  pixel777  pixel778  pixel779  \\\n",
              "56331      0.0  ...       0.0       0.0       0.0       0.0       0.0   \n",
              "56778      0.0  ...       0.0       0.0       0.0       0.0       0.0   \n",
              "37721      0.0  ...       0.0       0.0       0.0       0.0       0.0   \n",
              "41538      0.0  ...       0.0       0.0       0.0       0.0       0.0   \n",
              "24892      0.0  ...       0.0       0.0       0.0       0.0       0.0   \n",
              "...        ...  ...       ...       ...       ...       ...       ...   \n",
              "25192      0.0  ...       0.0       0.0       0.0       0.0       0.0   \n",
              "55278      0.0  ...       0.0       0.0       0.0       0.0       0.0   \n",
              "31923      0.0  ...       0.0       0.0       0.0       0.0       0.0   \n",
              "25074      0.0  ...       0.0       0.0       0.0       0.0       0.0   \n",
              "15361      0.0  ...       0.0       0.0       0.0       0.0       0.0   \n",
              "\n",
              "       pixel780  pixel781  pixel782  pixel783  pixel784  \n",
              "56331       0.0       0.0       0.0       0.0       0.0  \n",
              "56778       0.0       0.0       0.0       0.0       0.0  \n",
              "37721       0.0       0.0       0.0       0.0       0.0  \n",
              "41538       0.0       0.0       0.0       0.0       0.0  \n",
              "24892       0.0       0.0       0.0       0.0       0.0  \n",
              "...         ...       ...       ...       ...       ...  \n",
              "25192       0.0       0.0       0.0       0.0       0.0  \n",
              "55278       0.0       0.0       0.0       0.0       0.0  \n",
              "31923       0.0       0.0       0.0       0.0       0.0  \n",
              "25074       0.0       0.0       0.0       0.0       0.0  \n",
              "15361       0.0       0.0       0.0       0.0       0.0  \n",
              "\n",
              "[69930 rows x 784 columns]"
            ],
            "text/html": [
              "\n",
              "\n",
              "  <div id=\"df-d401ccb1-df47-42af-8286-3fbab4aace8f\">\n",
              "    <div class=\"colab-df-container\">\n",
              "      <div>\n",
              "<style scoped>\n",
              "    .dataframe tbody tr th:only-of-type {\n",
              "        vertical-align: middle;\n",
              "    }\n",
              "\n",
              "    .dataframe tbody tr th {\n",
              "        vertical-align: top;\n",
              "    }\n",
              "\n",
              "    .dataframe thead th {\n",
              "        text-align: right;\n",
              "    }\n",
              "</style>\n",
              "<table border=\"1\" class=\"dataframe\">\n",
              "  <thead>\n",
              "    <tr style=\"text-align: right;\">\n",
              "      <th></th>\n",
              "      <th>pixel1</th>\n",
              "      <th>pixel2</th>\n",
              "      <th>pixel3</th>\n",
              "      <th>pixel4</th>\n",
              "      <th>pixel5</th>\n",
              "      <th>pixel6</th>\n",
              "      <th>pixel7</th>\n",
              "      <th>pixel8</th>\n",
              "      <th>pixel9</th>\n",
              "      <th>pixel10</th>\n",
              "      <th>...</th>\n",
              "      <th>pixel775</th>\n",
              "      <th>pixel776</th>\n",
              "      <th>pixel777</th>\n",
              "      <th>pixel778</th>\n",
              "      <th>pixel779</th>\n",
              "      <th>pixel780</th>\n",
              "      <th>pixel781</th>\n",
              "      <th>pixel782</th>\n",
              "      <th>pixel783</th>\n",
              "      <th>pixel784</th>\n",
              "    </tr>\n",
              "  </thead>\n",
              "  <tbody>\n",
              "    <tr>\n",
              "      <th>56331</th>\n",
              "      <td>0.0</td>\n",
              "      <td>0.0</td>\n",
              "      <td>0.0</td>\n",
              "      <td>0.0</td>\n",
              "      <td>0.0</td>\n",
              "      <td>0.0</td>\n",
              "      <td>0.0</td>\n",
              "      <td>0.0</td>\n",
              "      <td>0.0</td>\n",
              "      <td>0.0</td>\n",
              "      <td>...</td>\n",
              "      <td>0.0</td>\n",
              "      <td>0.0</td>\n",
              "      <td>0.0</td>\n",
              "      <td>0.0</td>\n",
              "      <td>0.0</td>\n",
              "      <td>0.0</td>\n",
              "      <td>0.0</td>\n",
              "      <td>0.0</td>\n",
              "      <td>0.0</td>\n",
              "      <td>0.0</td>\n",
              "    </tr>\n",
              "    <tr>\n",
              "      <th>56778</th>\n",
              "      <td>0.0</td>\n",
              "      <td>0.0</td>\n",
              "      <td>0.0</td>\n",
              "      <td>0.0</td>\n",
              "      <td>0.0</td>\n",
              "      <td>0.0</td>\n",
              "      <td>0.0</td>\n",
              "      <td>0.0</td>\n",
              "      <td>0.0</td>\n",
              "      <td>0.0</td>\n",
              "      <td>...</td>\n",
              "      <td>0.0</td>\n",
              "      <td>0.0</td>\n",
              "      <td>0.0</td>\n",
              "      <td>0.0</td>\n",
              "      <td>0.0</td>\n",
              "      <td>0.0</td>\n",
              "      <td>0.0</td>\n",
              "      <td>0.0</td>\n",
              "      <td>0.0</td>\n",
              "      <td>0.0</td>\n",
              "    </tr>\n",
              "    <tr>\n",
              "      <th>37721</th>\n",
              "      <td>0.0</td>\n",
              "      <td>0.0</td>\n",
              "      <td>0.0</td>\n",
              "      <td>0.0</td>\n",
              "      <td>0.0</td>\n",
              "      <td>0.0</td>\n",
              "      <td>0.0</td>\n",
              "      <td>0.0</td>\n",
              "      <td>0.0</td>\n",
              "      <td>0.0</td>\n",
              "      <td>...</td>\n",
              "      <td>0.0</td>\n",
              "      <td>0.0</td>\n",
              "      <td>0.0</td>\n",
              "      <td>0.0</td>\n",
              "      <td>0.0</td>\n",
              "      <td>0.0</td>\n",
              "      <td>0.0</td>\n",
              "      <td>0.0</td>\n",
              "      <td>0.0</td>\n",
              "      <td>0.0</td>\n",
              "    </tr>\n",
              "    <tr>\n",
              "      <th>41538</th>\n",
              "      <td>0.0</td>\n",
              "      <td>0.0</td>\n",
              "      <td>0.0</td>\n",
              "      <td>0.0</td>\n",
              "      <td>0.0</td>\n",
              "      <td>0.0</td>\n",
              "      <td>0.0</td>\n",
              "      <td>0.0</td>\n",
              "      <td>0.0</td>\n",
              "      <td>0.0</td>\n",
              "      <td>...</td>\n",
              "      <td>0.0</td>\n",
              "      <td>0.0</td>\n",
              "      <td>0.0</td>\n",
              "      <td>0.0</td>\n",
              "      <td>0.0</td>\n",
              "      <td>0.0</td>\n",
              "      <td>0.0</td>\n",
              "      <td>0.0</td>\n",
              "      <td>0.0</td>\n",
              "      <td>0.0</td>\n",
              "    </tr>\n",
              "    <tr>\n",
              "      <th>24892</th>\n",
              "      <td>0.0</td>\n",
              "      <td>0.0</td>\n",
              "      <td>0.0</td>\n",
              "      <td>0.0</td>\n",
              "      <td>0.0</td>\n",
              "      <td>0.0</td>\n",
              "      <td>0.0</td>\n",
              "      <td>0.0</td>\n",
              "      <td>0.0</td>\n",
              "      <td>0.0</td>\n",
              "      <td>...</td>\n",
              "      <td>0.0</td>\n",
              "      <td>0.0</td>\n",
              "      <td>0.0</td>\n",
              "      <td>0.0</td>\n",
              "      <td>0.0</td>\n",
              "      <td>0.0</td>\n",
              "      <td>0.0</td>\n",
              "      <td>0.0</td>\n",
              "      <td>0.0</td>\n",
              "      <td>0.0</td>\n",
              "    </tr>\n",
              "    <tr>\n",
              "      <th>...</th>\n",
              "      <td>...</td>\n",
              "      <td>...</td>\n",
              "      <td>...</td>\n",
              "      <td>...</td>\n",
              "      <td>...</td>\n",
              "      <td>...</td>\n",
              "      <td>...</td>\n",
              "      <td>...</td>\n",
              "      <td>...</td>\n",
              "      <td>...</td>\n",
              "      <td>...</td>\n",
              "      <td>...</td>\n",
              "      <td>...</td>\n",
              "      <td>...</td>\n",
              "      <td>...</td>\n",
              "      <td>...</td>\n",
              "      <td>...</td>\n",
              "      <td>...</td>\n",
              "      <td>...</td>\n",
              "      <td>...</td>\n",
              "      <td>...</td>\n",
              "    </tr>\n",
              "    <tr>\n",
              "      <th>25192</th>\n",
              "      <td>0.0</td>\n",
              "      <td>0.0</td>\n",
              "      <td>0.0</td>\n",
              "      <td>0.0</td>\n",
              "      <td>0.0</td>\n",
              "      <td>0.0</td>\n",
              "      <td>0.0</td>\n",
              "      <td>0.0</td>\n",
              "      <td>0.0</td>\n",
              "      <td>0.0</td>\n",
              "      <td>...</td>\n",
              "      <td>0.0</td>\n",
              "      <td>0.0</td>\n",
              "      <td>0.0</td>\n",
              "      <td>0.0</td>\n",
              "      <td>0.0</td>\n",
              "      <td>0.0</td>\n",
              "      <td>0.0</td>\n",
              "      <td>0.0</td>\n",
              "      <td>0.0</td>\n",
              "      <td>0.0</td>\n",
              "    </tr>\n",
              "    <tr>\n",
              "      <th>55278</th>\n",
              "      <td>0.0</td>\n",
              "      <td>0.0</td>\n",
              "      <td>0.0</td>\n",
              "      <td>0.0</td>\n",
              "      <td>0.0</td>\n",
              "      <td>0.0</td>\n",
              "      <td>0.0</td>\n",
              "      <td>0.0</td>\n",
              "      <td>0.0</td>\n",
              "      <td>0.0</td>\n",
              "      <td>...</td>\n",
              "      <td>0.0</td>\n",
              "      <td>0.0</td>\n",
              "      <td>0.0</td>\n",
              "      <td>0.0</td>\n",
              "      <td>0.0</td>\n",
              "      <td>0.0</td>\n",
              "      <td>0.0</td>\n",
              "      <td>0.0</td>\n",
              "      <td>0.0</td>\n",
              "      <td>0.0</td>\n",
              "    </tr>\n",
              "    <tr>\n",
              "      <th>31923</th>\n",
              "      <td>0.0</td>\n",
              "      <td>0.0</td>\n",
              "      <td>0.0</td>\n",
              "      <td>0.0</td>\n",
              "      <td>0.0</td>\n",
              "      <td>0.0</td>\n",
              "      <td>0.0</td>\n",
              "      <td>0.0</td>\n",
              "      <td>0.0</td>\n",
              "      <td>0.0</td>\n",
              "      <td>...</td>\n",
              "      <td>0.0</td>\n",
              "      <td>0.0</td>\n",
              "      <td>0.0</td>\n",
              "      <td>0.0</td>\n",
              "      <td>0.0</td>\n",
              "      <td>0.0</td>\n",
              "      <td>0.0</td>\n",
              "      <td>0.0</td>\n",
              "      <td>0.0</td>\n",
              "      <td>0.0</td>\n",
              "    </tr>\n",
              "    <tr>\n",
              "      <th>25074</th>\n",
              "      <td>0.0</td>\n",
              "      <td>0.0</td>\n",
              "      <td>0.0</td>\n",
              "      <td>0.0</td>\n",
              "      <td>0.0</td>\n",
              "      <td>0.0</td>\n",
              "      <td>0.0</td>\n",
              "      <td>0.0</td>\n",
              "      <td>0.0</td>\n",
              "      <td>0.0</td>\n",
              "      <td>...</td>\n",
              "      <td>0.0</td>\n",
              "      <td>0.0</td>\n",
              "      <td>0.0</td>\n",
              "      <td>0.0</td>\n",
              "      <td>0.0</td>\n",
              "      <td>0.0</td>\n",
              "      <td>0.0</td>\n",
              "      <td>0.0</td>\n",
              "      <td>0.0</td>\n",
              "      <td>0.0</td>\n",
              "    </tr>\n",
              "    <tr>\n",
              "      <th>15361</th>\n",
              "      <td>0.0</td>\n",
              "      <td>0.0</td>\n",
              "      <td>0.0</td>\n",
              "      <td>0.0</td>\n",
              "      <td>0.0</td>\n",
              "      <td>0.0</td>\n",
              "      <td>0.0</td>\n",
              "      <td>0.0</td>\n",
              "      <td>0.0</td>\n",
              "      <td>0.0</td>\n",
              "      <td>...</td>\n",
              "      <td>0.0</td>\n",
              "      <td>0.0</td>\n",
              "      <td>0.0</td>\n",
              "      <td>0.0</td>\n",
              "      <td>0.0</td>\n",
              "      <td>0.0</td>\n",
              "      <td>0.0</td>\n",
              "      <td>0.0</td>\n",
              "      <td>0.0</td>\n",
              "      <td>0.0</td>\n",
              "    </tr>\n",
              "  </tbody>\n",
              "</table>\n",
              "<p>69930 rows × 784 columns</p>\n",
              "</div>\n",
              "      <button class=\"colab-df-convert\" onclick=\"convertToInteractive('df-d401ccb1-df47-42af-8286-3fbab4aace8f')\"\n",
              "              title=\"Convert this dataframe to an interactive table.\"\n",
              "              style=\"display:none;\">\n",
              "\n",
              "  <svg xmlns=\"http://www.w3.org/2000/svg\" height=\"24px\"viewBox=\"0 0 24 24\"\n",
              "       width=\"24px\">\n",
              "    <path d=\"M0 0h24v24H0V0z\" fill=\"none\"/>\n",
              "    <path d=\"M18.56 5.44l.94 2.06.94-2.06 2.06-.94-2.06-.94-.94-2.06-.94 2.06-2.06.94zm-11 1L8.5 8.5l.94-2.06 2.06-.94-2.06-.94L8.5 2.5l-.94 2.06-2.06.94zm10 10l.94 2.06.94-2.06 2.06-.94-2.06-.94-.94-2.06-.94 2.06-2.06.94z\"/><path d=\"M17.41 7.96l-1.37-1.37c-.4-.4-.92-.59-1.43-.59-.52 0-1.04.2-1.43.59L10.3 9.45l-7.72 7.72c-.78.78-.78 2.05 0 2.83L4 21.41c.39.39.9.59 1.41.59.51 0 1.02-.2 1.41-.59l7.78-7.78 2.81-2.81c.8-.78.8-2.07 0-2.86zM5.41 20L4 18.59l7.72-7.72 1.47 1.35L5.41 20z\"/>\n",
              "  </svg>\n",
              "      </button>\n",
              "\n",
              "\n",
              "\n",
              "    <div id=\"df-1e4963b3-c268-491b-8552-0a21accf00a2\">\n",
              "      <button class=\"colab-df-quickchart\" onclick=\"quickchart('df-1e4963b3-c268-491b-8552-0a21accf00a2')\"\n",
              "              title=\"Suggest charts.\"\n",
              "              style=\"display:none;\">\n",
              "\n",
              "<svg xmlns=\"http://www.w3.org/2000/svg\" height=\"24px\"viewBox=\"0 0 24 24\"\n",
              "     width=\"24px\">\n",
              "    <g>\n",
              "        <path d=\"M19 3H5c-1.1 0-2 .9-2 2v14c0 1.1.9 2 2 2h14c1.1 0 2-.9 2-2V5c0-1.1-.9-2-2-2zM9 17H7v-7h2v7zm4 0h-2V7h2v10zm4 0h-2v-4h2v4z\"/>\n",
              "    </g>\n",
              "</svg>\n",
              "      </button>\n",
              "    </div>\n",
              "\n",
              "<style>\n",
              "  .colab-df-quickchart {\n",
              "    background-color: #E8F0FE;\n",
              "    border: none;\n",
              "    border-radius: 50%;\n",
              "    cursor: pointer;\n",
              "    display: none;\n",
              "    fill: #1967D2;\n",
              "    height: 32px;\n",
              "    padding: 0 0 0 0;\n",
              "    width: 32px;\n",
              "  }\n",
              "\n",
              "  .colab-df-quickchart:hover {\n",
              "    background-color: #E2EBFA;\n",
              "    box-shadow: 0px 1px 2px rgba(60, 64, 67, 0.3), 0px 1px 3px 1px rgba(60, 64, 67, 0.15);\n",
              "    fill: #174EA6;\n",
              "  }\n",
              "\n",
              "  [theme=dark] .colab-df-quickchart {\n",
              "    background-color: #3B4455;\n",
              "    fill: #D2E3FC;\n",
              "  }\n",
              "\n",
              "  [theme=dark] .colab-df-quickchart:hover {\n",
              "    background-color: #434B5C;\n",
              "    box-shadow: 0px 1px 3px 1px rgba(0, 0, 0, 0.15);\n",
              "    filter: drop-shadow(0px 1px 2px rgba(0, 0, 0, 0.3));\n",
              "    fill: #FFFFFF;\n",
              "  }\n",
              "</style>\n",
              "\n",
              "    <script>\n",
              "      async function quickchart(key) {\n",
              "        const containerElement = document.querySelector('#' + key);\n",
              "        const charts = await google.colab.kernel.invokeFunction(\n",
              "            'suggestCharts', [key], {});\n",
              "      }\n",
              "    </script>\n",
              "\n",
              "      <script>\n",
              "\n",
              "function displayQuickchartButton(domScope) {\n",
              "  let quickchartButtonEl =\n",
              "    domScope.querySelector('#df-1e4963b3-c268-491b-8552-0a21accf00a2 button.colab-df-quickchart');\n",
              "  quickchartButtonEl.style.display =\n",
              "    google.colab.kernel.accessAllowed ? 'block' : 'none';\n",
              "}\n",
              "\n",
              "        displayQuickchartButton(document);\n",
              "      </script>\n",
              "      <style>\n",
              "    .colab-df-container {\n",
              "      display:flex;\n",
              "      flex-wrap:wrap;\n",
              "      gap: 12px;\n",
              "    }\n",
              "\n",
              "    .colab-df-convert {\n",
              "      background-color: #E8F0FE;\n",
              "      border: none;\n",
              "      border-radius: 50%;\n",
              "      cursor: pointer;\n",
              "      display: none;\n",
              "      fill: #1967D2;\n",
              "      height: 32px;\n",
              "      padding: 0 0 0 0;\n",
              "      width: 32px;\n",
              "    }\n",
              "\n",
              "    .colab-df-convert:hover {\n",
              "      background-color: #E2EBFA;\n",
              "      box-shadow: 0px 1px 2px rgba(60, 64, 67, 0.3), 0px 1px 3px 1px rgba(60, 64, 67, 0.15);\n",
              "      fill: #174EA6;\n",
              "    }\n",
              "\n",
              "    [theme=dark] .colab-df-convert {\n",
              "      background-color: #3B4455;\n",
              "      fill: #D2E3FC;\n",
              "    }\n",
              "\n",
              "    [theme=dark] .colab-df-convert:hover {\n",
              "      background-color: #434B5C;\n",
              "      box-shadow: 0px 1px 3px 1px rgba(0, 0, 0, 0.15);\n",
              "      filter: drop-shadow(0px 1px 2px rgba(0, 0, 0, 0.3));\n",
              "      fill: #FFFFFF;\n",
              "    }\n",
              "  </style>\n",
              "\n",
              "      <script>\n",
              "        const buttonEl =\n",
              "          document.querySelector('#df-d401ccb1-df47-42af-8286-3fbab4aace8f button.colab-df-convert');\n",
              "        buttonEl.style.display =\n",
              "          google.colab.kernel.accessAllowed ? 'block' : 'none';\n",
              "\n",
              "        async function convertToInteractive(key) {\n",
              "          const element = document.querySelector('#df-d401ccb1-df47-42af-8286-3fbab4aace8f');\n",
              "          const dataTable =\n",
              "            await google.colab.kernel.invokeFunction('convertToInteractive',\n",
              "                                                     [key], {});\n",
              "          if (!dataTable) return;\n",
              "\n",
              "          const docLinkHtml = 'Like what you see? Visit the ' +\n",
              "            '<a target=\"_blank\" href=https://colab.research.google.com/notebooks/data_table.ipynb>data table notebook</a>'\n",
              "            + ' to learn more about interactive tables.';\n",
              "          element.innerHTML = '';\n",
              "          dataTable['output_type'] = 'display_data';\n",
              "          await google.colab.output.renderOutput(dataTable, element);\n",
              "          const docLink = document.createElement('div');\n",
              "          docLink.innerHTML = docLinkHtml;\n",
              "          element.appendChild(docLink);\n",
              "        }\n",
              "      </script>\n",
              "    </div>\n",
              "  </div>\n"
            ]
          },
          "metadata": {}
        }
      ]
    },
    {
      "cell_type": "code",
      "source": [
        "# this block is for exercise\n",
        "for i in range(5):\n",
        "    #getting predicted values using our algorithm\n",
        "    point = X_test[i]\n",
        "    predicted_y = ### exercise\n",
        "    actual_y = ### exercise\n",
        "    print(\"prediction:\",predicted_y, \"  actual:\",actual_y)"
      ],
      "metadata": {
        "id": "cyKKZ6ZwoeTl",
        "outputId": "25e9b68b-80a0-4239-b2fd-be4448c85007",
        "colab": {
          "base_uri": "https://localhost:8080/"
        }
      },
      "execution_count": 50,
      "outputs": [
        {
          "output_type": "stream",
          "name": "stdout",
          "text": [
            "prediction: 2 actual: 2\n",
            "prediction: 1 actual: 1\n",
            "prediction: 5 actual: 5\n",
            "prediction: 7 actual: 7\n",
            "prediction: 0 actual: 0\n"
          ]
        }
      ]
    },
    {
      "cell_type": "markdown",
      "source": [
        "Reference\n",
        "1. https://machinelearningmastery.com/tutorial-to-implement-k-nearest-neighbors-in-python-from-scratch/\n",
        "2. https://medium.com/analytics-vidhya/k-nn-from-scratch-212dcff13eb3\n",
        "3. https://towardsdatascience.com/create-your-own-k-nearest-neighbors-algorithm-in-python-eb7093fc6339"
      ],
      "metadata": {
        "_uuid": "09e644b3-5d98-4ec8-b8b3-f905b298b48f",
        "_cell_guid": "db9cc1ac-2efc-44cb-9ec6-ed3878ce2cc8",
        "trusted": true,
        "id": "ejJkgmTbIcBK"
      }
    }
  ]
}