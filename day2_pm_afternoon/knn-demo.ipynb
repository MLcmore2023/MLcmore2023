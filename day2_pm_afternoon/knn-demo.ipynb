{
  "metadata": {
    "kernelspec": {
      "language": "python",
      "display_name": "Python 3",
      "name": "python3"
    },
    "language_info": {
      "pygments_lexer": "ipython3",
      "nbconvert_exporter": "python",
      "version": "3.6.4",
      "file_extension": ".py",
      "codemirror_mode": {
        "name": "ipython",
        "version": 3
      },
      "name": "python",
      "mimetype": "text/x-python"
    },
    "colab": {
      "provenance": []
    }
  },
  "nbformat_minor": 0,
  "nbformat": 4,
  "cells": [
    {
      "cell_type": "markdown",
      "source": [
        "# KNN demo\n",
        "K-Nearest Neighbor is a supervised ML algorithm with a target variable (y) depending on independent variables (X) used for prediction.\n",
        "In this algorithm, the entire training dataset is stored. When a prediction is required, the k-most similar records to a new record from the training dataset are then located. From these neighbors, a summarized prediction is made."
      ],
      "metadata": {
        "_uuid": "0b9d6374-9cfd-418e-a6de-1c0771536505",
        "_cell_guid": "e2283f08-d5aa-415c-ab49-b54923d4290f",
        "trusted": true,
        "id": "QW-IIo-VIcAz"
      }
    },
    {
      "cell_type": "markdown",
      "source": [
        "**accompanying slides:**\n",
        "https://docs.google.com/presentation/d/1jNR_1fJYOuR8qoLcwh7M07zZB2ObDOufiHQtOVJKuNU/edit?usp=sharing"
      ],
      "metadata": {
        "_uuid": "645bc33b-1858-4dc1-b65b-d32b56620ab7",
        "_cell_guid": "1bf6e261-2549-4a15-860e-11a3a81937d5",
        "trusted": true,
        "id": "YWrrJElHIcA7"
      }
    },
    {
      "cell_type": "markdown",
      "source": [
        "### Import libraries and initialize random generator"
      ],
      "metadata": {
        "_uuid": "cd5598b3-2f3a-406f-a219-75571566f547",
        "_cell_guid": "39a80bc9-1b07-40f4-9982-111b68bf8c2c",
        "trusted": true,
        "id": "H5eCTA4JIcA8"
      }
    },
    {
      "cell_type": "code",
      "source": [
        "import pandas as pd\n",
        "import numpy as np\n",
        "# Set the seed value to make the random number reproducible\n",
        "np.random.seed(0)"
      ],
      "metadata": {
        "_uuid": "034777a5-89cc-4a98-9a6e-12e80c10fa98",
        "_cell_guid": "7c410a16-a298-41c3-b027-d629d7c14cba",
        "jupyter": {
          "outputs_hidden": false
        },
        "execution": {
          "iopub.status.busy": "2023-07-10T17:43:51.120294Z",
          "iopub.execute_input": "2023-07-10T17:43:51.120724Z",
          "iopub.status.idle": "2023-07-10T17:43:51.126377Z",
          "shell.execute_reply.started": "2023-07-10T17:43:51.120691Z",
          "shell.execute_reply": "2023-07-10T17:43:51.125199Z"
        },
        "trusted": true,
        "id": "ykbPkc3BIcA8"
      },
      "execution_count": null,
      "outputs": []
    },
    {
      "cell_type": "markdown",
      "source": [
        "### Read data from CSV\n",
        "we will use the flower iris dataset. This data sets consists of 3 different types of irises’ (Setosa, Versicolour, and Virginica) petal and sepal length"
      ],
      "metadata": {
        "_uuid": "1f567e5b-9495-4fa9-a74f-a2bd63238714",
        "_cell_guid": "ec5c50bb-e85d-4874-b1d4-ea8da42b7e7e",
        "trusted": true,
        "id": "GotroaRIIcA-"
      }
    },
    {
      "cell_type": "code",
      "source": [
        "#read in dataset\n",
        "dataset = pd.read_csv(\"/kaggle/input/iris/Iris.csv\")\n",
        "display(dataset)"
      ],
      "metadata": {
        "_uuid": "55d06a08-8101-4c73-b20e-1109d2d46d59",
        "_cell_guid": "90a6d3df-c4b0-4bba-b762-e0e2ac056dbf",
        "jupyter": {
          "outputs_hidden": false
        },
        "execution": {
          "iopub.status.busy": "2023-07-10T17:43:51.128717Z",
          "iopub.execute_input": "2023-07-10T17:43:51.129370Z",
          "iopub.status.idle": "2023-07-10T17:43:51.171558Z",
          "shell.execute_reply.started": "2023-07-10T17:43:51.129325Z",
          "shell.execute_reply": "2023-07-10T17:43:51.170332Z"
        },
        "trusted": true,
        "id": "duunw9aQIcA_"
      },
      "execution_count": null,
      "outputs": []
    },
    {
      "cell_type": "markdown",
      "source": [
        "here we split the data into input variable (y) and output variables (X)."
      ],
      "metadata": {
        "_uuid": "6ce3083b-ce8b-4b31-96b8-dcc07b7ff8b5",
        "_cell_guid": "0aae65f9-aa48-4c73-9b31-f8931bf5cbbb",
        "trusted": true,
        "id": "hHACofUaIcBA"
      }
    },
    {
      "cell_type": "code",
      "source": [
        "#Split the dataset into X (input features) and y (output labels)\n",
        "X = dataset[ ['SepalLengthCm', 'SepalWidthCm', 'PetalLengthCm', 'PetalWidthCm'] ].values\n",
        "y = dataset['Species'].values"
      ],
      "metadata": {
        "_uuid": "cc6ed58c-3ba7-4a54-b989-6973f3528748",
        "_cell_guid": "f06610a2-8725-49b1-887e-feec35d72212",
        "jupyter": {
          "outputs_hidden": false
        },
        "execution": {
          "iopub.status.busy": "2023-07-10T17:43:51.174056Z",
          "iopub.execute_input": "2023-07-10T17:43:51.174515Z",
          "iopub.status.idle": "2023-07-10T17:43:51.182085Z",
          "shell.execute_reply.started": "2023-07-10T17:43:51.174471Z",
          "shell.execute_reply": "2023-07-10T17:43:51.180813Z"
        },
        "trusted": true,
        "id": "g2U8O351IcBB"
      },
      "execution_count": null,
      "outputs": []
    },
    {
      "cell_type": "code",
      "source": [
        "# first 5 rows of X:\n",
        "display(X[0:5])"
      ],
      "metadata": {
        "_uuid": "d75d02f2-1599-4701-b4d1-16aa6efebfe4",
        "_cell_guid": "1ce6dfd9-e3e3-437e-aeae-1b5c31bfb56e",
        "jupyter": {
          "outputs_hidden": false
        },
        "execution": {
          "iopub.status.busy": "2023-07-10T17:43:51.184204Z",
          "iopub.execute_input": "2023-07-10T17:43:51.184828Z",
          "iopub.status.idle": "2023-07-10T17:43:51.198704Z",
          "shell.execute_reply.started": "2023-07-10T17:43:51.184792Z",
          "shell.execute_reply": "2023-07-10T17:43:51.197674Z"
        },
        "trusted": true,
        "id": "oSV3R0mgIcBC"
      },
      "execution_count": null,
      "outputs": []
    },
    {
      "cell_type": "code",
      "source": [
        "# first 5 rows of y:\n",
        "display(y[0:5])"
      ],
      "metadata": {
        "_uuid": "2c400679-bffc-4782-ab39-f2f5491bb3f0",
        "_cell_guid": "9d0a0a81-fbc4-4423-ad4c-c4c922e65f20",
        "jupyter": {
          "outputs_hidden": false
        },
        "execution": {
          "iopub.status.busy": "2023-07-10T17:43:51.201006Z",
          "iopub.execute_input": "2023-07-10T17:43:51.202071Z",
          "iopub.status.idle": "2023-07-10T17:43:51.214609Z",
          "shell.execute_reply.started": "2023-07-10T17:43:51.202033Z",
          "shell.execute_reply": "2023-07-10T17:43:51.213380Z"
        },
        "trusted": true,
        "id": "egPSQyFYIcBC"
      },
      "execution_count": null,
      "outputs": []
    },
    {
      "cell_type": "markdown",
      "source": [
        "The labels are in strings, so we will convert them into integers\n",
        "By converting strings to numbers, the models can process the data more efficiently, and perform comparisons on the labels"
      ],
      "metadata": {
        "_uuid": "2934297d-c09b-487c-805c-d7ce7e2e07f6",
        "_cell_guid": "d7b3f4b0-7153-4cc2-a82a-d717167cde07",
        "trusted": true,
        "id": "bxHummN0IcBD"
      }
    },
    {
      "cell_type": "code",
      "source": [
        "#converting text labels to integers\n",
        "print(\"Before:\",y)\n",
        "unique_label_text, y_labels_integer = np.unique(y, return_inverse=True)\n",
        "print(\"After:\",y_labels_integer)"
      ],
      "metadata": {
        "_uuid": "4cd7b94c-5d9a-4c79-97a5-c2bc90d79901",
        "_cell_guid": "97d57e13-7529-40e1-b8fa-a04110f31b83",
        "jupyter": {
          "outputs_hidden": false
        },
        "execution": {
          "iopub.status.busy": "2023-07-10T17:43:51.216086Z",
          "iopub.execute_input": "2023-07-10T17:43:51.216833Z",
          "iopub.status.idle": "2023-07-10T17:43:51.231883Z",
          "shell.execute_reply.started": "2023-07-10T17:43:51.216787Z",
          "shell.execute_reply": "2023-07-10T17:43:51.230744Z"
        },
        "trusted": true,
        "id": "zU-1zG4PIcBD"
      },
      "execution_count": null,
      "outputs": []
    },
    {
      "cell_type": "markdown",
      "source": [
        "### Split the dataset into training sets and testing sets\n",
        "this is usually done using `scipy` library's `train_test_split` function:\n",
        "`X_train, X_test, y_train, y_test = train_test_split(X, y, test_size=0.2, random_state=42)`\n",
        "\n",
        "However, this tutorial will explicitly show the processes of splitting datasets."
      ],
      "metadata": {
        "_uuid": "9ed853a4-54ee-4568-b96c-a99d1de47702",
        "_cell_guid": "91a03a11-5ce6-4c9a-9d95-5dab5bbad6c1",
        "trusted": true,
        "id": "8fqLEeKTIcBE"
      }
    },
    {
      "cell_type": "markdown",
      "source": [
        "This code segment splits a dataset into training and testing sets for machine learning purposes.\n",
        "This splitting process is commonly used in machine learning to assess model performance on unseen data, allowing for effective training and evaluation."
      ],
      "metadata": {
        "_uuid": "4ec7b5e7-8eff-4adb-8f5a-949fb330819c",
        "_cell_guid": "08ae6054-8d82-4320-8b3b-96df5f2f2eb9",
        "trusted": true,
        "id": "qqWHroguIcBE"
      }
    },
    {
      "cell_type": "markdown",
      "source": [
        "- An array of indices, `indices`, which is integers from 0 to 149, is created.\n",
        "- The `np.random.shuffle(indices)` line shuffles the indices to randomize the data order. If we do not randomize and just take the first thirty samples as testing set, they will all be the same type of iris."
      ],
      "metadata": {
        "_uuid": "4ba13280-2c54-4308-aa0b-290d8e2f97f0",
        "_cell_guid": "7f3ef138-8292-4d82-abc1-441fb348d631",
        "trusted": true,
        "id": "kv3zOdh7IcBE"
      }
    },
    {
      "cell_type": "code",
      "source": [
        "indices = np.arange(len(X))  # Create an array of indices for shuffling\n",
        "print(indices)"
      ],
      "metadata": {
        "_uuid": "163a6c37-01e1-4d9b-94a3-09713f80f53d",
        "_cell_guid": "d3efb7a8-c0e5-42bc-abae-8d7265aca1df",
        "jupyter": {
          "outputs_hidden": false
        },
        "execution": {
          "iopub.status.busy": "2023-07-10T17:43:51.233692Z",
          "iopub.execute_input": "2023-07-10T17:43:51.234662Z",
          "iopub.status.idle": "2023-07-10T17:43:51.244687Z",
          "shell.execute_reply.started": "2023-07-10T17:43:51.234618Z",
          "shell.execute_reply": "2023-07-10T17:43:51.243483Z"
        },
        "trusted": true,
        "id": "-QWNcCkgIcBE"
      },
      "execution_count": null,
      "outputs": []
    },
    {
      "cell_type": "code",
      "source": [
        "np.random.shuffle(indices)  # Shuffle the indices to randomize the data\n",
        "print(indices)"
      ],
      "metadata": {
        "_uuid": "d1c81976-973b-4c05-a954-31b9dd669bf6",
        "_cell_guid": "d9c68577-43bc-4a57-abe6-9e265d0628eb",
        "jupyter": {
          "outputs_hidden": false
        },
        "execution": {
          "iopub.status.busy": "2023-07-10T17:43:51.246687Z",
          "iopub.execute_input": "2023-07-10T17:43:51.247480Z",
          "iopub.status.idle": "2023-07-10T17:43:51.261601Z",
          "shell.execute_reply.started": "2023-07-10T17:43:51.247422Z",
          "shell.execute_reply": "2023-07-10T17:43:51.260382Z"
        },
        "trusted": true,
        "id": "85928la5IcBF"
      },
      "execution_count": null,
      "outputs": []
    },
    {
      "cell_type": "markdown",
      "source": [
        "- The `split_ratio` variable determines the ratio of the training set to the entire dataset.\n",
        "- The `index_to_split` variable calculates the index at which the dataset will be split based on the ratio."
      ],
      "metadata": {
        "_uuid": "b6bb03b5-3aa3-406a-bc03-888581cbebf8",
        "_cell_guid": "2eafc96a-2009-4d6b-9e1c-13e2a169fdda",
        "trusted": true,
        "id": "-EjQwsT-IcBF"
      }
    },
    {
      "cell_type": "code",
      "source": [
        "split_ratio = 0.8  # Ratio of training set vs. whole dataset\n",
        "index_to_split = int(len(X) * split_ratio)  # Determine the index to split the dataset\n",
        "print(index_to_split)"
      ],
      "metadata": {
        "_uuid": "a5c43e13-1770-4daa-a0ed-c54abe360dcb",
        "_cell_guid": "0a26efd6-fcf4-4437-b597-29f6a57bda3d",
        "jupyter": {
          "outputs_hidden": false
        },
        "execution": {
          "iopub.status.busy": "2023-07-10T17:43:51.263255Z",
          "iopub.execute_input": "2023-07-10T17:43:51.263675Z",
          "iopub.status.idle": "2023-07-10T17:43:51.275947Z",
          "shell.execute_reply.started": "2023-07-10T17:43:51.263644Z",
          "shell.execute_reply": "2023-07-10T17:43:51.274633Z"
        },
        "trusted": true,
        "id": "5FnkcmHUIcBF"
      },
      "execution_count": null,
      "outputs": []
    },
    {
      "cell_type": "markdown",
      "source": [
        "- The subsequent commented code block demonstrates an explicit way of splitting the dataset using slicing.\n",
        "- The lists `X_train`, `X_test`, `y_train`, and `y_test` are initialized to store the training and testing data and labels.\n",
        "- A loop fill the `X_train` and `y_train` lists with the corresponding data and labels for the training set."
      ],
      "metadata": {
        "_uuid": "997cfd73-a018-452b-a804-7e208b788ab9",
        "_cell_guid": "c9c8361a-2c11-4d8e-88aa-23384abc9916",
        "trusted": true,
        "id": "XdncUuKoIcBG"
      }
    },
    {
      "cell_type": "code",
      "source": [
        "#initialize the lists which the dataset will be split into\n",
        "X_train = []\n",
        "X_test = []\n",
        "y_train = []\n",
        "y_test = []\n",
        "\n",
        "# Populate the training data and labels\n",
        "for i in range(index_to_split):\n",
        "    X_train.append( X[indices[i]] )\n",
        "    y_train.append( y_labels_integer[indices[i]] )\n",
        "\n",
        "# Populate the testing data and labels\n",
        "for i in range(index_to_split, len(indices)):\n",
        "    X_test.append( X[indices[i]] )\n",
        "    y_test.append( y_labels_integer[indices[i]] )"
      ],
      "metadata": {
        "_uuid": "c37dd4db-b005-4c78-add8-dc3618fa388a",
        "_cell_guid": "1f9cacd0-306c-4245-aa38-002664f17747",
        "jupyter": {
          "outputs_hidden": false
        },
        "execution": {
          "iopub.status.busy": "2023-07-10T17:43:51.277800Z",
          "iopub.execute_input": "2023-07-10T17:43:51.278172Z",
          "iopub.status.idle": "2023-07-10T17:43:51.294062Z",
          "shell.execute_reply.started": "2023-07-10T17:43:51.278139Z",
          "shell.execute_reply": "2023-07-10T17:43:51.292474Z"
        },
        "trusted": true,
        "id": "YduoWAm9IcBG"
      },
      "execution_count": null,
      "outputs": []
    },
    {
      "cell_type": "code",
      "source": [
        "X_train"
      ],
      "metadata": {
        "execution": {
          "iopub.status.busy": "2023-07-10T17:43:51.297605Z",
          "iopub.execute_input": "2023-07-10T17:43:51.298266Z",
          "iopub.status.idle": "2023-07-10T17:43:51.325126Z",
          "shell.execute_reply.started": "2023-07-10T17:43:51.298217Z",
          "shell.execute_reply": "2023-07-10T17:43:51.324218Z"
        },
        "trusted": true,
        "id": "bKkxHCL-IcBG"
      },
      "execution_count": null,
      "outputs": []
    },
    {
      "cell_type": "markdown",
      "source": [
        "- Finally, the lists are converted to 2D numpy arrays for compatibility with machine learning algorithms."
      ],
      "metadata": {
        "_uuid": "31e81c9f-d83c-4bee-9a21-8c31ed925256",
        "_cell_guid": "e4022994-35a4-4d8f-8ce7-6354331ed35c",
        "trusted": true,
        "id": "47YmQW30IcBH"
      }
    },
    {
      "cell_type": "code",
      "source": [
        "# Convert the lists to 2d numpy arrays\n",
        "X_train = np.array(X_train)\n",
        "X_test = np.array(X_test)\n",
        "y_train = np.array(y_train)\n",
        "y_test = np.array(y_test)\n",
        "print(\"X_test\",X_test)\n",
        "print(\"y_test\",y_test)"
      ],
      "metadata": {
        "_uuid": "f2ee694b-ff8d-4f30-a3b7-9534a0267d3d",
        "_cell_guid": "a091397e-973d-457d-b7b7-a886586104f6",
        "jupyter": {
          "outputs_hidden": false
        },
        "execution": {
          "iopub.status.busy": "2023-07-10T17:43:51.326545Z",
          "iopub.execute_input": "2023-07-10T17:43:51.326948Z",
          "iopub.status.idle": "2023-07-10T17:43:51.344488Z",
          "shell.execute_reply.started": "2023-07-10T17:43:51.326914Z",
          "shell.execute_reply": "2023-07-10T17:43:51.343356Z"
        },
        "trusted": true,
        "id": "yDBlUOzTIcBH"
      },
      "execution_count": null,
      "outputs": []
    },
    {
      "cell_type": "markdown",
      "source": [
        "### KNN classifier function\n",
        "This k-Nearest Neighbors tutorial is broken down into 3 parts:\n",
        "\n",
        "<img src=\"https://miro.medium.com/v2/resize:fit:1400/format:webp/1*CVcFTGsIZ-sj_Z_CY5X0Ew.png\" width=50%>\n",
        "\n",
        "#### Step 1: Calculate Euclidean Distance.\n",
        "- We can calculate the straight line distance between two vectors using the Euclidean distance measure. It is calculated as the square root of the sum of the squared differences between the two vectors.\n",
        "- To locate the neighbors for a new piece of data within a dataset we must first calculate the distance between each record in the dataset to the new piece of data (note in the image not all arrows are shown)\n",
        "\n",
        "<img src=\"https://miro.medium.com/v2/resize:fit:1400/format:webp/1*0ObiRFulLMuXQ5aj6dO7BQ.png\" width=50%>\n",
        "\n",
        "#### Step 2: Get Nearest Neighbors.\n",
        "- Neighbors for a new piece of data in the dataset are the k closest instances, as defined by our distance measure.\n",
        "- Once distances are calculated, we must sort all of the records in the training dataset by their distance to the new data. We can then select the top k to return as the most similar neighbors.\n",
        "\n",
        "<img src=\"https://miro.medium.com/v2/resize:fit:1400/format:webp/1*El2DdaYNYaBficIL7EXwxg.png\" width=50%>\n",
        "\n",
        "#### Step 3: Make Predictions.\n",
        "- The most similar neighbors collected from the training dataset is used to make predictions.\n",
        "- `np.unique` is used to find the corresponding counts of each unique label type\n",
        "- `np.argmax` is used to find the indices of the maximum values\n",
        "\n",
        "<img src=\"https://miro.medium.com/v2/resize:fit:1400/format:webp/1*TyqUebB-B9MN-XhcKmVGWA.png\" width=50%>\n"
      ],
      "metadata": {
        "_uuid": "25c62f53-cad4-4991-b81b-b99018b2a224",
        "_cell_guid": "19db631e-71e9-42cc-acba-223ae44dc9b4",
        "trusted": true,
        "id": "AgY3Jd-MIcBH"
      }
    },
    {
      "cell_type": "code",
      "source": [
        "def KNNClassify(X_test, Y_train = y_train,X_train = X_train, k = 8): #set default k as 8\n",
        "    # X_test is the data of 1 flower\n",
        "    # X_train is the data of 120 flowers\n",
        "\n",
        "    ## Step 1:\n",
        "    distance_list = []\n",
        "\n",
        "    #for every example in the training set, calculate euclidean distance against the test example\n",
        "    for i in range(len(X_train)):\n",
        "        point = X_train[i]\n",
        "        d1 = (point[0]-X_test[0])**2 # 5**2 means 5^2\n",
        "        d2 = (point[1]-X_test[1])**2\n",
        "        d3 = (point[2]-X_test[2])**2\n",
        "        d4 = (point[3]-X_test[3])**2\n",
        "        distance = np.sqrt(d1+d2+d3+d4)\n",
        "\n",
        "        #place this calculated distance into the list\n",
        "        distance_list.append( (distance,i) )\n",
        "\n",
        "    ## Step 2:\n",
        "    #sort distances in ascending order by distance\n",
        "    sorted_distance_list = sorted(distance_list)\n",
        "\n",
        "    #the k nearest neighbours are the top k points in the sorted distance list\n",
        "    neighbours = sorted_distance_list[0:k]\n",
        "    # for example, neighbours = [(352.1, 51),(371.2, 9),(373.5, 2),(376.0, 110),]\n",
        "\n",
        "    #get index of the minimum distances\n",
        "    neighbours_index = []\n",
        "    for distance,idx in neighbours:\n",
        "        neighbours_index.append(idx)\n",
        "    # for example, neighbours_index = [51, 9, 2, 110]\n",
        "\n",
        "    ## Step 3:\n",
        "    #check which label has majority\n",
        "    output = Y_train[neighbours_index]\n",
        "    # for example, neighbours_index = [1, 0, 0, 2] because #51 is iris_type1, #9 and #2 is iris_type0, #110 is iris_type2\n",
        "    values, counts = np.unique(output, return_counts=True)\n",
        "\n",
        "    #return label with majority occurence\n",
        "    max_idx = np.argmax(counts)\n",
        "    return values[max_idx]"
      ],
      "metadata": {
        "_uuid": "23d9af13-ec57-4f9f-b066-287b3321bac5",
        "_cell_guid": "838acfe4-68e5-4358-8798-372b026cb3b5",
        "jupyter": {
          "outputs_hidden": false
        },
        "execution": {
          "iopub.status.busy": "2023-07-10T17:43:51.346285Z",
          "iopub.execute_input": "2023-07-10T17:43:51.346862Z",
          "iopub.status.idle": "2023-07-10T17:43:51.359537Z",
          "shell.execute_reply.started": "2023-07-10T17:43:51.346823Z",
          "shell.execute_reply": "2023-07-10T17:43:51.358154Z"
        },
        "trusted": true,
        "id": "QsMjaZCbIcBH"
      },
      "execution_count": null,
      "outputs": []
    },
    {
      "cell_type": "markdown",
      "source": [
        "### Running the classifier to predict the labels for the testing set"
      ],
      "metadata": {
        "_uuid": "8127098b-2abd-40cb-b3e4-c87873d2da8b",
        "_cell_guid": "78854f2a-15f1-4d95-a206-bb5af081d912",
        "trusted": true,
        "id": "CsYUtrk4IcBI"
      }
    },
    {
      "cell_type": "code",
      "source": [
        "#getting predicted values using our algorithm\n",
        "predicted_y = []\n",
        "for point in X_test:\n",
        "    predicted_y.append(KNNClassify(point))\n",
        "\n",
        "print(predicted_y)"
      ],
      "metadata": {
        "_uuid": "be17db9a-9e1f-4854-9958-3efd56204729",
        "_cell_guid": "1344daa0-ace1-4586-95b0-fbf17bcc8578",
        "jupyter": {
          "outputs_hidden": false
        },
        "execution": {
          "iopub.status.busy": "2023-07-10T17:43:51.360859Z",
          "iopub.execute_input": "2023-07-10T17:43:51.361206Z",
          "iopub.status.idle": "2023-07-10T17:43:51.405856Z",
          "shell.execute_reply.started": "2023-07-10T17:43:51.361177Z",
          "shell.execute_reply": "2023-07-10T17:43:51.404655Z"
        },
        "trusted": true,
        "id": "03eLBPKAIcBI"
      },
      "execution_count": null,
      "outputs": []
    },
    {
      "cell_type": "code",
      "source": [
        "def accuracy(predictions , y_test):\n",
        "    count = 0\n",
        "    for i in range(len(predictions)):\n",
        "        if predictions[i] == y_test[i]:\n",
        "            count +=1\n",
        "    return count/len(predictions)\n",
        "\n",
        "\n",
        "#compare the predictions against the y_tests (true labels）\n",
        "acc = accuracy(predicted_y, y_test)\n",
        "print(\"Accuracy =\", acc*100, \"%\")"
      ],
      "metadata": {
        "_uuid": "a766e53a-6abf-4f55-8a95-3ec08b315d14",
        "_cell_guid": "7d7f8a3c-ff90-41cf-b066-7a2d3e672b3d",
        "jupyter": {
          "outputs_hidden": false
        },
        "execution": {
          "iopub.status.busy": "2023-07-10T17:43:51.407226Z",
          "iopub.execute_input": "2023-07-10T17:43:51.407679Z",
          "iopub.status.idle": "2023-07-10T17:43:51.418786Z",
          "shell.execute_reply.started": "2023-07-10T17:43:51.407648Z",
          "shell.execute_reply": "2023-07-10T17:43:51.417465Z"
        },
        "trusted": true,
        "id": "oSlyo7hRIcBJ"
      },
      "execution_count": null,
      "outputs": []
    },
    {
      "cell_type": "markdown",
      "source": [
        "### Exercise\n",
        "1. Alice wants to use KNN to classify cat and dog images, which have 50,000 training images. She wants to distribute this model on the internet. Is this feasible? Why or why not? (hint: think about the size of the trained model)  \n",
        "2. Explain why there are 4 variables added together in `distance = np.sqrt(d1+d2+d3+d4)`\n",
        "3. Write the code below so that the KNN classifier can handle 28x28 pixels hand-written greyscale digit image classification. The inputs are vectors of 784 numbers, and the ouput is the label (10 categories)"
      ],
      "metadata": {
        "_uuid": "d92b1ce9-b63e-48b4-a946-37ec71ba30f2",
        "_cell_guid": "c6bd7805-1589-4814-8f80-2f6d4c230b48",
        "trusted": true,
        "id": "zh4PfJIVIcBJ"
      }
    },
    {
      "cell_type": "code",
      "source": [
        "def KNNClassify(X_test, Y_train = y_train,X_train = X_train, k = 8):\n",
        "    distance_list = []\n",
        "    for idx,point in enumerate(X_train):\n",
        "        #exercise: code here\n",
        "\n",
        "        distance_list.append( (distance,idx) )\n",
        "\n",
        "    sorted_distance_list = sorted(distance_list)\n",
        "\n",
        "    neighbours = sorted_distance_list[:k]\n",
        "    neighbours_index = []\n",
        "    for distance,idx in neighbours:\n",
        "        neighbours_index.append(idx)\n",
        "\n",
        "    output = Y_train[neighbours_index]\n",
        "    values, counts = np.unique(output, return_counts=True)\n",
        "\n",
        "    max_idx = np.argmax(counts)\n",
        "    return values[max_idx]"
      ],
      "metadata": {
        "_uuid": "ab5a409e-71f7-43b3-8900-3f0a9476b0bc",
        "_cell_guid": "aedf471a-5196-4add-a8e5-af6ee8d69b44",
        "jupyter": {
          "outputs_hidden": false
        },
        "execution": {
          "iopub.status.busy": "2023-07-10T17:43:51.421004Z",
          "iopub.execute_input": "2023-07-10T17:43:51.421481Z",
          "iopub.status.idle": "2023-07-10T17:43:51.438427Z",
          "shell.execute_reply.started": "2023-07-10T17:43:51.421428Z",
          "shell.execute_reply": "2023-07-10T17:43:51.436788Z"
        },
        "trusted": true,
        "id": "NLWO2zl8IcBK"
      },
      "execution_count": null,
      "outputs": []
    },
    {
      "cell_type": "markdown",
      "source": [
        "Reference\n",
        "1. https://machinelearningmastery.com/tutorial-to-implement-k-nearest-neighbors-in-python-from-scratch/\n",
        "2. https://medium.com/analytics-vidhya/k-nn-from-scratch-212dcff13eb3\n",
        "3. https://towardsdatascience.com/create-your-own-k-nearest-neighbors-algorithm-in-python-eb7093fc6339"
      ],
      "metadata": {
        "_uuid": "09e644b3-5d98-4ec8-b8b3-f905b298b48f",
        "_cell_guid": "db9cc1ac-2efc-44cb-9ec6-ed3878ce2cc8",
        "trusted": true,
        "id": "ejJkgmTbIcBK"
      }
    }
  ]
}