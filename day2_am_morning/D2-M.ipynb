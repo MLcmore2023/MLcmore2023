{
 "cells": [
  {
   "cell_type": "markdown",
   "id": "38dea5ae",
   "metadata": {},
   "source": [
    "# D2-M"
   ]
  },
  {
   "cell_type": "markdown",
   "id": "20e2475e",
   "metadata": {},
   "source": [
    "# 1. Model Prediction Improvement"
   ]
  },
  {
   "cell_type": "markdown",
   "id": "184fce17",
   "metadata": {},
   "source": [
    "## 1.1 Introduction"
   ]
  },
  {
   "cell_type": "markdown",
   "id": "c4405d72",
   "metadata": {},
   "source": [
    "There are several methods that can help improve the prediction performance of models. Here are some commonly used techniques:\n",
    "   \n",
    "1. **Data Augmentation**: This refers to techniques that increase the amount of data by adding slightly modified copies of already existing data. For example, in image processing, these techniques could include rotation, scaling, flipping, etc. In text data, it can include methods like back translation or synonym replacement.\n",
    "\n",
    "\n",
    "2. **Data Cleaning**: This involves taking care of missing values (by either filling them in based on existing data, or removing the data points entirely), and handling outliers (which might distort the training of the model).\n",
    "\n",
    "\n",
    "3. **Feature engineering**: This is the process of creating new features from existing data that can help improve model performance. This can involve transformations of existing features, creating interaction features, or any other kind of data manipulation that creates new, useful input for the model.\n",
    "\n",
    "\n",
    "4. **Model Selection**: This involves choosing the right machine learning algorithm for your specific problem. This could be a linear regression model, a decision tree, a neural network, etc. The choice depends on the nature of your data and the problem you're trying to solve.\n",
    "\n",
    "\n",
    "5. **Hyperparameter tuning**: Hyperparameters are parameters that are not learned from the data but are set before the training process. c are learning rate, number of layers in a neural network, number of clusters in a K-means clustering, etc. Tuning these can often significantly improve performance. Techniques for hyperparameter tuning include grid search, random search, and more advanced methods like Bayesian optimization.\n",
    "\n",
    "\n",
    "6. **Cross-validation**: This is a resampling procedure used to evaluate the performance of a model on a limited data sample. The dataset is partitioned into 'k' equally sized folds, and the model is trained on 'k-1' folds, and the remaining fold is used for testing. This process is repeated 'k' times so that we obtain a model performance score for each fold. It helps in assessing how the results of a statistical analysis will generalize to an independent data set.\n",
    "\n",
    "\n",
    "7. **Regularization**: This is a technique used to prevent overfitting, which is when a model performs well on the training data but poorly on unseen data. Regularization works by adding a penalty term to the loss function that increases as the complexity of the model increases.\n",
    "\n",
    "\n",
    "8. **Ensemble your model**: This refers to combining different models to improve overall performance. Techniques include Bagging (e.g., Random Forest), Boosting (e.g., Gradient Boosting, XGBoost), and Stacking.\n",
    "\n",
    "\n",
    "Since we have already covered data cleaning, feature engineering in the previous sections, our attention in this section will shift to other topics, including data augmentation, model selection, ensemble model, regularization, cross-validation and hyperparameter tuning."
   ]
  },
  {
   "cell_type": "markdown",
   "id": "d1b7fa9e",
   "metadata": {},
   "source": [
    "## 1.2 Dataset Exploration"
   ]
  },
  {
   "cell_type": "code",
   "execution_count": 13,
   "id": "84c2ab8e",
   "metadata": {},
   "outputs": [],
   "source": [
    "import numpy as np\n",
    "import pandas as pd\n",
    "import seaborn as sns\n",
    "import matplotlib.pyplot as plt\n",
    "from sklearn.metrics import accuracy_score\n",
    "from sklearn.datasets import load_digits\n",
    "from sklearn.model_selection import GridSearchCV, train_test_split, cross_val_score\n",
    "from sklearn.ensemble import RandomForestClassifier, BaggingClassifier, VotingClassifier\n",
    "from sklearn.metrics import accuracy_score\n",
    "import warnings\n",
    "\n",
    "# Ignore all warnings\n",
    "warnings.filterwarnings(\"ignore\")"
   ]
  },
  {
   "cell_type": "code",
   "execution_count": 14,
   "id": "b889e100",
   "metadata": {},
   "outputs": [
    {
     "data": {
      "text/html": [
       "<div>\n",
       "<style scoped>\n",
       "    .dataframe tbody tr th:only-of-type {\n",
       "        vertical-align: middle;\n",
       "    }\n",
       "\n",
       "    .dataframe tbody tr th {\n",
       "        vertical-align: top;\n",
       "    }\n",
       "\n",
       "    .dataframe thead th {\n",
       "        text-align: right;\n",
       "    }\n",
       "</style>\n",
       "<table border=\"1\" class=\"dataframe\">\n",
       "  <thead>\n",
       "    <tr style=\"text-align: right;\">\n",
       "      <th></th>\n",
       "      <th>pixel_0_0</th>\n",
       "      <th>pixel_0_1</th>\n",
       "      <th>pixel_0_2</th>\n",
       "      <th>pixel_0_3</th>\n",
       "      <th>pixel_0_4</th>\n",
       "      <th>pixel_0_5</th>\n",
       "      <th>pixel_0_6</th>\n",
       "      <th>pixel_0_7</th>\n",
       "      <th>pixel_1_0</th>\n",
       "      <th>pixel_1_1</th>\n",
       "      <th>...</th>\n",
       "      <th>pixel_6_7</th>\n",
       "      <th>pixel_7_0</th>\n",
       "      <th>pixel_7_1</th>\n",
       "      <th>pixel_7_2</th>\n",
       "      <th>pixel_7_3</th>\n",
       "      <th>pixel_7_4</th>\n",
       "      <th>pixel_7_5</th>\n",
       "      <th>pixel_7_6</th>\n",
       "      <th>pixel_7_7</th>\n",
       "      <th>target</th>\n",
       "    </tr>\n",
       "  </thead>\n",
       "  <tbody>\n",
       "    <tr>\n",
       "      <th>0</th>\n",
       "      <td>0.0</td>\n",
       "      <td>0.0</td>\n",
       "      <td>5.0</td>\n",
       "      <td>13.0</td>\n",
       "      <td>9.0</td>\n",
       "      <td>1.0</td>\n",
       "      <td>0.0</td>\n",
       "      <td>0.0</td>\n",
       "      <td>0.0</td>\n",
       "      <td>0.0</td>\n",
       "      <td>...</td>\n",
       "      <td>0.0</td>\n",
       "      <td>0.0</td>\n",
       "      <td>0.0</td>\n",
       "      <td>6.0</td>\n",
       "      <td>13.0</td>\n",
       "      <td>10.0</td>\n",
       "      <td>0.0</td>\n",
       "      <td>0.0</td>\n",
       "      <td>0.0</td>\n",
       "      <td>0.0</td>\n",
       "    </tr>\n",
       "    <tr>\n",
       "      <th>1</th>\n",
       "      <td>0.0</td>\n",
       "      <td>0.0</td>\n",
       "      <td>0.0</td>\n",
       "      <td>12.0</td>\n",
       "      <td>13.0</td>\n",
       "      <td>5.0</td>\n",
       "      <td>0.0</td>\n",
       "      <td>0.0</td>\n",
       "      <td>0.0</td>\n",
       "      <td>0.0</td>\n",
       "      <td>...</td>\n",
       "      <td>0.0</td>\n",
       "      <td>0.0</td>\n",
       "      <td>0.0</td>\n",
       "      <td>0.0</td>\n",
       "      <td>11.0</td>\n",
       "      <td>16.0</td>\n",
       "      <td>10.0</td>\n",
       "      <td>0.0</td>\n",
       "      <td>0.0</td>\n",
       "      <td>1.0</td>\n",
       "    </tr>\n",
       "    <tr>\n",
       "      <th>2</th>\n",
       "      <td>0.0</td>\n",
       "      <td>0.0</td>\n",
       "      <td>0.0</td>\n",
       "      <td>4.0</td>\n",
       "      <td>15.0</td>\n",
       "      <td>12.0</td>\n",
       "      <td>0.0</td>\n",
       "      <td>0.0</td>\n",
       "      <td>0.0</td>\n",
       "      <td>0.0</td>\n",
       "      <td>...</td>\n",
       "      <td>0.0</td>\n",
       "      <td>0.0</td>\n",
       "      <td>0.0</td>\n",
       "      <td>0.0</td>\n",
       "      <td>3.0</td>\n",
       "      <td>11.0</td>\n",
       "      <td>16.0</td>\n",
       "      <td>9.0</td>\n",
       "      <td>0.0</td>\n",
       "      <td>2.0</td>\n",
       "    </tr>\n",
       "    <tr>\n",
       "      <th>3</th>\n",
       "      <td>0.0</td>\n",
       "      <td>0.0</td>\n",
       "      <td>7.0</td>\n",
       "      <td>15.0</td>\n",
       "      <td>13.0</td>\n",
       "      <td>1.0</td>\n",
       "      <td>0.0</td>\n",
       "      <td>0.0</td>\n",
       "      <td>0.0</td>\n",
       "      <td>8.0</td>\n",
       "      <td>...</td>\n",
       "      <td>0.0</td>\n",
       "      <td>0.0</td>\n",
       "      <td>0.0</td>\n",
       "      <td>7.0</td>\n",
       "      <td>13.0</td>\n",
       "      <td>13.0</td>\n",
       "      <td>9.0</td>\n",
       "      <td>0.0</td>\n",
       "      <td>0.0</td>\n",
       "      <td>3.0</td>\n",
       "    </tr>\n",
       "    <tr>\n",
       "      <th>4</th>\n",
       "      <td>0.0</td>\n",
       "      <td>0.0</td>\n",
       "      <td>0.0</td>\n",
       "      <td>1.0</td>\n",
       "      <td>11.0</td>\n",
       "      <td>0.0</td>\n",
       "      <td>0.0</td>\n",
       "      <td>0.0</td>\n",
       "      <td>0.0</td>\n",
       "      <td>0.0</td>\n",
       "      <td>...</td>\n",
       "      <td>0.0</td>\n",
       "      <td>0.0</td>\n",
       "      <td>0.0</td>\n",
       "      <td>0.0</td>\n",
       "      <td>2.0</td>\n",
       "      <td>16.0</td>\n",
       "      <td>4.0</td>\n",
       "      <td>0.0</td>\n",
       "      <td>0.0</td>\n",
       "      <td>4.0</td>\n",
       "    </tr>\n",
       "  </tbody>\n",
       "</table>\n",
       "<p>5 rows × 65 columns</p>\n",
       "</div>"
      ],
      "text/plain": [
       "   pixel_0_0  pixel_0_1  pixel_0_2  pixel_0_3  pixel_0_4  pixel_0_5  \\\n",
       "0        0.0        0.0        5.0       13.0        9.0        1.0   \n",
       "1        0.0        0.0        0.0       12.0       13.0        5.0   \n",
       "2        0.0        0.0        0.0        4.0       15.0       12.0   \n",
       "3        0.0        0.0        7.0       15.0       13.0        1.0   \n",
       "4        0.0        0.0        0.0        1.0       11.0        0.0   \n",
       "\n",
       "   pixel_0_6  pixel_0_7  pixel_1_0  pixel_1_1  ...  pixel_6_7  pixel_7_0  \\\n",
       "0        0.0        0.0        0.0        0.0  ...        0.0        0.0   \n",
       "1        0.0        0.0        0.0        0.0  ...        0.0        0.0   \n",
       "2        0.0        0.0        0.0        0.0  ...        0.0        0.0   \n",
       "3        0.0        0.0        0.0        8.0  ...        0.0        0.0   \n",
       "4        0.0        0.0        0.0        0.0  ...        0.0        0.0   \n",
       "\n",
       "   pixel_7_1  pixel_7_2  pixel_7_3  pixel_7_4  pixel_7_5  pixel_7_6  \\\n",
       "0        0.0        6.0       13.0       10.0        0.0        0.0   \n",
       "1        0.0        0.0       11.0       16.0       10.0        0.0   \n",
       "2        0.0        0.0        3.0       11.0       16.0        9.0   \n",
       "3        0.0        7.0       13.0       13.0        9.0        0.0   \n",
       "4        0.0        0.0        2.0       16.0        4.0        0.0   \n",
       "\n",
       "   pixel_7_7  target  \n",
       "0        0.0     0.0  \n",
       "1        0.0     1.0  \n",
       "2        0.0     2.0  \n",
       "3        0.0     3.0  \n",
       "4        0.0     4.0  \n",
       "\n",
       "[5 rows x 65 columns]"
      ]
     },
     "execution_count": 14,
     "metadata": {},
     "output_type": "execute_result"
    }
   ],
   "source": [
    "from sklearn.datasets import load_digits\n",
    "\n",
    "# Load the digits dataset\n",
    "digits = load_digits()\n",
    "\n",
    "# Create a dataframe\n",
    "# \"digits.data\" contains the features and \"digits.target\" contains the target\n",
    "df = pd.DataFrame(data= np.c_[digits['data'], digits['target']],\n",
    "                  columns= digits['feature_names'] + ['target'])\n",
    "\n",
    "# Separate the features (X) and the target (y)\n",
    "X = df[digits['feature_names']]\n",
    "y = df['target']\n",
    "\n",
    "# Display the dataframe\n",
    "df.head()"
   ]
  },
  {
   "cell_type": "markdown",
   "id": "9dff4c07",
   "metadata": {},
   "source": [
    "The digit dataset contains grayscale images of hand-written digits (0 to 9) and is widely used for practicing classification algorithms in the field of machine learning. Let's break down the dataset:\n",
    "\n",
    "**Dataset Description:**\n",
    "\n",
    "- **Task**: Classification\n",
    "\n",
    "- **Number of Classes**: 10 (Digits from 0 to 9)\n",
    "\n",
    "- **Number of Samples:** 1,797\n",
    "\n",
    "- **Number of Features:** 64 (8x8 image of each digit)\n",
    "\n",
    "**Features:**\n",
    "\n",
    "Each sample in the dataset is an 8x8 image of a hand-written digit. The images are represented as 64-dimensional arrays, where each element of the array corresponds to one pixel in the image. The values of the elements (pixels) range from 0 to 16, representing the grayscale intensity of the pixel. The value 0 corresponds to a white pixel, while the value 16 corresponds to a black pixel.\n",
    "\n",
    "**Target Variable:**\n",
    "\n",
    "The target variable (also known as labels or classes) for each sample is the digit it represents. The values of the target variable range from 0 to 9, representing the hand-written digit in the corresponding image."
   ]
  },
  {
   "cell_type": "code",
   "execution_count": 15,
   "id": "74c93dd7",
   "metadata": {},
   "outputs": [
    {
     "name": "stdout",
     "output_type": "stream",
     "text": [
      "<class 'pandas.core.frame.DataFrame'>\n",
      "RangeIndex: 1797 entries, 0 to 1796\n",
      "Data columns (total 65 columns):\n",
      " #   Column     Non-Null Count  Dtype  \n",
      "---  ------     --------------  -----  \n",
      " 0   pixel_0_0  1797 non-null   float64\n",
      " 1   pixel_0_1  1797 non-null   float64\n",
      " 2   pixel_0_2  1797 non-null   float64\n",
      " 3   pixel_0_3  1797 non-null   float64\n",
      " 4   pixel_0_4  1797 non-null   float64\n",
      " 5   pixel_0_5  1797 non-null   float64\n",
      " 6   pixel_0_6  1797 non-null   float64\n",
      " 7   pixel_0_7  1797 non-null   float64\n",
      " 8   pixel_1_0  1797 non-null   float64\n",
      " 9   pixel_1_1  1797 non-null   float64\n",
      " 10  pixel_1_2  1797 non-null   float64\n",
      " 11  pixel_1_3  1797 non-null   float64\n",
      " 12  pixel_1_4  1797 non-null   float64\n",
      " 13  pixel_1_5  1797 non-null   float64\n",
      " 14  pixel_1_6  1797 non-null   float64\n",
      " 15  pixel_1_7  1797 non-null   float64\n",
      " 16  pixel_2_0  1797 non-null   float64\n",
      " 17  pixel_2_1  1797 non-null   float64\n",
      " 18  pixel_2_2  1797 non-null   float64\n",
      " 19  pixel_2_3  1797 non-null   float64\n",
      " 20  pixel_2_4  1797 non-null   float64\n",
      " 21  pixel_2_5  1797 non-null   float64\n",
      " 22  pixel_2_6  1797 non-null   float64\n",
      " 23  pixel_2_7  1797 non-null   float64\n",
      " 24  pixel_3_0  1797 non-null   float64\n",
      " 25  pixel_3_1  1797 non-null   float64\n",
      " 26  pixel_3_2  1797 non-null   float64\n",
      " 27  pixel_3_3  1797 non-null   float64\n",
      " 28  pixel_3_4  1797 non-null   float64\n",
      " 29  pixel_3_5  1797 non-null   float64\n",
      " 30  pixel_3_6  1797 non-null   float64\n",
      " 31  pixel_3_7  1797 non-null   float64\n",
      " 32  pixel_4_0  1797 non-null   float64\n",
      " 33  pixel_4_1  1797 non-null   float64\n",
      " 34  pixel_4_2  1797 non-null   float64\n",
      " 35  pixel_4_3  1797 non-null   float64\n",
      " 36  pixel_4_4  1797 non-null   float64\n",
      " 37  pixel_4_5  1797 non-null   float64\n",
      " 38  pixel_4_6  1797 non-null   float64\n",
      " 39  pixel_4_7  1797 non-null   float64\n",
      " 40  pixel_5_0  1797 non-null   float64\n",
      " 41  pixel_5_1  1797 non-null   float64\n",
      " 42  pixel_5_2  1797 non-null   float64\n",
      " 43  pixel_5_3  1797 non-null   float64\n",
      " 44  pixel_5_4  1797 non-null   float64\n",
      " 45  pixel_5_5  1797 non-null   float64\n",
      " 46  pixel_5_6  1797 non-null   float64\n",
      " 47  pixel_5_7  1797 non-null   float64\n",
      " 48  pixel_6_0  1797 non-null   float64\n",
      " 49  pixel_6_1  1797 non-null   float64\n",
      " 50  pixel_6_2  1797 non-null   float64\n",
      " 51  pixel_6_3  1797 non-null   float64\n",
      " 52  pixel_6_4  1797 non-null   float64\n",
      " 53  pixel_6_5  1797 non-null   float64\n",
      " 54  pixel_6_6  1797 non-null   float64\n",
      " 55  pixel_6_7  1797 non-null   float64\n",
      " 56  pixel_7_0  1797 non-null   float64\n",
      " 57  pixel_7_1  1797 non-null   float64\n",
      " 58  pixel_7_2  1797 non-null   float64\n",
      " 59  pixel_7_3  1797 non-null   float64\n",
      " 60  pixel_7_4  1797 non-null   float64\n",
      " 61  pixel_7_5  1797 non-null   float64\n",
      " 62  pixel_7_6  1797 non-null   float64\n",
      " 63  pixel_7_7  1797 non-null   float64\n",
      " 64  target     1797 non-null   float64\n",
      "dtypes: float64(65)\n",
      "memory usage: 912.7 KB\n"
     ]
    }
   ],
   "source": [
    "df.info()"
   ]
  },
  {
   "cell_type": "markdown",
   "id": "1fd3f238",
   "metadata": {},
   "source": [
    "## 1.3 Data Augmentation"
   ]
  },
  {
   "cell_type": "markdown",
   "id": "4b60859f",
   "metadata": {},
   "source": [
    "The `augment_data` function is defined to perform data augmentation. It takes the original images and labels as input and generates augmented versions of each image. The augmentation includes adding the original image, its horizontal flip, and a 90-degree rotation. The augmented images and labels are stored in `augmented_images` and `augmented_labels`, respectively."
   ]
  },
  {
   "cell_type": "code",
   "execution_count": 16,
   "id": "83c9b533",
   "metadata": {},
   "outputs": [],
   "source": [
    "# Load the digit dataset\n",
    "digits = load_digits()\n",
    "images = digits.images\n",
    "labels = digits.target"
   ]
  },
  {
   "cell_type": "markdown",
   "id": "bea27f2f",
   "metadata": {},
   "source": [
    "The loaded dataset is unpacked into three variables: digits, images, and labels. digits is a dictionary-like object that holds the dataset, and images and labels are NumPy arrays containing the images and corresponding labels, respectively."
   ]
  },
  {
   "cell_type": "code",
   "execution_count": 17,
   "id": "2838d9d1",
   "metadata": {},
   "outputs": [],
   "source": [
    "# Data augmentation\n",
    "def augment_data(images, labels):\n",
    "    augmented_images = []\n",
    "    augmented_labels = []\n",
    "    for image, label in zip(images, labels):\n",
    "        # orginal image\n",
    "        augmented_images.append(image)\n",
    "        augmented_labels.append(label)\n",
    "        \n",
    "        # Flipped image\n",
    "        augmented_images.append(np.fliplr(image))\n",
    "        augmented_labels.append(label)\n",
    "        \n",
    "        # Rotated image\n",
    "        augmented_images.append(np.rot90(image, k=1))\n",
    "        augmented_labels.append(label)\n",
    "\n",
    "    return np.array(augmented_images), np.array(augmented_labels)\n",
    "\n",
    "augmented_images, augmented_labels = augment_data(images, labels)\n"
   ]
  },
  {
   "cell_type": "markdown",
   "id": "c6c09bb2",
   "metadata": {},
   "source": [
    "This code combines the original images and their augmented versions into a single dataset, resulting in `all_images` and `all_labels`."
   ]
  },
  {
   "cell_type": "code",
   "execution_count": 18,
   "id": "8ff99455",
   "metadata": {},
   "outputs": [],
   "source": [
    "# Combine original and augmented data\n",
    "all_images = np.concatenate([images, augmented_images])\n",
    "all_labels = np.concatenate([labels, augmented_labels])"
   ]
  },
  {
   "cell_type": "markdown",
   "id": "df727147",
   "metadata": {},
   "source": [
    "The `plot_images` function is defined to visualize the original images and their augmented counterparts. It uses Matplotlib to create a grid of images, with the number of rows and columns specified by `rows` and `cols`. The function displays `num_samples` samples of original and augmented images side by side for better understanding."
   ]
  },
  {
   "cell_type": "code",
   "execution_count": 19,
   "id": "bb7ae237",
   "metadata": {},
   "outputs": [
    {
     "data": {
      "image/png": "[encoded data removed]",
      "text/plain": [
       "<Figure size 720x720 with 10 Axes>"
      ]
     },
     "metadata": {
      "needs_background": "light"
     },
     "output_type": "display_data"
    },
    {
     "data": {
      "image/png": "[encoded data removed]",
      "text/plain": [
       "<Figure size 720x720 with 10 Axes>"
      ]
     },
     "metadata": {
      "needs_background": "light"
     },
     "output_type": "display_data"
    }
   ],
   "source": [
    "# Visualize the original images and their augmented counterparts\n",
    "def plot_images(images, labels, rows, cols):\n",
    "    fig, axes = plt.subplots(rows, cols, figsize=(10, 10))\n",
    "    for i, ax in enumerate(axes.flat):\n",
    "        ax.imshow(images[i], cmap='gray')\n",
    "        ax.set_title(f\"Label: {labels[i]}\")\n",
    "        ax.axis('off')\n",
    "    plt.show()\n",
    "\n",
    "num_samples = 10# Number of samples to visualize for each category\n",
    "original_images_sample = images[:num_samples]\n",
    "augmented_images_sample = augmented_images[:num_samples]\n",
    "\n",
    "plot_images(original_images_sample, labels[:num_samples], 1, num_samples)\n",
    "plot_images(augmented_images_sample, labels[:num_samples], 1, num_samples)"
   ]
  },
  {
   "cell_type": "markdown",
   "id": "5afaba80",
   "metadata": {},
   "source": [
    "## 1.4 Data Pre-processing"
   ]
  },
  {
   "cell_type": "markdown",
   "id": "7a51ebc1",
   "metadata": {},
   "source": [
    "The digits dataset from sklearn is a clean dataset, meaning it `doesn't have missing values`, it `doesn't contain categorical features` that need to be encoded, and it `doesn't have obvious outliers`. Therefore, some pre-processing steps like handling missing values, encoding categorical variables, or outlier treatment are not applicable in this case."
   ]
  },
  {
   "cell_type": "markdown",
   "id": "43f7ce79",
   "metadata": {},
   "source": [
    "## 1.5 Feature Engineering"
   ]
  },
  {
   "cell_type": "markdown",
   "id": "6b58761a",
   "metadata": {},
   "source": [
    "The digits dataset is a set of 8x8 pixel images, and each pixel in the image is a feature. There are a total of 64 features for each image. These features are already in a form that's suitable for machine learning models, so it's typically not necessary to do additional feature engineering."
   ]
  },
  {
   "cell_type": "markdown",
   "id": "58a070d1",
   "metadata": {},
   "source": [
    "## 1.6 Hyperparameter Tuning using GridSearchCV with Visualization"
   ]
  },
  {
   "cell_type": "markdown",
   "id": "f16bd49a",
   "metadata": {},
   "source": [
    "### 1.6.1 Split the data into training and test sets"
   ]
  },
  {
   "cell_type": "code",
   "execution_count": 20,
   "id": "e298e661",
   "metadata": {},
   "outputs": [],
   "source": [
    "X_train, X_test, y_train, y_test = train_test_split(all_images, all_labels, test_size=0.2, random_state=42)"
   ]
  },
  {
   "cell_type": "markdown",
   "id": "bc2606d1",
   "metadata": {},
   "source": [
    "## 1.6.2 Hyperparameter Tuning using GridSearchCV with Visualization"
   ]
  },
  {
   "cell_type": "markdown",
   "id": "246d8fbf",
   "metadata": {},
   "source": [
    "This section performs model selection and hyperparameter tuning using GridSearchCV. We define `param_grid`, a dictionary with hyperparameters and their possible values. The `GridSearchCV` will perform a grid search over the parameter grid and use 5-fold cross-validation (`cv=5`) to find the best combination of hyperparameters for the Random Forest Classifier. After fitting the grid search, the best model is stored in `grid_search.best_estimator_`."
   ]
  },
  {
   "cell_type": "markdown",
   "id": "b54ecf2f",
   "metadata": {},
   "source": [
    "1. Hyperparameter Grid: We make a list of different values to try for each hyperparameter.\n",
    "\n",
    "2. Cross-Validation: It tests each combination on different parts of the training data to see which one works best."
   ]
  },
  {
   "cell_type": "code",
   "execution_count": 21,
   "id": "ca7019fe",
   "metadata": {},
   "outputs": [
    {
     "data": {
      "text/plain": [
       "GridSearchCV(cv=5, estimator=RandomForestClassifier(),\n",
       "             param_grid={'max_depth': [None, 10, 20],\n",
       "                         'n_estimators': [50, 100, 200]})"
      ]
     },
     "execution_count": 21,
     "metadata": {},
     "output_type": "execute_result"
    }
   ],
   "source": [
    "param_grid = {\n",
    "    'n_estimators': [50, 100, 200],\n",
    "    'max_depth': [None, 10, 20],\n",
    "}\n",
    "\n",
    "rf_model = RandomForestClassifier()\n",
    "grid_search = GridSearchCV(rf_model, param_grid, cv=5)\n",
    "grid_search.fit(X_train.reshape(len(X_train), -1), y_train)"
   ]
  },
  {
   "cell_type": "markdown",
   "id": "307fec43",
   "metadata": {},
   "source": [
    "1. param_grid definition:\n",
    "The param_grid is a Python dictionary that defines a grid of hyperparameter values to be searched during the grid search process. In this case, it contains two hyperparameters for the RandomForestClassifier: 'n_estimators' and 'max_depth'. **The 'n_estimators' hyperparameter controls the number of trees in the random forest**, and the **'max_depth' hyperparameter sets the maximum depth of each tree.** The grid specifies three values for each hyperparameter to be tested during the grid search.\n",
    "\n",
    "2. rf_model instantiation:\n",
    "A RandomForestClassifier model is created using the RandomForestClassifier() constructor from the scikit-learn library. This initializes a random forest classifier with default hyperparameter values. Later, we will use grid search to find the best combination of hyperparameters.\n",
    "\n",
    "3. GridSearchCV setup:\n",
    "GridSearchCV is a function from scikit-learn used for hyperparameter tuning using cross-validation. It takes three main arguments:\n",
    "\n",
    "    a. The first argument (rf_model in this case) is the estimator or the model for which we want to tune the hyperparameters. In our case, it's the random forest classifier we created earlier.\n",
    "\n",
    "    b. The second argument (param_grid) is the dictionary of hyperparameters and the corresponding values to be searched.\n",
    "\n",
    "    c. The third argument (cv=5) represents the number of cross-validation folds. Here, cv=5 indicates that the data will be divided into 5 folds, and the grid search will perform 5-fold cross-validation.\n",
    "\n",
    "4. fit method:\n",
    "The fit method of the GridSearchCV object is called with the training data and labels. In this case, X_train.reshape(len(X_train), -1) is used to reshape the training data (X_train) to a 2D array where each row represents a data sample, and -1 in the second dimension means the code infers the appropriate size to maintain the original data's total number of elements. y_train is the corresponding array of labels for the training data.\n",
    "\n",
    "5. Grid search process:\n",
    "During the grid search process, GridSearchCV will exhaustively search through all the combinations of hyperparameters specified in the param_grid. For each combination, it will perform cross-validation on the training data to evaluate the model's performance. The number of cross-validation folds (cv=5) means that the dataset will be split into 5 parts, and the model will be trained and validated five times, each time using a different fold as the validation set.\n",
    "\n",
    "6. Best hyperparameters:\n",
    "Once the grid search is complete, GridSearchCV will identify the combination of hyperparameters that resulted in the best performance (based on the specified evaluation metric, usually accuracy for classification tasks). The best hyperparameters will be stored in the best_params_ attribute of the GridSearchCV object.\n",
    "\n",
    "After this code runs, you can access the best hyperparameters using grid_search.best_params_, and you can also obtain the best model with those hyperparameters using grid_search.best_estimator_. You can then use this best model to make predictions on new data."
   ]
  },
  {
   "cell_type": "markdown",
   "id": "30033286",
   "metadata": {},
   "source": [
    "## 1.6.3 Visualize Hyperparameter Tuning Results"
   ]
  },
  {
   "cell_type": "markdown",
   "id": "3b73525f",
   "metadata": {},
   "source": [
    "This part is new and focuses on the visualization of hyperparameter tuning results. We extract the mean cross-validation scores (`mean_scores`) and the corresponding hyperparameter combinations (`param_combinations`) from the `grid_search.cv_results_ dictionary`. The `for` loop then prints each mean CV score along with its corresponding hyperparameter combination for reference.\n",
    "\n",
    "After printing, we create a scatter plot to visualize the mean CV scores with respect to the hyperparameter combinations. The x-axis represents the values of `n_estimators`, the y-axis represents the values of `max_depth`, and the color of each point corresponds to the mean CV score. This plot helps us understand how different hyperparameter settings affect the model's performance during hyperparameter tuning."
   ]
  },
  {
   "cell_type": "code",
   "execution_count": 22,
   "id": "626735cc",
   "metadata": {},
   "outputs": [
    {
     "name": "stdout",
     "output_type": "stream",
     "text": [
      "Mean CV Score: 0.9744, Hyperparameters: {'max_depth': None, 'n_estimators': 50}\n",
      "Mean CV Score: 0.9793, Hyperparameters: {'max_depth': None, 'n_estimators': 100}\n",
      "Mean CV Score: 0.9823, Hyperparameters: {'max_depth': None, 'n_estimators': 200}\n",
      "Mean CV Score: 0.9725, Hyperparameters: {'max_depth': 10, 'n_estimators': 50}\n",
      "Mean CV Score: 0.9757, Hyperparameters: {'max_depth': 10, 'n_estimators': 100}\n",
      "Mean CV Score: 0.9765, Hyperparameters: {'max_depth': 10, 'n_estimators': 200}\n",
      "Mean CV Score: 0.9730, Hyperparameters: {'max_depth': 20, 'n_estimators': 50}\n",
      "Mean CV Score: 0.9791, Hyperparameters: {'max_depth': 20, 'n_estimators': 100}\n",
      "Mean CV Score: 0.9805, Hyperparameters: {'max_depth': 20, 'n_estimators': 200}\n"
     ]
    },
    {
     "data": {
      "image/png": "[encoded data removed]",
      "text/plain": [
       "<Figure size 720x432 with 2 Axes>"
      ]
     },
     "metadata": {
      "needs_background": "light"
     },
     "output_type": "display_data"
    }
   ],
   "source": [
    "# Visualize Hyperparameter Tuning Results\n",
    "mean_scores = grid_search.cv_results_['mean_test_score']\n",
    "param_combinations = list(grid_search.cv_results_['params'])\n",
    "\n",
    "for mean_score, params in zip(mean_scores, param_combinations):\n",
    "    print(f\"Mean CV Score: {mean_score:.4f}, Hyperparameters: {params}\")\n",
    "\n",
    "# Plotting the Mean Cross-Validation Scores\n",
    "n_estimators_values = [param['n_estimators'] for param in param_combinations]\n",
    "max_depth_values = [param['max_depth'] for param in param_combinations]\n",
    "\n",
    "plt.figure(figsize=(10, 6))\n",
    "plt.scatter(n_estimators_values, max_depth_values, c=mean_scores, cmap='viridis', s=200, edgecolors='k')\n",
    "plt.colorbar(label='Mean CV Score')\n",
    "plt.xlabel('n_estimators')\n",
    "plt.ylabel('max_depth')\n",
    "plt.title('Hyperparameter Tuning Results')\n",
    "plt.show()"
   ]
  },
  {
   "cell_type": "markdown",
   "id": "dde436b1",
   "metadata": {},
   "source": [
    "1. mean_scores and param_combinations:\n",
    "The code retrieves the mean cross-validation scores and the corresponding hyperparameter combinations from the cv_results_ attribute of the GridSearchCV object.\n",
    "\n",
    "2. Printing mean scores and hyperparameters:\n",
    "The code uses a for loop to iterate over the mean_scores and param_combinations lists. For each iteration, it prints the mean cross-validation score and the hyperparameter values in a formatted manner.\n",
    "\n",
    "3. Plotting the Mean Cross-Validation Scores:\n",
    "The code prepares the data to create a scatter plot to visualize the mean cross-validation scores for different hyperparameter combinations. It creates two lists, n_estimators_values and max_depth_values, which contain the 'n_estimators' and 'max_depth' values for each combination in param_combinations, respectively.\n",
    "\n",
    "4. Scatter plot:\n",
    "The code then plots a scatter plot using the plt.scatter function from the matplotlib library. The x values are the 'n_estimators' values, the y values are the 'max_depth' values, and the color of each point is determined by the corresponding mean cross-validation score (mean_scores). The colormap 'viridis' is used to represent different levels of mean CV scores. The size of each point is set to 200, and the edge color of the points is set to black (edgecolors='k').\n",
    "\n",
    "5. Colorbar:\n",
    "A colorbar is added to the plot using plt.colorbar to show the mapping of colors to mean CV scores. The label for the colorbar is set as 'Mean CV Score'.\n",
    "\n",
    "6. Labels and title:\n",
    "The plot is given appropriate labels for the x-axis (xlabel) and y-axis (ylabel). The title of the plot is set as 'Hyperparameter Tuning Results'.\n",
    "\n",
    "7. Display the plot:\n",
    "Finally, the plot is displayed using plt.show().\n",
    "\n",
    "This visualization allows us to identify which combinations of 'n_estimators' and 'max_depth' lead to higher mean cross-validation scores, providing insights into the optimal hyperparameters for the RandomForestClassifier model."
   ]
  },
  {
   "cell_type": "markdown",
   "id": "37c28355",
   "metadata": {},
   "source": [
    "### 1.6.4 Best Model from Hyperparameter Tuning"
   ]
  },
  {
   "cell_type": "code",
   "execution_count": 23,
   "id": "118595bd",
   "metadata": {},
   "outputs": [
    {
     "data": {
      "text/plain": [
       "RandomForestClassifier(n_estimators=200)"
      ]
     },
     "execution_count": 23,
     "metadata": {},
     "output_type": "execute_result"
    }
   ],
   "source": [
    "# Best Model from Hyperparameter Tuning\n",
    "best_model = grid_search.best_estimator_\n",
    "best_model"
   ]
  },
  {
   "cell_type": "markdown",
   "id": "f3a45b3d",
   "metadata": {},
   "source": [
    "## 1.7 Regularization"
   ]
  },
  {
   "cell_type": "markdown",
   "id": "d7a15445",
   "metadata": {},
   "source": [
    "We select the best model found during hyperparameter tuning and store it in `best_model`. Additionally, we create a regularized Random Forest Classifier (`regularized_model`) with a specific `max_depth` hyperparameter to prevent overfitting."
   ]
  },
  {
   "cell_type": "code",
   "execution_count": 24,
   "id": "7996f6cd",
   "metadata": {},
   "outputs": [
    {
     "data": {
      "text/plain": [
       "RandomForestClassifier(max_depth=10)"
      ]
     },
     "execution_count": 24,
     "metadata": {},
     "output_type": "execute_result"
    }
   ],
   "source": [
    "regularized_model = RandomForestClassifier(max_depth=10)\n",
    "regularized_model.fit(X_train.reshape(len(X_train), -1), y_train)"
   ]
  },
  {
   "cell_type": "markdown",
   "id": "7f11d305",
   "metadata": {},
   "source": [
    "1. RandomForestClassifier instantiation:\n",
    "A regularized version of the RandomForestClassifier model is created with the max_depth hyperparameter set to 10. The max_depth hyperparameter determines the maximum depth of each tree in the random forest. By setting a value for max_depth, we are applying regularization to the model, which restricts the tree depth and helps prevent overfitting.\n",
    "\n",
    "2. Data reshaping:\n",
    "Before training the model, the training data X_train is reshaped using the reshape function. The X_train dataset likely contains 2D images represented as a 3D array (e.g., (num_samples, height, width)). To train the model, the images are flattened into a 1D array, so each row in the dataset represents a single data sample. This is done using X_train.reshape(len(X_train), -1), where -1 is used as a placeholder to infer the appropriate size of the second dimension.\n",
    "\n",
    "3. Model training:\n",
    "The regularized RandomForestClassifier model (regularized_model) is trained on the reshaped training data X_train along with the corresponding labels y_train using the fit method. During the training process, the model will learn to make predictions based on the input data and minimize the chosen loss function (e.g., entropy or Gini impurity for classification tasks).\n",
    "\n",
    "After training is complete, regularized_model is now a RandomForestClassifier model with the specified max_depth regularization, and it is ready to make predictions on new data."
   ]
  },
  {
   "cell_type": "markdown",
   "id": "47617ba4",
   "metadata": {},
   "source": [
    "## 1.8 Ensemble Techniques (Bagging and Voting)"
   ]
  },
  {
   "cell_type": "markdown",
   "id": "1f2836d6",
   "metadata": {},
   "source": [
    "In model hyperparameter tuning, \"Voting\" is a technique where we combine the predictions of multiple models, each with different settings, to make better decisions.\n",
    "\n",
    "Imagine you have multiple versions of the same model, but each one is trained with different hyperparameter settings (like different numbers of trees in a Random Forest). Voting takes all these models and asks each one to make a prediction. Then, it looks at the predictions of all the models and combines them to make the final decision.\n",
    "\n",
    "The idea is that each model might be good at certain things or on certain parts of the data. By combining their predictions, we can get a more reliable and accurate overall result.\n",
    "\n",
    "In simple terms, it's like asking a group of experts to give their opinion, and then we make the decision based on what the majority of experts say. This helps us make better predictions and can lead to more robust and powerful models."
   ]
  },
  {
   "cell_type": "markdown",
   "id": "25544c50",
   "metadata": {},
   "source": [
    "In this section, we define two ensemble models: the Bagging Classifier (`bagging_model`) using regularized_model as the base estimator, and the Voting Classifier (`voting_model`) that combines the `regularized_model` and the `bagging_model`."
   ]
  },
  {
   "cell_type": "code",
   "execution_count": 25,
   "id": "85373434",
   "metadata": {},
   "outputs": [],
   "source": [
    "# Ensemble Techniques (Bagging and Voting)\n",
    "bagging_model = BaggingClassifier(base_estimator=regularized_model, n_estimators=10, random_state=42)\n",
    "voting_model = VotingClassifier([('rf', regularized_model), ('bagging', bagging_model)])\n"
   ]
  },
  {
   "cell_type": "markdown",
   "id": "4695a3fe",
   "metadata": {},
   "source": [
    "BaggingClassifier instantiation:\n",
    "The BaggingClassifier is created with the following parameters:\n",
    "\n",
    "1. base_estimator=regularized_model: The base_estimator parameter specifies the base model to be used in the ensemble. In this case, the regularized_model, which is the RandomForestClassifier with max_depth=10, is used as the base model for Bagging. Bagging works by training multiple instances of the base model on different subsets of the training data.\n",
    "\n",
    "2. n_estimators=10: The n_estimators parameter determines the number of base estimators (trees in this case) to be used in the Bagging ensemble. Here, 10 trees will be trained on different random subsets of the training data.\n",
    "\n",
    "3. random_state=42: The random_state parameter is set to ensure reproducibility of the results. It fixes the random seed, allowing the same random subsets to be generated each time the code is run."
   ]
  },
  {
   "cell_type": "markdown",
   "id": "6729afdd",
   "metadata": {},
   "source": [
    "The VotingClassifier is created with the following parameters:\n",
    "\n",
    "[('rf', regularized_model), ('bagging', bagging_model)]: The VotingClassifier takes a list of (name, estimator) pairs as its parameter. In this case, the VotingClassifier will include two models in the ensemble:\n",
    "\n",
    "The first model is named 'rf', and it uses the regularized_model, which is the RandomForestClassifier with max_depth=10.\n",
    "\n",
    "The second model is named 'bagging', and it uses the previously created BaggingClassifier.\n",
    "\n",
    "The VotingClassifier combines the predictions of its constituent models (the base model and the Bagging ensemble) to make final predictions. The ensemble will use a majority vote (for classification tasks) or average (for regression tasks) to combine the individual models' predictions."
   ]
  },
  {
   "cell_type": "markdown",
   "id": "c323750b",
   "metadata": {},
   "source": [
    "## 1.9 Train the Bagging and Voting models on the entire training data"
   ]
  },
  {
   "cell_type": "code",
   "execution_count": 26,
   "id": "5205891c",
   "metadata": {},
   "outputs": [
    {
     "data": {
      "text/plain": [
       "VotingClassifier(estimators=[('rf', RandomForestClassifier(max_depth=10)),\n",
       "                             ('bagging',\n",
       "                              BaggingClassifier(base_estimator=RandomForestClassifier(max_depth=10),\n",
       "                                                random_state=42))])"
      ]
     },
     "execution_count": 26,
     "metadata": {},
     "output_type": "execute_result"
    }
   ],
   "source": [
    "# Train the Bagging and Voting models on the entire training data\n",
    "bagging_model.fit(X_train.reshape(len(X_train), -1), y_train)\n",
    "voting_model.fit(X_train.reshape(len(X_train), -1), y_train)\n"
   ]
  },
  {
   "cell_type": "markdown",
   "id": "a066d62e",
   "metadata": {},
   "source": [
    "## 1.10 Evaluate the Bagging and Voting models on the test set"
   ]
  },
  {
   "cell_type": "markdown",
   "id": "2ac08ad8",
   "metadata": {},
   "source": [
    "The Bagging and Voting models are evaluated on the test set, and their performance is measured using accuracy scores."
   ]
  },
  {
   "cell_type": "code",
   "execution_count": 27,
   "id": "791fa287",
   "metadata": {},
   "outputs": [],
   "source": [
    "y_pred_bagging = bagging_model.predict(X_test.reshape(len(X_test), -1))\n",
    "y_pred_voting = voting_model.predict(X_test.reshape(len(X_test), -1))\n",
    "\n",
    "test_accuracy_bagging = accuracy_score(y_test, y_pred_bagging)\n",
    "test_accuracy_voting = accuracy_score(y_test, y_pred_voting)"
   ]
  },
  {
   "cell_type": "markdown",
   "id": "0a1c7a29",
   "metadata": {},
   "source": [
    "## 1.11 Print results"
   ]
  },
  {
   "cell_type": "code",
   "execution_count": 28,
   "id": "8ff6ec00",
   "metadata": {},
   "outputs": [
    {
     "name": "stdout",
     "output_type": "stream",
     "text": [
      "Best Model Parameters: {'max_depth': None, 'n_estimators': 200}\n",
      "Test Accuracy (Best Model): 0.9826147426981919\n",
      "Test Accuracy (Bagging Model): 0.9756606397774688\n",
      "Test Accuracy (Voting Model): 0.9749652294853964\n"
     ]
    }
   ],
   "source": [
    "# Print results\n",
    "print(\"Best Model Parameters:\", grid_search.best_params_)\n",
    "print(\"Test Accuracy (Best Model):\", best_model.score(X_test.reshape(len(X_test), -1), y_test))\n",
    "print(\"Test Accuracy (Bagging Model):\", test_accuracy_bagging)\n",
    "print(\"Test Accuracy (Voting Model):\", test_accuracy_voting)"
   ]
  },
  {
   "cell_type": "markdown",
   "id": "8268f446",
   "metadata": {},
   "source": [
    "## 1.12 Exercise"
   ]
  },
  {
   "cell_type": "markdown",
   "id": "53b130c6",
   "metadata": {},
   "source": [
    "Question: You are working on a classification problem using a Support Vector Machine (SVM) classifier. The dataset you are using is quite large and has a high number of features. You want to optimize the hyperparameters of the SVM model to achieve better performance. Write a code snippet in Python using scikit-learn to perform hyperparameter tuning for the SVM classifier using GridSearchCV. Assume the dataset is already split into X_train, X_test, y_train, and y_test, and the SVM classifier is initialized as SVC().\n",
    "\n",
    "Hint: You can consider tuning hyperparameters like the kernel type, C (regularization parameter), and gamma.\n",
    "\n",
    "Note: For the purpose of this question, you don't need to worry about standardizing or normalizing the features.\n",
    "\n",
    "Please write your code below:"
   ]
  },
  {
   "cell_type": "code",
   "execution_count": 29,
   "id": "f095f833",
   "metadata": {},
   "outputs": [],
   "source": [
    "# from sklearn.datasets import load_iris\n",
    "# from sklearn.model_selection import train_test_split, GridSearchCV\n",
    "# from sklearn.svm import SVC\n",
    "# from sklearn.metrics import accuracy_score\n",
    "\n",
    "# # Load the Iris dataset\n",
    "# data = load_iris()\n",
    "# X, y = data.data, data.target\n",
    "\n",
    "# # Split the dataset into training and testing sets\n",
    "# X_train, X_test, y_train, y_test = train_test_split(X, y, test_size=0.2, random_state=42)\n",
    "\n",
    "# # Initialize the SVM classifier\n",
    "# svm_classifier = SVC()\n",
    "\n",
    "# # Define the hyperparameter grid for GridSearchCV\n",
    "# param_grid = {\n",
    "#     'kernel': ,\n",
    "#     'C': ,\n",
    "#     'gamma': \n",
    "# }\n",
    "\n",
    "# # Create the GridSearchCV object with cross-validation (e.g., 5-fold cross-validation)\n",
    "# grid_search =\n",
    "\n",
    "# # Perform the hyperparameter tuning on the training data\n",
    "# grid_search.fit(X_train, y_train)\n",
    "\n",
    "# # Get the best hyperparameters from the GridSearchCV\n",
    "# best_params = \n",
    "# print(\"Best hyperparameters:\", )\n",
    "\n",
    "# # Evaluate the model with the best hyperparameters on the test data\n",
    "# best_svm_classifier = \n",
    "# y_pred = \n",
    "# accuracy = \n",
    "# print(\"Test accuracy with best hyperparameters:\", accuracy)\n"
   ]
  },
  {
   "cell_type": "markdown",
   "id": "35ab94d6",
   "metadata": {},
   "source": [
    "# 2. Bagging and Boosting"
   ]
  },
  {
   "cell_type": "markdown",
   "id": "eb1b0d40",
   "metadata": {},
   "source": [
    "## 2.1 Introduction\n",
    "\n",
    "### 2.1.1 Overview of Ensemble Learning:\n",
    "\n",
    "- Ensemble learning is a powerful technique in machine learning where multiple models are combined to create a more robust and accurate predictive model.\n",
    "- The idea is to leverage the collective intelligence of multiple models to make better predictions than any individual model could achieve alone.\n",
    "- Ensemble learning draws inspiration from the wisdom of crowds, where diverse opinions lead to better decisions than relying on a single perspective.\n",
    "- By aggregating the predictions from multiple models, ensemble learning aims to improve generalization and reduce the risk of overfitting.\n",
    "\n",
    "\n",
    "\n",
    "### 2.1.2 Importance of Ensemble Learning in Data Science:\n",
    "\n",
    "- Data science often deals with complex and noisy datasets where building a single strong model may be challenging.\n",
    "- Ensemble learning helps address the limitations of individual models by combining their strengths and compensating for their weaknesses.\n",
    "- Ensemble methods can significantly boost the accuracy and performance of predictive models, making them invaluable in various real-world applications.\n",
    "- Ensemble learning is widely used in competitions like Kaggle, where top-performing models often utilize sophisticated ensemble techniques.\n",
    "- In practical scenarios, ensemble models are more reliable and trustworthy due to their ability to capture diverse patterns and avoid model bias.\n",
    "\n",
    "### 2.1.3 What to Expect in This Session:\n",
    "\n",
    "- In this session, we will delve into two essential ensemble learning techniques: bagging and boosting.\n",
    "- We will understand the underlying principles of each technique, explore their strengths and weaknesses, and discover when to use them.\n",
    "- We will also demonstrate coding examples using Python and scikit-learn to solidify your understanding and enable you to implement these techniques in your projects.\n",
    "- By the end of this session, you will have a clear understanding of how bagging and boosting contribute to the success of predictive models and the importance of ensemble learning in data science."
   ]
  },
  {
   "cell_type": "markdown",
   "id": "951a79ae",
   "metadata": {},
   "source": [
    "## 2.2 Bagging (Bootstrap Aggregating)\n",
    "\n",
    "### 2.2.1 Definition and Purpose of Bagging:\n",
    "\n",
    "- Bagging, short for Bootstrap Aggregating, is an ensemble learning technique that aims to improve the accuracy and robustness of predictive models.\n",
    "- The primary purpose of bagging is to reduce variance and combat overfitting, which are common challenges in machine learning.\n",
    "- By combining predictions from multiple base learners, bagging reduces the risk of relying too heavily on any one model's idiosyncrasies.\n",
    "\n",
    "\n",
    "### 2.2.2 How Bagging Works:\n",
    "\n",
    "1. Bootstrapping and Creating Subsets:\n",
    "- Bagging starts by creating multiple subsets of the original training data through bootstrapping.\n",
    "- Bootstrapping involves randomly sampling data with replacement, resulting in diverse subsets with the same size as the original dataset.\n",
    "\n",
    "\n",
    "2. Training Multiple Base Learners:\n",
    "- Each subset is used to train an independent base learner (model), such as decision trees, SVMs, or neural networks.\n",
    "- These base learners are trained independently, and their predictions are combined later to form the ensemble.\n",
    "\n",
    "\n",
    "3. Aggregating Predictions:\n",
    "- Once all base learners are trained, the final prediction is made by aggregating their individual predictions.\n",
    "- For regression tasks, predictions are averaged, while for classification tasks, majority voting is used to decide the final prediction.\n",
    "\n",
    "\n",
    "### 2.2.3 Advantages of Bagging:\n",
    "\n",
    "1. Reducing Variance and Overfitting:\n",
    "- Bagging's main advantage is its ability to reduce variance and combat overfitting.\n",
    "- By combining predictions from diverse models, it results in a more balanced and stable ensemble model.\n",
    "\n",
    "\n",
    "2. Robustness to Noisy Data and Outliers:\n",
    "- Bagging is robust to noisy data and outliers, as it diminishes the impact of individual data points through aggregation.\n",
    "- Outliers are less likely to affect the overall prediction due to the averaging or voting process.\n",
    "\n",
    "\n",
    "### 2.2.4 Common Algorithms Using Bagging:\n",
    "\n",
    "1. Random Forest:\n",
    "- Random Forest is one of the most popular bagging algorithms that uses decision trees as base learners.\n",
    "- It builds a large number of decision trees, and each tree is trained on a bootstrapped subset of the data.\n",
    "- The final prediction is made by aggregating the predictions of all individual trees.\n",
    "\n",
    "2. Bagged Decision Trees:\n",
    "- Bagged Decision Trees, or simply Bagging with decision trees, is a straightforward bagging approach.\n",
    "- It applies the same concept as Random Forest but with a smaller number of trees (often not enough to be considered a forest).\n",
    "\n",
    "3. Bagged SVMs (Support Vector Machines):\n",
    "- Bagging can also be applied to other base learners like Support Vector Machines (SVMs).\n",
    "- Bagged SVMs utilize subsets of data for training multiple SVM models, and their predictions are aggregated to make the final prediction."
   ]
  },
  {
   "cell_type": "markdown",
   "id": "3090984f",
   "metadata": {},
   "source": [
    "### 2.2.5 Coding Example with Random Forest (Python and scikit-learn):"
   ]
  },
  {
   "cell_type": "code",
   "execution_count": 30,
   "id": "12c59d68",
   "metadata": {},
   "outputs": [],
   "source": [
    "# Import necessary libraries\n",
    "import pandas as pd\n",
    "from sklearn.datasets import fetch_openml\n",
    "from sklearn.tree import DecisionTreeClassifier\n",
    "from sklearn.ensemble import RandomForestClassifier\n",
    "from sklearn.model_selection import train_test_split\n",
    "from sklearn.metrics import accuracy_score\n",
    "from sklearn.utils import resample\n",
    "import numpy as np"
   ]
  },
  {
   "cell_type": "markdown",
   "id": "5a8f4e3c",
   "metadata": {},
   "source": [
    "#### 2.2.5.1 Load and Introduce the Dataset "
   ]
  },
  {
   "cell_type": "code",
   "execution_count": 31,
   "id": "586253ee",
   "metadata": {},
   "outputs": [
    {
     "data": {
      "text/html": [
       "<div>\n",
       "<style scoped>\n",
       "    .dataframe tbody tr th:only-of-type {\n",
       "        vertical-align: middle;\n",
       "    }\n",
       "\n",
       "    .dataframe tbody tr th {\n",
       "        vertical-align: top;\n",
       "    }\n",
       "\n",
       "    .dataframe thead th {\n",
       "        text-align: right;\n",
       "    }\n",
       "</style>\n",
       "<table border=\"1\" class=\"dataframe\">\n",
       "  <thead>\n",
       "    <tr style=\"text-align: right;\">\n",
       "      <th></th>\n",
       "      <th>Elevation</th>\n",
       "      <th>Aspect</th>\n",
       "      <th>Slope</th>\n",
       "      <th>Horizontal_Distance_To_Hydrology</th>\n",
       "      <th>Vertical_Distance_To_Hydrology</th>\n",
       "      <th>Horizontal_Distance_To_Roadways</th>\n",
       "      <th>Hillshade_9am</th>\n",
       "      <th>Hillshade_Noon</th>\n",
       "      <th>Hillshade_3pm</th>\n",
       "      <th>Horizontal_Distance_To_Fire_Points</th>\n",
       "      <th>...</th>\n",
       "      <th>Soil_Type32</th>\n",
       "      <th>Soil_Type33</th>\n",
       "      <th>Soil_Type34</th>\n",
       "      <th>Soil_Type35</th>\n",
       "      <th>Soil_Type36</th>\n",
       "      <th>Soil_Type37</th>\n",
       "      <th>Soil_Type38</th>\n",
       "      <th>Soil_Type39</th>\n",
       "      <th>Soil_Type40</th>\n",
       "      <th>target</th>\n",
       "    </tr>\n",
       "  </thead>\n",
       "  <tbody>\n",
       "    <tr>\n",
       "      <th>0</th>\n",
       "      <td>2596.0</td>\n",
       "      <td>51.0</td>\n",
       "      <td>3.0</td>\n",
       "      <td>258.0</td>\n",
       "      <td>0.0</td>\n",
       "      <td>510.0</td>\n",
       "      <td>221.0</td>\n",
       "      <td>232.0</td>\n",
       "      <td>148.0</td>\n",
       "      <td>6279.0</td>\n",
       "      <td>...</td>\n",
       "      <td>0</td>\n",
       "      <td>0</td>\n",
       "      <td>0</td>\n",
       "      <td>0</td>\n",
       "      <td>0</td>\n",
       "      <td>0</td>\n",
       "      <td>0</td>\n",
       "      <td>0</td>\n",
       "      <td>0</td>\n",
       "      <td>4</td>\n",
       "    </tr>\n",
       "    <tr>\n",
       "      <th>1</th>\n",
       "      <td>2590.0</td>\n",
       "      <td>56.0</td>\n",
       "      <td>2.0</td>\n",
       "      <td>212.0</td>\n",
       "      <td>-6.0</td>\n",
       "      <td>390.0</td>\n",
       "      <td>220.0</td>\n",
       "      <td>235.0</td>\n",
       "      <td>151.0</td>\n",
       "      <td>6225.0</td>\n",
       "      <td>...</td>\n",
       "      <td>0</td>\n",
       "      <td>0</td>\n",
       "      <td>0</td>\n",
       "      <td>0</td>\n",
       "      <td>0</td>\n",
       "      <td>0</td>\n",
       "      <td>0</td>\n",
       "      <td>0</td>\n",
       "      <td>0</td>\n",
       "      <td>4</td>\n",
       "    </tr>\n",
       "    <tr>\n",
       "      <th>2</th>\n",
       "      <td>2804.0</td>\n",
       "      <td>139.0</td>\n",
       "      <td>9.0</td>\n",
       "      <td>268.0</td>\n",
       "      <td>65.0</td>\n",
       "      <td>3180.0</td>\n",
       "      <td>234.0</td>\n",
       "      <td>238.0</td>\n",
       "      <td>135.0</td>\n",
       "      <td>6121.0</td>\n",
       "      <td>...</td>\n",
       "      <td>0</td>\n",
       "      <td>0</td>\n",
       "      <td>0</td>\n",
       "      <td>0</td>\n",
       "      <td>0</td>\n",
       "      <td>0</td>\n",
       "      <td>0</td>\n",
       "      <td>0</td>\n",
       "      <td>0</td>\n",
       "      <td>1</td>\n",
       "    </tr>\n",
       "    <tr>\n",
       "      <th>3</th>\n",
       "      <td>2785.0</td>\n",
       "      <td>155.0</td>\n",
       "      <td>18.0</td>\n",
       "      <td>242.0</td>\n",
       "      <td>118.0</td>\n",
       "      <td>3090.0</td>\n",
       "      <td>238.0</td>\n",
       "      <td>238.0</td>\n",
       "      <td>122.0</td>\n",
       "      <td>6211.0</td>\n",
       "      <td>...</td>\n",
       "      <td>0</td>\n",
       "      <td>0</td>\n",
       "      <td>0</td>\n",
       "      <td>0</td>\n",
       "      <td>0</td>\n",
       "      <td>0</td>\n",
       "      <td>0</td>\n",
       "      <td>0</td>\n",
       "      <td>0</td>\n",
       "      <td>1</td>\n",
       "    </tr>\n",
       "    <tr>\n",
       "      <th>4</th>\n",
       "      <td>2595.0</td>\n",
       "      <td>45.0</td>\n",
       "      <td>2.0</td>\n",
       "      <td>153.0</td>\n",
       "      <td>-1.0</td>\n",
       "      <td>391.0</td>\n",
       "      <td>220.0</td>\n",
       "      <td>234.0</td>\n",
       "      <td>150.0</td>\n",
       "      <td>6172.0</td>\n",
       "      <td>...</td>\n",
       "      <td>0</td>\n",
       "      <td>0</td>\n",
       "      <td>0</td>\n",
       "      <td>0</td>\n",
       "      <td>0</td>\n",
       "      <td>0</td>\n",
       "      <td>0</td>\n",
       "      <td>0</td>\n",
       "      <td>0</td>\n",
       "      <td>4</td>\n",
       "    </tr>\n",
       "  </tbody>\n",
       "</table>\n",
       "<p>5 rows × 55 columns</p>\n",
       "</div>"
      ],
      "text/plain": [
       "   Elevation  Aspect  Slope  Horizontal_Distance_To_Hydrology  \\\n",
       "0     2596.0    51.0    3.0                             258.0   \n",
       "1     2590.0    56.0    2.0                             212.0   \n",
       "2     2804.0   139.0    9.0                             268.0   \n",
       "3     2785.0   155.0   18.0                             242.0   \n",
       "4     2595.0    45.0    2.0                             153.0   \n",
       "\n",
       "   Vertical_Distance_To_Hydrology  Horizontal_Distance_To_Roadways  \\\n",
       "0                             0.0                            510.0   \n",
       "1                            -6.0                            390.0   \n",
       "2                            65.0                           3180.0   \n",
       "3                           118.0                           3090.0   \n",
       "4                            -1.0                            391.0   \n",
       "\n",
       "   Hillshade_9am  Hillshade_Noon  Hillshade_3pm  \\\n",
       "0          221.0           232.0          148.0   \n",
       "1          220.0           235.0          151.0   \n",
       "2          234.0           238.0          135.0   \n",
       "3          238.0           238.0          122.0   \n",
       "4          220.0           234.0          150.0   \n",
       "\n",
       "   Horizontal_Distance_To_Fire_Points  ... Soil_Type32 Soil_Type33  \\\n",
       "0                              6279.0  ...           0           0   \n",
       "1                              6225.0  ...           0           0   \n",
       "2                              6121.0  ...           0           0   \n",
       "3                              6211.0  ...           0           0   \n",
       "4                              6172.0  ...           0           0   \n",
       "\n",
       "  Soil_Type34 Soil_Type35 Soil_Type36 Soil_Type37 Soil_Type38 Soil_Type39  \\\n",
       "0           0           0           0           0           0           0   \n",
       "1           0           0           0           0           0           0   \n",
       "2           0           0           0           0           0           0   \n",
       "3           0           0           0           0           0           0   \n",
       "4           0           0           0           0           0           0   \n",
       "\n",
       "  Soil_Type40 target  \n",
       "0           0      4  \n",
       "1           0      4  \n",
       "2           0      1  \n",
       "3           0      1  \n",
       "4           0      4  \n",
       "\n",
       "[5 rows x 55 columns]"
      ]
     },
     "execution_count": 31,
     "metadata": {},
     "output_type": "execute_result"
    }
   ],
   "source": [
    "# Load the covertype dataset from OpenML\n",
    "covertype = fetch_openml('covertype', version=4)\n",
    "X = covertype.data\n",
    "y = covertype.target.astype('int') - 1  # Shift labels to range 0-6\n",
    "\n",
    "# Create a DataFrame\n",
    "df = pd.DataFrame(X, columns=covertype.feature_names)\n",
    "df['target'] = y\n",
    "\n",
    "# Show the dataframe\n",
    "df.head()"
   ]
  },
  {
   "cell_type": "code",
   "execution_count": 32,
   "id": "8c733acc",
   "metadata": {},
   "outputs": [
    {
     "name": "stdout",
     "output_type": "stream",
     "text": [
      "<class 'pandas.core.frame.DataFrame'>\n",
      "RangeIndex: 581012 entries, 0 to 581011\n",
      "Data columns (total 55 columns):\n",
      " #   Column                              Non-Null Count   Dtype   \n",
      "---  ------                              --------------   -----   \n",
      " 0   Elevation                           581012 non-null  float64 \n",
      " 1   Aspect                              581012 non-null  float64 \n",
      " 2   Slope                               581012 non-null  float64 \n",
      " 3   Horizontal_Distance_To_Hydrology    581012 non-null  float64 \n",
      " 4   Vertical_Distance_To_Hydrology      581012 non-null  float64 \n",
      " 5   Horizontal_Distance_To_Roadways     581012 non-null  float64 \n",
      " 6   Hillshade_9am                       581012 non-null  float64 \n",
      " 7   Hillshade_Noon                      581012 non-null  float64 \n",
      " 8   Hillshade_3pm                       581012 non-null  float64 \n",
      " 9   Horizontal_Distance_To_Fire_Points  581012 non-null  float64 \n",
      " 10  Wilderness_Area1                    581012 non-null  category\n",
      " 11  Wilderness_Area2                    581012 non-null  category\n",
      " 12  Wilderness_Area3                    581012 non-null  category\n",
      " 13  Wilderness_Area4                    581012 non-null  category\n",
      " 14  Soil_Type1                          581012 non-null  category\n",
      " 15  Soil_Type2                          581012 non-null  category\n",
      " 16  Soil_Type3                          581012 non-null  category\n",
      " 17  Soil_Type4                          581012 non-null  category\n",
      " 18  Soil_Type5                          581012 non-null  category\n",
      " 19  Soil_Type6                          581012 non-null  category\n",
      " 20  Soil_Type7                          581012 non-null  category\n",
      " 21  Soil_Type8                          581012 non-null  category\n",
      " 22  Soil_Type9                          581012 non-null  category\n",
      " 23  Soil_Type10                         581012 non-null  category\n",
      " 24  Soil_Type11                         581012 non-null  category\n",
      " 25  Soil_Type12                         581012 non-null  category\n",
      " 26  Soil_Type13                         581012 non-null  category\n",
      " 27  Soil_Type14                         581012 non-null  category\n",
      " 28  Soil_Type15                         581012 non-null  category\n",
      " 29  Soil_Type16                         581012 non-null  category\n",
      " 30  Soil_Type17                         581012 non-null  category\n",
      " 31  Soil_Type18                         581012 non-null  category\n",
      " 32  Soil_Type19                         581012 non-null  category\n",
      " 33  Soil_Type20                         581012 non-null  category\n",
      " 34  Soil_Type21                         581012 non-null  category\n",
      " 35  Soil_Type22                         581012 non-null  category\n",
      " 36  Soil_Type23                         581012 non-null  category\n",
      " 37  Soil_Type24                         581012 non-null  category\n",
      " 38  Soil_Type25                         581012 non-null  category\n",
      " 39  Soil_Type26                         581012 non-null  category\n",
      " 40  Soil_Type27                         581012 non-null  category\n",
      " 41  Soil_Type28                         581012 non-null  category\n",
      " 42  Soil_Type29                         581012 non-null  category\n",
      " 43  Soil_Type30                         581012 non-null  category\n",
      " 44  Soil_Type31                         581012 non-null  category\n",
      " 45  Soil_Type32                         581012 non-null  category\n",
      " 46  Soil_Type33                         581012 non-null  category\n",
      " 47  Soil_Type34                         581012 non-null  category\n",
      " 48  Soil_Type35                         581012 non-null  category\n",
      " 49  Soil_Type36                         581012 non-null  category\n",
      " 50  Soil_Type37                         581012 non-null  category\n",
      " 51  Soil_Type38                         581012 non-null  category\n",
      " 52  Soil_Type39                         581012 non-null  category\n",
      " 53  Soil_Type40                         581012 non-null  category\n",
      " 54  target                              581012 non-null  int64   \n",
      "dtypes: category(44), float64(10), int64(1)\n",
      "memory usage: 73.1 MB\n"
     ]
    }
   ],
   "source": [
    "df.info()"
   ]
  },
  {
   "cell_type": "markdown",
   "id": "4908fc6f",
   "metadata": {},
   "source": [
    "The dataset consists of 581,012 data samples, each representing a specific location within the Roosevelt National Forest. Each data sample has a set of features (input variables) that describe the location's cartographic characteristics, and a target label (output variable) indicating the forest cover type at that location. The target label is an integer value ranging from 0 to 6, representing one of seven different forest cover types:\n",
    "\n",
    "\n",
    "1. Elevation: Floating-point numbers representing the elevation of the location in meters above sea level.\n",
    "\n",
    "2. Aspect: Floating-point numbers representing the azimuthal direction of the slope in degrees (0-360), indicating the direction the slope faces.\n",
    "\n",
    "3. Slope: Floating-point numbers representing the slope of the terrain in degrees, indicating the steepness of the slope.\n",
    "\n",
    "4. Horizontal_Distance_To_Hydrology: Floating-point numbers representing the horizontal distance (in meters) to the nearest water body (river, lake, etc.).\n",
    "\n",
    "5. Vertical_Distance_To_Hydrology: Floating-point numbers representing the vertical distance (in meters) to the nearest water body. It can be positive or negative, depending on whether the location is above or below the water body.\n",
    "\n",
    "6. Horizontal_Distance_To_Roadways: Floating-point numbers representing the horizontal distance (in meters) to the nearest roadway.\n",
    "\n",
    "7. Hillshade_9am: Floating-point numbers representing the hillshade index at 9 am, indicating the amount of shade cast by nearby terrain at 9 am.\n",
    "\n",
    "8. Hillshade_Noon: Floating-point numbers representing the hillshade index at noon, indicating the amount of shade cast by nearby terrain at noon.\n",
    "\n",
    "9. Hillshade_3pm: Floating-point numbers representing the hillshade index at 3 pm, indicating the amount of shade cast by nearby terrain at 3 pm.\n",
    "\n",
    "10. Horizontal_Distance_To_Fire_Points: Floating-point numbers representing the horizontal distance (in meters) to the nearest fire observation point.\n",
    "\n",
    "11. Wilderness_Area1 to Wilderness_Area4: Categorical variables (category data type) representing binary indicators for four wilderness areas. Each column corresponds to a specific wilderness area, and the value is either 0 or 1, indicating whether the location is in that particular wilderness area.\n",
    "\n",
    "12. Soil_Type1 to Soil_Type40: Categorical variables (category data type) representing binary indicators for forty soil types. Each column corresponds to a specific soil type, and the value is either 0 or 1, indicating whether the location has that particular soil type.\n",
    "\n",
    "13. target: Integer numbers representing the forest cover type (the target variable). The values range from 0 to 6, where each integer corresponds to a specific forest cover type, as described earlier:\n",
    "\n",
    "    - 0: Spruce/Fir\n",
    "    - 1: Lodgepole Pine\n",
    "    - 2: Ponderosa Pine\n",
    "    - 3: Cottonwood/Willow\n",
    "    - 4: Aspen\n",
    "    - 5: Douglas-fir\n",
    "    - 6: Krummholz (a type of high-elevation, stunted forest)"
   ]
  },
  {
   "cell_type": "markdown",
   "id": "f58e104d",
   "metadata": {},
   "source": [
    "This code fetches the **covertype** dataset from OpenML, and then extracts the data and target labels. The labels are shifted from 1-7 to 0-6 for ease of use."
   ]
  },
  {
   "cell_type": "markdown",
   "id": "54d5c42c",
   "metadata": {},
   "source": [
    "#### 2.2.5.2 Data Subset (for speed)"
   ]
  },
  {
   "cell_type": "code",
   "execution_count": 33,
   "id": "a0335dda",
   "metadata": {},
   "outputs": [],
   "source": [
    "# Select a subset of data for demonstration purposes (and for faster execution)\n",
    "X = X[:20000]\n",
    "y = y[:20000]"
   ]
  },
  {
   "cell_type": "markdown",
   "id": "da8ba19b",
   "metadata": {},
   "source": [
    "Given the large size of the **covertype** dataset, we take a subset of 20,000 samples for faster demonstration."
   ]
  },
  {
   "cell_type": "markdown",
   "id": "f7d7cde4",
   "metadata": {},
   "source": [
    "#### 2.2.5.3 Data Splitting"
   ]
  },
  {
   "cell_type": "code",
   "execution_count": 34,
   "id": "15840962",
   "metadata": {},
   "outputs": [],
   "source": [
    "# Split data into training (70%) and testing (30%) sets\n",
    "X_train, X_test, y_train, y_test = train_test_split(X, y, test_size=0.3, random_state=42)"
   ]
  },
  {
   "cell_type": "markdown",
   "id": "1a0f7ffb",
   "metadata": {},
   "source": [
    "This splits the data into training and testing sets. 30% of the data is reserved for testing."
   ]
  },
  {
   "cell_type": "markdown",
   "id": "55be558b",
   "metadata": {},
   "source": [
    "#### 2.2.5.4 Results Storage Initialization"
   ]
  },
  {
   "cell_type": "code",
   "execution_count": 35,
   "id": "34df79fc",
   "metadata": {},
   "outputs": [],
   "source": [
    "# Initialize list to store results of each model\n",
    "results = []"
   ]
  },
  {
   "cell_type": "markdown",
   "id": "5a6253de",
   "metadata": {},
   "source": [
    "An empty list to store accuracy results for each model."
   ]
  },
  {
   "cell_type": "markdown",
   "id": "77e22a56",
   "metadata": {},
   "source": [
    "#### 2.2.5.5 Simple Decision Tree Training and Prediction"
   ]
  },
  {
   "cell_type": "code",
   "execution_count": 36,
   "id": "be5b96d2",
   "metadata": {},
   "outputs": [],
   "source": [
    "# Train and test a simple decision tree classifier\n",
    "tree = DecisionTreeClassifier()\n",
    "tree.fit(X_train, y_train)\n",
    "tree_pred = tree.predict(X_test)\n",
    "results.append(['Simple Decision Tree', accuracy_score(y_test, tree_pred)])"
   ]
  },
  {
   "cell_type": "markdown",
   "id": "25da40ce",
   "metadata": {},
   "source": [
    "This section trains a basic decision tree on the training data, makes predictions on the test data, and stores the accuracy in the results list."
   ]
  },
  {
   "cell_type": "markdown",
   "id": "d34391b8",
   "metadata": {},
   "source": [
    "#### 2.2.5.6 Random Forest Training and Prediction"
   ]
  },
  {
   "cell_type": "code",
   "execution_count": 37,
   "id": "fbdaf4e2",
   "metadata": {},
   "outputs": [],
   "source": [
    "# Train and test a Random Forest with 5 trees\n",
    "rf_small = RandomForestClassifier(n_estimators=5, random_state=42)\n",
    "rf_small.fit(X_train, y_train)\n",
    "rf_small_pred = rf_small.predict(X_test)\n",
    "results.append(['Random Forest (5 trees)', accuracy_score(y_test, rf_small_pred)])"
   ]
  },
  {
   "cell_type": "markdown",
   "id": "2c4e85c7",
   "metadata": {},
   "source": [
    "`n_estimators=5`: This sets the number of decision trees (estimators) in the random forest to 5. Random Forest is an ensemble method that combines the predictions of multiple decision trees to make final predictions.\n",
    "\n",
    "`random_state=42`: This parameter is used to set the random seed for reproducibility. It ensures that the random initialization of the random forest is the same each time the code is run."
   ]
  },
  {
   "cell_type": "markdown",
   "id": "b4bd4dcf",
   "metadata": {},
   "source": [
    "#### 2.2.5.7 Manual Bagging Implementation"
   ]
  },
  {
   "cell_type": "code",
   "execution_count": 38,
   "id": "d9dcaba1",
   "metadata": {},
   "outputs": [],
   "source": [
    "# Manual implementation of Bagging\n",
    "n_learners = 5  # Number of learners (trees) for bagging\n",
    "predictions = []  # List to store predictions of each learner\n",
    "\n",
    "# Bootstrapping and training for each learner\n",
    "for i in range(n_learners):\n",
    "    boot_X, boot_y = resample(X_train, y_train, replace=True, n_samples=len(X_train))\n",
    "    tree = DecisionTreeClassifier()\n",
    "    tree.fit(boot_X, boot_y)\n",
    "    predictions.append(tree.predict(X_test))"
   ]
  },
  {
   "cell_type": "markdown",
   "id": "a1c8514f",
   "metadata": {},
   "source": [
    "resample function:\n",
    "\n",
    "\n",
    "The resample function is typically provided by a machine learning library, such as scikit-learn. It is used to randomly sample (with replacement) from the training data to create a new bootstrap dataset for training a learner (in this case, a DecisionTreeClassifier). The function takes three main arguments:\n",
    "\n",
    "- X_train: The feature data (input data) of the training set.\n",
    "\n",
    "- y_train: The target labels (output data) of the training set.\n",
    "\n",
    "- replace=True: This argument specifies that sampling should be done with replacement. Each data point in the original training set can be selected multiple times in the bootstrap sample, and some data points may not be selected at all. If replace=False, it would be simple random sampling without replacement.\n",
    "\n",
    "- n_samples=len(X_train): This argument specifies the number of samples to be drawn from the training data for the bootstrap sample. In this case, n_samples is set to be equal to the number of data points in the original training set (X_train), which means the bootstrap sample has the same size as the original training set."
   ]
  },
  {
   "cell_type": "markdown",
   "id": "d50eafc2",
   "metadata": {},
   "source": [
    "This manually implements bagging by bootstrapping the training data **n_learners** times, training a decision tree on each bootstrap sample, and storing its predictions."
   ]
  },
  {
   "cell_type": "markdown",
   "id": "91dade73",
   "metadata": {},
   "source": [
    "#### 2.2.5.8 Mode Calculation for Bagging Predictions"
   ]
  },
  {
   "cell_type": "code",
   "execution_count": 39,
   "id": "4c9e8c26",
   "metadata": {},
   "outputs": [],
   "source": [
    "# Function to compute mode for an array\n",
    "def compute_mode(array):\n",
    "    return np.bincount(array).argmax()\n",
    "\n",
    "# Convert predictions list of arrays to a 2D numpy array\n",
    "predictions_array = np.array(predictions)\n",
    "\n",
    "# Calculate mode of predictions for bagging\n",
    "mode_predictions = []\n",
    "for column in predictions_array.T:  # Now we transpose the numpy array\n",
    "    mode_predictions.append(compute_mode(column))\n",
    "mode_predictions = np.array(mode_predictions)\n",
    "results.append(['Manual Bagging (Mode)', accuracy_score(y_test, mode_predictions)])"
   ]
  },
  {
   "cell_type": "markdown",
   "id": "64c10762",
   "metadata": {},
   "source": [
    "1. compute_mode function:\n",
    "The compute_mode(array) function takes an input array and calculates the mode, which is the value that appears most frequently in the array. It uses NumPy's bincount function to count the occurrences of each unique element in the array and then returns the element with the highest count (i.e., the mode) using argmax().\n",
    "\n",
    "2. Convert predictions to a 2D numpy array:\n",
    "The predictions list, which contains the predictions from multiple learners, is converted into a 2D numpy array named predictions_array. Each row of this array represents the predictions of a single learner, and each column represents the predictions for a specific sample in the test set.\n",
    "\n",
    "3. Calculate mode of predictions for bagging:\n",
    "The code then proceeds to calculate the mode predictions for the bagging ensemble. It initializes an empty list called mode_predictions.\n",
    "\n",
    "4. Transpose the predictions array:\n",
    "Before computing the mode predictions, the numpy array predictions_array is transposed using predictions_array.T. This step allows us to loop over the columns (samples) instead of the rows (learners).\n",
    "\n",
    "5. Compute mode for each column (sample):\n",
    "For each column (sample) in the transposed predictions_array, the compute_mode function is applied to determine the mode of the predictions across all learners for that specific sample. The mode predictions for all samples are stored in the mode_predictions list.\n",
    "\n",
    "6. Convert mode predictions to a numpy array:\n",
    "The mode_predictions list is then converted back into a numpy array using np.array(mode_predictions).\n",
    "\n",
    "7. Calculate accuracy and store results:\n",
    "Finally, the accuracy of the bagging ensemble, using mode predictions, is computed by comparing the mode_predictions array against the ground truth labels y_test. The accuracy score is then appended to the results list with a description indicating that manual bagging with mode predictions was used."
   ]
  },
  {
   "cell_type": "markdown",
   "id": "83f5c6b2",
   "metadata": {},
   "source": [
    "#### 2.2.5.9 Median Calculation for Bagging Predictions"
   ]
  },
  {
   "cell_type": "code",
   "execution_count": 40,
   "id": "d195e10f",
   "metadata": {},
   "outputs": [],
   "source": [
    "# Calculate median of predictions for bagging\n",
    "median_predictions = np.median(predictions, axis=0).astype(int)\n",
    "results.append(['Manual Bagging with Median', accuracy_score(y_test, median_predictions)])"
   ]
  },
  {
   "cell_type": "markdown",
   "id": "d889584c",
   "metadata": {},
   "source": [
    "This section demonstrates another way to aggregate predictions by using the median. It then stores the results."
   ]
  },
  {
   "cell_type": "markdown",
   "id": "9ab45964",
   "metadata": {},
   "source": [
    "#### 2.2.5.10 Convert Results to DataFrame and Display"
   ]
  },
  {
   "cell_type": "code",
   "execution_count": 41,
   "id": "ed949f7b",
   "metadata": {},
   "outputs": [
    {
     "data": {
      "text/html": [
       "<div>\n",
       "<style scoped>\n",
       "    .dataframe tbody tr th:only-of-type {\n",
       "        vertical-align: middle;\n",
       "    }\n",
       "\n",
       "    .dataframe tbody tr th {\n",
       "        vertical-align: top;\n",
       "    }\n",
       "\n",
       "    .dataframe thead th {\n",
       "        text-align: right;\n",
       "    }\n",
       "</style>\n",
       "<table border=\"1\" class=\"dataframe\">\n",
       "  <thead>\n",
       "    <tr style=\"text-align: right;\">\n",
       "      <th></th>\n",
       "      <th>Model</th>\n",
       "      <th>Accuracy</th>\n",
       "    </tr>\n",
       "  </thead>\n",
       "  <tbody>\n",
       "    <tr>\n",
       "      <th>0</th>\n",
       "      <td>Manual Bagging (Mode)</td>\n",
       "      <td>0.844500</td>\n",
       "    </tr>\n",
       "    <tr>\n",
       "      <th>1</th>\n",
       "      <td>Manual Bagging with Median</td>\n",
       "      <td>0.841167</td>\n",
       "    </tr>\n",
       "    <tr>\n",
       "      <th>2</th>\n",
       "      <td>Random Forest (5 trees)</td>\n",
       "      <td>0.827667</td>\n",
       "    </tr>\n",
       "    <tr>\n",
       "      <th>3</th>\n",
       "      <td>Simple Decision Tree</td>\n",
       "      <td>0.810500</td>\n",
       "    </tr>\n",
       "  </tbody>\n",
       "</table>\n",
       "</div>"
      ],
      "text/plain": [
       "                        Model  Accuracy\n",
       "0       Manual Bagging (Mode)  0.844500\n",
       "1  Manual Bagging with Median  0.841167\n",
       "2     Random Forest (5 trees)  0.827667\n",
       "3        Simple Decision Tree  0.810500"
      ]
     },
     "execution_count": 41,
     "metadata": {},
     "output_type": "execute_result"
    }
   ],
   "source": [
    "# Convert the results list to a DataFrame and display it\n",
    "df_results = pd.DataFrame(results, columns=['Model', 'Accuracy'])\n",
    "\n",
    "# Sort the DataFrame based on the 'Accuracy' column in descending order\n",
    "df_results = df_results.sort_values(by='Accuracy', ascending=False).reset_index(drop=True)\n",
    "\n",
    "# Display the sorted DataFrame\n",
    "df_results.head()"
   ]
  },
  {
   "cell_type": "markdown",
   "id": "3fee881a",
   "metadata": {},
   "source": [
    "This converts the **results** list into a pandas DataFrame and displays it for easy comparison of model accuracies."
   ]
  },
  {
   "cell_type": "markdown",
   "id": "c894ca01",
   "metadata": {},
   "source": [
    "### 2.2.6 Exercise"
   ]
  },
  {
   "cell_type": "markdown",
   "id": "8b3ef24b",
   "metadata": {},
   "source": [
    "- Question: What is the main principle behind the Bagging technique? How does it help in reducing overfitting?\n",
    "- Answer:\n",
    "\n"
   ]
  },
  {
   "cell_type": "markdown",
   "id": "b1b71297",
   "metadata": {},
   "source": [
    "## 2.3 Bagging (Bootstrap Aggregating)\n",
    "\n",
    "### 2.3.1 Definition and Purpose of Boosting:\n",
    "\n",
    "- Boosting is an ensemble learning technique that focuses on creating a strong learner by combining multiple weak learners iteratively.\n",
    "- The main purpose of boosting is to improve the accuracy and performance of predictive models by giving more emphasis to misclassified instances during training.\n",
    "- Boosting learns from its mistakes in an adaptive manner, continually refining its predictions to achieve high accuracy on complex datasets.\n",
    "\n",
    "\n",
    "### 2.3.2 How Boosting Works:\n",
    "\n",
    "1. Sequential Learning and Weighted Misclassifications:\n",
    "- Boosting works in a sequential manner, where each base learner is trained based on the performance of the previous ones.\n",
    "- During training, it assigns higher weights to misclassified instances, making them more influential in subsequent iterations.\n",
    "\n",
    "\n",
    "2. Iterative Training of Base Learners:\n",
    "- In each iteration, a new base learner is trained to correct the mistakes made by the ensemble so far.\n",
    "- The base learners are typically weak models (e.g., shallow decision trees) to avoid overfitting and maintain interpretability.\n",
    "\n",
    "\n",
    "3. Emphasizing Difficult Instances:\n",
    "- Boosting focuses on challenging instances that are frequently misclassified by previous base learners.\n",
    "- By repeatedly emphasizing these difficult instances, boosting ensures that the ensemble model pays more attention to them and gradually improves its performance.\n",
    "\n",
    "\n",
    "\n",
    "### 2.3.3 Advantages of Boosting:\n",
    "\n",
    "1. Adaptive Learning and High Accuracy:\n",
    "- Boosting's adaptive learning approach allows it to learn from misclassifications and significantly improve predictive accuracy.\n",
    "- It is particularly effective in handling complex relationships in data, making it suitable for various real-world applications.\n",
    "\n",
    "\n",
    "2. Model Versatility and Feature Importance:\n",
    "- Boosting can be applied with various base learners, such as decision trees, SVMs, and neural networks.\n",
    "- Additionally, many boosting algorithms provide feature importance scores, enabling us to identify the most influential features in the model's decision-making process.\n",
    "\n",
    "\n",
    "### 2.3.4 Common Algorithms Using Boosting:\n",
    "\n",
    "1. AdaBoost (Adaptive Boosting):\n",
    "- AdaBoost is one of the earliest and most popular boosting algorithms.\n",
    "- It assigns higher weights to misclassified instances and combines the predictions of weak learners to create a strong ensemble model.\n",
    "- AdaBoost is suitable for both classification and regression tasks.\n",
    "\n",
    "\n",
    "2. Gradient Boosting Machines (GBM):\n",
    "- GBM builds base learners sequentially, focusing on the gradients of the loss function to optimize the model's performance.\n",
    "- It uses a process called gradient descent to minimize the errors in each iteration.\n",
    "- GBM is widely used for regression and classification tasks and is known for its high accuracy and flexibility.\n",
    "\n",
    "\n",
    "3. XGBoost and LightGBM:\n",
    "- XGBoost and LightGBM are optimized implementations of gradient boosting that are efficient and scalable.\n",
    "- They utilize advanced techniques like parallel processing and tree-pruning to achieve better performance.\n",
    "- These algorithms are popular in data science competitions and real-world applications due to their speed and accuracy.\n",
    "\n",
    "\n"
   ]
  },
  {
   "cell_type": "markdown",
   "id": "26082e75",
   "metadata": {},
   "source": [
    "### 2.3.5 Coding Example with AdaBoost (Python and scikit-learn):"
   ]
  },
  {
   "cell_type": "code",
   "execution_count": 42,
   "id": "c85d1096",
   "metadata": {},
   "outputs": [],
   "source": [
    "import pandas as pd\n",
    "from sklearn.datasets import fetch_openml\n",
    "from sklearn.tree import DecisionTreeClassifier\n",
    "from sklearn.ensemble import RandomForestClassifier, AdaBoostClassifier\n",
    "from sklearn.model_selection import train_test_split\n",
    "from sklearn.metrics import accuracy_score\n",
    "from sklearn.utils import resample\n",
    "import numpy as np"
   ]
  },
  {
   "cell_type": "markdown",
   "id": "859ce872",
   "metadata": {},
   "source": [
    "This section imports all the necessary libraries and modules we'll use throughout the demonstration."
   ]
  },
  {
   "cell_type": "markdown",
   "id": "b2d9df97",
   "metadata": {},
   "source": [
    "#### 2.3.5.1 Load and preprocess data"
   ]
  },
  {
   "cell_type": "code",
   "execution_count": 43,
   "id": "27d73405",
   "metadata": {},
   "outputs": [],
   "source": [
    "# Load the covertype dataset from OpenML\n",
    "covertype = fetch_openml('covertype', version=4)\n",
    "X = covertype.data\n",
    "y = covertype.target.astype('int') - 1  # Shift labels to range 0-6\n",
    "\n",
    "# Select a subset of data for demonstration purposes (and for faster execution)\n",
    "X = X[:20000]\n",
    "y = y[:20000]"
   ]
  },
  {
   "cell_type": "markdown",
   "id": "acfd6b1f",
   "metadata": {},
   "source": [
    "#### 2.3.5.2 Split data into training and test sets"
   ]
  },
  {
   "cell_type": "code",
   "execution_count": 44,
   "id": "d556aecb",
   "metadata": {},
   "outputs": [],
   "source": [
    "# Split data into training (70%) and testing (30%) sets\n",
    "X_train, X_test, y_train, y_test = train_test_split(X, y, test_size=0.3, random_state=42)"
   ]
  },
  {
   "cell_type": "markdown",
   "id": "993c6cf1",
   "metadata": {},
   "source": [
    "This line splits our data into training and test sets. 70% of the data is used for training and 30% for testing."
   ]
  },
  {
   "cell_type": "markdown",
   "id": "f5ca74ee",
   "metadata": {},
   "source": [
    "#### 2.3.5.4 Initialize a list to store results"
   ]
  },
  {
   "cell_type": "code",
   "execution_count": 45,
   "id": "1ef8aaa2",
   "metadata": {},
   "outputs": [],
   "source": [
    "# Initialize list to store results of each model\n",
    "results = []"
   ]
  },
  {
   "cell_type": "markdown",
   "id": "0b152d50",
   "metadata": {},
   "source": [
    "We'll store the accuracy results of each model in this list and then convert it to a DataFrame at the end."
   ]
  },
  {
   "cell_type": "markdown",
   "id": "7119fdb9",
   "metadata": {},
   "source": [
    "#### 2.3.5.5 Train and test a simple decision tree classifier"
   ]
  },
  {
   "cell_type": "code",
   "execution_count": 46,
   "id": "5756c814",
   "metadata": {},
   "outputs": [],
   "source": [
    "# Train and test a simple decision tree classifier\n",
    "tree = DecisionTreeClassifier(max_depth=1)  # Setting depth to 1, as AdaBoost typically uses 'stumps'\n",
    "tree.fit(X_train, y_train)\n",
    "tree_pred = tree.predict(X_test)\n",
    "results.append(['Simple Decision Tree', accuracy_score(y_test, tree_pred)])"
   ]
  },
  {
   "cell_type": "markdown",
   "id": "6d458675",
   "metadata": {},
   "source": [
    "We train a simple decision tree \"stump\" (tree of depth 1) on the training data and then predict and evaluate its accuracy on the test set."
   ]
  },
  {
   "cell_type": "markdown",
   "id": "2e66cb43",
   "metadata": {},
   "source": [
    "#### 2.3.5.6 Train and test AdaBoost with 5 weak learners"
   ]
  },
  {
   "cell_type": "code",
   "execution_count": 47,
   "id": "1c8eea3e",
   "metadata": {},
   "outputs": [],
   "source": [
    "# Train and test AdaBoost with 20 weak learners (stumps)\n",
    "adaboost = AdaBoostClassifier(base_estimator=DecisionTreeClassifier(max_depth=1), \n",
    "                              n_estimators=20, random_state=42)\n",
    "adaboost.fit(X_train, y_train)\n",
    "adaboost_pred = adaboost.predict(X_test)\n",
    "results.append(['AdaBoost (20 learners)', accuracy_score(y_test, adaboost_pred)])"
   ]
  },
  {
   "cell_type": "markdown",
   "id": "f2e52825",
   "metadata": {},
   "source": [
    "Here, we train an AdaBoost classifier using decision tree stumps as weak learners. We use 5 such stumps. After training, we predict on the test set and evaluate the accuracy."
   ]
  },
  {
   "cell_type": "markdown",
   "id": "e8224abd",
   "metadata": {},
   "source": [
    "#### 2.3.5.7 Convert the results list to a sorted DataFrame and display it"
   ]
  },
  {
   "cell_type": "code",
   "execution_count": 48,
   "id": "b921b243",
   "metadata": {},
   "outputs": [
    {
     "data": {
      "text/html": [
       "<div>\n",
       "<style scoped>\n",
       "    .dataframe tbody tr th:only-of-type {\n",
       "        vertical-align: middle;\n",
       "    }\n",
       "\n",
       "    .dataframe tbody tr th {\n",
       "        vertical-align: top;\n",
       "    }\n",
       "\n",
       "    .dataframe thead th {\n",
       "        text-align: right;\n",
       "    }\n",
       "</style>\n",
       "<table border=\"1\" class=\"dataframe\">\n",
       "  <thead>\n",
       "    <tr style=\"text-align: right;\">\n",
       "      <th></th>\n",
       "      <th>Model</th>\n",
       "      <th>Accuracy</th>\n",
       "    </tr>\n",
       "  </thead>\n",
       "  <tbody>\n",
       "    <tr>\n",
       "      <th>0</th>\n",
       "      <td>AdaBoost (20 learners)</td>\n",
       "      <td>0.480333</td>\n",
       "    </tr>\n",
       "    <tr>\n",
       "      <th>1</th>\n",
       "      <td>Simple Decision Tree</td>\n",
       "      <td>0.398500</td>\n",
       "    </tr>\n",
       "  </tbody>\n",
       "</table>\n",
       "</div>"
      ],
      "text/plain": [
       "                    Model  Accuracy\n",
       "0  AdaBoost (20 learners)  0.480333\n",
       "1    Simple Decision Tree  0.398500"
      ]
     },
     "execution_count": 48,
     "metadata": {},
     "output_type": "execute_result"
    }
   ],
   "source": [
    "# Convert the results list to a DataFrame\n",
    "df_results = pd.DataFrame(results, columns=['Model', 'Accuracy'])\n",
    "\n",
    "# Sort the DataFrame based on the 'Accuracy' column in descending order\n",
    "df_results = df_results.sort_values(by='Accuracy', ascending=False).reset_index(drop=True)\n",
    "\n",
    "# Display the sorted DataFrame\n",
    "df_results.head()"
   ]
  },
  {
   "cell_type": "markdown",
   "id": "e171e0e4",
   "metadata": {},
   "source": [
    "### 2.3.6 Exercise"
   ]
  },
  {
   "cell_type": "markdown",
   "id": "e244db99",
   "metadata": {},
   "source": [
    "- Question: Describe how boosting works. How is it different from bagging?"
   ]
  },
  {
   "cell_type": "markdown",
   "id": "ec2084e7",
   "metadata": {},
   "source": [
    "## 2.4 Strengths and Weaknesses"
   ]
  },
  {
   "cell_type": "markdown",
   "id": "f2d51017",
   "metadata": {},
   "source": [
    "### 2.4.1 Comparison of Bagging and Boosting:\n",
    "\n",
    "- Bagging and Boosting are both ensemble learning techniques that combine multiple models to improve predictive performance.\n",
    "- Bagging aims to reduce variance and overfitting by aggregating predictions from diverse models.\n",
    "- Boosting focuses on adaptive learning and aims to correct mistakes made by previous base learners in an iterative manner.\n",
    "\n",
    "\n",
    "### 2.4.2 Strengths of Bagging:\n",
    "\n",
    "1. Reduced Variance and Overfitting:\n",
    "- Bagging reduces the risk of overfitting by combining predictions from multiple models with diverse training subsets.\n",
    "\n",
    "2. Robustness to Noisy Data:\n",
    "- Bagging is robust to noisy data and outliers since it aggregates predictions, minimizing the impact of individual data points.\n",
    "\n",
    "3. Efficient Parallelization:\n",
    "- Training base learners in bagging can be easily parallelized, making it efficient and scalable.\n",
    "\n",
    "\n",
    "### 2.4.3 Weaknesses of Bagging:\n",
    "\n",
    "1. Lack of Interpretability:\n",
    "- The ensemble model in bagging may lack interpretability, especially if the base learners are complex models like Random Forest.\n",
    "\n",
    "\n",
    "2. Bias Preservation:\n",
    "- Bagging may not address bias in the base learners; if the base models are biased, the ensemble may inherit the bias.\n",
    "\n",
    "\n",
    "3. Limited Performance Improvement:\n",
    "- Bagging may not improve performance significantly if the base learners are already strong and diverse.\n",
    "\n",
    "\n",
    "\n",
    "### 2.4.4 Strengths of Boosting:\n",
    "1. Adaptive Learning and High Accuracy:\n",
    "- Boosting adaptively learns from mistakes and focuses on challenging instances, leading to high accuracy.\n",
    "2. Model Versatility and Feature Importance:\n",
    "- Boosting can be used with various base learners and often provides feature importance scores for better understanding.\n",
    "\n",
    "\n",
    "\n",
    "### 2.4.5 Weaknesses of Boosting:\n",
    "1. Sensitivity to Noisy Data and Outliers:\n",
    "- Boosting may be sensitive to noisy data and outliers, affecting model performance.\n",
    "2. Slower Training and Limited Parallelization:\n",
    "- Training base learners sequentially makes boosting slower than bagging, and it may be less efficient to parallelize.\n",
    "3. Potential Overfitting:\n",
    "- Boosting may be prone to overfitting, especially if the number of iterations is too high.\n",
    "\n",
    "\n",
    "### 2.4.6 Choosing Between Bagging and Boosting: Considerations:\n",
    "- The choice between bagging and boosting depends on the dataset, the complexity of the problem, and the available computational resources.\n",
    "- Bagging is suitable when the base models are diverse and the goal is to reduce variance and overfitting.\n",
    "- Boosting is preferred when high accuracy is crucial, and the dataset is not significantly affected by noisy data and outliers."
   ]
  },
  {
   "cell_type": "markdown",
   "id": "70e69041",
   "metadata": {},
   "source": [
    "## 2.5 Strengths and Weaknesses"
   ]
  },
  {
   "cell_type": "markdown",
   "id": "716da0a9",
   "metadata": {},
   "source": [
    "1. High Variance Model:\n",
    "- You've trained a deep decision tree on your dataset and noticed that it performs extremely well on the training data but poorly on the validation data.\n",
    "\n",
    "- Question: Which ensemble technique might help remedy this, bagging or boosting?\n",
    "\n",
    "2. High Bias Model:\n",
    "- Your team trained a shallow decision tree (i.e., a decision stump) on a complex dataset. The model performs poorly on both training and validation sets.\n",
    "\n",
    "- Question: Which ensemble technique might help improve this model's performance, bagging or boosting?\n",
    "\n",
    "3. Large Dataset:\n",
    "- You have a very large dataset and are concerned about the training time. You're considering an ensemble technique to improve your model's performance.\n",
    "\n",
    "- Question: Which technique, bagging or boosting, would typically be faster in training?\n",
    "\n",
    "4. Noisy Data:\n",
    "- Your dataset contains a significant amount of noise, and outliers are causing models to underperform.\n",
    "\n",
    "- Question: Which ensemble method, bagging or boosting, might be more robust to such noise and why?\n",
    "\n",
    "5. Model Diversity:\n",
    "- You're working on an ensemble model, and you have access to various diverse base models. You believe the errors in these models are largely uncorrelated.\n",
    "\n",
    "- Question: Which ensemble technique might benefit more from this diversity, bagging or boosting?\n",
    "\n",
    "6. Information on Error Types:\n",
    "- After evaluating a model, you've noticed that it's making many types of errors, but the frequency of each type is low.\n",
    "\n",
    "- Question: If you had to choose an ensemble technique to correct diverse error types, would you pick bagging or boosting?\n",
    "\n",
    "7. Final Model Interpretability:\n",
    "- You're working on a healthcare project where the interpretability of the model is crucial. Doctors want to understand how the model makes decisions.\n",
    "\n",
    "- Question: Which ensemble technique, bagging or boosting, might be more challenging in terms of interpretability, and why?\n"
   ]
  },
  {
   "cell_type": "markdown",
   "id": "643f81ca",
   "metadata": {},
   "source": [
    "# 3. Supply chain example"
   ]
  },
  {
   "cell_type": "markdown",
   "id": "cf65056b",
   "metadata": {},
   "source": [
    "## 3.1 Introduction to the Dataset"
   ]
  },
  {
   "cell_type": "markdown",
   "id": "8d954b4e",
   "metadata": {},
   "source": [
    "The dataset at hand is a comprehensive sales record dataset provided by a a renowned consumer goods company. In here, we can it \"company A\". This dataset aims to facilitate the prediction of item sales quantities in each unit (EA) using various informative features. The dataset encompasses a wide range of variables that provide insights into the sales dynamics and factors influencing consumer behavior.\n",
    "\n",
    "\n",
    "### Objective:\n",
    "\n",
    "The primary objective of this dataset is to develop a predictive model that accurately estimates the sales quantity of each item (Pos_Qty_EA) based on the provided features. By leveraging the historical sales data, \"company A\" aims to forecast item sales more effectively, optimize inventory management, and make data-driven decisions to maximize sales revenue and profitability.\n",
    "\n",
    "Additionally, this dataset can be utilized to gain insights into the factors that drive or hinder sales, assess the impact of promotional activities, evaluate the performance of different store banners, and analyze the influence of pricing tiers on consumer behavior.\n",
    "\n",
    "Through detailed exploration and analysis of this dataset, Nestle can enhance its understanding of market dynamics, improve sales forecasting accuracy, and make informed business decisions that align with customer demands and preferences."
   ]
  },
  {
   "cell_type": "markdown",
   "id": "2d37b4cd",
   "metadata": {},
   "source": [
    "## 3.2 Preparation"
   ]
  },
  {
   "cell_type": "code",
   "execution_count": 49,
   "id": "8f55d84d",
   "metadata": {},
   "outputs": [],
   "source": [
    "import pandas as pd\n",
    "import numpy as np\n",
    "import matplotlib.pyplot as plt\n",
    "from matplotlib import pyplot\n",
    "import seaborn as sns\n",
    "import warnings\n",
    "\n",
    "# Ignore all warnings\n",
    "warnings.filterwarnings(\"ignore\")"
   ]
  },
  {
   "cell_type": "code",
   "execution_count": 50,
   "id": "11218425",
   "metadata": {},
   "outputs": [
    {
     "name": "stdout",
     "output_type": "stream",
     "text": [
      "fatal: destination path 'MLcmore2023' already exists and is not an empty directory.\r\n"
     ]
    }
   ],
   "source": [
    "# get all the files from github\n",
    "!git clone https://github.com/MLcmore2023/MLcmore2023.git"
   ]
  },
  {
   "cell_type": "code",
   "execution_count": 51,
   "id": "b420051b",
   "metadata": {},
   "outputs": [
    {
     "name": "stdout",
     "output_type": "stream",
     "text": [
      "zsh:1: no matches found: ./MLcmore2023/day2_am_morning/*\r\n"
     ]
    }
   ],
   "source": [
    "!mv ./MLcmore2023/'day2_am_morning'/* ./MLcmore2023/'day2_am_morning'/.* ./"
   ]
  },
  {
   "cell_type": "code",
   "execution_count": 52,
   "id": "429d93fd",
   "metadata": {},
   "outputs": [],
   "source": [
    "df = pd.read_csv('data.csv')"
   ]
  },
  {
   "cell_type": "code",
   "execution_count": 53,
   "id": "6503bd3c",
   "metadata": {},
   "outputs": [
    {
     "data": {
      "text/html": [
       "<div>\n",
       "<style scoped>\n",
       "    .dataframe tbody tr th:only-of-type {\n",
       "        vertical-align: middle;\n",
       "    }\n",
       "\n",
       "    .dataframe tbody tr th {\n",
       "        vertical-align: top;\n",
       "    }\n",
       "\n",
       "    .dataframe thead th {\n",
       "        text-align: right;\n",
       "    }\n",
       "</style>\n",
       "<table border=\"1\" class=\"dataframe\">\n",
       "  <thead>\n",
       "    <tr style=\"text-align: right;\">\n",
       "      <th></th>\n",
       "      <th>MATERIAL</th>\n",
       "      <th>source</th>\n",
       "      <th>Banner</th>\n",
       "      <th>Plan_Banner</th>\n",
       "      <th>Plan_Region</th>\n",
       "      <th>CL4Key</th>\n",
       "      <th>CL6Key</th>\n",
       "      <th>Pos_Qty_EA</th>\n",
       "      <th>Pos_Sales</th>\n",
       "      <th>POS_QTY_CS</th>\n",
       "      <th>...</th>\n",
       "      <th>Baseline_Nps</th>\n",
       "      <th>Incr_Sales</th>\n",
       "      <th>PromoId</th>\n",
       "      <th>PromoDuration</th>\n",
       "      <th>MATERIALDESC</th>\n",
       "      <th>SUB_CATEGORY</th>\n",
       "      <th>SUB_CATEGORY_DESC</th>\n",
       "      <th>CATEGORY</th>\n",
       "      <th>CATEGORY_DESC</th>\n",
       "      <th>FGroup_Desc</th>\n",
       "    </tr>\n",
       "  </thead>\n",
       "  <tbody>\n",
       "    <tr>\n",
       "      <th>0</th>\n",
       "      <td>11001187</td>\n",
       "      <td>Company A</td>\n",
       "      <td>Company A ONTARIO</td>\n",
       "      <td>Company A</td>\n",
       "      <td>ONTARIO</td>\n",
       "      <td>292278</td>\n",
       "      <td>292696</td>\n",
       "      <td>69</td>\n",
       "      <td>186.15</td>\n",
       "      <td>8.625</td>\n",
       "      <td>...</td>\n",
       "      <td>328.16</td>\n",
       "      <td>-125.99</td>\n",
       "      <td>1358399</td>\n",
       "      <td>35</td>\n",
       "      <td>STOUFFER'S BST Italian 5 Cheese 8x256gCA</td>\n",
       "      <td>CAKK1K112</td>\n",
       "      <td>STF BISTRO CRUSTINI</td>\n",
       "      <td>CAKK1</td>\n",
       "      <td>FROZEN MEALS</td>\n",
       "      <td>CEF - CA Bistro 8pk</td>\n",
       "    </tr>\n",
       "    <tr>\n",
       "      <th>1</th>\n",
       "      <td>11001187</td>\n",
       "      <td>Company A</td>\n",
       "      <td>Company A ONTARIO</td>\n",
       "      <td>Company A</td>\n",
       "      <td>ONTARIO</td>\n",
       "      <td>292278</td>\n",
       "      <td>292696</td>\n",
       "      <td>60</td>\n",
       "      <td>161.86</td>\n",
       "      <td>7.500</td>\n",
       "      <td>...</td>\n",
       "      <td>328.16</td>\n",
       "      <td>-152.36</td>\n",
       "      <td>1358399</td>\n",
       "      <td>35</td>\n",
       "      <td>STOUFFER'S BST Italian 5 Cheese 8x256gCA</td>\n",
       "      <td>CAKK1K112</td>\n",
       "      <td>STF BISTRO CRUSTINI</td>\n",
       "      <td>CAKK1</td>\n",
       "      <td>FROZEN MEALS</td>\n",
       "      <td>CEF - CA Bistro 8pk</td>\n",
       "    </tr>\n",
       "  </tbody>\n",
       "</table>\n",
       "<p>2 rows × 27 columns</p>\n",
       "</div>"
      ],
      "text/plain": [
       "   MATERIAL     source             Banner Plan_Banner Plan_Region  CL4Key  \\\n",
       "0  11001187  Company A  Company A ONTARIO   Company A     ONTARIO  292278   \n",
       "1  11001187  Company A  Company A ONTARIO   Company A     ONTARIO  292278   \n",
       "\n",
       "   CL6Key  Pos_Qty_EA  Pos_Sales  POS_QTY_CS  ...  Baseline_Nps Incr_Sales  \\\n",
       "0  292696          69     186.15       8.625  ...        328.16    -125.99   \n",
       "1  292696          60     161.86       7.500  ...        328.16    -152.36   \n",
       "\n",
       "   PromoId  PromoDuration                              MATERIALDESC  \\\n",
       "0  1358399             35  STOUFFER'S BST Italian 5 Cheese 8x256gCA   \n",
       "1  1358399             35  STOUFFER'S BST Italian 5 Cheese 8x256gCA   \n",
       "\n",
       "   SUB_CATEGORY    SUB_CATEGORY_DESC  CATEGORY  CATEGORY_DESC  \\\n",
       "0     CAKK1K112  STF BISTRO CRUSTINI     CAKK1   FROZEN MEALS   \n",
       "1     CAKK1K112  STF BISTRO CRUSTINI     CAKK1   FROZEN MEALS   \n",
       "\n",
       "           FGroup_Desc  \n",
       "0  CEF - CA Bistro 8pk  \n",
       "1  CEF - CA Bistro 8pk  \n",
       "\n",
       "[2 rows x 27 columns]"
      ]
     },
     "execution_count": 53,
     "metadata": {},
     "output_type": "execute_result"
    }
   ],
   "source": [
    "df.head(2)"
   ]
  },
  {
   "cell_type": "code",
   "execution_count": 54,
   "id": "3c8e5e2c",
   "metadata": {},
   "outputs": [
    {
     "name": "stdout",
     "output_type": "stream",
     "text": [
      "<class 'pandas.core.frame.DataFrame'>\n",
      "RangeIndex: 5533 entries, 0 to 5532\n",
      "Data columns (total 27 columns):\n",
      " #   Column              Non-Null Count  Dtype  \n",
      "---  ------              --------------  -----  \n",
      " 0   MATERIAL            5533 non-null   int64  \n",
      " 1   source              5533 non-null   object \n",
      " 2   Banner              5533 non-null   object \n",
      " 3   Plan_Banner         5533 non-null   object \n",
      " 4   Plan_Region         5533 non-null   object \n",
      " 5   CL4Key              5533 non-null   int64  \n",
      " 6   CL6Key              5533 non-null   int64  \n",
      " 7   Pos_Qty_EA          5533 non-null   int64  \n",
      " 8   Pos_Sales           5533 non-null   float64\n",
      " 9   POS_QTY_CS          5533 non-null   float64\n",
      " 10  UBP                 5533 non-null   float64\n",
      " 11  UNIT                5533 non-null   object \n",
      " 12  FACTOR_EACH         5533 non-null   int64  \n",
      " 13  PER_SALES_UOM_CASE  5533 non-null   int64  \n",
      " 14  Complete_PPG        5533 non-null   object \n",
      " 15  Total_Sales         5533 non-null   float64\n",
      " 16  Baseline_Qty        5533 non-null   int64  \n",
      " 17  Baseline_Nps        5533 non-null   float64\n",
      " 18  Incr_Sales          5533 non-null   float64\n",
      " 19  PromoId             5533 non-null   int64  \n",
      " 20  PromoDuration       5533 non-null   int64  \n",
      " 21  MATERIALDESC        5533 non-null   object \n",
      " 22  SUB_CATEGORY        5533 non-null   object \n",
      " 23  SUB_CATEGORY_DESC   5533 non-null   object \n",
      " 24  CATEGORY            5533 non-null   object \n",
      " 25  CATEGORY_DESC       5533 non-null   object \n",
      " 26  FGroup_Desc         5533 non-null   object \n",
      "dtypes: float64(6), int64(9), object(12)\n",
      "memory usage: 1.1+ MB\n"
     ]
    }
   ],
   "source": [
    "df.info()"
   ]
  },
  {
   "cell_type": "markdown",
   "id": "5efc6eae",
   "metadata": {},
   "source": [
    "### Features Explanation:\n",
    "\n",
    "\n",
    "1. MATERIAL: The unique identifier for each item in the dataset.\n",
    "2. source: The source of the sales data (e.g., point of sale systems, online sales platform, etc.).\n",
    "3. Banner: The name or identifier of the retail banner (store brand) where the item was sold.\n",
    "4. Plan_Banner: The planned retail banner for the item.\n",
    "5. Plan_Region: The planned region for the item's sales.\n",
    "6. CL4Key: The identifier for a higher-level category or classification level 4 of the item.\n",
    "7. CL6Key: The identifier for a lower-level category or classification level 6 of the item.\n",
    "8. Pos_Qty_EA: The sales quantity of the item in each unit (target variable).\n",
    "9. Pos_Sales: The sales amount or revenue generated from the item.\n",
    "10. POS_QTY_CS: The sales quantity of the item in case units (CS stands for case).\n",
    "11. UBP: The unit buying price, which represents the cost of purchasing the item.\n",
    "12. UNIT: The unit of measure for the item's sales quantity (EA or CS).\n",
    "13. FACTOR_EACH: The conversion factor between each unit (EA) and case unit (CS).\n",
    "14. PER_SALES_UOM_CASE: The sales quantity per unit of measure (case) for the item.\n",
    "15. Complete_PPG: The identifier for a complete product group, which represents a broader category or grouping of items.\n",
    "16. Total_Sales: The total sales amount or revenue for all items.\n",
    "17. Baseline_Qty: The baseline or expected sales quantity for the item.\n",
    "18. Baseline_Nps: The baseline or expected net promoter score (NPS) associated with the item.\n",
    "19. Incr_Sales: The incremental or additional sales generated by a promotional activity or event.\n",
    "20. PromoId: The identifier for a specific promotional activity or event.\n",
    "21. PromoDuration: The duration of the promotional activity or event.\n",
    "22. MATERIALDESC: A description or name of the item.\n",
    "23. SUB_CATEGORY: The identifier for a sub-category of the item.\n",
    "24. SUB_CATEGORY_DESC: A description or name of the sub-category.\n",
    "25. CATEGORY: The identifier for the category of the item.\n",
    "26. CATEGORY_DESC: A description or name of the category.\n",
    "27. FGroup_Desc: A description or name of the item's functional group.\n"
   ]
  },
  {
   "cell_type": "markdown",
   "id": "bdf354f6",
   "metadata": {},
   "source": [
    "## 3.3 Data Cleaning"
   ]
  },
  {
   "cell_type": "markdown",
   "id": "f6620216",
   "metadata": {},
   "source": [
    "### 3.3.1 Check for Missing Values"
   ]
  },
  {
   "cell_type": "code",
   "execution_count": 55,
   "id": "3b77a83a",
   "metadata": {},
   "outputs": [
    {
     "name": "stdout",
     "output_type": "stream",
     "text": [
      "MATERIAL              0\n",
      "source                0\n",
      "Banner                0\n",
      "Plan_Banner           0\n",
      "Plan_Region           0\n",
      "CL4Key                0\n",
      "CL6Key                0\n",
      "Pos_Qty_EA            0\n",
      "Pos_Sales             0\n",
      "POS_QTY_CS            0\n",
      "UBP                   0\n",
      "UNIT                  0\n",
      "FACTOR_EACH           0\n",
      "PER_SALES_UOM_CASE    0\n",
      "Complete_PPG          0\n",
      "Total_Sales           0\n",
      "Baseline_Qty          0\n",
      "Baseline_Nps          0\n",
      "Incr_Sales            0\n",
      "PromoId               0\n",
      "PromoDuration         0\n",
      "MATERIALDESC          0\n",
      "SUB_CATEGORY          0\n",
      "SUB_CATEGORY_DESC     0\n",
      "CATEGORY              0\n",
      "CATEGORY_DESC         0\n",
      "FGroup_Desc           0\n",
      "dtype: int64\n"
     ]
    }
   ],
   "source": [
    "# Check for missing values\n",
    "print(df.isnull().sum())"
   ]
  },
  {
   "cell_type": "markdown",
   "id": "9122f728",
   "metadata": {},
   "source": [
    "Since the datasets do not contain any missing values, we can proceed to the next step. Let us now examine each feature one by one."
   ]
  },
  {
   "cell_type": "markdown",
   "id": "f8060399",
   "metadata": {},
   "source": [
    "### 3.3.2 Check for Duplicate Values"
   ]
  },
  {
   "cell_type": "code",
   "execution_count": 56,
   "id": "727bc59a",
   "metadata": {},
   "outputs": [
    {
     "name": "stdout",
     "output_type": "stream",
     "text": [
      "Duplicate rows found:\n",
      "      MATERIAL     source             Banner    Plan_Banner Plan_Region  \\\n",
      "49    11001187  Company A  Company A ONTARIO      Company A     ONTARIO   \n",
      "51    11001187  Company A  Company A ONTARIO      Company A     ONTARIO   \n",
      "61    11001187  Company A  Company A ONTARIO      Company A     ONTARIO   \n",
      "62    11001187  Company A  Company A ONTARIO      Company A     ONTARIO   \n",
      "64    11001187  Company A  Company A ONTARIO      Company A     ONTARIO   \n",
      "...        ...        ...                ...            ...         ...   \n",
      "5421  12404640  Company A    Company A Super  Company A Sup      QUEBEC   \n",
      "5422  12404640  Company A    Company A Super  Company A Sup      QUEBEC   \n",
      "5423  12404640  Company A    Company A Super  Company A Sup      QUEBEC   \n",
      "5425  12404640  Company A    Company A Super  Company A Sup      QUEBEC   \n",
      "5426  12404640  Company A    Company A Super  Company A Sup      QUEBEC   \n",
      "\n",
      "      CL4Key  CL6Key  Pos_Qty_EA  Pos_Sales  POS_QTY_CS  ...  Baseline_Nps  \\\n",
      "49    292278  292696          86     257.14      10.750  ...        187.52   \n",
      "51    292278  292696          86     257.14      10.750  ...        187.52   \n",
      "61    292278  292696          70     209.30       8.750  ...        210.96   \n",
      "62    292278  292696          70     209.30       8.750  ...        210.96   \n",
      "64    292278  292696          63     188.37       7.875  ...        234.40   \n",
      "...      ...     ...         ...        ...         ...  ...           ...   \n",
      "5421  292279  292698          12      25.98       0.500  ...         43.00   \n",
      "5422  292279  292698          30      64.95       1.250  ...         43.00   \n",
      "5423  292279  292698          42      90.93       1.750  ...         43.00   \n",
      "5425  292279  292698          30      64.95       1.250  ...         43.00   \n",
      "5426  292279  292698          12      25.98       0.500  ...         43.00   \n",
      "\n",
      "     Incr_Sales  PromoId  PromoDuration  \\\n",
      "49        64.46  1409719             49   \n",
      "51        64.46  1409719             49   \n",
      "61        -5.86  1409719             49   \n",
      "62        -5.86  1409719             49   \n",
      "64       -49.81  1409719             49   \n",
      "...         ...      ...            ...   \n",
      "5421     -21.50  1931110             92   \n",
      "5422      10.75  1931110             92   \n",
      "5423      32.25  1931110             92   \n",
      "5425      10.75  1931110             92   \n",
      "5426     -21.50  1931110             92   \n",
      "\n",
      "                                  MATERIALDESC  SUB_CATEGORY  \\\n",
      "49    STOUFFER'S BST Italian 5 Cheese 8x256gCA     CAKK1K112   \n",
      "51    STOUFFER'S BST Italian 5 Cheese 8x256gCA     CAKK1K112   \n",
      "61    STOUFFER'S BST Italian 5 Cheese 8x256gCA     CAKK1K112   \n",
      "62    STOUFFER'S BST Italian 5 Cheese 8x256gCA     CAKK1K112   \n",
      "64    STOUFFER'S BST Italian 5 Cheese 8x256gCA     CAKK1K112   \n",
      "...                                        ...           ...   \n",
      "5421  BOOST HP Strawberry Pris 4(6x237ml) N2CA     CAZZ1Z101   \n",
      "5422  BOOST HP Strawberry Pris 4(6x237ml) N2CA     CAZZ1Z101   \n",
      "5423  BOOST HP Strawberry Pris 4(6x237ml) N2CA     CAZZ1Z101   \n",
      "5425  BOOST HP Strawberry Pris 4(6x237ml) N2CA     CAZZ1Z101   \n",
      "5426  BOOST HP Strawberry Pris 4(6x237ml) N2CA     CAZZ1Z101   \n",
      "\n",
      "        SUB_CATEGORY_DESC  CATEGORY  CATEGORY_DESC                FGroup_Desc  \n",
      "49    STF BISTRO CRUSTINI     CAKK1   FROZEN MEALS        CEF - CA Bistro 8pk  \n",
      "51    STF BISTRO CRUSTINI     CAKK1   FROZEN MEALS        CEF - CA Bistro 8pk  \n",
      "61    STF BISTRO CRUSTINI     CAKK1   FROZEN MEALS        CEF - CA Bistro 8pk  \n",
      "62    STF BISTRO CRUSTINI     CAKK1   FROZEN MEALS        CEF - CA Bistro 8pk  \n",
      "64    STF BISTRO CRUSTINI     CAKK1   FROZEN MEALS        CEF - CA Bistro 8pk  \n",
      "...                   ...       ...            ...                        ...  \n",
      "5421                Boost     CAZZ1     NHS Retail  C00 - CA Boost Stnd 237ml  \n",
      "5422                Boost     CAZZ1     NHS Retail  C00 - CA Boost Stnd 237ml  \n",
      "5423                Boost     CAZZ1     NHS Retail  C00 - CA Boost Stnd 237ml  \n",
      "5425                Boost     CAZZ1     NHS Retail  C00 - CA Boost Stnd 237ml  \n",
      "5426                Boost     CAZZ1     NHS Retail  C00 - CA Boost Stnd 237ml  \n",
      "\n",
      "[948 rows x 27 columns]\n"
     ]
    }
   ],
   "source": [
    "duplicate_rows = df[df.duplicated(keep=False)]\n",
    "if not duplicate_rows.empty:\n",
    "    print(\"Duplicate rows found:\")\n",
    "    print(duplicate_rows)\n",
    "else:\n",
    "    print(\"No duplicate rows found in the dataset.\")"
   ]
  },
  {
   "cell_type": "markdown",
   "id": "0a5b6a4d",
   "metadata": {},
   "source": [
    "Duplicate entries have been detected. We'll proceed to remove them."
   ]
  },
  {
   "cell_type": "code",
   "execution_count": 57,
   "id": "75ad47a6",
   "metadata": {},
   "outputs": [],
   "source": [
    "# Drop duplicate rows\n",
    "df = df.drop_duplicates()"
   ]
  },
  {
   "cell_type": "code",
   "execution_count": 58,
   "id": "bfe89267",
   "metadata": {},
   "outputs": [
    {
     "name": "stdout",
     "output_type": "stream",
     "text": [
      "No duplicate rows found in the dataset.\n"
     ]
    }
   ],
   "source": [
    "duplicate_rows = df[df.duplicated(keep=False)]\n",
    "if not duplicate_rows.empty:\n",
    "    print(\"Duplicate rows found:\")\n",
    "    print(duplicate_rows)\n",
    "else:\n",
    "    print(\"No duplicate rows found in the dataset.\")"
   ]
  },
  {
   "cell_type": "markdown",
   "id": "5b4df8e9",
   "metadata": {},
   "source": [
    "## 3.4 Data Encoding"
   ]
  },
  {
   "cell_type": "markdown",
   "id": "cc95417f",
   "metadata": {},
   "source": [
    "### 3.4.1 Find all the Categorical Data (excluding integer and float columns)"
   ]
  },
  {
   "cell_type": "code",
   "execution_count": 59,
   "id": "19342c40",
   "metadata": {},
   "outputs": [
    {
     "name": "stdout",
     "output_type": "stream",
     "text": [
      "Categorical columns:\n",
      "Index(['source', 'Banner', 'Plan_Banner', 'Plan_Region', 'UNIT',\n",
      "       'Complete_PPG', 'MATERIALDESC', 'SUB_CATEGORY', 'SUB_CATEGORY_DESC',\n",
      "       'CATEGORY', 'CATEGORY_DESC', 'FGroup_Desc'],\n",
      "      dtype='object')\n",
      "There are 12 categorical features.\n"
     ]
    }
   ],
   "source": [
    "categorical_columns = df.select_dtypes(exclude=['int', 'float']).columns\n",
    "\n",
    "print(\"Categorical columns:\")\n",
    "print(categorical_columns)\n",
    "print(\"There are \" + str(len(categorical_columns)) + \" categorical features.\")"
   ]
  },
  {
   "cell_type": "markdown",
   "id": "277305ec",
   "metadata": {},
   "source": [
    "### 3.4.2 Check the Number of Unique Values in columns with Categorical Data"
   ]
  },
  {
   "cell_type": "code",
   "execution_count": 60,
   "id": "c7417333",
   "metadata": {},
   "outputs": [
    {
     "data": {
      "text/html": [
       "<div>\n",
       "<style scoped>\n",
       "    .dataframe tbody tr th:only-of-type {\n",
       "        vertical-align: middle;\n",
       "    }\n",
       "\n",
       "    .dataframe tbody tr th {\n",
       "        vertical-align: top;\n",
       "    }\n",
       "\n",
       "    .dataframe thead th {\n",
       "        text-align: right;\n",
       "    }\n",
       "</style>\n",
       "<table border=\"1\" class=\"dataframe\">\n",
       "  <thead>\n",
       "    <tr style=\"text-align: right;\">\n",
       "      <th></th>\n",
       "      <th>source</th>\n",
       "      <th>Banner</th>\n",
       "      <th>Plan_Banner</th>\n",
       "      <th>Plan_Region</th>\n",
       "      <th>UNIT</th>\n",
       "      <th>Complete_PPG</th>\n",
       "      <th>MATERIALDESC</th>\n",
       "      <th>SUB_CATEGORY</th>\n",
       "      <th>SUB_CATEGORY_DESC</th>\n",
       "      <th>CATEGORY</th>\n",
       "      <th>CATEGORY_DESC</th>\n",
       "      <th>FGroup_Desc</th>\n",
       "    </tr>\n",
       "  </thead>\n",
       "  <tbody>\n",
       "    <tr>\n",
       "      <th>0</th>\n",
       "      <td>Company A</td>\n",
       "      <td>Company A ONTARIO</td>\n",
       "      <td>Company A</td>\n",
       "      <td>ONTARIO</td>\n",
       "      <td>EA</td>\n",
       "      <td>Superbundle</td>\n",
       "      <td>STOUFFER'S BST Italian 5 Cheese 8x256gCA</td>\n",
       "      <td>CAKK1K112</td>\n",
       "      <td>STF BISTRO CRUSTINI</td>\n",
       "      <td>CAKK1</td>\n",
       "      <td>FROZEN MEALS</td>\n",
       "      <td>CEF - CA Bistro 8pk</td>\n",
       "    </tr>\n",
       "    <tr>\n",
       "      <th>1</th>\n",
       "      <td>Company A</td>\n",
       "      <td>Company A ONTARIO</td>\n",
       "      <td>Company A</td>\n",
       "      <td>ONTARIO</td>\n",
       "      <td>EA</td>\n",
       "      <td>Superbundle</td>\n",
       "      <td>STOUFFER'S BST Italian 5 Cheese 8x256gCA</td>\n",
       "      <td>CAKK1K112</td>\n",
       "      <td>STF BISTRO CRUSTINI</td>\n",
       "      <td>CAKK1</td>\n",
       "      <td>FROZEN MEALS</td>\n",
       "      <td>CEF - CA Bistro 8pk</td>\n",
       "    </tr>\n",
       "  </tbody>\n",
       "</table>\n",
       "</div>"
      ],
      "text/plain": [
       "      source             Banner Plan_Banner Plan_Region UNIT Complete_PPG  \\\n",
       "0  Company A  Company A ONTARIO   Company A     ONTARIO   EA  Superbundle   \n",
       "1  Company A  Company A ONTARIO   Company A     ONTARIO   EA  Superbundle   \n",
       "\n",
       "                               MATERIALDESC SUB_CATEGORY    SUB_CATEGORY_DESC  \\\n",
       "0  STOUFFER'S BST Italian 5 Cheese 8x256gCA    CAKK1K112  STF BISTRO CRUSTINI   \n",
       "1  STOUFFER'S BST Italian 5 Cheese 8x256gCA    CAKK1K112  STF BISTRO CRUSTINI   \n",
       "\n",
       "  CATEGORY CATEGORY_DESC          FGroup_Desc  \n",
       "0    CAKK1  FROZEN MEALS  CEF - CA Bistro 8pk  \n",
       "1    CAKK1  FROZEN MEALS  CEF - CA Bistro 8pk  "
      ]
     },
     "execution_count": 60,
     "metadata": {},
     "output_type": "execute_result"
    }
   ],
   "source": [
    "# create a dataframe with all the categorical data from the original dataset\n",
    "df_categorical = df[categorical_columns]\n",
    "df_categorical.head(2)"
   ]
  },
  {
   "cell_type": "code",
   "execution_count": 61,
   "id": "1b8cb6ca",
   "metadata": {},
   "outputs": [
    {
     "name": "stdout",
     "output_type": "stream",
     "text": [
      "Number of unique values in each column:\n",
      "source                1\n",
      "Banner                3\n",
      "Plan_Banner           2\n",
      "Plan_Region           2\n",
      "UNIT                  2\n",
      "Complete_PPG         23\n",
      "MATERIALDESC         31\n",
      "SUB_CATEGORY         21\n",
      "SUB_CATEGORY_DESC    21\n",
      "CATEGORY             11\n",
      "CATEGORY_DESC        11\n",
      "FGroup_Desc          27\n",
      "dtype: int64\n"
     ]
    }
   ],
   "source": [
    "unique_value_counts = df_categorical.nunique()\n",
    "\n",
    "print(\"Number of unique values in each column:\")\n",
    "print(unique_value_counts)"
   ]
  },
  {
   "cell_type": "markdown",
   "id": "688b7d47",
   "metadata": {},
   "source": [
    "Based on the provided information, which includes the categorical dataset (`df_categorical`) and the number of unique values in each column, it is recommended to separate the following columns from the rest: \"SRC_BAN_POS\", \"pos_date\", \"ForecastDate\", \"InStoreStart\", and \"InStoreEnd\". These columns represent time."
   ]
  },
  {
   "cell_type": "markdown",
   "id": "caad927a",
   "metadata": {},
   "source": [
    "### 3.4.3 Function that Performs Label Encoding on Categorical Variables"
   ]
  },
  {
   "cell_type": "code",
   "execution_count": 62,
   "id": "f5347c40",
   "metadata": {},
   "outputs": [],
   "source": [
    "from sklearn.preprocessing import LabelEncoder\n",
    "\n",
    "def label_encode_features(df, features):\n",
    "    \"\"\"\n",
    "    Perform label encoding on specified features in a DataFrame.\n",
    "\n",
    "    Label encoding involves converting each unique string value into a unique integer.\n",
    "    For instance, for a column ['cat', 'dog', 'dog', 'bird'], after label encoding, \n",
    "    this might become [0, 1, 1, 2] depending on the ordering of unique values detected by the encoder.\n",
    "\n",
    "    Args:\n",
    "    - df (pandas.DataFrame): The input DataFrame that contains features to be encoded.\n",
    "    - features (list): A list of column names (strings) in df that need to be label encoded.\n",
    "\n",
    "    Returns:\n",
    "    - pandas.DataFrame: A DataFrame with the specified features label encoded.\n",
    "    \"\"\"\n",
    "\n",
    "    # Create a copy of the original DataFrame to avoid modifying it directly\n",
    "    encoded_df = df.copy()\n",
    "    \n",
    "    # Initialize the LabelEncoder\n",
    "    encoder = LabelEncoder()\n",
    "\n",
    "    # Loop through each feature in the provided list\n",
    "    for feature in features:\n",
    "        # Fit the encoder on the feature and transform it.\n",
    "        # The transformed feature is then overwritten in the DataFrame.\n",
    "        encoded_df[feature] = encoder.fit_transform(encoded_df[feature])\n",
    "\n",
    "    # Return the DataFrame with encoded features\n",
    "    return encoded_df\n"
   ]
  },
  {
   "cell_type": "code",
   "execution_count": 63,
   "id": "ba9748ce",
   "metadata": {},
   "outputs": [],
   "source": [
    "df = label_encode_features(df, categorical_columns)"
   ]
  },
  {
   "cell_type": "code",
   "execution_count": 64,
   "id": "a7669b74",
   "metadata": {},
   "outputs": [
    {
     "data": {
      "text/html": [
       "<div>\n",
       "<style scoped>\n",
       "    .dataframe tbody tr th:only-of-type {\n",
       "        vertical-align: middle;\n",
       "    }\n",
       "\n",
       "    .dataframe tbody tr th {\n",
       "        vertical-align: top;\n",
       "    }\n",
       "\n",
       "    .dataframe thead th {\n",
       "        text-align: right;\n",
       "    }\n",
       "</style>\n",
       "<table border=\"1\" class=\"dataframe\">\n",
       "  <thead>\n",
       "    <tr style=\"text-align: right;\">\n",
       "      <th></th>\n",
       "      <th>MATERIAL</th>\n",
       "      <th>source</th>\n",
       "      <th>Banner</th>\n",
       "      <th>Plan_Banner</th>\n",
       "      <th>Plan_Region</th>\n",
       "      <th>CL4Key</th>\n",
       "      <th>CL6Key</th>\n",
       "      <th>Pos_Qty_EA</th>\n",
       "      <th>Pos_Sales</th>\n",
       "      <th>POS_QTY_CS</th>\n",
       "      <th>...</th>\n",
       "      <th>Baseline_Nps</th>\n",
       "      <th>Incr_Sales</th>\n",
       "      <th>PromoId</th>\n",
       "      <th>PromoDuration</th>\n",
       "      <th>MATERIALDESC</th>\n",
       "      <th>SUB_CATEGORY</th>\n",
       "      <th>SUB_CATEGORY_DESC</th>\n",
       "      <th>CATEGORY</th>\n",
       "      <th>CATEGORY_DESC</th>\n",
       "      <th>FGroup_Desc</th>\n",
       "    </tr>\n",
       "  </thead>\n",
       "  <tbody>\n",
       "    <tr>\n",
       "      <th>0</th>\n",
       "      <td>11001187</td>\n",
       "      <td>0</td>\n",
       "      <td>0</td>\n",
       "      <td>0</td>\n",
       "      <td>0</td>\n",
       "      <td>292278</td>\n",
       "      <td>292696</td>\n",
       "      <td>69</td>\n",
       "      <td>186.15</td>\n",
       "      <td>8.625</td>\n",
       "      <td>...</td>\n",
       "      <td>328.16</td>\n",
       "      <td>-125.99</td>\n",
       "      <td>1358399</td>\n",
       "      <td>35</td>\n",
       "      <td>28</td>\n",
       "      <td>13</td>\n",
       "      <td>16</td>\n",
       "      <td>6</td>\n",
       "      <td>3</td>\n",
       "      <td>18</td>\n",
       "    </tr>\n",
       "    <tr>\n",
       "      <th>1</th>\n",
       "      <td>11001187</td>\n",
       "      <td>0</td>\n",
       "      <td>0</td>\n",
       "      <td>0</td>\n",
       "      <td>0</td>\n",
       "      <td>292278</td>\n",
       "      <td>292696</td>\n",
       "      <td>60</td>\n",
       "      <td>161.86</td>\n",
       "      <td>7.500</td>\n",
       "      <td>...</td>\n",
       "      <td>328.16</td>\n",
       "      <td>-152.36</td>\n",
       "      <td>1358399</td>\n",
       "      <td>35</td>\n",
       "      <td>28</td>\n",
       "      <td>13</td>\n",
       "      <td>16</td>\n",
       "      <td>6</td>\n",
       "      <td>3</td>\n",
       "      <td>18</td>\n",
       "    </tr>\n",
       "  </tbody>\n",
       "</table>\n",
       "<p>2 rows × 27 columns</p>\n",
       "</div>"
      ],
      "text/plain": [
       "   MATERIAL  source  Banner  Plan_Banner  Plan_Region  CL4Key  CL6Key  \\\n",
       "0  11001187       0       0            0            0  292278  292696   \n",
       "1  11001187       0       0            0            0  292278  292696   \n",
       "\n",
       "   Pos_Qty_EA  Pos_Sales  POS_QTY_CS  ...  Baseline_Nps  Incr_Sales  PromoId  \\\n",
       "0          69     186.15       8.625  ...        328.16     -125.99  1358399   \n",
       "1          60     161.86       7.500  ...        328.16     -152.36  1358399   \n",
       "\n",
       "   PromoDuration  MATERIALDESC  SUB_CATEGORY  SUB_CATEGORY_DESC  CATEGORY  \\\n",
       "0             35            28            13                 16         6   \n",
       "1             35            28            13                 16         6   \n",
       "\n",
       "   CATEGORY_DESC  FGroup_Desc  \n",
       "0              3           18  \n",
       "1              3           18  \n",
       "\n",
       "[2 rows x 27 columns]"
      ]
     },
     "execution_count": 64,
     "metadata": {},
     "output_type": "execute_result"
    }
   ],
   "source": [
    "df.head(2)"
   ]
  },
  {
   "cell_type": "markdown",
   "id": "63c6aaf9",
   "metadata": {},
   "source": [
    "Up to this point, we have successfully encoded all categorical features."
   ]
  },
  {
   "cell_type": "code",
   "execution_count": 65,
   "id": "28ce7a3c",
   "metadata": {},
   "outputs": [
    {
     "name": "stdout",
     "output_type": "stream",
     "text": [
      "<class 'pandas.core.frame.DataFrame'>\n",
      "Int64Index: 4971 entries, 0 to 5532\n",
      "Data columns (total 27 columns):\n",
      " #   Column              Non-Null Count  Dtype  \n",
      "---  ------              --------------  -----  \n",
      " 0   MATERIAL            4971 non-null   int64  \n",
      " 1   source              4971 non-null   int64  \n",
      " 2   Banner              4971 non-null   int64  \n",
      " 3   Plan_Banner         4971 non-null   int64  \n",
      " 4   Plan_Region         4971 non-null   int64  \n",
      " 5   CL4Key              4971 non-null   int64  \n",
      " 6   CL6Key              4971 non-null   int64  \n",
      " 7   Pos_Qty_EA          4971 non-null   int64  \n",
      " 8   Pos_Sales           4971 non-null   float64\n",
      " 9   POS_QTY_CS          4971 non-null   float64\n",
      " 10  UBP                 4971 non-null   float64\n",
      " 11  UNIT                4971 non-null   int64  \n",
      " 12  FACTOR_EACH         4971 non-null   int64  \n",
      " 13  PER_SALES_UOM_CASE  4971 non-null   int64  \n",
      " 14  Complete_PPG        4971 non-null   int64  \n",
      " 15  Total_Sales         4971 non-null   float64\n",
      " 16  Baseline_Qty        4971 non-null   int64  \n",
      " 17  Baseline_Nps        4971 non-null   float64\n",
      " 18  Incr_Sales          4971 non-null   float64\n",
      " 19  PromoId             4971 non-null   int64  \n",
      " 20  PromoDuration       4971 non-null   int64  \n",
      " 21  MATERIALDESC        4971 non-null   int64  \n",
      " 22  SUB_CATEGORY        4971 non-null   int64  \n",
      " 23  SUB_CATEGORY_DESC   4971 non-null   int64  \n",
      " 24  CATEGORY            4971 non-null   int64  \n",
      " 25  CATEGORY_DESC       4971 non-null   int64  \n",
      " 26  FGroup_Desc         4971 non-null   int64  \n",
      "dtypes: float64(6), int64(21)\n",
      "memory usage: 1.1 MB\n"
     ]
    }
   ],
   "source": [
    "df.info()"
   ]
  },
  {
   "cell_type": "markdown",
   "id": "36c299e1",
   "metadata": {},
   "source": [
    "## 3.5 Data Visualization"
   ]
  },
  {
   "cell_type": "markdown",
   "id": "c1e33a54",
   "metadata": {},
   "source": [
    "### 3.5.1 Distribution of Pos_Qty_EA (target value)"
   ]
  },
  {
   "cell_type": "code",
   "execution_count": 66,
   "id": "ab6ef14e",
   "metadata": {},
   "outputs": [
    {
     "data": {
      "image/png": "[encoded data removed]",
      "text/plain": [
       "<Figure size 576x432 with 1 Axes>"
      ]
     },
     "metadata": {
      "needs_background": "light"
     },
     "output_type": "display_data"
    }
   ],
   "source": [
    "# Distribution plot of the target variable\n",
    "plt.figure(figsize=(8, 6))\n",
    "sns.histplot(data=df, x='Pos_Qty_EA', kde=True)\n",
    "plt.xlabel('Pos_Qty_EA')\n",
    "plt.ylabel('Frequency')\n",
    "plt.title('Distribution of Pos_Qty_EA')\n",
    "plt.show()"
   ]
  },
  {
   "cell_type": "markdown",
   "id": "b494e4b2",
   "metadata": {},
   "source": [
    "The distribution plot of the target variable Pos_Qty_EA showcases a majority of values concentrated between 0 and 500, with a notable peak in frequency within this range."
   ]
  },
  {
   "cell_type": "markdown",
   "id": "8a23227c",
   "metadata": {},
   "source": [
    "### 3.5.2 Relationship between Pos_Qty_EA and Total_Sales"
   ]
  },
  {
   "cell_type": "code",
   "execution_count": 67,
   "id": "964ae485",
   "metadata": {},
   "outputs": [
    {
     "data": {
      "image/png": "[encoded data removed]",
      "text/plain": [
       "<Figure size 576x432 with 1 Axes>"
      ]
     },
     "metadata": {
      "needs_background": "light"
     },
     "output_type": "display_data"
    }
   ],
   "source": [
    "# Scatter plot\n",
    "plt.figure(figsize=(8, 6))\n",
    "sns.scatterplot(data=df, x='Pos_Qty_EA', y='Total_Sales')\n",
    "plt.xlabel('Pos_Qty_EA')\n",
    "plt.ylabel('Total_Sales')\n",
    "plt.title('Scatter Plot: Pos_Qty_EA vs Total_Sales')\n",
    "plt.show()"
   ]
  },
  {
   "cell_type": "markdown",
   "id": "acd18846",
   "metadata": {},
   "source": [
    "The scatter plot demonstrates a positive correlation between Pos_Qty_EA and Total_Sales, highlighting a potential pattern indicating that higher values of Pos_Qty_EA tend to correspond with higher values of Total_Sales."
   ]
  },
  {
   "cell_type": "markdown",
   "id": "2b244a41",
   "metadata": {},
   "source": [
    "## 3.6 Feature Engineering"
   ]
  },
  {
   "cell_type": "markdown",
   "id": "ae1ad343",
   "metadata": {},
   "source": [
    "### 3.6.1 Correlation Heapmap"
   ]
  },
  {
   "cell_type": "code",
   "execution_count": 69,
   "id": "a8888e79",
   "metadata": {},
   "outputs": [
    {
     "data": {
      "image/png": "[encoded data removed]",
      "text/plain": [
       "<Figure size 1800x1440 with 2 Axes>"
      ]
     },
     "metadata": {
      "needs_background": "light"
     },
     "output_type": "display_data"
    }
   ],
   "source": [
    "# Correlation heatmap\n",
    "plt.figure(figsize=(25, 20))\n",
    "sns.heatmap(df.corr(), annot=True, cmap='coolwarm', square=True)\n",
    "plt.title('Correlation Heatmap')\n",
    "plt.show()\n"
   ]
  },
  {
   "cell_type": "markdown",
   "id": "3dc17069",
   "metadata": {},
   "source": [
    "Representing the correlation between numerical features in this dataset, the color-coded heatmap provides insights into the relationships and dependencies among different features, including the target variable 'Pos_Qty_EA'. It highlights the strength and direction of these correlations."
   ]
  },
  {
   "cell_type": "markdown",
   "id": "2a1c1291",
   "metadata": {},
   "source": [
    "### 3.6.2 Calculation and Ranking of Feature Correlation with the Target Variable"
   ]
  },
  {
   "cell_type": "code",
   "execution_count": 70,
   "id": "7343b1a5",
   "metadata": {},
   "outputs": [
    {
     "name": "stdout",
     "output_type": "stream",
     "text": [
      "Total_Sales           0.766402\n",
      "Pos_Sales             0.756081\n",
      "POS_QTY_CS            0.754481\n",
      "Incr_Sales            0.723748\n",
      "Baseline_Nps          0.381053\n",
      "Baseline_Qty          0.319445\n",
      "FGroup_Desc           0.284755\n",
      "FACTOR_EACH           0.202740\n",
      "UNIT                  0.202740\n",
      "CATEGORY              0.198196\n",
      "SUB_CATEGORY          0.160523\n",
      "PER_SALES_UOM_CASE    0.141438\n",
      "MATERIAL              0.114242\n",
      "CL6Key                0.112746\n",
      "SUB_CATEGORY_DESC     0.110251\n",
      "Plan_Region           0.093958\n",
      "CL4Key                0.093958\n",
      "PromoDuration         0.085232\n",
      "UBP                   0.083661\n",
      "MATERIALDESC          0.082824\n",
      "Banner                0.069616\n",
      "Plan_Banner           0.066433\n",
      "CATEGORY_DESC         0.050336\n",
      "Complete_PPG          0.032486\n",
      "PromoId               0.007910\n",
      "source                     NaN\n",
      "Name: Pos_Qty_EA, dtype: float64\n"
     ]
    }
   ],
   "source": [
    "# Calculate the correlation between each feature and the target variable\n",
    "correlation = df.corr()['Pos_Qty_EA'].drop('Pos_Qty_EA')\n",
    "\n",
    "# Sort the correlation values in descending order\n",
    "correlation = correlation.abs().sort_values(ascending=False)\n",
    "\n",
    "# Print the feature correlation values\n",
    "print(correlation)"
   ]
  },
  {
   "cell_type": "markdown",
   "id": "73dd2ebe",
   "metadata": {},
   "source": [
    "### 3.6.3 Identification of Highly Correlated Features with the Target Variable based on a Threshold"
   ]
  },
  {
   "cell_type": "code",
   "execution_count": 71,
   "id": "e8481fb0",
   "metadata": {},
   "outputs": [
    {
     "name": "stdout",
     "output_type": "stream",
     "text": [
      "Total_Sales    0.766402\n",
      "Pos_Sales      0.756081\n",
      "POS_QTY_CS     0.754481\n",
      "Incr_Sales     0.723748\n",
      "Name: Pos_Qty_EA, dtype: float64\n"
     ]
    }
   ],
   "source": [
    "# Set the correlation threshold\n",
    "threshold = 0.5\n",
    "\n",
    "# Filter features based on the correlation threshold\n",
    "highly_correlated_features = correlation[correlation.abs() >= threshold]\n",
    "\n",
    "# Print the highly correlated features\n",
    "print(highly_correlated_features)"
   ]
  },
  {
   "cell_type": "code",
   "execution_count": 72,
   "id": "8c1a2d0d",
   "metadata": {},
   "outputs": [
    {
     "data": {
      "text/plain": [
       "['Total_Sales', 'Pos_Sales', 'POS_QTY_CS', 'Incr_Sales']"
      ]
     },
     "execution_count": 72,
     "metadata": {},
     "output_type": "execute_result"
    }
   ],
   "source": [
    "# These are the selected features \n",
    "threshold_selected_features = highly_correlated_features.index.tolist()\n",
    "threshold_selected_features"
   ]
  },
  {
   "cell_type": "markdown",
   "id": "0ae55eb0",
   "metadata": {},
   "source": [
    "### 3.6.4 Feature selection using Recursive Feature Elimination (RFE)"
   ]
  },
  {
   "cell_type": "code",
   "execution_count": 73,
   "id": "3869ac6f",
   "metadata": {},
   "outputs": [],
   "source": [
    "from sklearn.feature_selection import RFE\n",
    "from sklearn.ensemble import RandomForestRegressor\n",
    "\n",
    "# Split the dataset into X (features) and y (target variable)\n",
    "X = df.drop(columns=[\"Pos_Qty_EA\"])\n",
    "y = df[\"Pos_Qty_EA\"]\n",
    "\n",
    "# Initialize a random forest regressor\n",
    "rf = RandomForestRegressor(n_estimators=100, max_features=\"sqrt\")\n",
    "\n",
    "# Use RFE for feature selection\n",
    "top_k = 5  # Number of top features to select\n",
    "rfe = RFE(estimator=rf, n_features_to_select=top_k, step=1)\n",
    "rfe = rfe.fit(X, y)\n",
    "\n",
    "# Get the selected features\n",
    "rfe_selected_features = X.columns[rfe.support_].tolist()"
   ]
  },
  {
   "cell_type": "code",
   "execution_count": 74,
   "id": "3256be00",
   "metadata": {},
   "outputs": [
    {
     "data": {
      "text/plain": [
       "['Pos_Sales', 'POS_QTY_CS', 'Total_Sales', 'Incr_Sales', 'FGroup_Desc']"
      ]
     },
     "execution_count": 74,
     "metadata": {},
     "output_type": "execute_result"
    }
   ],
   "source": [
    "rfe_selected_features =list(rfe_selected_features)\n",
    "rfe_selected_features"
   ]
  },
  {
   "cell_type": "markdown",
   "id": "6052efa9",
   "metadata": {},
   "source": [
    "## 3.7 Model Selection"
   ]
  },
  {
   "cell_type": "markdown",
   "id": "a6c296c6",
   "metadata": {},
   "source": [
    "In this section, we will train multiple models using the dataset and evaluate their performance to select the model that achieves the highest level of accuracy. By comparing the accuracy of different models, we can determine which one is the most effective for this particular task. This process will enable us to make an informed decision about the best model to use for prediction or further analysis.\n"
   ]
  },
  {
   "cell_type": "markdown",
   "id": "7c1de288",
   "metadata": {},
   "source": [
    "### 3.7.1 Import Libraries"
   ]
  },
  {
   "cell_type": "code",
   "execution_count": 75,
   "id": "a14f5595",
   "metadata": {},
   "outputs": [],
   "source": [
    "from sklearn.model_selection import train_test_split\n",
    "from sklearn.linear_model import LinearRegression\n",
    "from sklearn.tree import DecisionTreeRegressor\n",
    "from sklearn.ensemble import RandomForestRegressor, GradientBoostingRegressor\n",
    "from sklearn.svm import SVR\n",
    "from sklearn.neural_network import MLPRegressor\n",
    "from sklearn.neighbors import KNeighborsRegressor\n",
    "from sklearn.naive_bayes import GaussianNB\n",
    "from sklearn.metrics import mean_squared_error, accuracy_score"
   ]
  },
  {
   "cell_type": "markdown",
   "id": "5bf415c0",
   "metadata": {},
   "source": [
    "### 3.7.2 Model Comparison"
   ]
  },
  {
   "cell_type": "code",
   "execution_count": 76,
   "id": "0773488f",
   "metadata": {},
   "outputs": [],
   "source": [
    "# Separate features and target\n",
    "X = df.drop('Pos_Qty_EA', axis=1)  # Features\n",
    "y = df['Pos_Qty_EA']  # Target\n",
    "\n",
    "# Split the data into train and test sets\n",
    "X_train, X_test, y_train, y_test = train_test_split(X, y, test_size=0.2, random_state=42)\n",
    "\n",
    "# Define a dictionary to store model names and instances\n",
    "models = {\n",
    "    'Linear Regression': LinearRegression(),\n",
    "    'Decision Tree': DecisionTreeRegressor(),\n",
    "    'Random Forest': RandomForestRegressor(),\n",
    "    'Gradient Boosting': GradientBoostingRegressor(),\n",
    "    'Support Vector Machine': SVR(),\n",
    "    'Neural Network': MLPRegressor(),\n",
    "    'K-Nearest Neighbors': KNeighborsRegressor(),\n",
    "    'Naive Bayes': GaussianNB()\n",
    "}\n",
    "\n",
    "# Create an empty dataframe to store accuracy scores\n",
    "accuracy_df = pd.DataFrame(columns=['Model', 'Accuracy'])\n",
    "\n",
    "# Iterate over the models, train, and evaluate\n",
    "for model_name, model in models.items():\n",
    "    model.fit(X_train, y_train)\n",
    "    y_pred = model.predict(X_test)\n",
    "    accuracy = accuracy_score(y_test, y_pred.round())  # Rounding the predictions for classification\n",
    "    accuracy_df = accuracy_df.append({'Model': model_name, 'Accuracy': accuracy}, ignore_index=True)"
   ]
  },
  {
   "cell_type": "code",
   "execution_count": 77,
   "id": "76b80935",
   "metadata": {},
   "outputs": [
    {
     "data": {
      "text/html": [
       "<div>\n",
       "<style scoped>\n",
       "    .dataframe tbody tr th:only-of-type {\n",
       "        vertical-align: middle;\n",
       "    }\n",
       "\n",
       "    .dataframe tbody tr th {\n",
       "        vertical-align: top;\n",
       "    }\n",
       "\n",
       "    .dataframe thead th {\n",
       "        text-align: right;\n",
       "    }\n",
       "</style>\n",
       "<table border=\"1\" class=\"dataframe\">\n",
       "  <thead>\n",
       "    <tr style=\"text-align: right;\">\n",
       "      <th></th>\n",
       "      <th>Model</th>\n",
       "      <th>Accuracy</th>\n",
       "    </tr>\n",
       "  </thead>\n",
       "  <tbody>\n",
       "    <tr>\n",
       "      <th>1</th>\n",
       "      <td>Decision Tree</td>\n",
       "      <td>0.741709</td>\n",
       "    </tr>\n",
       "    <tr>\n",
       "      <th>2</th>\n",
       "      <td>Random Forest</td>\n",
       "      <td>0.647236</td>\n",
       "    </tr>\n",
       "    <tr>\n",
       "      <th>6</th>\n",
       "      <td>K-Nearest Neighbors</td>\n",
       "      <td>0.120603</td>\n",
       "    </tr>\n",
       "    <tr>\n",
       "      <th>3</th>\n",
       "      <td>Gradient Boosting</td>\n",
       "      <td>0.086432</td>\n",
       "    </tr>\n",
       "    <tr>\n",
       "      <th>7</th>\n",
       "      <td>Naive Bayes</td>\n",
       "      <td>0.031156</td>\n",
       "    </tr>\n",
       "    <tr>\n",
       "      <th>0</th>\n",
       "      <td>Linear Regression</td>\n",
       "      <td>0.011055</td>\n",
       "    </tr>\n",
       "    <tr>\n",
       "      <th>4</th>\n",
       "      <td>Support Vector Machine</td>\n",
       "      <td>0.00402</td>\n",
       "    </tr>\n",
       "    <tr>\n",
       "      <th>5</th>\n",
       "      <td>Neural Network</td>\n",
       "      <td>0.0</td>\n",
       "    </tr>\n",
       "  </tbody>\n",
       "</table>\n",
       "</div>"
      ],
      "text/plain": [
       "                    Model  Accuracy\n",
       "1           Decision Tree  0.741709\n",
       "2           Random Forest  0.647236\n",
       "6     K-Nearest Neighbors  0.120603\n",
       "3       Gradient Boosting  0.086432\n",
       "7             Naive Bayes  0.031156\n",
       "0       Linear Regression  0.011055\n",
       "4  Support Vector Machine   0.00402\n",
       "5          Neural Network       0.0"
      ]
     },
     "execution_count": 77,
     "metadata": {},
     "output_type": "execute_result"
    }
   ],
   "source": [
    "# rank the model based on the accuracy\n",
    "accuracy_df = accuracy_df.sort_values('Accuracy', ascending=False)\n",
    "accuracy_df"
   ]
  },
  {
   "cell_type": "markdown",
   "id": "ac98392e",
   "metadata": {},
   "source": [
    "Therefore, the decision forest model and random forest has been chosen as the candidate models based on its performance and accuracy during the evaluation process."
   ]
  },
  {
   "cell_type": "markdown",
   "id": "56101be0",
   "metadata": {},
   "source": [
    "### 3.7.3 Hyperparameter Tune Up with the Candidate Models"
   ]
  },
  {
   "cell_type": "code",
   "execution_count": 78,
   "id": "12605a13",
   "metadata": {},
   "outputs": [
    {
     "name": "stdout",
     "output_type": "stream",
     "text": [
      "Training set size (features): (3976, 26)\n",
      "Test set size (features): (995, 26)\n",
      "Training set size (target): (3976,)\n",
      "Test set size (target): (995,)\n"
     ]
    }
   ],
   "source": [
    "from sklearn.model_selection import train_test_split\n",
    "\n",
    "# Sample dataset\n",
    "X = df.drop('Pos_Qty_EA', axis=1)  # Features\n",
    "y = df['Pos_Qty_EA']  # Target\n",
    "\n",
    "# Split the dataset into 80% training and 20% test\n",
    "X_train, X_test, y_train, y_test = train_test_split(X, y, test_size=0.2, random_state=42)\n",
    "\n",
    "print(f\"Training set size (features): {X_train.shape}\")\n",
    "print(f\"Test set size (features): {X_test.shape}\")\n",
    "print(f\"Training set size (target): {y_train.shape}\")\n",
    "print(f\"Test set size (target): {y_test.shape}\")"
   ]
  },
  {
   "cell_type": "code",
   "execution_count": 79,
   "id": "89a36f5a",
   "metadata": {},
   "outputs": [
    {
     "name": "stdout",
     "output_type": "stream",
     "text": [
      "Fitting 5 folds for each of 54 candidates, totalling 270 fits\n",
      "Best hyperparameters for Decision Tree: {'max_depth': 40, 'min_samples_leaf': 1, 'min_samples_split': 2}\n",
      "Fitting 5 folds for each of 216 candidates, totalling 1080 fits\n",
      "Best hyperparameters for Random Forest: {'max_depth': 50, 'max_features': 'auto', 'min_samples_leaf': 1, 'min_samples_split': 2, 'n_estimators': 50}\n"
     ]
    }
   ],
   "source": [
    "def perform_hyperparameter_tuning(X_train, y_train):\n",
    "    \"\"\"\n",
    "    Performs hyperparameter tuning for Decision Tree and Random Forest models\n",
    "    using GridSearchCV.\n",
    "    \n",
    "    Args:\n",
    "    - X_train (pd.DataFrame): Training data features.\n",
    "    - y_train (pd.Series): Training data target.\n",
    "    \n",
    "    Returns:\n",
    "    - dict: Best hyperparameters for both models.\n",
    "    \"\"\"\n",
    "    from sklearn.tree import DecisionTreeRegressor\n",
    "    from sklearn.ensemble import RandomForestRegressor\n",
    "    from sklearn.model_selection import GridSearchCV\n",
    "\n",
    "    # For Decision Tree\n",
    "    param_grid_dt = {\n",
    "        'max_depth': [None, 10, 20, 30, 40, 50],\n",
    "        'min_samples_split': [2, 5, 10],\n",
    "        'min_samples_leaf': [1, 2, 4]\n",
    "    }\n",
    "\n",
    "    dt = DecisionTreeRegressor()\n",
    "    grid_search_dt = GridSearchCV(estimator=dt, param_grid=param_grid_dt, \n",
    "                                  cv=5, n_jobs=-1, verbose=2, scoring='neg_mean_squared_error')\n",
    "    grid_search_dt.fit(X_train, y_train)\n",
    "    best_params_dt = grid_search_dt.best_params_\n",
    "    print(f\"Best hyperparameters for Decision Tree: {best_params_dt}\")\n",
    "\n",
    "    # For Random Forest\n",
    "    param_grid_rf = {\n",
    "        'n_estimators': [10, 50],\n",
    "        'max_features': ['auto', 'sqrt'],\n",
    "        'max_depth': [None, 10, 20, 30, 40, 50],\n",
    "        'min_samples_split': [2, 5, 10],\n",
    "        'min_samples_leaf': [1, 2, 4]\n",
    "    }\n",
    "\n",
    "    rf = RandomForestRegressor()\n",
    "    grid_search_rf = GridSearchCV(estimator=rf, param_grid=param_grid_rf, \n",
    "                                  cv=5, n_jobs=-1, verbose=2, scoring='neg_mean_squared_error')\n",
    "    grid_search_rf.fit(X_train, y_train)\n",
    "    best_params_rf = grid_search_rf.best_params_\n",
    "    print(f\"Best hyperparameters for Random Forest: {best_params_rf}\")\n",
    "\n",
    "    return {\"DecisionTree\": best_params_dt, \"RandomForest\": best_params_rf}\n",
    "\n",
    "# Call the function\n",
    "results = perform_hyperparameter_tuning(X_train, y_train)\n"
   ]
  },
  {
   "cell_type": "code",
   "execution_count": 80,
   "id": "43d178a0",
   "metadata": {},
   "outputs": [
    {
     "data": {
      "text/plain": [
       "{'DecisionTree': {'max_depth': 40,\n",
       "  'min_samples_leaf': 1,\n",
       "  'min_samples_split': 2},\n",
       " 'RandomForest': {'max_depth': 50,\n",
       "  'max_features': 'auto',\n",
       "  'min_samples_leaf': 1,\n",
       "  'min_samples_split': 2,\n",
       "  'n_estimators': 50}}"
      ]
     },
     "execution_count": 80,
     "metadata": {},
     "output_type": "execute_result"
    }
   ],
   "source": [
    "results"
   ]
  },
  {
   "cell_type": "markdown",
   "id": "495fc9c6",
   "metadata": {},
   "source": [
    "### 3.7.4 Model Comparison after Hyperparameter Tune Up"
   ]
  },
  {
   "cell_type": "code",
   "execution_count": 81,
   "id": "2b5043e8",
   "metadata": {},
   "outputs": [
    {
     "name": "stdout",
     "output_type": "stream",
     "text": [
      "Decision Tree Metrics:\n",
      "MAE: 1.1216080402010051\n",
      "MSE: 44.14472361809045\n",
      "R2: 0.997288885934199\n",
      "\n",
      "Random Forest Metrics:\n",
      "MAE: 1.1643216080402012\n",
      "MSE: 17.73691376884422\n",
      "R2: 0.998910701156074\n"
     ]
    }
   ],
   "source": [
    "from sklearn.metrics import mean_absolute_error, mean_squared_error, r2_score\n",
    "\n",
    "def evaluate_model_performance(model, X_train, y_train, X_test, y_test):\n",
    "    \"\"\"\n",
    "    Train the model, predict on test data, and evaluate using various metrics.\n",
    "    \n",
    "    Args:\n",
    "    - model (Regressor): Scikit-learn regressor model.\n",
    "    - X_train, y_train: Training data.\n",
    "    - X_test, y_test: Test data.\n",
    "    \n",
    "    Returns:\n",
    "    - dict: Evaluation metrics (MAE, MSE, R2).\n",
    "    \"\"\"\n",
    "    # Train the model\n",
    "    model.fit(X_train, y_train)\n",
    "    \n",
    "    # Predict on test data\n",
    "    y_pred = model.predict(X_test)\n",
    "    \n",
    "    # Calculate evaluation metrics\n",
    "    mae = mean_absolute_error(y_test, y_pred)\n",
    "    mse = mean_squared_error(y_test, y_pred)\n",
    "    r2 = r2_score(y_test, y_pred)\n",
    "    \n",
    "    return {\"MAE\": mae, \"MSE\": mse, \"R2\": r2}\n",
    "\n",
    "# Initialize models with best hyperparameters\n",
    "dt_model = DecisionTreeRegressor(**results['DecisionTree'])\n",
    "rf_model = RandomForestRegressor(**results['RandomForest'])\n",
    "\n",
    "# Evaluate Decision Tree performance\n",
    "dt_metrics = evaluate_model_performance(dt_model, X_train, y_train, X_test, y_test)\n",
    "print(f\"Decision Tree Metrics:\\nMAE: {dt_metrics['MAE']}\\nMSE: {dt_metrics['MSE']}\\nR2: {dt_metrics['R2']}\")\n",
    "\n",
    "# Evaluate Random Forest performance\n",
    "rf_metrics = evaluate_model_performance(rf_model, X_train, y_train, X_test, y_test)\n",
    "print(f\"\\nRandom Forest Metrics:\\nMAE: {rf_metrics['MAE']}\\nMSE: {rf_metrics['MSE']}\\nR2: {rf_metrics['R2']}\")\n"
   ]
  },
  {
   "cell_type": "code",
   "execution_count": 82,
   "id": "293075ee",
   "metadata": {},
   "outputs": [
    {
     "data": {
      "text/html": [
       "<div>\n",
       "<style scoped>\n",
       "    .dataframe tbody tr th:only-of-type {\n",
       "        vertical-align: middle;\n",
       "    }\n",
       "\n",
       "    .dataframe tbody tr th {\n",
       "        vertical-align: top;\n",
       "    }\n",
       "\n",
       "    .dataframe thead th {\n",
       "        text-align: right;\n",
       "    }\n",
       "</style>\n",
       "<table border=\"1\" class=\"dataframe\">\n",
       "  <thead>\n",
       "    <tr style=\"text-align: right;\">\n",
       "      <th></th>\n",
       "      <th>Decision Tree</th>\n",
       "      <th>Random Forest</th>\n",
       "    </tr>\n",
       "  </thead>\n",
       "  <tbody>\n",
       "    <tr>\n",
       "      <th>MAE</th>\n",
       "      <td>1.121608</td>\n",
       "      <td>1.164322</td>\n",
       "    </tr>\n",
       "    <tr>\n",
       "      <th>MSE</th>\n",
       "      <td>44.144724</td>\n",
       "      <td>17.736914</td>\n",
       "    </tr>\n",
       "    <tr>\n",
       "      <th>R2</th>\n",
       "      <td>0.997289</td>\n",
       "      <td>0.998911</td>\n",
       "    </tr>\n",
       "  </tbody>\n",
       "</table>\n",
       "</div>"
      ],
      "text/plain": [
       "     Decision Tree  Random Forest\n",
       "MAE       1.121608       1.164322\n",
       "MSE      44.144724      17.736914\n",
       "R2        0.997289       0.998911"
      ]
     },
     "execution_count": 82,
     "metadata": {},
     "output_type": "execute_result"
    }
   ],
   "source": [
    "# Create a DataFrame\n",
    "metrics_df = pd.DataFrame({\n",
    "    'Decision Tree': dt_metrics,\n",
    "    'Random Forest': rf_metrics\n",
    "})\n",
    "\n",
    "# Display the DataFrame\n",
    "metrics_df"
   ]
  },
  {
   "cell_type": "markdown",
   "id": "381794c6",
   "metadata": {},
   "source": [
    "Key Points to Consider:\n",
    "\n",
    "1. MAE and MSE: In both cases, the Decision Tree has a lower MAE and a higher MSE than the Random Forest. MAE measures the average absolute error, while MSE penalizes larger errors more heavily. Lower MAE and MSE values indicate better performance, which would favor the Decision Tree in this regard.\n",
    "\n",
    "2. R-squared (R2): R2 measures how well the model explains the variability of the data. Both models have very high R2 values, indicating that they fit the data well. The Random Forest has a slightly higher R2 value, suggesting that it may explain the data's variability slightly better than the Decision Tree.\n",
    "\n",
    "In summary, if your primary concern is to minimize absolute errors and mean squared errors, the Decision Tree might be a better choice based on the provided results. However, if capturing more of the data's variability and slightly higher predictive performance is essential, the Random Forest could be favored due to its higher R2 value."
   ]
  }
 ],
 "metadata": {
  "kernelspec": {
   "display_name": "Python 3 (ipykernel)",
   "language": "python",
   "name": "python3"
  },
  "language_info": {
   "codemirror_mode": {
    "name": "ipython",
    "version": 3
   },
   "file_extension": ".py",
   "mimetype": "text/x-python",
   "name": "python",
   "nbconvert_exporter": "python",
   "pygments_lexer": "ipython3",
   "version": "3.9.12"
  }
 },
 "nbformat": 4,
 "nbformat_minor": 5
}
