{
 "cells": [
  {
   "cell_type": "markdown",
   "id": "38dea5ae",
   "metadata": {},
   "source": [
    "# D2-M"
   ]
  },
  {
   "cell_type": "markdown",
   "id": "20e2475e",
   "metadata": {},
   "source": [
    "# 1. Model Prediction Improvement"
   ]
  },
  {
   "cell_type": "markdown",
   "id": "184fce17",
   "metadata": {},
   "source": [
    "## 1.1 Introduction"
   ]
  },
  {
   "cell_type": "markdown",
   "id": "c4405d72",
   "metadata": {},
   "source": [
    "There are several methods that can help improve the prediction performance of models. Here are some commonly used techniques:\n",
    "   \n",
    "1. **Data Augmentation**: This refers to techniques that increase the amount of data by adding slightly modified copies of already existing data. For example, in image processing, these techniques could include rotation, scaling, flipping, etc. In text data, it can include methods like back translation or synonym replacement.\n",
    "\n",
    "\n",
    "2. **Data Cleaning**: This involves taking care of missing values (by either filling them in based on existing data, or removing the data points entirely), and handling outliers (which might distort the training of the model).\n",
    "\n",
    "\n",
    "3. **Feature engineering**: This is the process of creating new features from existing data that can help improve model performance. This can involve transformations of existing features, creating interaction features, or any other kind of data manipulation that creates new, useful input for the model.\n",
    "\n",
    "\n",
    "4. **Model Selection**: This involves choosing the right machine learning algorithm for your specific problem. This could be a linear regression model, a decision tree, a neural network, etc. The choice depends on the nature of your data and the problem you're trying to solve.\n",
    "\n",
    "\n",
    "5. **Hyperparameter tuning**: Hyperparameters are parameters that are not learned from the data but are set before the training process. Examples are learning rate, number of layers in a neural network, number of clusters in a K-means clustering, etc. Tuning these can often significantly improve performance. Techniques for hyperparameter tuning include grid search, random search, and more advanced methods like Bayesian optimization.\n",
    "\n",
    "\n",
    "6. **Cross-validation**: This is a resampling procedure used to evaluate the performance of a model on a limited data sample. The dataset is partitioned into 'k' equally sized folds, and the model is trained on 'k-1' folds, and the remaining fold is used for testing. This process is repeated 'k' times so that we obtain a model performance score for each fold. It helps in assessing how the results of a statistical analysis will generalize to an independent data set.\n",
    "\n",
    "\n",
    "7. **Regularization**: This is a technique used to prevent overfitting, which is when a model performs well on the training data but poorly on unseen data. Regularization works by adding a penalty term to the loss function that increases as the complexity of the model increases.\n",
    "\n",
    "\n",
    "8. **Ensemble your model**: This refers to combining different models to improve overall performance. Techniques include Bagging (e.g., Random Forest), Boosting (e.g., Gradient Boosting, XGBoost), and Stacking.\n",
    "\n",
    "\n",
    "Since we have already covered data cleaning, feature engineering in the previous sections, our attention in this section will shift to other topics, including data augmentation, model selection, ensemble model, regularization, cross-validation and hyperparameter tuning."
   ]
  },
  {
   "cell_type": "markdown",
   "id": "d1b7fa9e",
   "metadata": {},
   "source": [
    "## 1.2 Dataset Exploration"
   ]
  },
  {
   "cell_type": "code",
   "execution_count": 1,
   "id": "84c2ab8e",
   "metadata": {},
   "outputs": [],
   "source": [
    "import numpy as np\n",
    "import pandas as pd\n",
    "import seaborn as sns\n",
    "import matplotlib.pyplot as plt\n",
    "from sklearn.metrics import accuracy_score\n",
    "from sklearn.datasets import load_digits\n",
    "from sklearn.model_selection import GridSearchCV, train_test_split, cross_val_score\n",
    "from sklearn.ensemble import RandomForestClassifier, BaggingClassifier, VotingClassifier\n",
    "from sklearn.metrics import accuracy_score\n",
    "import warnings\n",
    "\n",
    "# Ignore all warnings\n",
    "warnings.filterwarnings(\"ignore\")"
   ]
  },
  {
   "cell_type": "code",
   "execution_count": 2,
   "id": "b889e100",
   "metadata": {},
   "outputs": [
    {
     "data": {
      "text/html": [
       "<div>\n",
       "<style scoped>\n",
       "    .dataframe tbody tr th:only-of-type {\n",
       "        vertical-align: middle;\n",
       "    }\n",
       "\n",
       "    .dataframe tbody tr th {\n",
       "        vertical-align: top;\n",
       "    }\n",
       "\n",
       "    .dataframe thead th {\n",
       "        text-align: right;\n",
       "    }\n",
       "</style>\n",
       "<table border=\"1\" class=\"dataframe\">\n",
       "  <thead>\n",
       "    <tr style=\"text-align: right;\">\n",
       "      <th></th>\n",
       "      <th>pixel_0_0</th>\n",
       "      <th>pixel_0_1</th>\n",
       "      <th>pixel_0_2</th>\n",
       "      <th>pixel_0_3</th>\n",
       "      <th>pixel_0_4</th>\n",
       "      <th>pixel_0_5</th>\n",
       "      <th>pixel_0_6</th>\n",
       "      <th>pixel_0_7</th>\n",
       "      <th>pixel_1_0</th>\n",
       "      <th>pixel_1_1</th>\n",
       "      <th>...</th>\n",
       "      <th>pixel_6_7</th>\n",
       "      <th>pixel_7_0</th>\n",
       "      <th>pixel_7_1</th>\n",
       "      <th>pixel_7_2</th>\n",
       "      <th>pixel_7_3</th>\n",
       "      <th>pixel_7_4</th>\n",
       "      <th>pixel_7_5</th>\n",
       "      <th>pixel_7_6</th>\n",
       "      <th>pixel_7_7</th>\n",
       "      <th>target</th>\n",
       "    </tr>\n",
       "  </thead>\n",
       "  <tbody>\n",
       "    <tr>\n",
       "      <th>0</th>\n",
       "      <td>0.0</td>\n",
       "      <td>0.0</td>\n",
       "      <td>5.0</td>\n",
       "      <td>13.0</td>\n",
       "      <td>9.0</td>\n",
       "      <td>1.0</td>\n",
       "      <td>0.0</td>\n",
       "      <td>0.0</td>\n",
       "      <td>0.0</td>\n",
       "      <td>0.0</td>\n",
       "      <td>...</td>\n",
       "      <td>0.0</td>\n",
       "      <td>0.0</td>\n",
       "      <td>0.0</td>\n",
       "      <td>6.0</td>\n",
       "      <td>13.0</td>\n",
       "      <td>10.0</td>\n",
       "      <td>0.0</td>\n",
       "      <td>0.0</td>\n",
       "      <td>0.0</td>\n",
       "      <td>0.0</td>\n",
       "    </tr>\n",
       "    <tr>\n",
       "      <th>1</th>\n",
       "      <td>0.0</td>\n",
       "      <td>0.0</td>\n",
       "      <td>0.0</td>\n",
       "      <td>12.0</td>\n",
       "      <td>13.0</td>\n",
       "      <td>5.0</td>\n",
       "      <td>0.0</td>\n",
       "      <td>0.0</td>\n",
       "      <td>0.0</td>\n",
       "      <td>0.0</td>\n",
       "      <td>...</td>\n",
       "      <td>0.0</td>\n",
       "      <td>0.0</td>\n",
       "      <td>0.0</td>\n",
       "      <td>0.0</td>\n",
       "      <td>11.0</td>\n",
       "      <td>16.0</td>\n",
       "      <td>10.0</td>\n",
       "      <td>0.0</td>\n",
       "      <td>0.0</td>\n",
       "      <td>1.0</td>\n",
       "    </tr>\n",
       "    <tr>\n",
       "      <th>2</th>\n",
       "      <td>0.0</td>\n",
       "      <td>0.0</td>\n",
       "      <td>0.0</td>\n",
       "      <td>4.0</td>\n",
       "      <td>15.0</td>\n",
       "      <td>12.0</td>\n",
       "      <td>0.0</td>\n",
       "      <td>0.0</td>\n",
       "      <td>0.0</td>\n",
       "      <td>0.0</td>\n",
       "      <td>...</td>\n",
       "      <td>0.0</td>\n",
       "      <td>0.0</td>\n",
       "      <td>0.0</td>\n",
       "      <td>0.0</td>\n",
       "      <td>3.0</td>\n",
       "      <td>11.0</td>\n",
       "      <td>16.0</td>\n",
       "      <td>9.0</td>\n",
       "      <td>0.0</td>\n",
       "      <td>2.0</td>\n",
       "    </tr>\n",
       "    <tr>\n",
       "      <th>3</th>\n",
       "      <td>0.0</td>\n",
       "      <td>0.0</td>\n",
       "      <td>7.0</td>\n",
       "      <td>15.0</td>\n",
       "      <td>13.0</td>\n",
       "      <td>1.0</td>\n",
       "      <td>0.0</td>\n",
       "      <td>0.0</td>\n",
       "      <td>0.0</td>\n",
       "      <td>8.0</td>\n",
       "      <td>...</td>\n",
       "      <td>0.0</td>\n",
       "      <td>0.0</td>\n",
       "      <td>0.0</td>\n",
       "      <td>7.0</td>\n",
       "      <td>13.0</td>\n",
       "      <td>13.0</td>\n",
       "      <td>9.0</td>\n",
       "      <td>0.0</td>\n",
       "      <td>0.0</td>\n",
       "      <td>3.0</td>\n",
       "    </tr>\n",
       "    <tr>\n",
       "      <th>4</th>\n",
       "      <td>0.0</td>\n",
       "      <td>0.0</td>\n",
       "      <td>0.0</td>\n",
       "      <td>1.0</td>\n",
       "      <td>11.0</td>\n",
       "      <td>0.0</td>\n",
       "      <td>0.0</td>\n",
       "      <td>0.0</td>\n",
       "      <td>0.0</td>\n",
       "      <td>0.0</td>\n",
       "      <td>...</td>\n",
       "      <td>0.0</td>\n",
       "      <td>0.0</td>\n",
       "      <td>0.0</td>\n",
       "      <td>0.0</td>\n",
       "      <td>2.0</td>\n",
       "      <td>16.0</td>\n",
       "      <td>4.0</td>\n",
       "      <td>0.0</td>\n",
       "      <td>0.0</td>\n",
       "      <td>4.0</td>\n",
       "    </tr>\n",
       "  </tbody>\n",
       "</table>\n",
       "<p>5 rows × 65 columns</p>\n",
       "</div>"
      ],
      "text/plain": [
       "   pixel_0_0  pixel_0_1  pixel_0_2  pixel_0_3  pixel_0_4  pixel_0_5  \\\n",
       "0        0.0        0.0        5.0       13.0        9.0        1.0   \n",
       "1        0.0        0.0        0.0       12.0       13.0        5.0   \n",
       "2        0.0        0.0        0.0        4.0       15.0       12.0   \n",
       "3        0.0        0.0        7.0       15.0       13.0        1.0   \n",
       "4        0.0        0.0        0.0        1.0       11.0        0.0   \n",
       "\n",
       "   pixel_0_6  pixel_0_7  pixel_1_0  pixel_1_1  ...  pixel_6_7  pixel_7_0  \\\n",
       "0        0.0        0.0        0.0        0.0  ...        0.0        0.0   \n",
       "1        0.0        0.0        0.0        0.0  ...        0.0        0.0   \n",
       "2        0.0        0.0        0.0        0.0  ...        0.0        0.0   \n",
       "3        0.0        0.0        0.0        8.0  ...        0.0        0.0   \n",
       "4        0.0        0.0        0.0        0.0  ...        0.0        0.0   \n",
       "\n",
       "   pixel_7_1  pixel_7_2  pixel_7_3  pixel_7_4  pixel_7_5  pixel_7_6  \\\n",
       "0        0.0        6.0       13.0       10.0        0.0        0.0   \n",
       "1        0.0        0.0       11.0       16.0       10.0        0.0   \n",
       "2        0.0        0.0        3.0       11.0       16.0        9.0   \n",
       "3        0.0        7.0       13.0       13.0        9.0        0.0   \n",
       "4        0.0        0.0        2.0       16.0        4.0        0.0   \n",
       "\n",
       "   pixel_7_7  target  \n",
       "0        0.0     0.0  \n",
       "1        0.0     1.0  \n",
       "2        0.0     2.0  \n",
       "3        0.0     3.0  \n",
       "4        0.0     4.0  \n",
       "\n",
       "[5 rows x 65 columns]"
      ]
     },
     "execution_count": 2,
     "metadata": {},
     "output_type": "execute_result"
    }
   ],
   "source": [
    "from sklearn.datasets import load_digits\n",
    "\n",
    "# Load the digits dataset\n",
    "digits = load_digits()\n",
    "\n",
    "# Create a dataframe\n",
    "# \"digits.data\" contains the features and \"digits.target\" contains the target\n",
    "df = pd.DataFrame(data= np.c_[digits['data'], digits['target']],\n",
    "                  columns= digits['feature_names'] + ['target'])\n",
    "\n",
    "# Separate the features (X) and the target (y)\n",
    "X = df[digits['feature_names']]\n",
    "y = df['target']\n",
    "\n",
    "# Display the dataframe\n",
    "df.head()"
   ]
  },
  {
   "cell_type": "code",
   "execution_count": 3,
   "id": "74c93dd7",
   "metadata": {},
   "outputs": [
    {
     "name": "stdout",
     "output_type": "stream",
     "text": [
      "<class 'pandas.core.frame.DataFrame'>\n",
      "RangeIndex: 1797 entries, 0 to 1796\n",
      "Data columns (total 65 columns):\n",
      " #   Column     Non-Null Count  Dtype  \n",
      "---  ------     --------------  -----  \n",
      " 0   pixel_0_0  1797 non-null   float64\n",
      " 1   pixel_0_1  1797 non-null   float64\n",
      " 2   pixel_0_2  1797 non-null   float64\n",
      " 3   pixel_0_3  1797 non-null   float64\n",
      " 4   pixel_0_4  1797 non-null   float64\n",
      " 5   pixel_0_5  1797 non-null   float64\n",
      " 6   pixel_0_6  1797 non-null   float64\n",
      " 7   pixel_0_7  1797 non-null   float64\n",
      " 8   pixel_1_0  1797 non-null   float64\n",
      " 9   pixel_1_1  1797 non-null   float64\n",
      " 10  pixel_1_2  1797 non-null   float64\n",
      " 11  pixel_1_3  1797 non-null   float64\n",
      " 12  pixel_1_4  1797 non-null   float64\n",
      " 13  pixel_1_5  1797 non-null   float64\n",
      " 14  pixel_1_6  1797 non-null   float64\n",
      " 15  pixel_1_7  1797 non-null   float64\n",
      " 16  pixel_2_0  1797 non-null   float64\n",
      " 17  pixel_2_1  1797 non-null   float64\n",
      " 18  pixel_2_2  1797 non-null   float64\n",
      " 19  pixel_2_3  1797 non-null   float64\n",
      " 20  pixel_2_4  1797 non-null   float64\n",
      " 21  pixel_2_5  1797 non-null   float64\n",
      " 22  pixel_2_6  1797 non-null   float64\n",
      " 23  pixel_2_7  1797 non-null   float64\n",
      " 24  pixel_3_0  1797 non-null   float64\n",
      " 25  pixel_3_1  1797 non-null   float64\n",
      " 26  pixel_3_2  1797 non-null   float64\n",
      " 27  pixel_3_3  1797 non-null   float64\n",
      " 28  pixel_3_4  1797 non-null   float64\n",
      " 29  pixel_3_5  1797 non-null   float64\n",
      " 30  pixel_3_6  1797 non-null   float64\n",
      " 31  pixel_3_7  1797 non-null   float64\n",
      " 32  pixel_4_0  1797 non-null   float64\n",
      " 33  pixel_4_1  1797 non-null   float64\n",
      " 34  pixel_4_2  1797 non-null   float64\n",
      " 35  pixel_4_3  1797 non-null   float64\n",
      " 36  pixel_4_4  1797 non-null   float64\n",
      " 37  pixel_4_5  1797 non-null   float64\n",
      " 38  pixel_4_6  1797 non-null   float64\n",
      " 39  pixel_4_7  1797 non-null   float64\n",
      " 40  pixel_5_0  1797 non-null   float64\n",
      " 41  pixel_5_1  1797 non-null   float64\n",
      " 42  pixel_5_2  1797 non-null   float64\n",
      " 43  pixel_5_3  1797 non-null   float64\n",
      " 44  pixel_5_4  1797 non-null   float64\n",
      " 45  pixel_5_5  1797 non-null   float64\n",
      " 46  pixel_5_6  1797 non-null   float64\n",
      " 47  pixel_5_7  1797 non-null   float64\n",
      " 48  pixel_6_0  1797 non-null   float64\n",
      " 49  pixel_6_1  1797 non-null   float64\n",
      " 50  pixel_6_2  1797 non-null   float64\n",
      " 51  pixel_6_3  1797 non-null   float64\n",
      " 52  pixel_6_4  1797 non-null   float64\n",
      " 53  pixel_6_5  1797 non-null   float64\n",
      " 54  pixel_6_6  1797 non-null   float64\n",
      " 55  pixel_6_7  1797 non-null   float64\n",
      " 56  pixel_7_0  1797 non-null   float64\n",
      " 57  pixel_7_1  1797 non-null   float64\n",
      " 58  pixel_7_2  1797 non-null   float64\n",
      " 59  pixel_7_3  1797 non-null   float64\n",
      " 60  pixel_7_4  1797 non-null   float64\n",
      " 61  pixel_7_5  1797 non-null   float64\n",
      " 62  pixel_7_6  1797 non-null   float64\n",
      " 63  pixel_7_7  1797 non-null   float64\n",
      " 64  target     1797 non-null   float64\n",
      "dtypes: float64(65)\n",
      "memory usage: 912.7 KB\n"
     ]
    }
   ],
   "source": [
    "df.info()"
   ]
  },
  {
   "cell_type": "markdown",
   "id": "1fd3f238",
   "metadata": {},
   "source": [
    "## 1.3 Data Augmentation"
   ]
  },
  {
   "cell_type": "markdown",
   "id": "4b60859f",
   "metadata": {},
   "source": [
    "The `augment_data` function is defined to perform data augmentation. It takes the original images and labels as input and generates augmented versions of each image. The augmentation includes adding the original image, its horizontal flip, and a 90-degree rotation. The augmented images and labels are stored in `augmented_images` and `augmented_labels`, respectively."
   ]
  },
  {
   "cell_type": "code",
   "execution_count": 4,
   "id": "2838d9d1",
   "metadata": {},
   "outputs": [],
   "source": [
    "# Load the digit dataset\n",
    "digits = load_digits()\n",
    "images = digits.images\n",
    "labels = digits.target\n",
    "\n",
    "# Data augmentation (optional)\n",
    "def augment_data(images, labels):\n",
    "    augmented_images = []\n",
    "    augmented_labels = []\n",
    "    for image, label in zip(images, labels):\n",
    "        augmented_images.append(image)\n",
    "        augmented_labels.append(label)\n",
    "\n",
    "        augmented_images.append(np.fliplr(image))\n",
    "        augmented_labels.append(label)\n",
    "\n",
    "        augmented_images.append(np.rot90(image, k=1))\n",
    "        augmented_labels.append(label)\n",
    "\n",
    "    return np.array(augmented_images), np.array(augmented_labels)\n",
    "\n",
    "augmented_images, augmented_labels = augment_data(images, labels)\n"
   ]
  },
  {
   "cell_type": "markdown",
   "id": "c6c09bb2",
   "metadata": {},
   "source": [
    "This code combines the original images and their augmented versions into a single dataset, resulting in `all_images` and `all_labels`."
   ]
  },
  {
   "cell_type": "code",
   "execution_count": 5,
   "id": "8ff99455",
   "metadata": {},
   "outputs": [],
   "source": [
    "# Combine original and augmented data\n",
    "all_images = np.concatenate([images, augmented_images])\n",
    "all_labels = np.concatenate([labels, augmented_labels])"
   ]
  },
  {
   "cell_type": "markdown",
   "id": "df727147",
   "metadata": {},
   "source": [
    "The `plot_images` function is defined to visualize the original images and their augmented counterparts. It uses Matplotlib to create a grid of images, with the number of rows and columns specified by `rows` and `cols`. The function displays `num_samples` samples of original and augmented images side by side for better understanding."
   ]
  },
  {
   "cell_type": "code",
   "execution_count": 6,
   "id": "bb7ae237",
   "metadata": {},
   "outputs": [
    {
     "data": {
      "image/png": "[encoded data removed]",
      "text/plain": [
       "<Figure size 720x720 with 10 Axes>"
      ]
     },
     "metadata": {
      "needs_background": "light"
     },
     "output_type": "display_data"
    },
    {
     "data": {
      "image/png": "[encoded data removed]",
      "text/plain": [
       "<Figure size 720x720 with 10 Axes>"
      ]
     },
     "metadata": {
      "needs_background": "light"
     },
     "output_type": "display_data"
    }
   ],
   "source": [
    "# Visualize the original images and their augmented counterparts\n",
    "def plot_images(images, labels, rows, cols):\n",
    "    fig, axes = plt.subplots(rows, cols, figsize=(10, 10))\n",
    "    for i, ax in enumerate(axes.flat):\n",
    "        ax.imshow(images[i], cmap='gray')\n",
    "        ax.set_title(f\"Label: {labels[i]}\")\n",
    "        ax.axis('off')\n",
    "    plt.show()\n",
    "\n",
    "num_samples = 10# Number of samples to visualize for each category\n",
    "original_images_sample = images[:num_samples]\n",
    "augmented_images_sample = augmented_images[:num_samples]\n",
    "\n",
    "plot_images(original_images_sample, labels[:num_samples], 1, num_samples)\n",
    "plot_images(augmented_images_sample, labels[:num_samples], 1, num_samples)"
   ]
  },
  {
   "cell_type": "markdown",
   "id": "5afaba80",
   "metadata": {},
   "source": [
    "## 1.4 Data Pre-processing"
   ]
  },
  {
   "cell_type": "markdown",
   "id": "7a51ebc1",
   "metadata": {},
   "source": [
    "The digits dataset from sklearn is a clean dataset, meaning it `doesn't have missing values`, it `doesn't contain categorical features` that need to be encoded, and it `doesn't have obvious outliers`. Therefore, some pre-processing steps like handling missing values, encoding categorical variables, or outlier treatment are not applicable in this case."
   ]
  },
  {
   "cell_type": "markdown",
   "id": "43f7ce79",
   "metadata": {},
   "source": [
    "## 1.5 Feature Engineering"
   ]
  },
  {
   "cell_type": "markdown",
   "id": "6b58761a",
   "metadata": {},
   "source": [
    "The digits dataset is a set of 8x8 pixel images, and each pixel in the image is a feature. There are a total of 64 features for each image. These features are already in a form that's suitable for machine learning models, so it's typically not necessary to do additional feature engineering."
   ]
  },
  {
   "cell_type": "markdown",
   "id": "58a070d1",
   "metadata": {},
   "source": [
    "## 1.6 Hyperparameter Tuning using GridSearchCV with Visualization"
   ]
  },
  {
   "cell_type": "markdown",
   "id": "f16bd49a",
   "metadata": {},
   "source": [
    "### 1.6.1 Split the data into training and test sets"
   ]
  },
  {
   "cell_type": "code",
   "execution_count": 7,
   "id": "e298e661",
   "metadata": {},
   "outputs": [],
   "source": [
    "X_train, X_test, y_train, y_test = train_test_split(all_images, all_labels, test_size=0.2, random_state=42)"
   ]
  },
  {
   "cell_type": "markdown",
   "id": "bc2606d1",
   "metadata": {},
   "source": [
    "## 1.6.2 Hyperparameter Tuning using GridSearchCV with Visualization"
   ]
  },
  {
   "cell_type": "markdown",
   "id": "246d8fbf",
   "metadata": {},
   "source": [
    "This section performs model selection and hyperparameter tuning using GridSearchCV. We define `param_grid`, a dictionary with hyperparameters and their possible values. The `GridSearchCV` will perform a grid search over the parameter grid and use 5-fold cross-validation (`cv=5`) to find the best combination of hyperparameters for the Random Forest Classifier. After fitting the grid search, the best model is stored in `grid_search.best_estimator_`."
   ]
  },
  {
   "cell_type": "code",
   "execution_count": 8,
   "id": "ca7019fe",
   "metadata": {},
   "outputs": [
    {
     "data": {
      "text/plain": [
       "GridSearchCV(cv=5, estimator=RandomForestClassifier(),\n",
       "             param_grid={'max_depth': [None, 10, 20],\n",
       "                         'n_estimators': [50, 100, 200]})"
      ]
     },
     "execution_count": 8,
     "metadata": {},
     "output_type": "execute_result"
    }
   ],
   "source": [
    "param_grid = {\n",
    "    'n_estimators': [50, 100, 200],\n",
    "    'max_depth': [None, 10, 20],\n",
    "}\n",
    "\n",
    "rf_model = RandomForestClassifier()\n",
    "grid_search = GridSearchCV(rf_model, param_grid, cv=5)\n",
    "grid_search.fit(X_train.reshape(len(X_train), -1), y_train)"
   ]
  },
  {
   "cell_type": "markdown",
   "id": "30033286",
   "metadata": {},
   "source": [
    "## 1.6.3 Visualize Hyperparameter Tuning Results"
   ]
  },
  {
   "cell_type": "markdown",
   "id": "3b73525f",
   "metadata": {},
   "source": [
    "This part is new and focuses on the visualization of hyperparameter tuning results. We extract the mean cross-validation scores (`mean_scores`) and the corresponding hyperparameter combinations (`param_combinations`) from the `grid_search.cv_results_ dictionary`. The `for` loop then prints each mean CV score along with its corresponding hyperparameter combination for reference.\n",
    "\n",
    "After printing, we create a scatter plot to visualize the mean CV scores with respect to the hyperparameter combinations. The x-axis represents the values of `n_estimators`, the y-axis represents the values of `max_depth`, and the color of each point corresponds to the mean CV score. This plot helps us understand how different hyperparameter settings affect the model's performance during hyperparameter tuning."
   ]
  },
  {
   "cell_type": "code",
   "execution_count": 9,
   "id": "626735cc",
   "metadata": {},
   "outputs": [
    {
     "name": "stdout",
     "output_type": "stream",
     "text": [
      "Mean CV Score: 0.9767, Hyperparameters: {'max_depth': None, 'n_estimators': 50}\n",
      "Mean CV Score: 0.9800, Hyperparameters: {'max_depth': None, 'n_estimators': 100}\n",
      "Mean CV Score: 0.9819, Hyperparameters: {'max_depth': None, 'n_estimators': 200}\n",
      "Mean CV Score: 0.9699, Hyperparameters: {'max_depth': 10, 'n_estimators': 50}\n",
      "Mean CV Score: 0.9757, Hyperparameters: {'max_depth': 10, 'n_estimators': 100}\n",
      "Mean CV Score: 0.9763, Hyperparameters: {'max_depth': 10, 'n_estimators': 200}\n",
      "Mean CV Score: 0.9784, Hyperparameters: {'max_depth': 20, 'n_estimators': 50}\n",
      "Mean CV Score: 0.9795, Hyperparameters: {'max_depth': 20, 'n_estimators': 100}\n",
      "Mean CV Score: 0.9812, Hyperparameters: {'max_depth': 20, 'n_estimators': 200}\n"
     ]
    },
    {
     "data": {
      "image/png": "[encoded data removed]",
      "text/plain": [
       "<Figure size 720x432 with 2 Axes>"
      ]
     },
     "metadata": {
      "needs_background": "light"
     },
     "output_type": "display_data"
    }
   ],
   "source": [
    "# Visualize Hyperparameter Tuning Results\n",
    "mean_scores = grid_search.cv_results_['mean_test_score']\n",
    "param_combinations = list(grid_search.cv_results_['params'])\n",
    "\n",
    "for mean_score, params in zip(mean_scores, param_combinations):\n",
    "    print(f\"Mean CV Score: {mean_score:.4f}, Hyperparameters: {params}\")\n",
    "\n",
    "# Plotting the Mean Cross-Validation Scores\n",
    "n_estimators_values = [param['n_estimators'] for param in param_combinations]\n",
    "max_depth_values = [param['max_depth'] for param in param_combinations]\n",
    "\n",
    "plt.figure(figsize=(10, 6))\n",
    "plt.scatter(n_estimators_values, max_depth_values, c=mean_scores, cmap='viridis', s=200, edgecolors='k')\n",
    "plt.colorbar(label='Mean CV Score')\n",
    "plt.xlabel('n_estimators')\n",
    "plt.ylabel('max_depth')\n",
    "plt.title('Hyperparameter Tuning Results')\n",
    "plt.show()"
   ]
  },
  {
   "cell_type": "markdown",
   "id": "37c28355",
   "metadata": {},
   "source": [
    "### 1.6.4 Best Model from Hyperparameter Tuning"
   ]
  },
  {
   "cell_type": "code",
   "execution_count": 10,
   "id": "118595bd",
   "metadata": {},
   "outputs": [
    {
     "data": {
      "text/plain": [
       "RandomForestClassifier(n_estimators=200)"
      ]
     },
     "execution_count": 10,
     "metadata": {},
     "output_type": "execute_result"
    }
   ],
   "source": [
    "# Best Model from Hyperparameter Tuning\n",
    "best_model = grid_search.best_estimator_\n",
    "best_model"
   ]
  },
  {
   "cell_type": "markdown",
   "id": "f3a45b3d",
   "metadata": {},
   "source": [
    "## 1.7 Regularization"
   ]
  },
  {
   "cell_type": "markdown",
   "id": "d7a15445",
   "metadata": {},
   "source": [
    "We select the best model found during hyperparameter tuning and store it in `best_model`. Additionally, we create a regularized Random Forest Classifier (`regularized_model`) with a specific `max_depth` hyperparameter to prevent overfitting."
   ]
  },
  {
   "cell_type": "code",
   "execution_count": 11,
   "id": "7996f6cd",
   "metadata": {},
   "outputs": [
    {
     "data": {
      "text/plain": [
       "RandomForestClassifier(max_depth=10)"
      ]
     },
     "execution_count": 11,
     "metadata": {},
     "output_type": "execute_result"
    }
   ],
   "source": [
    "regularized_model = RandomForestClassifier(max_depth=10)\n",
    "regularized_model.fit(X_train.reshape(len(X_train), -1), y_train)"
   ]
  },
  {
   "cell_type": "markdown",
   "id": "47617ba4",
   "metadata": {},
   "source": [
    "## 1.8 Ensemble Techniques (Bagging and Voting)"
   ]
  },
  {
   "cell_type": "markdown",
   "id": "25544c50",
   "metadata": {},
   "source": [
    "In this section, we define two ensemble models: the Bagging Classifier (`bagging_model`) using regularized_model as the base estimator, and the Voting Classifier (`voting_model`) that combines the `regularized_model` and the `bagging_model`."
   ]
  },
  {
   "cell_type": "code",
   "execution_count": 12,
   "id": "85373434",
   "metadata": {},
   "outputs": [],
   "source": [
    "# Ensemble Techniques (Bagging and Voting)\n",
    "bagging_model = BaggingClassifier(base_estimator=regularized_model, n_estimators=10, random_state=42)\n",
    "voting_model = VotingClassifier([('rf', regularized_model), ('bagging', bagging_model)])\n"
   ]
  },
  {
   "cell_type": "markdown",
   "id": "b51627b2",
   "metadata": {},
   "source": [
    "Both the Bagging and Voting models are trained on the entire training data.\n"
   ]
  },
  {
   "cell_type": "markdown",
   "id": "c323750b",
   "metadata": {},
   "source": [
    "## 1.9 Train the Bagging and Voting models on the entire training data"
   ]
  },
  {
   "cell_type": "code",
   "execution_count": 13,
   "id": "5205891c",
   "metadata": {},
   "outputs": [
    {
     "data": {
      "text/plain": [
       "VotingClassifier(estimators=[('rf', RandomForestClassifier(max_depth=10)),\n",
       "                             ('bagging',\n",
       "                              BaggingClassifier(base_estimator=RandomForestClassifier(max_depth=10),\n",
       "                                                random_state=42))])"
      ]
     },
     "execution_count": 13,
     "metadata": {},
     "output_type": "execute_result"
    }
   ],
   "source": [
    "# Train the Bagging and Voting models on the entire training data\n",
    "bagging_model.fit(X_train.reshape(len(X_train), -1), y_train)\n",
    "voting_model.fit(X_train.reshape(len(X_train), -1), y_train)\n"
   ]
  },
  {
   "cell_type": "markdown",
   "id": "a066d62e",
   "metadata": {},
   "source": [
    "## 1.10 Evaluate the Bagging and Voting models on the test set"
   ]
  },
  {
   "cell_type": "markdown",
   "id": "2ac08ad8",
   "metadata": {},
   "source": [
    "The Bagging and Voting models are evaluated on the test set, and their performance is measured using accuracy scores."
   ]
  },
  {
   "cell_type": "code",
   "execution_count": 14,
   "id": "791fa287",
   "metadata": {},
   "outputs": [],
   "source": [
    "y_pred_bagging = bagging_model.predict(X_test.reshape(len(X_test), -1))\n",
    "y_pred_voting = voting_model.predict(X_test.reshape(len(X_test), -1))\n",
    "\n",
    "test_accuracy_bagging = accuracy_score(y_test, y_pred_bagging)\n",
    "test_accuracy_voting = accuracy_score(y_test, y_pred_voting)"
   ]
  },
  {
   "cell_type": "markdown",
   "id": "0a1c7a29",
   "metadata": {},
   "source": [
    "## 1.11 Print results"
   ]
  },
  {
   "cell_type": "code",
   "execution_count": 15,
   "id": "8ff6ec00",
   "metadata": {},
   "outputs": [
    {
     "name": "stdout",
     "output_type": "stream",
     "text": [
      "Best Model Parameters: {'max_depth': None, 'n_estimators': 200}\n",
      "Test Accuracy (Best Model): 0.9798331015299027\n",
      "Test Accuracy (Bagging Model): 0.9756606397774688\n",
      "Test Accuracy (Voting Model): 0.9763560500695411\n"
     ]
    }
   ],
   "source": [
    "# Print results\n",
    "print(\"Best Model Parameters:\", grid_search.best_params_)\n",
    "print(\"Test Accuracy (Best Model):\", best_model.score(X_test.reshape(len(X_test), -1), y_test))\n",
    "print(\"Test Accuracy (Bagging Model):\", test_accuracy_bagging)\n",
    "print(\"Test Accuracy (Voting Model):\", test_accuracy_voting)"
   ]
  },
  {
   "cell_type": "markdown",
   "id": "8268f446",
   "metadata": {},
   "source": [
    "## 1.12 Exercise"
   ]
  },
  {
   "cell_type": "markdown",
   "id": "53b130c6",
   "metadata": {},
   "source": [
    "Question: You are working on a classification problem using a Support Vector Machine (SVM) classifier. The dataset you are using is quite large and has a high number of features. You want to optimize the hyperparameters of the SVM model to achieve better performance. Write a code snippet in Python using scikit-learn to perform hyperparameter tuning for the SVM classifier using GridSearchCV. Assume the dataset is already split into X_train, X_test, y_train, and y_test, and the SVM classifier is initialized as SVC().\n",
    "\n",
    "Hint: You can consider tuning hyperparameters like the kernel type, C (regularization parameter), and gamma.\n",
    "\n",
    "Note: For the purpose of this question, you don't need to worry about standardizing or normalizing the features.\n",
    "\n",
    "Please write your code below:"
   ]
  },
  {
   "cell_type": "code",
   "execution_count": 16,
   "id": "f095f833",
   "metadata": {},
   "outputs": [],
   "source": [
    "# from sklearn.datasets import load_iris\n",
    "# from sklearn.model_selection import train_test_split, GridSearchCV\n",
    "# from sklearn.svm import SVC\n",
    "# from sklearn.metrics import accuracy_score\n",
    "\n",
    "# # Load the Iris dataset\n",
    "# data = load_iris()\n",
    "# X, y = data.data, data.target\n",
    "\n",
    "# # Split the dataset into training and testing sets\n",
    "# X_train, X_test, y_train, y_test = train_test_split(X, y, test_size=0.2, random_state=42)\n",
    "\n",
    "# # Initialize the SVM classifier\n",
    "# svm_classifier = SVC()\n",
    "\n",
    "# # Define the hyperparameter grid for GridSearchCV\n",
    "# param_grid = {\n",
    "#     'kernel': ,\n",
    "#     'C': ,\n",
    "#     'gamma': \n",
    "# }\n",
    "\n",
    "# # Create the GridSearchCV object with cross-validation (e.g., 5-fold cross-validation)\n",
    "# grid_search =\n",
    "\n",
    "# # Perform the hyperparameter tuning on the training data\n",
    "# grid_search.fit(X_train, y_train)\n",
    "\n",
    "# # Get the best hyperparameters from the GridSearchCV\n",
    "# best_params = \n",
    "# print(\"Best hyperparameters:\", )\n",
    "\n",
    "# # Evaluate the model with the best hyperparameters on the test data\n",
    "# best_svm_classifier = \n",
    "# y_pred = \n",
    "# accuracy = \n",
    "# print(\"Test accuracy with best hyperparameters:\", accuracy)\n"
   ]
  },
  {
   "cell_type": "markdown",
   "id": "35ab94d6",
   "metadata": {},
   "source": [
    "# 2. Bagging and Boosting"
   ]
  },
  {
   "cell_type": "markdown",
   "id": "eb1b0d40",
   "metadata": {},
   "source": [
    "## 2.1 Introduction\n",
    "\n",
    "### 2.1.1 Overview of Ensemble Learning:\n",
    "\n",
    "- Ensemble learning is a powerful technique in machine learning where multiple models are combined to create a more robust and accurate predictive model.\n",
    "- The idea is to leverage the collective intelligence of multiple models to make better predictions than any individual model could achieve alone.\n",
    "- Ensemble learning draws inspiration from the wisdom of crowds, where diverse opinions lead to better decisions than relying on a single perspective.\n",
    "- By aggregating the predictions from multiple models, ensemble learning aims to improve generalization and reduce the risk of overfitting.\n",
    "\n",
    "\n",
    "\n",
    "### 2.1.2 Importance of Ensemble Learning in Data Science:\n",
    "\n",
    "- Data science often deals with complex and noisy datasets where building a single strong model may be challenging.\n",
    "- Ensemble learning helps address the limitations of individual models by combining their strengths and compensating for their weaknesses.\n",
    "- Ensemble methods can significantly boost the accuracy and performance of predictive models, making them invaluable in various real-world applications.\n",
    "- Ensemble learning is widely used in competitions like Kaggle, where top-performing models often utilize sophisticated ensemble techniques.\n",
    "- In practical scenarios, ensemble models are more reliable and trustworthy due to their ability to capture diverse patterns and avoid model bias.\n",
    "\n",
    "### 2.1.3 What to Expect in This Session:\n",
    "\n",
    "- In this session, we will delve into two essential ensemble learning techniques: bagging and boosting.\n",
    "- We will understand the underlying principles of each technique, explore their strengths and weaknesses, and discover when to use them.\n",
    "- We will also demonstrate coding examples using Python and scikit-learn to solidify your understanding and enable you to implement these techniques in your projects.\n",
    "- By the end of this session, you will have a clear understanding of how bagging and boosting contribute to the success of predictive models and the importance of ensemble learning in data science."
   ]
  },
  {
   "cell_type": "markdown",
   "id": "951a79ae",
   "metadata": {},
   "source": [
    "## 2.2 Bagging (Bootstrap Aggregating)\n",
    "\n",
    "### 2.2.1 Definition and Purpose of Bagging:\n",
    "\n",
    "- Bagging, short for Bootstrap Aggregating, is an ensemble learning technique that aims to improve the accuracy and robustness of predictive models.\n",
    "- The primary purpose of bagging is to reduce variance and combat overfitting, which are common challenges in machine learning.\n",
    "- By combining predictions from multiple base learners, bagging reduces the risk of relying too heavily on any one model's idiosyncrasies.\n",
    "\n",
    "\n",
    "### 2.2.2 How Bagging Works:\n",
    "\n",
    "1. Bootstrapping and Creating Subsets:\n",
    "- Bagging starts by creating multiple subsets of the original training data through bootstrapping.\n",
    "- Bootstrapping involves randomly sampling data with replacement, resulting in diverse subsets with the same size as the original dataset.\n",
    "\n",
    "\n",
    "2. Training Multiple Base Learners:\n",
    "- Each subset is used to train an independent base learner (model), such as decision trees, SVMs, or neural networks.\n",
    "- These base learners are trained independently, and their predictions are combined later to form the ensemble.\n",
    "\n",
    "\n",
    "3. Aggregating Predictions:\n",
    "- Once all base learners are trained, the final prediction is made by aggregating their individual predictions.\n",
    "- For regression tasks, predictions are averaged, while for classification tasks, majority voting is used to decide the final prediction.\n",
    "\n",
    "\n",
    "### 2.2.3 Advantages of Bagging:\n",
    "\n",
    "1. Reducing Variance and Overfitting:\n",
    "- Bagging's main advantage is its ability to reduce variance and combat overfitting.\n",
    "- By combining predictions from diverse models, it results in a more balanced and stable ensemble model.\n",
    "\n",
    "\n",
    "2. Robustness to Noisy Data and Outliers:\n",
    "- Bagging is robust to noisy data and outliers, as it diminishes the impact of individual data points through aggregation.\n",
    "- Outliers are less likely to affect the overall prediction due to the averaging or voting process.\n",
    "\n",
    "\n",
    "### 2.2.4 Common Algorithms Using Bagging:\n",
    "\n",
    "1. Random Forest:\n",
    "- Random Forest is one of the most popular bagging algorithms that uses decision trees as base learners.\n",
    "- It builds a large number of decision trees, and each tree is trained on a bootstrapped subset of the data.\n",
    "- The final prediction is made by aggregating the predictions of all individual trees.\n",
    "\n",
    "2. Bagged Decision Trees:\n",
    "- Bagged Decision Trees, or simply Bagging with decision trees, is a straightforward bagging approach.\n",
    "- It applies the same concept as Random Forest but with a smaller number of trees (often not enough to be considered a forest).\n",
    "\n",
    "3. Bagged SVMs (Support Vector Machines):\n",
    "- Bagging can also be applied to other base learners like Support Vector Machines (SVMs).\n",
    "- Bagged SVMs utilize subsets of data for training multiple SVM models, and their predictions are aggregated to make the final prediction."
   ]
  },
  {
   "cell_type": "markdown",
   "id": "3090984f",
   "metadata": {},
   "source": [
    "### 2.2.5 Coding Example with Random Forest (Python and scikit-learn):"
   ]
  },
  {
   "cell_type": "code",
   "execution_count": 17,
   "id": "12c59d68",
   "metadata": {},
   "outputs": [],
   "source": [
    "# Import necessary libraries\n",
    "import pandas as pd\n",
    "from sklearn.datasets import fetch_openml\n",
    "from sklearn.tree import DecisionTreeClassifier\n",
    "from sklearn.ensemble import RandomForestClassifier\n",
    "from sklearn.model_selection import train_test_split\n",
    "from sklearn.metrics import accuracy_score\n",
    "from sklearn.utils import resample\n",
    "import numpy as np"
   ]
  },
  {
   "cell_type": "markdown",
   "id": "5a8f4e3c",
   "metadata": {},
   "source": [
    "#### 2.2.5.1 Loading Data"
   ]
  },
  {
   "cell_type": "code",
   "execution_count": 18,
   "id": "586253ee",
   "metadata": {},
   "outputs": [],
   "source": [
    "# Load the covertype dataset from OpenML\n",
    "covertype = fetch_openml('covertype', version=4)\n",
    "X = covertype.data\n",
    "y = covertype.target.astype('int') - 1  # Shift labels to range 0-6"
   ]
  },
  {
   "cell_type": "markdown",
   "id": "f58e104d",
   "metadata": {},
   "source": [
    "This code fetches the **covertype** dataset from OpenML, and then extracts the data and target labels. The labels are shifted from 1-7 to 0-6 for ease of use."
   ]
  },
  {
   "cell_type": "markdown",
   "id": "54d5c42c",
   "metadata": {},
   "source": [
    "#### 2.2.5.2 Data Subset (for speed)"
   ]
  },
  {
   "cell_type": "code",
   "execution_count": 19,
   "id": "a0335dda",
   "metadata": {},
   "outputs": [],
   "source": [
    "# Select a subset of data for demonstration purposes (and for faster execution)\n",
    "X = X[:20000]\n",
    "y = y[:20000]"
   ]
  },
  {
   "cell_type": "markdown",
   "id": "da8ba19b",
   "metadata": {},
   "source": [
    "Given the large size of the **covertype** dataset, we take a subset of 20,000 samples for faster demonstration."
   ]
  },
  {
   "cell_type": "markdown",
   "id": "f7d7cde4",
   "metadata": {},
   "source": [
    "#### 2.2.5.3 Data Splitting"
   ]
  },
  {
   "cell_type": "code",
   "execution_count": 20,
   "id": "15840962",
   "metadata": {},
   "outputs": [],
   "source": [
    "# Split data into training (70%) and testing (30%) sets\n",
    "X_train, X_test, y_train, y_test = train_test_split(X, y, test_size=0.3, random_state=42)"
   ]
  },
  {
   "cell_type": "markdown",
   "id": "1a0f7ffb",
   "metadata": {},
   "source": [
    "This splits the data into training and testing sets. 30% of the data is reserved for testing."
   ]
  },
  {
   "cell_type": "markdown",
   "id": "55be558b",
   "metadata": {},
   "source": [
    "#### 2.2.5.4 Results Storage Initialization"
   ]
  },
  {
   "cell_type": "code",
   "execution_count": 21,
   "id": "34df79fc",
   "metadata": {},
   "outputs": [],
   "source": [
    "# Initialize list to store results of each model\n",
    "results = []"
   ]
  },
  {
   "cell_type": "markdown",
   "id": "5a6253de",
   "metadata": {},
   "source": [
    "An empty list to store accuracy results for each model."
   ]
  },
  {
   "cell_type": "markdown",
   "id": "77e22a56",
   "metadata": {},
   "source": [
    "#### 2.2.5.5 Simple Decision Tree Training and Prediction"
   ]
  },
  {
   "cell_type": "code",
   "execution_count": 22,
   "id": "be5b96d2",
   "metadata": {},
   "outputs": [],
   "source": [
    "# Train and test a simple decision tree classifier\n",
    "tree = DecisionTreeClassifier()\n",
    "tree.fit(X_train, y_train)\n",
    "tree_pred = tree.predict(X_test)\n",
    "results.append(['Simple Decision Tree', accuracy_score(y_test, tree_pred)])"
   ]
  },
  {
   "cell_type": "markdown",
   "id": "25da40ce",
   "metadata": {},
   "source": [
    "This section trains a basic decision tree on the training data, makes predictions on the test data, and stores the accuracy in the results list."
   ]
  },
  {
   "cell_type": "markdown",
   "id": "d34391b8",
   "metadata": {},
   "source": [
    "#### 2.2.5.6 Random Forest Training and Prediction"
   ]
  },
  {
   "cell_type": "code",
   "execution_count": 23,
   "id": "fbdaf4e2",
   "metadata": {},
   "outputs": [],
   "source": [
    "# Train and test a Random Forest with 5 trees\n",
    "rf_small = RandomForestClassifier(n_estimators=5, random_state=42)\n",
    "rf_small.fit(X_train, y_train)\n",
    "rf_small_pred = rf_small.predict(X_test)\n",
    "results.append(['Random Forest (5 trees)', accuracy_score(y_test, rf_small_pred)])"
   ]
  },
  {
   "cell_type": "markdown",
   "id": "2c4e85c7",
   "metadata": {},
   "source": [
    "Trains a Random Forest model with 5 trees (small for demonstration), makes predictions, and adds the accuracy to the results list."
   ]
  },
  {
   "cell_type": "markdown",
   "id": "b4bd4dcf",
   "metadata": {},
   "source": [
    "#### 2.2.5.7 Manual Bagging Implementation"
   ]
  },
  {
   "cell_type": "code",
   "execution_count": 24,
   "id": "d9dcaba1",
   "metadata": {},
   "outputs": [],
   "source": [
    "# Manual implementation of Bagging\n",
    "n_learners = 5  # Number of learners (trees) for bagging\n",
    "predictions = []  # List to store predictions of each learner\n",
    "\n",
    "# Bootstrapping and training for each learner\n",
    "for i in range(n_learners):\n",
    "    boot_X, boot_y = resample(X_train, y_train, replace=True, n_samples=len(X_train))\n",
    "    tree = DecisionTreeClassifier()\n",
    "    tree.fit(boot_X, boot_y)\n",
    "    predictions.append(tree.predict(X_test))"
   ]
  },
  {
   "cell_type": "markdown",
   "id": "d50eafc2",
   "metadata": {},
   "source": [
    "This manually implements bagging by bootstrapping the training data **n_learners** times, training a decision tree on each bootstrap sample, and storing its predictions."
   ]
  },
  {
   "cell_type": "markdown",
   "id": "91dade73",
   "metadata": {},
   "source": [
    "#### 2.2.5.8 Mode Calculation for Bagging Predictions"
   ]
  },
  {
   "cell_type": "code",
   "execution_count": 25,
   "id": "4c9e8c26",
   "metadata": {},
   "outputs": [],
   "source": [
    "# Function to compute mode for an array\n",
    "def compute_mode(array):\n",
    "    return np.bincount(array).argmax()\n",
    "\n",
    "# Convert predictions list of arrays to a 2D numpy array\n",
    "predictions_array = np.array(predictions)\n",
    "\n",
    "# Calculate mode of predictions for bagging\n",
    "mode_predictions = []\n",
    "for column in predictions_array.T:  # Now we transpose the numpy array\n",
    "    mode_predictions.append(compute_mode(column))\n",
    "mode_predictions = np.array(mode_predictions)\n",
    "results.append(['Manual Bagging (Mode)', accuracy_score(y_test, mode_predictions)])"
   ]
  },
  {
   "cell_type": "markdown",
   "id": "64c10762",
   "metadata": {},
   "source": [
    "For each sample in the test set, this computes the mode (most common prediction) across the **n_learners** decision trees and stores the results."
   ]
  },
  {
   "cell_type": "markdown",
   "id": "83f5c6b2",
   "metadata": {},
   "source": [
    "#### 2.2.5.9 Median Calculation for Bagging Predictions"
   ]
  },
  {
   "cell_type": "code",
   "execution_count": 26,
   "id": "d195e10f",
   "metadata": {},
   "outputs": [],
   "source": [
    "# Calculate median of predictions for bagging\n",
    "median_predictions = np.median(predictions, axis=0).astype(int)\n",
    "results.append(['Manual Bagging with Median', accuracy_score(y_test, median_predictions)])"
   ]
  },
  {
   "cell_type": "markdown",
   "id": "d889584c",
   "metadata": {},
   "source": [
    "This section demonstrates another way to aggregate predictions by using the median. It then stores the results."
   ]
  },
  {
   "cell_type": "markdown",
   "id": "9ab45964",
   "metadata": {},
   "source": [
    "#### 2.2.5.10 Convert Results to DataFrame and Display"
   ]
  },
  {
   "cell_type": "code",
   "execution_count": 27,
   "id": "ed949f7b",
   "metadata": {},
   "outputs": [
    {
     "data": {
      "text/html": [
       "<div>\n",
       "<style scoped>\n",
       "    .dataframe tbody tr th:only-of-type {\n",
       "        vertical-align: middle;\n",
       "    }\n",
       "\n",
       "    .dataframe tbody tr th {\n",
       "        vertical-align: top;\n",
       "    }\n",
       "\n",
       "    .dataframe thead th {\n",
       "        text-align: right;\n",
       "    }\n",
       "</style>\n",
       "<table border=\"1\" class=\"dataframe\">\n",
       "  <thead>\n",
       "    <tr style=\"text-align: right;\">\n",
       "      <th></th>\n",
       "      <th>Model</th>\n",
       "      <th>Accuracy</th>\n",
       "    </tr>\n",
       "  </thead>\n",
       "  <tbody>\n",
       "    <tr>\n",
       "      <th>0</th>\n",
       "      <td>Manual Bagging (Mode)</td>\n",
       "      <td>0.844333</td>\n",
       "    </tr>\n",
       "    <tr>\n",
       "      <th>1</th>\n",
       "      <td>Manual Bagging with Median</td>\n",
       "      <td>0.837167</td>\n",
       "    </tr>\n",
       "    <tr>\n",
       "      <th>2</th>\n",
       "      <td>Random Forest (5 trees)</td>\n",
       "      <td>0.827667</td>\n",
       "    </tr>\n",
       "    <tr>\n",
       "      <th>3</th>\n",
       "      <td>Simple Decision Tree</td>\n",
       "      <td>0.815500</td>\n",
       "    </tr>\n",
       "  </tbody>\n",
       "</table>\n",
       "</div>"
      ],
      "text/plain": [
       "                        Model  Accuracy\n",
       "0       Manual Bagging (Mode)  0.844333\n",
       "1  Manual Bagging with Median  0.837167\n",
       "2     Random Forest (5 trees)  0.827667\n",
       "3        Simple Decision Tree  0.815500"
      ]
     },
     "execution_count": 27,
     "metadata": {},
     "output_type": "execute_result"
    }
   ],
   "source": [
    "# Convert the results list to a DataFrame and display it\n",
    "df_results = pd.DataFrame(results, columns=['Model', 'Accuracy'])\n",
    "\n",
    "# Sort the DataFrame based on the 'Accuracy' column in descending order\n",
    "df_results = df_results.sort_values(by='Accuracy', ascending=False).reset_index(drop=True)\n",
    "\n",
    "# Display the sorted DataFrame\n",
    "df_results.head()"
   ]
  },
  {
   "cell_type": "markdown",
   "id": "3fee881a",
   "metadata": {},
   "source": [
    "This converts the **results** list into a pandas DataFrame and displays it for easy comparison of model accuracies."
   ]
  },
  {
   "cell_type": "markdown",
   "id": "c894ca01",
   "metadata": {},
   "source": [
    "### 2.2.6 Exercise"
   ]
  },
  {
   "cell_type": "markdown",
   "id": "8b3ef24b",
   "metadata": {},
   "source": [
    "- Question: What is the main principle behind the Bagging technique? How does it help in reducing overfitting?\n",
    "- Answer:\n",
    "\n"
   ]
  },
  {
   "cell_type": "markdown",
   "id": "b1b71297",
   "metadata": {},
   "source": [
    "## 2.3 Bagging (Bootstrap Aggregating)\n",
    "\n",
    "### 2.3.1 Definition and Purpose of Boosting:\n",
    "\n",
    "- Boosting is an ensemble learning technique that focuses on creating a strong learner by combining multiple weak learners iteratively.\n",
    "- The main purpose of boosting is to improve the accuracy and performance of predictive models by giving more emphasis to misclassified instances during training.\n",
    "- Boosting learns from its mistakes in an adaptive manner, continually refining its predictions to achieve high accuracy on complex datasets.\n",
    "\n",
    "\n",
    "### 2.3.2 How Boosting Works:\n",
    "\n",
    "1. Sequential Learning and Weighted Misclassifications:\n",
    "- Boosting works in a sequential manner, where each base learner is trained based on the performance of the previous ones.\n",
    "- During training, it assigns higher weights to misclassified instances, making them more influential in subsequent iterations.\n",
    "\n",
    "\n",
    "2. Iterative Training of Base Learners:\n",
    "- In each iteration, a new base learner is trained to correct the mistakes made by the ensemble so far.\n",
    "- The base learners are typically weak models (e.g., shallow decision trees) to avoid overfitting and maintain interpretability.\n",
    "\n",
    "\n",
    "3. Emphasizing Difficult Instances:\n",
    "- Boosting focuses on challenging instances that are frequently misclassified by previous base learners.\n",
    "- By repeatedly emphasizing these difficult instances, boosting ensures that the ensemble model pays more attention to them and gradually improves its performance.\n",
    "\n",
    "\n",
    "\n",
    "### 2.3.3 Advantages of Boosting:\n",
    "\n",
    "1. Adaptive Learning and High Accuracy:\n",
    "- Boosting's adaptive learning approach allows it to learn from misclassifications and significantly improve predictive accuracy.\n",
    "- It is particularly effective in handling complex relationships in data, making it suitable for various real-world applications.\n",
    "\n",
    "\n",
    "2. Model Versatility and Feature Importance:\n",
    "- Boosting can be applied with various base learners, such as decision trees, SVMs, and neural networks.\n",
    "- Additionally, many boosting algorithms provide feature importance scores, enabling us to identify the most influential features in the model's decision-making process.\n",
    "\n",
    "\n",
    "### 2.3.4 Common Algorithms Using Boosting:\n",
    "\n",
    "1. AdaBoost (Adaptive Boosting):\n",
    "- AdaBoost is one of the earliest and most popular boosting algorithms.\n",
    "- It assigns higher weights to misclassified instances and combines the predictions of weak learners to create a strong ensemble model.\n",
    "- AdaBoost is suitable for both classification and regression tasks.\n",
    "\n",
    "\n",
    "2. Gradient Boosting Machines (GBM):\n",
    "- GBM builds base learners sequentially, focusing on the gradients of the loss function to optimize the model's performance.\n",
    "- It uses a process called gradient descent to minimize the errors in each iteration.\n",
    "- GBM is widely used for regression and classification tasks and is known for its high accuracy and flexibility.\n",
    "\n",
    "\n",
    "3. XGBoost and LightGBM:\n",
    "- XGBoost and LightGBM are optimized implementations of gradient boosting that are efficient and scalable.\n",
    "- They utilize advanced techniques like parallel processing and tree-pruning to achieve better performance.\n",
    "- These algorithms are popular in data science competitions and real-world applications due to their speed and accuracy.\n",
    "\n",
    "\n"
   ]
  },
  {
   "cell_type": "markdown",
   "id": "26082e75",
   "metadata": {},
   "source": [
    "### 2.3.5 Coding Example with AdaBoost (Python and scikit-learn):"
   ]
  },
  {
   "cell_type": "code",
   "execution_count": 28,
   "id": "c85d1096",
   "metadata": {},
   "outputs": [],
   "source": [
    "import pandas as pd\n",
    "from sklearn.datasets import fetch_openml\n",
    "from sklearn.tree import DecisionTreeClassifier\n",
    "from sklearn.ensemble import RandomForestClassifier, AdaBoostClassifier\n",
    "from sklearn.model_selection import train_test_split\n",
    "from sklearn.metrics import accuracy_score\n",
    "from sklearn.utils import resample\n",
    "import numpy as np"
   ]
  },
  {
   "cell_type": "markdown",
   "id": "859ce872",
   "metadata": {},
   "source": [
    "This section imports all the necessary libraries and modules we'll use throughout the demonstration."
   ]
  },
  {
   "cell_type": "markdown",
   "id": "b2d9df97",
   "metadata": {},
   "source": [
    "#### 2.3.5.1 Load and preprocess data"
   ]
  },
  {
   "cell_type": "code",
   "execution_count": 29,
   "id": "27d73405",
   "metadata": {},
   "outputs": [],
   "source": [
    "# Load the covertype dataset from OpenML\n",
    "covertype = fetch_openml('covertype', version=4)\n",
    "X = covertype.data\n",
    "y = covertype.target.astype('int') - 1  # Shift labels to range 0-6\n",
    "\n",
    "# Select a subset of data for demonstration purposes (and for faster execution)\n",
    "X = X[:20000]\n",
    "y = y[:20000]"
   ]
  },
  {
   "cell_type": "markdown",
   "id": "acfd6b1f",
   "metadata": {},
   "source": [
    "#### 2.3.5.2 Split data into training and test sets"
   ]
  },
  {
   "cell_type": "code",
   "execution_count": 30,
   "id": "d556aecb",
   "metadata": {},
   "outputs": [],
   "source": [
    "# Split data into training (70%) and testing (30%) sets\n",
    "X_train, X_test, y_train, y_test = train_test_split(X, y, test_size=0.3, random_state=42)"
   ]
  },
  {
   "cell_type": "markdown",
   "id": "993c6cf1",
   "metadata": {},
   "source": [
    "This line splits our data into training and test sets. 70% of the data is used for training and 30% for testing."
   ]
  },
  {
   "cell_type": "markdown",
   "id": "f5ca74ee",
   "metadata": {},
   "source": [
    "#### 2.3.5.4 Initialize a list to store results"
   ]
  },
  {
   "cell_type": "code",
   "execution_count": 31,
   "id": "1ef8aaa2",
   "metadata": {},
   "outputs": [],
   "source": [
    "# Initialize list to store results of each model\n",
    "results = []"
   ]
  },
  {
   "cell_type": "markdown",
   "id": "0b152d50",
   "metadata": {},
   "source": [
    "We'll store the accuracy results of each model in this list and then convert it to a DataFrame at the end."
   ]
  },
  {
   "cell_type": "markdown",
   "id": "7119fdb9",
   "metadata": {},
   "source": [
    "#### 2.3.5.5 Train and test a simple decision tree classifier"
   ]
  },
  {
   "cell_type": "code",
   "execution_count": 32,
   "id": "5756c814",
   "metadata": {},
   "outputs": [],
   "source": [
    "# Train and test a simple decision tree classifier\n",
    "tree = DecisionTreeClassifier(max_depth=1)  # Setting depth to 1, as AdaBoost typically uses 'stumps'\n",
    "tree.fit(X_train, y_train)\n",
    "tree_pred = tree.predict(X_test)\n",
    "results.append(['Simple Decision Tree', accuracy_score(y_test, tree_pred)])"
   ]
  },
  {
   "cell_type": "markdown",
   "id": "6d458675",
   "metadata": {},
   "source": [
    "We train a simple decision tree \"stump\" (tree of depth 1) on the training data and then predict and evaluate its accuracy on the test set."
   ]
  },
  {
   "cell_type": "markdown",
   "id": "f76d4640",
   "metadata": {},
   "source": [
    "#### 2.3.5.6 Train and test a Random Forest with 5 trees"
   ]
  },
  {
   "cell_type": "code",
   "execution_count": 33,
   "id": "00d73147",
   "metadata": {},
   "outputs": [],
   "source": [
    "rf_small = RandomForestClassifier(n_estimators=5, random_state=42)\n",
    "rf_small.fit(X_train, y_train)\n",
    "rf_small_pred = rf_small.predict(X_test)\n",
    "results.append(['Random Forest (5 trees)', accuracy_score(y_test, rf_small_pred)])"
   ]
  },
  {
   "cell_type": "markdown",
   "id": "cfa56e08",
   "metadata": {},
   "source": [
    "Next, we train a random forest ensemble with 5 trees and then predict and evaluate its accuracy on the test set."
   ]
  },
  {
   "cell_type": "markdown",
   "id": "2e66cb43",
   "metadata": {},
   "source": [
    "#### 2.3.5.7 Train and test AdaBoost with 5 weak learners"
   ]
  },
  {
   "cell_type": "code",
   "execution_count": 34,
   "id": "1c8eea3e",
   "metadata": {},
   "outputs": [],
   "source": [
    "#### 3.5.7 Train and test AdaBoost with 5 weak learners\n",
    "# Train and test AdaBoost with 5 weak learners (stumps)\n",
    "adaboost = AdaBoostClassifier(base_estimator=DecisionTreeClassifier(max_depth=1), \n",
    "                              n_estimators=5, random_state=42)\n",
    "adaboost.fit(X_train, y_train)\n",
    "adaboost_pred = adaboost.predict(X_test)\n",
    "results.append(['AdaBoost (5 learners)', accuracy_score(y_test, adaboost_pred)])"
   ]
  },
  {
   "cell_type": "markdown",
   "id": "f2e52825",
   "metadata": {},
   "source": [
    "Here, we train an AdaBoost classifier using decision tree stumps as weak learners. We use 5 such stumps. After training, we predict on the test set and evaluate the accuracy."
   ]
  },
  {
   "cell_type": "markdown",
   "id": "e8224abd",
   "metadata": {},
   "source": [
    "#### 2.3.5.8 Convert the results list to a sorted DataFrame and display it"
   ]
  },
  {
   "cell_type": "code",
   "execution_count": 35,
   "id": "b921b243",
   "metadata": {},
   "outputs": [
    {
     "data": {
      "text/html": [
       "<div>\n",
       "<style scoped>\n",
       "    .dataframe tbody tr th:only-of-type {\n",
       "        vertical-align: middle;\n",
       "    }\n",
       "\n",
       "    .dataframe tbody tr th {\n",
       "        vertical-align: top;\n",
       "    }\n",
       "\n",
       "    .dataframe thead th {\n",
       "        text-align: right;\n",
       "    }\n",
       "</style>\n",
       "<table border=\"1\" class=\"dataframe\">\n",
       "  <thead>\n",
       "    <tr style=\"text-align: right;\">\n",
       "      <th></th>\n",
       "      <th>Model</th>\n",
       "      <th>Accuracy</th>\n",
       "    </tr>\n",
       "  </thead>\n",
       "  <tbody>\n",
       "    <tr>\n",
       "      <th>0</th>\n",
       "      <td>Random Forest (5 trees)</td>\n",
       "      <td>0.827667</td>\n",
       "    </tr>\n",
       "    <tr>\n",
       "      <th>1</th>\n",
       "      <td>AdaBoost (5 learners)</td>\n",
       "      <td>0.488667</td>\n",
       "    </tr>\n",
       "    <tr>\n",
       "      <th>2</th>\n",
       "      <td>Simple Decision Tree</td>\n",
       "      <td>0.398500</td>\n",
       "    </tr>\n",
       "  </tbody>\n",
       "</table>\n",
       "</div>"
      ],
      "text/plain": [
       "                     Model  Accuracy\n",
       "0  Random Forest (5 trees)  0.827667\n",
       "1    AdaBoost (5 learners)  0.488667\n",
       "2     Simple Decision Tree  0.398500"
      ]
     },
     "execution_count": 35,
     "metadata": {},
     "output_type": "execute_result"
    }
   ],
   "source": [
    "# Convert the results list to a DataFrame\n",
    "df_results = pd.DataFrame(results, columns=['Model', 'Accuracy'])\n",
    "\n",
    "# Sort the DataFrame based on the 'Accuracy' column in descending order\n",
    "df_results = df_results.sort_values(by='Accuracy', ascending=False).reset_index(drop=True)\n",
    "\n",
    "# Display the sorted DataFrame\n",
    "df_results.head()"
   ]
  },
  {
   "cell_type": "markdown",
   "id": "e171e0e4",
   "metadata": {},
   "source": [
    "### 2.3.6 Exercise"
   ]
  },
  {
   "cell_type": "markdown",
   "id": "e244db99",
   "metadata": {},
   "source": [
    "- Question: Describe how boosting works. How is it different from bagging?\n",
    "- Answer: Boosting trains learners sequentially where each subsequent learner tries to correct the mistakes of the previous one. Unlike bagging, which aims to reduce variance, boosting aims to reduce bias and variance."
   ]
  },
  {
   "cell_type": "markdown",
   "id": "ec2084e7",
   "metadata": {},
   "source": [
    "## 2.4 Strengths and Weaknesses"
   ]
  },
  {
   "cell_type": "markdown",
   "id": "f2d51017",
   "metadata": {},
   "source": [
    "### 2.4.1 Comparison of Bagging and Boosting:\n",
    "\n",
    "- Bagging and Boosting are both ensemble learning techniques that combine multiple models to improve predictive performance.\n",
    "- Bagging aims to reduce variance and overfitting by aggregating predictions from diverse models.\n",
    "- Boosting focuses on adaptive learning and aims to correct mistakes made by previous base learners in an iterative manner.\n",
    "\n",
    "\n",
    "### 2.4.2 Strengths of Bagging:\n",
    "\n",
    "1. Reduced Variance and Overfitting:\n",
    "- Bagging reduces the risk of overfitting by combining predictions from multiple models with diverse training subsets.\n",
    "\n",
    "2. Robustness to Noisy Data:\n",
    "- Bagging is robust to noisy data and outliers since it aggregates predictions, minimizing the impact of individual data points.\n",
    "\n",
    "3. Efficient Parallelization:\n",
    "- Training base learners in bagging can be easily parallelized, making it efficient and scalable.\n",
    "\n",
    "\n",
    "### 2.4.3 Weaknesses of Bagging:\n",
    "\n",
    "1. Lack of Interpretability:\n",
    "- The ensemble model in bagging may lack interpretability, especially if the base learners are complex models like Random Forest.\n",
    "\n",
    "\n",
    "2. Bias Preservation:\n",
    "- Bagging may not address bias in the base learners; if the base models are biased, the ensemble may inherit the bias.\n",
    "\n",
    "\n",
    "3. Limited Performance Improvement:\n",
    "- Bagging may not improve performance significantly if the base learners are already strong and diverse.\n",
    "\n",
    "\n",
    "\n",
    "### 2.4.4 Strengths of Boosting:\n",
    "1. Adaptive Learning and High Accuracy:\n",
    "- Boosting adaptively learns from mistakes and focuses on challenging instances, leading to high accuracy.\n",
    "2. Model Versatility and Feature Importance:\n",
    "- Boosting can be used with various base learners and often provides feature importance scores for better understanding.\n",
    "\n",
    "\n",
    "\n",
    "### 2.4.5 Weaknesses of Boosting:\n",
    "1. Sensitivity to Noisy Data and Outliers:\n",
    "- Boosting may be sensitive to noisy data and outliers, affecting model performance.\n",
    "2. Slower Training and Limited Parallelization:\n",
    "- Training base learners sequentially makes boosting slower than bagging, and it may be less efficient to parallelize.\n",
    "3. Potential Overfitting:\n",
    "- Boosting may be prone to overfitting, especially if the number of iterations is too high.\n",
    "\n",
    "\n",
    "### 2.4.6 Choosing Between Bagging and Boosting: Considerations:\n",
    "- The choice between bagging and boosting depends on the dataset, the complexity of the problem, and the available computational resources.\n",
    "- Bagging is suitable when the base models are diverse and the goal is to reduce variance and overfitting.\n",
    "- Boosting is preferred when high accuracy is crucial, and the dataset is not significantly affected by noisy data and outliers."
   ]
  },
  {
   "cell_type": "markdown",
   "id": "70e69041",
   "metadata": {},
   "source": [
    "## 2.5 Strengths and Weaknesses"
   ]
  },
  {
   "cell_type": "markdown",
   "id": "716da0a9",
   "metadata": {},
   "source": [
    "1. High Variance Model:\n",
    "- You've trained a deep decision tree on your dataset and noticed that it performs extremely well on the training data but poorly on the validation data.\n",
    "\n",
    "- Question: Which ensemble technique might help remedy this, bagging or boosting?\n",
    "\n",
    "2. High Bias Model:\n",
    "- Your team trained a shallow decision tree (i.e., a decision stump) on a complex dataset. The model performs poorly on both training and validation sets.\n",
    "\n",
    "- Question: Which ensemble technique might help improve this model's performance, bagging or boosting?\n",
    "\n",
    "3. Large Dataset:\n",
    "- You have a very large dataset and are concerned about the training time. You're considering an ensemble technique to improve your model's performance.\n",
    "\n",
    "- Question: Which technique, bagging or boosting, would typically be faster in training?\n",
    "\n",
    "4. Noisy Data:\n",
    "- Your dataset contains a significant amount of noise, and outliers are causing models to underperform.\n",
    "\n",
    "- Question: Which ensemble method, bagging or boosting, might be more robust to such noise and why?\n",
    "\n",
    "5. Model Diversity:\n",
    "- You're working on an ensemble model, and you have access to various diverse base models. You believe the errors in these models are largely uncorrelated.\n",
    "\n",
    "- Question: Which ensemble technique might benefit more from this diversity, bagging or boosting?\n",
    "\n",
    "6. Information on Error Types:\n",
    "- After evaluating a model, you've noticed that it's making many types of errors, but the frequency of each type is low.\n",
    "\n",
    "- Question: If you had to choose an ensemble technique to correct diverse error types, would you pick bagging or boosting?\n",
    "\n",
    "7. Final Model Interpretability:\n",
    "- You're working on a healthcare project where the interpretability of the model is crucial. Doctors want to understand how the model makes decisions.\n",
    "\n",
    "- Question: Which ensemble technique, bagging or boosting, might be more challenging in terms of interpretability, and why?\n"
   ]
  },
  {
   "cell_type": "markdown",
   "id": "643f81ca",
   "metadata": {},
   "source": [
    "# 3. Supply chain example"
   ]
  },
  {
   "cell_type": "markdown",
   "id": "cf65056b",
   "metadata": {},
   "source": [
    "## 3.1 Introduction to the Dataset"
   ]
  },
  {
   "cell_type": "markdown",
   "id": "8d954b4e",
   "metadata": {},
   "source": [
    "The dataset at hand is a comprehensive sales record dataset provided by a a renowned consumer goods company. In here, we can it \"company A\". This dataset aims to facilitate the prediction of item sales quantities in each unit (EA) using various informative features. The dataset encompasses a wide range of variables that provide insights into the sales dynamics and factors influencing consumer behavior.\n",
    "\n",
    "\n",
    "### Objective:\n",
    "\n",
    "The primary objective of this dataset is to develop a predictive model that accurately estimates the sales quantity of each item (Pos_Qty_EA) based on the provided features. By leveraging the historical sales data, \"company A\" aims to forecast item sales more effectively, optimize inventory management, and make data-driven decisions to maximize sales revenue and profitability.\n",
    "\n",
    "Additionally, this dataset can be utilized to gain insights into the factors that drive or hinder sales, assess the impact of promotional activities, evaluate the performance of different store banners, and analyze the influence of pricing tiers on consumer behavior.\n",
    "\n",
    "Through detailed exploration and analysis of this dataset, Nestle can enhance its understanding of market dynamics, improve sales forecasting accuracy, and make informed business decisions that align with customer demands and preferences."
   ]
  },
  {
   "cell_type": "markdown",
   "id": "2d37b4cd",
   "metadata": {},
   "source": [
    "## 3.2 Preparation"
   ]
  },
  {
   "cell_type": "code",
   "execution_count": 36,
   "id": "8f55d84d",
   "metadata": {},
   "outputs": [],
   "source": [
    "import pandas as pd\n",
    "import numpy as np\n",
    "import matplotlib.pyplot as plt\n",
    "from matplotlib import pyplot\n",
    "import seaborn as sns\n",
    "import warnings\n",
    "\n",
    "# Ignore all warnings\n",
    "warnings.filterwarnings(\"ignore\")"
   ]
  },
  {
   "cell_type": "code",
   "execution_count": 37,
   "id": "11218425",
   "metadata": {},
   "outputs": [
    {
     "name": "stdout",
     "output_type": "stream",
     "text": [
      "fatal: destination path 'MLcmore2023' already exists and is not an empty directory.\r\n"
     ]
    }
   ],
   "source": [
    "# get all the files from github\n",
    "!git clone https://github.com/MLcmore2023/MLcmore2023.git"
   ]
  },
  {
   "cell_type": "code",
   "execution_count": 38,
   "id": "b420051b",
   "metadata": {},
   "outputs": [
    {
     "name": "stdout",
     "output_type": "stream",
     "text": [
      "zsh:1: no matches found: ./MLcmore2023/day2_pm_afternoon/.*\r\n"
     ]
    }
   ],
   "source": [
    "!mv ./MLcmore2023/'day2_pm_morning'/* ./MLcmore2023/'day2_pm_morning'/.* ./"
   ]
  },
  {
   "cell_type": "code",
   "execution_count": 39,
   "id": "429d93fd",
   "metadata": {},
   "outputs": [],
   "source": [
    "df = pd.read_csv('data.csv')"
   ]
  },
  {
   "cell_type": "code",
   "execution_count": 40,
   "id": "6503bd3c",
   "metadata": {},
   "outputs": [
    {
     "data": {
      "text/html": [
       "<div>\n",
       "<style scoped>\n",
       "    .dataframe tbody tr th:only-of-type {\n",
       "        vertical-align: middle;\n",
       "    }\n",
       "\n",
       "    .dataframe tbody tr th {\n",
       "        vertical-align: top;\n",
       "    }\n",
       "\n",
       "    .dataframe thead th {\n",
       "        text-align: right;\n",
       "    }\n",
       "</style>\n",
       "<table border=\"1\" class=\"dataframe\">\n",
       "  <thead>\n",
       "    <tr style=\"text-align: right;\">\n",
       "      <th></th>\n",
       "      <th>MATERIAL</th>\n",
       "      <th>source</th>\n",
       "      <th>Banner</th>\n",
       "      <th>Plan_Banner</th>\n",
       "      <th>Plan_Region</th>\n",
       "      <th>CL4Key</th>\n",
       "      <th>CL6Key</th>\n",
       "      <th>Pos_Qty_EA</th>\n",
       "      <th>Pos_Sales</th>\n",
       "      <th>POS_QTY_CS</th>\n",
       "      <th>...</th>\n",
       "      <th>Baseline_Nps</th>\n",
       "      <th>Incr_Sales</th>\n",
       "      <th>PromoId</th>\n",
       "      <th>PromoDuration</th>\n",
       "      <th>MATERIALDESC</th>\n",
       "      <th>SUB_CATEGORY</th>\n",
       "      <th>SUB_CATEGORY_DESC</th>\n",
       "      <th>CATEGORY</th>\n",
       "      <th>CATEGORY_DESC</th>\n",
       "      <th>FGroup_Desc</th>\n",
       "    </tr>\n",
       "  </thead>\n",
       "  <tbody>\n",
       "    <tr>\n",
       "      <th>0</th>\n",
       "      <td>11001187</td>\n",
       "      <td>Company A</td>\n",
       "      <td>Company A ONTARIO</td>\n",
       "      <td>Company A</td>\n",
       "      <td>ONTARIO</td>\n",
       "      <td>292278</td>\n",
       "      <td>292696</td>\n",
       "      <td>69</td>\n",
       "      <td>186.15</td>\n",
       "      <td>8.625</td>\n",
       "      <td>...</td>\n",
       "      <td>328.16</td>\n",
       "      <td>-125.99</td>\n",
       "      <td>1358399</td>\n",
       "      <td>35</td>\n",
       "      <td>STOUFFER'S BST Italian 5 Cheese 8x256gCA</td>\n",
       "      <td>CAKK1K112</td>\n",
       "      <td>STF BISTRO CRUSTINI</td>\n",
       "      <td>CAKK1</td>\n",
       "      <td>FROZEN MEALS</td>\n",
       "      <td>CEF - CA Bistro 8pk</td>\n",
       "    </tr>\n",
       "    <tr>\n",
       "      <th>1</th>\n",
       "      <td>11001187</td>\n",
       "      <td>Company A</td>\n",
       "      <td>Company A ONTARIO</td>\n",
       "      <td>Company A</td>\n",
       "      <td>ONTARIO</td>\n",
       "      <td>292278</td>\n",
       "      <td>292696</td>\n",
       "      <td>60</td>\n",
       "      <td>161.86</td>\n",
       "      <td>7.500</td>\n",
       "      <td>...</td>\n",
       "      <td>328.16</td>\n",
       "      <td>-152.36</td>\n",
       "      <td>1358399</td>\n",
       "      <td>35</td>\n",
       "      <td>STOUFFER'S BST Italian 5 Cheese 8x256gCA</td>\n",
       "      <td>CAKK1K112</td>\n",
       "      <td>STF BISTRO CRUSTINI</td>\n",
       "      <td>CAKK1</td>\n",
       "      <td>FROZEN MEALS</td>\n",
       "      <td>CEF - CA Bistro 8pk</td>\n",
       "    </tr>\n",
       "  </tbody>\n",
       "</table>\n",
       "<p>2 rows × 27 columns</p>\n",
       "</div>"
      ],
      "text/plain": [
       "   MATERIAL     source             Banner Plan_Banner Plan_Region  CL4Key  \\\n",
       "0  11001187  Company A  Company A ONTARIO   Company A     ONTARIO  292278   \n",
       "1  11001187  Company A  Company A ONTARIO   Company A     ONTARIO  292278   \n",
       "\n",
       "   CL6Key  Pos_Qty_EA  Pos_Sales  POS_QTY_CS  ...  Baseline_Nps Incr_Sales  \\\n",
       "0  292696          69     186.15       8.625  ...        328.16    -125.99   \n",
       "1  292696          60     161.86       7.500  ...        328.16    -152.36   \n",
       "\n",
       "   PromoId  PromoDuration                              MATERIALDESC  \\\n",
       "0  1358399             35  STOUFFER'S BST Italian 5 Cheese 8x256gCA   \n",
       "1  1358399             35  STOUFFER'S BST Italian 5 Cheese 8x256gCA   \n",
       "\n",
       "   SUB_CATEGORY    SUB_CATEGORY_DESC  CATEGORY  CATEGORY_DESC  \\\n",
       "0     CAKK1K112  STF BISTRO CRUSTINI     CAKK1   FROZEN MEALS   \n",
       "1     CAKK1K112  STF BISTRO CRUSTINI     CAKK1   FROZEN MEALS   \n",
       "\n",
       "           FGroup_Desc  \n",
       "0  CEF - CA Bistro 8pk  \n",
       "1  CEF - CA Bistro 8pk  \n",
       "\n",
       "[2 rows x 27 columns]"
      ]
     },
     "execution_count": 40,
     "metadata": {},
     "output_type": "execute_result"
    }
   ],
   "source": [
    "df.head(2)"
   ]
  },
  {
   "cell_type": "code",
   "execution_count": 41,
   "id": "3c8e5e2c",
   "metadata": {},
   "outputs": [
    {
     "name": "stdout",
     "output_type": "stream",
     "text": [
      "<class 'pandas.core.frame.DataFrame'>\n",
      "RangeIndex: 5533 entries, 0 to 5532\n",
      "Data columns (total 27 columns):\n",
      " #   Column              Non-Null Count  Dtype  \n",
      "---  ------              --------------  -----  \n",
      " 0   MATERIAL            5533 non-null   int64  \n",
      " 1   source              5533 non-null   object \n",
      " 2   Banner              5533 non-null   object \n",
      " 3   Plan_Banner         5533 non-null   object \n",
      " 4   Plan_Region         5533 non-null   object \n",
      " 5   CL4Key              5533 non-null   int64  \n",
      " 6   CL6Key              5533 non-null   int64  \n",
      " 7   Pos_Qty_EA          5533 non-null   int64  \n",
      " 8   Pos_Sales           5533 non-null   float64\n",
      " 9   POS_QTY_CS          5533 non-null   float64\n",
      " 10  UBP                 5533 non-null   float64\n",
      " 11  UNIT                5533 non-null   object \n",
      " 12  FACTOR_EACH         5533 non-null   int64  \n",
      " 13  PER_SALES_UOM_CASE  5533 non-null   int64  \n",
      " 14  Complete_PPG        5533 non-null   object \n",
      " 15  Total_Sales         5533 non-null   float64\n",
      " 16  Baseline_Qty        5533 non-null   int64  \n",
      " 17  Baseline_Nps        5533 non-null   float64\n",
      " 18  Incr_Sales          5533 non-null   float64\n",
      " 19  PromoId             5533 non-null   int64  \n",
      " 20  PromoDuration       5533 non-null   int64  \n",
      " 21  MATERIALDESC        5533 non-null   object \n",
      " 22  SUB_CATEGORY        5533 non-null   object \n",
      " 23  SUB_CATEGORY_DESC   5533 non-null   object \n",
      " 24  CATEGORY            5533 non-null   object \n",
      " 25  CATEGORY_DESC       5533 non-null   object \n",
      " 26  FGroup_Desc         5533 non-null   object \n",
      "dtypes: float64(6), int64(9), object(12)\n",
      "memory usage: 1.1+ MB\n"
     ]
    }
   ],
   "source": [
    "df.info()"
   ]
  },
  {
   "cell_type": "markdown",
   "id": "5efc6eae",
   "metadata": {},
   "source": [
    "### Features Explanation:\n",
    "\n",
    "\n",
    "1. MATERIAL: The unique identifier for each item in the dataset.\n",
    "2. source: The source of the sales data (e.g., point of sale systems, online sales platform, etc.).\n",
    "3. Banner: The name or identifier of the retail banner (store brand) where the item was sold.\n",
    "4. SRC_BAN_POS: The source of the sales data specific to the retail banner.\n",
    "5. Plan_Banner: The planned retail banner for the item.\n",
    "6. Plan_Region: The planned region for the item's sales.\n",
    "7. CL4Key: The identifier for a higher-level category or classification level 4 of the item.\n",
    "8. CL6Key: The identifier for a lower-level category or classification level 6 of the item.\n",
    "9. pos_date: The date of the sales record.\n",
    "10. **Pos_Qty_EA: The sales quantity of the item in each unit (target variable).**\n",
    "11. Pos_Sales: The sales amount or revenue generated from the item.\n",
    "12. POS_QTY_CS: The sales quantity of the item in case units (CS stands for case).\n",
    "13. UBP: The unit buying price, which represents the cost of purchasing the item.\n",
    "14. UNIT: The unit of measure for the item's sales quantity (EA or CS).\n",
    "15. FACTOR_EACH: The conversion factor between each unit (EA) and case unit (CS).\n",
    "16. PER_SALES_UOM_CASE: The sales quantity per unit of measure (case) for the item.\n",
    "17. Complete_PPG: The identifier for a complete product group, which represents a broader category or grouping of items.\n",
    "18. Total_Sales: The total sales amount or revenue for all items.\n",
    "19. Baseline_Qty: The baseline or expected sales quantity for the item.\n",
    "20. Baseline_Nps: The baseline or expected net promoter score (NPS) associated with the item.\n",
    "21. ForecastDate: The date of the sales forecast for the item.\n",
    "22. Incr_Sales: The incremental or additional sales generated by a promotional activity or event.\n",
    "23. PromoId: The identifier for a specific promotional activity or event.\n",
    "24. InStoreStart: The start date of the promotional activity or event in the store.\n",
    "25. InStoreEnd: The end date of the promotional activity or event in the store.\n",
    "26. PromoDuration: The duration of the promotional activity or event.\n",
    "27. MATERIALDESC: A description or name of the item.\n",
    "28. SUB_CATEGORY: The identifier for a sub-category of the item.\n",
    "29. SUB_CATEGORY_DESC: A description or name of the sub-category.\n",
    "30. CATEGORY: The identifier for the category of the item.\n",
    "31. CATEGORY_DESC: A description or name of the category.\n",
    "32. FGroup_Desc: A description or name of the item's functional group."
   ]
  },
  {
   "cell_type": "markdown",
   "id": "bdf354f6",
   "metadata": {},
   "source": [
    "## 3.3 Data Cleaning"
   ]
  },
  {
   "cell_type": "markdown",
   "id": "f6620216",
   "metadata": {},
   "source": [
    "### 3.3.1 Check for Missing Values"
   ]
  },
  {
   "cell_type": "code",
   "execution_count": 42,
   "id": "3b77a83a",
   "metadata": {},
   "outputs": [
    {
     "name": "stdout",
     "output_type": "stream",
     "text": [
      "MATERIAL              0\n",
      "source                0\n",
      "Banner                0\n",
      "Plan_Banner           0\n",
      "Plan_Region           0\n",
      "CL4Key                0\n",
      "CL6Key                0\n",
      "Pos_Qty_EA            0\n",
      "Pos_Sales             0\n",
      "POS_QTY_CS            0\n",
      "UBP                   0\n",
      "UNIT                  0\n",
      "FACTOR_EACH           0\n",
      "PER_SALES_UOM_CASE    0\n",
      "Complete_PPG          0\n",
      "Total_Sales           0\n",
      "Baseline_Qty          0\n",
      "Baseline_Nps          0\n",
      "Incr_Sales            0\n",
      "PromoId               0\n",
      "PromoDuration         0\n",
      "MATERIALDESC          0\n",
      "SUB_CATEGORY          0\n",
      "SUB_CATEGORY_DESC     0\n",
      "CATEGORY              0\n",
      "CATEGORY_DESC         0\n",
      "FGroup_Desc           0\n",
      "dtype: int64\n"
     ]
    }
   ],
   "source": [
    "# Check for missing values\n",
    "print(df.isnull().sum())"
   ]
  },
  {
   "cell_type": "markdown",
   "id": "9122f728",
   "metadata": {},
   "source": [
    "Since the datasets do not contain any missing values, we can proceed to the next step. Let us now examine each feature one by one."
   ]
  },
  {
   "cell_type": "markdown",
   "id": "f8060399",
   "metadata": {},
   "source": [
    "### 3.3.2 Check for Duplicate Values"
   ]
  },
  {
   "cell_type": "code",
   "execution_count": 43,
   "id": "727bc59a",
   "metadata": {},
   "outputs": [
    {
     "name": "stdout",
     "output_type": "stream",
     "text": [
      "Duplicate rows found:\n",
      "      MATERIAL     source             Banner    Plan_Banner Plan_Region  \\\n",
      "49    11001187  Company A  Company A ONTARIO      Company A     ONTARIO   \n",
      "51    11001187  Company A  Company A ONTARIO      Company A     ONTARIO   \n",
      "61    11001187  Company A  Company A ONTARIO      Company A     ONTARIO   \n",
      "62    11001187  Company A  Company A ONTARIO      Company A     ONTARIO   \n",
      "64    11001187  Company A  Company A ONTARIO      Company A     ONTARIO   \n",
      "...        ...        ...                ...            ...         ...   \n",
      "5421  12404640  Company A    Company A Super  Company A Sup      QUEBEC   \n",
      "5422  12404640  Company A    Company A Super  Company A Sup      QUEBEC   \n",
      "5423  12404640  Company A    Company A Super  Company A Sup      QUEBEC   \n",
      "5425  12404640  Company A    Company A Super  Company A Sup      QUEBEC   \n",
      "5426  12404640  Company A    Company A Super  Company A Sup      QUEBEC   \n",
      "\n",
      "      CL4Key  CL6Key  Pos_Qty_EA  Pos_Sales  POS_QTY_CS  ...  Baseline_Nps  \\\n",
      "49    292278  292696          86     257.14      10.750  ...        187.52   \n",
      "51    292278  292696          86     257.14      10.750  ...        187.52   \n",
      "61    292278  292696          70     209.30       8.750  ...        210.96   \n",
      "62    292278  292696          70     209.30       8.750  ...        210.96   \n",
      "64    292278  292696          63     188.37       7.875  ...        234.40   \n",
      "...      ...     ...         ...        ...         ...  ...           ...   \n",
      "5421  292279  292698          12      25.98       0.500  ...         43.00   \n",
      "5422  292279  292698          30      64.95       1.250  ...         43.00   \n",
      "5423  292279  292698          42      90.93       1.750  ...         43.00   \n",
      "5425  292279  292698          30      64.95       1.250  ...         43.00   \n",
      "5426  292279  292698          12      25.98       0.500  ...         43.00   \n",
      "\n",
      "     Incr_Sales  PromoId  PromoDuration  \\\n",
      "49        64.46  1409719             49   \n",
      "51        64.46  1409719             49   \n",
      "61        -5.86  1409719             49   \n",
      "62        -5.86  1409719             49   \n",
      "64       -49.81  1409719             49   \n",
      "...         ...      ...            ...   \n",
      "5421     -21.50  1931110             92   \n",
      "5422      10.75  1931110             92   \n",
      "5423      32.25  1931110             92   \n",
      "5425      10.75  1931110             92   \n",
      "5426     -21.50  1931110             92   \n",
      "\n",
      "                                  MATERIALDESC  SUB_CATEGORY  \\\n",
      "49    STOUFFER'S BST Italian 5 Cheese 8x256gCA     CAKK1K112   \n",
      "51    STOUFFER'S BST Italian 5 Cheese 8x256gCA     CAKK1K112   \n",
      "61    STOUFFER'S BST Italian 5 Cheese 8x256gCA     CAKK1K112   \n",
      "62    STOUFFER'S BST Italian 5 Cheese 8x256gCA     CAKK1K112   \n",
      "64    STOUFFER'S BST Italian 5 Cheese 8x256gCA     CAKK1K112   \n",
      "...                                        ...           ...   \n",
      "5421  BOOST HP Strawberry Pris 4(6x237ml) N2CA     CAZZ1Z101   \n",
      "5422  BOOST HP Strawberry Pris 4(6x237ml) N2CA     CAZZ1Z101   \n",
      "5423  BOOST HP Strawberry Pris 4(6x237ml) N2CA     CAZZ1Z101   \n",
      "5425  BOOST HP Strawberry Pris 4(6x237ml) N2CA     CAZZ1Z101   \n",
      "5426  BOOST HP Strawberry Pris 4(6x237ml) N2CA     CAZZ1Z101   \n",
      "\n",
      "        SUB_CATEGORY_DESC  CATEGORY  CATEGORY_DESC                FGroup_Desc  \n",
      "49    STF BISTRO CRUSTINI     CAKK1   FROZEN MEALS        CEF - CA Bistro 8pk  \n",
      "51    STF BISTRO CRUSTINI     CAKK1   FROZEN MEALS        CEF - CA Bistro 8pk  \n",
      "61    STF BISTRO CRUSTINI     CAKK1   FROZEN MEALS        CEF - CA Bistro 8pk  \n",
      "62    STF BISTRO CRUSTINI     CAKK1   FROZEN MEALS        CEF - CA Bistro 8pk  \n",
      "64    STF BISTRO CRUSTINI     CAKK1   FROZEN MEALS        CEF - CA Bistro 8pk  \n",
      "...                   ...       ...            ...                        ...  \n",
      "5421                Boost     CAZZ1     NHS Retail  C00 - CA Boost Stnd 237ml  \n",
      "5422                Boost     CAZZ1     NHS Retail  C00 - CA Boost Stnd 237ml  \n",
      "5423                Boost     CAZZ1     NHS Retail  C00 - CA Boost Stnd 237ml  \n",
      "5425                Boost     CAZZ1     NHS Retail  C00 - CA Boost Stnd 237ml  \n",
      "5426                Boost     CAZZ1     NHS Retail  C00 - CA Boost Stnd 237ml  \n",
      "\n",
      "[948 rows x 27 columns]\n"
     ]
    }
   ],
   "source": [
    "duplicate_rows = df[df.duplicated(keep=False)]\n",
    "if not duplicate_rows.empty:\n",
    "    print(\"Duplicate rows found:\")\n",
    "    print(duplicate_rows)\n",
    "else:\n",
    "    print(\"No duplicate rows found in the dataset.\")"
   ]
  },
  {
   "cell_type": "markdown",
   "id": "5b4df8e9",
   "metadata": {},
   "source": [
    "## 3.4 Data Encoding"
   ]
  },
  {
   "cell_type": "markdown",
   "id": "cc95417f",
   "metadata": {},
   "source": [
    "### 3.4.1 Find all the Categorical Data (excluding integer and float columns)"
   ]
  },
  {
   "cell_type": "code",
   "execution_count": 44,
   "id": "19342c40",
   "metadata": {},
   "outputs": [
    {
     "name": "stdout",
     "output_type": "stream",
     "text": [
      "Categorical columns:\n",
      "Index(['source', 'Banner', 'Plan_Banner', 'Plan_Region', 'UNIT',\n",
      "       'Complete_PPG', 'MATERIALDESC', 'SUB_CATEGORY', 'SUB_CATEGORY_DESC',\n",
      "       'CATEGORY', 'CATEGORY_DESC', 'FGroup_Desc'],\n",
      "      dtype='object')\n",
      "There are 12 categorical features.\n"
     ]
    }
   ],
   "source": [
    "categorical_columns = df.select_dtypes(exclude=['int', 'float']).columns\n",
    "\n",
    "print(\"Categorical columns:\")\n",
    "print(categorical_columns)\n",
    "print(\"There are \" + str(len(categorical_columns)) + \" categorical features.\")"
   ]
  },
  {
   "cell_type": "markdown",
   "id": "277305ec",
   "metadata": {},
   "source": [
    "### 3.4.2 Check the Number of Unique Values in columns with Categorical Data"
   ]
  },
  {
   "cell_type": "code",
   "execution_count": 45,
   "id": "c7417333",
   "metadata": {},
   "outputs": [
    {
     "data": {
      "text/html": [
       "<div>\n",
       "<style scoped>\n",
       "    .dataframe tbody tr th:only-of-type {\n",
       "        vertical-align: middle;\n",
       "    }\n",
       "\n",
       "    .dataframe tbody tr th {\n",
       "        vertical-align: top;\n",
       "    }\n",
       "\n",
       "    .dataframe thead th {\n",
       "        text-align: right;\n",
       "    }\n",
       "</style>\n",
       "<table border=\"1\" class=\"dataframe\">\n",
       "  <thead>\n",
       "    <tr style=\"text-align: right;\">\n",
       "      <th></th>\n",
       "      <th>source</th>\n",
       "      <th>Banner</th>\n",
       "      <th>Plan_Banner</th>\n",
       "      <th>Plan_Region</th>\n",
       "      <th>UNIT</th>\n",
       "      <th>Complete_PPG</th>\n",
       "      <th>MATERIALDESC</th>\n",
       "      <th>SUB_CATEGORY</th>\n",
       "      <th>SUB_CATEGORY_DESC</th>\n",
       "      <th>CATEGORY</th>\n",
       "      <th>CATEGORY_DESC</th>\n",
       "      <th>FGroup_Desc</th>\n",
       "    </tr>\n",
       "  </thead>\n",
       "  <tbody>\n",
       "    <tr>\n",
       "      <th>0</th>\n",
       "      <td>Company A</td>\n",
       "      <td>Company A ONTARIO</td>\n",
       "      <td>Company A</td>\n",
       "      <td>ONTARIO</td>\n",
       "      <td>EA</td>\n",
       "      <td>Superbundle</td>\n",
       "      <td>STOUFFER'S BST Italian 5 Cheese 8x256gCA</td>\n",
       "      <td>CAKK1K112</td>\n",
       "      <td>STF BISTRO CRUSTINI</td>\n",
       "      <td>CAKK1</td>\n",
       "      <td>FROZEN MEALS</td>\n",
       "      <td>CEF - CA Bistro 8pk</td>\n",
       "    </tr>\n",
       "    <tr>\n",
       "      <th>1</th>\n",
       "      <td>Company A</td>\n",
       "      <td>Company A ONTARIO</td>\n",
       "      <td>Company A</td>\n",
       "      <td>ONTARIO</td>\n",
       "      <td>EA</td>\n",
       "      <td>Superbundle</td>\n",
       "      <td>STOUFFER'S BST Italian 5 Cheese 8x256gCA</td>\n",
       "      <td>CAKK1K112</td>\n",
       "      <td>STF BISTRO CRUSTINI</td>\n",
       "      <td>CAKK1</td>\n",
       "      <td>FROZEN MEALS</td>\n",
       "      <td>CEF - CA Bistro 8pk</td>\n",
       "    </tr>\n",
       "  </tbody>\n",
       "</table>\n",
       "</div>"
      ],
      "text/plain": [
       "      source             Banner Plan_Banner Plan_Region UNIT Complete_PPG  \\\n",
       "0  Company A  Company A ONTARIO   Company A     ONTARIO   EA  Superbundle   \n",
       "1  Company A  Company A ONTARIO   Company A     ONTARIO   EA  Superbundle   \n",
       "\n",
       "                               MATERIALDESC SUB_CATEGORY    SUB_CATEGORY_DESC  \\\n",
       "0  STOUFFER'S BST Italian 5 Cheese 8x256gCA    CAKK1K112  STF BISTRO CRUSTINI   \n",
       "1  STOUFFER'S BST Italian 5 Cheese 8x256gCA    CAKK1K112  STF BISTRO CRUSTINI   \n",
       "\n",
       "  CATEGORY CATEGORY_DESC          FGroup_Desc  \n",
       "0    CAKK1  FROZEN MEALS  CEF - CA Bistro 8pk  \n",
       "1    CAKK1  FROZEN MEALS  CEF - CA Bistro 8pk  "
      ]
     },
     "execution_count": 45,
     "metadata": {},
     "output_type": "execute_result"
    }
   ],
   "source": [
    "# create a dataframe with all the categorical data from the original dataset\n",
    "df_categorical = df[categorical_columns]\n",
    "df_categorical.head(2)"
   ]
  },
  {
   "cell_type": "code",
   "execution_count": 46,
   "id": "1b8cb6ca",
   "metadata": {},
   "outputs": [
    {
     "name": "stdout",
     "output_type": "stream",
     "text": [
      "Number of unique values in each column:\n",
      "source                1\n",
      "Banner                3\n",
      "Plan_Banner           2\n",
      "Plan_Region           2\n",
      "UNIT                  2\n",
      "Complete_PPG         23\n",
      "MATERIALDESC         31\n",
      "SUB_CATEGORY         21\n",
      "SUB_CATEGORY_DESC    21\n",
      "CATEGORY             11\n",
      "CATEGORY_DESC        11\n",
      "FGroup_Desc          27\n",
      "dtype: int64\n"
     ]
    }
   ],
   "source": [
    "unique_value_counts = df_categorical.nunique()\n",
    "\n",
    "print(\"Number of unique values in each column:\")\n",
    "print(unique_value_counts)"
   ]
  },
  {
   "cell_type": "markdown",
   "id": "688b7d47",
   "metadata": {},
   "source": [
    "Based on the provided information, which includes the categorical dataset (`df_categorical`) and the number of unique values in each column, it is recommended to separate the following columns from the rest: \"SRC_BAN_POS\", \"pos_date\", \"ForecastDate\", \"InStoreStart\", and \"InStoreEnd\". These columns represent time."
   ]
  }
 ],
 "metadata": {
  "kernelspec": {
   "display_name": "Python 3 (ipykernel)",
   "language": "python",
   "name": "python3"
  },
  "language_info": {
   "codemirror_mode": {
    "name": "ipython",
    "version": 3
   },
   "file_extension": ".py",
   "mimetype": "text/x-python",
   "name": "python",
   "nbconvert_exporter": "python",
   "pygments_lexer": "ipython3",
   "version": "3.9.12"
  }
 },
 "nbformat": 4,
 "nbformat_minor": 5
}
