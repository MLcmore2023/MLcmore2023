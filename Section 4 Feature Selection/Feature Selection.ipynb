{
 "cells": [
  {
   "cell_type": "markdown",
   "id": "458eec78",
   "metadata": {},
   "source": [
    "# Feature Selection"
   ]
  },
  {
   "cell_type": "markdown",
   "id": "ef9daa97",
   "metadata": {},
   "source": [
    "# 1. Feature Selection"
   ]
  },
  {
   "cell_type": "markdown",
   "id": "e7c244cd",
   "metadata": {},
   "source": [
    "Feature selection are two important processes in data science that help improve the performance and interpretability of machine learning models. Let's discuss it in more detail."
   ]
  },
  {
   "cell_type": "markdown",
   "id": "a7082d26",
   "metadata": {},
   "source": [
    "## Feature Selection:\n",
    "\n",
    "Feature selection involves identifying the most relevant features from a given set of features to improve model performance and reduce overfitting. The goal is to select a subset of features that provide the most valuable information while discarding redundant or irrelevant features. Feature selection offers several benefits, including reduced model complexity, improved interpretability, and faster model training and inference. Here are some common techniques for feature selection:"
   ]
  },
  {
   "cell_type": "markdown",
   "id": "f5464785",
   "metadata": {},
   "source": [
    "a. Filter Methods: These methods assess the relevance of features based on statistical measures or scoring metrics such as correlation, chi-square test, mutual information, or variance threshold. Features are ranked or scored individually, and a threshold is set to select the top-ranked features.\n",
    "\n",
    "b. Wrapper Methods: These methods evaluate feature subsets by training and evaluating the model's performance using different feature combinations. Techniques like forward selection, backward elimination, or recursive feature elimination (RFE) iteratively add or remove features based on their impact on model performance.\n",
    "\n",
    "c. Embedded Methods: These methods incorporate feature selection within the model training process itself. Certain machine learning algorithms, such as Lasso (L1 regularization) or decision trees, inherently perform feature selection during training, assigning lower weights or pruning irrelevant features.\n",
    "\n",
    "d. Dimensionality Reduction: Techniques like Principal Component Analysis (PCA) or Singular Value Decomposition (SVD) reduce the dimensionality of the feature space by projecting the data onto a lower-dimensional subspace while preserving the most important information.\n",
    "\n",
    "e. Feature Importance from Models: Some models, such as Random Forests or Gradient Boosting Machines (GBMs), provide feature importance scores based on how much each feature contributes to the model's performance. These scores can be used to rank or select features."
   ]
  },
  {
   "cell_type": "markdown",
   "id": "dd5606e6",
   "metadata": {},
   "source": [
    "## 1.0 Preparation"
   ]
  },
  {
   "cell_type": "code",
   "execution_count": 1,
   "id": "971a177e",
   "metadata": {},
   "outputs": [],
   "source": [
    "import pandas as pd\n",
    "import numpy as np\n",
    "import seaborn as sns\n",
    "from sklearn.datasets import load_iris\n",
    "import warnings\n",
    "# Ignore all warnings\n",
    "warnings.filterwarnings(\"ignore\")"
   ]
  },
  {
   "cell_type": "code",
   "execution_count": 2,
   "id": "3974c463",
   "metadata": {},
   "outputs": [],
   "source": [
    "# Load the Iris dataset\n",
    "iris = load_iris()\n",
    "X = iris.data\n",
    "y = iris.target"
   ]
  },
  {
   "cell_type": "code",
   "execution_count": 3,
   "id": "a2d4c89d",
   "metadata": {},
   "outputs": [],
   "source": [
    "df = pd.DataFrame(data=iris.data, columns=iris.feature_names)\n"
   ]
  },
  {
   "cell_type": "markdown",
   "id": "030c487f",
   "metadata": {},
   "source": [
    "## 1.1 Filter Methods\n",
    "These methods assess the relevance of features based on statistical measures or scoring metrics such as correlation, chi-square test, mutual information, or variance threshold. Features are ranked or scored individually, and a threshold is set to select the top-ranked features."
   ]
  },
  {
   "cell_type": "code",
   "execution_count": 4,
   "id": "7f493037",
   "metadata": {},
   "outputs": [
    {
     "data": {
      "text/plain": [
       "<AxesSubplot:>"
      ]
     },
     "execution_count": 4,
     "metadata": {},
     "output_type": "execute_result"
    },
    {
     "data": {
      "image/png": "[encoded data removed]",
      "text/plain": [
       "<Figure size 432x288 with 2 Axes>"
      ]
     },
     "metadata": {
      "needs_background": "light"
     },
     "output_type": "display_data"
    }
   ],
   "source": [
    "data = pd.DataFrame(data= np.c_[iris['data'], iris['target']],\n",
    "                     columns= iris['feature_names'] + ['target'])\n",
    "                     \n",
    "# Compute the correlation matrix\n",
    "corr_matrix = data.corr()\n",
    "\n",
    "# Create a mask to display only the upper triangle of the correlation matrix\n",
    "mask = np.triu(np.ones_like(corr_matrix, dtype=bool))\n",
    "\n",
    "# Plot the correlation matrix\n",
    "sns.heatmap(corr_matrix, mask=mask, annot=True, cmap='coolwarm')"
   ]
  },
  {
   "cell_type": "markdown",
   "id": "b58211d5",
   "metadata": {},
   "source": [
    "In this example, we compute the correlation matrix for the iris dataset and visualize it using a heatmap. You can identify highly correlated features based on the heatmap and select a subset of features with lower correlation for your model."
   ]
  },
  {
   "cell_type": "markdown",
   "id": "2ba6ae8c",
   "metadata": {},
   "source": [
    "## 1.2 Wrapper Method using Recursive Feature Elimination (RFE) with Logistic Regression\n",
    "These methods evaluate feature subsets by training and evaluating the model's performance using different feature combinations. Techniques like forward selection, backward elimination, or recursive feature elimination (RFE) iteratively add or remove features based on their impact on model performance."
   ]
  },
  {
   "cell_type": "code",
   "execution_count": 5,
   "id": "a15deb73",
   "metadata": {},
   "outputs": [],
   "source": [
    "from sklearn.feature_selection import RFE\n",
    "from sklearn.linear_model import LogisticRegression\n",
    "\n",
    "# Load the Iris dataset\n",
    "from sklearn.datasets import load_iris\n",
    "iris = load_iris()\n",
    "X = iris['data']\n",
    "y = iris['target']\n",
    "\n",
    "# Create a logistic regression model\n",
    "model = LogisticRegression()\n",
    "\n",
    "# Perform recursive feature elimination\n",
    "rfe = RFE(estimator=model, n_features_to_select=2)\n",
    "X_selected = rfe.fit_transform(X, y)\n",
    "\n",
    "# Get the selected feature indices\n",
    "selected_feature_indices = rfe.get_support(indices=True)\n",
    "selected_feature_names = [iris['feature_names'][idx] for idx in selected_feature_indices]"
   ]
  },
  {
   "cell_type": "code",
   "execution_count": 6,
   "id": "359ba1b5",
   "metadata": {},
   "outputs": [
    {
     "data": {
      "text/plain": [
       "['petal length (cm)', 'petal width (cm)']"
      ]
     },
     "execution_count": 6,
     "metadata": {},
     "output_type": "execute_result"
    }
   ],
   "source": [
    "selected_feature_names"
   ]
  },
  {
   "cell_type": "markdown",
   "id": "e90d0d5d",
   "metadata": {},
   "source": [
    "In this modified example, we use RFE with logistic regression to recursively eliminate features and select the top 2 features from the Iris dataset based on their importance."
   ]
  },
  {
   "cell_type": "markdown",
   "id": "3fb1a5a8",
   "metadata": {},
   "source": [
    "## 1.3 Embedded Method using Random Forest Feature Importance:\n",
    "\n"
   ]
  },
  {
   "cell_type": "code",
   "execution_count": 7,
   "id": "c5579662",
   "metadata": {},
   "outputs": [],
   "source": [
    "from sklearn.ensemble import RandomForestClassifier\n",
    "\n",
    "# Load the Iris dataset\n",
    "from sklearn.datasets import load_iris\n",
    "iris = load_iris()\n",
    "X = iris['data']\n",
    "y = iris['target']\n",
    "\n",
    "# Create a random forest classifier\n",
    "model = RandomForestClassifier()\n",
    "\n",
    "# Fit the model to the data\n",
    "model.fit(X, y)\n",
    "\n",
    "# Get feature importances\n",
    "importances = model.feature_importances_\n",
    "\n",
    "# Sort feature importances in descending order\n",
    "indices = np.argsort(importances)[::-1]\n",
    "\n",
    "# Get the top k feature names\n",
    "k = 2\n",
    "selected_feature_names = [iris['feature_names'][idx] for idx in indices[:k]]"
   ]
  },
  {
   "cell_type": "code",
   "execution_count": 8,
   "id": "515e771c",
   "metadata": {},
   "outputs": [
    {
     "data": {
      "text/plain": [
       "['petal width (cm)', 'petal length (cm)']"
      ]
     },
     "execution_count": 8,
     "metadata": {},
     "output_type": "execute_result"
    }
   ],
   "source": [
    "selected_feature_names"
   ]
  },
  {
   "cell_type": "markdown",
   "id": "fd8e49dc",
   "metadata": {},
   "source": [
    "In this modified example, we use a random forest classifier to estimate the feature importance scores from the Iris dataset. Features are ranked based on their importance, and you can select the top k features for your model."
   ]
  },
  {
   "cell_type": "markdown",
   "id": "7e2de76e",
   "metadata": {},
   "source": [
    "# 2. Exercise: Feature Selection"
   ]
  },
  {
   "cell_type": "markdown",
   "id": "037cf146",
   "metadata": {},
   "source": [
    "Given a dataset with multiple features, perform the following feature selection tasks:\n",
    "\n",
    "a) Calculate the correlation matrix for the dataset and identify highly correlated features. Remove one of the features from each highly correlated pair to reduce redundancy.\n",
    "\n",
    "b) Use a filter-based feature selection method, such as mutual information or ANOVA, to rank the features based on their relevance to the target variable.\n",
    "\n",
    "c) Implement recursive feature elimination (RFE) with a machine learning algorithm of your choice to select the top k features.\n",
    "\n",
    "d) Train a random forest model on the dataset and extract the feature importances. Select the top features based on their importance scores.\n",
    "\n",
    "e) Compare the performance of different feature selection methods by evaluating the model's accuracy or other relevant metrics on a validation dataset."
   ]
  },
  {
   "cell_type": "code",
   "execution_count": 9,
   "id": "a39bd3f1",
   "metadata": {},
   "outputs": [],
   "source": [
    "from sklearn.datasets import load_boston\n",
    "import pandas as pd\n",
    "import numpy as np\n",
    "\n",
    "\n",
    "# Load the Boston Housing dataset\n",
    "boston = load_boston()\n",
    "X = pd.DataFrame(boston['data'], columns=boston['feature_names'])\n",
    "y = pd.Series(boston['target'])"
   ]
  }
 ],
 "metadata": {
  "kernelspec": {
   "display_name": "Python 3 (ipykernel)",
   "language": "python",
   "name": "python3"
  },
  "language_info": {
   "codemirror_mode": {
    "name": "ipython",
    "version": 3
   },
   "file_extension": ".py",
   "mimetype": "text/x-python",
   "name": "python",
   "nbconvert_exporter": "python",
   "pygments_lexer": "ipython3",
   "version": "3.9.12"
  }
 },
 "nbformat": 4,
 "nbformat_minor": 5
}
