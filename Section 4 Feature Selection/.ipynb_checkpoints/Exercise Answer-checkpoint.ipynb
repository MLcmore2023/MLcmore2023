{
 "cells": [
  {
   "cell_type": "markdown",
   "id": "4f70f27c",
   "metadata": {},
   "source": [
    "# 1. Answer: Feature Selection"
   ]
  },
  {
   "cell_type": "markdown",
   "id": "b99ceb54",
   "metadata": {},
   "source": [
    "Here's an example of how you can approach Exercise: Feature Selection."
   ]
  },
  {
   "cell_type": "code",
   "execution_count": 5,
   "id": "8dd4fd5a",
   "metadata": {},
   "outputs": [
    {
     "name": "stdout",
     "output_type": "stream",
     "text": [
      "Validation RMSE: 3.6465074023363946\n"
     ]
    }
   ],
   "source": [
    "from sklearn.feature_selection import SelectKBest, f_regression\n",
    "from sklearn.ensemble import RandomForestRegressor\n",
    "from sklearn.model_selection import train_test_split\n",
    "from sklearn.metrics import mean_squared_error\n",
    "from sklearn.datasets import load_boston\n",
    "import pandas as pd\n",
    "import numpy as np\n",
    "import warnings\n",
    "\n",
    "# Ignore all warnings\n",
    "warnings.filterwarnings(\"ignore\")\n",
    "\n",
    "# Load the Boston Housing dataset\n",
    "boston = load_boston()\n",
    "X = pd.DataFrame(boston['data'], columns=boston['feature_names'])\n",
    "y = pd.Series(boston['target'])\n",
    "\n",
    "# Split the dataset into training and validation sets\n",
    "X_train, X_val, y_train, y_val = train_test_split(X, y, test_size=0.2, random_state=42)\n",
    "\n",
    "# Calculate the correlation matrix\n",
    "corr_matrix = X_train.corr()\n",
    "\n",
    "# Identify highly correlated features and remove one of each pair\n",
    "upper_tri = corr_matrix.where(np.triu(np.ones(corr_matrix.shape), k=1).astype(np.bool))\n",
    "to_drop = [column for column in upper_tri.columns if any(upper_tri[column].abs() > 0.8)]\n",
    "X_train = X_train.drop(to_drop, axis=1)\n",
    "X_val = X_val.drop(to_drop, axis=1)\n",
    "\n",
    "# Perform filter-based feature selection using ANOVA\n",
    "selector = SelectKBest(score_func=f_regression, k=5)\n",
    "X_train_selected = selector.fit_transform(X_train, y_train)\n",
    "X_val_selected = selector.transform(X_val)\n",
    "\n",
    "# Get the selected feature indices\n",
    "selected_feature_indices = selector.get_support(indices=True)\n",
    "selected_feature_names = X_train.columns[selected_feature_indices]\n",
    "\n",
    "# Train a random forest regressor on the selected features\n",
    "model = RandomForestRegressor()\n",
    "model.fit(X_train_selected, y_train)\n",
    "\n",
    "# Make predictions on the validation set\n",
    "y_pred = model.predict(X_val_selected)\n",
    "\n",
    "# Calculate the root mean squared error\n",
    "rmse = np.sqrt(mean_squared_error(y_val, y_pred))\n",
    "print(\"Validation RMSE:\", rmse)"
   ]
  },
  {
   "cell_type": "code",
   "execution_count": null,
   "id": "6a799102",
   "metadata": {},
   "outputs": [],
   "source": []
  }
 ],
 "metadata": {
  "kernelspec": {
   "display_name": "Python 3 (ipykernel)",
   "language": "python",
   "name": "python3"
  },
  "language_info": {
   "codemirror_mode": {
    "name": "ipython",
    "version": 3
   },
   "file_extension": ".py",
   "mimetype": "text/x-python",
   "name": "python",
   "nbconvert_exporter": "python",
   "pygments_lexer": "ipython3",
   "version": "3.9.12"
  }
 },
 "nbformat": 4,
 "nbformat_minor": 5
}
