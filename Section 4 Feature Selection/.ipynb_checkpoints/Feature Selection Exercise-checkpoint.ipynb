{
 "cells": [
  {
   "cell_type": "markdown",
   "id": "2ffaadf5",
   "metadata": {},
   "source": [
    "# 1. Concept Question"
   ]
  },
  {
   "cell_type": "markdown",
   "id": "ef4bbf74",
   "metadata": {},
   "source": [
    "1. What is feature selection, and why is it important in data science?\n",
    "\n",
    "\n",
    "2. Explain the difference between feature selection and feature extraction.\n",
    "\n",
    "\n",
    "3. What are the main challenges in dealing with high-dimensional data, and how does feature selection address these challenges?\n",
    "\n",
    "\n",
    "4. Name and briefly describe three common types of feature selection methods.\n",
    "\n",
    "\n",
    "5. How does univariate feature selection work, and what are its limitations?\n",
    "\n",
    "\n",
    "6. What is the purpose of using scoring functions in feature selection, and give an example of a scoring function.\n",
    "\n",
    "\n",
    "7. Explain how L1 regularization (Lasso) can be used for feature selection in linear models.\n",
    "\n",
    "\n",
    "8. Describe the concept of feature importance in tree-based models and how it can be utilized for feature selection.\n",
    "\n",
    "\n",
    "9. What is Recursive Feature Elimination (RFE), and how does it work? Discuss its pros and cons.\n",
    "\n",
    "\n",
    "10. What is Variance Thresholding, and in what scenarios is it useful for feature selection?\n",
    "\n",
    "\n",
    "11. How does the chi-squared test work for feature selection with categorical data?\n",
    "\n",
    "\n",
    "12. What are the trade-offs involved in feature selection? How can overfitting and underfitting be influenced by feature selection methods?\n",
    "\n",
    "\n",
    "13. Explain the concept of feature selection stability and its significance in data analysis.\n",
    "\n",
    "\n",
    "14. Describe the concept of wrapper methods in feature selection and their computational complexity.\n",
    "\n",
    "\n",
    "15. In the context of feature selection, what is the curse of dimensionality, and how can it be mitigated?"
   ]
  }
 ],
 "metadata": {
  "kernelspec": {
   "display_name": "Python 3 (ipykernel)",
   "language": "python",
   "name": "python3"
  },
  "language_info": {
   "codemirror_mode": {
    "name": "ipython",
    "version": 3
   },
   "file_extension": ".py",
   "mimetype": "text/x-python",
   "name": "python",
   "nbconvert_exporter": "python",
   "pygments_lexer": "ipython3",
   "version": "3.9.12"
  }
 },
 "nbformat": 4,
 "nbformat_minor": 5
}
