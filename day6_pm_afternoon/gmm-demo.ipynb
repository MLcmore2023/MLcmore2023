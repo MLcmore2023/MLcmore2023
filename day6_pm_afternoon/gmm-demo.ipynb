{
  "metadata": {
    "colab": {
      "name": "GMM_Implementation.ipynb",
      "provenance": [],
      "include_colab_link": true
    },
    "kernelspec": {
      "name": "python3",
      "display_name": "Python 3",
      "language": "python"
    },
    "language_info": {
      "name": "python",
      "version": "3.10.12",
      "mimetype": "text/x-python",
      "codemirror_mode": {
        "name": "ipython",
        "version": 3
      },
      "pygments_lexer": "ipython3",
      "nbconvert_exporter": "python",
      "file_extension": ".py"
    }
  },
  "nbformat_minor": 0,
  "nbformat": 4,
  "cells": [
    {
      "cell_type": "markdown",
      "metadata": {
        "id": "view-in-github",
        "colab_type": "text"
      },
      "source": [
        "<a href=\"https://colab.research.google.com/github/MLcmore2023/MLcmore2023/blob/main/day6_pm_afternoon/gmm-demo.ipynb\" target=\"_parent\"><img src=\"https://colab.research.google.com/assets/colab-badge.svg\" alt=\"Open In Colab\"/></a>"
      ]
    },
    {
      "cell_type": "markdown",
      "source": [
        "# Gaussian Mixture Models\n",
        "GMM (Gaussian Mixture Model) is a probabilistic unsupervised machine learning algorithm used for clustering and density estimation. It assumes that the data is generated from a mixture of Gaussian distributions, where each distribution represents a cluster. GMM estimates the parameters of these Gaussian distributions to model the data and assigns each data point to the most likely cluster based on the probability distribution. It allows for more flexible and complex cluster shapes compared to other clustering algorithms, as it considers the covariance between variables and allows data points to belong to multiple clusters with different probabilities.\n"
      ],
      "metadata": {
        "id": "tFr3s1eh9_Mi"
      }
    },
    {
      "cell_type": "markdown",
      "source": [
        "### Import libraries and initialize random generator"
      ],
      "metadata": {
        "id": "HFH9gxJnCQhP"
      }
    },
    {
      "cell_type": "code",
      "source": [
        "import numpy as np\n",
        "import pandas as pd"
      ],
      "metadata": {
        "id": "irGOL_Dcw8ja",
        "execution": {
          "iopub.status.busy": "2023-07-13T12:54:25.983691Z",
          "iopub.execute_input": "2023-07-13T12:54:25.984318Z",
          "iopub.status.idle": "2023-07-13T12:54:25.989090Z",
          "shell.execute_reply.started": "2023-07-13T12:54:25.984283Z",
          "shell.execute_reply": "2023-07-13T12:54:25.988005Z"
        },
        "trusted": true
      },
      "execution_count": 1,
      "outputs": []
    },
    {
      "cell_type": "markdown",
      "source": [
        "### Read data from CSV\n",
        "we will (again) use the wholesale customers dataset. The data set includes the annual spending amount on 6 product categories of 440 customers. We will try to group these customers into different clusters, which in real life may represent groups such as individual buyers, business owners, tourists ... (these are just examples. GMM does not give any labels)"
      ],
      "metadata": {
        "id": "hN_TKq1kVRJT"
      }
    },
    {
      "cell_type": "code",
      "source": [
        "dataset = pd.read_csv(\"https://raw.githubusercontent.com/TrainingByPackt/Data-Science-with-Python/master/Chapter01/Data/Wholesale%20customers%20data.csv\")\n",
        "display(dataset)"
      ],
      "metadata": {
        "id": "mcCzJFnT_fRQ",
        "colab": {
          "base_uri": "https://localhost:8080/",
          "height": 423
        },
        "outputId": "31f75b4b-5e05-4e6a-bdff-c1cb71566514",
        "execution": {
          "iopub.status.busy": "2023-07-13T12:54:26.040912Z",
          "iopub.execute_input": "2023-07-13T12:54:26.041539Z",
          "iopub.status.idle": "2023-07-13T12:54:26.125722Z",
          "shell.execute_reply.started": "2023-07-13T12:54:26.041508Z",
          "shell.execute_reply": "2023-07-13T12:54:26.124468Z"
        },
        "trusted": true
      },
      "execution_count": 2,
      "outputs": [
        {
          "output_type": "display_data",
          "data": {
            "text/plain": [
              "     Channel  Region  Fresh   Milk  Grocery  Frozen  Detergents_Paper  \\\n",
              "0          2       3  12669   9656     7561     214              2674   \n",
              "1          2       3   7057   9810     9568    1762              3293   \n",
              "2          2       3   6353   8808     7684    2405              3516   \n",
              "3          1       3  13265   1196     4221    6404               507   \n",
              "4          2       3  22615   5410     7198    3915              1777   \n",
              "..       ...     ...    ...    ...      ...     ...               ...   \n",
              "435        1       3  29703  12051    16027   13135               182   \n",
              "436        1       3  39228   1431      764    4510                93   \n",
              "437        2       3  14531  15488    30243     437             14841   \n",
              "438        1       3  10290   1981     2232    1038               168   \n",
              "439        1       3   2787   1698     2510      65               477   \n",
              "\n",
              "     Delicassen  \n",
              "0          1338  \n",
              "1          1776  \n",
              "2          7844  \n",
              "3          1788  \n",
              "4          5185  \n",
              "..          ...  \n",
              "435        2204  \n",
              "436        2346  \n",
              "437        1867  \n",
              "438        2125  \n",
              "439          52  \n",
              "\n",
              "[440 rows x 8 columns]"
            ],
            "text/html": [
              "\n",
              "\n",
              "  <div id=\"df-2ddf01e6-2d01-4655-a28b-aa5a5647bfb8\">\n",
              "    <div class=\"colab-df-container\">\n",
              "      <div>\n",
              "<style scoped>\n",
              "    .dataframe tbody tr th:only-of-type {\n",
              "        vertical-align: middle;\n",
              "    }\n",
              "\n",
              "    .dataframe tbody tr th {\n",
              "        vertical-align: top;\n",
              "    }\n",
              "\n",
              "    .dataframe thead th {\n",
              "        text-align: right;\n",
              "    }\n",
              "</style>\n",
              "<table border=\"1\" class=\"dataframe\">\n",
              "  <thead>\n",
              "    <tr style=\"text-align: right;\">\n",
              "      <th></th>\n",
              "      <th>Channel</th>\n",
              "      <th>Region</th>\n",
              "      <th>Fresh</th>\n",
              "      <th>Milk</th>\n",
              "      <th>Grocery</th>\n",
              "      <th>Frozen</th>\n",
              "      <th>Detergents_Paper</th>\n",
              "      <th>Delicassen</th>\n",
              "    </tr>\n",
              "  </thead>\n",
              "  <tbody>\n",
              "    <tr>\n",
              "      <th>0</th>\n",
              "      <td>2</td>\n",
              "      <td>3</td>\n",
              "      <td>12669</td>\n",
              "      <td>9656</td>\n",
              "      <td>7561</td>\n",
              "      <td>214</td>\n",
              "      <td>2674</td>\n",
              "      <td>1338</td>\n",
              "    </tr>\n",
              "    <tr>\n",
              "      <th>1</th>\n",
              "      <td>2</td>\n",
              "      <td>3</td>\n",
              "      <td>7057</td>\n",
              "      <td>9810</td>\n",
              "      <td>9568</td>\n",
              "      <td>1762</td>\n",
              "      <td>3293</td>\n",
              "      <td>1776</td>\n",
              "    </tr>\n",
              "    <tr>\n",
              "      <th>2</th>\n",
              "      <td>2</td>\n",
              "      <td>3</td>\n",
              "      <td>6353</td>\n",
              "      <td>8808</td>\n",
              "      <td>7684</td>\n",
              "      <td>2405</td>\n",
              "      <td>3516</td>\n",
              "      <td>7844</td>\n",
              "    </tr>\n",
              "    <tr>\n",
              "      <th>3</th>\n",
              "      <td>1</td>\n",
              "      <td>3</td>\n",
              "      <td>13265</td>\n",
              "      <td>1196</td>\n",
              "      <td>4221</td>\n",
              "      <td>6404</td>\n",
              "      <td>507</td>\n",
              "      <td>1788</td>\n",
              "    </tr>\n",
              "    <tr>\n",
              "      <th>4</th>\n",
              "      <td>2</td>\n",
              "      <td>3</td>\n",
              "      <td>22615</td>\n",
              "      <td>5410</td>\n",
              "      <td>7198</td>\n",
              "      <td>3915</td>\n",
              "      <td>1777</td>\n",
              "      <td>5185</td>\n",
              "    </tr>\n",
              "    <tr>\n",
              "      <th>...</th>\n",
              "      <td>...</td>\n",
              "      <td>...</td>\n",
              "      <td>...</td>\n",
              "      <td>...</td>\n",
              "      <td>...</td>\n",
              "      <td>...</td>\n",
              "      <td>...</td>\n",
              "      <td>...</td>\n",
              "    </tr>\n",
              "    <tr>\n",
              "      <th>435</th>\n",
              "      <td>1</td>\n",
              "      <td>3</td>\n",
              "      <td>29703</td>\n",
              "      <td>12051</td>\n",
              "      <td>16027</td>\n",
              "      <td>13135</td>\n",
              "      <td>182</td>\n",
              "      <td>2204</td>\n",
              "    </tr>\n",
              "    <tr>\n",
              "      <th>436</th>\n",
              "      <td>1</td>\n",
              "      <td>3</td>\n",
              "      <td>39228</td>\n",
              "      <td>1431</td>\n",
              "      <td>764</td>\n",
              "      <td>4510</td>\n",
              "      <td>93</td>\n",
              "      <td>2346</td>\n",
              "    </tr>\n",
              "    <tr>\n",
              "      <th>437</th>\n",
              "      <td>2</td>\n",
              "      <td>3</td>\n",
              "      <td>14531</td>\n",
              "      <td>15488</td>\n",
              "      <td>30243</td>\n",
              "      <td>437</td>\n",
              "      <td>14841</td>\n",
              "      <td>1867</td>\n",
              "    </tr>\n",
              "    <tr>\n",
              "      <th>438</th>\n",
              "      <td>1</td>\n",
              "      <td>3</td>\n",
              "      <td>10290</td>\n",
              "      <td>1981</td>\n",
              "      <td>2232</td>\n",
              "      <td>1038</td>\n",
              "      <td>168</td>\n",
              "      <td>2125</td>\n",
              "    </tr>\n",
              "    <tr>\n",
              "      <th>439</th>\n",
              "      <td>1</td>\n",
              "      <td>3</td>\n",
              "      <td>2787</td>\n",
              "      <td>1698</td>\n",
              "      <td>2510</td>\n",
              "      <td>65</td>\n",
              "      <td>477</td>\n",
              "      <td>52</td>\n",
              "    </tr>\n",
              "  </tbody>\n",
              "</table>\n",
              "<p>440 rows × 8 columns</p>\n",
              "</div>\n",
              "      <button class=\"colab-df-convert\" onclick=\"convertToInteractive('df-2ddf01e6-2d01-4655-a28b-aa5a5647bfb8')\"\n",
              "              title=\"Convert this dataframe to an interactive table.\"\n",
              "              style=\"display:none;\">\n",
              "\n",
              "  <svg xmlns=\"http://www.w3.org/2000/svg\" height=\"24px\"viewBox=\"0 0 24 24\"\n",
              "       width=\"24px\">\n",
              "    <path d=\"M0 0h24v24H0V0z\" fill=\"none\"/>\n",
              "    <path d=\"M18.56 5.44l.94 2.06.94-2.06 2.06-.94-2.06-.94-.94-2.06-.94 2.06-2.06.94zm-11 1L8.5 8.5l.94-2.06 2.06-.94-2.06-.94L8.5 2.5l-.94 2.06-2.06.94zm10 10l.94 2.06.94-2.06 2.06-.94-2.06-.94-.94-2.06-.94 2.06-2.06.94z\"/><path d=\"M17.41 7.96l-1.37-1.37c-.4-.4-.92-.59-1.43-.59-.52 0-1.04.2-1.43.59L10.3 9.45l-7.72 7.72c-.78.78-.78 2.05 0 2.83L4 21.41c.39.39.9.59 1.41.59.51 0 1.02-.2 1.41-.59l7.78-7.78 2.81-2.81c.8-.78.8-2.07 0-2.86zM5.41 20L4 18.59l7.72-7.72 1.47 1.35L5.41 20z\"/>\n",
              "  </svg>\n",
              "      </button>\n",
              "\n",
              "\n",
              "\n",
              "    <div id=\"df-f44ed79e-7981-42e3-b3c0-db0d4fc1783f\">\n",
              "      <button class=\"colab-df-quickchart\" onclick=\"quickchart('df-f44ed79e-7981-42e3-b3c0-db0d4fc1783f')\"\n",
              "              title=\"Suggest charts.\"\n",
              "              style=\"display:none;\">\n",
              "\n",
              "<svg xmlns=\"http://www.w3.org/2000/svg\" height=\"24px\"viewBox=\"0 0 24 24\"\n",
              "     width=\"24px\">\n",
              "    <g>\n",
              "        <path d=\"M19 3H5c-1.1 0-2 .9-2 2v14c0 1.1.9 2 2 2h14c1.1 0 2-.9 2-2V5c0-1.1-.9-2-2-2zM9 17H7v-7h2v7zm4 0h-2V7h2v10zm4 0h-2v-4h2v4z\"/>\n",
              "    </g>\n",
              "</svg>\n",
              "      </button>\n",
              "    </div>\n",
              "\n",
              "<style>\n",
              "  .colab-df-quickchart {\n",
              "    background-color: #E8F0FE;\n",
              "    border: none;\n",
              "    border-radius: 50%;\n",
              "    cursor: pointer;\n",
              "    display: none;\n",
              "    fill: #1967D2;\n",
              "    height: 32px;\n",
              "    padding: 0 0 0 0;\n",
              "    width: 32px;\n",
              "  }\n",
              "\n",
              "  .colab-df-quickchart:hover {\n",
              "    background-color: #E2EBFA;\n",
              "    box-shadow: 0px 1px 2px rgba(60, 64, 67, 0.3), 0px 1px 3px 1px rgba(60, 64, 67, 0.15);\n",
              "    fill: #174EA6;\n",
              "  }\n",
              "\n",
              "  [theme=dark] .colab-df-quickchart {\n",
              "    background-color: #3B4455;\n",
              "    fill: #D2E3FC;\n",
              "  }\n",
              "\n",
              "  [theme=dark] .colab-df-quickchart:hover {\n",
              "    background-color: #434B5C;\n",
              "    box-shadow: 0px 1px 3px 1px rgba(0, 0, 0, 0.15);\n",
              "    filter: drop-shadow(0px 1px 2px rgba(0, 0, 0, 0.3));\n",
              "    fill: #FFFFFF;\n",
              "  }\n",
              "</style>\n",
              "\n",
              "    <script>\n",
              "      async function quickchart(key) {\n",
              "        const containerElement = document.querySelector('#' + key);\n",
              "        const charts = await google.colab.kernel.invokeFunction(\n",
              "            'suggestCharts', [key], {});\n",
              "      }\n",
              "    </script>\n",
              "\n",
              "      <script>\n",
              "\n",
              "function displayQuickchartButton(domScope) {\n",
              "  let quickchartButtonEl =\n",
              "    domScope.querySelector('#df-f44ed79e-7981-42e3-b3c0-db0d4fc1783f button.colab-df-quickchart');\n",
              "  quickchartButtonEl.style.display =\n",
              "    google.colab.kernel.accessAllowed ? 'block' : 'none';\n",
              "}\n",
              "\n",
              "        displayQuickchartButton(document);\n",
              "      </script>\n",
              "      <style>\n",
              "    .colab-df-container {\n",
              "      display:flex;\n",
              "      flex-wrap:wrap;\n",
              "      gap: 12px;\n",
              "    }\n",
              "\n",
              "    .colab-df-convert {\n",
              "      background-color: #E8F0FE;\n",
              "      border: none;\n",
              "      border-radius: 50%;\n",
              "      cursor: pointer;\n",
              "      display: none;\n",
              "      fill: #1967D2;\n",
              "      height: 32px;\n",
              "      padding: 0 0 0 0;\n",
              "      width: 32px;\n",
              "    }\n",
              "\n",
              "    .colab-df-convert:hover {\n",
              "      background-color: #E2EBFA;\n",
              "      box-shadow: 0px 1px 2px rgba(60, 64, 67, 0.3), 0px 1px 3px 1px rgba(60, 64, 67, 0.15);\n",
              "      fill: #174EA6;\n",
              "    }\n",
              "\n",
              "    [theme=dark] .colab-df-convert {\n",
              "      background-color: #3B4455;\n",
              "      fill: #D2E3FC;\n",
              "    }\n",
              "\n",
              "    [theme=dark] .colab-df-convert:hover {\n",
              "      background-color: #434B5C;\n",
              "      box-shadow: 0px 1px 3px 1px rgba(0, 0, 0, 0.15);\n",
              "      filter: drop-shadow(0px 1px 2px rgba(0, 0, 0, 0.3));\n",
              "      fill: #FFFFFF;\n",
              "    }\n",
              "  </style>\n",
              "\n",
              "      <script>\n",
              "        const buttonEl =\n",
              "          document.querySelector('#df-2ddf01e6-2d01-4655-a28b-aa5a5647bfb8 button.colab-df-convert');\n",
              "        buttonEl.style.display =\n",
              "          google.colab.kernel.accessAllowed ? 'block' : 'none';\n",
              "\n",
              "        async function convertToInteractive(key) {\n",
              "          const element = document.querySelector('#df-2ddf01e6-2d01-4655-a28b-aa5a5647bfb8');\n",
              "          const dataTable =\n",
              "            await google.colab.kernel.invokeFunction('convertToInteractive',\n",
              "                                                     [key], {});\n",
              "          if (!dataTable) return;\n",
              "\n",
              "          const docLinkHtml = 'Like what you see? Visit the ' +\n",
              "            '<a target=\"_blank\" href=https://colab.research.google.com/notebooks/data_table.ipynb>data table notebook</a>'\n",
              "            + ' to learn more about interactive tables.';\n",
              "          element.innerHTML = '';\n",
              "          dataTable['output_type'] = 'display_data';\n",
              "          await google.colab.output.renderOutput(dataTable, element);\n",
              "          const docLink = document.createElement('div');\n",
              "          docLink.innerHTML = docLinkHtml;\n",
              "          element.appendChild(docLink);\n",
              "        }\n",
              "      </script>\n",
              "    </div>\n",
              "  </div>\n"
            ]
          },
          "metadata": {}
        }
      ]
    },
    {
      "cell_type": "markdown",
      "source": [
        "`Channel` and `Region` are categorical variables, so these feature are not suitable for GMM. We will therefore remove them"
      ],
      "metadata": {
        "id": "kkci0G23CQhU"
      }
    },
    {
      "cell_type": "code",
      "source": [
        "dataset = dataset.drop(['Channel', 'Region'], axis=1)"
      ],
      "metadata": {
        "execution": {
          "iopub.status.busy": "2023-07-13T12:54:26.127735Z",
          "iopub.execute_input": "2023-07-13T12:54:26.128163Z",
          "iopub.status.idle": "2023-07-13T12:54:26.134278Z",
          "shell.execute_reply.started": "2023-07-13T12:54:26.128132Z",
          "shell.execute_reply": "2023-07-13T12:54:26.133100Z"
        },
        "trusted": true,
        "id": "DLddhhFACQhU"
      },
      "execution_count": 3,
      "outputs": []
    },
    {
      "cell_type": "markdown",
      "source": [
        "### Standardizing dataset values\n",
        "GMM is sensitive to the scales of the features, and features with larger scales can dominate the clustering algorithm. By standardizing the dataset, we transform the features to have a mean of 0 and a standard deviation of 1, which brings all features to a similar scale (i.e. using z-scores instead of raw values). This allows the model to treat all features equally and prevent any single feature from dominating the clustering process based on its scale."
      ],
      "metadata": {
        "id": "0XF0Rm68CQhV"
      }
    },
    {
      "cell_type": "code",
      "source": [
        "def standardize_data(dataset):\n",
        "    mean = np.mean(dataset, axis=0)  # Calculate the mean along the columns\n",
        "    std = np.std(dataset, axis=0)    # Calculate the standard deviation along the columns\n",
        "    data_scaled = (dataset - mean) / std  # Standardize the dataset\n",
        "    return data_scaled\n",
        "\n",
        "X = standardize_data(dataset)\n",
        "display(X)"
      ],
      "metadata": {
        "execution": {
          "iopub.status.busy": "2023-07-13T12:54:26.136095Z",
          "iopub.execute_input": "2023-07-13T12:54:26.136941Z",
          "iopub.status.idle": "2023-07-13T12:54:26.161899Z",
          "shell.execute_reply.started": "2023-07-13T12:54:26.136908Z",
          "shell.execute_reply": "2023-07-13T12:54:26.160918Z"
        },
        "trusted": true,
        "id": "f3qMHZskCQhW",
        "outputId": "4730db9c-91ce-4199-df12-e5aea02b18a0",
        "colab": {
          "base_uri": "https://localhost:8080/",
          "height": 423
        }
      },
      "execution_count": 4,
      "outputs": [
        {
          "output_type": "display_data",
          "data": {
            "text/plain": [
              "        Fresh      Milk   Grocery    Frozen  Detergents_Paper  Delicassen\n",
              "0    0.052933  0.523568 -0.041115 -0.589367         -0.043569   -0.066339\n",
              "1   -0.391302  0.544458  0.170318 -0.270136          0.086407    0.089151\n",
              "2   -0.447029  0.408538 -0.028157 -0.137536          0.133232    2.243293\n",
              "3    0.100111 -0.624020 -0.392977  0.687144         -0.498588    0.093411\n",
              "4    0.840239 -0.052396 -0.079356  0.173859         -0.231918    1.299347\n",
              "..        ...       ...       ...       ...               ...         ...\n",
              "435  1.401312  0.848446  0.850760  2.075222         -0.566831    0.241091\n",
              "436  2.155293 -0.592142 -0.757165  0.296561         -0.585519    0.291501\n",
              "437  0.200326  1.314671  2.348386 -0.543380          2.511218    0.121456\n",
              "438 -0.135384 -0.517536 -0.602514 -0.419441         -0.569770    0.213046\n",
              "439 -0.729307 -0.555924 -0.573227 -0.620094         -0.504888   -0.522869\n",
              "\n",
              "[440 rows x 6 columns]"
            ],
            "text/html": [
              "\n",
              "\n",
              "  <div id=\"df-56c13fdb-3f8a-4b8b-8a49-503092c07d18\">\n",
              "    <div class=\"colab-df-container\">\n",
              "      <div>\n",
              "<style scoped>\n",
              "    .dataframe tbody tr th:only-of-type {\n",
              "        vertical-align: middle;\n",
              "    }\n",
              "\n",
              "    .dataframe tbody tr th {\n",
              "        vertical-align: top;\n",
              "    }\n",
              "\n",
              "    .dataframe thead th {\n",
              "        text-align: right;\n",
              "    }\n",
              "</style>\n",
              "<table border=\"1\" class=\"dataframe\">\n",
              "  <thead>\n",
              "    <tr style=\"text-align: right;\">\n",
              "      <th></th>\n",
              "      <th>Fresh</th>\n",
              "      <th>Milk</th>\n",
              "      <th>Grocery</th>\n",
              "      <th>Frozen</th>\n",
              "      <th>Detergents_Paper</th>\n",
              "      <th>Delicassen</th>\n",
              "    </tr>\n",
              "  </thead>\n",
              "  <tbody>\n",
              "    <tr>\n",
              "      <th>0</th>\n",
              "      <td>0.052933</td>\n",
              "      <td>0.523568</td>\n",
              "      <td>-0.041115</td>\n",
              "      <td>-0.589367</td>\n",
              "      <td>-0.043569</td>\n",
              "      <td>-0.066339</td>\n",
              "    </tr>\n",
              "    <tr>\n",
              "      <th>1</th>\n",
              "      <td>-0.391302</td>\n",
              "      <td>0.544458</td>\n",
              "      <td>0.170318</td>\n",
              "      <td>-0.270136</td>\n",
              "      <td>0.086407</td>\n",
              "      <td>0.089151</td>\n",
              "    </tr>\n",
              "    <tr>\n",
              "      <th>2</th>\n",
              "      <td>-0.447029</td>\n",
              "      <td>0.408538</td>\n",
              "      <td>-0.028157</td>\n",
              "      <td>-0.137536</td>\n",
              "      <td>0.133232</td>\n",
              "      <td>2.243293</td>\n",
              "    </tr>\n",
              "    <tr>\n",
              "      <th>3</th>\n",
              "      <td>0.100111</td>\n",
              "      <td>-0.624020</td>\n",
              "      <td>-0.392977</td>\n",
              "      <td>0.687144</td>\n",
              "      <td>-0.498588</td>\n",
              "      <td>0.093411</td>\n",
              "    </tr>\n",
              "    <tr>\n",
              "      <th>4</th>\n",
              "      <td>0.840239</td>\n",
              "      <td>-0.052396</td>\n",
              "      <td>-0.079356</td>\n",
              "      <td>0.173859</td>\n",
              "      <td>-0.231918</td>\n",
              "      <td>1.299347</td>\n",
              "    </tr>\n",
              "    <tr>\n",
              "      <th>...</th>\n",
              "      <td>...</td>\n",
              "      <td>...</td>\n",
              "      <td>...</td>\n",
              "      <td>...</td>\n",
              "      <td>...</td>\n",
              "      <td>...</td>\n",
              "    </tr>\n",
              "    <tr>\n",
              "      <th>435</th>\n",
              "      <td>1.401312</td>\n",
              "      <td>0.848446</td>\n",
              "      <td>0.850760</td>\n",
              "      <td>2.075222</td>\n",
              "      <td>-0.566831</td>\n",
              "      <td>0.241091</td>\n",
              "    </tr>\n",
              "    <tr>\n",
              "      <th>436</th>\n",
              "      <td>2.155293</td>\n",
              "      <td>-0.592142</td>\n",
              "      <td>-0.757165</td>\n",
              "      <td>0.296561</td>\n",
              "      <td>-0.585519</td>\n",
              "      <td>0.291501</td>\n",
              "    </tr>\n",
              "    <tr>\n",
              "      <th>437</th>\n",
              "      <td>0.200326</td>\n",
              "      <td>1.314671</td>\n",
              "      <td>2.348386</td>\n",
              "      <td>-0.543380</td>\n",
              "      <td>2.511218</td>\n",
              "      <td>0.121456</td>\n",
              "    </tr>\n",
              "    <tr>\n",
              "      <th>438</th>\n",
              "      <td>-0.135384</td>\n",
              "      <td>-0.517536</td>\n",
              "      <td>-0.602514</td>\n",
              "      <td>-0.419441</td>\n",
              "      <td>-0.569770</td>\n",
              "      <td>0.213046</td>\n",
              "    </tr>\n",
              "    <tr>\n",
              "      <th>439</th>\n",
              "      <td>-0.729307</td>\n",
              "      <td>-0.555924</td>\n",
              "      <td>-0.573227</td>\n",
              "      <td>-0.620094</td>\n",
              "      <td>-0.504888</td>\n",
              "      <td>-0.522869</td>\n",
              "    </tr>\n",
              "  </tbody>\n",
              "</table>\n",
              "<p>440 rows × 6 columns</p>\n",
              "</div>\n",
              "      <button class=\"colab-df-convert\" onclick=\"convertToInteractive('df-56c13fdb-3f8a-4b8b-8a49-503092c07d18')\"\n",
              "              title=\"Convert this dataframe to an interactive table.\"\n",
              "              style=\"display:none;\">\n",
              "\n",
              "  <svg xmlns=\"http://www.w3.org/2000/svg\" height=\"24px\"viewBox=\"0 0 24 24\"\n",
              "       width=\"24px\">\n",
              "    <path d=\"M0 0h24v24H0V0z\" fill=\"none\"/>\n",
              "    <path d=\"M18.56 5.44l.94 2.06.94-2.06 2.06-.94-2.06-.94-.94-2.06-.94 2.06-2.06.94zm-11 1L8.5 8.5l.94-2.06 2.06-.94-2.06-.94L8.5 2.5l-.94 2.06-2.06.94zm10 10l.94 2.06.94-2.06 2.06-.94-2.06-.94-.94-2.06-.94 2.06-2.06.94z\"/><path d=\"M17.41 7.96l-1.37-1.37c-.4-.4-.92-.59-1.43-.59-.52 0-1.04.2-1.43.59L10.3 9.45l-7.72 7.72c-.78.78-.78 2.05 0 2.83L4 21.41c.39.39.9.59 1.41.59.51 0 1.02-.2 1.41-.59l7.78-7.78 2.81-2.81c.8-.78.8-2.07 0-2.86zM5.41 20L4 18.59l7.72-7.72 1.47 1.35L5.41 20z\"/>\n",
              "  </svg>\n",
              "      </button>\n",
              "\n",
              "\n",
              "\n",
              "    <div id=\"df-743c9fc1-e4d7-45a3-8b87-84f639b0a464\">\n",
              "      <button class=\"colab-df-quickchart\" onclick=\"quickchart('df-743c9fc1-e4d7-45a3-8b87-84f639b0a464')\"\n",
              "              title=\"Suggest charts.\"\n",
              "              style=\"display:none;\">\n",
              "\n",
              "<svg xmlns=\"http://www.w3.org/2000/svg\" height=\"24px\"viewBox=\"0 0 24 24\"\n",
              "     width=\"24px\">\n",
              "    <g>\n",
              "        <path d=\"M19 3H5c-1.1 0-2 .9-2 2v14c0 1.1.9 2 2 2h14c1.1 0 2-.9 2-2V5c0-1.1-.9-2-2-2zM9 17H7v-7h2v7zm4 0h-2V7h2v10zm4 0h-2v-4h2v4z\"/>\n",
              "    </g>\n",
              "</svg>\n",
              "      </button>\n",
              "    </div>\n",
              "\n",
              "<style>\n",
              "  .colab-df-quickchart {\n",
              "    background-color: #E8F0FE;\n",
              "    border: none;\n",
              "    border-radius: 50%;\n",
              "    cursor: pointer;\n",
              "    display: none;\n",
              "    fill: #1967D2;\n",
              "    height: 32px;\n",
              "    padding: 0 0 0 0;\n",
              "    width: 32px;\n",
              "  }\n",
              "\n",
              "  .colab-df-quickchart:hover {\n",
              "    background-color: #E2EBFA;\n",
              "    box-shadow: 0px 1px 2px rgba(60, 64, 67, 0.3), 0px 1px 3px 1px rgba(60, 64, 67, 0.15);\n",
              "    fill: #174EA6;\n",
              "  }\n",
              "\n",
              "  [theme=dark] .colab-df-quickchart {\n",
              "    background-color: #3B4455;\n",
              "    fill: #D2E3FC;\n",
              "  }\n",
              "\n",
              "  [theme=dark] .colab-df-quickchart:hover {\n",
              "    background-color: #434B5C;\n",
              "    box-shadow: 0px 1px 3px 1px rgba(0, 0, 0, 0.15);\n",
              "    filter: drop-shadow(0px 1px 2px rgba(0, 0, 0, 0.3));\n",
              "    fill: #FFFFFF;\n",
              "  }\n",
              "</style>\n",
              "\n",
              "    <script>\n",
              "      async function quickchart(key) {\n",
              "        const containerElement = document.querySelector('#' + key);\n",
              "        const charts = await google.colab.kernel.invokeFunction(\n",
              "            'suggestCharts', [key], {});\n",
              "      }\n",
              "    </script>\n",
              "\n",
              "      <script>\n",
              "\n",
              "function displayQuickchartButton(domScope) {\n",
              "  let quickchartButtonEl =\n",
              "    domScope.querySelector('#df-743c9fc1-e4d7-45a3-8b87-84f639b0a464 button.colab-df-quickchart');\n",
              "  quickchartButtonEl.style.display =\n",
              "    google.colab.kernel.accessAllowed ? 'block' : 'none';\n",
              "}\n",
              "\n",
              "        displayQuickchartButton(document);\n",
              "      </script>\n",
              "      <style>\n",
              "    .colab-df-container {\n",
              "      display:flex;\n",
              "      flex-wrap:wrap;\n",
              "      gap: 12px;\n",
              "    }\n",
              "\n",
              "    .colab-df-convert {\n",
              "      background-color: #E8F0FE;\n",
              "      border: none;\n",
              "      border-radius: 50%;\n",
              "      cursor: pointer;\n",
              "      display: none;\n",
              "      fill: #1967D2;\n",
              "      height: 32px;\n",
              "      padding: 0 0 0 0;\n",
              "      width: 32px;\n",
              "    }\n",
              "\n",
              "    .colab-df-convert:hover {\n",
              "      background-color: #E2EBFA;\n",
              "      box-shadow: 0px 1px 2px rgba(60, 64, 67, 0.3), 0px 1px 3px 1px rgba(60, 64, 67, 0.15);\n",
              "      fill: #174EA6;\n",
              "    }\n",
              "\n",
              "    [theme=dark] .colab-df-convert {\n",
              "      background-color: #3B4455;\n",
              "      fill: #D2E3FC;\n",
              "    }\n",
              "\n",
              "    [theme=dark] .colab-df-convert:hover {\n",
              "      background-color: #434B5C;\n",
              "      box-shadow: 0px 1px 3px 1px rgba(0, 0, 0, 0.15);\n",
              "      filter: drop-shadow(0px 1px 2px rgba(0, 0, 0, 0.3));\n",
              "      fill: #FFFFFF;\n",
              "    }\n",
              "  </style>\n",
              "\n",
              "      <script>\n",
              "        const buttonEl =\n",
              "          document.querySelector('#df-56c13fdb-3f8a-4b8b-8a49-503092c07d18 button.colab-df-convert');\n",
              "        buttonEl.style.display =\n",
              "          google.colab.kernel.accessAllowed ? 'block' : 'none';\n",
              "\n",
              "        async function convertToInteractive(key) {\n",
              "          const element = document.querySelector('#df-56c13fdb-3f8a-4b8b-8a49-503092c07d18');\n",
              "          const dataTable =\n",
              "            await google.colab.kernel.invokeFunction('convertToInteractive',\n",
              "                                                     [key], {});\n",
              "          if (!dataTable) return;\n",
              "\n",
              "          const docLinkHtml = 'Like what you see? Visit the ' +\n",
              "            '<a target=\"_blank\" href=https://colab.research.google.com/notebooks/data_table.ipynb>data table notebook</a>'\n",
              "            + ' to learn more about interactive tables.';\n",
              "          element.innerHTML = '';\n",
              "          dataTable['output_type'] = 'display_data';\n",
              "          await google.colab.output.renderOutput(dataTable, element);\n",
              "          const docLink = document.createElement('div');\n",
              "          docLink.innerHTML = docLinkHtml;\n",
              "          element.appendChild(docLink);\n",
              "        }\n",
              "      </script>\n",
              "    </div>\n",
              "  </div>\n"
            ]
          },
          "metadata": {}
        }
      ]
    },
    {
      "cell_type": "markdown",
      "source": [
        "convert the dataset X from pandas table into a numpy 2d matrix, so we can perform matrix multiplications later"
      ],
      "metadata": {
        "id": "PLZQl3xsCQhW"
      }
    },
    {
      "cell_type": "code",
      "source": [
        "X = X.to_numpy()\n",
        "print(X)"
      ],
      "metadata": {
        "execution": {
          "iopub.status.busy": "2023-07-13T12:54:26.163838Z",
          "iopub.execute_input": "2023-07-13T12:54:26.164838Z",
          "iopub.status.idle": "2023-07-13T12:54:26.170928Z",
          "shell.execute_reply.started": "2023-07-13T12:54:26.164803Z",
          "shell.execute_reply": "2023-07-13T12:54:26.170019Z"
        },
        "trusted": true,
        "id": "VCFL_xtiCQhX",
        "outputId": "a4ad20ea-955f-47a1-a9ec-af4e2926ba5c",
        "colab": {
          "base_uri": "https://localhost:8080/"
        }
      },
      "execution_count": 5,
      "outputs": [
        {
          "output_type": "stream",
          "name": "stdout",
          "text": [
            "[[ 0.05293319  0.52356777 -0.04111489 -0.58936716 -0.04356873 -0.06633906]\n",
            " [-0.39130197  0.54445767  0.17031835 -0.27013618  0.08640684  0.08915105]\n",
            " [-0.44702926  0.40853771 -0.0281571  -0.13753572  0.13323164  2.24329255]\n",
            " ...\n",
            " [ 0.20032554  1.31467078  2.34838631 -0.54337975  2.51121768  0.12145607]\n",
            " [-0.13538389 -0.51753572 -0.60251388 -0.41944059 -0.56977032  0.21304614]\n",
            " [-0.72930698 -0.5559243  -0.57322717 -0.62009417 -0.50488752 -0.52286938]]\n"
          ]
        }
      ]
    },
    {
      "cell_type": "markdown",
      "source": [
        "### Gaussian density\n",
        "In GMM, we assume all variables are normally distributed. This allows us to calculate the probability of a value coming from the distributions.\n",
        "\n",
        "\\begin{equation}\n",
        "\\large\n",
        "p(\\mathbf x | \\mathbf\\mu, \\mathbf\\Sigma) = \\frac 1 {({2\\pi})^{n/2}|\\Sigma|^{1/2}}\\exp\\left(-\\frac 1 2 (\\mathbf x -\\mathbf\\mu)^T\\mathbf\\Sigma^{-1}(\\mathbf x -\\mathbf\\mu)\\right)\n",
        "\\end{equation}\n",
        "\n",
        "note that the $\\Sigma$ here does NOT mean summation. It is the symbol for the covariance matrix\n"
      ],
      "metadata": {
        "id": "Vgz6E8z9VaVJ"
      }
    },
    {
      "cell_type": "code",
      "source": [
        "def gaussian_probability_density(X, mean, covariance):\n",
        "    num_dimensions = X.shape[1]\n",
        "    difference = (X - mean).T\n",
        "\n",
        "    exponent = -0.5 * np.dot(np.dot(difference.T, np.linalg.inv(covariance)), difference)\n",
        "    coefficient = 1 / ((2 * np.pi) ** (num_dimensions / 2) * np.linalg.det(covariance) ** 0.5)\n",
        "\n",
        "    probability = np.diagonal(coefficient * np.exp(exponent))\n",
        "\n",
        "    #convert row matrix to column\n",
        "    probability_column = probability.reshape(-1, 1)\n",
        "\n",
        "    return probability_column"
      ],
      "metadata": {
        "id": "Wk9WlrFVHtcN",
        "execution": {
          "iopub.status.busy": "2023-07-13T12:54:26.205871Z",
          "iopub.execute_input": "2023-07-13T12:54:26.206995Z",
          "iopub.status.idle": "2023-07-13T12:54:26.214633Z",
          "shell.execute_reply.started": "2023-07-13T12:54:26.206955Z",
          "shell.execute_reply": "2023-07-13T12:54:26.213304Z"
        },
        "trusted": true
      },
      "execution_count": 6,
      "outputs": []
    },
    {
      "cell_type": "markdown",
      "source": [
        "# Gaussian mixture models with Expectation-Maximization algorithm\n",
        "Assuming there are K clusters, a Gaussian Mixture is a function made up of K Gaussians, each labeled with a number $k$ (ranging from 1 to K), representing the clusters in our dataset. Each Gaussian $k$ in the mixture is have three parameters\n",
        "\n",
        "- A mean $μ$ that defines its centre.\n",
        "- A covariance matrix $Σ$ that defines its width. This would be equivalent to the dimensions of an ellipsoid in a multivariate scenario.\n",
        "- A mixing probability $π$ that defines how big or small the Gaussian function will be. It is also known as the mixing coefficient or weight. The sum of every $π$ should be 1 because the combined probability has to be 100%.\n",
        "<img src=\"https://miro.medium.com/v2/resize:fit:1400/format:webp/1*lTv7e4Cdlp738X_WFZyZHA.png\">\n",
        "\n",
        "The EM algorithm is an iterative optimization technique that aims to estimate the parameters of the GMM based on the observed data.\n",
        "1. Initialization: we start by initializing the parameters of the GMM. This includes the number of mixture components (K), the means (μ), covariances (Σ), and the mixing coefficients (π) of each component. These parameters can be initialized randomly or using some prior knowledge about the data.\n",
        "2. Expectation (E-step): In this step, the algorithm computes the \"responsibilities\" of each component for each data point. The responsibility represents the probability of a data point belonging to a specific component given the current parameter estimates. This is calculated using Bayes' rule and involves estimating the probabilities of the data points belonging to each component.\n",
        "3. Maximization (M-step): In this step, the algorithm updates the parameters of the GMM based on the computed responsibilities. The parameters are updated by maximizing the expected complete-data log-likelihood. The means, covariances, and mixing coefficients are updated using weighted maximum likelihood estimation, where the weights are the responsibilities computed in the E-step.\n"
      ],
      "metadata": {
        "id": "JvcWT57-CQhY"
      }
    },
    {
      "cell_type": "markdown",
      "source": [
        "### Parameter initialization\n",
        "This is the initialization step of the GMM. At this point, we must initialise our parameters $\\pi_k$, $\\mu_k$, and $\\Sigma_k$. We are going to use a random point for $\\mu_k$, set $\\pi_k$ to one over the number of clusters and $\\Sigma_k$ to the identity matrix.\n",
        "\n",
        "Note:\n",
        "GMMs do not inherently determine the number of clusters in the data. The number of clusters is typically determined by the user based on existing knowledge or by using a separate technique such as the elbow method. We will choose 3 as an arbitrary choice for the number of clusters.\n"
      ],
      "metadata": {
        "id": "NsxI7u2NXpWY"
      }
    },
    {
      "cell_type": "code",
      "source": [
        "n_clusters=3\n",
        "clusters = []\n",
        "idx = np.arange(X.shape[0])\n",
        "\n",
        "random_indices = np.random.choice(X.shape[0], size=n_clusters, replace=False)\n",
        "mu_k = X[random_indices]\n",
        "print(mu_k)"
      ],
      "metadata": {
        "id": "XEZjEtUqRfgG",
        "execution": {
          "iopub.status.busy": "2023-07-13T12:54:26.255288Z",
          "iopub.execute_input": "2023-07-13T12:54:26.256450Z",
          "iopub.status.idle": "2023-07-13T12:54:26.264062Z",
          "shell.execute_reply.started": "2023-07-13T12:54:26.256400Z",
          "shell.execute_reply": "2023-07-13T12:54:26.262942Z"
        },
        "trusted": true,
        "outputId": "7cf5510d-0da3-4629-e2f1-37e225528d9d",
        "colab": {
          "base_uri": "https://localhost:8080/"
        }
      },
      "execution_count": 7,
      "outputs": [
        {
          "output_type": "stream",
          "name": "stdout",
          "text": [
            "[[-0.67120495 -0.63717785 -0.62727064 -0.26312465 -0.56872044 -0.18810414]\n",
            " [ 0.19296384 -0.47494204 -0.65508249  0.03053485 -0.48221004  0.012826  ]\n",
            " [-0.84788579 -0.33481697 -0.62463694 -0.52399492 -0.55150235  0.08844105]]\n"
          ]
        }
      ]
    },
    {
      "cell_type": "code",
      "source": [
        "for i in range(n_clusters):\n",
        "    clusters.append({\n",
        "        'pi_k': 1.0 / n_clusters,\n",
        "        'mu_k': mu_k[i],\n",
        "        'cov_k': np.identity(X.shape[1], dtype=np.float64)\n",
        "    })\n",
        "\n",
        "for dictionary in clusters:\n",
        "    print(\"\\n\")\n",
        "    for entrys in dictionary.items():\n",
        "        print(entrys)"
      ],
      "metadata": {
        "execution": {
          "iopub.status.busy": "2023-07-13T12:54:26.288249Z",
          "iopub.execute_input": "2023-07-13T12:54:26.288657Z",
          "iopub.status.idle": "2023-07-13T12:54:26.298570Z",
          "shell.execute_reply.started": "2023-07-13T12:54:26.288623Z",
          "shell.execute_reply": "2023-07-13T12:54:26.297452Z"
        },
        "trusted": true,
        "id": "3z2MbkEFCQha",
        "outputId": "1b0c5425-c3c0-423a-8776-29299441a7ef",
        "colab": {
          "base_uri": "https://localhost:8080/"
        }
      },
      "execution_count": 8,
      "outputs": [
        {
          "output_type": "stream",
          "name": "stdout",
          "text": [
            "\n",
            "\n",
            "('pi_k', 0.3333333333333333)\n",
            "('mu_k', array([-0.67120495, -0.63717785, -0.62727064, -0.26312465, -0.56872044,\n",
            "       -0.18810414]))\n",
            "('cov_k', array([[1., 0., 0., 0., 0., 0.],\n",
            "       [0., 1., 0., 0., 0., 0.],\n",
            "       [0., 0., 1., 0., 0., 0.],\n",
            "       [0., 0., 0., 1., 0., 0.],\n",
            "       [0., 0., 0., 0., 1., 0.],\n",
            "       [0., 0., 0., 0., 0., 1.]]))\n",
            "\n",
            "\n",
            "('pi_k', 0.3333333333333333)\n",
            "('mu_k', array([ 0.19296384, -0.47494204, -0.65508249,  0.03053485, -0.48221004,\n",
            "        0.012826  ]))\n",
            "('cov_k', array([[1., 0., 0., 0., 0., 0.],\n",
            "       [0., 1., 0., 0., 0., 0.],\n",
            "       [0., 0., 1., 0., 0., 0.],\n",
            "       [0., 0., 0., 1., 0., 0.],\n",
            "       [0., 0., 0., 0., 1., 0.],\n",
            "       [0., 0., 0., 0., 0., 1.]]))\n",
            "\n",
            "\n",
            "('pi_k', 0.3333333333333333)\n",
            "('mu_k', array([-0.84788579, -0.33481697, -0.62463694, -0.52399492, -0.55150235,\n",
            "        0.08844105]))\n",
            "('cov_k', array([[1., 0., 0., 0., 0., 0.],\n",
            "       [0., 1., 0., 0., 0., 0.],\n",
            "       [0., 0., 1., 0., 0., 0.],\n",
            "       [0., 0., 0., 1., 0., 0.],\n",
            "       [0., 0., 0., 0., 1., 0.],\n",
            "       [0., 0., 0., 0., 0., 1.]]))\n"
          ]
        }
      ]
    },
    {
      "cell_type": "markdown",
      "source": [
        "### Expectation function\n",
        "This function finds the probabilities of each data point belonging to each component of the mixture model. In this step, the quantity $\\gamma(z_{nk})$ represents the responsibility of the k-th component for the n-th data point.\n",
        "\n",
        "\\begin{equation}\n",
        "\\large\n",
        "\\gamma{(z_{nk})}=\\frac {\\pi_k\\mathcal N(\\mathbf x_n| \\mathbf\\mu_k, \\mathbf\\Sigma_k)}{\\sum_{j=1}^K\\pi_j\\mathcal N(\\mathbf x_n| \\mathbf\\mu_j, \\mathbf\\Sigma_j)}\n",
        "\\end{equation}\n",
        "\n",
        "For convenience, we just calculate the denominator as a sum over all terms in the numerator, and then assign it to a variable named `totals`. This variable will be used later"
      ],
      "metadata": {
        "id": "b4HIKt0OYCex"
      }
    },
    {
      "cell_type": "code",
      "source": [
        "def expectation(X, clusters):\n",
        "    global gamma_nk, totals\n",
        "    N = X.shape[0]\n",
        "    K = len(clusters)\n",
        "    totals = np.zeros((N, 1), dtype=np.float64)\n",
        "    gamma_nk = np.zeros((N, K), dtype=np.float64)\n",
        "\n",
        "    for k, kth_cluster in enumerate(clusters):\n",
        "        pi_k = kth_cluster['pi_k']\n",
        "        mu_k = kth_cluster['mu_k']\n",
        "        cov_k = kth_cluster['cov_k']\n",
        "\n",
        "        gamma_nk[:, k] = (pi_k * gaussian_probability_density(X, mu_k, cov_k)).flatten()\n",
        "\n",
        "    totals = np.sum(gamma_nk, 1)\n",
        "    gamma_nk /= np.expand_dims(totals, 1)"
      ],
      "metadata": {
        "id": "78Xqp2nSGugd",
        "execution": {
          "iopub.status.busy": "2023-07-13T12:54:26.320493Z",
          "iopub.execute_input": "2023-07-13T12:54:26.320938Z",
          "iopub.status.idle": "2023-07-13T12:54:26.329624Z",
          "shell.execute_reply.started": "2023-07-13T12:54:26.320902Z",
          "shell.execute_reply": "2023-07-13T12:54:26.328404Z"
        },
        "trusted": true
      },
      "execution_count": 9,
      "outputs": []
    },
    {
      "cell_type": "markdown",
      "source": [
        "### Maximization function\n",
        "\n",
        "Now we will implement the maximization step. This is where we changes the $\\pi_k$, $\\mu_k$ and $\\Sigma_k$ to iteratively make the model better.\n",
        "\n",
        "Since $\\gamma(z_{nk})$ is common to the expressions for $\\pi_k$, $\\mu_k$ and $\\Sigma_k$, we can simply define:\n",
        "\n",
        "\\begin{equation}\n",
        "\\large\n",
        "N_k=\\sum_{n=1}^N\\gamma({z_{nk}})\n",
        "\\end{equation}\n",
        "\n",
        "And then we can calculate the revised parameters by using:\n",
        "\n",
        "\\begin{equation}\n",
        "\\large\n",
        "\\pi_k^*=\\frac {N_k} N\n",
        "\\end{equation}\n",
        "\n",
        "\n",
        "\\begin{equation}\n",
        "\\large\n",
        "\\mu_k^*=\\frac 1 {N_k} \\sum_{n=1}^N\\gamma({z_{nk}})\\mathbf x_n\n",
        "\\end{equation}\n",
        "\n",
        "\n",
        "\\begin{equation}\n",
        "\\large\n",
        "\\Sigma_k^*=\\frac 1 {N_k} \\sum_{n=1}^N\\gamma({z_{nk}})(\\mathbf x_n-\\mathbf\\mu_k)(\\mathbf x_n-\\mathbf\\mu_k)^T\n",
        "\\end{equation}\n",
        "\n",
        "Note: To calculate the covariance, we define an auxiliary variable __diff__ that contains $(x_n-\\mu_k)^T$."
      ],
      "metadata": {
        "id": "_VHT5Ph1ZAFu"
      }
    },
    {
      "cell_type": "code",
      "source": [
        "def maximize(X, clusters):\n",
        "    global gamma_nk\n",
        "    N = float(X.shape[0])\n",
        "\n",
        "    for k, kth_cluster in enumerate(clusters):\n",
        "        gamma_k = np.expand_dims(gamma_nk[:, k], 1)\n",
        "        N_k = np.sum(gamma_k, axis=0)\n",
        "\n",
        "        pi_k = N_k / N\n",
        "        mu_k = np.sum(gamma_k * X, axis=0) / N_k\n",
        "        cov_k = (gamma_k * (X - mu_k)).T @ (X - mu_k) / N_k\n",
        "\n",
        "        kth_cluster['pi_k'] = pi_k\n",
        "        kth_cluster['mu_k'] = mu_k\n",
        "        kth_cluster['cov_k'] = cov_k"
      ],
      "metadata": {
        "id": "7Z7K5jrEJHHu",
        "execution": {
          "iopub.status.busy": "2023-07-13T12:54:26.370553Z",
          "iopub.execute_input": "2023-07-13T12:54:26.370986Z",
          "iopub.status.idle": "2023-07-13T12:54:26.379274Z",
          "shell.execute_reply.started": "2023-07-13T12:54:26.370952Z",
          "shell.execute_reply": "2023-07-13T12:54:26.378013Z"
        },
        "trusted": true
      },
      "execution_count": 10,
      "outputs": []
    },
    {
      "cell_type": "markdown",
      "source": [
        "### Log-likelihood"
      ],
      "metadata": {
        "id": "3GGZGKEvCQhc"
      }
    },
    {
      "cell_type": "markdown",
      "source": [
        "The log-likelihood of a GMM is a measure of how well the model fits the given data. It quantifies the probability of the observed data points under the GMM. The log-likelihood is given by the sum of the logarithm of the probabilities of each data point, calculated using the GMM.\n",
        "\n",
        "The equation is:\n",
        "\n",
        "\\begin{equation}\n",
        "\\large\n",
        "\\ln p(\\mathbf X)=\\sum_{n=1}^N\\ln\\sum_{k=1}^K\\pi_k\\mathcal N(\\mathbf x_n|\\mu_k,\\Sigma_k)\n",
        "\\end{equation}\n",
        "\n",
        "Note: the second summation has already been calculated in the `expectation` function and is available in the __totals__ variable. So we just make use of it."
      ],
      "metadata": {
        "id": "Qzbylmjoa_61"
      }
    },
    {
      "cell_type": "code",
      "source": [
        "def log_likelihood(X, clusters):\n",
        "    global gamma_nk, totals\n",
        "    sample_likelihoods = np.log(totals)\n",
        "    return np.sum(sample_likelihoods)"
      ],
      "metadata": {
        "id": "vzVrZY6PTMR8",
        "execution": {
          "iopub.status.busy": "2023-07-13T12:54:26.414941Z",
          "iopub.execute_input": "2023-07-13T12:54:26.415357Z",
          "iopub.status.idle": "2023-07-13T12:54:26.421241Z",
          "shell.execute_reply.started": "2023-07-13T12:54:26.415324Z",
          "shell.execute_reply": "2023-07-13T12:54:26.420379Z"
        },
        "trusted": true
      },
      "execution_count": 11,
      "outputs": []
    },
    {
      "cell_type": "markdown",
      "source": [
        "Finally, let's put everything together! First, we are going to initialise the parameters by using the `initialise_clusters` function, and then perform several expectation-maximization steps. In this case, we set the number of iterations of the training procedure to a fixed `n_epochs` number. I have done this on purpose to generate graphs of the log-likelihood later."
      ],
      "metadata": {
        "id": "oGSkyh33bNu8"
      }
    },
    {
      "cell_type": "code",
      "source": [
        "n_epochs = 50\n",
        "likelihoods = np.zeros((n_epochs, ))\n",
        "scores = np.zeros((X.shape[0], n_clusters))\n",
        "history = []\n",
        "\n",
        "for i in range(n_epochs):\n",
        "\n",
        "    # Not necessary. This is just for our later use in the graphs\n",
        "    clusters_snapshot = []\n",
        "    for cluster in clusters:\n",
        "        clusters_snapshot.append({\n",
        "            'mu_k': cluster['mu_k'].copy(),\n",
        "            'cov_k': cluster['cov_k'].copy()\n",
        "        })\n",
        "    history.append(clusters_snapshot)\n",
        "\n",
        "\n",
        "    # apply the EM algorithm\n",
        "    expectation(X, clusters)\n",
        "    maximize(X, clusters)\n",
        "\n",
        "\n",
        "    # Not necessary. This is just for monitoring the progress of training\n",
        "    likelihood = log_likelihood(X, clusters)\n",
        "    likelihoods[i] = likelihood\n",
        "    print('Epoch: ', i + 1, 'Likelihood: ', likelihood)\n",
        "\n",
        "scores = np.log(gamma_nk)"
      ],
      "metadata": {
        "id": "9qWFzpI3Uq-9",
        "execution": {
          "iopub.status.busy": "2023-07-13T12:54:26.670591Z",
          "iopub.execute_input": "2023-07-13T12:54:26.671039Z",
          "iopub.status.idle": "2023-07-13T12:54:27.732643Z",
          "shell.execute_reply.started": "2023-07-13T12:54:26.671005Z",
          "shell.execute_reply": "2023-07-13T12:54:27.731114Z"
        },
        "trusted": true,
        "outputId": "535a3894-9f45-4f91-bb1a-9177a06b2eed",
        "colab": {
          "base_uri": "https://localhost:8080/"
        }
      },
      "execution_count": 12,
      "outputs": [
        {
          "output_type": "stream",
          "name": "stdout",
          "text": [
            "Epoch:  1 Likelihood:  -3997.66192846266\n",
            "Epoch:  2 Likelihood:  -2469.0361724716877\n",
            "Epoch:  3 Likelihood:  -1949.0978844067338\n",
            "Epoch:  4 Likelihood:  -1807.6793488593557\n",
            "Epoch:  5 Likelihood:  -1770.010684584144\n",
            "Epoch:  6 Likelihood:  -1750.123729905991\n",
            "Epoch:  7 Likelihood:  -1738.4647081769394\n",
            "Epoch:  8 Likelihood:  -1730.5646609643886\n",
            "Epoch:  9 Likelihood:  -1726.49610296208\n",
            "Epoch:  10 Likelihood:  -1724.601792107633\n",
            "Epoch:  11 Likelihood:  -1723.5010243135625\n",
            "Epoch:  12 Likelihood:  -1722.6889045150522\n",
            "Epoch:  13 Likelihood:  -1721.9866840404175\n",
            "Epoch:  14 Likelihood:  -1721.3052174277705\n",
            "Epoch:  15 Likelihood:  -1720.5822016950674\n",
            "Epoch:  16 Likelihood:  -1719.770626241876\n",
            "Epoch:  17 Likelihood:  -1718.8514230955866\n",
            "Epoch:  18 Likelihood:  -1717.8547149267365\n",
            "Epoch:  19 Likelihood:  -1716.8482228644893\n",
            "Epoch:  20 Likelihood:  -1715.8818444935637\n",
            "Epoch:  21 Likelihood:  -1714.936867388441\n",
            "Epoch:  22 Likelihood:  -1713.8597615372519\n",
            "Epoch:  23 Likelihood:  -1712.1360352117542\n",
            "Epoch:  24 Likelihood:  -1708.4784957022277\n",
            "Epoch:  25 Likelihood:  -1701.8829132471308\n",
            "Epoch:  26 Likelihood:  -1691.0516415158183\n",
            "Epoch:  27 Likelihood:  -1677.5937707150542\n",
            "Epoch:  28 Likelihood:  -1663.6787431180855\n",
            "Epoch:  29 Likelihood:  -1649.8124026465016\n",
            "Epoch:  30 Likelihood:  -1642.5821383722869\n",
            "Epoch:  31 Likelihood:  -1639.6651956110613\n",
            "Epoch:  32 Likelihood:  -1638.584329636031\n",
            "Epoch:  33 Likelihood:  -1638.247078099212\n",
            "Epoch:  34 Likelihood:  -1638.1448860461783\n",
            "Epoch:  35 Likelihood:  -1638.1074696885144\n",
            "Epoch:  36 Likelihood:  -1638.0899178570912\n",
            "Epoch:  37 Likelihood:  -1638.0798837084785\n",
            "Epoch:  38 Likelihood:  -1638.0733955837427\n",
            "Epoch:  39 Likelihood:  -1638.0689026147702\n",
            "Epoch:  40 Likelihood:  -1638.0656695442992\n",
            "Epoch:  41 Likelihood:  -1638.0632881862266\n",
            "Epoch:  42 Likelihood:  -1638.0615062529992\n",
            "Epoch:  43 Likelihood:  -1638.0601571052675\n",
            "Epoch:  44 Likelihood:  -1638.05912606164\n",
            "Epoch:  45 Likelihood:  -1638.0583320304706\n",
            "Epoch:  46 Likelihood:  -1638.0577165406328\n",
            "Epoch:  47 Likelihood:  -1638.057236785391\n",
            "Epoch:  48 Likelihood:  -1638.0568610319829\n",
            "Epoch:  49 Likelihood:  -1638.056565506301\n",
            "Epoch:  50 Likelihood:  -1638.0563322331923\n"
          ]
        },
        {
          "output_type": "stream",
          "name": "stderr",
          "text": [
            "<ipython-input-12-bbb5bc0341dc>:28: RuntimeWarning: divide by zero encountered in log\n",
            "  scores = np.log(gamma_nk)\n"
          ]
        }
      ]
    },
    {
      "cell_type": "code",
      "source": [
        "print(scores)"
      ],
      "metadata": {
        "execution": {
          "iopub.status.busy": "2023-07-13T12:54:27.735947Z",
          "iopub.execute_input": "2023-07-13T12:54:27.737516Z",
          "iopub.status.idle": "2023-07-13T12:54:27.749546Z",
          "shell.execute_reply.started": "2023-07-13T12:54:27.737446Z",
          "shell.execute_reply": "2023-07-13T12:54:27.748056Z"
        },
        "trusted": true,
        "id": "MjfqxptOCQhe",
        "outputId": "fd3f0303-5312-499f-e2a3-37bf4f95bb89",
        "colab": {
          "base_uri": "https://localhost:8080/"
        }
      },
      "execution_count": 13,
      "outputs": [
        {
          "output_type": "stream",
          "name": "stdout",
          "text": [
            "[[-2.96109797e+01 -5.21185187e+00 -5.46648276e-03]\n",
            " [-4.41115679e+01 -6.68909900e+00 -1.24517839e-03]\n",
            " [-1.20290239e+02 -5.08779963e-03 -5.28345266e+00]\n",
            " ...\n",
            " [           -inf -6.26187734e+01  0.00000000e+00]\n",
            " [-4.75728738e-02 -8.33239430e+00 -3.07437681e+00]\n",
            " [-5.36378945e-03 -1.03639075e+01 -5.23668072e+00]]\n"
          ]
        }
      ]
    },
    {
      "cell_type": "code",
      "source": [
        "for dictionary in clusters:\n",
        "    print(\"\\n\")\n",
        "    for entrys in dictionary.items():\n",
        "        print(entrys)"
      ],
      "metadata": {
        "execution": {
          "iopub.status.busy": "2023-07-13T12:54:27.751622Z",
          "iopub.execute_input": "2023-07-13T12:54:27.753166Z",
          "iopub.status.idle": "2023-07-13T12:54:27.769151Z",
          "shell.execute_reply.started": "2023-07-13T12:54:27.753101Z",
          "shell.execute_reply": "2023-07-13T12:54:27.767682Z"
        },
        "trusted": true,
        "id": "Lt7V4XfnCQhe",
        "outputId": "e61deaff-eb5f-4c52-c702-abc06e911f77",
        "colab": {
          "base_uri": "https://localhost:8080/"
        }
      },
      "execution_count": 14,
      "outputs": [
        {
          "output_type": "stream",
          "name": "stdout",
          "text": [
            "\n",
            "\n",
            "('pi_k', array([0.46777434]))\n",
            "('mu_k', array([ 0.03280421, -0.51730055, -0.56717222,  0.00696463, -0.52250034,\n",
            "       -0.23316825]))\n",
            "('cov_k', array([[ 6.53282387e-01,  1.70061834e-02,  1.49266533e-02,\n",
            "         8.40819977e-02,  4.30041617e-03,  5.83362931e-02],\n",
            "       [ 1.70061834e-02,  3.26033510e-02,  1.26326849e-02,\n",
            "         2.88693024e-02,  3.62304996e-03,  1.36360157e-02],\n",
            "       [ 1.49266533e-02,  1.26326849e-02,  2.58636144e-02,\n",
            "         1.98063103e-02,  4.05862321e-03,  1.26082968e-02],\n",
            "       [ 8.40819977e-02,  2.88693024e-02,  1.98063103e-02,\n",
            "         3.63845669e-01,  3.40573877e-03,  4.05069193e-02],\n",
            "       [ 4.30041617e-03,  3.62304996e-03,  4.05862321e-03,\n",
            "         3.40573877e-03,  4.58216975e-03, -6.41366456e-06],\n",
            "       [ 5.83362931e-02,  1.36360157e-02,  1.26082968e-02,\n",
            "         4.05069193e-02, -6.41366456e-06,  5.35633993e-02]]))\n",
            "\n",
            "\n",
            "('pi_k', array([0.0947394]))\n",
            "('mu_k', array([ 1.33931775e+00,  4.12395385e-01, -1.15175720e-03,  1.60788461e+00,\n",
            "       -3.25080591e-01,  1.14498816e+00]))\n",
            "('cov_k', array([[ 3.28500696,  0.3402779 ,  0.24893816,  0.34959052,  0.07482672,\n",
            "         0.44119476],\n",
            "       [ 0.3402779 ,  1.6339339 ,  0.47292293,  0.84481468,  0.08128264,\n",
            "         2.38759245],\n",
            "       [ 0.24893816,  0.47292293,  0.32946742,  0.23253557,  0.07975843,\n",
            "         0.89958517],\n",
            "       [ 0.34959052,  0.84481468,  0.23253557,  5.25553059, -0.12429285,\n",
            "         1.90305636],\n",
            "       [ 0.07482672,  0.08128264,  0.07975843, -0.12429285,  0.07557382,\n",
            "         0.11988819],\n",
            "       [ 0.44119476,  2.38759245,  0.89958517,  1.90305636,  0.11988819,\n",
            "         7.62283871]]))\n",
            "\n",
            "\n",
            "('pi_k', array([0.43748627]))\n",
            "('mu_k', array([-0.32510992,  0.46380846,  0.60668813, -0.35564064,  0.62907161,\n",
            "        0.00135921]))\n",
            "('cov_k', array([[0.38059862, 0.18719601, 0.1205041 , 0.04279385, 0.06328414,\n",
            "        0.07792555],\n",
            "       [0.18719601, 1.35901661, 0.95390231, 0.09481507, 0.93955352,\n",
            "        0.165395  ],\n",
            "       [0.1205041 , 0.95390231, 1.47475839, 0.05698156, 1.39332337,\n",
            "        0.11948981],\n",
            "       [0.04279385, 0.09481507, 0.05698156, 0.07225682, 0.06344224,\n",
            "        0.04173844],\n",
            "       [0.06328414, 0.93955352, 1.39332337, 0.06344224, 1.55399745,\n",
            "        0.08191387],\n",
            "       [0.07792555, 0.165395  , 0.11948981, 0.04173844, 0.08191387,\n",
            "        0.23572309]]))\n"
          ]
        }
      ]
    },
    {
      "cell_type": "markdown",
      "source": [
        "### Visualization\n",
        "Now we create a graph to visualize our clusters as well as the parameters for the Gaussian mixture. Essentially, what we do here is to create ellipses of different scales in order to map to the coordinates of each Gaussian."
      ],
      "metadata": {
        "id": "V1RMlu7ybb6r"
      }
    },
    {
      "cell_type": "code",
      "source": [
        "import matplotlib.pyplot as plt\n",
        "import matplotlib\n",
        "from matplotlib.patches import Ellipse\n",
        "\n",
        "def create_cluster_image(X, history, scores):\n",
        "    fig, ax = plt.subplots(1, 1, figsize=(20, 20))\n",
        "    colorset = ['blue', 'red', 'black']\n",
        "\n",
        "    clusters = history[-1]  # Get the final cluster configuration\n",
        "\n",
        "    k=0\n",
        "    # drawing ellipses and their centre\n",
        "    for kth_cluster in clusters:\n",
        "        mu = kth_cluster['mu_k']\n",
        "        cov = kth_cluster['cov_k']\n",
        "\n",
        "        #calculate locations of ellipses\n",
        "        eigenvalues, eigenvectors = np.linalg.eigh(cov)\n",
        "        order = eigenvalues.argsort()[::-1]\n",
        "        eigenvalues, eigenvectors = eigenvalues[order], eigenvectors[:, order]\n",
        "        vx, vy = eigenvectors[:, 0][0], eigenvectors[:, 0][1]\n",
        "        theta = np.arctan2(vy, vx)\n",
        "\n",
        "        color = matplotlib.colors.to_rgba(colorset[k])\n",
        "\n",
        "        for cov_factor in range(1, 4):\n",
        "            ell = Ellipse(xy=mu, width=np.sqrt(eigenvalues[0]) * cov_factor * 2, height=np.sqrt(eigenvalues[1]) * cov_factor * 2, angle=np.degrees(theta), linewidth=2)\n",
        "            ell.set_facecolor((color[0], color[1], color[2], 1.0 / (cov_factor * 4.5)))\n",
        "            ax.add_artist(ell)\n",
        "\n",
        "        # draw the centre\n",
        "        ax.scatter(kth_cluster['mu_k'][0], kth_cluster['mu_k'][1], c=colorset[k], s=1000, marker='+')\n",
        "        k += 1\n",
        "\n",
        "    # plot the points from dataset\n",
        "    for i in range(X.shape[0]):\n",
        "        ax.scatter(X[i, 0], X[i, 1], c=colorset[np.argmax(scores[i])], marker='o')\n",
        "\n",
        "    plt.show()\n",
        "create_cluster_image(X, history, scores)"
      ],
      "metadata": {
        "execution": {
          "iopub.status.busy": "2023-07-13T12:54:53.325245Z",
          "iopub.execute_input": "2023-07-13T12:54:53.325659Z",
          "iopub.status.idle": "2023-07-13T12:54:58.529748Z",
          "shell.execute_reply.started": "2023-07-13T12:54:53.325628Z",
          "shell.execute_reply": "2023-07-13T12:54:58.528303Z"
        },
        "trusted": true,
        "id": "Yrhj5muvCQhe",
        "outputId": "c4a1f88c-0c65-4c41-c94a-dae3bc20d327",
        "colab": {
          "base_uri": "https://localhost:8080/",
          "height": 1000
        }
      },
      "execution_count": 18,
      "outputs": [
        {
          "output_type": "display_data",
          "data": {
            "text/plain": [
              "<Figure size 2000x2000 with 1 Axes>"
            ],
            "image/png": "[encoded data removed]"
          },
          "metadata": {}
        }
      ]
    },
    {
      "cell_type": "markdown",
      "source": [
        "### Exercise\n",
        "\n",
        "1. How many numbers are there in the trained model parameter? (hint: we have 6 input variables, 1 output variable, 440 data samples, and 3 classes)\n",
        "2. Determine the class of this following customer: `[13265, 1196, 4221,6404,507,1788]`\n",
        "3. In the above implementation of EM algorithm, we are running the loop 50 times. Each iteration costs us time and extra computations. We don’t need to complete all the iterations. We can terminate the loop when the log-likelihood converges (i.e. stopped increasing). Implement this in the code\n",
        "4. The optimal value for the number of clusters, K, can be determined using the Elbow method. The Elbow method aims to minimize the log-likelihoods. Choosing too few clusters results in high log-likelihoods, while selecting too many clusters makes the model hard to use. Therefore, the Elbow method helps find the appropriate K by identifying the point on the plot where adding more clusters does not significantly increases log-likelihoods anymore.\n",
        "\n"
      ],
      "metadata": {
        "id": "Z9yMxteJCQhf"
      }
    },
    {
      "cell_type": "markdown",
      "source": [
        "### References\n",
        "- https://towardsdatascience.com/gaussian-mixture-models-explained-6986aaf5a95"
      ],
      "metadata": {
        "id": "nDORCohaCQhf"
      }
    }
  ]
}