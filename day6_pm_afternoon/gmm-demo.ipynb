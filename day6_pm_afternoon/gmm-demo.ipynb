{
  "metadata": {
    "colab": {
      "name": "GMM_Implementation.ipynb",
      "provenance": [],
      "include_colab_link": true
    },
    "kernelspec": {
      "name": "python3",
      "display_name": "Python 3",
      "language": "python"
    },
    "language_info": {
      "name": "python",
      "version": "3.10.12",
      "mimetype": "text/x-python",
      "codemirror_mode": {
        "name": "ipython",
        "version": 3
      },
      "pygments_lexer": "ipython3",
      "nbconvert_exporter": "python",
      "file_extension": ".py"
    }
  },
  "nbformat_minor": 0,
  "nbformat": 4,
  "cells": [
    {
      "cell_type": "markdown",
      "metadata": {
        "id": "view-in-github",
        "colab_type": "text"
      },
      "source": [
        "<a href=\"https://colab.research.google.com/github/MLcmore2023/MLcmore2023/blob/main/day6_pm_afternoon/gmm-demo.ipynb\" target=\"_parent\"><img src=\"https://colab.research.google.com/assets/colab-badge.svg\" alt=\"Open In Colab\"/></a>"
      ]
    },
    {
      "cell_type": "markdown",
      "source": [
        "# Gaussian Mixture Models\n",
        "GMM (Gaussian Mixture Model) is a probabilistic unsupervised machine learning algorithm used for clustering and density estimation. It assumes that the data is generated from a mixture of Gaussian distributions, where each distribution represents a cluster. GMM estimates the parameters of these Gaussian distributions to model the data and assigns each data point to the most likely cluster based on the probability distribution. It allows for more flexible and complex cluster shapes compared to other clustering algorithms, as it considers the covariance between variables and allows data points to belong to multiple clusters with different probabilities.\n"
      ],
      "metadata": {
        "id": "tFr3s1eh9_Mi"
      }
    },
    {
      "cell_type": "markdown",
      "source": [
        "### Import libraries and initialize random generator"
      ],
      "metadata": {
        "id": "HFH9gxJnCQhP"
      }
    },
    {
      "cell_type": "code",
      "source": [
        "import numpy as np\n",
        "import pandas as pd"
      ],
      "metadata": {
        "id": "irGOL_Dcw8ja",
        "execution": {
          "iopub.status.busy": "2023-07-13T12:54:25.983691Z",
          "iopub.execute_input": "2023-07-13T12:54:25.984318Z",
          "iopub.status.idle": "2023-07-13T12:54:25.989090Z",
          "shell.execute_reply.started": "2023-07-13T12:54:25.984283Z",
          "shell.execute_reply": "2023-07-13T12:54:25.988005Z"
        },
        "trusted": true
      },
      "execution_count": 51,
      "outputs": []
    },
    {
      "cell_type": "markdown",
      "source": [
        "### Read data from CSV\n",
        "we will (again) use the wholesale customers dataset. The data set includes the annual spending amount on 6 product categories of 440 customers. We will try to group these customers into different clusters, which in real life may represent groups such as individual buyers, business owners, tourists ... (these are just examples. GMM does not give any labels)"
      ],
      "metadata": {
        "id": "hN_TKq1kVRJT"
      }
    },
    {
      "cell_type": "code",
      "source": [
        "dataset = pd.read_csv(\"https://raw.githubusercontent.com/TrainingByPackt/Data-Science-with-Python/master/Chapter01/Data/Wholesale%20customers%20data.csv\")\n",
        "display(dataset)"
      ],
      "metadata": {
        "id": "mcCzJFnT_fRQ",
        "colab": {
          "base_uri": "https://localhost:8080/",
          "height": 423
        },
        "outputId": "9f6529b1-9761-48a0-8581-4981e98fcb23",
        "execution": {
          "iopub.status.busy": "2023-07-13T12:54:26.040912Z",
          "iopub.execute_input": "2023-07-13T12:54:26.041539Z",
          "iopub.status.idle": "2023-07-13T12:54:26.125722Z",
          "shell.execute_reply.started": "2023-07-13T12:54:26.041508Z",
          "shell.execute_reply": "2023-07-13T12:54:26.124468Z"
        },
        "trusted": true
      },
      "execution_count": 52,
      "outputs": [
        {
          "output_type": "display_data",
          "data": {
            "text/plain": [
              "     Channel  Region  Fresh   Milk  Grocery  Frozen  Detergents_Paper  \\\n",
              "0          2       3  12669   9656     7561     214              2674   \n",
              "1          2       3   7057   9810     9568    1762              3293   \n",
              "2          2       3   6353   8808     7684    2405              3516   \n",
              "3          1       3  13265   1196     4221    6404               507   \n",
              "4          2       3  22615   5410     7198    3915              1777   \n",
              "..       ...     ...    ...    ...      ...     ...               ...   \n",
              "435        1       3  29703  12051    16027   13135               182   \n",
              "436        1       3  39228   1431      764    4510                93   \n",
              "437        2       3  14531  15488    30243     437             14841   \n",
              "438        1       3  10290   1981     2232    1038               168   \n",
              "439        1       3   2787   1698     2510      65               477   \n",
              "\n",
              "     Delicassen  \n",
              "0          1338  \n",
              "1          1776  \n",
              "2          7844  \n",
              "3          1788  \n",
              "4          5185  \n",
              "..          ...  \n",
              "435        2204  \n",
              "436        2346  \n",
              "437        1867  \n",
              "438        2125  \n",
              "439          52  \n",
              "\n",
              "[440 rows x 8 columns]"
            ],
            "text/html": [
              "\n",
              "\n",
              "  <div id=\"df-5c553473-a6f0-4a32-9e29-47453a1d6d51\">\n",
              "    <div class=\"colab-df-container\">\n",
              "      <div>\n",
              "<style scoped>\n",
              "    .dataframe tbody tr th:only-of-type {\n",
              "        vertical-align: middle;\n",
              "    }\n",
              "\n",
              "    .dataframe tbody tr th {\n",
              "        vertical-align: top;\n",
              "    }\n",
              "\n",
              "    .dataframe thead th {\n",
              "        text-align: right;\n",
              "    }\n",
              "</style>\n",
              "<table border=\"1\" class=\"dataframe\">\n",
              "  <thead>\n",
              "    <tr style=\"text-align: right;\">\n",
              "      <th></th>\n",
              "      <th>Channel</th>\n",
              "      <th>Region</th>\n",
              "      <th>Fresh</th>\n",
              "      <th>Milk</th>\n",
              "      <th>Grocery</th>\n",
              "      <th>Frozen</th>\n",
              "      <th>Detergents_Paper</th>\n",
              "      <th>Delicassen</th>\n",
              "    </tr>\n",
              "  </thead>\n",
              "  <tbody>\n",
              "    <tr>\n",
              "      <th>0</th>\n",
              "      <td>2</td>\n",
              "      <td>3</td>\n",
              "      <td>12669</td>\n",
              "      <td>9656</td>\n",
              "      <td>7561</td>\n",
              "      <td>214</td>\n",
              "      <td>2674</td>\n",
              "      <td>1338</td>\n",
              "    </tr>\n",
              "    <tr>\n",
              "      <th>1</th>\n",
              "      <td>2</td>\n",
              "      <td>3</td>\n",
              "      <td>7057</td>\n",
              "      <td>9810</td>\n",
              "      <td>9568</td>\n",
              "      <td>1762</td>\n",
              "      <td>3293</td>\n",
              "      <td>1776</td>\n",
              "    </tr>\n",
              "    <tr>\n",
              "      <th>2</th>\n",
              "      <td>2</td>\n",
              "      <td>3</td>\n",
              "      <td>6353</td>\n",
              "      <td>8808</td>\n",
              "      <td>7684</td>\n",
              "      <td>2405</td>\n",
              "      <td>3516</td>\n",
              "      <td>7844</td>\n",
              "    </tr>\n",
              "    <tr>\n",
              "      <th>3</th>\n",
              "      <td>1</td>\n",
              "      <td>3</td>\n",
              "      <td>13265</td>\n",
              "      <td>1196</td>\n",
              "      <td>4221</td>\n",
              "      <td>6404</td>\n",
              "      <td>507</td>\n",
              "      <td>1788</td>\n",
              "    </tr>\n",
              "    <tr>\n",
              "      <th>4</th>\n",
              "      <td>2</td>\n",
              "      <td>3</td>\n",
              "      <td>22615</td>\n",
              "      <td>5410</td>\n",
              "      <td>7198</td>\n",
              "      <td>3915</td>\n",
              "      <td>1777</td>\n",
              "      <td>5185</td>\n",
              "    </tr>\n",
              "    <tr>\n",
              "      <th>...</th>\n",
              "      <td>...</td>\n",
              "      <td>...</td>\n",
              "      <td>...</td>\n",
              "      <td>...</td>\n",
              "      <td>...</td>\n",
              "      <td>...</td>\n",
              "      <td>...</td>\n",
              "      <td>...</td>\n",
              "    </tr>\n",
              "    <tr>\n",
              "      <th>435</th>\n",
              "      <td>1</td>\n",
              "      <td>3</td>\n",
              "      <td>29703</td>\n",
              "      <td>12051</td>\n",
              "      <td>16027</td>\n",
              "      <td>13135</td>\n",
              "      <td>182</td>\n",
              "      <td>2204</td>\n",
              "    </tr>\n",
              "    <tr>\n",
              "      <th>436</th>\n",
              "      <td>1</td>\n",
              "      <td>3</td>\n",
              "      <td>39228</td>\n",
              "      <td>1431</td>\n",
              "      <td>764</td>\n",
              "      <td>4510</td>\n",
              "      <td>93</td>\n",
              "      <td>2346</td>\n",
              "    </tr>\n",
              "    <tr>\n",
              "      <th>437</th>\n",
              "      <td>2</td>\n",
              "      <td>3</td>\n",
              "      <td>14531</td>\n",
              "      <td>15488</td>\n",
              "      <td>30243</td>\n",
              "      <td>437</td>\n",
              "      <td>14841</td>\n",
              "      <td>1867</td>\n",
              "    </tr>\n",
              "    <tr>\n",
              "      <th>438</th>\n",
              "      <td>1</td>\n",
              "      <td>3</td>\n",
              "      <td>10290</td>\n",
              "      <td>1981</td>\n",
              "      <td>2232</td>\n",
              "      <td>1038</td>\n",
              "      <td>168</td>\n",
              "      <td>2125</td>\n",
              "    </tr>\n",
              "    <tr>\n",
              "      <th>439</th>\n",
              "      <td>1</td>\n",
              "      <td>3</td>\n",
              "      <td>2787</td>\n",
              "      <td>1698</td>\n",
              "      <td>2510</td>\n",
              "      <td>65</td>\n",
              "      <td>477</td>\n",
              "      <td>52</td>\n",
              "    </tr>\n",
              "  </tbody>\n",
              "</table>\n",
              "<p>440 rows × 8 columns</p>\n",
              "</div>\n",
              "      <button class=\"colab-df-convert\" onclick=\"convertToInteractive('df-5c553473-a6f0-4a32-9e29-47453a1d6d51')\"\n",
              "              title=\"Convert this dataframe to an interactive table.\"\n",
              "              style=\"display:none;\">\n",
              "\n",
              "  <svg xmlns=\"http://www.w3.org/2000/svg\" height=\"24px\"viewBox=\"0 0 24 24\"\n",
              "       width=\"24px\">\n",
              "    <path d=\"M0 0h24v24H0V0z\" fill=\"none\"/>\n",
              "    <path d=\"M18.56 5.44l.94 2.06.94-2.06 2.06-.94-2.06-.94-.94-2.06-.94 2.06-2.06.94zm-11 1L8.5 8.5l.94-2.06 2.06-.94-2.06-.94L8.5 2.5l-.94 2.06-2.06.94zm10 10l.94 2.06.94-2.06 2.06-.94-2.06-.94-.94-2.06-.94 2.06-2.06.94z\"/><path d=\"M17.41 7.96l-1.37-1.37c-.4-.4-.92-.59-1.43-.59-.52 0-1.04.2-1.43.59L10.3 9.45l-7.72 7.72c-.78.78-.78 2.05 0 2.83L4 21.41c.39.39.9.59 1.41.59.51 0 1.02-.2 1.41-.59l7.78-7.78 2.81-2.81c.8-.78.8-2.07 0-2.86zM5.41 20L4 18.59l7.72-7.72 1.47 1.35L5.41 20z\"/>\n",
              "  </svg>\n",
              "      </button>\n",
              "\n",
              "\n",
              "\n",
              "    <div id=\"df-91fd9b0d-854e-431e-ba93-cbb08824703e\">\n",
              "      <button class=\"colab-df-quickchart\" onclick=\"quickchart('df-91fd9b0d-854e-431e-ba93-cbb08824703e')\"\n",
              "              title=\"Suggest charts.\"\n",
              "              style=\"display:none;\">\n",
              "\n",
              "<svg xmlns=\"http://www.w3.org/2000/svg\" height=\"24px\"viewBox=\"0 0 24 24\"\n",
              "     width=\"24px\">\n",
              "    <g>\n",
              "        <path d=\"M19 3H5c-1.1 0-2 .9-2 2v14c0 1.1.9 2 2 2h14c1.1 0 2-.9 2-2V5c0-1.1-.9-2-2-2zM9 17H7v-7h2v7zm4 0h-2V7h2v10zm4 0h-2v-4h2v4z\"/>\n",
              "    </g>\n",
              "</svg>\n",
              "      </button>\n",
              "    </div>\n",
              "\n",
              "<style>\n",
              "  .colab-df-quickchart {\n",
              "    background-color: #E8F0FE;\n",
              "    border: none;\n",
              "    border-radius: 50%;\n",
              "    cursor: pointer;\n",
              "    display: none;\n",
              "    fill: #1967D2;\n",
              "    height: 32px;\n",
              "    padding: 0 0 0 0;\n",
              "    width: 32px;\n",
              "  }\n",
              "\n",
              "  .colab-df-quickchart:hover {\n",
              "    background-color: #E2EBFA;\n",
              "    box-shadow: 0px 1px 2px rgba(60, 64, 67, 0.3), 0px 1px 3px 1px rgba(60, 64, 67, 0.15);\n",
              "    fill: #174EA6;\n",
              "  }\n",
              "\n",
              "  [theme=dark] .colab-df-quickchart {\n",
              "    background-color: #3B4455;\n",
              "    fill: #D2E3FC;\n",
              "  }\n",
              "\n",
              "  [theme=dark] .colab-df-quickchart:hover {\n",
              "    background-color: #434B5C;\n",
              "    box-shadow: 0px 1px 3px 1px rgba(0, 0, 0, 0.15);\n",
              "    filter: drop-shadow(0px 1px 2px rgba(0, 0, 0, 0.3));\n",
              "    fill: #FFFFFF;\n",
              "  }\n",
              "</style>\n",
              "\n",
              "    <script>\n",
              "      async function quickchart(key) {\n",
              "        const containerElement = document.querySelector('#' + key);\n",
              "        const charts = await google.colab.kernel.invokeFunction(\n",
              "            'suggestCharts', [key], {});\n",
              "      }\n",
              "    </script>\n",
              "\n",
              "      <script>\n",
              "\n",
              "function displayQuickchartButton(domScope) {\n",
              "  let quickchartButtonEl =\n",
              "    domScope.querySelector('#df-91fd9b0d-854e-431e-ba93-cbb08824703e button.colab-df-quickchart');\n",
              "  quickchartButtonEl.style.display =\n",
              "    google.colab.kernel.accessAllowed ? 'block' : 'none';\n",
              "}\n",
              "\n",
              "        displayQuickchartButton(document);\n",
              "      </script>\n",
              "      <style>\n",
              "    .colab-df-container {\n",
              "      display:flex;\n",
              "      flex-wrap:wrap;\n",
              "      gap: 12px;\n",
              "    }\n",
              "\n",
              "    .colab-df-convert {\n",
              "      background-color: #E8F0FE;\n",
              "      border: none;\n",
              "      border-radius: 50%;\n",
              "      cursor: pointer;\n",
              "      display: none;\n",
              "      fill: #1967D2;\n",
              "      height: 32px;\n",
              "      padding: 0 0 0 0;\n",
              "      width: 32px;\n",
              "    }\n",
              "\n",
              "    .colab-df-convert:hover {\n",
              "      background-color: #E2EBFA;\n",
              "      box-shadow: 0px 1px 2px rgba(60, 64, 67, 0.3), 0px 1px 3px 1px rgba(60, 64, 67, 0.15);\n",
              "      fill: #174EA6;\n",
              "    }\n",
              "\n",
              "    [theme=dark] .colab-df-convert {\n",
              "      background-color: #3B4455;\n",
              "      fill: #D2E3FC;\n",
              "    }\n",
              "\n",
              "    [theme=dark] .colab-df-convert:hover {\n",
              "      background-color: #434B5C;\n",
              "      box-shadow: 0px 1px 3px 1px rgba(0, 0, 0, 0.15);\n",
              "      filter: drop-shadow(0px 1px 2px rgba(0, 0, 0, 0.3));\n",
              "      fill: #FFFFFF;\n",
              "    }\n",
              "  </style>\n",
              "\n",
              "      <script>\n",
              "        const buttonEl =\n",
              "          document.querySelector('#df-5c553473-a6f0-4a32-9e29-47453a1d6d51 button.colab-df-convert');\n",
              "        buttonEl.style.display =\n",
              "          google.colab.kernel.accessAllowed ? 'block' : 'none';\n",
              "\n",
              "        async function convertToInteractive(key) {\n",
              "          const element = document.querySelector('#df-5c553473-a6f0-4a32-9e29-47453a1d6d51');\n",
              "          const dataTable =\n",
              "            await google.colab.kernel.invokeFunction('convertToInteractive',\n",
              "                                                     [key], {});\n",
              "          if (!dataTable) return;\n",
              "\n",
              "          const docLinkHtml = 'Like what you see? Visit the ' +\n",
              "            '<a target=\"_blank\" href=https://colab.research.google.com/notebooks/data_table.ipynb>data table notebook</a>'\n",
              "            + ' to learn more about interactive tables.';\n",
              "          element.innerHTML = '';\n",
              "          dataTable['output_type'] = 'display_data';\n",
              "          await google.colab.output.renderOutput(dataTable, element);\n",
              "          const docLink = document.createElement('div');\n",
              "          docLink.innerHTML = docLinkHtml;\n",
              "          element.appendChild(docLink);\n",
              "        }\n",
              "      </script>\n",
              "    </div>\n",
              "  </div>\n"
            ]
          },
          "metadata": {}
        }
      ]
    },
    {
      "cell_type": "markdown",
      "source": [
        "`Channel` and `Region` are categorical variables, so these feature are not suitable for GMM. We will therefore remove them"
      ],
      "metadata": {
        "id": "kkci0G23CQhU"
      }
    },
    {
      "cell_type": "code",
      "source": [
        "dataset = dataset.drop(['Channel', 'Region'], axis=1)"
      ],
      "metadata": {
        "execution": {
          "iopub.status.busy": "2023-07-13T12:54:26.127735Z",
          "iopub.execute_input": "2023-07-13T12:54:26.128163Z",
          "iopub.status.idle": "2023-07-13T12:54:26.134278Z",
          "shell.execute_reply.started": "2023-07-13T12:54:26.128132Z",
          "shell.execute_reply": "2023-07-13T12:54:26.133100Z"
        },
        "trusted": true,
        "id": "DLddhhFACQhU"
      },
      "execution_count": 53,
      "outputs": []
    },
    {
      "cell_type": "markdown",
      "source": [
        "### Standardizing dataset values\n",
        "GMM is sensitive to the scales of the features, and features with larger scales can dominate the clustering algorithm. By standardizing the dataset, we transform the features to have a mean of 0 and a standard deviation of 1, which brings all features to a similar scale (i.e. using z-scores instead of raw values). This allows the model to treat all features equally and prevent any single feature from dominating the clustering process based on its scale."
      ],
      "metadata": {
        "id": "0XF0Rm68CQhV"
      }
    },
    {
      "cell_type": "code",
      "source": [
        "mean = np.mean(dataset, axis=0)  # Calculate the mean along the columns\n",
        "std = np.std(dataset, axis=0)    # Calculate the standard deviation along the columns\n",
        "X = (dataset - mean) / std  # Standardize the dataset\n",
        "\n",
        "display(X)"
      ],
      "metadata": {
        "execution": {
          "iopub.status.busy": "2023-07-13T12:54:26.136095Z",
          "iopub.execute_input": "2023-07-13T12:54:26.136941Z",
          "iopub.status.idle": "2023-07-13T12:54:26.161899Z",
          "shell.execute_reply.started": "2023-07-13T12:54:26.136908Z",
          "shell.execute_reply": "2023-07-13T12:54:26.160918Z"
        },
        "trusted": true,
        "colab": {
          "base_uri": "https://localhost:8080/",
          "height": 423
        },
        "id": "f3qMHZskCQhW",
        "outputId": "f11602df-8c70-4b6b-9720-762a88b02922"
      },
      "execution_count": 54,
      "outputs": [
        {
          "output_type": "display_data",
          "data": {
            "text/plain": [
              "        Fresh      Milk   Grocery    Frozen  Detergents_Paper  Delicassen\n",
              "0    0.052933  0.523568 -0.041115 -0.589367         -0.043569   -0.066339\n",
              "1   -0.391302  0.544458  0.170318 -0.270136          0.086407    0.089151\n",
              "2   -0.447029  0.408538 -0.028157 -0.137536          0.133232    2.243293\n",
              "3    0.100111 -0.624020 -0.392977  0.687144         -0.498588    0.093411\n",
              "4    0.840239 -0.052396 -0.079356  0.173859         -0.231918    1.299347\n",
              "..        ...       ...       ...       ...               ...         ...\n",
              "435  1.401312  0.848446  0.850760  2.075222         -0.566831    0.241091\n",
              "436  2.155293 -0.592142 -0.757165  0.296561         -0.585519    0.291501\n",
              "437  0.200326  1.314671  2.348386 -0.543380          2.511218    0.121456\n",
              "438 -0.135384 -0.517536 -0.602514 -0.419441         -0.569770    0.213046\n",
              "439 -0.729307 -0.555924 -0.573227 -0.620094         -0.504888   -0.522869\n",
              "\n",
              "[440 rows x 6 columns]"
            ],
            "text/html": [
              "\n",
              "\n",
              "  <div id=\"df-1a003489-9e55-4c58-869c-c196a5218334\">\n",
              "    <div class=\"colab-df-container\">\n",
              "      <div>\n",
              "<style scoped>\n",
              "    .dataframe tbody tr th:only-of-type {\n",
              "        vertical-align: middle;\n",
              "    }\n",
              "\n",
              "    .dataframe tbody tr th {\n",
              "        vertical-align: top;\n",
              "    }\n",
              "\n",
              "    .dataframe thead th {\n",
              "        text-align: right;\n",
              "    }\n",
              "</style>\n",
              "<table border=\"1\" class=\"dataframe\">\n",
              "  <thead>\n",
              "    <tr style=\"text-align: right;\">\n",
              "      <th></th>\n",
              "      <th>Fresh</th>\n",
              "      <th>Milk</th>\n",
              "      <th>Grocery</th>\n",
              "      <th>Frozen</th>\n",
              "      <th>Detergents_Paper</th>\n",
              "      <th>Delicassen</th>\n",
              "    </tr>\n",
              "  </thead>\n",
              "  <tbody>\n",
              "    <tr>\n",
              "      <th>0</th>\n",
              "      <td>0.052933</td>\n",
              "      <td>0.523568</td>\n",
              "      <td>-0.041115</td>\n",
              "      <td>-0.589367</td>\n",
              "      <td>-0.043569</td>\n",
              "      <td>-0.066339</td>\n",
              "    </tr>\n",
              "    <tr>\n",
              "      <th>1</th>\n",
              "      <td>-0.391302</td>\n",
              "      <td>0.544458</td>\n",
              "      <td>0.170318</td>\n",
              "      <td>-0.270136</td>\n",
              "      <td>0.086407</td>\n",
              "      <td>0.089151</td>\n",
              "    </tr>\n",
              "    <tr>\n",
              "      <th>2</th>\n",
              "      <td>-0.447029</td>\n",
              "      <td>0.408538</td>\n",
              "      <td>-0.028157</td>\n",
              "      <td>-0.137536</td>\n",
              "      <td>0.133232</td>\n",
              "      <td>2.243293</td>\n",
              "    </tr>\n",
              "    <tr>\n",
              "      <th>3</th>\n",
              "      <td>0.100111</td>\n",
              "      <td>-0.624020</td>\n",
              "      <td>-0.392977</td>\n",
              "      <td>0.687144</td>\n",
              "      <td>-0.498588</td>\n",
              "      <td>0.093411</td>\n",
              "    </tr>\n",
              "    <tr>\n",
              "      <th>4</th>\n",
              "      <td>0.840239</td>\n",
              "      <td>-0.052396</td>\n",
              "      <td>-0.079356</td>\n",
              "      <td>0.173859</td>\n",
              "      <td>-0.231918</td>\n",
              "      <td>1.299347</td>\n",
              "    </tr>\n",
              "    <tr>\n",
              "      <th>...</th>\n",
              "      <td>...</td>\n",
              "      <td>...</td>\n",
              "      <td>...</td>\n",
              "      <td>...</td>\n",
              "      <td>...</td>\n",
              "      <td>...</td>\n",
              "    </tr>\n",
              "    <tr>\n",
              "      <th>435</th>\n",
              "      <td>1.401312</td>\n",
              "      <td>0.848446</td>\n",
              "      <td>0.850760</td>\n",
              "      <td>2.075222</td>\n",
              "      <td>-0.566831</td>\n",
              "      <td>0.241091</td>\n",
              "    </tr>\n",
              "    <tr>\n",
              "      <th>436</th>\n",
              "      <td>2.155293</td>\n",
              "      <td>-0.592142</td>\n",
              "      <td>-0.757165</td>\n",
              "      <td>0.296561</td>\n",
              "      <td>-0.585519</td>\n",
              "      <td>0.291501</td>\n",
              "    </tr>\n",
              "    <tr>\n",
              "      <th>437</th>\n",
              "      <td>0.200326</td>\n",
              "      <td>1.314671</td>\n",
              "      <td>2.348386</td>\n",
              "      <td>-0.543380</td>\n",
              "      <td>2.511218</td>\n",
              "      <td>0.121456</td>\n",
              "    </tr>\n",
              "    <tr>\n",
              "      <th>438</th>\n",
              "      <td>-0.135384</td>\n",
              "      <td>-0.517536</td>\n",
              "      <td>-0.602514</td>\n",
              "      <td>-0.419441</td>\n",
              "      <td>-0.569770</td>\n",
              "      <td>0.213046</td>\n",
              "    </tr>\n",
              "    <tr>\n",
              "      <th>439</th>\n",
              "      <td>-0.729307</td>\n",
              "      <td>-0.555924</td>\n",
              "      <td>-0.573227</td>\n",
              "      <td>-0.620094</td>\n",
              "      <td>-0.504888</td>\n",
              "      <td>-0.522869</td>\n",
              "    </tr>\n",
              "  </tbody>\n",
              "</table>\n",
              "<p>440 rows × 6 columns</p>\n",
              "</div>\n",
              "      <button class=\"colab-df-convert\" onclick=\"convertToInteractive('df-1a003489-9e55-4c58-869c-c196a5218334')\"\n",
              "              title=\"Convert this dataframe to an interactive table.\"\n",
              "              style=\"display:none;\">\n",
              "\n",
              "  <svg xmlns=\"http://www.w3.org/2000/svg\" height=\"24px\"viewBox=\"0 0 24 24\"\n",
              "       width=\"24px\">\n",
              "    <path d=\"M0 0h24v24H0V0z\" fill=\"none\"/>\n",
              "    <path d=\"M18.56 5.44l.94 2.06.94-2.06 2.06-.94-2.06-.94-.94-2.06-.94 2.06-2.06.94zm-11 1L8.5 8.5l.94-2.06 2.06-.94-2.06-.94L8.5 2.5l-.94 2.06-2.06.94zm10 10l.94 2.06.94-2.06 2.06-.94-2.06-.94-.94-2.06-.94 2.06-2.06.94z\"/><path d=\"M17.41 7.96l-1.37-1.37c-.4-.4-.92-.59-1.43-.59-.52 0-1.04.2-1.43.59L10.3 9.45l-7.72 7.72c-.78.78-.78 2.05 0 2.83L4 21.41c.39.39.9.59 1.41.59.51 0 1.02-.2 1.41-.59l7.78-7.78 2.81-2.81c.8-.78.8-2.07 0-2.86zM5.41 20L4 18.59l7.72-7.72 1.47 1.35L5.41 20z\"/>\n",
              "  </svg>\n",
              "      </button>\n",
              "\n",
              "\n",
              "\n",
              "    <div id=\"df-a4228323-af22-4702-b5d6-4642cfb4a856\">\n",
              "      <button class=\"colab-df-quickchart\" onclick=\"quickchart('df-a4228323-af22-4702-b5d6-4642cfb4a856')\"\n",
              "              title=\"Suggest charts.\"\n",
              "              style=\"display:none;\">\n",
              "\n",
              "<svg xmlns=\"http://www.w3.org/2000/svg\" height=\"24px\"viewBox=\"0 0 24 24\"\n",
              "     width=\"24px\">\n",
              "    <g>\n",
              "        <path d=\"M19 3H5c-1.1 0-2 .9-2 2v14c0 1.1.9 2 2 2h14c1.1 0 2-.9 2-2V5c0-1.1-.9-2-2-2zM9 17H7v-7h2v7zm4 0h-2V7h2v10zm4 0h-2v-4h2v4z\"/>\n",
              "    </g>\n",
              "</svg>\n",
              "      </button>\n",
              "    </div>\n",
              "\n",
              "<style>\n",
              "  .colab-df-quickchart {\n",
              "    background-color: #E8F0FE;\n",
              "    border: none;\n",
              "    border-radius: 50%;\n",
              "    cursor: pointer;\n",
              "    display: none;\n",
              "    fill: #1967D2;\n",
              "    height: 32px;\n",
              "    padding: 0 0 0 0;\n",
              "    width: 32px;\n",
              "  }\n",
              "\n",
              "  .colab-df-quickchart:hover {\n",
              "    background-color: #E2EBFA;\n",
              "    box-shadow: 0px 1px 2px rgba(60, 64, 67, 0.3), 0px 1px 3px 1px rgba(60, 64, 67, 0.15);\n",
              "    fill: #174EA6;\n",
              "  }\n",
              "\n",
              "  [theme=dark] .colab-df-quickchart {\n",
              "    background-color: #3B4455;\n",
              "    fill: #D2E3FC;\n",
              "  }\n",
              "\n",
              "  [theme=dark] .colab-df-quickchart:hover {\n",
              "    background-color: #434B5C;\n",
              "    box-shadow: 0px 1px 3px 1px rgba(0, 0, 0, 0.15);\n",
              "    filter: drop-shadow(0px 1px 2px rgba(0, 0, 0, 0.3));\n",
              "    fill: #FFFFFF;\n",
              "  }\n",
              "</style>\n",
              "\n",
              "    <script>\n",
              "      async function quickchart(key) {\n",
              "        const containerElement = document.querySelector('#' + key);\n",
              "        const charts = await google.colab.kernel.invokeFunction(\n",
              "            'suggestCharts', [key], {});\n",
              "      }\n",
              "    </script>\n",
              "\n",
              "      <script>\n",
              "\n",
              "function displayQuickchartButton(domScope) {\n",
              "  let quickchartButtonEl =\n",
              "    domScope.querySelector('#df-a4228323-af22-4702-b5d6-4642cfb4a856 button.colab-df-quickchart');\n",
              "  quickchartButtonEl.style.display =\n",
              "    google.colab.kernel.accessAllowed ? 'block' : 'none';\n",
              "}\n",
              "\n",
              "        displayQuickchartButton(document);\n",
              "      </script>\n",
              "      <style>\n",
              "    .colab-df-container {\n",
              "      display:flex;\n",
              "      flex-wrap:wrap;\n",
              "      gap: 12px;\n",
              "    }\n",
              "\n",
              "    .colab-df-convert {\n",
              "      background-color: #E8F0FE;\n",
              "      border: none;\n",
              "      border-radius: 50%;\n",
              "      cursor: pointer;\n",
              "      display: none;\n",
              "      fill: #1967D2;\n",
              "      height: 32px;\n",
              "      padding: 0 0 0 0;\n",
              "      width: 32px;\n",
              "    }\n",
              "\n",
              "    .colab-df-convert:hover {\n",
              "      background-color: #E2EBFA;\n",
              "      box-shadow: 0px 1px 2px rgba(60, 64, 67, 0.3), 0px 1px 3px 1px rgba(60, 64, 67, 0.15);\n",
              "      fill: #174EA6;\n",
              "    }\n",
              "\n",
              "    [theme=dark] .colab-df-convert {\n",
              "      background-color: #3B4455;\n",
              "      fill: #D2E3FC;\n",
              "    }\n",
              "\n",
              "    [theme=dark] .colab-df-convert:hover {\n",
              "      background-color: #434B5C;\n",
              "      box-shadow: 0px 1px 3px 1px rgba(0, 0, 0, 0.15);\n",
              "      filter: drop-shadow(0px 1px 2px rgba(0, 0, 0, 0.3));\n",
              "      fill: #FFFFFF;\n",
              "    }\n",
              "  </style>\n",
              "\n",
              "      <script>\n",
              "        const buttonEl =\n",
              "          document.querySelector('#df-1a003489-9e55-4c58-869c-c196a5218334 button.colab-df-convert');\n",
              "        buttonEl.style.display =\n",
              "          google.colab.kernel.accessAllowed ? 'block' : 'none';\n",
              "\n",
              "        async function convertToInteractive(key) {\n",
              "          const element = document.querySelector('#df-1a003489-9e55-4c58-869c-c196a5218334');\n",
              "          const dataTable =\n",
              "            await google.colab.kernel.invokeFunction('convertToInteractive',\n",
              "                                                     [key], {});\n",
              "          if (!dataTable) return;\n",
              "\n",
              "          const docLinkHtml = 'Like what you see? Visit the ' +\n",
              "            '<a target=\"_blank\" href=https://colab.research.google.com/notebooks/data_table.ipynb>data table notebook</a>'\n",
              "            + ' to learn more about interactive tables.';\n",
              "          element.innerHTML = '';\n",
              "          dataTable['output_type'] = 'display_data';\n",
              "          await google.colab.output.renderOutput(dataTable, element);\n",
              "          const docLink = document.createElement('div');\n",
              "          docLink.innerHTML = docLinkHtml;\n",
              "          element.appendChild(docLink);\n",
              "        }\n",
              "      </script>\n",
              "    </div>\n",
              "  </div>\n"
            ]
          },
          "metadata": {}
        }
      ]
    },
    {
      "cell_type": "markdown",
      "source": [
        "convert the dataset X from pandas table into a numpy 2d matrix, so we can perform matrix multiplications later"
      ],
      "metadata": {
        "id": "PLZQl3xsCQhW"
      }
    },
    {
      "cell_type": "code",
      "source": [
        "X = X.to_numpy()\n",
        "print(X)"
      ],
      "metadata": {
        "execution": {
          "iopub.status.busy": "2023-07-13T12:54:26.163838Z",
          "iopub.execute_input": "2023-07-13T12:54:26.164838Z",
          "iopub.status.idle": "2023-07-13T12:54:26.170928Z",
          "shell.execute_reply.started": "2023-07-13T12:54:26.164803Z",
          "shell.execute_reply": "2023-07-13T12:54:26.170019Z"
        },
        "trusted": true,
        "colab": {
          "base_uri": "https://localhost:8080/"
        },
        "id": "VCFL_xtiCQhX",
        "outputId": "4639cdd2-9d6f-4537-d7a0-dde00ae1aac7"
      },
      "execution_count": 55,
      "outputs": [
        {
          "output_type": "stream",
          "name": "stdout",
          "text": [
            "[[ 0.05293319  0.52356777 -0.04111489 -0.58936716 -0.04356873 -0.06633906]\n",
            " [-0.39130197  0.54445767  0.17031835 -0.27013618  0.08640684  0.08915105]\n",
            " [-0.44702926  0.40853771 -0.0281571  -0.13753572  0.13323164  2.24329255]\n",
            " ...\n",
            " [ 0.20032554  1.31467078  2.34838631 -0.54337975  2.51121768  0.12145607]\n",
            " [-0.13538389 -0.51753572 -0.60251388 -0.41944059 -0.56977032  0.21304614]\n",
            " [-0.72930698 -0.5559243  -0.57322717 -0.62009417 -0.50488752 -0.52286938]]\n"
          ]
        }
      ]
    },
    {
      "cell_type": "markdown",
      "source": [
        "### Gaussian density\n",
        "In GMM, we assume all variables are normally distributed. This allows us to calculate the probability of a value coming from the distributions.\n",
        "\n",
        "\\begin{equation}\n",
        "\\large\n",
        "p(\\mathbf x | \\mathbf\\mu, \\mathbf\\Sigma) = \\frac 1 {({2\\pi})^{n/2}|\\Sigma|^{1/2}}\\exp\\left(-\\frac 1 2 (\\mathbf x -\\mathbf\\mu)^T\\mathbf\\Sigma^{-1}(\\mathbf x -\\mathbf\\mu)\\right)\n",
        "\\end{equation}\n",
        "\n",
        "note that the $\\Sigma$ here does NOT mean summation. It is the symbol for the covariance matrix\n"
      ],
      "metadata": {
        "id": "Vgz6E8z9VaVJ"
      }
    },
    {
      "cell_type": "code",
      "source": [
        "def gaussian_probability_density(X, mean, covariance):\n",
        "    num_dimensions = X.shape[1]\n",
        "    difference = (X - mean).T\n",
        "\n",
        "    exponent = -0.5 * np.dot(np.dot(difference.T, np.linalg.inv(covariance)), difference)\n",
        "    coefficient = 1 / ((2 * np.pi) ** (num_dimensions / 2) * np.linalg.det(covariance) ** 0.5)\n",
        "\n",
        "    probability = np.diagonal(coefficient * np.exp(exponent))\n",
        "\n",
        "    #convert row matrix to column\n",
        "    probability_column = probability.reshape(-1, 1)\n",
        "\n",
        "    return probability_column"
      ],
      "metadata": {
        "id": "Wk9WlrFVHtcN",
        "execution": {
          "iopub.status.busy": "2023-07-13T12:54:26.205871Z",
          "iopub.execute_input": "2023-07-13T12:54:26.206995Z",
          "iopub.status.idle": "2023-07-13T12:54:26.214633Z",
          "shell.execute_reply.started": "2023-07-13T12:54:26.206955Z",
          "shell.execute_reply": "2023-07-13T12:54:26.213304Z"
        },
        "trusted": true
      },
      "execution_count": 56,
      "outputs": []
    },
    {
      "cell_type": "markdown",
      "source": [
        "# Gaussian mixture models with Expectation-Maximization algorithm\n",
        "Assuming there are K clusters, a Gaussian Mixture is a function made up of K Gaussians, each labeled with a number $k$ (ranging from 1 to K), representing the clusters in our dataset. Each Gaussian $k$ in the mixture is have three parameters\n",
        "\n",
        "- A mean $μ$ that defines its centre.\n",
        "- A covariance matrix $Σ$ that defines its width. This would be equivalent to the dimensions of an ellipsoid in a multivariate scenario.\n",
        "- A mixing probability $π$ that defines how big or small the Gaussian function will be. It is also known as the mixing coefficient or weight. The sum of every $π$ should be 1 because the combined probability has to be 100%.\n",
        "<img src=\"https://miro.medium.com/v2/resize:fit:1400/format:webp/1*lTv7e4Cdlp738X_WFZyZHA.png\">\n",
        "\n",
        "The EM algorithm is an iterative optimization technique that aims to estimate the parameters of the GMM based on the observed data.\n",
        "1. Initialization: we start by initializing the parameters of the GMM. This includes the number of mixture components (K), the means (μ), covariances (Σ), and the mixing coefficients (π) of each component. These parameters can be initialized randomly or using some prior knowledge about the data.\n",
        "2. Expectation (E-step): In this step, the algorithm computes the \"responsibilities\" of each component for each data point. The responsibility represents the probability of a data point belonging to a specific component given the current parameter estimates. This is calculated using Bayes' rule and involves estimating the probabilities of the data points belonging to each component.\n",
        "3. Maximization (M-step): In this step, the algorithm updates the parameters of the GMM based on the computed responsibilities. The parameters are updated by maximizing the expected complete-data log-likelihood. The means, covariances, and mixing coefficients are updated using weighted maximum likelihood estimation, where the weights are the responsibilities computed in the E-step.\n"
      ],
      "metadata": {
        "id": "JvcWT57-CQhY"
      }
    },
    {
      "cell_type": "markdown",
      "source": [
        "### Parameter initialization\n",
        "This is the initialization step of the GMM. At this point, we must initialise our parameters $\\pi_k$, $\\mu_k$, and $\\Sigma_k$. We are going to use a random point for $\\mu_k$, set $\\pi_k$ to one over the number of clusters and $\\Sigma_k$ to the identity matrix.\n",
        "\n",
        "Note:\n",
        "GMMs do not inherently determine the number of clusters in the data. The number of clusters is typically determined by the user based on existing knowledge or by using a separate technique such as the elbow method. We will choose 3 as an arbitrary choice for the number of clusters.\n"
      ],
      "metadata": {
        "id": "NsxI7u2NXpWY"
      }
    },
    {
      "cell_type": "code",
      "source": [
        "n_clusters=3\n",
        "clusters = []\n",
        "idx = np.arange(X.shape[0])\n",
        "\n",
        "random_indices = np.random.choice(X.shape[0], size=n_clusters, replace=False)\n",
        "mu_k = X[random_indices]\n",
        "print(mu_k)"
      ],
      "metadata": {
        "id": "XEZjEtUqRfgG",
        "execution": {
          "iopub.status.busy": "2023-07-13T12:54:26.255288Z",
          "iopub.execute_input": "2023-07-13T12:54:26.256450Z",
          "iopub.status.idle": "2023-07-13T12:54:26.264062Z",
          "shell.execute_reply.started": "2023-07-13T12:54:26.256400Z",
          "shell.execute_reply": "2023-07-13T12:54:26.262942Z"
        },
        "trusted": true,
        "colab": {
          "base_uri": "https://localhost:8080/"
        },
        "outputId": "be074ac8-d21f-4ec3-9f3c-b3b791ea3b02"
      },
      "execution_count": 57,
      "outputs": [
        {
          "output_type": "stream",
          "name": "stdout",
          "text": [
            "[[-0.32789635 -0.63568571 -0.7223998   0.77252002 -0.59475755 -0.43944432]\n",
            " [-0.78503427 -0.10706287 -0.67299163 -0.40253042 -0.57417983  0.00892099]\n",
            " [-0.67856665 -0.46341191 -0.62400486 -0.35695546 -0.356434   -0.30525422]]\n"
          ]
        }
      ]
    },
    {
      "cell_type": "code",
      "source": [
        "for i in range(n_clusters):\n",
        "    clusters.append({\n",
        "        'pi_k': 1.0 / n_clusters,\n",
        "        'mu_k': mu_k[i],\n",
        "        'cov_k': np.identity(X.shape[1], dtype=np.float64)\n",
        "    })\n",
        "\n",
        "for dictionary in clusters:\n",
        "    print(\"\\n\")\n",
        "    for entrys in dictionary.items():\n",
        "        print(entrys)"
      ],
      "metadata": {
        "execution": {
          "iopub.status.busy": "2023-07-13T12:54:26.288249Z",
          "iopub.execute_input": "2023-07-13T12:54:26.288657Z",
          "iopub.status.idle": "2023-07-13T12:54:26.298570Z",
          "shell.execute_reply.started": "2023-07-13T12:54:26.288623Z",
          "shell.execute_reply": "2023-07-13T12:54:26.297452Z"
        },
        "trusted": true,
        "colab": {
          "base_uri": "https://localhost:8080/"
        },
        "id": "3z2MbkEFCQha",
        "outputId": "13e7fee8-c044-4cbd-a998-c30f19419672"
      },
      "execution_count": 58,
      "outputs": [
        {
          "output_type": "stream",
          "name": "stdout",
          "text": [
            "\n",
            "\n",
            "('pi_k', 0.3333333333333333)\n",
            "('mu_k', array([-0.32789635, -0.63568571, -0.7223998 ,  0.77252002, -0.59475755,\n",
            "       -0.43944432]))\n",
            "('cov_k', array([[1., 0., 0., 0., 0., 0.],\n",
            "       [0., 1., 0., 0., 0., 0.],\n",
            "       [0., 0., 1., 0., 0., 0.],\n",
            "       [0., 0., 0., 1., 0., 0.],\n",
            "       [0., 0., 0., 0., 1., 0.],\n",
            "       [0., 0., 0., 0., 0., 1.]]))\n",
            "\n",
            "\n",
            "('pi_k', 0.3333333333333333)\n",
            "('mu_k', array([-0.78503427, -0.10706287, -0.67299163, -0.40253042, -0.57417983,\n",
            "        0.00892099]))\n",
            "('cov_k', array([[1., 0., 0., 0., 0., 0.],\n",
            "       [0., 1., 0., 0., 0., 0.],\n",
            "       [0., 0., 1., 0., 0., 0.],\n",
            "       [0., 0., 0., 1., 0., 0.],\n",
            "       [0., 0., 0., 0., 1., 0.],\n",
            "       [0., 0., 0., 0., 0., 1.]]))\n",
            "\n",
            "\n",
            "('pi_k', 0.3333333333333333)\n",
            "('mu_k', array([-0.67856665, -0.46341191, -0.62400486, -0.35695546, -0.356434  ,\n",
            "       -0.30525422]))\n",
            "('cov_k', array([[1., 0., 0., 0., 0., 0.],\n",
            "       [0., 1., 0., 0., 0., 0.],\n",
            "       [0., 0., 1., 0., 0., 0.],\n",
            "       [0., 0., 0., 1., 0., 0.],\n",
            "       [0., 0., 0., 0., 1., 0.],\n",
            "       [0., 0., 0., 0., 0., 1.]]))\n"
          ]
        }
      ]
    },
    {
      "cell_type": "markdown",
      "source": [
        "### Expectation function\n",
        "This function finds the probabilities of each data point belonging to each component of the mixture model. In this step, the quantity $\\gamma(z_{nk})$ represents the responsibility of the k-th component for the n-th data point.\n",
        "\n",
        "\\begin{equation}\n",
        "\\large\n",
        "\\gamma{(z_{nk})}=\\frac {\\pi_k\\mathcal N(\\mathbf x_n| \\mathbf\\mu_k, \\mathbf\\Sigma_k)}{\\sum_{j=1}^K\\pi_j\\mathcal N(\\mathbf x_n| \\mathbf\\mu_j, \\mathbf\\Sigma_j)}\n",
        "\\end{equation}\n",
        "\n",
        "For convenience, we just calculate the denominator as a sum over all terms in the numerator, and then assign it to a variable named `totals`. This variable will be used later"
      ],
      "metadata": {
        "id": "b4HIKt0OYCex"
      }
    },
    {
      "cell_type": "code",
      "source": [
        "def expectation(X, clusters):\n",
        "    global gamma_nk, totals\n",
        "    N = X.shape[0]\n",
        "    K = len(clusters)\n",
        "    totals = np.zeros((N, 1), dtype=np.float64)\n",
        "    gamma_nk = np.zeros((N, K), dtype=np.float64)\n",
        "\n",
        "    for k, kth_cluster in enumerate(clusters):\n",
        "        pi_k = kth_cluster['pi_k']\n",
        "        mu_k = kth_cluster['mu_k']\n",
        "        cov_k = kth_cluster['cov_k']\n",
        "\n",
        "        gamma_nk[:, k] = (pi_k * gaussian_probability_density(X, mu_k, cov_k)).flatten()\n",
        "\n",
        "    totals = np.sum(gamma_nk, 1)\n",
        "    gamma_nk /= np.expand_dims(totals, 1)"
      ],
      "metadata": {
        "id": "78Xqp2nSGugd",
        "execution": {
          "iopub.status.busy": "2023-07-13T12:54:26.320493Z",
          "iopub.execute_input": "2023-07-13T12:54:26.320938Z",
          "iopub.status.idle": "2023-07-13T12:54:26.329624Z",
          "shell.execute_reply.started": "2023-07-13T12:54:26.320902Z",
          "shell.execute_reply": "2023-07-13T12:54:26.328404Z"
        },
        "trusted": true
      },
      "execution_count": 59,
      "outputs": []
    },
    {
      "cell_type": "markdown",
      "source": [
        "### Maximization function\n",
        "\n",
        "Now we will implement the maximization step. This is where we changes the $\\pi_k$, $\\mu_k$ and $\\Sigma_k$ to iteratively make the model better.\n",
        "\n",
        "Since $\\gamma(z_{nk})$ is common to the expressions for $\\pi_k$, $\\mu_k$ and $\\Sigma_k$, we can simply define:\n",
        "\n",
        "\\begin{equation}\n",
        "\\large\n",
        "N_k=\\sum_{n=1}^N\\gamma({z_{nk}})\n",
        "\\end{equation}\n",
        "\n",
        "And then we can calculate the revised parameters by using:\n",
        "\n",
        "\\begin{equation}\n",
        "\\large\n",
        "\\pi_k^*=\\frac {N_k} N\n",
        "\\end{equation}\n",
        "\n",
        "\n",
        "\\begin{equation}\n",
        "\\large\n",
        "\\mu_k^*=\\frac 1 {N_k} \\sum_{n=1}^N\\gamma({z_{nk}})\\mathbf x_n\n",
        "\\end{equation}\n",
        "\n",
        "\n",
        "\\begin{equation}\n",
        "\\large\n",
        "\\Sigma_k^*=\\frac 1 {N_k} \\sum_{n=1}^N\\gamma({z_{nk}})(\\mathbf x_n-\\mathbf\\mu_k)(\\mathbf x_n-\\mathbf\\mu_k)^T\n",
        "\\end{equation}\n",
        "\n",
        "Note: To calculate the covariance, we define an auxiliary variable __diff__ that contains $(x_n-\\mu_k)^T$."
      ],
      "metadata": {
        "id": "_VHT5Ph1ZAFu"
      }
    },
    {
      "cell_type": "code",
      "source": [
        "def maximize(X, clusters):\n",
        "    global gamma_nk\n",
        "    N = float(X.shape[0])\n",
        "\n",
        "    for k, kth_cluster in enumerate(clusters):\n",
        "        gamma_k = np.expand_dims(gamma_nk[:, k], 1)\n",
        "        N_k = np.sum(gamma_k, axis=0)\n",
        "\n",
        "        pi_k = N_k / N\n",
        "        mu_k = np.sum(gamma_k * X, axis=0) / N_k\n",
        "        cov_k = (gamma_k * (X - mu_k)).T @ (X - mu_k) / N_k\n",
        "\n",
        "        kth_cluster['pi_k'] = pi_k\n",
        "        kth_cluster['mu_k'] = mu_k\n",
        "        kth_cluster['cov_k'] = cov_k"
      ],
      "metadata": {
        "id": "7Z7K5jrEJHHu",
        "execution": {
          "iopub.status.busy": "2023-07-13T12:54:26.370553Z",
          "iopub.execute_input": "2023-07-13T12:54:26.370986Z",
          "iopub.status.idle": "2023-07-13T12:54:26.379274Z",
          "shell.execute_reply.started": "2023-07-13T12:54:26.370952Z",
          "shell.execute_reply": "2023-07-13T12:54:26.378013Z"
        },
        "trusted": true
      },
      "execution_count": 60,
      "outputs": []
    },
    {
      "cell_type": "markdown",
      "source": [
        "### Log-likelihood"
      ],
      "metadata": {
        "id": "3GGZGKEvCQhc"
      }
    },
    {
      "cell_type": "markdown",
      "source": [
        "The log-likelihood of a GMM is a measure of how well the model fits the given data. It quantifies the probability of the observed data points under the GMM. The log-likelihood is given by the sum of the logarithm of the probabilities of each data point, calculated using the GMM.\n",
        "\n",
        "The equation is:\n",
        "\n",
        "\\begin{equation}\n",
        "\\large\n",
        "\\ln p(\\mathbf X)=\\sum_{n=1}^N\\ln\\sum_{k=1}^K\\pi_k\\mathcal N(\\mathbf x_n|\\mu_k,\\Sigma_k)\n",
        "\\end{equation}\n",
        "\n",
        "Note: the second summation has already been calculated in the `expectation` function and is available in the __totals__ variable. So we just make use of it."
      ],
      "metadata": {
        "id": "Qzbylmjoa_61"
      }
    },
    {
      "cell_type": "code",
      "source": [
        "def log_likelihood(X, clusters):\n",
        "    global gamma_nk, totals\n",
        "    sample_likelihoods = np.log(totals)\n",
        "    return np.sum(sample_likelihoods)"
      ],
      "metadata": {
        "id": "vzVrZY6PTMR8",
        "execution": {
          "iopub.status.busy": "2023-07-13T12:54:26.414941Z",
          "iopub.execute_input": "2023-07-13T12:54:26.415357Z",
          "iopub.status.idle": "2023-07-13T12:54:26.421241Z",
          "shell.execute_reply.started": "2023-07-13T12:54:26.415324Z",
          "shell.execute_reply": "2023-07-13T12:54:26.420379Z"
        },
        "trusted": true
      },
      "execution_count": 61,
      "outputs": []
    },
    {
      "cell_type": "markdown",
      "source": [
        "Finally, let's put everything together! First, we are going to initialise the parameters by using the `initialise_clusters` function, and then perform several expectation-maximization steps. In this case, we set the number of iterations of the training procedure to a fixed `n_epochs` number. I have done this on purpose to generate graphs of the log-likelihood later."
      ],
      "metadata": {
        "id": "oGSkyh33bNu8"
      }
    },
    {
      "cell_type": "code",
      "source": [
        "n_epochs = 50\n",
        "likelihoods = np.zeros((n_epochs, ))\n",
        "scores = np.zeros((X.shape[0], n_clusters))\n",
        "history = []\n",
        "\n",
        "for i in range(n_epochs):\n",
        "\n",
        "    # Not necessary. This is just for our later use in the graphs\n",
        "    clusters_snapshot = []\n",
        "    for cluster in clusters:\n",
        "        clusters_snapshot.append({\n",
        "            'mu_k': cluster['mu_k'].copy(),\n",
        "            'cov_k': cluster['cov_k'].copy()\n",
        "        })\n",
        "    history.append(clusters_snapshot)\n",
        "\n",
        "\n",
        "    # apply the EM algorithm\n",
        "    expectation(X, clusters)\n",
        "    maximize(X, clusters)\n",
        "\n",
        "\n",
        "    # Not necessary. This is just for monitoring the progress of training\n",
        "    likelihood = log_likelihood(X, clusters)\n",
        "    likelihoods[i] = likelihood\n",
        "    print('Epoch: ', i + 1, 'Likelihood: ', likelihood)\n",
        "\n",
        "scores = np.log(gamma_nk)"
      ],
      "metadata": {
        "id": "9qWFzpI3Uq-9",
        "execution": {
          "iopub.status.busy": "2023-07-13T12:54:26.670591Z",
          "iopub.execute_input": "2023-07-13T12:54:26.671039Z",
          "iopub.status.idle": "2023-07-13T12:54:27.732643Z",
          "shell.execute_reply.started": "2023-07-13T12:54:26.671005Z",
          "shell.execute_reply": "2023-07-13T12:54:27.731114Z"
        },
        "trusted": true,
        "colab": {
          "base_uri": "https://localhost:8080/"
        },
        "outputId": "62cf49ce-9ef5-495d-bc8a-1f4a7a3fccee"
      },
      "execution_count": 62,
      "outputs": [
        {
          "output_type": "stream",
          "name": "stdout",
          "text": [
            "Epoch:  1 Likelihood:  -4045.5344303419306\n",
            "Epoch:  2 Likelihood:  -2430.624445979036\n",
            "Epoch:  3 Likelihood:  -1985.4606103245244\n",
            "Epoch:  4 Likelihood:  -1752.0307914894684\n",
            "Epoch:  5 Likelihood:  -1715.0871357321753\n",
            "Epoch:  6 Likelihood:  -1706.0046318111763\n",
            "Epoch:  7 Likelihood:  -1704.6898285775787\n",
            "Epoch:  8 Likelihood:  -1704.2611196523123\n",
            "Epoch:  9 Likelihood:  -1704.0112043498934\n",
            "Epoch:  10 Likelihood:  -1703.8241817282685\n",
            "Epoch:  11 Likelihood:  -1703.6678747243282\n",
            "Epoch:  12 Likelihood:  -1703.528783107385\n",
            "Epoch:  13 Likelihood:  -1703.3940082128975\n",
            "Epoch:  14 Likelihood:  -1703.2268878413902\n",
            "Epoch:  15 Likelihood:  -1702.7684998983232\n",
            "Epoch:  16 Likelihood:  -1700.3787785670997\n",
            "Epoch:  17 Likelihood:  -1696.6477311043866\n",
            "Epoch:  18 Likelihood:  -1668.9019277148932\n",
            "Epoch:  19 Likelihood:  -1619.8881154923229\n",
            "Epoch:  20 Likelihood:  -1605.6328132622525\n",
            "Epoch:  21 Likelihood:  -1598.6978660641166\n",
            "Epoch:  22 Likelihood:  -1594.3546107434397\n",
            "Epoch:  23 Likelihood:  -1590.1601627990203\n",
            "Epoch:  24 Likelihood:  -1586.384555101688\n"
          ]
        },
        {
          "output_type": "stream",
          "name": "stderr",
          "text": [
            "<ipython-input-56-540f9e48f183>:8: RuntimeWarning: overflow encountered in exp\n",
            "  probability = np.diagonal(coefficient * np.exp(exponent))\n"
          ]
        },
        {
          "output_type": "stream",
          "name": "stdout",
          "text": [
            "Epoch:  25 Likelihood:  -1583.8575430660032\n",
            "Epoch:  26 Likelihood:  -1582.1962276906643\n",
            "Epoch:  27 Likelihood:  -1581.129522109207\n",
            "Epoch:  28 Likelihood:  -1580.361768030132\n",
            "Epoch:  29 Likelihood:  -1579.529512812635\n",
            "Epoch:  30 Likelihood:  -1578.869502382354\n",
            "Epoch:  31 Likelihood:  -1578.5559089276082\n",
            "Epoch:  32 Likelihood:  -1578.3417718649682\n",
            "Epoch:  33 Likelihood:  -1578.1440330105152\n",
            "Epoch:  34 Likelihood:  -1577.944041389815\n",
            "Epoch:  35 Likelihood:  -1577.7724519926687\n",
            "Epoch:  36 Likelihood:  -1577.6647243777913\n",
            "Epoch:  37 Likelihood:  -1577.6059247010803\n",
            "Epoch:  38 Likelihood:  -1577.5701609706732\n",
            "Epoch:  39 Likelihood:  -1577.5457170735363\n",
            "Epoch:  40 Likelihood:  -1577.5280000361472\n",
            "Epoch:  41 Likelihood:  -1577.5146994742706\n",
            "Epoch:  42 Likelihood:  -1577.504409156485\n",
            "Epoch:  43 Likelihood:  -1577.4962091166494\n",
            "Epoch:  44 Likelihood:  -1577.4894880995002\n",
            "Epoch:  45 Likelihood:  -1577.483840739917\n",
            "Epoch:  46 Likelihood:  -1577.478998758486\n",
            "Epoch:  47 Likelihood:  -1577.4747837999246\n",
            "Epoch:  48 Likelihood:  -1577.4710757217838\n",
            "Epoch:  49 Likelihood:  -1577.467791784896\n",
            "Epoch:  50 Likelihood:  -1577.4648732283317\n"
          ]
        },
        {
          "output_type": "stream",
          "name": "stderr",
          "text": [
            "<ipython-input-62-bbb5bc0341dc>:28: RuntimeWarning: divide by zero encountered in log\n",
            "  scores = np.log(gamma_nk)\n"
          ]
        }
      ]
    },
    {
      "cell_type": "code",
      "source": [
        "print(scores)"
      ],
      "metadata": {
        "execution": {
          "iopub.status.busy": "2023-07-13T12:54:27.735947Z",
          "iopub.execute_input": "2023-07-13T12:54:27.737516Z",
          "iopub.status.idle": "2023-07-13T12:54:27.749546Z",
          "shell.execute_reply.started": "2023-07-13T12:54:27.737446Z",
          "shell.execute_reply": "2023-07-13T12:54:27.748056Z"
        },
        "trusted": true,
        "colab": {
          "base_uri": "https://localhost:8080/"
        },
        "id": "MjfqxptOCQhe",
        "outputId": "010da0fd-1920-4c49-b8a5-dacfe86cb941"
      },
      "execution_count": 63,
      "outputs": [
        {
          "output_type": "stream",
          "name": "stdout",
          "text": [
            "[[-3.15401521e+01 -8.32921193e+00 -2.41391313e-04]\n",
            " [-5.01765022e+01 -8.74652178e+00 -1.59026092e-04]\n",
            " [-1.19701405e+02 -2.78690669e-04 -8.18554745e+00]\n",
            " ...\n",
            " [           -inf -2.30877912e+00 -1.04674653e-01]\n",
            " [-4.61717381e-01 -1.02841833e+01 -9.94886504e-01]\n",
            " [-2.77149149e-02 -1.20976114e+01 -3.59981392e+00]]\n"
          ]
        }
      ]
    },
    {
      "cell_type": "code",
      "source": [
        "for dictionary in clusters:\n",
        "    print(\"\\n\")\n",
        "    for entrys in dictionary.items():\n",
        "        print(entrys)"
      ],
      "metadata": {
        "execution": {
          "iopub.status.busy": "2023-07-13T12:54:27.751622Z",
          "iopub.execute_input": "2023-07-13T12:54:27.753166Z",
          "iopub.status.idle": "2023-07-13T12:54:27.769151Z",
          "shell.execute_reply.started": "2023-07-13T12:54:27.753101Z",
          "shell.execute_reply": "2023-07-13T12:54:27.767682Z"
        },
        "trusted": true,
        "colab": {
          "base_uri": "https://localhost:8080/"
        },
        "id": "Lt7V4XfnCQhe",
        "outputId": "1ebaae4f-05be-4319-e81b-8ef86ef164f0"
      },
      "execution_count": 64,
      "outputs": [
        {
          "output_type": "stream",
          "name": "stdout",
          "text": [
            "\n",
            "\n",
            "('pi_k', array([0.45361956]))\n",
            "('mu_k', array([ 0.11568368, -0.49863151, -0.55904749,  0.23841603, -0.52489498,\n",
            "       -0.20740389]))\n",
            "('cov_k', array([[0.82389863, 0.04984823, 0.02807409, 0.18498958, 0.01025114,\n",
            "        0.09814749],\n",
            "       [0.04984823, 0.06065769, 0.02765231, 0.17661257, 0.00755179,\n",
            "        0.03714335],\n",
            "       [0.02807409, 0.02765231, 0.03570638, 0.10768975, 0.00538194,\n",
            "        0.02309965],\n",
            "       [0.18498958, 0.17661257, 0.10768975, 1.46632242, 0.0194025 ,\n",
            "        0.19385447],\n",
            "       [0.01025114, 0.00755179, 0.00538194, 0.0194025 , 0.00412367,\n",
            "        0.00335178],\n",
            "       [0.09814749, 0.03714335, 0.02309965, 0.19385447, 0.00335178,\n",
            "        0.08088998]]))\n",
            "\n",
            "\n",
            "('pi_k', array([0.10187174]))\n",
            "('mu_k', array([0.74891335, 1.6884902 , 1.48519764, 0.56000358, 1.20534431,\n",
            "       1.20501742]))\n",
            "('cov_k', array([[ 3.40781998,  0.02796089, -0.50769959,  1.44485209, -0.8438782 ,\n",
            "         0.80883999],\n",
            "       [ 0.02796089,  4.34067468,  2.09409964,  0.18277136,  2.12211887,\n",
            "         1.34067579],\n",
            "       [-0.50769959,  2.09409964,  3.79071999, -0.76753976,  3.84327391,\n",
            "        -0.28888712],\n",
            "       [ 1.44485209,  0.18277136, -0.76753976,  1.88875782, -1.11733332,\n",
            "         2.34228869],\n",
            "       [-0.8438782 ,  2.12211887,  3.84327391, -1.11733332,  4.62760867,\n",
            "        -1.07915496],\n",
            "       [ 0.80883999,  1.34067579, -0.28888712,  2.34228869, -1.07915496,\n",
            "         7.09501952]]))\n",
            "\n",
            "\n",
            "('pi_k', array([0.4445087]))\n",
            "('mu_k', array([-0.28968947,  0.1218864 ,  0.23013094, -0.37164338,  0.25941473,\n",
            "       -0.0645089 ]))\n",
            "('cov_k', array([[ 0.40177425, -0.02679211, -0.06120984,  0.02628748, -0.11618645,\n",
            "         0.06391981],\n",
            "       [-0.02679211,  0.27101251,  0.24313383,  0.00674062,  0.22968063,\n",
            "         0.00506311],\n",
            "       [-0.06120984,  0.24313383,  0.46706139,  0.00651901,  0.42442942,\n",
            "        -0.00870368],\n",
            "       [ 0.02628748,  0.00674062,  0.00651901,  0.05243831,  0.00980355,\n",
            "         0.01671002],\n",
            "       [-0.11618645,  0.22968063,  0.42442942,  0.00980355,  0.5034985 ,\n",
            "        -0.02745327],\n",
            "       [ 0.06391981,  0.00506311, -0.00870368,  0.01671002, -0.02745327,\n",
            "         0.1602607 ]]))\n"
          ]
        }
      ]
    },
    {
      "cell_type": "markdown",
      "source": [
        "### Visualization\n",
        "Now we create a graph to visualize our clusters as well as the parameters for the Gaussian mixture. Essentially, what we do here is to create ellipses of different scales in order to map to the coordinates of each Gaussian."
      ],
      "metadata": {
        "id": "V1RMlu7ybb6r"
      }
    },
    {
      "cell_type": "code",
      "source": [
        "import matplotlib.pyplot as plt\n",
        "import matplotlib\n",
        "from matplotlib.patches import Ellipse\n",
        "\n",
        "def create_cluster_image(X, history, scores):\n",
        "    fig, ax = plt.subplots(1, 1, figsize=(20, 20))\n",
        "    colorset = ['blue', 'red', 'black']\n",
        "\n",
        "    clusters = history[-1]  # Get the final cluster configuration\n",
        "\n",
        "    k=0\n",
        "    # drawing ellipses and their centre\n",
        "    for kth_cluster in clusters:\n",
        "        mu = kth_cluster['mu_k']\n",
        "        cov = kth_cluster['cov_k']\n",
        "\n",
        "        #calculate locations of ellipses\n",
        "        eigenvalues, eigenvectors = np.linalg.eigh(cov)\n",
        "        order = eigenvalues.argsort()[::-1]\n",
        "        eigenvalues, eigenvectors = eigenvalues[order], eigenvectors[:, order]\n",
        "        vx, vy = eigenvectors[:, 0][0], eigenvectors[:, 0][1]\n",
        "        theta = np.arctan2(vy, vx)\n",
        "\n",
        "        color = matplotlib.colors.to_rgba(colorset[k])\n",
        "\n",
        "        for cov_factor in range(1, 4):\n",
        "            ell = Ellipse(xy=mu, width=np.sqrt(eigenvalues[0]) * cov_factor * 2, height=np.sqrt(eigenvalues[1]) * cov_factor * 2, angle=np.degrees(theta), linewidth=2)\n",
        "            ell.set_facecolor((color[0], color[1], color[2], 1.0 / (cov_factor * 4.5)))\n",
        "            ax.add_artist(ell)\n",
        "\n",
        "        # draw the centre\n",
        "        ax.scatter(kth_cluster['mu_k'][0], kth_cluster['mu_k'][1], c=colorset[k], s=1000, marker='+')\n",
        "        k += 1\n",
        "\n",
        "    # plot the points from dataset\n",
        "    for i in range(X.shape[0]):\n",
        "        ax.scatter(X[i, 0], X[i, 1], c=colorset[np.argmax(scores[i])], marker='o')\n",
        "\n",
        "    plt.show()\n",
        "create_cluster_image(X, history, scores)"
      ],
      "metadata": {
        "execution": {
          "iopub.status.busy": "2023-07-13T12:54:53.325245Z",
          "iopub.execute_input": "2023-07-13T12:54:53.325659Z",
          "iopub.status.idle": "2023-07-13T12:54:58.529748Z",
          "shell.execute_reply.started": "2023-07-13T12:54:53.325628Z",
          "shell.execute_reply": "2023-07-13T12:54:58.528303Z"
        },
        "trusted": true,
        "colab": {
          "base_uri": "https://localhost:8080/",
          "height": 1000
        },
        "id": "Yrhj5muvCQhe",
        "outputId": "d78f4f1c-1aaa-4168-9cc8-a9a1748bedf5"
      },
      "execution_count": 65,
      "outputs": [
        {
          "output_type": "display_data",
          "data": {
            "text/plain": [
              "<Figure size 2000x2000 with 1 Axes>"
            ],
            "image/png": "[encoded data removed]"
          },
          "metadata": {}
        }
      ]
    },
    {
      "cell_type": "markdown",
      "source": [
        "### Exercise\n",
        "\n",
        "1. How many numbers are there in the trained model parameter? (hint: we have 6 input variables, 1 output variable, 440 data samples, and 3 classes)\n",
        "2. Determine the class of this following customer: `[13265, 1196, 4221,6404,507,1788]`\n",
        "3. In the above implementation of EM algorithm, we are running the loop 50 times. Each iteration costs us time and extra computations. We don’t need to complete all the iterations. We can terminate the loop when the log-likelihood converges (i.e. stopped increasing). Implement this in the code\n",
        "\n"
      ],
      "metadata": {
        "id": "Z9yMxteJCQhf"
      }
    },
    {
      "cell_type": "code",
      "source": [
        "n_epochs = 50\n",
        "likelihoods = np.zeros((n_epochs, ))\n",
        "scores = np.zeros((X.shape[0], n_clusters))\n",
        "history = []\n",
        "\n",
        "### exercise code here\n",
        "\n",
        "for i in range(n_epochs):\n",
        "\n",
        "    # Not necessary. This is just for our later use in the graphs\n",
        "    clusters_snapshot = []\n",
        "    for cluster in clusters:\n",
        "        clusters_snapshot.append({\n",
        "            'mu_k': cluster['mu_k'].copy(),\n",
        "            'cov_k': cluster['cov_k'].copy()\n",
        "        })\n",
        "    history.append(clusters_snapshot)\n",
        "\n",
        "\n",
        "    # apply the EM algorithm\n",
        "    expectation(X, clusters)\n",
        "    maximize(X, clusters)\n",
        "\n",
        "\n",
        "    # Not necessary. This is just for monitoring the progress of training\n",
        "    likelihood = log_likelihood(X, clusters)\n",
        "    likelihoods[i] = likelihood\n",
        "    print('Epoch: ', i + 1, 'Likelihood: ', likelihood)\n",
        "\n",
        "    ### exercise code here\n",
        "\n",
        "scores = np.log(gamma_nk)"
      ],
      "metadata": {
        "id": "LnzhQHEzHT5P"
      },
      "execution_count": null,
      "outputs": []
    },
    {
      "cell_type": "markdown",
      "source": [
        "4. The optimal value for the number of clusters, K, can be determined using the Elbow method. The Elbow method aims to minimize the log-likelihoods. Choosing too few clusters results in high log-likelihoods, while selecting too many clusters makes the model hard to use. Therefore, the Elbow method helps find the appropriate K by identifying the point on the plot where adding more clusters does not significantly increases log-likelihoods anymore.\n"
      ],
      "metadata": {
        "id": "QmK7TpJyHSCM"
      }
    },
    {
      "cell_type": "code",
      "source": [
        "mean = mean.to_numpy()\n",
        "std = std.to_numpy()"
      ],
      "metadata": {
        "id": "3ecgt5lWDF6B"
      },
      "execution_count": 66,
      "outputs": []
    },
    {
      "cell_type": "code",
      "source": [
        "x = np.array([ [13265, 1196, 4221,6404,507,1788]])\n",
        "\n",
        "# Standardize the dataset\n",
        "### exercise code here\n",
        "\n",
        "probabilities = []\n",
        "for k, kth_cluster in enumerate(clusters):\n",
        "  ### exercise code here\n",
        "\n",
        "print(probabilities)\n",
        "class_x = ### exercise code here"
      ],
      "metadata": {
        "id": "2crStpGPFKF9",
        "outputId": "ebf6bb7f-eeee-4a26-cfc3-2100bf25abdf",
        "colab": {
          "base_uri": "https://localhost:8080/"
        }
      },
      "execution_count": 71,
      "outputs": [
        {
          "output_type": "stream",
          "name": "stdout",
          "text": [
            "[0.45281345628392555, 1.5623493987470693e-05, 1.2381761448121105e-06]\n",
            "0\n"
          ]
        }
      ]
    },
    {
      "cell_type": "markdown",
      "source": [
        "### References\n",
        "- https://towardsdatascience.com/gaussian-mixture-models-explained-6986aaf5a95"
      ],
      "metadata": {
        "id": "nDORCohaCQhf"
      }
    }
  ]
}