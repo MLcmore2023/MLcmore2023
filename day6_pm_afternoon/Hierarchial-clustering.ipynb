{
  "cells": [
    {
      "cell_type": "markdown",
      "metadata": {
        "id": "view-in-github",
        "colab_type": "text"
      },
      "source": [
        "<a href=\"https://colab.research.google.com/github/MLcmore2023/MLcmore2023/blob/main/day6_pm_afternoon/Hierarchial-clustering.ipynb\" target=\"_parent\"><img src=\"https://colab.research.google.com/assets/colab-badge.svg\" alt=\"Open In Colab\"/></a>"
      ]
    },
    {
      "cell_type": "markdown",
      "source": [
        "## Hierarchical clustering\n",
        "\n",
        "Hierarchical clustering is a method used in unsupervised machine learning to group similar data points into nested clusters, forming a tree-like structure called a dendrogram. The process starts by considering each data point as a separate cluster and iteratively merges the closest clusters, building a hierarchy of clusters based on their pairwise similarity. This method does not require a predefined number of clusters and can be agglomerative (bottom-up) or divisive (top-down). The resulting dendrogram provides insights into the data's hierarchical structure, aiding in cluster selection based on desired granularity.\n",
        "\n",
        "\n",
        "\n"
      ],
      "metadata": {
        "id": "xY2zwZHH5KwQ"
      }
    },
    {
      "cell_type": "markdown",
      "metadata": {
        "id": "RkSbw2BXgmeC"
      },
      "source": [
        "## Import libraries and initialize random generator\n"
      ]
    },
    {
      "cell_type": "code",
      "execution_count": 1,
      "metadata": {
        "id": "5wwspSwwgmeK"
      },
      "outputs": [],
      "source": [
        "import numpy as np\n",
        "import matplotlib.pyplot as plt\n"
      ]
    },
    {
      "cell_type": "markdown",
      "metadata": {
        "id": "2yGZYuh4gmeN"
      },
      "source": [
        "## Creating the data\n",
        " We create the data necessary for clustering. We consider only 2 features but the number of features could be extended to more than 2. The example was created to make calculations simple and easy to understand"
      ]
    },
    {
      "cell_type": "code",
      "execution_count": 2,
      "metadata": {
        "id": "kQ2585u6gmeO"
      },
      "outputs": [],
      "source": [
        "X = np.array([[0.40,0.53],\n",
        "              [0.22,0.32],\n",
        "              [0.35,0.32],\n",
        "              [0.26,0.19],\n",
        "              [0.08,0.41],\n",
        "              [0.35,0.30],\n",
        "              [0.80,0.98],\n",
        "              [0.28,0.33]\n",
        "])"
      ]
    },
    {
      "cell_type": "markdown",
      "metadata": {
        "id": "8CTlS60wgmeP"
      },
      "source": [
        "<b>Cluster Distance computation:</b> The class below enables the formation of distance/similarity matrix between the sample elements. Some methods of the class are used to compute distance based on certain criterion because after some iteration in Hierarchial clustering, we will have to compute distances between samples and clusters and between two clusters and so on."
      ]
    },
    {
      "cell_type": "code",
      "execution_count": null,
      "metadata": {
        "id": "A1WTP-B8gmeP"
      },
      "outputs": [],
      "source": [
        "def compute_distance(samples):\n",
        "    '''\n",
        "        Creates a matrix of distances between individual samples and clusters attained at a particular step\n",
        "    '''\n",
        "    Distance_mat = np.zeros((len(samples),len(samples)))\n",
        "    for i in range(Distance_mat.shape[0]):\n",
        "        for j in range(Distance_mat.shape[0]):\n",
        "            if i!=j:\n",
        "                Distance_mat[i,j] = float(distance_calculate(samples[i],samples[j]))\n",
        "            else:\n",
        "                Distance_mat[i,j] = 10**4\n",
        "    return Distance_mat\n",
        "\n",
        "\n",
        "def distance_calculate(sample1,sample2):\n",
        "    '''\n",
        "        Distance calulated between two samples. The two samples can be both samples, both clusters or\n",
        "        one cluster and one sample. If both of them are samples/clusters, then simple norm is used. In other\n",
        "        cases, we refer it as an exception case and pass the samples as parameter to some function that\n",
        "        calculates the necessary distance between cluster and a sample\n",
        "    '''\n",
        "    dist = []\n",
        "    for i in range(len(sample1)):\n",
        "        for j in range(len(sample2)):\n",
        "            try:\n",
        "                dist.append(np.linalg.norm(np.array(sample1[i])-np.array(sample2[j])))\n",
        "            except:\n",
        "                dist.append(intersampledist(sample1[i],sample2[j]))\n",
        "    return min(dist)\n",
        "\n",
        "\n",
        "def intersampledist(s1,s2):\n",
        "    '''\n",
        "        To be used in case we have one sample and one cluster . It takes the help of one\n",
        "        method 'interclusterdist' to compute the distances between elements of a cluster(which are\n",
        "        samples) and the actual sample given.\n",
        "    '''\n",
        "    if str(type(s2[0]))!='<class \\'list\\'>':\n",
        "        s2=[s2]\n",
        "    if str(type(s1[0]))!='<class \\'list\\'>':\n",
        "        s1=[s1]\n",
        "    m = len(s1)\n",
        "    n = len(s2)\n",
        "    dist = []\n",
        "    if n>=m:\n",
        "        for i in range(n):\n",
        "            for j in range(m):\n",
        "                if (len(s2[i])>=len(s1[j])) and str(type(s2[i][0])!='<class \\'list\\'>'):\n",
        "                    dist.append(interclusterdist(s2[i],s1[j]))\n",
        "                else:\n",
        "                    dist.append(np.linalg.norm(np.array(s2[i])-np.array(s1[j])))\n",
        "    else:\n",
        "        for i in range(m):\n",
        "            for j in range(n):\n",
        "                if (len(s1[i])>=len(s2[j])) and str(type(s1[i][0])!='<class \\'list\\'>'):\n",
        "                    dist.append(interclusterdist(s1[i],s2[j]))\n",
        "                else:\n",
        "                    dist.append(np.linalg.norm(np.array(s1[i])-np.array(s2[j])))\n",
        "    return min(dist)\n",
        "\n",
        "def interclusterdist(cl,sample):\n",
        "    if sample[0]!='<class \\'list\\'>':\n",
        "        sample = [sample]\n",
        "    dist   = []\n",
        "    for i in range(len(cl)):\n",
        "        for j in range(len(sample)):\n",
        "            dist.append(np.linalg.norm(np.array(cl[i])-np.array(sample[j])))\n",
        "    return min(dist)"
      ]
    },
    {
      "cell_type": "markdown",
      "metadata": {
        "id": "dt-sC_j1gmeR"
      },
      "source": [
        "<b>Implementing the clustering method:</b> We now implement the clustering method and we keep on printing the clusters formed after each iteration. This will be used to verify the clustering done from our implementation of agglomerative clustering with single linkage with other modules available\n"
      ]
    },
    {
      "cell_type": "code",
      "execution_count": null,
      "metadata": {
        "id": "3cIiByXegmeS",
        "outputId": "d9726d74-29a6-4dc4-b616-04142946f9ff"
      },
      "outputs": [
        {
          "name": "stdout",
          "output_type": "stream",
          "text": [
            "Sample size before clustering    :-  8\n",
            "Cluster Node 1                   :- [2]\n",
            "Cluster Node 2                   :- [5]\n",
            "Progression(Current Sample)      :- [[0], [1], [[2, [5]]], [3], [4], [6], [7]]\n",
            "Cluster attained                 :- [[2, [5]]]\n",
            "Sample size after clustering     :- 7\n",
            "\n",
            "\n",
            "Sample size before clustering    :-  7\n",
            "Cluster Node 1                   :- [1]\n",
            "Cluster Node 2                   :- [7]\n",
            "Progression(Current Sample)      :- [[0], [[1, [7]]], [[2, [5]]], [3], [4], [6]]\n",
            "Cluster attained                 :- [[1, [7]]]\n",
            "Sample size after clustering     :- 6\n",
            "\n",
            "\n",
            "Sample size before clustering    :-  6\n",
            "Cluster Node 1                   :- [[1, [7]]]\n",
            "Cluster Node 2                   :- [[2, [5]]]\n",
            "Progression(Current Sample)      :- [[0], [[[1, [7]], [[2, [5]]]]], [3], [4], [6]]\n",
            "Cluster attained                 :- [[[1, [7]], [[2, [5]]]]]\n",
            "Sample size after clustering     :- 5\n",
            "\n",
            "\n",
            "Sample size before clustering    :-  5\n",
            "Cluster Node 1                   :- [[[1, [7]], [[2, [5]]]]]\n",
            "Cluster Node 2                   :- [3]\n",
            "Progression(Current Sample)      :- [[0], [[[[1, [7]], [[2, [5]]]], [3]]], [4], [6]]\n",
            "Cluster attained                 :- [[[[1, [7]], [[2, [5]]]], [3]]]\n",
            "Sample size after clustering     :- 4\n",
            "\n",
            "\n",
            "Sample size before clustering    :-  4\n",
            "Cluster Node 1                   :- [[[[1, [7]], [[2, [5]]]], [3]]]\n",
            "Cluster Node 2                   :- [4]\n",
            "Progression(Current Sample)      :- [[0], [[[[[1, [7]], [[2, [5]]]], [3]], [4]]], [6]]\n",
            "Cluster attained                 :- [[[[[1, [7]], [[2, [5]]]], [3]], [4]]]\n",
            "Sample size after clustering     :- 3\n",
            "\n",
            "\n",
            "Sample size before clustering    :-  3\n",
            "Cluster Node 1                   :- [0]\n",
            "Cluster Node 2                   :- [[[[[1, [7]], [[2, [5]]]], [3]], [4]]]\n",
            "Progression(Current Sample)      :- [[[0, [[[[[1, [7]], [[2, [5]]]], [3]], [4]]]]], [6]]\n",
            "Cluster attained                 :- [[0, [[[[[1, [7]], [[2, [5]]]], [3]], [4]]]]]\n",
            "Sample size after clustering     :- 2\n",
            "\n",
            "\n",
            "Sample size before clustering    :-  2\n",
            "Cluster Node 1                   :- [[0, [[[[[1, [7]], [[2, [5]]]], [3]], [4]]]]]\n",
            "Cluster Node 2                   :- [6]\n",
            "Progression(Current Sample)      :- [[[[0, [[[[[1, [7]], [[2, [5]]]], [3]], [4]]]], [6]]]]\n",
            "Cluster attained                 :- [[[0, [[[[[1, [7]], [[2, [5]]]], [3]], [4]]]], [6]]]\n",
            "Sample size after clustering     :- 1\n",
            "\n",
            "\n"
          ]
        }
      ],
      "source": [
        "\n",
        "progression = [[i] for i in range(X.shape[0])]\n",
        "samples     = [[list(X[i])] for i in range(X.shape[0])]\n",
        "m = len(samples)\n",
        "distcal  = Distance_computation_grid()\n",
        "\n",
        "while m>1:\n",
        "    print('Sample size before clustering    :- ',m)\n",
        "    Distance_mat      = distcal.compute_distance(samples)\n",
        "    sample_ind_needed = np.where(Distance_mat==Distance_mat.min())[0]\n",
        "    value_to_add      = samples.pop(sample_ind_needed[1])\n",
        "    samples[sample_ind_needed[0]].append(value_to_add)\n",
        "\n",
        "    print('Cluster Node 1                   :-',progression[sample_ind_needed[0]])\n",
        "    print('Cluster Node 2                   :-',progression[sample_ind_needed[1]])\n",
        "\n",
        "    progression[sample_ind_needed[0]].append(progression[sample_ind_needed[1]])\n",
        "    progression[sample_ind_needed[0]] = [progression[sample_ind_needed[0]]]\n",
        "    v = progression.pop(sample_ind_needed[1])\n",
        "    m = len(samples)\n",
        "\n",
        "    print('Progression(Current Sample)      :-',progression)\n",
        "    print('Cluster attained                 :-',progression[sample_ind_needed[0]])\n",
        "    print('Sample size after clustering     :-',m)\n",
        "    print('\\n')"
      ]
    },
    {
      "cell_type": "markdown",
      "metadata": {
        "id": "dd6SXvmhgmeU"
      },
      "source": [
        "<b>Final Comments on our implementation:</b> We used the single linkage in our case, We can modify the existing code to implement complete linkage and ward's methods as well\n"
      ]
    },
    {
      "cell_type": "markdown",
      "metadata": {
        "id": "-9vMYw4XgmeV"
      },
      "source": [
        "<b>Scipy Implementation:</b> We can also create Dendrogram using the existing module available in Scipy. The entire process of clustering is done in the backend and we can clearly get a dendrogram to show how many clusters are there and how hierarchy is formed in the cluster\n"
      ]
    },
    {
      "cell_type": "code",
      "execution_count": null,
      "metadata": {
        "id": "6msjP9pNgmeW",
        "outputId": "a57be9bb-9808-4d67-b25b-eef044d3d8f7"
      },
      "outputs": [
        {
          "data": {
            "image/png": "[encoded data removed]",
            "text/plain": [
              "<Figure size 1800x720 with 1 Axes>"
            ]
          },
          "metadata": {
            "needs_background": "light"
          },
          "output_type": "display_data"
        }
      ],
      "source": [
        "from scipy.cluster.hierarchy import dendrogram, linkage\n",
        "from matplotlib import pyplot as plt\n",
        "Z = linkage(X, 'single')\n",
        "fig = plt.figure(figsize=(25, 10))\n",
        "dn = dendrogram(Z)"
      ]
    },
    {
      "cell_type": "markdown",
      "metadata": {
        "id": "_-EOZf2XgmeW"
      },
      "source": [
        "<div class=\"alert alert-block alert-success\">\n",
        "<b>Comparison with our implementation:</b> We can clearly see that our implementation give the exact same clusters as the one shown in the dendrogram.\n",
        "</div>"
      ]
    }
  ],
  "metadata": {
    "kernelspec": {
      "display_name": "Python 3",
      "language": "python",
      "name": "python3"
    },
    "language_info": {
      "codemirror_mode": {
        "name": "ipython",
        "version": 3
      },
      "file_extension": ".py",
      "mimetype": "text/x-python",
      "name": "python",
      "nbconvert_exporter": "python",
      "pygments_lexer": "ipython3",
      "version": "3.7.4"
    },
    "colab": {
      "provenance": [],
      "include_colab_link": true
    }
  },
  "nbformat": 4,
  "nbformat_minor": 0
}