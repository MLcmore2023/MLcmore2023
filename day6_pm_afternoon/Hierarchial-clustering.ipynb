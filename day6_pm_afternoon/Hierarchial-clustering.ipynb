{
  "cells": [
    {
      "cell_type": "markdown",
      "metadata": {
        "id": "view-in-github",
        "colab_type": "text"
      },
      "source": [
        "<a href=\"https://colab.research.google.com/github/MLcmore2023/MLcmore2023/blob/main/day6_pm_afternoon/Hierarchial-clustering.ipynb\" target=\"_parent\"><img src=\"https://colab.research.google.com/assets/colab-badge.svg\" alt=\"Open In Colab\"/></a>"
      ]
    },
    {
      "cell_type": "markdown",
      "source": [
        "# Types of Clustering Algorithm in Machine Learning\n",
        "- Exclusive Clustering: It is known as Hard Clustering. That means data items exclusively belong to one cluster. Two clusters are totally different from each other. Example of Exclusive Clustering is K Means Clustering.\n",
        "- Overlapping Clustering: Overlapping clustering is a soft cluster. That means data items may belong to more than one cluster. An example of Overlapping Clustering is GMM.\n",
        "- Hierarchical Clustering: Hierarchical Clustering groups similar objects into one cluster. The final cluster in the Hierarchical cluster combines all clusters into one cluster."
      ],
      "metadata": {
        "id": "DR_MATQtKOx0"
      }
    },
    {
      "cell_type": "markdown",
      "source": [
        "## Hierarchical clustering (Agglomerative)\n",
        "\n",
        "Hierarchical clustering is a method used in unsupervised machine learning to group similar data points into nested clusters, forming a tree-like structure called a dendrogram. The process starts by considering each data point as a separate cluster and iteratively merges the closest clusters, building a hierarchy of clusters based on their pairwise similarity. This method does not require a predefined number of clusters and can be agglomerative (bottom-up) or divisive (top-down). The resulting dendrogram provides insights into the data's hierarchical structure, aiding in cluster selection based on desired granularity.\n",
        "\n",
        "Agglomerative Hierarchical Clustering uses a bottom-up approach to form clusters. That means it starts from single data points. Then it clusters the closer data points into one cluster. The same process repeats until it gets one single cluster.\n",
        "\n",
        "<img src=\"https://www.mltut.com/wp-content/uploads/2020/06/Untitled-document-31.jpg\">\n"
      ],
      "metadata": {
        "id": "xY2zwZHH5KwQ"
      }
    },
    {
      "cell_type": "markdown",
      "metadata": {
        "id": "RkSbw2BXgmeC"
      },
      "source": [
        "## Import libraries and initialize random generator\n"
      ]
    },
    {
      "cell_type": "code",
      "execution_count": 13,
      "metadata": {
        "id": "5wwspSwwgmeK"
      },
      "outputs": [],
      "source": [
        "import numpy as np\n",
        "import matplotlib.pyplot as plt\n"
      ]
    },
    {
      "cell_type": "markdown",
      "metadata": {
        "id": "2yGZYuh4gmeN"
      },
      "source": [
        "## Creating the data\n",
        " We create the data necessary for clustering. We consider only 2 features but the number of features could be extended to more than 2. The example was created to make calculations simple and easy to understand"
      ]
    },
    {
      "cell_type": "code",
      "execution_count": 14,
      "metadata": {
        "id": "kQ2585u6gmeO"
      },
      "outputs": [],
      "source": [
        "X = np.array([[0.40,0.53],\n",
        "              [0.22,0.32],\n",
        "              [0.35,0.32],\n",
        "              [0.26,0.19],\n",
        "              [0.08,0.41],\n",
        "              [0.35,0.30],\n",
        "              [0.80,0.98],\n",
        "              [0.28,0.33]\n",
        "])"
      ]
    },
    {
      "cell_type": "markdown",
      "metadata": {
        "id": "8CTlS60wgmeP"
      },
      "source": [
        "## Cluster Distance computation\n",
        "The code below calculates the distance/similarity matrix between the sample elements. Some are used to compute distance based on clusters, because after some iteration in Hierarchial clustering, we will have to compute distances between samples and clusters, or between two clusters."
      ]
    },
    {
      "cell_type": "code",
      "source": [
        "#  Creates a matrix of distances between individual samples and clusters attained at a particular step\n",
        "def compute_distance(samples):\n",
        "    distance_matrix = np.zeros((len(samples),len(samples)))\n",
        "    for i in range(len(samples)):\n",
        "        for j in range(len(samples)):\n",
        "            if i!=j: # if its not the same item compared to itself.\n",
        "                distance_matrix[i,j] = float( distance_calculate(samples[i],samples[j]) )\n",
        "            else:\n",
        "                distance_matrix[i,j] = float(\"inf\")\n",
        "    return distance_matrix\n"
      ],
      "metadata": {
        "id": "TXZLfopnLp3O"
      },
      "execution_count": 15,
      "outputs": []
    },
    {
      "cell_type": "markdown",
      "source": [
        "There are several ways to calculated distance between two samples. The two samples can be both samples, both clusters or\n",
        "one cluster and one sample. If both of them are samples/clusters, then simple norm is used. In other\n",
        "cases, we refer it as an exception case and pass the samples as parameter to some later function that calculates the distance between cluster and a sample.\n",
        "\n",
        "\n",
        "For calculating the distance between two data points, we use the Euclidean Distance Formula. But how do we calculate distance between two clusters? There are many different ways:\n",
        "1. Closet Points- That means we take the distance of two closet points from two clusters. It is also known as Single Linkage.\n",
        "2. Furthest Points- Another option is to take the two furthest points and calculate their distance. And consider this distance as the distance of two clusters. It is also known as Complete-linkage\n",
        "3. Average Distance- In that method, you can take the average distance of all the data points and use this average distance as the distance of two clusters. It is known as Average-linkage.\n",
        "4. Distance between Centroids- Another option is to find the centroid of clusters and then calculate the distance between two centroids. It is known as Centroid-linkage.\n",
        "\n",
        "we will show #1 in this tutorial\n",
        "\n",
        "\n"
      ],
      "metadata": {
        "id": "rPLr7ySuMK9G"
      }
    },
    {
      "cell_type": "code",
      "source": [
        "def distance_calculate(sample1,sample2):\n",
        "    distance = []\n",
        "    for i in range(len(sample1)):\n",
        "        for j in range(len(sample2)):\n",
        "            try: # if sample1 and sample2 are both single samples\n",
        "                distance.append(np.linalg.norm(np.array(sample1[i])-np.array(sample2[j])))\n",
        "            except:\n",
        "                distance.append(intersampledist(sample1[i],sample2[j]))\n",
        "    return min(distance) # return the shortest distance\n"
      ],
      "metadata": {
        "id": "siWYm3uZMYj7"
      },
      "execution_count": 16,
      "outputs": []
    },
    {
      "cell_type": "markdown",
      "source": [
        "In case we have two clusters of samples, we need to calculate intersample distance.\n"
      ],
      "metadata": {
        "id": "Uit9WVUQNU5r"
      }
    },
    {
      "cell_type": "code",
      "source": [
        "def intersampledist(s1,s2):\n",
        "    if str(type(s2[0]))!=\"<class 'list'>\":\n",
        "        s2=[s2]\n",
        "    if str(type(s1[0]))!=\"<class 'list'>\":\n",
        "        s1=[s1]\n",
        "    m = len(s1)\n",
        "    n = len(s2)\n",
        "    dist = []\n",
        "    if n>=m:\n",
        "        for i in range(n):\n",
        "            for j in range(m):\n",
        "                if (len(s2[i])>=len(s1[j])) and str(type(s2[i][0])!='<class \\'list\\'>'):\n",
        "                    dist.append(interclusterdist(s2[i],s1[j]))\n",
        "                else:\n",
        "                    dist.append(np.linalg.norm(np.array(s2[i])-np.array(s1[j])))\n",
        "    else:\n",
        "        for i in range(m):\n",
        "            for j in range(n):\n",
        "                if (len(s1[i])>=len(s2[j])) and str(type(s1[i][0])!='<class \\'list\\'>'):\n",
        "                    dist.append(interclusterdist(s1[i],s2[j]))\n",
        "                else:\n",
        "                    dist.append(np.linalg.norm(np.array(s1[i])-np.array(s2[j])))\n",
        "    return min(dist)"
      ],
      "metadata": {
        "id": "I4LfXk1nNpJL"
      },
      "execution_count": 17,
      "outputs": []
    },
    {
      "cell_type": "markdown",
      "source": [
        "In case we have one sample and one cluster, we need to calculate intercluster distance."
      ],
      "metadata": {
        "id": "3nNSED0uN6rA"
      }
    },
    {
      "cell_type": "code",
      "execution_count": 18,
      "metadata": {
        "id": "A1WTP-B8gmeP"
      },
      "outputs": [],
      "source": [
        "def interclusterdist(cl,sample):\n",
        "    if sample[0]!='<class \\'list\\'>':\n",
        "        sample = [sample]\n",
        "    dist   = []\n",
        "    for i in range(len(cl)):\n",
        "        for j in range(len(sample)):\n",
        "            dist.append(np.linalg.norm(np.array(cl[i])-np.array(sample[j])))\n",
        "    return min(dist)"
      ]
    },
    {
      "cell_type": "markdown",
      "metadata": {
        "id": "dt-sC_j1gmeR"
      },
      "source": [
        "### Implementing the clustering method\n",
        "We now implement the clustering method and we keep on printing the clusters formed after each iteration."
      ]
    },
    {
      "cell_type": "code",
      "source": [
        "progression = [[i] for i in range(X.shape[0])]\n",
        "samples     = [[list(X[i])] for i in range(X.shape[0])]\n",
        "m = len(samples)\n",
        "print(m)\n",
        "print(samples)"
      ],
      "metadata": {
        "id": "LDMjMsPiOQpq",
        "outputId": "cabdcdf7-d6fa-4c56-bf52-6ee6098302fe",
        "colab": {
          "base_uri": "https://localhost:8080/"
        }
      },
      "execution_count": 19,
      "outputs": [
        {
          "output_type": "stream",
          "name": "stdout",
          "text": [
            "8\n",
            "[[[0.4, 0.53]], [[0.22, 0.32]], [[0.35, 0.32]], [[0.26, 0.19]], [[0.08, 0.41]], [[0.35, 0.3]], [[0.8, 0.98]], [[0.28, 0.33]]]\n"
          ]
        }
      ]
    },
    {
      "cell_type": "code",
      "execution_count": 20,
      "metadata": {
        "id": "3cIiByXegmeS",
        "outputId": "a799432f-673a-4a21-fdb5-48cf857d0226",
        "colab": {
          "base_uri": "https://localhost:8080/"
        }
      },
      "outputs": [
        {
          "output_type": "stream",
          "name": "stdout",
          "text": [
            "Sample size before clustering    : 8\n",
            "Cluster Node 1                   : [2]\n",
            "Cluster Node 2                   : [5]\n",
            "Progression(Current Sample)      : [[0], [1], [[2, [5]]], [3], [4], [6], [7]]\n",
            "Cluster attained                 : [[2, [5]]]\n",
            "Sample size after clustering     : 7\n",
            "\n",
            "\n",
            "Sample size before clustering    : 7\n",
            "Cluster Node 1                   : [1]\n",
            "Cluster Node 2                   : [7]\n",
            "Progression(Current Sample)      : [[0], [[1, [7]]], [[2, [5]]], [3], [4], [6]]\n",
            "Cluster attained                 : [[1, [7]]]\n",
            "Sample size after clustering     : 6\n",
            "\n",
            "\n",
            "Sample size before clustering    : 6\n",
            "Cluster Node 1                   : [[1, [7]]]\n",
            "Cluster Node 2                   : [[2, [5]]]\n",
            "Progression(Current Sample)      : [[0], [[[1, [7]], [[2, [5]]]]], [3], [4], [6]]\n",
            "Cluster attained                 : [[[1, [7]], [[2, [5]]]]]\n",
            "Sample size after clustering     : 5\n",
            "\n",
            "\n",
            "Sample size before clustering    : 5\n",
            "Cluster Node 1                   : [[[1, [7]], [[2, [5]]]]]\n",
            "Cluster Node 2                   : [3]\n",
            "Progression(Current Sample)      : [[0], [[[[1, [7]], [[2, [5]]]], [3]]], [4], [6]]\n",
            "Cluster attained                 : [[[[1, [7]], [[2, [5]]]], [3]]]\n",
            "Sample size after clustering     : 4\n",
            "\n",
            "\n",
            "Sample size before clustering    : 4\n",
            "Cluster Node 1                   : [[[[1, [7]], [[2, [5]]]], [3]]]\n",
            "Cluster Node 2                   : [4]\n",
            "Progression(Current Sample)      : [[0], [[[[[1, [7]], [[2, [5]]]], [3]], [4]]], [6]]\n",
            "Cluster attained                 : [[[[[1, [7]], [[2, [5]]]], [3]], [4]]]\n",
            "Sample size after clustering     : 3\n",
            "\n",
            "\n",
            "Sample size before clustering    : 3\n",
            "Cluster Node 1                   : [0]\n",
            "Cluster Node 2                   : [[[[[1, [7]], [[2, [5]]]], [3]], [4]]]\n",
            "Progression(Current Sample)      : [[[0, [[[[[1, [7]], [[2, [5]]]], [3]], [4]]]]], [6]]\n",
            "Cluster attained                 : [[0, [[[[[1, [7]], [[2, [5]]]], [3]], [4]]]]]\n",
            "Sample size after clustering     : 2\n",
            "\n",
            "\n",
            "Sample size before clustering    : 2\n",
            "Cluster Node 1                   : [[0, [[[[[1, [7]], [[2, [5]]]], [3]], [4]]]]]\n",
            "Cluster Node 2                   : [6]\n",
            "Progression(Current Sample)      : [[[[0, [[[[[1, [7]], [[2, [5]]]], [3]], [4]]]], [6]]]]\n",
            "Cluster attained                 : [[[0, [[[[[1, [7]], [[2, [5]]]], [3]], [4]]]], [6]]]\n",
            "Sample size after clustering     : 1\n",
            "\n",
            "\n"
          ]
        },
        {
          "output_type": "stream",
          "name": "stderr",
          "text": [
            "<ipython-input-16-b4e27d9971bf>:6: VisibleDeprecationWarning: Creating an ndarray from ragged nested sequences (which is a list-or-tuple of lists-or-tuples-or ndarrays with different lengths or shapes) is deprecated. If you meant to do this, you must specify 'dtype=object' when creating the ndarray.\n",
            "  distance.append(np.linalg.norm(np.array(sample1[i])-np.array(sample2[j])))\n"
          ]
        }
      ],
      "source": [
        "while m>1:\n",
        "    print('Sample size before clustering    :',m)\n",
        "    Distance_mat      = compute_distance(samples)\n",
        "    sample_ind_needed = np.where(Distance_mat==Distance_mat.min())[0]\n",
        "    value_to_add      = samples.pop(sample_ind_needed[1])\n",
        "    samples[sample_ind_needed[0]].append(value_to_add)\n",
        "\n",
        "    print('Cluster Node 1                   :',progression[sample_ind_needed[0]])\n",
        "    print('Cluster Node 2                   :',progression[sample_ind_needed[1]])\n",
        "\n",
        "    progression[sample_ind_needed[0]].append(progression[sample_ind_needed[1]])\n",
        "    progression[sample_ind_needed[0]] = [progression[sample_ind_needed[0]]]\n",
        "    v = progression.pop(sample_ind_needed[1])\n",
        "    m = len(samples)\n",
        "\n",
        "    print('Progression(Current Sample)      :',progression)\n",
        "    print('Cluster attained                 :',progression[sample_ind_needed[0]])\n",
        "    print('Sample size after clustering     :',m)\n",
        "    print('\\n')"
      ]
    },
    {
      "cell_type": "markdown",
      "metadata": {
        "id": "-9vMYw4XgmeV"
      },
      "source": [
        "### Scipy Library Visualization\n",
        "We can also create a dendrogram using the existing module available in Scipy. The entire process of clustering is done in the backend and we can clearly get a dendrogram to show how many clusters are there and how hierarchy is formed in the cluster"
      ]
    },
    {
      "cell_type": "code",
      "execution_count": 23,
      "metadata": {
        "id": "6msjP9pNgmeW",
        "outputId": "1d261097-4221-4798-e4fc-e6163085c533",
        "colab": {
          "base_uri": "https://localhost:8080/",
          "height": 563
        }
      },
      "outputs": [
        {
          "output_type": "display_data",
          "data": {
            "text/plain": [
              "<Figure size 2500x1000 with 1 Axes>"
            ],
            "image/png": "[encoded data removed]"
          },
          "metadata": {}
        }
      ],
      "source": [
        "from scipy.cluster.hierarchy import dendrogram, linkage\n",
        "from matplotlib import pyplot as plt\n",
        "fig = plt.figure(figsize=(25, 10))\n",
        "plt.title(\"Hierarchical Clustering Dendrogram\")\n",
        "plt.xlabel(\"Data Points\")\n",
        "plt.ylabel(\"Distance\")\n",
        "dn = dendrogram(linkage(X, 'single'))"
      ]
    },
    {
      "cell_type": "markdown",
      "metadata": {
        "id": "_-EOZf2XgmeW"
      },
      "source": [
        "<b>Comparison with our implementation:</b> We can clearly see that our implementation give the exact same clusters as the one shown in the dendrogram.\n"
      ]
    },
    {
      "cell_type": "markdown",
      "source": [
        "### Exercise\n",
        "1. According to the dedrogram, which sample is most similar to sample 5?\n",
        "2. We used the single linkage in our case. Modify the existing code to implement complete linkage.\n",
        "3. Modify the existing code to implement average-linkage."
      ],
      "metadata": {
        "id": "6TVDtsH0OjgP"
      }
    },
    {
      "cell_type": "markdown",
      "source": [
        "### References\n",
        "- https://github.com/OlaPietka/Agglomerative-Hierarchical-Clustering-from-scratch/tree/main\n",
        "- https://github.com/Darkprogrammerpb/DeepLearningProjects_when_I_was_a_noob/tree/master/Project40\n",
        "- https://www.mltut.com/hierarchical-clustering-in-python-step-by-step-complete-guide/"
      ],
      "metadata": {
        "id": "pJwplOgVBvx6"
      }
    }
  ],
  "metadata": {
    "kernelspec": {
      "display_name": "Python 3",
      "language": "python",
      "name": "python3"
    },
    "language_info": {
      "codemirror_mode": {
        "name": "ipython",
        "version": 3
      },
      "file_extension": ".py",
      "mimetype": "text/x-python",
      "name": "python",
      "nbconvert_exporter": "python",
      "pygments_lexer": "ipython3",
      "version": "3.7.4"
    },
    "colab": {
      "provenance": [],
      "include_colab_link": true
    }
  },
  "nbformat": 4,
  "nbformat_minor": 0
}