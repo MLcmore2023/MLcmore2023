{
  "cells": [
    {
      "cell_type": "markdown",
      "metadata": {
        "id": "view-in-github",
        "colab_type": "text"
      },
      "source": [
        "<a href=\"https://colab.research.google.com/github/MLcmore2023/MLcmore2023/blob/main/rnn.ipynb\" target=\"_parent\"><img src=\"https://colab.research.google.com/assets/colab-badge.svg\" alt=\"Open In Colab\"/></a>"
      ]
    },
    {
      "cell_type": "code",
      "source": [
        "# numpy syntax explanation\n",
        "import numpy as np\n",
        "array1D = np.array([1,2,3,4,5])\n",
        "print(\"array1D\\n\",array1D)\n",
        "\n",
        "transposed_array2D = array1D[:,np.newaxis]\n",
        "print(\"\\ntransposed_array2D\\n\",transposed_array2D)\n"
      ],
      "metadata": {
        "colab": {
          "base_uri": "https://localhost:8080/"
        },
        "id": "fszLp9DFjxQo",
        "outputId": "86edc0ef-9b76-4ffc-cda3-af37eb0bc1ed"
      },
      "execution_count": 149,
      "outputs": [
        {
          "output_type": "stream",
          "name": "stdout",
          "text": [
            "array1D\n",
            " [1 2 3 4 5]\n",
            "\n",
            "transposed_array2D\n",
            " [[1]\n",
            " [2]\n",
            " [3]\n",
            " [4]\n",
            " [5]]\n"
          ]
        }
      ]
    },
    {
      "cell_type": "markdown",
      "metadata": {
        "id": "4r_68xIBCzoZ"
      },
      "source": [
        "#  Recurrent Neural Network\n",
        "RNN is a supervised machine learning algorithm commonly used for sequential data tasks, such as natural language processing and time-series analysis (e.g. text generation and weather data). Inspired by the brain's neural connections, an RNN consists of interconnected nodes that process sequential data while retaining memory of previous inputs. The structure is very similar to other neural networks. RNN have weights, biases, layers and activation functions, but also feedback loop. The network's key components (recurrent connections  weights and biases) are adjusted during training to minimize the error between predicted and actual outputs. Due to their recurrent nature that allows information to persist across different time steps, RNN is good at capturing temporal patterns in sequential data."
      ]
    },
    {
      "cell_type": "markdown",
      "source": [
        "### Import libraries and initialize random generator"
      ],
      "metadata": {
        "id": "3ViT8WrMDLg1"
      }
    },
    {
      "cell_type": "code",
      "source": [
        "import pandas as pd\n",
        "import numpy as np\n",
        "np.random.seed(0)"
      ],
      "metadata": {
        "id": "7H7tze-TDGxF"
      },
      "execution_count": 150,
      "outputs": []
    },
    {
      "cell_type": "markdown",
      "source": [
        "### Download data"
      ],
      "metadata": {
        "id": "SV8nTrmSDrRL"
      }
    },
    {
      "cell_type": "code",
      "source": [
        "!wget https://raw.githubusercontent.com/VikParuchuri/zero_to_gpt/master/data/clean_weather.csv"
      ],
      "metadata": {
        "colab": {
          "base_uri": "https://localhost:8080/"
        },
        "id": "f0RNVzotDtg1",
        "outputId": "b0643d68-b8a8-4fb4-e4f0-a0f50fbb7ce5"
      },
      "execution_count": 151,
      "outputs": [
        {
          "output_type": "stream",
          "name": "stdout",
          "text": [
            "--2023-07-24 20:25:05--  https://raw.githubusercontent.com/VikParuchuri/zero_to_gpt/master/data/clean_weather.csv\n",
            "Resolving raw.githubusercontent.com (raw.githubusercontent.com)... 185.199.108.133, 185.199.109.133, 185.199.110.133, ...\n",
            "Connecting to raw.githubusercontent.com (raw.githubusercontent.com)|185.199.108.133|:443... connected.\n",
            "HTTP request sent, awaiting response... 200 OK\n",
            "Length: 406454 (397K) [text/plain]\n",
            "Saving to: ‘clean_weather.csv.3’\n",
            "\n",
            "clean_weather.csv.3 100%[===================>] 396.93K  --.-KB/s    in 0.02s   \n",
            "\n",
            "2023-07-24 20:25:05 (17.7 MB/s) - ‘clean_weather.csv.3’ saved [406454/406454]\n",
            "\n"
          ]
        }
      ]
    },
    {
      "cell_type": "markdown",
      "source": [
        "### Read Data from csv\n",
        "In this tutorial, we will use RNN to predict future temperatures using sequences of weather observations. This data contains the Fahrenheit temperature and rain from 1970 to 2022. We will only use the max temperature for now.\n"
      ],
      "metadata": {
        "id": "h-UvQFXtDHP8"
      }
    },
    {
      "cell_type": "code",
      "execution_count": 152,
      "metadata": {
        "colab": {
          "base_uri": "https://localhost:8080/",
          "height": 423
        },
        "id": "3DZB5y7jCzod",
        "outputId": "1ed2ec8f-852e-4213-9982-1e80cf6a3954"
      },
      "outputs": [
        {
          "output_type": "display_data",
          "data": {
            "text/plain": [
              "            tmax  tmin  rain  tmax_tomorrow\n",
              "1970-01-01  60.0  35.0   0.0           52.0\n",
              "1970-01-02  52.0  39.0   0.0           52.0\n",
              "1970-01-03  52.0  35.0   0.0           53.0\n",
              "1970-01-04  53.0  36.0   0.0           52.0\n",
              "1970-01-05  52.0  35.0   0.0           50.0\n",
              "...          ...   ...   ...            ...\n",
              "2022-11-22  62.0  35.0   0.0           67.0\n",
              "2022-11-23  67.0  38.0   0.0           66.0\n",
              "2022-11-24  66.0  41.0   0.0           70.0\n",
              "2022-11-25  70.0  39.0   0.0           62.0\n",
              "2022-11-26  62.0  41.0   0.0           64.0\n",
              "\n",
              "[13509 rows x 4 columns]"
            ],
            "text/html": [
              "\n",
              "\n",
              "  <div id=\"df-ed12b739-3744-4d08-898f-519f31887a16\">\n",
              "    <div class=\"colab-df-container\">\n",
              "      <div>\n",
              "<style scoped>\n",
              "    .dataframe tbody tr th:only-of-type {\n",
              "        vertical-align: middle;\n",
              "    }\n",
              "\n",
              "    .dataframe tbody tr th {\n",
              "        vertical-align: top;\n",
              "    }\n",
              "\n",
              "    .dataframe thead th {\n",
              "        text-align: right;\n",
              "    }\n",
              "</style>\n",
              "<table border=\"1\" class=\"dataframe\">\n",
              "  <thead>\n",
              "    <tr style=\"text-align: right;\">\n",
              "      <th></th>\n",
              "      <th>tmax</th>\n",
              "      <th>tmin</th>\n",
              "      <th>rain</th>\n",
              "      <th>tmax_tomorrow</th>\n",
              "    </tr>\n",
              "  </thead>\n",
              "  <tbody>\n",
              "    <tr>\n",
              "      <th>1970-01-01</th>\n",
              "      <td>60.0</td>\n",
              "      <td>35.0</td>\n",
              "      <td>0.0</td>\n",
              "      <td>52.0</td>\n",
              "    </tr>\n",
              "    <tr>\n",
              "      <th>1970-01-02</th>\n",
              "      <td>52.0</td>\n",
              "      <td>39.0</td>\n",
              "      <td>0.0</td>\n",
              "      <td>52.0</td>\n",
              "    </tr>\n",
              "    <tr>\n",
              "      <th>1970-01-03</th>\n",
              "      <td>52.0</td>\n",
              "      <td>35.0</td>\n",
              "      <td>0.0</td>\n",
              "      <td>53.0</td>\n",
              "    </tr>\n",
              "    <tr>\n",
              "      <th>1970-01-04</th>\n",
              "      <td>53.0</td>\n",
              "      <td>36.0</td>\n",
              "      <td>0.0</td>\n",
              "      <td>52.0</td>\n",
              "    </tr>\n",
              "    <tr>\n",
              "      <th>1970-01-05</th>\n",
              "      <td>52.0</td>\n",
              "      <td>35.0</td>\n",
              "      <td>0.0</td>\n",
              "      <td>50.0</td>\n",
              "    </tr>\n",
              "    <tr>\n",
              "      <th>...</th>\n",
              "      <td>...</td>\n",
              "      <td>...</td>\n",
              "      <td>...</td>\n",
              "      <td>...</td>\n",
              "    </tr>\n",
              "    <tr>\n",
              "      <th>2022-11-22</th>\n",
              "      <td>62.0</td>\n",
              "      <td>35.0</td>\n",
              "      <td>0.0</td>\n",
              "      <td>67.0</td>\n",
              "    </tr>\n",
              "    <tr>\n",
              "      <th>2022-11-23</th>\n",
              "      <td>67.0</td>\n",
              "      <td>38.0</td>\n",
              "      <td>0.0</td>\n",
              "      <td>66.0</td>\n",
              "    </tr>\n",
              "    <tr>\n",
              "      <th>2022-11-24</th>\n",
              "      <td>66.0</td>\n",
              "      <td>41.0</td>\n",
              "      <td>0.0</td>\n",
              "      <td>70.0</td>\n",
              "    </tr>\n",
              "    <tr>\n",
              "      <th>2022-11-25</th>\n",
              "      <td>70.0</td>\n",
              "      <td>39.0</td>\n",
              "      <td>0.0</td>\n",
              "      <td>62.0</td>\n",
              "    </tr>\n",
              "    <tr>\n",
              "      <th>2022-11-26</th>\n",
              "      <td>62.0</td>\n",
              "      <td>41.0</td>\n",
              "      <td>0.0</td>\n",
              "      <td>64.0</td>\n",
              "    </tr>\n",
              "  </tbody>\n",
              "</table>\n",
              "<p>13509 rows × 4 columns</p>\n",
              "</div>\n",
              "      <button class=\"colab-df-convert\" onclick=\"convertToInteractive('df-ed12b739-3744-4d08-898f-519f31887a16')\"\n",
              "              title=\"Convert this dataframe to an interactive table.\"\n",
              "              style=\"display:none;\">\n",
              "\n",
              "  <svg xmlns=\"http://www.w3.org/2000/svg\" height=\"24px\"viewBox=\"0 0 24 24\"\n",
              "       width=\"24px\">\n",
              "    <path d=\"M0 0h24v24H0V0z\" fill=\"none\"/>\n",
              "    <path d=\"M18.56 5.44l.94 2.06.94-2.06 2.06-.94-2.06-.94-.94-2.06-.94 2.06-2.06.94zm-11 1L8.5 8.5l.94-2.06 2.06-.94-2.06-.94L8.5 2.5l-.94 2.06-2.06.94zm10 10l.94 2.06.94-2.06 2.06-.94-2.06-.94-.94-2.06-.94 2.06-2.06.94z\"/><path d=\"M17.41 7.96l-1.37-1.37c-.4-.4-.92-.59-1.43-.59-.52 0-1.04.2-1.43.59L10.3 9.45l-7.72 7.72c-.78.78-.78 2.05 0 2.83L4 21.41c.39.39.9.59 1.41.59.51 0 1.02-.2 1.41-.59l7.78-7.78 2.81-2.81c.8-.78.8-2.07 0-2.86zM5.41 20L4 18.59l7.72-7.72 1.47 1.35L5.41 20z\"/>\n",
              "  </svg>\n",
              "      </button>\n",
              "\n",
              "\n",
              "\n",
              "    <div id=\"df-9ad6539c-83f5-4e82-a689-aeb716b7220a\">\n",
              "      <button class=\"colab-df-quickchart\" onclick=\"quickchart('df-9ad6539c-83f5-4e82-a689-aeb716b7220a')\"\n",
              "              title=\"Suggest charts.\"\n",
              "              style=\"display:none;\">\n",
              "\n",
              "<svg xmlns=\"http://www.w3.org/2000/svg\" height=\"24px\"viewBox=\"0 0 24 24\"\n",
              "     width=\"24px\">\n",
              "    <g>\n",
              "        <path d=\"M19 3H5c-1.1 0-2 .9-2 2v14c0 1.1.9 2 2 2h14c1.1 0 2-.9 2-2V5c0-1.1-.9-2-2-2zM9 17H7v-7h2v7zm4 0h-2V7h2v10zm4 0h-2v-4h2v4z\"/>\n",
              "    </g>\n",
              "</svg>\n",
              "      </button>\n",
              "    </div>\n",
              "\n",
              "<style>\n",
              "  .colab-df-quickchart {\n",
              "    background-color: #E8F0FE;\n",
              "    border: none;\n",
              "    border-radius: 50%;\n",
              "    cursor: pointer;\n",
              "    display: none;\n",
              "    fill: #1967D2;\n",
              "    height: 32px;\n",
              "    padding: 0 0 0 0;\n",
              "    width: 32px;\n",
              "  }\n",
              "\n",
              "  .colab-df-quickchart:hover {\n",
              "    background-color: #E2EBFA;\n",
              "    box-shadow: 0px 1px 2px rgba(60, 64, 67, 0.3), 0px 1px 3px 1px rgba(60, 64, 67, 0.15);\n",
              "    fill: #174EA6;\n",
              "  }\n",
              "\n",
              "  [theme=dark] .colab-df-quickchart {\n",
              "    background-color: #3B4455;\n",
              "    fill: #D2E3FC;\n",
              "  }\n",
              "\n",
              "  [theme=dark] .colab-df-quickchart:hover {\n",
              "    background-color: #434B5C;\n",
              "    box-shadow: 0px 1px 3px 1px rgba(0, 0, 0, 0.15);\n",
              "    filter: drop-shadow(0px 1px 2px rgba(0, 0, 0, 0.3));\n",
              "    fill: #FFFFFF;\n",
              "  }\n",
              "</style>\n",
              "\n",
              "    <script>\n",
              "      async function quickchart(key) {\n",
              "        const containerElement = document.querySelector('#' + key);\n",
              "        const charts = await google.colab.kernel.invokeFunction(\n",
              "            'suggestCharts', [key], {});\n",
              "      }\n",
              "    </script>\n",
              "\n",
              "      <script>\n",
              "\n",
              "function displayQuickchartButton(domScope) {\n",
              "  let quickchartButtonEl =\n",
              "    domScope.querySelector('#df-9ad6539c-83f5-4e82-a689-aeb716b7220a button.colab-df-quickchart');\n",
              "  quickchartButtonEl.style.display =\n",
              "    google.colab.kernel.accessAllowed ? 'block' : 'none';\n",
              "}\n",
              "\n",
              "        displayQuickchartButton(document);\n",
              "      </script>\n",
              "      <style>\n",
              "    .colab-df-container {\n",
              "      display:flex;\n",
              "      flex-wrap:wrap;\n",
              "      gap: 12px;\n",
              "    }\n",
              "\n",
              "    .colab-df-convert {\n",
              "      background-color: #E8F0FE;\n",
              "      border: none;\n",
              "      border-radius: 50%;\n",
              "      cursor: pointer;\n",
              "      display: none;\n",
              "      fill: #1967D2;\n",
              "      height: 32px;\n",
              "      padding: 0 0 0 0;\n",
              "      width: 32px;\n",
              "    }\n",
              "\n",
              "    .colab-df-convert:hover {\n",
              "      background-color: #E2EBFA;\n",
              "      box-shadow: 0px 1px 2px rgba(60, 64, 67, 0.3), 0px 1px 3px 1px rgba(60, 64, 67, 0.15);\n",
              "      fill: #174EA6;\n",
              "    }\n",
              "\n",
              "    [theme=dark] .colab-df-convert {\n",
              "      background-color: #3B4455;\n",
              "      fill: #D2E3FC;\n",
              "    }\n",
              "\n",
              "    [theme=dark] .colab-df-convert:hover {\n",
              "      background-color: #434B5C;\n",
              "      box-shadow: 0px 1px 3px 1px rgba(0, 0, 0, 0.15);\n",
              "      filter: drop-shadow(0px 1px 2px rgba(0, 0, 0, 0.3));\n",
              "      fill: #FFFFFF;\n",
              "    }\n",
              "  </style>\n",
              "\n",
              "      <script>\n",
              "        const buttonEl =\n",
              "          document.querySelector('#df-ed12b739-3744-4d08-898f-519f31887a16 button.colab-df-convert');\n",
              "        buttonEl.style.display =\n",
              "          google.colab.kernel.accessAllowed ? 'block' : 'none';\n",
              "\n",
              "        async function convertToInteractive(key) {\n",
              "          const element = document.querySelector('#df-ed12b739-3744-4d08-898f-519f31887a16');\n",
              "          const dataTable =\n",
              "            await google.colab.kernel.invokeFunction('convertToInteractive',\n",
              "                                                     [key], {});\n",
              "          if (!dataTable) return;\n",
              "\n",
              "          const docLinkHtml = 'Like what you see? Visit the ' +\n",
              "            '<a target=\"_blank\" href=https://colab.research.google.com/notebooks/data_table.ipynb>data table notebook</a>'\n",
              "            + ' to learn more about interactive tables.';\n",
              "          element.innerHTML = '';\n",
              "          dataTable['output_type'] = 'display_data';\n",
              "          await google.colab.output.renderOutput(dataTable, element);\n",
              "          const docLink = document.createElement('div');\n",
              "          docLink.innerHTML = docLinkHtml;\n",
              "          element.appendChild(docLink);\n",
              "        }\n",
              "      </script>\n",
              "    </div>\n",
              "  </div>\n"
            ]
          },
          "metadata": {}
        }
      ],
      "source": [
        "data = pd.read_csv(\"clean_weather.csv\", index_col=0)\n",
        "display(data)"
      ]
    },
    {
      "cell_type": "code",
      "source": [
        "# fill missing values\n",
        "data = data.ffill()\n",
        "display(data)"
      ],
      "metadata": {
        "colab": {
          "base_uri": "https://localhost:8080/",
          "height": 423
        },
        "id": "156MV9alJKKQ",
        "outputId": "16859905-c4fa-4cf9-b642-5d4c14c45d83"
      },
      "execution_count": 153,
      "outputs": [
        {
          "output_type": "display_data",
          "data": {
            "text/plain": [
              "            tmax  tmin  rain  tmax_tomorrow\n",
              "1970-01-01  60.0  35.0   0.0           52.0\n",
              "1970-01-02  52.0  39.0   0.0           52.0\n",
              "1970-01-03  52.0  35.0   0.0           53.0\n",
              "1970-01-04  53.0  36.0   0.0           52.0\n",
              "1970-01-05  52.0  35.0   0.0           50.0\n",
              "...          ...   ...   ...            ...\n",
              "2022-11-22  62.0  35.0   0.0           67.0\n",
              "2022-11-23  67.0  38.0   0.0           66.0\n",
              "2022-11-24  66.0  41.0   0.0           70.0\n",
              "2022-11-25  70.0  39.0   0.0           62.0\n",
              "2022-11-26  62.0  41.0   0.0           64.0\n",
              "\n",
              "[13509 rows x 4 columns]"
            ],
            "text/html": [
              "\n",
              "\n",
              "  <div id=\"df-c5a65d7b-7e23-4bd6-ac9b-4cd52696c4c9\">\n",
              "    <div class=\"colab-df-container\">\n",
              "      <div>\n",
              "<style scoped>\n",
              "    .dataframe tbody tr th:only-of-type {\n",
              "        vertical-align: middle;\n",
              "    }\n",
              "\n",
              "    .dataframe tbody tr th {\n",
              "        vertical-align: top;\n",
              "    }\n",
              "\n",
              "    .dataframe thead th {\n",
              "        text-align: right;\n",
              "    }\n",
              "</style>\n",
              "<table border=\"1\" class=\"dataframe\">\n",
              "  <thead>\n",
              "    <tr style=\"text-align: right;\">\n",
              "      <th></th>\n",
              "      <th>tmax</th>\n",
              "      <th>tmin</th>\n",
              "      <th>rain</th>\n",
              "      <th>tmax_tomorrow</th>\n",
              "    </tr>\n",
              "  </thead>\n",
              "  <tbody>\n",
              "    <tr>\n",
              "      <th>1970-01-01</th>\n",
              "      <td>60.0</td>\n",
              "      <td>35.0</td>\n",
              "      <td>0.0</td>\n",
              "      <td>52.0</td>\n",
              "    </tr>\n",
              "    <tr>\n",
              "      <th>1970-01-02</th>\n",
              "      <td>52.0</td>\n",
              "      <td>39.0</td>\n",
              "      <td>0.0</td>\n",
              "      <td>52.0</td>\n",
              "    </tr>\n",
              "    <tr>\n",
              "      <th>1970-01-03</th>\n",
              "      <td>52.0</td>\n",
              "      <td>35.0</td>\n",
              "      <td>0.0</td>\n",
              "      <td>53.0</td>\n",
              "    </tr>\n",
              "    <tr>\n",
              "      <th>1970-01-04</th>\n",
              "      <td>53.0</td>\n",
              "      <td>36.0</td>\n",
              "      <td>0.0</td>\n",
              "      <td>52.0</td>\n",
              "    </tr>\n",
              "    <tr>\n",
              "      <th>1970-01-05</th>\n",
              "      <td>52.0</td>\n",
              "      <td>35.0</td>\n",
              "      <td>0.0</td>\n",
              "      <td>50.0</td>\n",
              "    </tr>\n",
              "    <tr>\n",
              "      <th>...</th>\n",
              "      <td>...</td>\n",
              "      <td>...</td>\n",
              "      <td>...</td>\n",
              "      <td>...</td>\n",
              "    </tr>\n",
              "    <tr>\n",
              "      <th>2022-11-22</th>\n",
              "      <td>62.0</td>\n",
              "      <td>35.0</td>\n",
              "      <td>0.0</td>\n",
              "      <td>67.0</td>\n",
              "    </tr>\n",
              "    <tr>\n",
              "      <th>2022-11-23</th>\n",
              "      <td>67.0</td>\n",
              "      <td>38.0</td>\n",
              "      <td>0.0</td>\n",
              "      <td>66.0</td>\n",
              "    </tr>\n",
              "    <tr>\n",
              "      <th>2022-11-24</th>\n",
              "      <td>66.0</td>\n",
              "      <td>41.0</td>\n",
              "      <td>0.0</td>\n",
              "      <td>70.0</td>\n",
              "    </tr>\n",
              "    <tr>\n",
              "      <th>2022-11-25</th>\n",
              "      <td>70.0</td>\n",
              "      <td>39.0</td>\n",
              "      <td>0.0</td>\n",
              "      <td>62.0</td>\n",
              "    </tr>\n",
              "    <tr>\n",
              "      <th>2022-11-26</th>\n",
              "      <td>62.0</td>\n",
              "      <td>41.0</td>\n",
              "      <td>0.0</td>\n",
              "      <td>64.0</td>\n",
              "    </tr>\n",
              "  </tbody>\n",
              "</table>\n",
              "<p>13509 rows × 4 columns</p>\n",
              "</div>\n",
              "      <button class=\"colab-df-convert\" onclick=\"convertToInteractive('df-c5a65d7b-7e23-4bd6-ac9b-4cd52696c4c9')\"\n",
              "              title=\"Convert this dataframe to an interactive table.\"\n",
              "              style=\"display:none;\">\n",
              "\n",
              "  <svg xmlns=\"http://www.w3.org/2000/svg\" height=\"24px\"viewBox=\"0 0 24 24\"\n",
              "       width=\"24px\">\n",
              "    <path d=\"M0 0h24v24H0V0z\" fill=\"none\"/>\n",
              "    <path d=\"M18.56 5.44l.94 2.06.94-2.06 2.06-.94-2.06-.94-.94-2.06-.94 2.06-2.06.94zm-11 1L8.5 8.5l.94-2.06 2.06-.94-2.06-.94L8.5 2.5l-.94 2.06-2.06.94zm10 10l.94 2.06.94-2.06 2.06-.94-2.06-.94-.94-2.06-.94 2.06-2.06.94z\"/><path d=\"M17.41 7.96l-1.37-1.37c-.4-.4-.92-.59-1.43-.59-.52 0-1.04.2-1.43.59L10.3 9.45l-7.72 7.72c-.78.78-.78 2.05 0 2.83L4 21.41c.39.39.9.59 1.41.59.51 0 1.02-.2 1.41-.59l7.78-7.78 2.81-2.81c.8-.78.8-2.07 0-2.86zM5.41 20L4 18.59l7.72-7.72 1.47 1.35L5.41 20z\"/>\n",
              "  </svg>\n",
              "      </button>\n",
              "\n",
              "\n",
              "\n",
              "    <div id=\"df-d3a29002-697b-47c9-b906-66e44e38084e\">\n",
              "      <button class=\"colab-df-quickchart\" onclick=\"quickchart('df-d3a29002-697b-47c9-b906-66e44e38084e')\"\n",
              "              title=\"Suggest charts.\"\n",
              "              style=\"display:none;\">\n",
              "\n",
              "<svg xmlns=\"http://www.w3.org/2000/svg\" height=\"24px\"viewBox=\"0 0 24 24\"\n",
              "     width=\"24px\">\n",
              "    <g>\n",
              "        <path d=\"M19 3H5c-1.1 0-2 .9-2 2v14c0 1.1.9 2 2 2h14c1.1 0 2-.9 2-2V5c0-1.1-.9-2-2-2zM9 17H7v-7h2v7zm4 0h-2V7h2v10zm4 0h-2v-4h2v4z\"/>\n",
              "    </g>\n",
              "</svg>\n",
              "      </button>\n",
              "    </div>\n",
              "\n",
              "<style>\n",
              "  .colab-df-quickchart {\n",
              "    background-color: #E8F0FE;\n",
              "    border: none;\n",
              "    border-radius: 50%;\n",
              "    cursor: pointer;\n",
              "    display: none;\n",
              "    fill: #1967D2;\n",
              "    height: 32px;\n",
              "    padding: 0 0 0 0;\n",
              "    width: 32px;\n",
              "  }\n",
              "\n",
              "  .colab-df-quickchart:hover {\n",
              "    background-color: #E2EBFA;\n",
              "    box-shadow: 0px 1px 2px rgba(60, 64, 67, 0.3), 0px 1px 3px 1px rgba(60, 64, 67, 0.15);\n",
              "    fill: #174EA6;\n",
              "  }\n",
              "\n",
              "  [theme=dark] .colab-df-quickchart {\n",
              "    background-color: #3B4455;\n",
              "    fill: #D2E3FC;\n",
              "  }\n",
              "\n",
              "  [theme=dark] .colab-df-quickchart:hover {\n",
              "    background-color: #434B5C;\n",
              "    box-shadow: 0px 1px 3px 1px rgba(0, 0, 0, 0.15);\n",
              "    filter: drop-shadow(0px 1px 2px rgba(0, 0, 0, 0.3));\n",
              "    fill: #FFFFFF;\n",
              "  }\n",
              "</style>\n",
              "\n",
              "    <script>\n",
              "      async function quickchart(key) {\n",
              "        const containerElement = document.querySelector('#' + key);\n",
              "        const charts = await google.colab.kernel.invokeFunction(\n",
              "            'suggestCharts', [key], {});\n",
              "      }\n",
              "    </script>\n",
              "\n",
              "      <script>\n",
              "\n",
              "function displayQuickchartButton(domScope) {\n",
              "  let quickchartButtonEl =\n",
              "    domScope.querySelector('#df-d3a29002-697b-47c9-b906-66e44e38084e button.colab-df-quickchart');\n",
              "  quickchartButtonEl.style.display =\n",
              "    google.colab.kernel.accessAllowed ? 'block' : 'none';\n",
              "}\n",
              "\n",
              "        displayQuickchartButton(document);\n",
              "      </script>\n",
              "      <style>\n",
              "    .colab-df-container {\n",
              "      display:flex;\n",
              "      flex-wrap:wrap;\n",
              "      gap: 12px;\n",
              "    }\n",
              "\n",
              "    .colab-df-convert {\n",
              "      background-color: #E8F0FE;\n",
              "      border: none;\n",
              "      border-radius: 50%;\n",
              "      cursor: pointer;\n",
              "      display: none;\n",
              "      fill: #1967D2;\n",
              "      height: 32px;\n",
              "      padding: 0 0 0 0;\n",
              "      width: 32px;\n",
              "    }\n",
              "\n",
              "    .colab-df-convert:hover {\n",
              "      background-color: #E2EBFA;\n",
              "      box-shadow: 0px 1px 2px rgba(60, 64, 67, 0.3), 0px 1px 3px 1px rgba(60, 64, 67, 0.15);\n",
              "      fill: #174EA6;\n",
              "    }\n",
              "\n",
              "    [theme=dark] .colab-df-convert {\n",
              "      background-color: #3B4455;\n",
              "      fill: #D2E3FC;\n",
              "    }\n",
              "\n",
              "    [theme=dark] .colab-df-convert:hover {\n",
              "      background-color: #434B5C;\n",
              "      box-shadow: 0px 1px 3px 1px rgba(0, 0, 0, 0.15);\n",
              "      filter: drop-shadow(0px 1px 2px rgba(0, 0, 0, 0.3));\n",
              "      fill: #FFFFFF;\n",
              "    }\n",
              "  </style>\n",
              "\n",
              "      <script>\n",
              "        const buttonEl =\n",
              "          document.querySelector('#df-c5a65d7b-7e23-4bd6-ac9b-4cd52696c4c9 button.colab-df-convert');\n",
              "        buttonEl.style.display =\n",
              "          google.colab.kernel.accessAllowed ? 'block' : 'none';\n",
              "\n",
              "        async function convertToInteractive(key) {\n",
              "          const element = document.querySelector('#df-c5a65d7b-7e23-4bd6-ac9b-4cd52696c4c9');\n",
              "          const dataTable =\n",
              "            await google.colab.kernel.invokeFunction('convertToInteractive',\n",
              "                                                     [key], {});\n",
              "          if (!dataTable) return;\n",
              "\n",
              "          const docLinkHtml = 'Like what you see? Visit the ' +\n",
              "            '<a target=\"_blank\" href=https://colab.research.google.com/notebooks/data_table.ipynb>data table notebook</a>'\n",
              "            + ' to learn more about interactive tables.';\n",
              "          element.innerHTML = '';\n",
              "          dataTable['output_type'] = 'display_data';\n",
              "          await google.colab.output.renderOutput(dataTable, element);\n",
              "          const docLink = document.createElement('div');\n",
              "          docLink.innerHTML = docLinkHtml;\n",
              "          element.appendChild(docLink);\n",
              "        }\n",
              "      </script>\n",
              "    </div>\n",
              "  </div>\n"
            ]
          },
          "metadata": {}
        }
      ]
    },
    {
      "cell_type": "markdown",
      "source": [
        "Each element in a sequence has a position.  We can think of those positions as being steps in time.  Here is a sequence of temperatures:\n"
      ],
      "metadata": {
        "id": "zp2lRtefDpET"
      }
    },
    {
      "cell_type": "code",
      "source": [
        "# Display a sequence of temperatures (first 10 days)\n",
        "first_ten_max_temp = data[\"tmax\"].head(10)\n",
        "display(first_ten_max_temp)"
      ],
      "metadata": {
        "colab": {
          "base_uri": "https://localhost:8080/",
          "height": 208
        },
        "id": "exU8GuEAD21X",
        "outputId": "aa77e659-d7cf-45f2-c9fd-2a1e2175450a"
      },
      "execution_count": 154,
      "outputs": [
        {
          "output_type": "display_data",
          "data": {
            "text/plain": [
              "1970-01-01    60.0\n",
              "1970-01-02    52.0\n",
              "1970-01-03    52.0\n",
              "1970-01-04    53.0\n",
              "1970-01-05    52.0\n",
              "1970-01-06    50.0\n",
              "1970-01-07    52.0\n",
              "1970-01-08    56.0\n",
              "1970-01-09    54.0\n",
              "1970-01-10    57.0\n",
              "Name: tmax, dtype: float64"
            ]
          },
          "metadata": {}
        }
      ]
    },
    {
      "cell_type": "markdown",
      "metadata": {
        "id": "UoBAsIxWCzog"
      },
      "source": [
        "The sequence has 10 elements.  The first sequence element (at time step 0, or 1970 Jan 1) is `60`.  The second sequence element (at time step 1, or 1970 Jan 2) is `52`, and so on.\n",
        "\n",
        "Let's say we want to predict the next element in the sequence (at time step `10`).  With a normal neural network, we have to treat each element in a sequence as a separate input feature, such as a CNN with 10 inputs. We could feed the above sequence as input into a neural network to predict the next temperature. However, such a CNN would only be able to take in sequences of size `10`. We want our network to be able to handle all of these inputs, even though they have different lengths. Moreover, these temperatures are all related. The temperature today affects the temperature tomorrow.  "
      ]
    },
    {
      "cell_type": "markdown",
      "source": [
        "## Visualize the data"
      ],
      "metadata": {
        "id": "i7znDlc5i6Rq"
      }
    },
    {
      "cell_type": "code",
      "source": [
        "# graph the temperature for 3 years (from 1970 to 1973)\n",
        "import matplotlib.pyplot as plt\n",
        "plt.figure(figsize=(10, 6))\n",
        "plt.plot(data[\"tmax\"][0:365*3], color='blue')\n",
        "plt.xlabel('Time Step')\n",
        "plt.ylabel('Temperature (Fahrenheit)')\n",
        "plt.grid(True)\n",
        "plt.show()"
      ],
      "metadata": {
        "colab": {
          "base_uri": "https://localhost:8080/",
          "height": 542
        },
        "id": "onfV85dKiWy8",
        "outputId": "a48a437d-8521-422f-ceff-0666c3535f1d"
      },
      "execution_count": 155,
      "outputs": [
        {
          "output_type": "display_data",
          "data": {
            "text/plain": [
              "<Figure size 1000x600 with 1 Axes>"
            ],
            "image/png": "[encoded data removed]"
          },
          "metadata": {}
        }
      ]
    },
    {
      "cell_type": "markdown",
      "source": [
        "## Rectified Linear Unit (ReLU) activation function\n",
        "ReLU is defined as ReLU(x) = max(0, x), which means it returns the input value if it is positive and zero otherwise. ReLU introduces non-linearity to the network, enabling it to learn complex patterns and representations. The derivative of ReLU is 1 for positive inputs and 0 for negative inputs, making it computationally efficient to calculate gradients during the backpropagation process. We will see more activation functions later.\n",
        "\n",
        "$$\\text{ReLU}(x) = \\max(0, x)$$\n",
        "\n",
        "$$\\frac{d}{dx} \\text{ReLU}(x) =\n",
        "\\begin{cases}\n",
        "      1 & \\text{if } x > 0 \\\\\n",
        "      0 & \\text{if } x \\leq 0\n",
        "\\end{cases}\n",
        "$$\n",
        "\n",
        "<img src=\"https://www.nomidl.com/wp-content/uploads/2022/04/image-10.png\" width=\"30%\">\n",
        "\n"
      ],
      "metadata": {
        "id": "fV_RMct-d0qS"
      }
    },
    {
      "cell_type": "code",
      "source": [
        "def relu(x):\n",
        "    return np.maximum(0, x)"
      ],
      "metadata": {
        "id": "rB7dNEZpd0C4"
      },
      "execution_count": 156,
      "outputs": []
    },
    {
      "cell_type": "markdown",
      "metadata": {
        "id": "_vT4Ssb_Czol"
      },
      "source": [
        "# RNN network structure\n",
        "An RNN works by sharing parameters (weights and biases) throughout a sequence. To simplify its explanation, a recurrent neural network can be shown as follows:\n",
        "\n",
        "\n",
        "![Rolled RNN](https://raw.githubusercontent.com/VikParuchuri/zero_to_gpt/81cf89f68143535b7361990aa0fc49d253399c65/explanations/images/rnn/rnn_rolled.svg)\n",
        "\n",
        "In this diagram, input data from a single time step is fed into the bottom of the RNN. It then goes through the input step (I) and the hidden step (H) before reaching the output step (O), which provides a prediction for the next element in the sequence.\n",
        "\n",
        "The arrow connecting H to itself is called recurrence.  It means that the hidden layers are connected to each other across sequence steps.  To see how this works, let's see the expanded representation of an RNN:\n",
        "\n",
        "![Unrolled RNN](https://raw.githubusercontent.com/VikParuchuri/zero_to_gpt/81cf89f68143535b7361990aa0fc49d253399c65/explanations/images/rnn/rnn_unrolled.svg)\n",
        "\n",
        "Every temperature for a day is an element. Each sequence element is labeled at the bottom with the time step of the element.  The first element in the sequence is `t0` (which is the first day), the second is `t1` (second day), and so on.  You can see that each element is passed into the input step, then to the hidden step.  But the output of the hidden step is passed both to the output, and to the next hidden step.\n",
        "\n",
        "This means that at each step, the RNN retains information about the inputs from previous steps.  The \"memory\" of the network is stored in the hidden step (H), and represented as an internal matrix of values.  This matrix is continually updated at each time step, taking new information about the sequence."
      ]
    },
    {
      "cell_type": "markdown",
      "metadata": {
        "id": "lMUbZ3_ECzom"
      },
      "source": [
        "## RNN Operations\n",
        "We will see an example of the exact operations that happen at each step in an RNN:\n",
        "\n",
        "An RNN has 3 steps:\n",
        "- Input: take in a sequence item (temperature of a day), and multiply it by the input weight.\n",
        "- Hidden: Take the previous hidden state, and multiply it by the hidden weight.  Add it to the input, then apply a nonlinear activation function.\n",
        "- Output weight: Take the hidden state, and multiply by the output weight.\n",
        "\n",
        "We also add in biases at the hidden and output steps, but the biases are left off the diagram to make it easier to read.\n",
        "\n",
        "![Unrolled RNN](https://raw.githubusercontent.com/VikParuchuri/zero_to_gpt/81cf89f68143535b7361990aa0fc49d253399c65/explanations/images/rnn/rnn_operations.svg)\n",
        "\n",
        "The hidden state of the RNN stores information about previous sequence elements, which enables it to have memory.\n",
        "\n",
        "This way, the RNN can have knowledge of past elements in the sequence without having separate parameters for each sequence item.  This is called parameter sharing - the RNN shares the same set of input, hidden, and output weights for every sequence element.\n",
        "\n",
        "Therefore, RNN can take inputs of any length. This makes RNN more suitable for sequential data. For example, in text generation models, this allows us to predict the next word that came after a prompt, even if we don't know the length of the prompt beforehand.\n"
      ]
    },
    {
      "cell_type": "markdown",
      "source": [
        "## Feed forward manual simplified example\n",
        "Below shows a manual example of feed forward. It is not our final model, and is only to show the basic structure of RNN. We'll initialize each weight matrix, then do a sample feed forward with 3 sequence elements.\n",
        "We will initialize our network parameters using the numpy `random.rand` function to randomly create parameter matrices of a certain shape.  This network will take in a single input feature, turn it into `2` hidden features, and output one prediction.\n"
      ],
      "metadata": {
        "id": "35EE6MysIOh1"
      }
    },
    {
      "cell_type": "code",
      "execution_count": 157,
      "metadata": {
        "id": "-HgkmclrCzon"
      },
      "outputs": [],
      "source": [
        "# Take the input number and turn it into 2 features\n",
        "i_weight = np.random.rand(1,2)\n",
        "# Hidden to hidden weight connection - 2 features to 2 features\n",
        "h_weight = np.random.rand(2,2)\n",
        "# Output weight connection - turn 2 features into one prediction\n",
        "o_weight = np.random.rand(2,1)"
      ]
    },
    {
      "cell_type": "markdown",
      "source": [
        "We will use the last 3 day temperatures as the input."
      ],
      "metadata": {
        "collapsed": false,
        "id": "McF0xGsLCzon"
      }
    },
    {
      "cell_type": "code",
      "source": [
        "# Get 3 temperature values from our data\n",
        "temps = data[\"tmax\"].tail(3).to_numpy()\n",
        "print(temps)"
      ],
      "metadata": {
        "colab": {
          "base_uri": "https://localhost:8080/"
        },
        "id": "QZ3Ydm0bIv6p",
        "outputId": "397bbe7a-71b7-4fa2-b27d-09cff7ce9591"
      },
      "execution_count": 158,
      "outputs": [
        {
          "output_type": "stream",
          "name": "stdout",
          "text": [
            "[66. 70. 62.]\n"
          ]
        }
      ]
    },
    {
      "cell_type": "markdown",
      "source": [
        "We'll reshape each input value into a `1x1` matrix to make multiplication more convenient."
      ],
      "metadata": {
        "id": "XpNuOoAUJG7C"
      }
    },
    {
      "cell_type": "code",
      "execution_count": 159,
      "metadata": {
        "colab": {
          "base_uri": "https://localhost:8080/"
        },
        "id": "CbLmAfNDCzoo",
        "outputId": "694efd83-8a80-4255-899b-cd1628203841"
      },
      "outputs": [
        {
          "output_type": "stream",
          "name": "stdout",
          "text": [
            "[[66.]]\n"
          ]
        }
      ],
      "source": [
        "# Assign the sequence input at each time step to a different variable.\n",
        "# x0 means input at time step 0\n",
        "# Ensure that each element is a 1x1 matrix, so we can multiply it\n",
        "x0 = temps[0].reshape(1,1)\n",
        "x1 = temps[1].reshape(1,1)\n",
        "x2 = temps[2].reshape(1,1)\n",
        "print(x0)"
      ]
    },
    {
      "cell_type": "markdown",
      "metadata": {
        "id": "KPADg-MvCzoo"
      },
      "source": [
        "Now we feed the element at day 0 into our network:"
      ]
    },
    {
      "cell_type": "code",
      "execution_count": 160,
      "metadata": {
        "colab": {
          "base_uri": "https://localhost:8080/"
        },
        "id": "8zXfOS0uCzop",
        "outputId": "809be2a9-ce08-46fd-b0ee-45ede42f402b"
      },
      "outputs": [
        {
          "output_type": "stream",
          "name": "stdout",
          "text": [
            "[[57.94406231]]\n"
          ]
        }
      ],
      "source": [
        "# Calculate xi at time step 0\n",
        "xi_0 = np.dot(x0,i_weight)\n",
        "\n",
        "# There is no previous time step, so there is no hidden state\n",
        "# apply relu over the input to get the hidden state for time step 0 xh_0\n",
        "xh_0 = relu(xi_0)\n",
        "\n",
        "# Get the output at time step 0 xo_0\n",
        "xo_0 = np.dot(xh_0, o_weight)\n",
        "\n",
        "print(xo_0)"
      ]
    },
    {
      "cell_type": "markdown",
      "metadata": {
        "id": "Xd7hXwDOCzoq"
      },
      "source": [
        "`xo_0` is our prediction for the next step in the sequence.\n",
        "\n",
        "We can then move the network forward to time step `1` (next day's temperature):"
      ]
    },
    {
      "cell_type": "code",
      "execution_count": 161,
      "metadata": {
        "colab": {
          "base_uri": "https://localhost:8080/"
        },
        "id": "tsylhpk1Czoq",
        "outputId": "974ef4be-c280-4dfc-ac19-29994304b508"
      },
      "outputs": [
        {
          "output_type": "stream",
          "name": "stdout",
          "text": [
            "[[124.54916092]]\n"
          ]
        }
      ],
      "source": [
        "# We feed the input in the same way as the previous time step\n",
        "xi_1 = np.dot(x1, i_weight)\n",
        "\n",
        "# This time, we do have a previous time step, so we calculate xh\n",
        "# This is multiplying the previous hidden state xh_0 by the hidden weights\n",
        "xh = np.dot(xh_0, h_weight)\n",
        "\n",
        "# We add the previous hidden state (times h_weight) to the input at time step 1\n",
        "xh_1 = relu(xh + xi_1)\n",
        "\n",
        "# We again find the output by multiplying xh_1 by the output weight\n",
        "xo_1 = np.dot( xh_1 ,o_weight)\n",
        "\n",
        "print(xo_1)"
      ]
    },
    {
      "cell_type": "markdown",
      "metadata": {
        "id": "5pvBwGPCCzor"
      },
      "source": [
        "`xo_1` is our prediction for the next sequence element.  Now we can do the same for our final time step 2 (the third day):"
      ]
    },
    {
      "cell_type": "code",
      "execution_count": 162,
      "metadata": {
        "colab": {
          "base_uri": "https://localhost:8080/"
        },
        "id": "mVcnRHBTCzor",
        "outputId": "3cfa649b-0d93-49a3-d5a3-926ab3959e03"
      },
      "outputs": [
        {
          "output_type": "stream",
          "name": "stdout",
          "text": [
            "[[190.94853131]]\n"
          ]
        }
      ],
      "source": [
        "# We feed the input in the same way as the previous time step\n",
        "xi_2 = np.dot(x2, i_weight)\n",
        "\n",
        "# This time, we do have a previous time step, so we calculate xh\n",
        "# This is multiplying the previous hidden state xh_1 by the hidden weights\n",
        "xh = np.dot(xh_1, h_weight)\n",
        "\n",
        "# We add the previous hidden state (times h_weight) to the input at time step 2\n",
        "xh_2 = relu( xh + xi_2)\n",
        "\n",
        "# We again find the output by multiplying xh_1 by the output weight\n",
        "xo_2 = np.dot(xh_2, o_weight)\n",
        "\n",
        "print(xo_2)"
      ]
    },
    {
      "cell_type": "markdown",
      "metadata": {
        "id": "aQ79yNDbCzos"
      },
      "source": [
        "Now we finished passing through 3 forward steps of RNN. The output `xo` at each time step is the prediction for the next element in the sequence. The last output `xo_2` is the prediction for x3, which is the fourth day.\n",
        "\n",
        "The hidden state of the RNN allows the network to have information about all past sequence elements.  So when we're processing the sequence item at time step 2, the hidden state of the RNN stores information about the sequence elements at time step `0` and `1`."
      ]
    },
    {
      "cell_type": "markdown",
      "metadata": {
        "id": "kf1sqkdiCzos"
      },
      "source": [
        "## Issue of hidden state value increasing with time\n",
        "\n",
        "We can notice that the output values increased in each time step of our RNN. That's because the hidden states kept getting larger and larger.  Unlike the sigmoid or softmax activation functions, relu doesn't change the scale of the inputs at all (it just sets some to 0).  This means that some values get repeatedly multiplied and grow larger and larger.\n",
        "\n",
        "We can see that our hidden state at time step 2 is much larger than the initial hidden state"
      ]
    },
    {
      "cell_type": "code",
      "execution_count": 163,
      "metadata": {
        "colab": {
          "base_uri": "https://localhost:8080/"
        },
        "id": "WGAAo7iRCzos",
        "outputId": "07c6ddc0-29cf-43ff-d95c-c710a386875c"
      },
      "outputs": [
        {
          "output_type": "execute_result",
          "data": {
            "text/plain": [
              "array([[36.22169126, 47.20249818]])"
            ]
          },
          "metadata": {},
          "execution_count": 163
        }
      ],
      "source": [
        "xh_0"
      ]
    },
    {
      "cell_type": "code",
      "execution_count": 164,
      "metadata": {
        "colab": {
          "base_uri": "https://localhost:8080/"
        },
        "id": "Th_7KP_KCzot",
        "outputId": "f40af213-dfd6-40cc-bad6-957514876400"
      },
      "outputs": [
        {
          "output_type": "execute_result",
          "data": {
            "text/plain": [
              "array([[124.88411227, 152.84252918]])"
            ]
          },
          "metadata": {},
          "execution_count": 164
        }
      ],
      "source": [
        "xh_2"
      ]
    },
    {
      "cell_type": "markdown",
      "metadata": {
        "id": "TnFb0GLeCzou"
      },
      "source": [
        "## Tanh activation function\n",
        "To fix this, we usually use the $\\tanh$ activation function for RNNs.  \n",
        "\n",
        "The hyperbolic tangent is an activation function commonly used in neural networks. It maps the input values to the range (-1, 1), making it a good choice for normalization and handling data with negative and positive values. The tanh function is defined as:\n",
        "\n",
        "$$ \\text{tanh}(x) = \\frac{{e^x - e^{-x}}}{{e^x + e^{-x}}} $$\n",
        "\n",
        "<img src=\"\n",
        "https://mathworld.wolfram.com/images/interactive/TanhReal.gif\" width=\"30%\">\n",
        "\n",
        "\n",
        "\n",
        "As x gets large, $e^{x}$ gets very big, and $e^{-x}$ gets very small.  This pushes the output of $\\tanh$ towards `1`.  When x gets very small (negative), $e^{-x}$ gets very large, and $e^{x}$ gets very small.  This results in `-1`."
      ]
    },
    {
      "cell_type": "markdown",
      "metadata": {
        "id": "3j2ggCFGCzov"
      },
      "source": [
        "$\\tanh$ outputs values between `-1` and `1`.  It also has a very steep slope before and after `0` on the x-axis.  The tanh activation function is better for our purposes than sigmoid because it enables us to have negative values.  This enables the gradient to be steeper, which aids in gradient descent.\n",
        "\n"
      ]
    },
    {
      "cell_type": "markdown",
      "metadata": {
        "id": "CvWUfCE3Czow"
      },
      "source": [
        "\n",
        "$$ \\frac{{d}}{{dx}} \\text{{tanh}}(x) = 1 - \\text{{tanh}}^2(x) $$\n",
        "\n",
        "The derivative has a steep slope, making it ideal as an activation function - this will enable gradient descent to descend effectively.  We can now use $\\tanh$ instead of relu in our network."
      ]
    },
    {
      "cell_type": "code",
      "source": [
        "def tanh(x):\n",
        "  return np.tanh(x)\n",
        "\n",
        "def tanh_prime(x):\n",
        "  return 1- np.tanh(x)**2\n",
        "\n",
        "def tanh_prime_y(y):\n",
        "  return 1- y**2"
      ],
      "metadata": {
        "id": "KlNvW76ZNrRE"
      },
      "execution_count": 165,
      "outputs": []
    },
    {
      "cell_type": "markdown",
      "metadata": {
        "id": "bSzU4FtcCzow"
      },
      "source": [
        "## Feed Forward (full)\n",
        "\n",
        "We'll first initialize our weights and biases.  We only have bias terms in the hidden and output steps.\n",
        "\n",
        "We'll also scale the weights and biases to work properly with the $\\tanh$ nonlinearity.  We'll make our input and hidden weights small, so $\\tanh$ doesn't squash all the values to `1` or `-1`.  We'll make the output weight large, since the output of the hidden step will be small (between `1` and `-1`). This step is optional, since the network would eventually learn the correct parameters.  However, initializing weights and biases to the correct ranges will help gradient descent to minimize the errors faster."
      ]
    },
    {
      "cell_type": "code",
      "execution_count": 166,
      "metadata": {
        "id": "yx6cZ1D8Czox",
        "colab": {
          "base_uri": "https://localhost:8080/"
        },
        "outputId": "f5679fcc-d16a-4bcd-e7f1-dd7f0aab1bd9"
      },
      "outputs": [
        {
          "output_type": "stream",
          "name": "stdout",
          "text": [
            "[[ 0.09273255 -0.0233117   0.05834501  0.00577898  0.01360891]]\n",
            "[[ 0.08511933 -0.08579279 -0.08257414 -0.09595632  0.06652397]\n",
            " [ 0.05563135  0.07400243  0.09572367  0.05983171 -0.00770413]\n",
            " [ 0.05610584 -0.07634511  0.0279842  -0.07132934  0.08893378]\n",
            " [ 0.00436966 -0.01706761 -0.04708888  0.05484674 -0.00876993]\n",
            " [ 0.01368679 -0.09624204  0.0235271   0.02241914  0.0233868 ]]\n",
            "[[ 0.08874962  0.03636406 -0.02809842 -0.01259361  0.03952624]]\n"
          ]
        }
      ],
      "source": [
        "# Define our weights and biases\n",
        "# Scale them down so values get through the tanh nonlinearity\n",
        "i_weight = np.random.rand(1,5) / 5 - .1\n",
        "h_weight = np.random.rand(5,5) / 5 - .1\n",
        "h_bias = np.random.rand(1,5) / 5 - .1\n",
        "print(i_weight)\n",
        "print(h_weight)\n",
        "print(h_bias)"
      ]
    },
    {
      "cell_type": "code",
      "source": [
        "# Tanh pushes values to between -1 and 1, so scale up the output weights\n",
        "o_weight = np.random.rand(5,1) * 50\n",
        "o_bias = np.random.rand(1,1)\n",
        "print(o_weight)\n",
        "print(o_bias)"
      ],
      "metadata": {
        "colab": {
          "base_uri": "https://localhost:8080/"
        },
        "id": "6PyYaJ2BH6rd",
        "outputId": "0ad9faea-62af-4e28-b8d3-76066d583708"
      },
      "execution_count": 167,
      "outputs": [
        {
          "output_type": "stream",
          "name": "stdout",
          "text": [
            "[[ 3.01127358]\n",
            " [33.33833577]\n",
            " [33.53189348]\n",
            " [10.51912805]\n",
            " [ 6.44631488]]\n",
            "[[0.31542835]]\n"
          ]
        }
      ]
    },
    {
      "cell_type": "markdown",
      "source": [
        "Then we can write the feed forward as a for loop.  This loop will process sequence elements one by one.  We'll store the output prediction and the hidden state:"
      ],
      "metadata": {
        "collapsed": false,
        "id": "KEbUsw-iCzox"
      }
    },
    {
      "cell_type": "code",
      "execution_count": 168,
      "metadata": {
        "id": "6C6tN0pfCzox",
        "colab": {
          "base_uri": "https://localhost:8080/"
        },
        "outputId": "325c333b-b355-40a4-804c-239f197e32fa"
      },
      "outputs": [
        {
          "output_type": "stream",
          "name": "stdout",
          "text": [
            "[66. 70. 62.]\n"
          ]
        }
      ],
      "source": [
        "# An array to store the output predictions\n",
        "outputs = np.zeros(3)\n",
        "# An array to store hidden states for use in backpropagation\n",
        "hiddens = np.zeros((3, 5))\n",
        "\n",
        "# This will store the previous hidden state, since we'll need it to calculate the current hidden step\n",
        "prev_hidden = None\n",
        "sequence = data[\"tmax\"].tail(3).to_numpy()\n",
        "print(sequence)"
      ]
    },
    {
      "cell_type": "markdown",
      "source": [
        "This network will take in a single input feature, turn it into 5 hidden features, and output one prediction."
      ],
      "metadata": {
        "id": "JBO2CogTN_Ht"
      }
    },
    {
      "cell_type": "code",
      "source": [
        "for i in range(3):\n",
        "    # Get the input sequence at the given position\n",
        "    x = sequence[i].reshape(1,1)\n",
        "\n",
        "    # Multiply input by input weight\n",
        "    xi = np.dot(x, i_weight)\n",
        "    if prev_hidden is not None:\n",
        "        # Add previous hidden to input\n",
        "        xh = xi + np.dot(prev_hidden, h_weight) + h_bias\n",
        "    else:\n",
        "        xh = xi\n",
        "\n",
        "    # Apply the activation function\n",
        "    xh = tanh(xh)\n",
        "    prev_hidden = xh\n",
        "    hiddens[i,] = xh\n",
        "\n",
        "    # Multiply by the output weight\n",
        "    xo = xh @ o_weight + o_bias\n",
        "    outputs[i] = xo"
      ],
      "metadata": {
        "id": "LBCoL9bKMxeS"
      },
      "execution_count": 169,
      "outputs": []
    },
    {
      "cell_type": "markdown",
      "source": [
        "Afterwards, we can take a look at our outputs and hidden states.  As we can see, the hidden states don't increase constantly anymore:"
      ],
      "metadata": {
        "collapsed": false,
        "id": "9NIoLV6cCzoy"
      }
    },
    {
      "cell_type": "code",
      "execution_count": 170,
      "metadata": {
        "colab": {
          "base_uri": "https://localhost:8080/"
        },
        "id": "fYaHa_AfCzoy",
        "outputId": "1460c68b-b273-4fd8-9231-aafabbc1d702"
      },
      "outputs": [
        {
          "output_type": "execute_result",
          "data": {
            "text/plain": [
              "array([14.86774839, 12.40024082, 12.15491489])"
            ]
          },
          "metadata": {},
          "execution_count": 170
        }
      ],
      "source": [
        "outputs"
      ]
    },
    {
      "cell_type": "code",
      "execution_count": 171,
      "metadata": {
        "colab": {
          "base_uri": "https://localhost:8080/"
        },
        "id": "-dg2J726Czoz",
        "outputId": "30da4365-c696-4737-e483-6643833dc8f5"
      },
      "outputs": [
        {
          "output_type": "execute_result",
          "data": {
            "text/plain": [
              "array([[ 0.99999034, -0.91188009,  0.99909615,  0.3639339 ,  0.71541453],\n",
              "       [ 0.99999686, -0.95624332,  0.99920323,  0.2032835 ,  0.82365943],\n",
              "       [ 0.9999861 , -0.93840768,  0.99799829,  0.14974186,  0.78700449]])"
            ]
          },
          "metadata": {},
          "execution_count": 171
        }
      ],
      "source": [
        "hiddens"
      ]
    },
    {
      "cell_type": "markdown",
      "source": [
        "## Loss function: Mean Square Error\n",
        "Currently our model is making random predictions. To make it better (which is training) we need to first be able to measure its performance during training. Therefore, we need a loss function. The Mean Squared Error (MSE) is a common metric used to evaluate the performance of a regression model. It measures the average squared difference between the predicted values and the actual values in a dataset. By squaring the differences, the MSE penalizes large errors more heavily, emphasizing the importance of accurate predictions.\n",
        "\n",
        "$$\n",
        "MSE = \\frac{1}{n} \\sum_{i=1}^{n} (y_i - \\hat{y}_i)^2\n",
        "$$\n",
        "- $n$ is the number of data points in the dataset.\n",
        "- $y_i$ represents the actual (observed) value of the dependent variable for the $i$-th data point.\n",
        "- $\\hat{y}_i$ represents the predicted value of the dependent variable for the $i$-th data point.\n",
        "\n",
        "A lower MSE value indicates that the model's predictions are closer to the actual values, meaning a better fit of the model to the data. A higher MSE value indicates larger prediction errors and a poorer model fit.\n",
        "\n",
        "After we do our feed forward, we can calculate the gradient with respect to the network outputs using `mse_gradient`"
      ],
      "metadata": {
        "collapsed": false,
        "id": "zlWgfo6uCzoz"
      }
    },
    {
      "cell_type": "code",
      "execution_count": 172,
      "metadata": {
        "id": "_AsIG5KyCzoz"
      },
      "outputs": [],
      "source": [
        "def mse(actual, predicted):\n",
        "    return np.mean((actual-predicted)**2)\n",
        "\n",
        "def mse_gradient(actual, predicted):\n",
        "    return predicted - actual"
      ]
    },
    {
      "cell_type": "code",
      "execution_count": 173,
      "metadata": {
        "colab": {
          "base_uri": "https://localhost:8080/"
        },
        "id": "VXb00SYGCzo8",
        "outputId": "11922ac6-40ba-497b-f72f-6e5595818e85"
      },
      "outputs": [
        {
          "output_type": "stream",
          "name": "stdout",
          "text": [
            "[-55.13225161 -49.59975918 -52.84508511]\n"
          ]
        }
      ],
      "source": [
        "# Actual next day temperatures\n",
        "actuals_temperatures = np.array([70, 62, 65])\n",
        "\n",
        "loss_grad = mse_gradient(actuals_temperatures, outputs)\n",
        "print(loss_grad)"
      ]
    },
    {
      "cell_type": "markdown",
      "source": [
        "## Back Propagation\n",
        "With the loss function, we can calculate the error of the model. To minimize the error, we will use back propagation to updating our model parameters, just like other neural networks. The main difference in RNN is that parameters impact both the current output and future outputs.\n",
        "\n",
        "The last hidden step is only used by the output of the last time step, so adjusting the last step is the same as normal neural networks like CNN.\n",
        "\n",
        "![last hidden](https://raw.githubusercontent.com/VikParuchuri/zero_to_gpt/81cf89f68143535b7361990aa0fc49d253399c65/explanations/images/rnn/gradient_last.svg)\n",
        "\n",
        "But this is different for other hidden steps. The hidden step at time step 2 is connected to both the output and the next hidden state.  So it affects not just the current output, but all subsequent outputs.\n",
        "\n",
        "![prev hidden](https://raw.githubusercontent.com/VikParuchuri/zero_to_gpt/81cf89f68143535b7361990aa0fc49d253399c65/explanations/images/rnn/gradient_inside.svg)"
      ],
      "metadata": {
        "collapsed": false,
        "id": "HxdhRJP7Czo9"
      }
    },
    {
      "cell_type": "markdown",
      "source": [
        "We'll have to send the gradient with respect to each hidden step backwards to the previous sequence position.  This is called backpropagation through time, and it's how we train the parameters of an RNN.\n",
        "![rnn backward](https://raw.githubusercontent.com/VikParuchuri/zero_to_gpt/81cf89f68143535b7361990aa0fc49d253399c65/explanations/images/rnn/rnn_operations_bw.svg)\n"
      ],
      "metadata": {
        "collapsed": false,
        "id": "e7Z3Dfi6Czo9"
      }
    },
    {
      "cell_type": "markdown",
      "source": [
        "## Back propagation manual simplified example\n",
        "Below shows the back propagation process step by step for each sequence element.\n",
        "\n",
        "We first create variables to store the gradients with respect to each parameter, because we want to add up the gradients across time positions before making updates with gradient descent."
      ],
      "metadata": {
        "collapsed": false,
        "id": "McJeez6nCzo-"
      }
    },
    {
      "cell_type": "code",
      "execution_count": 174,
      "outputs": [],
      "source": [
        "# These will keep a running total of the gradients\n",
        "o_weight_grad, o_bias_grad, h_weight_grad, h_bias_grad, i_weight_grad = [0, 0, 0, 0,0 ]"
      ],
      "metadata": {
        "id": "JchLFIDqCzo-"
      }
    },
    {
      "cell_type": "markdown",
      "source": [
        "We start at the end and run backpropagation for the last sequence element.  In this case, there is no next hidden state, so we only need to worry about the gradient with respect to the output at the last step"
      ],
      "metadata": {
        "collapsed": false,
        "id": "OAc-tsV6Czo_"
      }
    },
    {
      "cell_type": "code",
      "execution_count": 175,
      "outputs": [],
      "source": [
        "# Get the loss with respect to the output at the current time step\n",
        "l2_grad = loss_grad[2].reshape(1,1) # layer2's gradient is the last item of the loss gradient\n",
        "\n",
        "# Multiply the output of the transposed hidden step by the l2 gradient\n",
        "# np.newaxis creates a new size 1 axis, effectively transposing the hiddens\n",
        "o_weight_grad += np.dot(hiddens[2][:,np.newaxis], l2_grad)\n",
        "# Add to the bias gradient.  Similar to CNN, this is just the mean of the l2_grad.\n",
        "o_bias_grad += np.mean(l2_grad)\n",
        "\n",
        "# Find the gradient wrt the hidden step output\n",
        "h2_grad = np.dot(l2_grad, o_weight.T)\n",
        "\n",
        "# Derivative of the tanh function\n",
        "tanh_deriv = tanh_prime_y(hiddens[2,:][np.newaxis,:])\n",
        "# Multiply each position in the h_grad by the tanh derivative - this \"undoes\" the tanh in the forward pass\n",
        "h2_grad = np.multiply(h2_grad, tanh_deriv)\n",
        "\n",
        "# Find how much we need to update the hidden weights by taking the input to the\n",
        "# hidden step (the output of the previous hidden step in the forward pass) @ h2_grad\n",
        "h_weight_grad += np.dot(hiddens[1,:][:,np.newaxis], h2_grad)\n",
        "h_bias_grad += np.mean(h2_grad)\n",
        "\n",
        "# This multiples the sequence value at time step 2 by the gradient\n",
        "i_weight_grad += np.dot(sequence[2].reshape(1,1).T, h2_grad)"
      ],
      "metadata": {
        "id": "SbUtMZI8Czo_"
      }
    },
    {
      "cell_type": "markdown",
      "source": [
        "A lot of the above step is very similar to CNN backpropagation.  The main difference comes in the next sequence position (1) where we need to consider multiple gradients at the hidden step:"
      ],
      "metadata": {
        "collapsed": false,
        "id": "xFOkG2wjCzo_"
      }
    },
    {
      "cell_type": "code",
      "execution_count": 112,
      "outputs": [],
      "source": [
        "# Get the loss with respect to the output at the current time step\n",
        "l1_grad = loss_grad[1].reshape(1,1)\n",
        "\n",
        "# Multiply the output of the transposed hidden step by the l1 gradient\n",
        "o_weight_grad += np.dot(hiddens[1][:,np.newaxis], l1_grad)\n",
        "# Add to the bias gradient.  Similar to CNN, this is just the mean of the l1_grad.\n",
        "o_bias_grad += np.mean(l1_grad)\n",
        "\n",
        "# Find the gradient wrt the hidden step output\n",
        "h1_grad = np.dot(l1_grad, o_weight.T)\n",
        "\n",
        "# The above operations are all the same\n",
        "\n",
        "# We do have a next sequence position (2), so we need to include that gradient\n",
        "# We multiply the h2 gradient by the weight to pull it back to the current sequence position\n",
        "h1_grad += np.dot(h2_grad , h_weight.T) # new for layer 1\n",
        "\n",
        "# The rest of the operation is the same\n",
        "tanh_deriv = tanh_prime_y(hiddens[1,:][np.newaxis,:])\n",
        "h1_grad = np.multiply(h1_grad, tanh_deriv)\n",
        "\n",
        "h_weight_grad += hiddens[1,:][:,np.newaxis] @ h1_grad\n",
        "h_bias_grad += np.mean(h1_grad)\n",
        "\n",
        "i_weight_grad += sequence[1].reshape(1,1).T @ h1_grad"
      ],
      "metadata": {
        "id": "FO7HKxOJCzpA"
      }
    },
    {
      "cell_type": "markdown",
      "source": [
        "Now, we can do the final sequence position, 0.  The main difference here is that we don't update the hidden gradient, since there is no previous sequence position that gave us hidden state input in the forward pass:"
      ],
      "metadata": {
        "collapsed": false,
        "id": "tBjRh2oKCzpA"
      }
    },
    {
      "cell_type": "code",
      "execution_count": 113,
      "outputs": [],
      "source": [
        "l0_grad = loss_grad[0].reshape(1,1)\n",
        "\n",
        "o_weight_grad += np.dot(hiddens[0][:,np.newaxis], l0_grad)\n",
        "o_bias_grad += np.mean(l0_grad)\n",
        "\n",
        "h0_grad = np.dot(l0_grad , o_weight.T)\n",
        "\n",
        "h0_grad += np.dot(h1_grad , h_weight.T)\n",
        "\n",
        "tanh_deriv = tanh_prime_y(hiddens[0,:][np.newaxis,:])\n",
        "h0_grad = np.multiply(h0_grad, tanh_deriv)\n",
        "\n",
        "# We don't update the hidden weight, since there was no previous hidden state\n",
        "# We can update the hidden bias if you want\n",
        "\n",
        "i_weight_grad += np.dot(sequence[0].reshape(1,1).T, h0_grad)"
      ],
      "metadata": {
        "id": "h-06sfBuCzpA"
      }
    },
    {
      "cell_type": "markdown",
      "source": [
        "We can now look at our gradient updates:"
      ],
      "metadata": {
        "collapsed": false,
        "id": "pWBTswORCzpB"
      }
    },
    {
      "cell_type": "code",
      "execution_count": 114,
      "outputs": [
        {
          "output_type": "execute_result",
          "data": {
            "text/plain": [
              "array([[-4.52649110e-01, -4.41352398e+04, -8.35799697e+02,\n",
              "        -1.05017331e+05, -2.65832538e+04]])"
            ]
          },
          "metadata": {},
          "execution_count": 114
        }
      ],
      "source": [
        "i_weight_grad"
      ],
      "metadata": {
        "colab": {
          "base_uri": "https://localhost:8080/"
        },
        "id": "-QSKWZSKCzpB",
        "outputId": "ac77c63c-ef89-4302-d985-7a2468a58cbe"
      }
    },
    {
      "cell_type": "markdown",
      "source": [
        "We've now completed backpropagation across 3 time steps!  We'll see how to make the gradient updates in the next section."
      ],
      "metadata": {
        "collapsed": false,
        "id": "NnhT-Y2FCzpB"
      }
    },
    {
      "cell_type": "markdown",
      "metadata": {
        "id": "XPcQMJ6xCzpC"
      },
      "source": [
        "## Backward Propagation using loopps\n",
        "\n",
        "Similar to the feed forward, we can implement the full backward pass as a loop.  Here it is:"
      ]
    },
    {
      "cell_type": "code",
      "execution_count": 115,
      "metadata": {
        "id": "gnum0QDfCzpC"
      },
      "outputs": [],
      "source": [
        "next_hidden = None # we don't have a hidden state after the last layer, so it start as none\n",
        "\n",
        "o_weight_grad, o_bias_grad, h_weight_grad, h_bias_grad, i_weight_grad = [0] * 5\n",
        "\n",
        "for i in range(2, -1, -1):\n",
        "    l_grad = loss_grad[i].reshape(1,1)\n",
        "\n",
        "    o_weight_grad += hiddens[i][:,np.newaxis] @ l_grad\n",
        "    o_bias_grad += np.mean(l_grad)\n",
        "\n",
        "    o_grad = l_grad @ o_weight.T\n",
        "\n",
        "    # Only add in the hidden gradient if a next sequence exists\n",
        "    if next_hidden is not None:\n",
        "        h_grad = o_grad + next_hidden @ h_weight.T\n",
        "    else:\n",
        "        h_grad = o_grad\n",
        "\n",
        "    tanh_deriv = 1 - hiddens[i,:][np.newaxis,:] ** 2\n",
        "    h_grad = np.multiply(h_grad, tanh_deriv)\n",
        "\n",
        "    next_hidden = h_grad\n",
        "\n",
        "    # Don't update the hidden weights for the first sequence position\n",
        "    if i > 0:\n",
        "        h_weight_grad += hiddens[i-1,:][:,np.newaxis] @ h_grad\n",
        "        h_bias_grad += np.mean(h_grad)\n",
        "\n",
        "    i_weight_grad += sequence[i].reshape(1,1).T @ h_grad"
      ]
    },
    {
      "cell_type": "markdown",
      "metadata": {
        "id": "dxALYCcvCzpD"
      },
      "source": [
        "We can then use gradient descent to make parameter updates:"
      ]
    },
    {
      "cell_type": "code",
      "execution_count": 116,
      "metadata": {
        "id": "Kx9weKCiCzpD"
      },
      "outputs": [],
      "source": [
        "lr = 1e-6\n",
        "# We'll divide the learning rate by the sequence length, since we were adding together the gradients\n",
        "# This makes training the model more stable\n",
        "lr = lr / 3\n",
        "\n",
        "i_weight -= i_weight_grad * lr\n",
        "h_weight -= h_weight_grad * lr\n",
        "h_bias -= h_bias_grad * lr\n",
        "o_weight -= o_weight_grad * lr\n",
        "o_bias -= o_bias_grad * lr"
      ]
    },
    {
      "cell_type": "markdown",
      "source": [
        "## Combining all code together\n",
        "RNN uses gradient descent just like many other models.\n",
        "1. Randomly initialize the parameters (weights and biases).\n",
        "2. Compute the gradient of the cost function in respect to the weights and biases\n",
        "3. We use this gradient to update the weights and biases (minus the weights and biases by the gradients times a tiny number called learning rate)\n",
        "4. Repeat for as many times as time and computation resource permits"
      ],
      "metadata": {
        "collapsed": false,
        "id": "9c77gPVlCzpD"
      }
    },
    {
      "cell_type": "markdown",
      "source": [
        "## Prepare data\n",
        "We will use max temperature, min temperature, and rain to predict future temperatures"
      ],
      "metadata": {
        "id": "I_PrRzMyf9KN"
      }
    },
    {
      "cell_type": "code",
      "execution_count": 117,
      "metadata": {
        "id": "s10KcQ1rCzpE"
      },
      "outputs": [],
      "source": [
        "from sklearn.preprocessing import StandardScaler\n",
        "import math\n",
        "\n",
        "# Define predictors and target\n",
        "PREDICTORS = [\"tmax\", \"tmin\", \"rain\"]\n",
        "TARGET = \"tmax_tomorrow\"\n",
        "\n",
        "# Scale our data to have mean 0\n",
        "scaler = StandardScaler()\n",
        "data[PREDICTORS] = scaler.fit_transform(data[PREDICTORS])\n",
        "\n",
        "# Split into train, valid, test sets\n",
        "split_data = np.split(data, [int(.7*len(data)), int(.85*len(data))])\n",
        "(train_x, train_y), (valid_x, valid_y), (test_x, test_y) = [[d[PREDICTORS].to_numpy(), d[[TARGET]].to_numpy()] for d in split_data]"
      ]
    },
    {
      "cell_type": "markdown",
      "source": [
        "Then we can initialize our weights and biases.  We'll scale our parameters so they are relatively small.  This helps the network descend better:"
      ],
      "metadata": {
        "collapsed": false,
        "id": "FxWki8nzCzpF"
      }
    },
    {
      "cell_type": "code",
      "execution_count": 127,
      "metadata": {
        "id": "XTJ9YKqECzpF"
      },
      "outputs": [],
      "source": [
        "def initialize_weights_and_biases(layer_conf):\n",
        "    layers = []\n",
        "    for i in range(1, len(layer_conf)):\n",
        "        k = 1/math.sqrt(layer_conf[i][\"hidden\"])\n",
        "\n",
        "        i_weight = np.random.rand(layer_conf[i-1][\"units\"], layer_conf[i][\"hidden\"])\n",
        "        i_weight = (i_weight-0.5)*2*k\n",
        "\n",
        "        h_weight = np.random.rand(layer_conf[i][\"hidden\"], layer_conf[i][\"hidden\"])\n",
        "        h_weight = (h_weight-0.5)*2*k\n",
        "        h_bias = np.random.rand(1, layer_conf[i][\"hidden\"])\n",
        "        h_bias = (h_bias-0.5)*2*k\n",
        "\n",
        "        o_weight = np.random.rand(layer_conf[i][\"hidden\"], layer_conf[i][\"output\"])\n",
        "        o_weight = (o_weight-0.5)*2*k\n",
        "        o_bias = np.random.rand(1, layer_conf[i][\"output\"])\n",
        "        o_bias = (o_bias-0.5)*2*k\n",
        "\n",
        "        layers.append(\n",
        "            [i_weight, h_weight, h_bias, o_weight, o_bias]\n",
        "        )\n",
        "    return layers"
      ]
    },
    {
      "cell_type": "code",
      "source": [
        "x_variable_counts=3 # we have 3 variable used to predict future weather (max temperature, min temperature, and rain)\n",
        "\n",
        "layer_conf = [\n",
        "    {\"type\":\"input\", \"units\": x_variable_counts},\n",
        "    {\"type\": \"rnn\", \"hidden\": 4, \"output\": 1, \"units\":1}\n",
        "]\n",
        "layers = initialize_weights_and_biases(layer_conf)\n",
        "print(layers) # a list of layers, which every layer contains [i_weight, h_weight, h_bias, o_weight, o_bias]"
      ],
      "metadata": {
        "colab": {
          "base_uri": "https://localhost:8080/"
        },
        "id": "IbHrGHTPz5om",
        "outputId": "86208b8d-dfd1-4763-8a14-d74dc0e01988"
      },
      "execution_count": 133,
      "outputs": [
        {
          "output_type": "stream",
          "name": "stdout",
          "text": [
            "[[array([[0.5488135 , 0.71518937, 0.60276338, 0.54488318],\n",
            "       [0.4236548 , 0.64589411, 0.43758721, 0.891773  ],\n",
            "       [0.96366276, 0.38344152, 0.79172504, 0.52889492]]), array([[0.56804456, 0.92559664, 0.07103606, 0.0871293 ],\n",
            "       [0.0202184 , 0.83261985, 0.77815675, 0.87001215],\n",
            "       [0.97861834, 0.79915856, 0.46147936, 0.78052918],\n",
            "       [0.11827443, 0.63992102, 0.14335329, 0.94466892]]), array([[0.52184832, 0.41466194, 0.26455561, 0.77423369]]), array([[0.45615033],\n",
            "       [0.56843395],\n",
            "       [0.0187898 ],\n",
            "       [0.6176355 ]]), array([[0.61209572]])]]\n"
          ]
        }
      ]
    },
    {
      "cell_type": "markdown",
      "source": [
        "Then we'll write a forward pass:"
      ],
      "metadata": {
        "collapsed": false,
        "id": "-VEKX_ITCzpF"
      }
    },
    {
      "cell_type": "code",
      "execution_count": 119,
      "metadata": {
        "id": "nxWB7AahCzpG"
      },
      "outputs": [],
      "source": [
        "def forward(x, layers):\n",
        "    hiddens = []\n",
        "    outputs = []\n",
        "    for layer in layers: # go over each layers\n",
        "        i_weight, h_weight, h_bias, o_weight, o_bias = layers # unpack the parameters of the current layer\n",
        "\n",
        "        # initialize the hidden and output matrices as zeros\n",
        "        hidden = np.zeros((x.shape[0], i_weight.shape[1]))\n",
        "        output = np.zeros((x.shape[0], o_weight.shape[1]))\n",
        "\n",
        "        for j in range(x.shape[0]):\n",
        "            input_x = x[j,:][np.newaxis,:]  # take the j-th row of the temperature data, and convert it to a 2D row matrix (so we can perform maxtrix multiplications later)\n",
        "            input_x = np.dot(input_x, i_weight)\n",
        "            hidden_x = input_x + np.dot(hidden[max(j-1,0),:][np.newaxis,:], h_weight) + h_bias\n",
        "\n",
        "            # Activation function to avoids outputs getting larger and larger.\n",
        "            hidden_x = np.tanh(hidden_x)\n",
        "            hidden[j,:] = hidden_x # Store hidden for use in backprop\n",
        "\n",
        "            # Output layer\n",
        "            output_x = np.dot(hidden_x, o_weight) + o_bias\n",
        "            output[j,:] = output_x\n",
        "        hiddens.append(hidden)\n",
        "        outputs.append(output)\n",
        "    return hiddens, outputs[-1]"
      ]
    },
    {
      "cell_type": "markdown",
      "source": [
        "And a backward pass:"
      ],
      "metadata": {
        "collapsed": false,
        "id": "C1LyZ2T0CzpG"
      }
    },
    {
      "cell_type": "code",
      "execution_count": 120,
      "metadata": {
        "id": "so0QDIdBCzpH"
      },
      "outputs": [],
      "source": [
        "def backward(layers, x, lr, grad, hiddens):\n",
        "    for i in range(len(layers)):\n",
        "        i_weight, h_weight, h_bias, o_weight, o_bias = layers[i]\n",
        "        hidden = hiddens[i]\n",
        "        next_h_grad = None\n",
        "        i_weight_grad, h_weight_grad, h_bias_grad, o_weight_grad, o_bias_grad = [0] * 5\n",
        "\n",
        "        for j in range(x.shape[0] - 1, -1, -1):\n",
        "            # Add newaxis in the first dimension\n",
        "            out_grad = grad[j,:][np.newaxis, :]\n",
        "\n",
        "            # Output updates\n",
        "            # np.newaxis creates a size 1 axis, in this case transposing matrix\n",
        "            o_weight_grad += hidden[j,:][:, np.newaxis] @ out_grad\n",
        "            o_bias_grad += out_grad\n",
        "\n",
        "            # Propagate gradient to hidden unit\n",
        "            h_grad = out_grad @ o_weight.T\n",
        "\n",
        "            if j < x.shape[0] - 1:\n",
        "                # Then we multiply the gradient by the hidden weights to pull gradient from next hidden state to current hidden state\n",
        "                hh_grad = next_h_grad @ h_weight.T\n",
        "                # Add the gradients together to combine output contribution and hidden contribution\n",
        "                h_grad += hh_grad\n",
        "\n",
        "            # Pull the gradient across the current hidden nonlinearity\n",
        "            # derivative of tanh is 1 - tanh(x) ** 2\n",
        "            # So we take the output of tanh (next hidden state), and plug in\n",
        "            tanh_deriv = 1 - hidden[j][np.newaxis,:] ** 2\n",
        "\n",
        "            # next_h_grad @ np.diag(tanh_deriv_next) multiplies each element of next_h_grad by the deriv\n",
        "            # Effect is to pull value across nonlinearity\n",
        "            h_grad = np.multiply(h_grad, tanh_deriv)\n",
        "\n",
        "            # Store to compute h grad for previous sequence position\n",
        "            next_h_grad = h_grad.copy()\n",
        "\n",
        "            # If we're not at the very beginning\n",
        "            if j > 0:\n",
        "                # Multiply input from previous layer by post-nonlinearity grad at current layer\n",
        "                h_weight_grad += hidden[j-1][:, np.newaxis] @ h_grad\n",
        "                h_bias_grad += h_grad\n",
        "\n",
        "            i_weight_grad += x[j,:][:,np.newaxis] @ h_grad\n",
        "\n",
        "        # Normalize lr by number of sequence elements\n",
        "        lr = lr / x.shape[0]\n",
        "        i_weight -= i_weight_grad * lr\n",
        "        h_weight -= h_weight_grad * lr\n",
        "        h_bias -= h_bias_grad * lr\n",
        "        o_weight -= o_weight_grad * lr\n",
        "        o_bias -= o_bias_grad * lr\n",
        "        layers[i] = [i_weight, h_weight, h_bias, o_weight, o_bias]\n",
        "    return layers"
      ]
    },
    {
      "cell_type": "markdown",
      "source": [
        "We can end by setting up a training loop and measuring error:"
      ],
      "metadata": {
        "collapsed": false,
        "id": "V_JT1lfbCzpI"
      }
    },
    {
      "cell_type": "code",
      "execution_count": 134,
      "metadata": {
        "colab": {
          "base_uri": "https://localhost:8080/"
        },
        "id": "E8lZW2GvCzpI",
        "outputId": "d8a4ff30-b968-4a48-b4c4-5bc19b03a023"
      },
      "outputs": [
        {
          "output_type": "stream",
          "name": "stdout",
          "text": [
            "Epoch: 0 train loss 2949.1919992576263 valid loss 2028.442741715602\n",
            "Epoch: 10 train loss 83.61585720435076 valid loss 79.95254466455911\n",
            "Epoch: 20 train loss 51.914984911403536 valid loss 51.74082167225961\n",
            "Epoch: 30 train loss 33.18513275837844 valid loss 32.92519177883122\n",
            "Epoch: 40 train loss 31.335418268040428 valid loss 31.062168541591795\n",
            "Epoch: 50 train loss 29.056031155570814 valid loss 28.646760835546615\n",
            "Epoch: 60 train loss 27.101575786740906 valid loss 26.739042709977937\n",
            "Epoch: 70 train loss 26.00327342715319 valid loss 25.65509943360326\n",
            "Epoch: 80 train loss 25.48751477116812 valid loss 25.013515511618564\n",
            "Epoch: 90 train loss 25.086916198729245 valid loss 24.487539922896197\n",
            "Epoch: 100 train loss 24.28947935389946 valid loss 23.586073402923606\n",
            "Epoch: 110 train loss 23.555324527842117 valid loss 22.804264092788625\n",
            "Epoch: 120 train loss 23.074797444924872 valid loss 22.3012758137504\n",
            "Epoch: 130 train loss 22.760821565532396 valid loss 21.9767636118124\n",
            "Epoch: 140 train loss 22.543999542708836 valid loss 21.756440405719168\n",
            "Epoch: 150 train loss 22.38953897373295 valid loss 21.6029845173447\n",
            "Epoch: 160 train loss 22.28072871368458 valid loss 21.49822993374605\n",
            "Epoch: 170 train loss 22.20542690591025 valid loss 21.42882116377842\n",
            "Epoch: 180 train loss 22.143350591845792 valid loss 21.372909768005943\n",
            "Epoch: 190 train loss 22.07348043889597 valid loss 21.308340286098595\n",
            "Epoch: 199 train loss 22.009327137410363 valid loss 21.247815299587746\n"
          ]
        }
      ],
      "source": [
        "epoch_count = 150\n",
        "lr = 1e-5\n",
        "\n",
        "\n",
        "for epoch in range(epoch_count): # repeat 200 times\n",
        "    sequence_len = 7\n",
        "    epoch_loss = 0\n",
        "    for j in range(train_x.shape[0] - sequence_len):\n",
        "        # make the sequence slices\n",
        "        seq_x = train_x[j:(j+sequence_len),]\n",
        "        seq_y = train_y[j:(j+sequence_len),]\n",
        "\n",
        "        # perform forward propagation\n",
        "        hiddens, outputs = forward(seq_x, layers)\n",
        "\n",
        "        # calculate gradient and perform gradient descent\n",
        "        grad = mse_gradient(seq_y, outputs)\n",
        "        backward(layers, seq_x, lr, grad, hiddens)\n",
        "\n",
        "        # add up the loss. This is unncessary for training. It is only used for viewing progress of the model trainining\n",
        "        epoch_loss += mse(seq_y, outputs)\n",
        "\n",
        "    # run for every 50 times:\n",
        "    if epoch % 10 == 0 or epoch==epoch_count-1:\n",
        "        # calculate MSE loss\n",
        "        valid_loss = 0\n",
        "        for j in range(valid_x.shape[0] - sequence_len):\n",
        "            seq_x = valid_x[j:(j+sequence_len),]\n",
        "            seq_y = valid_y[j:(j+sequence_len),]\n",
        "            hiddens, outputs = forward(seq_x, layers)\n",
        "            valid_loss += mse(seq_y, outputs)\n",
        "\n",
        "        print(f\"Epoch: {epoch} train loss {epoch_loss / len(train_x)} valid loss {valid_loss / len(valid_x)}\")"
      ]
    },
    {
      "cell_type": "code",
      "source": [
        "def predict(model, input_sequence):\n",
        "    hiddens, outputs = forward(input_sequence, model)\n",
        "    return outputs[-1]  # Return the output of the last time step as prediction\n",
        "\n",
        "# Make predictions on the test dataset\n",
        "sequence_len = 7\n",
        "predictions = []\n",
        "for i in range(test_x.shape[0] - sequence_len):\n",
        "    seq_x = test_x[i:(i+sequence_len),] # sequence of 7 days of temperature\n",
        "    predicted_output = predict(layers, seq_x) # make prediction\n",
        "    predictions.append(predicted_output) #\n"
      ],
      "metadata": {
        "id": "OvTsBPvqaMgi"
      },
      "execution_count": 135,
      "outputs": []
    },
    {
      "cell_type": "code",
      "source": [
        "# Convert the predictions and actual temperature to numpy arrays\n",
        "predictions = np.array(predictions)\n",
        "actual_values = test_y[sequence_len:]\n",
        "\n",
        "# Plot the actual vs. predicted values\n",
        "plt.figure(figsize=(10, 6))\n",
        "plt.plot(actual_values, label='Actual', color='blue')\n",
        "plt.plot(predictions, label='Predicted', color='red', linestyle='dashed')\n",
        "plt.xlabel('Time Step')\n",
        "plt.ylabel('Temperature (Fahrenheit)')\n",
        "plt.title('Actual vs. Predicted Temperature')\n",
        "plt.legend()\n",
        "plt.grid(True)\n",
        "plt.show()"
      ],
      "metadata": {
        "colab": {
          "base_uri": "https://localhost:8080/",
          "height": 564
        },
        "id": "LQHs5PHVgqpr",
        "outputId": "5de49ecf-ae9a-4170-e18f-b74a62dac229"
      },
      "execution_count": 136,
      "outputs": [
        {
          "output_type": "display_data",
          "data": {
            "text/plain": [
              "<Figure size 1000x600 with 1 Axes>"
            ],
            "image/png": "[encoded data removed]"
          },
          "metadata": {}
        }
      ]
    },
    {
      "cell_type": "code",
      "source": [
        "# Plot the scatter plot of predicted vs. actual values\n",
        "plt.figure(figsize=(8, 6))\n",
        "plt.scatter(actual_values, predictions, color='b', alpha=0.6,s=5)\n",
        "plt.xlabel('Actual Temperature')\n",
        "plt.ylabel('Predicted Temperature')\n",
        "plt.title('Scatter Plot: Predicted vs. Actual Values')\n",
        "plt.grid(True)\n",
        "plt.show()"
      ],
      "metadata": {
        "colab": {
          "base_uri": "https://localhost:8080/",
          "height": 564
        },
        "id": "N9DKTL_pgQO-",
        "outputId": "253a1ecb-1ca7-4e3d-c0d0-a7e660b1c0ad"
      },
      "execution_count": 137,
      "outputs": [
        {
          "output_type": "display_data",
          "data": {
            "text/plain": [
              "<Figure size 800x600 with 1 Axes>"
            ],
            "image/png": "[encoded data removed]"
          },
          "metadata": {}
        }
      ]
    },
    {
      "cell_type": "markdown",
      "source": [
        "As we can see above, the network reduces training and validation loss over successive epochs.  It will perform similarly to the RNN implementation in Pytorch, but it will descend more slowly.\n",
        "\n",
        "## References\n",
        "- https://github.com/gy910210/rnn-from-scratch\n",
        "- https://github.com/VikParuchuri/zero_to_gpt/blob/master/explanations/rnn.ipynb\n"
      ],
      "metadata": {
        "collapsed": false,
        "id": "iFkrYC35CzpI"
      }
    }
  ],
  "metadata": {
    "kernelspec": {
      "display_name": "Python 3 (ipykernel)",
      "language": "python",
      "name": "python3"
    },
    "language_info": {
      "codemirror_mode": {
        "name": "ipython",
        "version": 3
      },
      "file_extension": ".py",
      "mimetype": "text/x-python",
      "name": "python",
      "nbconvert_exporter": "python",
      "pygments_lexer": "ipython3",
      "version": "3.11.0"
    },
    "colab": {
      "provenance": [],
      "include_colab_link": true
    }
  },
  "nbformat": 4,
  "nbformat_minor": 0
}